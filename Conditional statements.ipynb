{
 "cells": [
  {
   "cell_type": "markdown",
   "metadata": {},
   "source": [
    "### Conditional statements"
   ]
  },
  {
   "cell_type": "markdown",
   "metadata": {},
   "source": [
    "<b>if statement</b>\n",
    "    \n",
    "Syntax - \n",
    "\n",
    "if (<b>condition</b>) {\n",
    "  \n",
    "    #code\n",
    " \n",
    "}\n",
    "\n",
    "<b>code</b> executes if <b>condition</b> returns <b>TRUE</b>"
   ]
  },
  {
   "cell_type": "code",
   "execution_count": 8,
   "metadata": {},
   "outputs": [],
   "source": [
    "age <- 20"
   ]
  },
  {
   "cell_type": "code",
   "execution_count": 9,
   "metadata": {},
   "outputs": [
    {
     "name": "stdout",
     "output_type": "stream",
     "text": [
      "[1] \"Eligible\"\n"
     ]
    }
   ],
   "source": [
    "if(age >= 18){\n",
    "    \n",
    "    print(\"Eligible\")\n",
    "}"
   ]
  },
  {
   "cell_type": "code",
   "execution_count": 18,
   "metadata": {},
   "outputs": [],
   "source": [
    "age <- 12\n",
    "\n",
    "if(age >= 18){\n",
    "    \n",
    "    print(\"Eligible\")\n",
    "}\n"
   ]
  },
  {
   "cell_type": "markdown",
   "metadata": {},
   "source": [
    "<b>if else statement</b>\n",
    "\n",
    "Syntax - \n",
    "\n",
    "if (<b>condition</b>) {\n",
    "  \n",
    "    #code 1\n",
    " \n",
    "}else{\n",
    "  \n",
    "    #code 2\n",
    "}\n",
    "\n",
    "<b>code 1</b> executes if <b>condition</b> returns <b>TRUE,</b> else <b>code 2  </b>executes"
   ]
  },
  {
   "cell_type": "code",
   "execution_count": 12,
   "metadata": {},
   "outputs": [
    {
     "name": "stdout",
     "output_type": "stream",
     "text": [
      "[1] \"Not Eligible\"\n"
     ]
    }
   ],
   "source": [
    "age <- 12\n",
    "\n",
    "if(age >= 18){\n",
    "    \n",
    "    print(\"Eligible\")\n",
    "}else{\n",
    "    \n",
    "     print(\"Not Eligible\")\n",
    "}"
   ]
  },
  {
   "cell_type": "markdown",
   "metadata": {},
   "source": [
    "<hr>\n",
    "<b>if else-if else statement</b>\n",
    "\n",
    "if else-if else statements are used for handling multiple conditions\n",
    "\n",
    "Syntax - \n",
    "\n",
    "if (<b>condition 1</b>) {\n",
    "  \n",
    "    #code 1\n",
    " \n",
    "}else if(<b>condition 2</b>){\n",
    "  \n",
    "    #code 2\n",
    "    \n",
    "}else if(<b>condition 3</b>){\n",
    "  \n",
    "    #code 3 \n",
    "}else{\n",
    "\n",
    "    #code 4\n",
    "}\n",
    "\n",
    "<b>code 1</b> executes if <b>condition 1</b> returns <b>TRUE</b><br>\n",
    "<b>code 2 </b> executes if <b> condition 2 </b> returns <b> TRUE </b><br>\n",
    "<b>code 3</b> executes if <b>condition 3</b> returns <b>TRUE</b><br>\n",
    "else <b>code 4</b> executes"
   ]
  },
  {
   "cell_type": "code",
   "execution_count": 15,
   "metadata": {},
   "outputs": [],
   "source": [
    "percentage <- 78"
   ]
  },
  {
   "cell_type": "code",
   "execution_count": 17,
   "metadata": {},
   "outputs": [
    {
     "name": "stdout",
     "output_type": "stream",
     "text": [
      "[1] \"Grade A\"\n"
     ]
    }
   ],
   "source": [
    "if(percentage >= 80){\n",
    "    \n",
    "    print(\"Grade A+\")\n",
    "    \n",
    "}else if(percentage >= 70){\n",
    "    \n",
    "    print(\"Grade A\")\n",
    "    \n",
    "}else if(percentage >= 60){\n",
    "    \n",
    "    print(\"Grade B\")\n",
    "    \n",
    "}else{\n",
    "    \n",
    "    print(\"Grade C\")\n",
    "}\n",
    "    "
   ]
  }
 ],
 "metadata": {
  "kernelspec": {
   "display_name": "R",
   "language": "R",
   "name": "ir"
  },
  "language_info": {
   "codemirror_mode": "r",
   "file_extension": ".r",
   "mimetype": "text/x-r-source",
   "name": "R",
   "pygments_lexer": "r",
   "version": "3.6.0"
  }
 },
 "nbformat": 4,
 "nbformat_minor": 2
}
