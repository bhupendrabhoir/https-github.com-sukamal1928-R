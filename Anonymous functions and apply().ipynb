{
 "cells": [
  {
   "cell_type": "markdown",
   "metadata": {},
   "source": [
    "# Anonymous functions and apply()"
   ]
  },
  {
   "cell_type": "markdown",
   "metadata": {},
   "source": [
    "2) <b>lapply()</b> and <b>sapply()</b> functions are used to apply a function over a list or a vector.\n",
    "\n",
    "3) <b>lapply()</b> returns a list and <b>sapply()</b> returns a vector"
   ]
  },
  {
   "cell_type": "code",
   "execution_count": 1,
   "metadata": {},
   "outputs": [],
   "source": [
    "#defining a square function\n",
    "\n",
    "square <- function(x){\n",
    "    \n",
    "    return(x^2)\n",
    "}"
   ]
  },
  {
   "cell_type": "code",
   "execution_count": 3,
   "metadata": {},
   "outputs": [
    {
     "data": {
      "text/html": [
       "9"
      ],
      "text/latex": [
       "9"
      ],
      "text/markdown": [
       "9"
      ],
      "text/plain": [
       "[1] 9"
      ]
     },
     "metadata": {},
     "output_type": "display_data"
    }
   ],
   "source": [
    "square(3)"
   ]
  },
  {
   "cell_type": "code",
   "execution_count": 6,
   "metadata": {},
   "outputs": [],
   "source": [
    "# defining a vector and a list \n",
    "\n",
    "v <- c(1,2,3,4)\n",
    "\n",
    "l <- list(10,20,30,40)"
   ]
  },
  {
   "cell_type": "code",
   "execution_count": 15,
   "metadata": {},
   "outputs": [
    {
     "data": {
      "text/html": [
       "<ol>\n",
       "\t<li>1</li>\n",
       "\t<li>4</li>\n",
       "\t<li>9</li>\n",
       "\t<li>16</li>\n",
       "</ol>\n"
      ],
      "text/latex": [
       "\\begin{enumerate}\n",
       "\\item 1\n",
       "\\item 4\n",
       "\\item 9\n",
       "\\item 16\n",
       "\\end{enumerate}\n"
      ],
      "text/markdown": [
       "1. 1\n",
       "2. 4\n",
       "3. 9\n",
       "4. 16\n",
       "\n",
       "\n"
      ],
      "text/plain": [
       "[[1]]\n",
       "[1] 1\n",
       "\n",
       "[[2]]\n",
       "[1] 4\n",
       "\n",
       "[[3]]\n",
       "[1] 9\n",
       "\n",
       "[[4]]\n",
       "[1] 16\n"
      ]
     },
     "metadata": {},
     "output_type": "display_data"
    }
   ],
   "source": [
    "# using lapply()\n",
    "lapply(v,square)"
   ]
  },
  {
   "cell_type": "code",
   "execution_count": 16,
   "metadata": {},
   "outputs": [
    {
     "data": {
      "text/html": [
       "<ol>\n",
       "\t<li>100</li>\n",
       "\t<li>400</li>\n",
       "\t<li>900</li>\n",
       "\t<li>1600</li>\n",
       "</ol>\n"
      ],
      "text/latex": [
       "\\begin{enumerate}\n",
       "\\item 100\n",
       "\\item 400\n",
       "\\item 900\n",
       "\\item 1600\n",
       "\\end{enumerate}\n"
      ],
      "text/markdown": [
       "1. 100\n",
       "2. 400\n",
       "3. 900\n",
       "4. 1600\n",
       "\n",
       "\n"
      ],
      "text/plain": [
       "[[1]]\n",
       "[1] 100\n",
       "\n",
       "[[2]]\n",
       "[1] 400\n",
       "\n",
       "[[3]]\n",
       "[1] 900\n",
       "\n",
       "[[4]]\n",
       "[1] 1600\n"
      ]
     },
     "metadata": {},
     "output_type": "display_data"
    }
   ],
   "source": [
    "lapply(l, square)"
   ]
  },
  {
   "cell_type": "code",
   "execution_count": 18,
   "metadata": {},
   "outputs": [
    {
     "data": {
      "text/html": [
       "<ol class=list-inline>\n",
       "\t<li>1</li>\n",
       "\t<li>4</li>\n",
       "\t<li>9</li>\n",
       "\t<li>16</li>\n",
       "</ol>\n"
      ],
      "text/latex": [
       "\\begin{enumerate*}\n",
       "\\item 1\n",
       "\\item 4\n",
       "\\item 9\n",
       "\\item 16\n",
       "\\end{enumerate*}\n"
      ],
      "text/markdown": [
       "1. 1\n",
       "2. 4\n",
       "3. 9\n",
       "4. 16\n",
       "\n",
       "\n"
      ],
      "text/plain": [
       "[1]  1  4  9 16"
      ]
     },
     "metadata": {},
     "output_type": "display_data"
    }
   ],
   "source": [
    "# using sapply()\n",
    "sapply(v,square)"
   ]
  },
  {
   "cell_type": "code",
   "execution_count": 19,
   "metadata": {},
   "outputs": [
    {
     "data": {
      "text/html": [
       "<ol class=list-inline>\n",
       "\t<li>100</li>\n",
       "\t<li>400</li>\n",
       "\t<li>900</li>\n",
       "\t<li>1600</li>\n",
       "</ol>\n"
      ],
      "text/latex": [
       "\\begin{enumerate*}\n",
       "\\item 100\n",
       "\\item 400\n",
       "\\item 900\n",
       "\\item 1600\n",
       "\\end{enumerate*}\n"
      ],
      "text/markdown": [
       "1. 100\n",
       "2. 400\n",
       "3. 900\n",
       "4. 1600\n",
       "\n",
       "\n"
      ],
      "text/plain": [
       "[1]  100  400  900 1600"
      ]
     },
     "metadata": {},
     "output_type": "display_data"
    }
   ],
   "source": [
    "sapply(l,square)"
   ]
  },
  {
   "cell_type": "markdown",
   "metadata": {},
   "source": [
    "### Anonymous function"
   ]
  },
  {
   "cell_type": "markdown",
   "metadata": {},
   "source": [
    "An anonymous function is a function without name, that can be directly defined inside the lapply() or sapply() function"
   ]
  },
  {
   "cell_type": "code",
   "execution_count": 22,
   "metadata": {},
   "outputs": [
    {
     "data": {
      "text/html": [
       "<ol class=list-inline>\n",
       "\t<li>3</li>\n",
       "\t<li>4</li>\n",
       "\t<li>5</li>\n",
       "\t<li>6</li>\n",
       "</ol>\n"
      ],
      "text/latex": [
       "\\begin{enumerate*}\n",
       "\\item 3\n",
       "\\item 4\n",
       "\\item 5\n",
       "\\item 6\n",
       "\\end{enumerate*}\n"
      ],
      "text/markdown": [
       "1. 3\n",
       "2. 4\n",
       "3. 5\n",
       "4. 6\n",
       "\n",
       "\n"
      ],
      "text/plain": [
       "[1] 3 4 5 6"
      ]
     },
     "metadata": {},
     "output_type": "display_data"
    }
   ],
   "source": [
    "sapply(v,function(x){ return (x+2)})"
   ]
  },
  {
   "cell_type": "code",
   "execution_count": 25,
   "metadata": {},
   "outputs": [
    {
     "data": {
      "text/html": [
       "<ol class=list-inline>\n",
       "\t<li>6.90775527898214</li>\n",
       "\t<li>6.90875477931522</li>\n",
       "\t<li>6.90975328164481</li>\n",
       "\t<li>6.91075078796194</li>\n",
       "\t<li>6.91174730025167</li>\n",
       "\t<li>6.91274282049318</li>\n",
       "\t<li>6.91373735065968</li>\n",
       "\t<li>6.91473089271856</li>\n",
       "\t<li>6.91572344863131</li>\n",
       "\t<li>6.91671502035361</li>\n",
       "\t<li>6.9177056098353</li>\n",
       "</ol>\n"
      ],
      "text/latex": [
       "\\begin{enumerate*}\n",
       "\\item 6.90775527898214\n",
       "\\item 6.90875477931522\n",
       "\\item 6.90975328164481\n",
       "\\item 6.91075078796194\n",
       "\\item 6.91174730025167\n",
       "\\item 6.91274282049318\n",
       "\\item 6.91373735065968\n",
       "\\item 6.91473089271856\n",
       "\\item 6.91572344863131\n",
       "\\item 6.91671502035361\n",
       "\\item 6.9177056098353\n",
       "\\end{enumerate*}\n"
      ],
      "text/markdown": [
       "1. 6.90775527898214\n",
       "2. 6.90875477931522\n",
       "3. 6.90975328164481\n",
       "4. 6.91075078796194\n",
       "5. 6.91174730025167\n",
       "6. 6.91274282049318\n",
       "7. 6.91373735065968\n",
       "8. 6.91473089271856\n",
       "9. 6.91572344863131\n",
       "10. 6.91671502035361\n",
       "11. 6.9177056098353\n",
       "\n",
       "\n"
      ],
      "text/plain": [
       " [1] 6.907755 6.908755 6.909753 6.910751 6.911747 6.912743 6.913737 6.914731\n",
       " [9] 6.915723 6.916715 6.917706"
      ]
     },
     "metadata": {},
     "output_type": "display_data"
    }
   ],
   "source": [
    "sapply(1000:1010,function(x){ return (log(x))})"
   ]
  },
  {
   "cell_type": "code",
   "execution_count": 26,
   "metadata": {},
   "outputs": [
    {
     "data": {
      "text/html": [
       "<ol class=list-inline>\n",
       "\t<li>31.6227766016838</li>\n",
       "\t<li>31.6385840391128</li>\n",
       "\t<li>31.6543835826888</li>\n",
       "\t<li>31.6701752442262</li>\n",
       "\t<li>31.6859590355097</li>\n",
       "\t<li>31.7017349682947</li>\n",
       "\t<li>31.7175030543074</li>\n",
       "\t<li>31.7332633052449</li>\n",
       "\t<li>31.7490157327751</li>\n",
       "\t<li>31.7647603485372</li>\n",
       "\t<li>31.7804971641414</li>\n",
       "</ol>\n"
      ],
      "text/latex": [
       "\\begin{enumerate*}\n",
       "\\item 31.6227766016838\n",
       "\\item 31.6385840391128\n",
       "\\item 31.6543835826888\n",
       "\\item 31.6701752442262\n",
       "\\item 31.6859590355097\n",
       "\\item 31.7017349682947\n",
       "\\item 31.7175030543074\n",
       "\\item 31.7332633052449\n",
       "\\item 31.7490157327751\n",
       "\\item 31.7647603485372\n",
       "\\item 31.7804971641414\n",
       "\\end{enumerate*}\n"
      ],
      "text/markdown": [
       "1. 31.6227766016838\n",
       "2. 31.6385840391128\n",
       "3. 31.6543835826888\n",
       "4. 31.6701752442262\n",
       "5. 31.6859590355097\n",
       "6. 31.7017349682947\n",
       "7. 31.7175030543074\n",
       "8. 31.7332633052449\n",
       "9. 31.7490157327751\n",
       "10. 31.7647603485372\n",
       "11. 31.7804971641414\n",
       "\n",
       "\n"
      ],
      "text/plain": [
       " [1] 31.62278 31.63858 31.65438 31.67018 31.68596 31.70173 31.71750 31.73326\n",
       " [9] 31.74902 31.76476 31.78050"
      ]
     },
     "metadata": {},
     "output_type": "display_data"
    }
   ],
   "source": [
    "sapply(1000:1010,function(x){ return (sqrt(x))})"
   ]
  }
 ],
 "metadata": {
  "kernelspec": {
   "display_name": "R",
   "language": "R",
   "name": "ir"
  },
  "language_info": {
   "codemirror_mode": "r",
   "file_extension": ".r",
   "mimetype": "text/x-r-source",
   "name": "R",
   "pygments_lexer": "r",
   "version": "3.6.0"
  }
 },
 "nbformat": 4,
 "nbformat_minor": 2
}
