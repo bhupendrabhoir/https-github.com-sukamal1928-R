{
 "cells": [
  {
   "cell_type": "markdown",
   "metadata": {},
   "source": [
    "# Support Vector Machine"
   ]
  },
  {
   "cell_type": "code",
   "execution_count": 14,
   "metadata": {},
   "outputs": [],
   "source": [
    "library(caTools)\n",
    "library(e1071)"
   ]
  },
  {
   "cell_type": "code",
   "execution_count": 16,
   "metadata": {},
   "outputs": [],
   "source": [
    "df <- read.csv(\"insurance.csv\")"
   ]
  },
  {
   "cell_type": "code",
   "execution_count": 17,
   "metadata": {},
   "outputs": [
    {
     "data": {
      "text/html": [
       "<table>\n",
       "<thead><tr><th scope=col>age</th><th scope=col>sex</th><th scope=col>bmi</th><th scope=col>children</th><th scope=col>smoker</th><th scope=col>region</th><th scope=col>charges</th><th scope=col>insuranceclaim</th></tr></thead>\n",
       "<tbody>\n",
       "\t<tr><td>19       </td><td>0        </td><td>27.900   </td><td>0        </td><td>1        </td><td>3        </td><td>16884.924</td><td>1        </td></tr>\n",
       "\t<tr><td>18       </td><td>1        </td><td>33.770   </td><td>1        </td><td>0        </td><td>2        </td><td> 1725.552</td><td>1        </td></tr>\n",
       "\t<tr><td>28       </td><td>1        </td><td>33.000   </td><td>3        </td><td>0        </td><td>2        </td><td> 4449.462</td><td>0        </td></tr>\n",
       "\t<tr><td>33       </td><td>1        </td><td>22.705   </td><td>0        </td><td>0        </td><td>1        </td><td>21984.471</td><td>0        </td></tr>\n",
       "\t<tr><td>32       </td><td>1        </td><td>28.880   </td><td>0        </td><td>0        </td><td>1        </td><td> 3866.855</td><td>1        </td></tr>\n",
       "\t<tr><td>31       </td><td>0        </td><td>25.740   </td><td>0        </td><td>0        </td><td>2        </td><td> 3756.622</td><td>0        </td></tr>\n",
       "</tbody>\n",
       "</table>\n"
      ],
      "text/latex": [
       "\\begin{tabular}{r|llllllll}\n",
       " age & sex & bmi & children & smoker & region & charges & insuranceclaim\\\\\n",
       "\\hline\n",
       "\t 19        & 0         & 27.900    & 0         & 1         & 3         & 16884.924 & 1        \\\\\n",
       "\t 18        & 1         & 33.770    & 1         & 0         & 2         &  1725.552 & 1        \\\\\n",
       "\t 28        & 1         & 33.000    & 3         & 0         & 2         &  4449.462 & 0        \\\\\n",
       "\t 33        & 1         & 22.705    & 0         & 0         & 1         & 21984.471 & 0        \\\\\n",
       "\t 32        & 1         & 28.880    & 0         & 0         & 1         &  3866.855 & 1        \\\\\n",
       "\t 31        & 0         & 25.740    & 0         & 0         & 2         &  3756.622 & 0        \\\\\n",
       "\\end{tabular}\n"
      ],
      "text/markdown": [
       "\n",
       "| age | sex | bmi | children | smoker | region | charges | insuranceclaim |\n",
       "|---|---|---|---|---|---|---|---|\n",
       "| 19        | 0         | 27.900    | 0         | 1         | 3         | 16884.924 | 1         |\n",
       "| 18        | 1         | 33.770    | 1         | 0         | 2         |  1725.552 | 1         |\n",
       "| 28        | 1         | 33.000    | 3         | 0         | 2         |  4449.462 | 0         |\n",
       "| 33        | 1         | 22.705    | 0         | 0         | 1         | 21984.471 | 0         |\n",
       "| 32        | 1         | 28.880    | 0         | 0         | 1         |  3866.855 | 1         |\n",
       "| 31        | 0         | 25.740    | 0         | 0         | 2         |  3756.622 | 0         |\n",
       "\n"
      ],
      "text/plain": [
       "  age sex bmi    children smoker region charges   insuranceclaim\n",
       "1 19  0   27.900 0        1      3      16884.924 1             \n",
       "2 18  1   33.770 1        0      2       1725.552 1             \n",
       "3 28  1   33.000 3        0      2       4449.462 0             \n",
       "4 33  1   22.705 0        0      1      21984.471 0             \n",
       "5 32  1   28.880 0        0      1       3866.855 1             \n",
       "6 31  0   25.740 0        0      2       3756.622 0             "
      ]
     },
     "metadata": {},
     "output_type": "display_data"
    }
   ],
   "source": [
    "head(df)"
   ]
  },
  {
   "cell_type": "code",
   "execution_count": 11,
   "metadata": {},
   "outputs": [],
   "source": [
    "set.seed(101)\n",
    "\n",
    "sample <- sample.split(df, SplitRatio = 0.70) # SplitRatio = percent of sample==TRUE\n",
    "\n",
    "# Training Data\n",
    "train = subset(df, sample == TRUE)\n",
    "\n",
    "# Testing Data\n",
    "test = subset(df, sample == FALSE)"
   ]
  },
  {
   "cell_type": "code",
   "execution_count": 18,
   "metadata": {},
   "outputs": [],
   "source": [
    "prediction <- function(model){\n",
    "    \n",
    "    results <- predict(model,newdata=test,type='class')\n",
    "    confuse.matrix <- table(test$insuranceclaim,results)\n",
    "    print(confuse.matrix)\n",
    "    \n",
    "}"
   ]
  },
  {
   "cell_type": "markdown",
   "metadata": {},
   "source": [
    "## Linear "
   ]
  },
  {
   "cell_type": "code",
   "execution_count": 19,
   "metadata": {},
   "outputs": [],
   "source": [
    "model1 <- svm(insuranceclaim ~ .,\n",
    "              data=train,\n",
    "              type=\"C-classification\",\n",
    "              kernel = \"linear\")"
   ]
  },
  {
   "cell_type": "code",
   "execution_count": 21,
   "metadata": {},
   "outputs": [
    {
     "name": "stdout",
     "output_type": "stream",
     "text": [
      "   results\n",
      "      0   1\n",
      "  0 177  21\n",
      "  1  30 273\n"
     ]
    }
   ],
   "source": [
    "prediction(model1)"
   ]
  },
  {
   "cell_type": "markdown",
   "metadata": {},
   "source": [
    "## Linear with cost (Soft margin)"
   ]
  },
  {
   "cell_type": "code",
   "execution_count": 26,
   "metadata": {},
   "outputs": [],
   "source": [
    "model2 <- svm(insuranceclaim ~ .,\n",
    "              data=train,\n",
    "              type=\"C-classification\",\n",
    "              kernel = \"linear\",\n",
    "              cost=10)"
   ]
  },
  {
   "cell_type": "code",
   "execution_count": 27,
   "metadata": {},
   "outputs": [
    {
     "name": "stdout",
     "output_type": "stream",
     "text": [
      "   results\n",
      "      0   1\n",
      "  0 178  20\n",
      "  1  30 273\n"
     ]
    }
   ],
   "source": [
    "prediction(model2)"
   ]
  },
  {
   "cell_type": "markdown",
   "metadata": {},
   "source": [
    "## Kernel function polynomial"
   ]
  },
  {
   "cell_type": "code",
   "execution_count": 28,
   "metadata": {},
   "outputs": [],
   "source": [
    "model3 <- svm(insuranceclaim ~ .,\n",
    "              data=train,\n",
    "              type=\"C-classification\",\n",
    "              kernel = \"polynomial\")"
   ]
  },
  {
   "cell_type": "code",
   "execution_count": 29,
   "metadata": {},
   "outputs": [
    {
     "name": "stdout",
     "output_type": "stream",
     "text": [
      "   results\n",
      "      0   1\n",
      "  0 180  18\n",
      "  1  37 266\n"
     ]
    }
   ],
   "source": [
    "prediction(model3)"
   ]
  },
  {
   "cell_type": "markdown",
   "metadata": {},
   "source": [
    "## Kernel function radial"
   ]
  },
  {
   "cell_type": "code",
   "execution_count": 30,
   "metadata": {},
   "outputs": [],
   "source": [
    "model4 <- svm(insuranceclaim ~ .,\n",
    "              data=train,\n",
    "              type=\"C-classification\",\n",
    "              kernel = \"radial\")"
   ]
  },
  {
   "cell_type": "code",
   "execution_count": 31,
   "metadata": {},
   "outputs": [
    {
     "name": "stdout",
     "output_type": "stream",
     "text": [
      "   results\n",
      "      0   1\n",
      "  0 181  17\n",
      "  1  38 265\n"
     ]
    }
   ],
   "source": [
    "prediction(model4)"
   ]
  }
 ],
 "metadata": {
  "kernelspec": {
   "display_name": "R",
   "language": "R",
   "name": "ir"
  },
  "language_info": {
   "codemirror_mode": "r",
   "file_extension": ".r",
   "mimetype": "text/x-r-source",
   "name": "R",
   "pygments_lexer": "r",
   "version": "3.6.0"
  }
 },
 "nbformat": 4,
 "nbformat_minor": 2
}
