{
 "cells": [
  {
   "cell_type": "markdown",
   "metadata": {},
   "source": [
    "# Linear Regression"
   ]
  },
  {
   "cell_type": "code",
   "execution_count": 1,
   "metadata": {},
   "outputs": [
    {
     "name": "stderr",
     "output_type": "stream",
     "text": [
      "Warning message:\n",
      "\"package 'dplyr' was built under R version 3.6.1\"\n",
      "Attaching package: 'dplyr'\n",
      "\n",
      "The following objects are masked from 'package:stats':\n",
      "\n",
      "    filter, lag\n",
      "\n",
      "The following objects are masked from 'package:base':\n",
      "\n",
      "    intersect, setdiff, setequal, union\n",
      "\n",
      "Registered S3 methods overwritten by 'ggplot2':\n",
      "  method         from \n",
      "  [.quosures     rlang\n",
      "  c.quosures     rlang\n",
      "  print.quosures rlang\n",
      "Warning message:\n",
      "\"package 'corrplot' was built under R version 3.6.1\"corrplot 0.84 loaded\n",
      "Warning message:\n",
      "\"package 'caTools' was built under R version 3.6.1\""
     ]
    }
   ],
   "source": [
    "library(dplyr)\n",
    "library(ggplot2)\n",
    "library(corrplot)\n",
    "library(caTools)\n",
    "library(modelr)"
   ]
  },
  {
   "cell_type": "code",
   "execution_count": 2,
   "metadata": {},
   "outputs": [],
   "source": [
    "df <- read.csv(\"Advertising.csv\")"
   ]
  },
  {
   "cell_type": "markdown",
   "metadata": {},
   "source": [
    "## Understanding data"
   ]
  },
  {
   "cell_type": "code",
   "execution_count": 3,
   "metadata": {},
   "outputs": [
    {
     "data": {
      "text/html": [
       "<table>\n",
       "<thead><tr><th scope=col>X</th><th scope=col>TV</th><th scope=col>radio</th><th scope=col>newspaper</th><th scope=col>sales</th></tr></thead>\n",
       "<tbody>\n",
       "\t<tr><td>1    </td><td>230.1</td><td>37.8 </td><td>69.2 </td><td>22.1 </td></tr>\n",
       "\t<tr><td>2    </td><td> 44.5</td><td>39.3 </td><td>45.1 </td><td>10.4 </td></tr>\n",
       "\t<tr><td>3    </td><td> 17.2</td><td>45.9 </td><td>69.3 </td><td> 9.3 </td></tr>\n",
       "\t<tr><td>4    </td><td>151.5</td><td>41.3 </td><td>58.5 </td><td>18.5 </td></tr>\n",
       "\t<tr><td>5    </td><td>180.8</td><td>10.8 </td><td>58.4 </td><td>12.9 </td></tr>\n",
       "\t<tr><td>6    </td><td>  8.7</td><td>48.9 </td><td>75.0 </td><td> 7.2 </td></tr>\n",
       "</tbody>\n",
       "</table>\n"
      ],
      "text/latex": [
       "\\begin{tabular}{r|lllll}\n",
       " X & TV & radio & newspaper & sales\\\\\n",
       "\\hline\n",
       "\t 1     & 230.1 & 37.8  & 69.2  & 22.1 \\\\\n",
       "\t 2     &  44.5 & 39.3  & 45.1  & 10.4 \\\\\n",
       "\t 3     &  17.2 & 45.9  & 69.3  &  9.3 \\\\\n",
       "\t 4     & 151.5 & 41.3  & 58.5  & 18.5 \\\\\n",
       "\t 5     & 180.8 & 10.8  & 58.4  & 12.9 \\\\\n",
       "\t 6     &   8.7 & 48.9  & 75.0  &  7.2 \\\\\n",
       "\\end{tabular}\n"
      ],
      "text/markdown": [
       "\n",
       "| X | TV | radio | newspaper | sales |\n",
       "|---|---|---|---|---|\n",
       "| 1     | 230.1 | 37.8  | 69.2  | 22.1  |\n",
       "| 2     |  44.5 | 39.3  | 45.1  | 10.4  |\n",
       "| 3     |  17.2 | 45.9  | 69.3  |  9.3  |\n",
       "| 4     | 151.5 | 41.3  | 58.5  | 18.5  |\n",
       "| 5     | 180.8 | 10.8  | 58.4  | 12.9  |\n",
       "| 6     |   8.7 | 48.9  | 75.0  |  7.2  |\n",
       "\n"
      ],
      "text/plain": [
       "  X TV    radio newspaper sales\n",
       "1 1 230.1 37.8  69.2      22.1 \n",
       "2 2  44.5 39.3  45.1      10.4 \n",
       "3 3  17.2 45.9  69.3       9.3 \n",
       "4 4 151.5 41.3  58.5      18.5 \n",
       "5 5 180.8 10.8  58.4      12.9 \n",
       "6 6   8.7 48.9  75.0       7.2 "
      ]
     },
     "metadata": {},
     "output_type": "display_data"
    }
   ],
   "source": [
    "head(df)"
   ]
  },
  {
   "cell_type": "code",
   "execution_count": 4,
   "metadata": {},
   "outputs": [],
   "source": [
    "df <- select(df,TV,radio,newspaper,sales)"
   ]
  },
  {
   "cell_type": "code",
   "execution_count": 5,
   "metadata": {},
   "outputs": [
    {
     "data": {
      "text/html": [
       "<table>\n",
       "<thead><tr><th scope=col>TV</th><th scope=col>radio</th><th scope=col>newspaper</th><th scope=col>sales</th></tr></thead>\n",
       "<tbody>\n",
       "\t<tr><td>230.1</td><td>37.8 </td><td>69.2 </td><td>22.1 </td></tr>\n",
       "\t<tr><td> 44.5</td><td>39.3 </td><td>45.1 </td><td>10.4 </td></tr>\n",
       "\t<tr><td> 17.2</td><td>45.9 </td><td>69.3 </td><td> 9.3 </td></tr>\n",
       "\t<tr><td>151.5</td><td>41.3 </td><td>58.5 </td><td>18.5 </td></tr>\n",
       "\t<tr><td>180.8</td><td>10.8 </td><td>58.4 </td><td>12.9 </td></tr>\n",
       "\t<tr><td>  8.7</td><td>48.9 </td><td>75.0 </td><td> 7.2 </td></tr>\n",
       "</tbody>\n",
       "</table>\n"
      ],
      "text/latex": [
       "\\begin{tabular}{r|llll}\n",
       " TV & radio & newspaper & sales\\\\\n",
       "\\hline\n",
       "\t 230.1 & 37.8  & 69.2  & 22.1 \\\\\n",
       "\t  44.5 & 39.3  & 45.1  & 10.4 \\\\\n",
       "\t  17.2 & 45.9  & 69.3  &  9.3 \\\\\n",
       "\t 151.5 & 41.3  & 58.5  & 18.5 \\\\\n",
       "\t 180.8 & 10.8  & 58.4  & 12.9 \\\\\n",
       "\t   8.7 & 48.9  & 75.0  &  7.2 \\\\\n",
       "\\end{tabular}\n"
      ],
      "text/markdown": [
       "\n",
       "| TV | radio | newspaper | sales |\n",
       "|---|---|---|---|\n",
       "| 230.1 | 37.8  | 69.2  | 22.1  |\n",
       "|  44.5 | 39.3  | 45.1  | 10.4  |\n",
       "|  17.2 | 45.9  | 69.3  |  9.3  |\n",
       "| 151.5 | 41.3  | 58.5  | 18.5  |\n",
       "| 180.8 | 10.8  | 58.4  | 12.9  |\n",
       "|   8.7 | 48.9  | 75.0  |  7.2  |\n",
       "\n"
      ],
      "text/plain": [
       "  TV    radio newspaper sales\n",
       "1 230.1 37.8  69.2      22.1 \n",
       "2  44.5 39.3  45.1      10.4 \n",
       "3  17.2 45.9  69.3       9.3 \n",
       "4 151.5 41.3  58.5      18.5 \n",
       "5 180.8 10.8  58.4      12.9 \n",
       "6   8.7 48.9  75.0       7.2 "
      ]
     },
     "metadata": {},
     "output_type": "display_data"
    }
   ],
   "source": [
    "head(df)"
   ]
  },
  {
   "cell_type": "code",
   "execution_count": 6,
   "metadata": {},
   "outputs": [
    {
     "data": {
      "text/plain": [
       "       TV             radio          newspaper          sales      \n",
       " Min.   :  0.70   Min.   : 0.000   Min.   :  0.30   Min.   : 1.60  \n",
       " 1st Qu.: 74.38   1st Qu.: 9.975   1st Qu.: 12.75   1st Qu.:10.38  \n",
       " Median :149.75   Median :22.900   Median : 25.75   Median :12.90  \n",
       " Mean   :147.04   Mean   :23.264   Mean   : 30.55   Mean   :14.02  \n",
       " 3rd Qu.:218.82   3rd Qu.:36.525   3rd Qu.: 45.10   3rd Qu.:17.40  \n",
       " Max.   :296.40   Max.   :49.600   Max.   :114.00   Max.   :27.00  "
      ]
     },
     "metadata": {},
     "output_type": "display_data"
    }
   ],
   "source": [
    "summary(df)"
   ]
  },
  {
   "cell_type": "code",
   "execution_count": 7,
   "metadata": {},
   "outputs": [
    {
     "name": "stdout",
     "output_type": "stream",
     "text": [
      "'data.frame':\t200 obs. of  4 variables:\n",
      " $ TV       : num  230.1 44.5 17.2 151.5 180.8 ...\n",
      " $ radio    : num  37.8 39.3 45.9 41.3 10.8 48.9 32.8 19.6 2.1 2.6 ...\n",
      " $ newspaper: num  69.2 45.1 69.3 58.5 58.4 75 23.5 11.6 1 21.2 ...\n",
      " $ sales    : num  22.1 10.4 9.3 18.5 12.9 7.2 11.8 13.2 4.8 10.6 ...\n"
     ]
    }
   ],
   "source": [
    "str(df)"
   ]
  },
  {
   "cell_type": "code",
   "execution_count": 8,
   "metadata": {},
   "outputs": [
    {
     "data": {
      "image/png": "[encoded data removed]",
      "text/plain": [
       "plot without title"
      ]
     },
     "metadata": {},
     "output_type": "display_data"
    }
   ],
   "source": [
    "ggplot(df,aes(x=sales)) + geom_histogram(bins=20,alpha=0.5,fill='blue') + theme_minimal()"
   ]
  },
  {
   "cell_type": "markdown",
   "metadata": {},
   "source": [
    "## Check correlation "
   ]
  },
  {
   "cell_type": "code",
   "execution_count": 9,
   "metadata": {},
   "outputs": [
    {
     "data": {
      "image/png": "[encoded data removed]",
      "text/plain": [
       "plot without title"
      ]
     },
     "metadata": {},
     "output_type": "display_data"
    }
   ],
   "source": [
    "ggplot(df,aes(x=TV,y=sales)) + geom_point()"
   ]
  },
  {
   "cell_type": "code",
   "execution_count": 10,
   "metadata": {},
   "outputs": [
    {
     "data": {
      "image/png": "[encoded data removed]",
      "text/plain": [
       "plot without title"
      ]
     },
     "metadata": {},
     "output_type": "display_data"
    }
   ],
   "source": [
    "ggplot(df,aes(x=radio,y=sales)) + geom_point()"
   ]
  },
  {
   "cell_type": "code",
   "execution_count": 11,
   "metadata": {},
   "outputs": [
    {
     "data": {
      "image/png": "[encoded data removed]",
      "text/plain": [
       "plot without title"
      ]
     },
     "metadata": {},
     "output_type": "display_data"
    }
   ],
   "source": [
    "ggplot(df,aes(x=newspaper,y=sales)) + geom_point()"
   ]
  },
  {
   "cell_type": "code",
   "execution_count": 12,
   "metadata": {},
   "outputs": [],
   "source": [
    "cor.data = cor(df)"
   ]
  },
  {
   "cell_type": "code",
   "execution_count": 13,
   "metadata": {},
   "outputs": [
    {
     "data": {
      "text/html": [
       "<table>\n",
       "<thead><tr><th></th><th scope=col>TV</th><th scope=col>radio</th><th scope=col>newspaper</th><th scope=col>sales</th></tr></thead>\n",
       "<tbody>\n",
       "\t<tr><th scope=row>TV</th><td>1.00000000</td><td>0.05480866</td><td>0.05664787</td><td>0.7822244 </td></tr>\n",
       "\t<tr><th scope=row>radio</th><td>0.05480866</td><td>1.00000000</td><td>0.35410375</td><td>0.5762226 </td></tr>\n",
       "\t<tr><th scope=row>newspaper</th><td>0.05664787</td><td>0.35410375</td><td>1.00000000</td><td>0.2282990 </td></tr>\n",
       "\t<tr><th scope=row>sales</th><td>0.78222442</td><td>0.57622257</td><td>0.22829903</td><td>1.0000000 </td></tr>\n",
       "</tbody>\n",
       "</table>\n"
      ],
      "text/latex": [
       "\\begin{tabular}{r|llll}\n",
       "  & TV & radio & newspaper & sales\\\\\n",
       "\\hline\n",
       "\tTV & 1.00000000 & 0.05480866 & 0.05664787 & 0.7822244 \\\\\n",
       "\tradio & 0.05480866 & 1.00000000 & 0.35410375 & 0.5762226 \\\\\n",
       "\tnewspaper & 0.05664787 & 0.35410375 & 1.00000000 & 0.2282990 \\\\\n",
       "\tsales & 0.78222442 & 0.57622257 & 0.22829903 & 1.0000000 \\\\\n",
       "\\end{tabular}\n"
      ],
      "text/markdown": [
       "\n",
       "| <!--/--> | TV | radio | newspaper | sales |\n",
       "|---|---|---|---|---|\n",
       "| TV | 1.00000000 | 0.05480866 | 0.05664787 | 0.7822244  |\n",
       "| radio | 0.05480866 | 1.00000000 | 0.35410375 | 0.5762226  |\n",
       "| newspaper | 0.05664787 | 0.35410375 | 1.00000000 | 0.2282990  |\n",
       "| sales | 0.78222442 | 0.57622257 | 0.22829903 | 1.0000000  |\n",
       "\n"
      ],
      "text/plain": [
       "          TV         radio      newspaper  sales    \n",
       "TV        1.00000000 0.05480866 0.05664787 0.7822244\n",
       "radio     0.05480866 1.00000000 0.35410375 0.5762226\n",
       "newspaper 0.05664787 0.35410375 1.00000000 0.2282990\n",
       "sales     0.78222442 0.57622257 0.22829903 1.0000000"
      ]
     },
     "metadata": {},
     "output_type": "display_data"
    }
   ],
   "source": [
    "cor.data"
   ]
  },
  {
   "cell_type": "code",
   "execution_count": 14,
   "metadata": {},
   "outputs": [
    {
     "data": {
      "image/png": "[encoded data removed]",
      "text/plain": [
       "Plot with title \"\""
      ]
     },
     "metadata": {},
     "output_type": "display_data"
    }
   ],
   "source": [
    "corrplot(cor.data,method=\"color\")"
   ]
  },
  {
   "cell_type": "markdown",
   "metadata": {},
   "source": [
    "## Split data for test and train"
   ]
  },
  {
   "cell_type": "code",
   "execution_count": 15,
   "metadata": {},
   "outputs": [],
   "source": [
    "set.seed(101)\n",
    "\n",
    "sample <- sample.split(df, SplitRatio = 0.70) # SplitRatio = percent of sample==TRUE\n",
    "\n",
    "# Training Data\n",
    "train = subset(df, sample == TRUE)\n",
    "\n",
    "# Testing Data\n",
    "test = subset(df, sample == FALSE)"
   ]
  },
  {
   "cell_type": "markdown",
   "metadata": {},
   "source": [
    "## Linear regression (Training) with TV"
   ]
  },
  {
   "cell_type": "code",
   "execution_count": 16,
   "metadata": {},
   "outputs": [],
   "source": [
    "model1 <- lm(sales ~ TV,train)"
   ]
  },
  {
   "cell_type": "code",
   "execution_count": 17,
   "metadata": {},
   "outputs": [
    {
     "data": {
      "text/plain": [
       "\n",
       "Call:\n",
       "lm(formula = sales ~ TV, data = train)\n",
       "\n",
       "Residuals:\n",
       "    Min      1Q  Median      3Q     Max \n",
       "-7.5914 -1.8206 -0.1725  2.0067  7.1569 \n",
       "\n",
       "Coefficients:\n",
       "            Estimate Std. Error t value Pr(>|t|)    \n",
       "(Intercept) 6.950596   0.647763   10.73   <2e-16 ***\n",
       "TV          0.048082   0.003771   12.75   <2e-16 ***\n",
       "---\n",
       "Signif. codes:  0 '***' 0.001 '**' 0.01 '*' 0.05 '.' 0.1 ' ' 1\n",
       "\n",
       "Residual standard error: 3.18 on 98 degrees of freedom\n",
       "Multiple R-squared:  0.624,\tAdjusted R-squared:  0.6201 \n",
       "F-statistic: 162.6 on 1 and 98 DF,  p-value: < 2.2e-16\n"
      ]
     },
     "metadata": {},
     "output_type": "display_data"
    }
   ],
   "source": [
    "summary(model1)"
   ]
  },
  {
   "cell_type": "code",
   "execution_count": 18,
   "metadata": {},
   "outputs": [
    {
     "data": {
      "text/html": [
       "<dl class=dl-horizontal>\n",
       "\t<dt>(Intercept)</dt>\n",
       "\t\t<dd>6.95059616274452</dd>\n",
       "\t<dt>TV</dt>\n",
       "\t\t<dd>0.0480821268081932</dd>\n",
       "</dl>\n"
      ],
      "text/latex": [
       "\\begin{description*}\n",
       "\\item[(Intercept)] 6.95059616274452\n",
       "\\item[TV] 0.0480821268081932\n",
       "\\end{description*}\n"
      ],
      "text/markdown": [
       "(Intercept)\n",
       ":   6.95059616274452TV\n",
       ":   0.0480821268081932\n",
       "\n"
      ],
      "text/plain": [
       "(Intercept)          TV \n",
       " 6.95059616  0.04808213 "
      ]
     },
     "metadata": {},
     "output_type": "display_data"
    }
   ],
   "source": [
    "coef(model1)"
   ]
  },
  {
   "cell_type": "markdown",
   "metadata": {},
   "source": [
    "## Linear regression (Testing)"
   ]
  },
  {
   "cell_type": "code",
   "execution_count": 19,
   "metadata": {},
   "outputs": [],
   "source": [
    "prediction <- predict(model1,test)"
   ]
  },
  {
   "cell_type": "code",
   "execution_count": 20,
   "metadata": {},
   "outputs": [
    {
     "data": {
      "text/html": [
       "<dl class=dl-horizontal>\n",
       "\t<dt>3</dt>\n",
       "\t\t<dd>7.77760874384545</dd>\n",
       "\t<dt>4</dt>\n",
       "\t\t<dd>14.2350383741858</dd>\n",
       "\t<dt>7</dt>\n",
       "\t\t<dd>9.71531845421564</dd>\n",
       "\t<dt>8</dt>\n",
       "\t\t<dd>12.7300678050894</dd>\n",
       "\t<dt>11</dt>\n",
       "\t\t<dd>10.1288247447661</dd>\n",
       "\t<dt>12</dt>\n",
       "\t\t<dd>17.2738287884636</dd>\n",
       "</dl>\n"
      ],
      "text/latex": [
       "\\begin{description*}\n",
       "\\item[3] 7.77760874384545\n",
       "\\item[4] 14.2350383741858\n",
       "\\item[7] 9.71531845421564\n",
       "\\item[8] 12.7300678050894\n",
       "\\item[11] 10.1288247447661\n",
       "\\item[12] 17.2738287884636\n",
       "\\end{description*}\n"
      ],
      "text/markdown": [
       "3\n",
       ":   7.777608743845454\n",
       ":   14.23503837418587\n",
       ":   9.715318454215648\n",
       ":   12.730067805089411\n",
       ":   10.128824744766112\n",
       ":   17.2738287884636\n",
       "\n"
      ],
      "text/plain": [
       "        3         4         7         8        11        12 \n",
       " 7.777609 14.235038  9.715318 12.730068 10.128825 17.273829 "
      ]
     },
     "metadata": {},
     "output_type": "display_data"
    }
   ],
   "source": [
    "head(prediction)"
   ]
  },
  {
   "cell_type": "code",
   "execution_count": 21,
   "metadata": {},
   "outputs": [
    {
     "data": {
      "text/html": [
       "<table>\n",
       "<thead><tr><th></th><th scope=col>pred</th><th scope=col>real</th></tr></thead>\n",
       "<tbody>\n",
       "\t<tr><th scope=row>3</th><td> 7.777609</td><td> 9.3     </td></tr>\n",
       "\t<tr><th scope=row>4</th><td>14.235038</td><td>18.5     </td></tr>\n",
       "\t<tr><th scope=row>7</th><td> 9.715318</td><td>11.8     </td></tr>\n",
       "\t<tr><th scope=row>8</th><td>12.730068</td><td>13.2     </td></tr>\n",
       "\t<tr><th scope=row>11</th><td>10.128825</td><td> 8.6     </td></tr>\n",
       "\t<tr><th scope=row>12</th><td>17.273829</td><td>17.4     </td></tr>\n",
       "</tbody>\n",
       "</table>\n"
      ],
      "text/latex": [
       "\\begin{tabular}{r|ll}\n",
       "  & pred & real\\\\\n",
       "\\hline\n",
       "\t3 &  7.777609 &  9.3     \\\\\n",
       "\t4 & 14.235038 & 18.5     \\\\\n",
       "\t7 &  9.715318 & 11.8     \\\\\n",
       "\t8 & 12.730068 & 13.2     \\\\\n",
       "\t11 & 10.128825 &  8.6     \\\\\n",
       "\t12 & 17.273829 & 17.4     \\\\\n",
       "\\end{tabular}\n"
      ],
      "text/markdown": [
       "\n",
       "| <!--/--> | pred | real |\n",
       "|---|---|---|\n",
       "| 3 |  7.777609 |  9.3      |\n",
       "| 4 | 14.235038 | 18.5      |\n",
       "| 7 |  9.715318 | 11.8      |\n",
       "| 8 | 12.730068 | 13.2      |\n",
       "| 11 | 10.128825 |  8.6      |\n",
       "| 12 | 17.273829 | 17.4      |\n",
       "\n"
      ],
      "text/plain": [
       "   pred      real\n",
       "3   7.777609  9.3\n",
       "4  14.235038 18.5\n",
       "7   9.715318 11.8\n",
       "8  12.730068 13.2\n",
       "11 10.128825  8.6\n",
       "12 17.273829 17.4"
      ]
     },
     "metadata": {},
     "output_type": "display_data"
    }
   ],
   "source": [
    "results <- cbind(prediction,test$sales)\n",
    "colnames(results) <- c('pred','real')\n",
    "results <- as.data.frame(results)\n",
    "head(results)"
   ]
  },
  {
   "cell_type": "markdown",
   "metadata": {},
   "source": [
    "## Evaluation metrics"
   ]
  },
  {
   "cell_type": "code",
   "execution_count": 22,
   "metadata": {},
   "outputs": [
    {
     "data": {
      "text/html": [
       "0.599821512038207"
      ],
      "text/latex": [
       "0.599821512038207"
      ],
      "text/markdown": [
       "0.599821512038207"
      ],
      "text/plain": [
       "[1] 0.5998215"
      ]
     },
     "metadata": {},
     "output_type": "display_data"
    },
    {
     "data": {
      "text/html": [
       "11.1198508635498"
      ],
      "text/latex": [
       "11.1198508635498"
      ],
      "text/markdown": [
       "11.1198508635498"
      ],
      "text/plain": [
       "[1] 11.11985"
      ]
     },
     "metadata": {},
     "output_type": "display_data"
    },
    {
     "data": {
      "text/html": [
       "3.33464403850693"
      ],
      "text/latex": [
       "3.33464403850693"
      ],
      "text/markdown": [
       "3.33464403850693"
      ],
      "text/plain": [
       "[1] 3.334644"
      ]
     },
     "metadata": {},
     "output_type": "display_data"
    }
   ],
   "source": [
    "rsquare(model1,data=test)\n",
    "mse(model1,data=test)\n",
    "rmse(model1,data=test)"
   ]
  },
  {
   "cell_type": "markdown",
   "metadata": {},
   "source": [
    "## Modeling with Newspaper"
   ]
  },
  {
   "cell_type": "code",
   "execution_count": 23,
   "metadata": {},
   "outputs": [],
   "source": [
    "model2 <- lm(sales ~ newspaper,train)"
   ]
  },
  {
   "cell_type": "code",
   "execution_count": 24,
   "metadata": {},
   "outputs": [
    {
     "data": {
      "text/html": [
       "<dl class=dl-horizontal>\n",
       "\t<dt>(Intercept)</dt>\n",
       "\t\t<dd>12.6031767924915</dd>\n",
       "\t<dt>newspaper</dt>\n",
       "\t\t<dd>0.0472319405099579</dd>\n",
       "</dl>\n"
      ],
      "text/latex": [
       "\\begin{description*}\n",
       "\\item[(Intercept)] 12.6031767924915\n",
       "\\item[newspaper] 0.0472319405099579\n",
       "\\end{description*}\n"
      ],
      "text/markdown": [
       "(Intercept)\n",
       ":   12.6031767924915newspaper\n",
       ":   0.0472319405099579\n",
       "\n"
      ],
      "text/plain": [
       "(Intercept)   newspaper \n",
       "12.60317679  0.04723194 "
      ]
     },
     "metadata": {},
     "output_type": "display_data"
    }
   ],
   "source": [
    "coef(model2)"
   ]
  },
  {
   "cell_type": "code",
   "execution_count": 25,
   "metadata": {},
   "outputs": [
    {
     "data": {
      "text/html": [
       "0.0535929149448947"
      ],
      "text/latex": [
       "0.0535929149448947"
      ],
      "text/markdown": [
       "0.0535929149448947"
      ],
      "text/plain": [
       "[1] 0.05359291"
      ]
     },
     "metadata": {},
     "output_type": "display_data"
    },
    {
     "data": {
      "text/html": [
       "26.3002652143633"
      ],
      "text/latex": [
       "26.3002652143633"
      ],
      "text/markdown": [
       "26.3002652143633"
      ],
      "text/plain": [
       "[1] 26.30027"
      ]
     },
     "metadata": {},
     "output_type": "display_data"
    },
    {
     "data": {
      "text/html": [
       "5.12837841957507"
      ],
      "text/latex": [
       "5.12837841957507"
      ],
      "text/markdown": [
       "5.12837841957507"
      ],
      "text/plain": [
       "[1] 5.128378"
      ]
     },
     "metadata": {},
     "output_type": "display_data"
    }
   ],
   "source": [
    "rsquare(model2,data=test)\n",
    "mse(model2,data=test)\n",
    "rmse(model2,data=test)"
   ]
  },
  {
   "cell_type": "markdown",
   "metadata": {},
   "source": [
    "## Modeling with Radio"
   ]
  },
  {
   "cell_type": "code",
   "execution_count": 26,
   "metadata": {},
   "outputs": [],
   "source": [
    "model3 <- lm(sales ~ radio,train)"
   ]
  },
  {
   "cell_type": "code",
   "execution_count": 27,
   "metadata": {},
   "outputs": [
    {
     "data": {
      "text/html": [
       "<dl class=dl-horizontal>\n",
       "\t<dt>(Intercept)</dt>\n",
       "\t\t<dd>9.09262455180784</dd>\n",
       "\t<dt>radio</dt>\n",
       "\t\t<dd>0.22093698685108</dd>\n",
       "</dl>\n"
      ],
      "text/latex": [
       "\\begin{description*}\n",
       "\\item[(Intercept)] 9.09262455180784\n",
       "\\item[radio] 0.22093698685108\n",
       "\\end{description*}\n"
      ],
      "text/markdown": [
       "(Intercept)\n",
       ":   9.09262455180784radio\n",
       ":   0.22093698685108\n",
       "\n"
      ],
      "text/plain": [
       "(Intercept)       radio \n",
       "   9.092625    0.220937 "
      ]
     },
     "metadata": {},
     "output_type": "display_data"
    }
   ],
   "source": [
    "coef(model3)"
   ]
  },
  {
   "cell_type": "code",
   "execution_count": 28,
   "metadata": {},
   "outputs": [
    {
     "data": {
      "text/html": [
       "0.265609816012356"
      ],
      "text/latex": [
       "0.265609816012356"
      ],
      "text/markdown": [
       "0.265609816012356"
      ],
      "text/plain": [
       "[1] 0.2656098"
      ]
     },
     "metadata": {},
     "output_type": "display_data"
    },
    {
     "data": {
      "text/html": [
       "20.5830483743391"
      ],
      "text/latex": [
       "20.5830483743391"
      ],
      "text/markdown": [
       "20.5830483743391"
      ],
      "text/plain": [
       "[1] 20.58305"
      ]
     },
     "metadata": {},
     "output_type": "display_data"
    },
    {
     "data": {
      "text/html": [
       "4.53685445813938"
      ],
      "text/latex": [
       "4.53685445813938"
      ],
      "text/markdown": [
       "4.53685445813938"
      ],
      "text/plain": [
       "[1] 4.536854"
      ]
     },
     "metadata": {},
     "output_type": "display_data"
    }
   ],
   "source": [
    "rsquare(model3,data=test)\n",
    "mse(model3,data=test)\n",
    "rmse(model3,data=test)"
   ]
  },
  {
   "cell_type": "markdown",
   "metadata": {},
   "source": [
    "## Multiple linear regression"
   ]
  },
  {
   "cell_type": "code",
   "execution_count": 29,
   "metadata": {},
   "outputs": [],
   "source": [
    "model4 <- lm(sales ~ .,train)"
   ]
  },
  {
   "cell_type": "code",
   "execution_count": 30,
   "metadata": {},
   "outputs": [
    {
     "data": {
      "text/html": [
       "<dl class=dl-horizontal>\n",
       "\t<dt>(Intercept)</dt>\n",
       "\t\t<dd>3.264222653349</dd>\n",
       "\t<dt>TV</dt>\n",
       "\t\t<dd>0.0442867134462338</dd>\n",
       "\t<dt>radio</dt>\n",
       "\t\t<dd>0.194858387091467</dd>\n",
       "\t<dt>newspaper</dt>\n",
       "\t\t<dd>-0.00622119836091486</dd>\n",
       "</dl>\n"
      ],
      "text/latex": [
       "\\begin{description*}\n",
       "\\item[(Intercept)] 3.264222653349\n",
       "\\item[TV] 0.0442867134462338\n",
       "\\item[radio] 0.194858387091467\n",
       "\\item[newspaper] -0.00622119836091486\n",
       "\\end{description*}\n"
      ],
      "text/markdown": [
       "(Intercept)\n",
       ":   3.264222653349TV\n",
       ":   0.0442867134462338radio\n",
       ":   0.194858387091467newspaper\n",
       ":   -0.00622119836091486\n",
       "\n"
      ],
      "text/plain": [
       " (Intercept)           TV        radio    newspaper \n",
       " 3.264222653  0.044286713  0.194858387 -0.006221198 "
      ]
     },
     "metadata": {},
     "output_type": "display_data"
    }
   ],
   "source": [
    "coef(model4)"
   ]
  },
  {
   "cell_type": "code",
   "execution_count": 31,
   "metadata": {},
   "outputs": [
    {
     "data": {
      "text/html": [
       "0.873662750308322"
      ],
      "text/latex": [
       "0.873662750308322"
      ],
      "text/markdown": [
       "0.873662750308322"
      ],
      "text/plain": [
       "[1] 0.8736628"
      ]
     },
     "metadata": {},
     "output_type": "display_data"
    },
    {
     "data": {
      "text/html": [
       "3.54808128025441"
      ],
      "text/latex": [
       "3.54808128025441"
      ],
      "text/markdown": [
       "3.54808128025441"
      ],
      "text/plain": [
       "[1] 3.548081"
      ]
     },
     "metadata": {},
     "output_type": "display_data"
    },
    {
     "data": {
      "text/html": [
       "1.88363512397025"
      ],
      "text/latex": [
       "1.88363512397025"
      ],
      "text/markdown": [
       "1.88363512397025"
      ],
      "text/plain": [
       "[1] 1.883635"
      ]
     },
     "metadata": {},
     "output_type": "display_data"
    }
   ],
   "source": [
    "rsquare(model4,data=test)\n",
    "mse(model4,data=test)\n",
    "rmse(model4,data=test)"
   ]
  },
  {
   "cell_type": "markdown",
   "metadata": {},
   "source": [
    "## Linear Assumptions"
   ]
  },
  {
   "cell_type": "code",
   "execution_count": 32,
   "metadata": {},
   "outputs": [],
   "source": [
    "model5 <- lm(sales ~ TV + radio,train)"
   ]
  },
  {
   "cell_type": "code",
   "execution_count": 33,
   "metadata": {},
   "outputs": [
    {
     "data": {
      "text/html": [
       "<dl class=dl-horizontal>\n",
       "\t<dt>(Intercept)</dt>\n",
       "\t\t<dd>3.14835264559583</dd>\n",
       "\t<dt>TV</dt>\n",
       "\t\t<dd>0.044218970976714</dd>\n",
       "\t<dt>radio</dt>\n",
       "\t\t<dd>0.191477824334063</dd>\n",
       "</dl>\n"
      ],
      "text/latex": [
       "\\begin{description*}\n",
       "\\item[(Intercept)] 3.14835264559583\n",
       "\\item[TV] 0.044218970976714\n",
       "\\item[radio] 0.191477824334063\n",
       "\\end{description*}\n"
      ],
      "text/markdown": [
       "(Intercept)\n",
       ":   3.14835264559583TV\n",
       ":   0.044218970976714radio\n",
       ":   0.191477824334063\n",
       "\n"
      ],
      "text/plain": [
       "(Intercept)          TV       radio \n",
       " 3.14835265  0.04421897  0.19147782 "
      ]
     },
     "metadata": {},
     "output_type": "display_data"
    }
   ],
   "source": [
    "coef(model5)"
   ]
  },
  {
   "cell_type": "code",
   "execution_count": 34,
   "metadata": {},
   "outputs": [],
   "source": [
    "prediction <- predict(model5,test)"
   ]
  },
  {
   "cell_type": "code",
   "execution_count": 35,
   "metadata": {},
   "outputs": [
    {
     "data": {
      "text/html": [
       "<table>\n",
       "<thead><tr><th></th><th scope=col>pred</th><th scope=col>real</th></tr></thead>\n",
       "<tbody>\n",
       "\t<tr><th scope=row>3</th><td>12.697751</td><td> 9.3     </td></tr>\n",
       "\t<tr><th scope=row>4</th><td>17.755561</td><td>18.5     </td></tr>\n",
       "\t<tr><th scope=row>7</th><td>11.971416</td><td>11.8     </td></tr>\n",
       "\t<tr><th scope=row>8</th><td>12.216438</td><td>13.2     </td></tr>\n",
       "\t<tr><th scope=row>11</th><td> 7.181798</td><td> 8.6     </td></tr>\n",
       "\t<tr><th scope=row>12</th><td>17.237633</td><td>17.4     </td></tr>\n",
       "</tbody>\n",
       "</table>\n"
      ],
      "text/latex": [
       "\\begin{tabular}{r|ll}\n",
       "  & pred & real\\\\\n",
       "\\hline\n",
       "\t3 & 12.697751 &  9.3     \\\\\n",
       "\t4 & 17.755561 & 18.5     \\\\\n",
       "\t7 & 11.971416 & 11.8     \\\\\n",
       "\t8 & 12.216438 & 13.2     \\\\\n",
       "\t11 &  7.181798 &  8.6     \\\\\n",
       "\t12 & 17.237633 & 17.4     \\\\\n",
       "\\end{tabular}\n"
      ],
      "text/markdown": [
       "\n",
       "| <!--/--> | pred | real |\n",
       "|---|---|---|\n",
       "| 3 | 12.697751 |  9.3      |\n",
       "| 4 | 17.755561 | 18.5      |\n",
       "| 7 | 11.971416 | 11.8      |\n",
       "| 8 | 12.216438 | 13.2      |\n",
       "| 11 |  7.181798 |  8.6      |\n",
       "| 12 | 17.237633 | 17.4      |\n",
       "\n"
      ],
      "text/plain": [
       "   pred      real\n",
       "3  12.697751  9.3\n",
       "4  17.755561 18.5\n",
       "7  11.971416 11.8\n",
       "8  12.216438 13.2\n",
       "11  7.181798  8.6\n",
       "12 17.237633 17.4"
      ]
     },
     "metadata": {},
     "output_type": "display_data"
    }
   ],
   "source": [
    "results <- cbind(prediction,test$sales)\n",
    "colnames(results) <- c('pred','real')\n",
    "results <- as.data.frame(results)\n",
    "head(results)"
   ]
  },
  {
   "cell_type": "markdown",
   "metadata": {},
   "source": [
    "### 1) Residual vs Prediction plot"
   ]
  },
  {
   "cell_type": "code",
   "execution_count": 36,
   "metadata": {},
   "outputs": [],
   "source": [
    "results = mutate(results,residuals = pred - real)"
   ]
  },
  {
   "cell_type": "code",
   "execution_count": 37,
   "metadata": {},
   "outputs": [
    {
     "data": {
      "text/html": [
       "<table>\n",
       "<thead><tr><th scope=col>pred</th><th scope=col>real</th><th scope=col>residuals</th></tr></thead>\n",
       "<tbody>\n",
       "\t<tr><td>12.697751 </td><td> 9.3      </td><td> 3.3977511</td></tr>\n",
       "\t<tr><td>17.755561 </td><td>18.5      </td><td>-0.7444391</td></tr>\n",
       "\t<tr><td>11.971416 </td><td>11.8      </td><td> 0.1714161</td></tr>\n",
       "\t<tr><td>12.216438 </td><td>13.2      </td><td>-0.9835617</td></tr>\n",
       "\t<tr><td> 7.181798 </td><td> 8.6      </td><td>-1.4182020</td></tr>\n",
       "\t<tr><td>17.237633 </td><td>17.4      </td><td>-0.1623665</td></tr>\n",
       "</tbody>\n",
       "</table>\n"
      ],
      "text/latex": [
       "\\begin{tabular}{r|lll}\n",
       " pred & real & residuals\\\\\n",
       "\\hline\n",
       "\t 12.697751  &  9.3       &  3.3977511\\\\\n",
       "\t 17.755561  & 18.5       & -0.7444391\\\\\n",
       "\t 11.971416  & 11.8       &  0.1714161\\\\\n",
       "\t 12.216438  & 13.2       & -0.9835617\\\\\n",
       "\t  7.181798  &  8.6       & -1.4182020\\\\\n",
       "\t 17.237633  & 17.4       & -0.1623665\\\\\n",
       "\\end{tabular}\n"
      ],
      "text/markdown": [
       "\n",
       "| pred | real | residuals |\n",
       "|---|---|---|\n",
       "| 12.697751  |  9.3       |  3.3977511 |\n",
       "| 17.755561  | 18.5       | -0.7444391 |\n",
       "| 11.971416  | 11.8       |  0.1714161 |\n",
       "| 12.216438  | 13.2       | -0.9835617 |\n",
       "|  7.181798  |  8.6       | -1.4182020 |\n",
       "| 17.237633  | 17.4       | -0.1623665 |\n",
       "\n"
      ],
      "text/plain": [
       "  pred      real residuals \n",
       "1 12.697751  9.3  3.3977511\n",
       "2 17.755561 18.5 -0.7444391\n",
       "3 11.971416 11.8  0.1714161\n",
       "4 12.216438 13.2 -0.9835617\n",
       "5  7.181798  8.6 -1.4182020\n",
       "6 17.237633 17.4 -0.1623665"
      ]
     },
     "metadata": {},
     "output_type": "display_data"
    }
   ],
   "source": [
    "head(results)"
   ]
  },
  {
   "cell_type": "code",
   "execution_count": 38,
   "metadata": {},
   "outputs": [
    {
     "data": {
      "image/png": "[encoded data removed]",
      "text/plain": [
       "plot without title"
      ]
     },
     "metadata": {},
     "output_type": "display_data"
    }
   ],
   "source": [
    "ggplot(results,aes(x=pred,y=residuals)) + geom_point()"
   ]
  },
  {
   "cell_type": "markdown",
   "metadata": {},
   "source": [
    "### 2) Residual histogram"
   ]
  },
  {
   "cell_type": "code",
   "execution_count": 39,
   "metadata": {},
   "outputs": [
    {
     "data": {
      "image/png": "[encoded data removed]",
      "text/plain": [
       "plot without title"
      ]
     },
     "metadata": {},
     "output_type": "display_data"
    }
   ],
   "source": [
    "ggplot(results,aes(x=residuals)) + geom_histogram(bins=20,alpha=0.5,fill='blue') + theme_minimal()"
   ]
  },
  {
   "cell_type": "code",
   "execution_count": 40,
   "metadata": {},
   "outputs": [
    {
     "data": {
      "text/html": [
       "0.874933955775852"
      ],
      "text/latex": [
       "0.874933955775852"
      ],
      "text/markdown": [
       "0.874933955775852"
      ],
      "text/plain": [
       "[1] 0.874934"
      ]
     },
     "metadata": {},
     "output_type": "display_data"
    },
    {
     "data": {
      "text/html": [
       "3.50243381184352"
      ],
      "text/latex": [
       "3.50243381184352"
      ],
      "text/markdown": [
       "3.50243381184352"
      ],
      "text/plain": [
       "[1] 3.502434"
      ]
     },
     "metadata": {},
     "output_type": "display_data"
    },
    {
     "data": {
      "text/html": [
       "1.87147904392315"
      ],
      "text/latex": [
       "1.87147904392315"
      ],
      "text/markdown": [
       "1.87147904392315"
      ],
      "text/plain": [
       "[1] 1.871479"
      ]
     },
     "metadata": {},
     "output_type": "display_data"
    }
   ],
   "source": [
    "rsquare(model5,data=test)\n",
    "mse(model5,data=test)\n",
    "rmse(model5,data=test)"
   ]
  },
  {
   "cell_type": "markdown",
   "metadata": {},
   "source": [
    "## Polynomial regression"
   ]
  },
  {
   "cell_type": "code",
   "execution_count": 41,
   "metadata": {},
   "outputs": [
    {
     "data": {
      "text/html": [
       "<table>\n",
       "<thead><tr><th scope=col>TV</th><th scope=col>radio</th><th scope=col>newspaper</th><th scope=col>sales</th><th scope=col>TV2</th><th scope=col>radio2</th></tr></thead>\n",
       "<tbody>\n",
       "\t<tr><td>230.1   </td><td>37.8    </td><td>69.2    </td><td>22.1    </td><td>52946.01</td><td>1428.84 </td></tr>\n",
       "\t<tr><td> 44.5   </td><td>39.3    </td><td>45.1    </td><td>10.4    </td><td> 1980.25</td><td>1544.49 </td></tr>\n",
       "\t<tr><td>180.8   </td><td>10.8    </td><td>58.4    </td><td>12.9    </td><td>32688.64</td><td> 116.64 </td></tr>\n",
       "\t<tr><td>  8.7   </td><td>48.9    </td><td>75.0    </td><td> 7.2    </td><td>   75.69</td><td>2391.21 </td></tr>\n",
       "\t<tr><td>  8.6   </td><td> 2.1    </td><td> 1.0    </td><td> 4.8    </td><td>   73.96</td><td>   4.41 </td></tr>\n",
       "\t<tr><td>199.8   </td><td> 2.6    </td><td>21.2    </td><td>10.6    </td><td>39920.04</td><td>   6.76 </td></tr>\n",
       "</tbody>\n",
       "</table>\n"
      ],
      "text/latex": [
       "\\begin{tabular}{r|llllll}\n",
       " TV & radio & newspaper & sales & TV2 & radio2\\\\\n",
       "\\hline\n",
       "\t 230.1    & 37.8     & 69.2     & 22.1     & 52946.01 & 1428.84 \\\\\n",
       "\t  44.5    & 39.3     & 45.1     & 10.4     &  1980.25 & 1544.49 \\\\\n",
       "\t 180.8    & 10.8     & 58.4     & 12.9     & 32688.64 &  116.64 \\\\\n",
       "\t   8.7    & 48.9     & 75.0     &  7.2     &    75.69 & 2391.21 \\\\\n",
       "\t   8.6    &  2.1     &  1.0     &  4.8     &    73.96 &    4.41 \\\\\n",
       "\t 199.8    &  2.6     & 21.2     & 10.6     & 39920.04 &    6.76 \\\\\n",
       "\\end{tabular}\n"
      ],
      "text/markdown": [
       "\n",
       "| TV | radio | newspaper | sales | TV2 | radio2 |\n",
       "|---|---|---|---|---|---|\n",
       "| 230.1    | 37.8     | 69.2     | 22.1     | 52946.01 | 1428.84  |\n",
       "|  44.5    | 39.3     | 45.1     | 10.4     |  1980.25 | 1544.49  |\n",
       "| 180.8    | 10.8     | 58.4     | 12.9     | 32688.64 |  116.64  |\n",
       "|   8.7    | 48.9     | 75.0     |  7.2     |    75.69 | 2391.21  |\n",
       "|   8.6    |  2.1     |  1.0     |  4.8     |    73.96 |    4.41  |\n",
       "| 199.8    |  2.6     | 21.2     | 10.6     | 39920.04 |    6.76  |\n",
       "\n"
      ],
      "text/plain": [
       "  TV    radio newspaper sales TV2      radio2 \n",
       "1 230.1 37.8  69.2      22.1  52946.01 1428.84\n",
       "2  44.5 39.3  45.1      10.4   1980.25 1544.49\n",
       "3 180.8 10.8  58.4      12.9  32688.64  116.64\n",
       "4   8.7 48.9  75.0       7.2     75.69 2391.21\n",
       "5   8.6  2.1   1.0       4.8     73.96    4.41\n",
       "6 199.8  2.6  21.2      10.6  39920.04    6.76"
      ]
     },
     "metadata": {},
     "output_type": "display_data"
    }
   ],
   "source": [
    "train = mutate(train,TV2 = TV^2)\n",
    "train = mutate(train,radio2 = radio^2)\n",
    "head(train)"
   ]
  },
  {
   "cell_type": "code",
   "execution_count": 42,
   "metadata": {},
   "outputs": [
    {
     "data": {
      "text/html": [
       "<table>\n",
       "<thead><tr><th scope=col>TV</th><th scope=col>radio</th><th scope=col>newspaper</th><th scope=col>sales</th><th scope=col>TV2</th><th scope=col>radio2</th></tr></thead>\n",
       "<tbody>\n",
       "\t<tr><td> 17.2   </td><td>45.9    </td><td>69.3    </td><td> 9.3    </td><td>  295.84</td><td>2106.81 </td></tr>\n",
       "\t<tr><td>151.5   </td><td>41.3    </td><td>58.5    </td><td>18.5    </td><td>22952.25</td><td>1705.69 </td></tr>\n",
       "\t<tr><td> 57.5   </td><td>32.8    </td><td>23.5    </td><td>11.8    </td><td> 3306.25</td><td>1075.84 </td></tr>\n",
       "\t<tr><td>120.2   </td><td>19.6    </td><td>11.6    </td><td>13.2    </td><td>14448.04</td><td> 384.16 </td></tr>\n",
       "\t<tr><td> 66.1   </td><td> 5.8    </td><td>24.2    </td><td> 8.6    </td><td> 4369.21</td><td>  33.64 </td></tr>\n",
       "\t<tr><td>214.7   </td><td>24.0    </td><td> 4.0    </td><td>17.4    </td><td>46096.09</td><td> 576.00 </td></tr>\n",
       "</tbody>\n",
       "</table>\n"
      ],
      "text/latex": [
       "\\begin{tabular}{r|llllll}\n",
       " TV & radio & newspaper & sales & TV2 & radio2\\\\\n",
       "\\hline\n",
       "\t  17.2    & 45.9     & 69.3     &  9.3     &   295.84 & 2106.81 \\\\\n",
       "\t 151.5    & 41.3     & 58.5     & 18.5     & 22952.25 & 1705.69 \\\\\n",
       "\t  57.5    & 32.8     & 23.5     & 11.8     &  3306.25 & 1075.84 \\\\\n",
       "\t 120.2    & 19.6     & 11.6     & 13.2     & 14448.04 &  384.16 \\\\\n",
       "\t  66.1    &  5.8     & 24.2     &  8.6     &  4369.21 &   33.64 \\\\\n",
       "\t 214.7    & 24.0     &  4.0     & 17.4     & 46096.09 &  576.00 \\\\\n",
       "\\end{tabular}\n"
      ],
      "text/markdown": [
       "\n",
       "| TV | radio | newspaper | sales | TV2 | radio2 |\n",
       "|---|---|---|---|---|---|\n",
       "|  17.2    | 45.9     | 69.3     |  9.3     |   295.84 | 2106.81  |\n",
       "| 151.5    | 41.3     | 58.5     | 18.5     | 22952.25 | 1705.69  |\n",
       "|  57.5    | 32.8     | 23.5     | 11.8     |  3306.25 | 1075.84  |\n",
       "| 120.2    | 19.6     | 11.6     | 13.2     | 14448.04 |  384.16  |\n",
       "|  66.1    |  5.8     | 24.2     |  8.6     |  4369.21 |   33.64  |\n",
       "| 214.7    | 24.0     |  4.0     | 17.4     | 46096.09 |  576.00  |\n",
       "\n"
      ],
      "text/plain": [
       "  TV    radio newspaper sales TV2      radio2 \n",
       "1  17.2 45.9  69.3       9.3    295.84 2106.81\n",
       "2 151.5 41.3  58.5      18.5  22952.25 1705.69\n",
       "3  57.5 32.8  23.5      11.8   3306.25 1075.84\n",
       "4 120.2 19.6  11.6      13.2  14448.04  384.16\n",
       "5  66.1  5.8  24.2       8.6   4369.21   33.64\n",
       "6 214.7 24.0   4.0      17.4  46096.09  576.00"
      ]
     },
     "metadata": {},
     "output_type": "display_data"
    }
   ],
   "source": [
    "test = mutate(test,TV2 = TV^2)\n",
    "test = mutate(test,radio2 = radio^2)\n",
    "head(test)"
   ]
  },
  {
   "cell_type": "code",
   "execution_count": 43,
   "metadata": {},
   "outputs": [],
   "source": [
    "model6 <- lm(sales ~ TV + radio + TV2 + radio2, train)"
   ]
  },
  {
   "cell_type": "code",
   "execution_count": 44,
   "metadata": {},
   "outputs": [
    {
     "data": {
      "text/html": [
       "<dl class=dl-horizontal>\n",
       "\t<dt>(Intercept)</dt>\n",
       "\t\t<dd>2.16457739344278</dd>\n",
       "\t<dt>TV</dt>\n",
       "\t\t<dd>0.0681039512272207</dd>\n",
       "\t<dt>radio</dt>\n",
       "\t\t<dd>0.170011262530481</dd>\n",
       "\t<dt>TV2</dt>\n",
       "\t\t<dd>-8.39483195944536e-05</dd>\n",
       "\t<dt>radio2</dt>\n",
       "\t\t<dd>0.000511161894591913</dd>\n",
       "</dl>\n"
      ],
      "text/latex": [
       "\\begin{description*}\n",
       "\\item[(Intercept)] 2.16457739344278\n",
       "\\item[TV] 0.0681039512272207\n",
       "\\item[radio] 0.170011262530481\n",
       "\\item[TV2] -8.39483195944536e-05\n",
       "\\item[radio2] 0.000511161894591913\n",
       "\\end{description*}\n"
      ],
      "text/markdown": [
       "(Intercept)\n",
       ":   2.16457739344278TV\n",
       ":   0.0681039512272207radio\n",
       ":   0.170011262530481TV2\n",
       ":   -8.39483195944536e-05radio2\n",
       ":   0.000511161894591913\n",
       "\n"
      ],
      "text/plain": [
       "  (Intercept)            TV         radio           TV2        radio2 \n",
       " 2.164577e+00  6.810395e-02  1.700113e-01 -8.394832e-05  5.111619e-04 "
      ]
     },
     "metadata": {},
     "output_type": "display_data"
    }
   ],
   "source": [
    "coef(model6)"
   ]
  },
  {
   "cell_type": "code",
   "execution_count": 45,
   "metadata": {},
   "outputs": [],
   "source": [
    "prediction <- predict(model6,test)"
   ]
  },
  {
   "cell_type": "code",
   "execution_count": 46,
   "metadata": {},
   "outputs": [
    {
     "data": {
      "text/html": [
       "0.901088059586528"
      ],
      "text/latex": [
       "0.901088059586528"
      ],
      "text/markdown": [
       "0.901088059586528"
      ],
      "text/plain": [
       "[1] 0.9010881"
      ]
     },
     "metadata": {},
     "output_type": "display_data"
    },
    {
     "data": {
      "text/html": [
       "2.76773985463428"
      ],
      "text/latex": [
       "2.76773985463428"
      ],
      "text/markdown": [
       "2.76773985463428"
      ],
      "text/plain": [
       "[1] 2.76774"
      ]
     },
     "metadata": {},
     "output_type": "display_data"
    },
    {
     "data": {
      "text/html": [
       "1.66365256427966"
      ],
      "text/latex": [
       "1.66365256427966"
      ],
      "text/markdown": [
       "1.66365256427966"
      ],
      "text/plain": [
       "[1] 1.663653"
      ]
     },
     "metadata": {},
     "output_type": "display_data"
    }
   ],
   "source": [
    "rsquare(model6,data=test)\n",
    "mse(model6,data=test)\n",
    "rmse(model6,data=test)"
   ]
  },
  {
   "cell_type": "code",
   "execution_count": 49,
   "metadata": {},
   "outputs": [
    {
     "data": {
      "text/html": [
       "<table>\n",
       "<thead><tr><th scope=col>pred</th><th scope=col>real</th></tr></thead>\n",
       "<tbody>\n",
       "\t<tr><td>12.191568</td><td> 9.3     </td></tr>\n",
       "\t<tr><td>18.448872</td><td>18.5     </td></tr>\n",
       "\t<tr><td>11.929298</td><td>11.8     </td></tr>\n",
       "\t<tr><td>12.666372</td><td>13.2     </td></tr>\n",
       "\t<tr><td> 7.302722</td><td> 8.6     </td></tr>\n",
       "\t<tr><td>17.291506</td><td>17.4     </td></tr>\n",
       "</tbody>\n",
       "</table>\n"
      ],
      "text/latex": [
       "\\begin{tabular}{r|ll}\n",
       " pred & real\\\\\n",
       "\\hline\n",
       "\t 12.191568 &  9.3     \\\\\n",
       "\t 18.448872 & 18.5     \\\\\n",
       "\t 11.929298 & 11.8     \\\\\n",
       "\t 12.666372 & 13.2     \\\\\n",
       "\t  7.302722 &  8.6     \\\\\n",
       "\t 17.291506 & 17.4     \\\\\n",
       "\\end{tabular}\n"
      ],
      "text/markdown": [
       "\n",
       "| pred | real |\n",
       "|---|---|\n",
       "| 12.191568 |  9.3      |\n",
       "| 18.448872 | 18.5      |\n",
       "| 11.929298 | 11.8      |\n",
       "| 12.666372 | 13.2      |\n",
       "|  7.302722 |  8.6      |\n",
       "| 17.291506 | 17.4      |\n",
       "\n"
      ],
      "text/plain": [
       "  pred      real\n",
       "1 12.191568  9.3\n",
       "2 18.448872 18.5\n",
       "3 11.929298 11.8\n",
       "4 12.666372 13.2\n",
       "5  7.302722  8.6\n",
       "6 17.291506 17.4"
      ]
     },
     "metadata": {},
     "output_type": "display_data"
    }
   ],
   "source": [
    "results <- cbind(prediction,test$sales)\n",
    "colnames(results) <- c('pred','real')\n",
    "results <- as.data.frame(results)\n",
    "head(results)"
   ]
  },
  {
   "cell_type": "code",
   "execution_count": 50,
   "metadata": {},
   "outputs": [],
   "source": [
    "results = mutate(results,residuals = pred - real)"
   ]
  },
  {
   "cell_type": "code",
   "execution_count": 51,
   "metadata": {},
   "outputs": [
    {
     "data": {
      "text/html": [
       "<table>\n",
       "<thead><tr><th scope=col>pred</th><th scope=col>real</th><th scope=col>residuals</th></tr></thead>\n",
       "<tbody>\n",
       "\t<tr><td>12.191568  </td><td> 9.3       </td><td> 2.89156802</td></tr>\n",
       "\t<tr><td>18.448872  </td><td>18.5       </td><td>-0.05112794</td></tr>\n",
       "\t<tr><td>11.929298  </td><td>11.8       </td><td> 0.12929828</td></tr>\n",
       "\t<tr><td>12.666372  </td><td>13.2       </td><td>-0.53362765</td></tr>\n",
       "\t<tr><td> 7.302722  </td><td> 8.6       </td><td>-1.29727846</td></tr>\n",
       "\t<tr><td>17.291506  </td><td>17.4       </td><td>-0.10849402</td></tr>\n",
       "</tbody>\n",
       "</table>\n"
      ],
      "text/latex": [
       "\\begin{tabular}{r|lll}\n",
       " pred & real & residuals\\\\\n",
       "\\hline\n",
       "\t 12.191568   &  9.3        &  2.89156802\\\\\n",
       "\t 18.448872   & 18.5        & -0.05112794\\\\\n",
       "\t 11.929298   & 11.8        &  0.12929828\\\\\n",
       "\t 12.666372   & 13.2        & -0.53362765\\\\\n",
       "\t  7.302722   &  8.6        & -1.29727846\\\\\n",
       "\t 17.291506   & 17.4        & -0.10849402\\\\\n",
       "\\end{tabular}\n"
      ],
      "text/markdown": [
       "\n",
       "| pred | real | residuals |\n",
       "|---|---|---|\n",
       "| 12.191568   |  9.3        |  2.89156802 |\n",
       "| 18.448872   | 18.5        | -0.05112794 |\n",
       "| 11.929298   | 11.8        |  0.12929828 |\n",
       "| 12.666372   | 13.2        | -0.53362765 |\n",
       "|  7.302722   |  8.6        | -1.29727846 |\n",
       "| 17.291506   | 17.4        | -0.10849402 |\n",
       "\n"
      ],
      "text/plain": [
       "  pred      real residuals  \n",
       "1 12.191568  9.3  2.89156802\n",
       "2 18.448872 18.5 -0.05112794\n",
       "3 11.929298 11.8  0.12929828\n",
       "4 12.666372 13.2 -0.53362765\n",
       "5  7.302722  8.6 -1.29727846\n",
       "6 17.291506 17.4 -0.10849402"
      ]
     },
     "metadata": {},
     "output_type": "display_data"
    }
   ],
   "source": [
    "head(results)"
   ]
  },
  {
   "cell_type": "code",
   "execution_count": 52,
   "metadata": {},
   "outputs": [
    {
     "data": {
      "image/png": "[encoded data removed]",
      "text/plain": [
       "plot without title"
      ]
     },
     "metadata": {},
     "output_type": "display_data"
    }
   ],
   "source": [
    "ggplot(results,aes(x=pred,y=residuals)) + geom_point()"
   ]
  },
  {
   "cell_type": "code",
   "execution_count": 53,
   "metadata": {},
   "outputs": [
    {
     "data": {
      "image/png": "[encoded data removed]",
      "text/plain": [
       "plot without title"
      ]
     },
     "metadata": {},
     "output_type": "display_data"
    }
   ],
   "source": [
    "ggplot(results,aes(x=residuals)) + geom_histogram(bins=20,alpha=0.5,fill='blue') + theme_minimal()"
   ]
  },
  {
   "cell_type": "code",
   "execution_count": null,
   "metadata": {},
   "outputs": [],
   "source": []
  }
 ],
 "metadata": {
  "kernelspec": {
   "display_name": "R",
   "language": "R",
   "name": "ir"
  },
  "language_info": {
   "codemirror_mode": "r",
   "file_extension": ".r",
   "mimetype": "text/x-r-source",
   "name": "R",
   "pygments_lexer": "r",
   "version": "3.6.0"
  }
 },
 "nbformat": 4,
 "nbformat_minor": 2
}
