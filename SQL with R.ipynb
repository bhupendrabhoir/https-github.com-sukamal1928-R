{
 "cells": [
  {
   "cell_type": "markdown",
   "metadata": {},
   "source": [
    "# SQL with R"
   ]
  },
  {
   "cell_type": "markdown",
   "metadata": {},
   "source": [
    "This SQL tutorial is focused on connecting <b>MySQL</b> with R.\n",
    "\n",
    "To work with MySQL, install <b>RMySQL</b> and <b>dbConnect</b> packages."
   ]
  },
  {
   "cell_type": "code",
   "execution_count": null,
   "metadata": {},
   "outputs": [],
   "source": [
    "install.packages(\"RMySQL\")"
   ]
  },
  {
   "cell_type": "code",
   "execution_count": null,
   "metadata": {},
   "outputs": [],
   "source": [
    "install.packages(\"dbConnect\")"
   ]
  },
  {
   "cell_type": "code",
   "execution_count": 12,
   "metadata": {},
   "outputs": [
    {
     "name": "stderr",
     "output_type": "stream",
     "text": [
      "Warning message:\n",
      "\"package 'dbConnect' was built under R version 3.6.1\"Loading required package: gWidgets\n",
      "Warning message:\n",
      "\"package 'gWidgets' was built under R version 3.6.1\""
     ]
    }
   ],
   "source": [
    "library(RMySQL)\n",
    "library(dbConnect)"
   ]
  },
  {
   "cell_type": "markdown",
   "metadata": {},
   "source": [
    "connect to mysql database using <b>dbConnect()</b> and pass user, password, database and host"
   ]
  },
  {
   "cell_type": "code",
   "execution_count": 35,
   "metadata": {},
   "outputs": [],
   "source": [
    "con <- dbConnect(MySQL(),user=\"root\",password=\"\",db=\"mydb\",host=\"localhost\")"
   ]
  },
  {
   "cell_type": "markdown",
   "metadata": {},
   "source": [
    "list all tables in database using <b>dbListTables</b>"
   ]
  },
  {
   "cell_type": "code",
   "execution_count": 36,
   "metadata": {},
   "outputs": [
    {
     "data": {
      "text/html": [
       "'student'"
      ],
      "text/latex": [
       "'student'"
      ],
      "text/markdown": [
       "'student'"
      ],
      "text/plain": [
       "[1] \"student\""
      ]
     },
     "metadata": {},
     "output_type": "display_data"
    }
   ],
   "source": [
    "dbListTables(con)"
   ]
  },
  {
   "cell_type": "markdown",
   "metadata": {},
   "source": [
    "run query using <b>dbGetQuery</b>"
   ]
  },
  {
   "cell_type": "code",
   "execution_count": 37,
   "metadata": {},
   "outputs": [],
   "source": [
    "sql <- \"SELECT * FROM student\""
   ]
  },
  {
   "cell_type": "code",
   "execution_count": 38,
   "metadata": {},
   "outputs": [
    {
     "data": {
      "text/html": [
       "<table>\n",
       "<thead><tr><th scope=col>id</th><th scope=col>name</th><th scope=col>marks</th></tr></thead>\n",
       "<tbody>\n",
       "\t<tr><td>1    </td><td>Jack </td><td>80   </td></tr>\n",
       "\t<tr><td>2    </td><td>Jill </td><td>98   </td></tr>\n",
       "\t<tr><td>3    </td><td>Jenny</td><td>78   </td></tr>\n",
       "\t<tr><td>4    </td><td>John </td><td>80   </td></tr>\n",
       "</tbody>\n",
       "</table>\n"
      ],
      "text/latex": [
       "\\begin{tabular}{r|lll}\n",
       " id & name & marks\\\\\n",
       "\\hline\n",
       "\t 1     & Jack  & 80   \\\\\n",
       "\t 2     & Jill  & 98   \\\\\n",
       "\t 3     & Jenny & 78   \\\\\n",
       "\t 4     & John  & 80   \\\\\n",
       "\\end{tabular}\n"
      ],
      "text/markdown": [
       "\n",
       "| id | name | marks |\n",
       "|---|---|---|\n",
       "| 1     | Jack  | 80    |\n",
       "| 2     | Jill  | 98    |\n",
       "| 3     | Jenny | 78    |\n",
       "| 4     | John  | 80    |\n",
       "\n"
      ],
      "text/plain": [
       "  id name  marks\n",
       "1 1  Jack  80   \n",
       "2 2  Jill  98   \n",
       "3 3  Jenny 78   \n",
       "4 4  John  80   "
      ]
     },
     "metadata": {},
     "output_type": "display_data"
    }
   ],
   "source": [
    "dbGetQuery(con,sql)"
   ]
  },
  {
   "cell_type": "markdown",
   "metadata": {},
   "source": [
    "close connection with <b>dbDisconnect</b>"
   ]
  },
  {
   "cell_type": "code",
   "execution_count": 39,
   "metadata": {},
   "outputs": [
    {
     "data": {
      "text/html": [
       "TRUE"
      ],
      "text/latex": [
       "TRUE"
      ],
      "text/markdown": [
       "TRUE"
      ],
      "text/plain": [
       "[1] TRUE"
      ]
     },
     "metadata": {},
     "output_type": "display_data"
    }
   ],
   "source": [
    "dbDisconnect(con)"
   ]
  },
  {
   "cell_type": "markdown",
   "metadata": {},
   "source": [
    "To learn more go through the following documentation <a href=\"https://cran.r-project.org/web/packages/RMySQL/index.html\">RMySQL</a>"
   ]
  },
  {
   "cell_type": "markdown",
   "metadata": {},
   "source": [
    "For Oracle, go through the following documentation <a href=\"https://cran.r-project.org/web/packages/ROracle/index.html\">ROracle</a>"
   ]
  }
 ],
 "metadata": {
  "kernelspec": {
   "display_name": "R",
   "language": "R",
   "name": "ir"
  },
  "language_info": {
   "codemirror_mode": "r",
   "file_extension": ".r",
   "mimetype": "text/x-r-source",
   "name": "R",
   "pygments_lexer": "r",
   "version": "3.6.0"
  }
 },
 "nbformat": 4,
 "nbformat_minor": 2
}
