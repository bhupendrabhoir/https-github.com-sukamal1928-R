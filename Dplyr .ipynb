{
 "cells": [
  {
   "cell_type": "markdown",
   "metadata": {},
   "source": [
    "# Dplyr"
   ]
  },
  {
   "cell_type": "markdown",
   "metadata": {},
   "source": [
    "Dplyr library is used for data manipulation"
   ]
  },
  {
   "cell_type": "markdown",
   "metadata": {},
   "source": [
    "### Installation"
   ]
  },
  {
   "cell_type": "code",
   "execution_count": 1,
   "metadata": {},
   "outputs": [
    {
     "name": "stderr",
     "output_type": "stream",
     "text": [
      "Installing package into 'C:/Users/itvedant-le1/Documents/R/win-library/3.6'\n",
      "(as 'lib' is unspecified)\n"
     ]
    },
    {
     "name": "stdout",
     "output_type": "stream",
     "text": [
      "package 'dplyr' successfully unpacked and MD5 sums checked\n",
      "\n",
      "The downloaded binary packages are in\n",
      "\tC:\\Users\\itvedant-le1\\AppData\\Local\\Temp\\RtmpmQ740N\\downloaded_packages\n"
     ]
    }
   ],
   "source": [
    "install.packages(\"dplyr\")"
   ]
  },
  {
   "cell_type": "code",
   "execution_count": 2,
   "metadata": {},
   "outputs": [
    {
     "name": "stderr",
     "output_type": "stream",
     "text": [
      "Warning message:\n",
      "\"package 'dplyr' was built under R version 3.6.1\"\n",
      "Attaching package: 'dplyr'\n",
      "\n",
      "The following objects are masked from 'package:stats':\n",
      "\n",
      "    filter, lag\n",
      "\n",
      "The following objects are masked from 'package:base':\n",
      "\n",
      "    intersect, setdiff, setequal, union\n",
      "\n"
     ]
    }
   ],
   "source": [
    "library(\"dplyr\")"
   ]
  },
  {
   "cell_type": "markdown",
   "metadata": {},
   "source": [
    "### Installation of nyc flights data"
   ]
  },
  {
   "cell_type": "code",
   "execution_count": 3,
   "metadata": {},
   "outputs": [
    {
     "name": "stderr",
     "output_type": "stream",
     "text": [
      "Installing package into 'C:/Users/itvedant-le1/Documents/R/win-library/3.6'\n",
      "(as 'lib' is unspecified)\n"
     ]
    },
    {
     "name": "stdout",
     "output_type": "stream",
     "text": [
      "package 'nycflights13' successfully unpacked and MD5 sums checked\n",
      "\n",
      "The downloaded binary packages are in\n",
      "\tC:\\Users\\itvedant-le1\\AppData\\Local\\Temp\\RtmpmQ740N\\downloaded_packages\n"
     ]
    }
   ],
   "source": [
    "install.packages('nycflights13')"
   ]
  },
  {
   "cell_type": "code",
   "execution_count": 4,
   "metadata": {},
   "outputs": [
    {
     "name": "stderr",
     "output_type": "stream",
     "text": [
      "Warning message:\n",
      "\"package 'nycflights13' was built under R version 3.6.1\""
     ]
    }
   ],
   "source": [
    "library(nycflights13)"
   ]
  },
  {
   "cell_type": "code",
   "execution_count": 5,
   "metadata": {},
   "outputs": [
    {
     "data": {
      "text/html": [
       "<table>\n",
       "<thead><tr><th scope=col>year</th><th scope=col>month</th><th scope=col>day</th><th scope=col>dep_time</th><th scope=col>sched_dep_time</th><th scope=col>dep_delay</th><th scope=col>arr_time</th><th scope=col>sched_arr_time</th><th scope=col>arr_delay</th><th scope=col>carrier</th><th scope=col>flight</th><th scope=col>tailnum</th><th scope=col>origin</th><th scope=col>dest</th><th scope=col>air_time</th><th scope=col>distance</th><th scope=col>hour</th><th scope=col>minute</th><th scope=col>time_hour</th></tr></thead>\n",
       "<tbody>\n",
       "\t<tr><td>2013               </td><td>1                  </td><td>1                  </td><td>517                </td><td>515                </td><td> 2                 </td><td> 830               </td><td> 819               </td><td> 11                </td><td>UA                 </td><td>1545               </td><td>N14228             </td><td>EWR                </td><td>IAH                </td><td>227                </td><td>1400               </td><td>5                  </td><td>15                 </td><td>2013-01-01 05:00:00</td></tr>\n",
       "\t<tr><td>2013               </td><td>1                  </td><td>1                  </td><td>533                </td><td>529                </td><td> 4                 </td><td> 850               </td><td> 830               </td><td> 20                </td><td>UA                 </td><td>1714               </td><td>N24211             </td><td>LGA                </td><td>IAH                </td><td>227                </td><td>1416               </td><td>5                  </td><td>29                 </td><td>2013-01-01 05:00:00</td></tr>\n",
       "\t<tr><td>2013               </td><td>1                  </td><td>1                  </td><td>542                </td><td>540                </td><td> 2                 </td><td> 923               </td><td> 850               </td><td> 33                </td><td>AA                 </td><td>1141               </td><td>N619AA             </td><td>JFK                </td><td>MIA                </td><td>160                </td><td>1089               </td><td>5                  </td><td>40                 </td><td>2013-01-01 05:00:00</td></tr>\n",
       "\t<tr><td>2013               </td><td>1                  </td><td>1                  </td><td>544                </td><td>545                </td><td>-1                 </td><td>1004               </td><td>1022               </td><td>-18                </td><td>B6                 </td><td> 725               </td><td>N804JB             </td><td>JFK                </td><td>BQN                </td><td>183                </td><td>1576               </td><td>5                  </td><td>45                 </td><td>2013-01-01 05:00:00</td></tr>\n",
       "\t<tr><td>2013               </td><td>1                  </td><td>1                  </td><td>554                </td><td>600                </td><td>-6                 </td><td> 812               </td><td> 837               </td><td>-25                </td><td>DL                 </td><td> 461               </td><td>N668DN             </td><td>LGA                </td><td>ATL                </td><td>116                </td><td> 762               </td><td>6                  </td><td> 0                 </td><td>2013-01-01 06:00:00</td></tr>\n",
       "\t<tr><td>2013               </td><td>1                  </td><td>1                  </td><td>554                </td><td>558                </td><td>-4                 </td><td> 740               </td><td> 728               </td><td> 12                </td><td>UA                 </td><td>1696               </td><td>N39463             </td><td>EWR                </td><td>ORD                </td><td>150                </td><td> 719               </td><td>5                  </td><td>58                 </td><td>2013-01-01 05:00:00</td></tr>\n",
       "</tbody>\n",
       "</table>\n"
      ],
      "text/latex": [
       "\\begin{tabular}{r|lllllllllllllllllll}\n",
       " year & month & day & dep\\_time & sched\\_dep\\_time & dep\\_delay & arr\\_time & sched\\_arr\\_time & arr\\_delay & carrier & flight & tailnum & origin & dest & air\\_time & distance & hour & minute & time\\_hour\\\\\n",
       "\\hline\n",
       "\t 2013                & 1                   & 1                   & 517                 & 515                 &  2                  &  830                &  819                &  11                 & UA                  & 1545                & N14228              & EWR                 & IAH                 & 227                 & 1400                & 5                   & 15                  & 2013-01-01 05:00:00\\\\\n",
       "\t 2013                & 1                   & 1                   & 533                 & 529                 &  4                  &  850                &  830                &  20                 & UA                  & 1714                & N24211              & LGA                 & IAH                 & 227                 & 1416                & 5                   & 29                  & 2013-01-01 05:00:00\\\\\n",
       "\t 2013                & 1                   & 1                   & 542                 & 540                 &  2                  &  923                &  850                &  33                 & AA                  & 1141                & N619AA              & JFK                 & MIA                 & 160                 & 1089                & 5                   & 40                  & 2013-01-01 05:00:00\\\\\n",
       "\t 2013                & 1                   & 1                   & 544                 & 545                 & -1                  & 1004                & 1022                & -18                 & B6                  &  725                & N804JB              & JFK                 & BQN                 & 183                 & 1576                & 5                   & 45                  & 2013-01-01 05:00:00\\\\\n",
       "\t 2013                & 1                   & 1                   & 554                 & 600                 & -6                  &  812                &  837                & -25                 & DL                  &  461                & N668DN              & LGA                 & ATL                 & 116                 &  762                & 6                   &  0                  & 2013-01-01 06:00:00\\\\\n",
       "\t 2013                & 1                   & 1                   & 554                 & 558                 & -4                  &  740                &  728                &  12                 & UA                  & 1696                & N39463              & EWR                 & ORD                 & 150                 &  719                & 5                   & 58                  & 2013-01-01 05:00:00\\\\\n",
       "\\end{tabular}\n"
      ],
      "text/markdown": [
       "\n",
       "| year | month | day | dep_time | sched_dep_time | dep_delay | arr_time | sched_arr_time | arr_delay | carrier | flight | tailnum | origin | dest | air_time | distance | hour | minute | time_hour |\n",
       "|---|---|---|---|---|---|---|---|---|---|---|---|---|---|---|---|---|---|---|\n",
       "| 2013                | 1                   | 1                   | 517                 | 515                 |  2                  |  830                |  819                |  11                 | UA                  | 1545                | N14228              | EWR                 | IAH                 | 227                 | 1400                | 5                   | 15                  | 2013-01-01 05:00:00 |\n",
       "| 2013                | 1                   | 1                   | 533                 | 529                 |  4                  |  850                |  830                |  20                 | UA                  | 1714                | N24211              | LGA                 | IAH                 | 227                 | 1416                | 5                   | 29                  | 2013-01-01 05:00:00 |\n",
       "| 2013                | 1                   | 1                   | 542                 | 540                 |  2                  |  923                |  850                |  33                 | AA                  | 1141                | N619AA              | JFK                 | MIA                 | 160                 | 1089                | 5                   | 40                  | 2013-01-01 05:00:00 |\n",
       "| 2013                | 1                   | 1                   | 544                 | 545                 | -1                  | 1004                | 1022                | -18                 | B6                  |  725                | N804JB              | JFK                 | BQN                 | 183                 | 1576                | 5                   | 45                  | 2013-01-01 05:00:00 |\n",
       "| 2013                | 1                   | 1                   | 554                 | 600                 | -6                  |  812                |  837                | -25                 | DL                  |  461                | N668DN              | LGA                 | ATL                 | 116                 |  762                | 6                   |  0                  | 2013-01-01 06:00:00 |\n",
       "| 2013                | 1                   | 1                   | 554                 | 558                 | -4                  |  740                |  728                |  12                 | UA                  | 1696                | N39463              | EWR                 | ORD                 | 150                 |  719                | 5                   | 58                  | 2013-01-01 05:00:00 |\n",
       "\n"
      ],
      "text/plain": [
       "  year month day dep_time sched_dep_time dep_delay arr_time sched_arr_time\n",
       "1 2013 1     1   517      515             2         830      819          \n",
       "2 2013 1     1   533      529             4         850      830          \n",
       "3 2013 1     1   542      540             2         923      850          \n",
       "4 2013 1     1   544      545            -1        1004     1022          \n",
       "5 2013 1     1   554      600            -6         812      837          \n",
       "6 2013 1     1   554      558            -4         740      728          \n",
       "  arr_delay carrier flight tailnum origin dest air_time distance hour minute\n",
       "1  11       UA      1545   N14228  EWR    IAH  227      1400     5    15    \n",
       "2  20       UA      1714   N24211  LGA    IAH  227      1416     5    29    \n",
       "3  33       AA      1141   N619AA  JFK    MIA  160      1089     5    40    \n",
       "4 -18       B6       725   N804JB  JFK    BQN  183      1576     5    45    \n",
       "5 -25       DL       461   N668DN  LGA    ATL  116       762     6     0    \n",
       "6  12       UA      1696   N39463  EWR    ORD  150       719     5    58    \n",
       "  time_hour          \n",
       "1 2013-01-01 05:00:00\n",
       "2 2013-01-01 05:00:00\n",
       "3 2013-01-01 05:00:00\n",
       "4 2013-01-01 05:00:00\n",
       "5 2013-01-01 06:00:00\n",
       "6 2013-01-01 05:00:00"
      ]
     },
     "metadata": {},
     "output_type": "display_data"
    }
   ],
   "source": [
    "head(flights)"
   ]
  },
  {
   "cell_type": "code",
   "execution_count": 6,
   "metadata": {},
   "outputs": [
    {
     "data": {
      "text/plain": [
       "      year          month             day           dep_time    sched_dep_time\n",
       " Min.   :2013   Min.   : 1.000   Min.   : 1.00   Min.   :   1   Min.   : 106  \n",
       " 1st Qu.:2013   1st Qu.: 4.000   1st Qu.: 8.00   1st Qu.: 907   1st Qu.: 906  \n",
       " Median :2013   Median : 7.000   Median :16.00   Median :1401   Median :1359  \n",
       " Mean   :2013   Mean   : 6.549   Mean   :15.71   Mean   :1349   Mean   :1344  \n",
       " 3rd Qu.:2013   3rd Qu.:10.000   3rd Qu.:23.00   3rd Qu.:1744   3rd Qu.:1729  \n",
       " Max.   :2013   Max.   :12.000   Max.   :31.00   Max.   :2400   Max.   :2359  \n",
       "                                                 NA's   :8255                 \n",
       "   dep_delay          arr_time    sched_arr_time   arr_delay       \n",
       " Min.   : -43.00   Min.   :   1   Min.   :   1   Min.   : -86.000  \n",
       " 1st Qu.:  -5.00   1st Qu.:1104   1st Qu.:1124   1st Qu.: -17.000  \n",
       " Median :  -2.00   Median :1535   Median :1556   Median :  -5.000  \n",
       " Mean   :  12.64   Mean   :1502   Mean   :1536   Mean   :   6.895  \n",
       " 3rd Qu.:  11.00   3rd Qu.:1940   3rd Qu.:1945   3rd Qu.:  14.000  \n",
       " Max.   :1301.00   Max.   :2400   Max.   :2359   Max.   :1272.000  \n",
       " NA's   :8255      NA's   :8713                  NA's   :9430      \n",
       "   carrier              flight       tailnum             origin         \n",
       " Length:336776      Min.   :   1   Length:336776      Length:336776     \n",
       " Class :character   1st Qu.: 553   Class :character   Class :character  \n",
       " Mode  :character   Median :1496   Mode  :character   Mode  :character  \n",
       "                    Mean   :1972                                        \n",
       "                    3rd Qu.:3465                                        \n",
       "                    Max.   :8500                                        \n",
       "                                                                        \n",
       "     dest              air_time        distance         hour      \n",
       " Length:336776      Min.   : 20.0   Min.   :  17   Min.   : 1.00  \n",
       " Class :character   1st Qu.: 82.0   1st Qu.: 502   1st Qu.: 9.00  \n",
       " Mode  :character   Median :129.0   Median : 872   Median :13.00  \n",
       "                    Mean   :150.7   Mean   :1040   Mean   :13.18  \n",
       "                    3rd Qu.:192.0   3rd Qu.:1389   3rd Qu.:17.00  \n",
       "                    Max.   :695.0   Max.   :4983   Max.   :23.00  \n",
       "                    NA's   :9430                                  \n",
       "     minute        time_hour                  \n",
       " Min.   : 0.00   Min.   :2013-01-01 05:00:00  \n",
       " 1st Qu.: 8.00   1st Qu.:2013-04-04 13:00:00  \n",
       " Median :29.00   Median :2013-07-03 10:00:00  \n",
       " Mean   :26.23   Mean   :2013-07-03 05:22:54  \n",
       " 3rd Qu.:44.00   3rd Qu.:2013-10-01 07:00:00  \n",
       " Max.   :59.00   Max.   :2013-12-31 23:00:00  \n",
       "                                              "
      ]
     },
     "metadata": {},
     "output_type": "display_data"
    }
   ],
   "source": [
    "summary(flights)"
   ]
  },
  {
   "cell_type": "code",
   "execution_count": 7,
   "metadata": {},
   "outputs": [
    {
     "data": {
      "text/html": [
       "<ol class=list-inline>\n",
       "\t<li>336776</li>\n",
       "\t<li>19</li>\n",
       "</ol>\n"
      ],
      "text/latex": [
       "\\begin{enumerate*}\n",
       "\\item 336776\n",
       "\\item 19\n",
       "\\end{enumerate*}\n"
      ],
      "text/markdown": [
       "1. 336776\n",
       "2. 19\n",
       "\n",
       "\n"
      ],
      "text/plain": [
       "[1] 336776     19"
      ]
     },
     "metadata": {},
     "output_type": "display_data"
    }
   ],
   "source": [
    "dim(flights)"
   ]
  },
  {
   "cell_type": "markdown",
   "metadata": {},
   "source": [
    "### 1) filter \n",
    "\n",
    "filter() allows you to select a subset of rows in a data frame"
   ]
  },
  {
   "cell_type": "code",
   "execution_count": 8,
   "metadata": {},
   "outputs": [
    {
     "data": {
      "text/html": [
       "<table>\n",
       "<thead><tr><th scope=col>year</th><th scope=col>month</th><th scope=col>day</th><th scope=col>dep_time</th><th scope=col>sched_dep_time</th><th scope=col>dep_delay</th><th scope=col>arr_time</th><th scope=col>sched_arr_time</th><th scope=col>arr_delay</th><th scope=col>carrier</th><th scope=col>flight</th><th scope=col>tailnum</th><th scope=col>origin</th><th scope=col>dest</th><th scope=col>air_time</th><th scope=col>distance</th><th scope=col>hour</th><th scope=col>minute</th><th scope=col>time_hour</th></tr></thead>\n",
       "<tbody>\n",
       "\t<tr><td>2013               </td><td>11                 </td><td>3                  </td><td>538                </td><td>545                </td><td>-7                 </td><td>824                </td><td>855                </td><td>-31                </td><td>AA                 </td><td>2243               </td><td>N5DWAA             </td><td>JFK                </td><td>MIA                </td><td>144                </td><td>1089               </td><td>5                  </td><td>45                 </td><td>2013-11-03 05:00:00</td></tr>\n",
       "\t<tr><td>2013               </td><td>11                 </td><td>3                  </td><td>556                </td><td>600                </td><td>-4                 </td><td>900                </td><td>905                </td><td> -5                </td><td>AA                 </td><td>1175               </td><td>N3CSAA             </td><td>LGA                </td><td>MIA                </td><td>148                </td><td>1096               </td><td>6                  </td><td> 0                 </td><td>2013-11-03 06:00:00</td></tr>\n",
       "\t<tr><td>2013               </td><td>11                 </td><td>3                  </td><td>604                </td><td>610                </td><td>-6                 </td><td>844                </td><td>855                </td><td>-11                </td><td>AA                 </td><td>1103               </td><td>N3KDAA             </td><td>LGA                </td><td>DFW                </td><td>192                </td><td>1389               </td><td>6                  </td><td>10                 </td><td>2013-11-03 06:00:00</td></tr>\n",
       "\t<tr><td>2013               </td><td>11                 </td><td>3                  </td><td>624                </td><td>629                </td><td>-5                 </td><td>907                </td><td>929                </td><td>-22                </td><td>AA                 </td><td>1205               </td><td>N3EJAA             </td><td>EWR                </td><td>MIA                </td><td>141                </td><td>1085               </td><td>6                  </td><td>29                 </td><td>2013-11-03 06:00:00</td></tr>\n",
       "\t<tr><td>2013               </td><td>11                 </td><td>3                  </td><td>625                </td><td>630                </td><td>-5                 </td><td>736                </td><td>805                </td><td>-29                </td><td>AA                 </td><td> 303               </td><td>N4WJAA             </td><td>LGA                </td><td>ORD                </td><td>113                </td><td> 733               </td><td>6                  </td><td>30                 </td><td>2013-11-03 06:00:00</td></tr>\n",
       "\t<tr><td>2013               </td><td>11                 </td><td>3                  </td><td>653                </td><td>655                </td><td>-2                 </td><td>925                </td><td>920                </td><td>  5                </td><td>AA                 </td><td>1263               </td><td>N634AA             </td><td>JFK                </td><td>LAS                </td><td>306                </td><td>2248               </td><td>6                  </td><td>55                 </td><td>2013-11-03 06:00:00</td></tr>\n",
       "</tbody>\n",
       "</table>\n"
      ],
      "text/latex": [
       "\\begin{tabular}{r|lllllllllllllllllll}\n",
       " year & month & day & dep\\_time & sched\\_dep\\_time & dep\\_delay & arr\\_time & sched\\_arr\\_time & arr\\_delay & carrier & flight & tailnum & origin & dest & air\\_time & distance & hour & minute & time\\_hour\\\\\n",
       "\\hline\n",
       "\t 2013                & 11                  & 3                   & 538                 & 545                 & -7                  & 824                 & 855                 & -31                 & AA                  & 2243                & N5DWAA              & JFK                 & MIA                 & 144                 & 1089                & 5                   & 45                  & 2013-11-03 05:00:00\\\\\n",
       "\t 2013                & 11                  & 3                   & 556                 & 600                 & -4                  & 900                 & 905                 &  -5                 & AA                  & 1175                & N3CSAA              & LGA                 & MIA                 & 148                 & 1096                & 6                   &  0                  & 2013-11-03 06:00:00\\\\\n",
       "\t 2013                & 11                  & 3                   & 604                 & 610                 & -6                  & 844                 & 855                 & -11                 & AA                  & 1103                & N3KDAA              & LGA                 & DFW                 & 192                 & 1389                & 6                   & 10                  & 2013-11-03 06:00:00\\\\\n",
       "\t 2013                & 11                  & 3                   & 624                 & 629                 & -5                  & 907                 & 929                 & -22                 & AA                  & 1205                & N3EJAA              & EWR                 & MIA                 & 141                 & 1085                & 6                   & 29                  & 2013-11-03 06:00:00\\\\\n",
       "\t 2013                & 11                  & 3                   & 625                 & 630                 & -5                  & 736                 & 805                 & -29                 & AA                  &  303                & N4WJAA              & LGA                 & ORD                 & 113                 &  733                & 6                   & 30                  & 2013-11-03 06:00:00\\\\\n",
       "\t 2013                & 11                  & 3                   & 653                 & 655                 & -2                  & 925                 & 920                 &   5                 & AA                  & 1263                & N634AA              & JFK                 & LAS                 & 306                 & 2248                & 6                   & 55                  & 2013-11-03 06:00:00\\\\\n",
       "\\end{tabular}\n"
      ],
      "text/markdown": [
       "\n",
       "| year | month | day | dep_time | sched_dep_time | dep_delay | arr_time | sched_arr_time | arr_delay | carrier | flight | tailnum | origin | dest | air_time | distance | hour | minute | time_hour |\n",
       "|---|---|---|---|---|---|---|---|---|---|---|---|---|---|---|---|---|---|---|\n",
       "| 2013                | 11                  | 3                   | 538                 | 545                 | -7                  | 824                 | 855                 | -31                 | AA                  | 2243                | N5DWAA              | JFK                 | MIA                 | 144                 | 1089                | 5                   | 45                  | 2013-11-03 05:00:00 |\n",
       "| 2013                | 11                  | 3                   | 556                 | 600                 | -4                  | 900                 | 905                 |  -5                 | AA                  | 1175                | N3CSAA              | LGA                 | MIA                 | 148                 | 1096                | 6                   |  0                  | 2013-11-03 06:00:00 |\n",
       "| 2013                | 11                  | 3                   | 604                 | 610                 | -6                  | 844                 | 855                 | -11                 | AA                  | 1103                | N3KDAA              | LGA                 | DFW                 | 192                 | 1389                | 6                   | 10                  | 2013-11-03 06:00:00 |\n",
       "| 2013                | 11                  | 3                   | 624                 | 629                 | -5                  | 907                 | 929                 | -22                 | AA                  | 1205                | N3EJAA              | EWR                 | MIA                 | 141                 | 1085                | 6                   | 29                  | 2013-11-03 06:00:00 |\n",
       "| 2013                | 11                  | 3                   | 625                 | 630                 | -5                  | 736                 | 805                 | -29                 | AA                  |  303                | N4WJAA              | LGA                 | ORD                 | 113                 |  733                | 6                   | 30                  | 2013-11-03 06:00:00 |\n",
       "| 2013                | 11                  | 3                   | 653                 | 655                 | -2                  | 925                 | 920                 |   5                 | AA                  | 1263                | N634AA              | JFK                 | LAS                 | 306                 | 2248                | 6                   | 55                  | 2013-11-03 06:00:00 |\n",
       "\n"
      ],
      "text/plain": [
       "  year month day dep_time sched_dep_time dep_delay arr_time sched_arr_time\n",
       "1 2013 11    3   538      545            -7        824      855           \n",
       "2 2013 11    3   556      600            -4        900      905           \n",
       "3 2013 11    3   604      610            -6        844      855           \n",
       "4 2013 11    3   624      629            -5        907      929           \n",
       "5 2013 11    3   625      630            -5        736      805           \n",
       "6 2013 11    3   653      655            -2        925      920           \n",
       "  arr_delay carrier flight tailnum origin dest air_time distance hour minute\n",
       "1 -31       AA      2243   N5DWAA  JFK    MIA  144      1089     5    45    \n",
       "2  -5       AA      1175   N3CSAA  LGA    MIA  148      1096     6     0    \n",
       "3 -11       AA      1103   N3KDAA  LGA    DFW  192      1389     6    10    \n",
       "4 -22       AA      1205   N3EJAA  EWR    MIA  141      1085     6    29    \n",
       "5 -29       AA       303   N4WJAA  LGA    ORD  113       733     6    30    \n",
       "6   5       AA      1263   N634AA  JFK    LAS  306      2248     6    55    \n",
       "  time_hour          \n",
       "1 2013-11-03 05:00:00\n",
       "2 2013-11-03 06:00:00\n",
       "3 2013-11-03 06:00:00\n",
       "4 2013-11-03 06:00:00\n",
       "5 2013-11-03 06:00:00\n",
       "6 2013-11-03 06:00:00"
      ]
     },
     "metadata": {},
     "output_type": "display_data"
    }
   ],
   "source": [
    "head(filter(flights,month==11,day==3,carrier=='AA'))"
   ]
  },
  {
   "cell_type": "code",
   "execution_count": 9,
   "metadata": {},
   "outputs": [
    {
     "data": {
      "text/html": [
       "<table>\n",
       "<thead><tr><th scope=col>year</th><th scope=col>month</th><th scope=col>day</th><th scope=col>dep_time</th><th scope=col>sched_dep_time</th><th scope=col>dep_delay</th><th scope=col>arr_time</th><th scope=col>sched_arr_time</th><th scope=col>arr_delay</th><th scope=col>carrier</th><th scope=col>flight</th><th scope=col>tailnum</th><th scope=col>origin</th><th scope=col>dest</th><th scope=col>air_time</th><th scope=col>distance</th><th scope=col>hour</th><th scope=col>minute</th><th scope=col>time_hour</th></tr></thead>\n",
       "<tbody>\n",
       "\t<tr><td>2013               </td><td>11                 </td><td>3                  </td><td>538                </td><td>545                </td><td>-7                 </td><td>824                </td><td>855                </td><td>-31                </td><td>AA                 </td><td>2243               </td><td>N5DWAA             </td><td>JFK                </td><td>MIA                </td><td>144                </td><td>1089               </td><td>5                  </td><td>45                 </td><td>2013-11-03 05:00:00</td></tr>\n",
       "\t<tr><td>2013               </td><td>11                 </td><td>3                  </td><td>556                </td><td>600                </td><td>-4                 </td><td>900                </td><td>905                </td><td> -5                </td><td>AA                 </td><td>1175               </td><td>N3CSAA             </td><td>LGA                </td><td>MIA                </td><td>148                </td><td>1096               </td><td>6                  </td><td> 0                 </td><td>2013-11-03 06:00:00</td></tr>\n",
       "\t<tr><td>2013               </td><td>11                 </td><td>3                  </td><td>604                </td><td>610                </td><td>-6                 </td><td>844                </td><td>855                </td><td>-11                </td><td>AA                 </td><td>1103               </td><td>N3KDAA             </td><td>LGA                </td><td>DFW                </td><td>192                </td><td>1389               </td><td>6                  </td><td>10                 </td><td>2013-11-03 06:00:00</td></tr>\n",
       "\t<tr><td>2013               </td><td>11                 </td><td>3                  </td><td>624                </td><td>629                </td><td>-5                 </td><td>907                </td><td>929                </td><td>-22                </td><td>AA                 </td><td>1205               </td><td>N3EJAA             </td><td>EWR                </td><td>MIA                </td><td>141                </td><td>1085               </td><td>6                  </td><td>29                 </td><td>2013-11-03 06:00:00</td></tr>\n",
       "\t<tr><td>2013               </td><td>11                 </td><td>3                  </td><td>625                </td><td>630                </td><td>-5                 </td><td>736                </td><td>805                </td><td>-29                </td><td>AA                 </td><td> 303               </td><td>N4WJAA             </td><td>LGA                </td><td>ORD                </td><td>113                </td><td> 733               </td><td>6                  </td><td>30                 </td><td>2013-11-03 06:00:00</td></tr>\n",
       "\t<tr><td>2013               </td><td>11                 </td><td>3                  </td><td>653                </td><td>655                </td><td>-2                 </td><td>925                </td><td>920                </td><td>  5                </td><td>AA                 </td><td>1263               </td><td>N634AA             </td><td>JFK                </td><td>LAS                </td><td>306                </td><td>2248               </td><td>6                  </td><td>55                 </td><td>2013-11-03 06:00:00</td></tr>\n",
       "</tbody>\n",
       "</table>\n"
      ],
      "text/latex": [
       "\\begin{tabular}{r|lllllllllllllllllll}\n",
       " year & month & day & dep\\_time & sched\\_dep\\_time & dep\\_delay & arr\\_time & sched\\_arr\\_time & arr\\_delay & carrier & flight & tailnum & origin & dest & air\\_time & distance & hour & minute & time\\_hour\\\\\n",
       "\\hline\n",
       "\t 2013                & 11                  & 3                   & 538                 & 545                 & -7                  & 824                 & 855                 & -31                 & AA                  & 2243                & N5DWAA              & JFK                 & MIA                 & 144                 & 1089                & 5                   & 45                  & 2013-11-03 05:00:00\\\\\n",
       "\t 2013                & 11                  & 3                   & 556                 & 600                 & -4                  & 900                 & 905                 &  -5                 & AA                  & 1175                & N3CSAA              & LGA                 & MIA                 & 148                 & 1096                & 6                   &  0                  & 2013-11-03 06:00:00\\\\\n",
       "\t 2013                & 11                  & 3                   & 604                 & 610                 & -6                  & 844                 & 855                 & -11                 & AA                  & 1103                & N3KDAA              & LGA                 & DFW                 & 192                 & 1389                & 6                   & 10                  & 2013-11-03 06:00:00\\\\\n",
       "\t 2013                & 11                  & 3                   & 624                 & 629                 & -5                  & 907                 & 929                 & -22                 & AA                  & 1205                & N3EJAA              & EWR                 & MIA                 & 141                 & 1085                & 6                   & 29                  & 2013-11-03 06:00:00\\\\\n",
       "\t 2013                & 11                  & 3                   & 625                 & 630                 & -5                  & 736                 & 805                 & -29                 & AA                  &  303                & N4WJAA              & LGA                 & ORD                 & 113                 &  733                & 6                   & 30                  & 2013-11-03 06:00:00\\\\\n",
       "\t 2013                & 11                  & 3                   & 653                 & 655                 & -2                  & 925                 & 920                 &   5                 & AA                  & 1263                & N634AA              & JFK                 & LAS                 & 306                 & 2248                & 6                   & 55                  & 2013-11-03 06:00:00\\\\\n",
       "\\end{tabular}\n"
      ],
      "text/markdown": [
       "\n",
       "| year | month | day | dep_time | sched_dep_time | dep_delay | arr_time | sched_arr_time | arr_delay | carrier | flight | tailnum | origin | dest | air_time | distance | hour | minute | time_hour |\n",
       "|---|---|---|---|---|---|---|---|---|---|---|---|---|---|---|---|---|---|---|\n",
       "| 2013                | 11                  | 3                   | 538                 | 545                 | -7                  | 824                 | 855                 | -31                 | AA                  | 2243                | N5DWAA              | JFK                 | MIA                 | 144                 | 1089                | 5                   | 45                  | 2013-11-03 05:00:00 |\n",
       "| 2013                | 11                  | 3                   | 556                 | 600                 | -4                  | 900                 | 905                 |  -5                 | AA                  | 1175                | N3CSAA              | LGA                 | MIA                 | 148                 | 1096                | 6                   |  0                  | 2013-11-03 06:00:00 |\n",
       "| 2013                | 11                  | 3                   | 604                 | 610                 | -6                  | 844                 | 855                 | -11                 | AA                  | 1103                | N3KDAA              | LGA                 | DFW                 | 192                 | 1389                | 6                   | 10                  | 2013-11-03 06:00:00 |\n",
       "| 2013                | 11                  | 3                   | 624                 | 629                 | -5                  | 907                 | 929                 | -22                 | AA                  | 1205                | N3EJAA              | EWR                 | MIA                 | 141                 | 1085                | 6                   | 29                  | 2013-11-03 06:00:00 |\n",
       "| 2013                | 11                  | 3                   | 625                 | 630                 | -5                  | 736                 | 805                 | -29                 | AA                  |  303                | N4WJAA              | LGA                 | ORD                 | 113                 |  733                | 6                   | 30                  | 2013-11-03 06:00:00 |\n",
       "| 2013                | 11                  | 3                   | 653                 | 655                 | -2                  | 925                 | 920                 |   5                 | AA                  | 1263                | N634AA              | JFK                 | LAS                 | 306                 | 2248                | 6                   | 55                  | 2013-11-03 06:00:00 |\n",
       "\n"
      ],
      "text/plain": [
       "  year month day dep_time sched_dep_time dep_delay arr_time sched_arr_time\n",
       "1 2013 11    3   538      545            -7        824      855           \n",
       "2 2013 11    3   556      600            -4        900      905           \n",
       "3 2013 11    3   604      610            -6        844      855           \n",
       "4 2013 11    3   624      629            -5        907      929           \n",
       "5 2013 11    3   625      630            -5        736      805           \n",
       "6 2013 11    3   653      655            -2        925      920           \n",
       "  arr_delay carrier flight tailnum origin dest air_time distance hour minute\n",
       "1 -31       AA      2243   N5DWAA  JFK    MIA  144      1089     5    45    \n",
       "2  -5       AA      1175   N3CSAA  LGA    MIA  148      1096     6     0    \n",
       "3 -11       AA      1103   N3KDAA  LGA    DFW  192      1389     6    10    \n",
       "4 -22       AA      1205   N3EJAA  EWR    MIA  141      1085     6    29    \n",
       "5 -29       AA       303   N4WJAA  LGA    ORD  113       733     6    30    \n",
       "6   5       AA      1263   N634AA  JFK    LAS  306      2248     6    55    \n",
       "  time_hour          \n",
       "1 2013-11-03 05:00:00\n",
       "2 2013-11-03 06:00:00\n",
       "3 2013-11-03 06:00:00\n",
       "4 2013-11-03 06:00:00\n",
       "5 2013-11-03 06:00:00\n",
       "6 2013-11-03 06:00:00"
      ]
     },
     "metadata": {},
     "output_type": "display_data"
    }
   ],
   "source": [
    "head(flights[flights$month == 11 & flights$day == 3 & flights$carrier == 'AA',])"
   ]
  },
  {
   "cell_type": "markdown",
   "metadata": {},
   "source": [
    "### 2) slice\n",
    "\n",
    "Select row with position"
   ]
  },
  {
   "cell_type": "code",
   "execution_count": 10,
   "metadata": {},
   "outputs": [
    {
     "data": {
      "text/html": [
       "<table>\n",
       "<thead><tr><th scope=col>year</th><th scope=col>month</th><th scope=col>day</th><th scope=col>dep_time</th><th scope=col>sched_dep_time</th><th scope=col>dep_delay</th><th scope=col>arr_time</th><th scope=col>sched_arr_time</th><th scope=col>arr_delay</th><th scope=col>carrier</th><th scope=col>flight</th><th scope=col>tailnum</th><th scope=col>origin</th><th scope=col>dest</th><th scope=col>air_time</th><th scope=col>distance</th><th scope=col>hour</th><th scope=col>minute</th><th scope=col>time_hour</th></tr></thead>\n",
       "<tbody>\n",
       "\t<tr><td>2013               </td><td>1                  </td><td>1                  </td><td>544                </td><td>545                </td><td>-1                 </td><td>1004               </td><td>1022               </td><td>-18                </td><td>B6                 </td><td> 725               </td><td>N804JB             </td><td>JFK                </td><td>BQN                </td><td>183                </td><td>1576               </td><td>5                  </td><td>45                 </td><td>2013-01-01 05:00:00</td></tr>\n",
       "\t<tr><td>2013               </td><td>1                  </td><td>1                  </td><td>554                </td><td>600                </td><td>-6                 </td><td> 812               </td><td> 837               </td><td>-25                </td><td>DL                 </td><td> 461               </td><td>N668DN             </td><td>LGA                </td><td>ATL                </td><td>116                </td><td> 762               </td><td>6                  </td><td> 0                 </td><td>2013-01-01 06:00:00</td></tr>\n",
       "\t<tr><td>2013               </td><td>1                  </td><td>1                  </td><td>554                </td><td>558                </td><td>-4                 </td><td> 740               </td><td> 728               </td><td> 12                </td><td>UA                 </td><td>1696               </td><td>N39463             </td><td>EWR                </td><td>ORD                </td><td>150                </td><td> 719               </td><td>5                  </td><td>58                 </td><td>2013-01-01 05:00:00</td></tr>\n",
       "\t<tr><td>2013               </td><td>1                  </td><td>1                  </td><td>555                </td><td>600                </td><td>-5                 </td><td> 913               </td><td> 854               </td><td> 19                </td><td>B6                 </td><td> 507               </td><td>N516JB             </td><td>EWR                </td><td>FLL                </td><td>158                </td><td>1065               </td><td>6                  </td><td> 0                 </td><td>2013-01-01 06:00:00</td></tr>\n",
       "\t<tr><td>2013               </td><td>1                  </td><td>1                  </td><td>557                </td><td>600                </td><td>-3                 </td><td> 709               </td><td> 723               </td><td>-14                </td><td>EV                 </td><td>5708               </td><td>N829AS             </td><td>LGA                </td><td>IAD                </td><td> 53                </td><td> 229               </td><td>6                  </td><td> 0                 </td><td>2013-01-01 06:00:00</td></tr>\n",
       "</tbody>\n",
       "</table>\n"
      ],
      "text/latex": [
       "\\begin{tabular}{r|lllllllllllllllllll}\n",
       " year & month & day & dep\\_time & sched\\_dep\\_time & dep\\_delay & arr\\_time & sched\\_arr\\_time & arr\\_delay & carrier & flight & tailnum & origin & dest & air\\_time & distance & hour & minute & time\\_hour\\\\\n",
       "\\hline\n",
       "\t 2013                & 1                   & 1                   & 544                 & 545                 & -1                  & 1004                & 1022                & -18                 & B6                  &  725                & N804JB              & JFK                 & BQN                 & 183                 & 1576                & 5                   & 45                  & 2013-01-01 05:00:00\\\\\n",
       "\t 2013                & 1                   & 1                   & 554                 & 600                 & -6                  &  812                &  837                & -25                 & DL                  &  461                & N668DN              & LGA                 & ATL                 & 116                 &  762                & 6                   &  0                  & 2013-01-01 06:00:00\\\\\n",
       "\t 2013                & 1                   & 1                   & 554                 & 558                 & -4                  &  740                &  728                &  12                 & UA                  & 1696                & N39463              & EWR                 & ORD                 & 150                 &  719                & 5                   & 58                  & 2013-01-01 05:00:00\\\\\n",
       "\t 2013                & 1                   & 1                   & 555                 & 600                 & -5                  &  913                &  854                &  19                 & B6                  &  507                & N516JB              & EWR                 & FLL                 & 158                 & 1065                & 6                   &  0                  & 2013-01-01 06:00:00\\\\\n",
       "\t 2013                & 1                   & 1                   & 557                 & 600                 & -3                  &  709                &  723                & -14                 & EV                  & 5708                & N829AS              & LGA                 & IAD                 &  53                 &  229                & 6                   &  0                  & 2013-01-01 06:00:00\\\\\n",
       "\\end{tabular}\n"
      ],
      "text/markdown": [
       "\n",
       "| year | month | day | dep_time | sched_dep_time | dep_delay | arr_time | sched_arr_time | arr_delay | carrier | flight | tailnum | origin | dest | air_time | distance | hour | minute | time_hour |\n",
       "|---|---|---|---|---|---|---|---|---|---|---|---|---|---|---|---|---|---|---|\n",
       "| 2013                | 1                   | 1                   | 544                 | 545                 | -1                  | 1004                | 1022                | -18                 | B6                  |  725                | N804JB              | JFK                 | BQN                 | 183                 | 1576                | 5                   | 45                  | 2013-01-01 05:00:00 |\n",
       "| 2013                | 1                   | 1                   | 554                 | 600                 | -6                  |  812                |  837                | -25                 | DL                  |  461                | N668DN              | LGA                 | ATL                 | 116                 |  762                | 6                   |  0                  | 2013-01-01 06:00:00 |\n",
       "| 2013                | 1                   | 1                   | 554                 | 558                 | -4                  |  740                |  728                |  12                 | UA                  | 1696                | N39463              | EWR                 | ORD                 | 150                 |  719                | 5                   | 58                  | 2013-01-01 05:00:00 |\n",
       "| 2013                | 1                   | 1                   | 555                 | 600                 | -5                  |  913                |  854                |  19                 | B6                  |  507                | N516JB              | EWR                 | FLL                 | 158                 | 1065                | 6                   |  0                  | 2013-01-01 06:00:00 |\n",
       "| 2013                | 1                   | 1                   | 557                 | 600                 | -3                  |  709                |  723                | -14                 | EV                  | 5708                | N829AS              | LGA                 | IAD                 |  53                 |  229                | 6                   |  0                  | 2013-01-01 06:00:00 |\n",
       "\n"
      ],
      "text/plain": [
       "  year month day dep_time sched_dep_time dep_delay arr_time sched_arr_time\n",
       "1 2013 1     1   544      545            -1        1004     1022          \n",
       "2 2013 1     1   554      600            -6         812      837          \n",
       "3 2013 1     1   554      558            -4         740      728          \n",
       "4 2013 1     1   555      600            -5         913      854          \n",
       "5 2013 1     1   557      600            -3         709      723          \n",
       "  arr_delay carrier flight tailnum origin dest air_time distance hour minute\n",
       "1 -18       B6       725   N804JB  JFK    BQN  183      1576     5    45    \n",
       "2 -25       DL       461   N668DN  LGA    ATL  116       762     6     0    \n",
       "3  12       UA      1696   N39463  EWR    ORD  150       719     5    58    \n",
       "4  19       B6       507   N516JB  EWR    FLL  158      1065     6     0    \n",
       "5 -14       EV      5708   N829AS  LGA    IAD   53       229     6     0    \n",
       "  time_hour          \n",
       "1 2013-01-01 05:00:00\n",
       "2 2013-01-01 06:00:00\n",
       "3 2013-01-01 05:00:00\n",
       "4 2013-01-01 06:00:00\n",
       "5 2013-01-01 06:00:00"
      ]
     },
     "metadata": {},
     "output_type": "display_data"
    }
   ],
   "source": [
    "slice(flights,4:8)"
   ]
  },
  {
   "cell_type": "markdown",
   "metadata": {},
   "source": [
    "### 3) arrange\n",
    "\n",
    "orders data frame as per specific columns"
   ]
  },
  {
   "cell_type": "code",
   "execution_count": 11,
   "metadata": {},
   "outputs": [
    {
     "data": {
      "text/html": [
       "<table>\n",
       "<thead><tr><th scope=col>year</th><th scope=col>month</th><th scope=col>day</th><th scope=col>dep_time</th><th scope=col>sched_dep_time</th><th scope=col>dep_delay</th><th scope=col>arr_time</th><th scope=col>sched_arr_time</th><th scope=col>arr_delay</th><th scope=col>carrier</th><th scope=col>flight</th><th scope=col>tailnum</th><th scope=col>origin</th><th scope=col>dest</th><th scope=col>air_time</th><th scope=col>distance</th><th scope=col>hour</th><th scope=col>minute</th><th scope=col>time_hour</th></tr></thead>\n",
       "<tbody>\n",
       "\t<tr><td>2013               </td><td>1                  </td><td>1                  </td><td>2302               </td><td>2200               </td><td>62                 </td><td>2342               </td><td>2253               </td><td> 49                </td><td>EV                 </td><td>4276               </td><td>N13903             </td><td>EWR                </td><td>BDL                </td><td>24                 </td><td>116                </td><td>22                 </td><td> 0                 </td><td>2013-01-01 22:00:00</td></tr>\n",
       "\t<tr><td>2013               </td><td>1                  </td><td>1                  </td><td>1318               </td><td>1322               </td><td>-4                 </td><td>1358               </td><td>1416               </td><td>-18                </td><td>EV                 </td><td>4106               </td><td>N19554             </td><td>EWR                </td><td>BDL                </td><td>25                 </td><td>116                </td><td>13                 </td><td>22                 </td><td>2013-01-01 13:00:00</td></tr>\n",
       "\t<tr><td>2013               </td><td>1                  </td><td>1                  </td><td>2116               </td><td>2110               </td><td> 6                 </td><td>2202               </td><td>2212               </td><td>-10                </td><td>EV                 </td><td>4404               </td><td>N15912             </td><td>EWR                </td><td>PVD                </td><td>28                 </td><td>160                </td><td>21                 </td><td>10                 </td><td>2013-01-01 21:00:00</td></tr>\n",
       "\t<tr><td>2013               </td><td>1                  </td><td>1                  </td><td>2000               </td><td>2000               </td><td> 0                 </td><td>2054               </td><td>2110               </td><td>-16                </td><td>9E                 </td><td>3664               </td><td>N836AY             </td><td>JFK                </td><td>PHL                </td><td>30                 </td><td> 94                </td><td>20                 </td><td> 0                 </td><td>2013-01-01 20:00:00</td></tr>\n",
       "\t<tr><td>2013               </td><td>1                  </td><td>1                  </td><td>2056               </td><td>2004               </td><td>52                 </td><td>2156               </td><td>2112               </td><td> 44                </td><td>EV                 </td><td>4170               </td><td>N12540             </td><td>EWR                </td><td>ALB                </td><td>31                 </td><td>143                </td><td>20                 </td><td> 4                 </td><td>2013-01-01 20:00:00</td></tr>\n",
       "\t<tr><td>2013               </td><td>1                  </td><td>1                  </td><td> 908               </td><td> 915               </td><td>-7                 </td><td>1004               </td><td>1033               </td><td>-29                </td><td>US                 </td><td>1467               </td><td>N959UW             </td><td>LGA                </td><td>PHL                </td><td>32                 </td><td> 96                </td><td> 9                 </td><td>15                 </td><td>2013-01-01 09:00:00</td></tr>\n",
       "</tbody>\n",
       "</table>\n"
      ],
      "text/latex": [
       "\\begin{tabular}{r|lllllllllllllllllll}\n",
       " year & month & day & dep\\_time & sched\\_dep\\_time & dep\\_delay & arr\\_time & sched\\_arr\\_time & arr\\_delay & carrier & flight & tailnum & origin & dest & air\\_time & distance & hour & minute & time\\_hour\\\\\n",
       "\\hline\n",
       "\t 2013                & 1                   & 1                   & 2302                & 2200                & 62                  & 2342                & 2253                &  49                 & EV                  & 4276                & N13903              & EWR                 & BDL                 & 24                  & 116                 & 22                  &  0                  & 2013-01-01 22:00:00\\\\\n",
       "\t 2013                & 1                   & 1                   & 1318                & 1322                & -4                  & 1358                & 1416                & -18                 & EV                  & 4106                & N19554              & EWR                 & BDL                 & 25                  & 116                 & 13                  & 22                  & 2013-01-01 13:00:00\\\\\n",
       "\t 2013                & 1                   & 1                   & 2116                & 2110                &  6                  & 2202                & 2212                & -10                 & EV                  & 4404                & N15912              & EWR                 & PVD                 & 28                  & 160                 & 21                  & 10                  & 2013-01-01 21:00:00\\\\\n",
       "\t 2013                & 1                   & 1                   & 2000                & 2000                &  0                  & 2054                & 2110                & -16                 & 9E                  & 3664                & N836AY              & JFK                 & PHL                 & 30                  &  94                 & 20                  &  0                  & 2013-01-01 20:00:00\\\\\n",
       "\t 2013                & 1                   & 1                   & 2056                & 2004                & 52                  & 2156                & 2112                &  44                 & EV                  & 4170                & N12540              & EWR                 & ALB                 & 31                  & 143                 & 20                  &  4                  & 2013-01-01 20:00:00\\\\\n",
       "\t 2013                & 1                   & 1                   &  908                &  915                & -7                  & 1004                & 1033                & -29                 & US                  & 1467                & N959UW              & LGA                 & PHL                 & 32                  &  96                 &  9                  & 15                  & 2013-01-01 09:00:00\\\\\n",
       "\\end{tabular}\n"
      ],
      "text/markdown": [
       "\n",
       "| year | month | day | dep_time | sched_dep_time | dep_delay | arr_time | sched_arr_time | arr_delay | carrier | flight | tailnum | origin | dest | air_time | distance | hour | minute | time_hour |\n",
       "|---|---|---|---|---|---|---|---|---|---|---|---|---|---|---|---|---|---|---|\n",
       "| 2013                | 1                   | 1                   | 2302                | 2200                | 62                  | 2342                | 2253                |  49                 | EV                  | 4276                | N13903              | EWR                 | BDL                 | 24                  | 116                 | 22                  |  0                  | 2013-01-01 22:00:00 |\n",
       "| 2013                | 1                   | 1                   | 1318                | 1322                | -4                  | 1358                | 1416                | -18                 | EV                  | 4106                | N19554              | EWR                 | BDL                 | 25                  | 116                 | 13                  | 22                  | 2013-01-01 13:00:00 |\n",
       "| 2013                | 1                   | 1                   | 2116                | 2110                |  6                  | 2202                | 2212                | -10                 | EV                  | 4404                | N15912              | EWR                 | PVD                 | 28                  | 160                 | 21                  | 10                  | 2013-01-01 21:00:00 |\n",
       "| 2013                | 1                   | 1                   | 2000                | 2000                |  0                  | 2054                | 2110                | -16                 | 9E                  | 3664                | N836AY              | JFK                 | PHL                 | 30                  |  94                 | 20                  |  0                  | 2013-01-01 20:00:00 |\n",
       "| 2013                | 1                   | 1                   | 2056                | 2004                | 52                  | 2156                | 2112                |  44                 | EV                  | 4170                | N12540              | EWR                 | ALB                 | 31                  | 143                 | 20                  |  4                  | 2013-01-01 20:00:00 |\n",
       "| 2013                | 1                   | 1                   |  908                |  915                | -7                  | 1004                | 1033                | -29                 | US                  | 1467                | N959UW              | LGA                 | PHL                 | 32                  |  96                 |  9                  | 15                  | 2013-01-01 09:00:00 |\n",
       "\n"
      ],
      "text/plain": [
       "  year month day dep_time sched_dep_time dep_delay arr_time sched_arr_time\n",
       "1 2013 1     1   2302     2200           62        2342     2253          \n",
       "2 2013 1     1   1318     1322           -4        1358     1416          \n",
       "3 2013 1     1   2116     2110            6        2202     2212          \n",
       "4 2013 1     1   2000     2000            0        2054     2110          \n",
       "5 2013 1     1   2056     2004           52        2156     2112          \n",
       "6 2013 1     1    908      915           -7        1004     1033          \n",
       "  arr_delay carrier flight tailnum origin dest air_time distance hour minute\n",
       "1  49       EV      4276   N13903  EWR    BDL  24       116      22    0    \n",
       "2 -18       EV      4106   N19554  EWR    BDL  25       116      13   22    \n",
       "3 -10       EV      4404   N15912  EWR    PVD  28       160      21   10    \n",
       "4 -16       9E      3664   N836AY  JFK    PHL  30        94      20    0    \n",
       "5  44       EV      4170   N12540  EWR    ALB  31       143      20    4    \n",
       "6 -29       US      1467   N959UW  LGA    PHL  32        96       9   15    \n",
       "  time_hour          \n",
       "1 2013-01-01 22:00:00\n",
       "2 2013-01-01 13:00:00\n",
       "3 2013-01-01 21:00:00\n",
       "4 2013-01-01 20:00:00\n",
       "5 2013-01-01 20:00:00\n",
       "6 2013-01-01 09:00:00"
      ]
     },
     "metadata": {},
     "output_type": "display_data"
    }
   ],
   "source": [
    "head(arrange(flights,year,month,day,air_time))"
   ]
  },
  {
   "cell_type": "markdown",
   "metadata": {},
   "source": [
    "### desc() \n",
    "To arrange in descending order"
   ]
  },
  {
   "cell_type": "code",
   "execution_count": 12,
   "metadata": {},
   "outputs": [
    {
     "data": {
      "text/html": [
       "<table>\n",
       "<thead><tr><th scope=col>year</th><th scope=col>month</th><th scope=col>day</th><th scope=col>dep_time</th><th scope=col>sched_dep_time</th><th scope=col>dep_delay</th><th scope=col>arr_time</th><th scope=col>sched_arr_time</th><th scope=col>arr_delay</th><th scope=col>carrier</th><th scope=col>flight</th><th scope=col>tailnum</th><th scope=col>origin</th><th scope=col>dest</th><th scope=col>air_time</th><th scope=col>distance</th><th scope=col>hour</th><th scope=col>minute</th><th scope=col>time_hour</th></tr></thead>\n",
       "<tbody>\n",
       "\t<tr><td>2013               </td><td>1                  </td><td> 9                 </td><td> 641               </td><td> 900               </td><td>1301               </td><td>1242               </td><td>1530               </td><td>1272               </td><td>HA                 </td><td>  51               </td><td>N384HA             </td><td>JFK                </td><td>HNL                </td><td>640                </td><td>4983               </td><td> 9                 </td><td> 0                 </td><td>2013-01-09 09:00:00</td></tr>\n",
       "\t<tr><td>2013               </td><td>6                  </td><td>15                 </td><td>1432               </td><td>1935               </td><td>1137               </td><td>1607               </td><td>2120               </td><td>1127               </td><td>MQ                 </td><td>3535               </td><td>N504MQ             </td><td>JFK                </td><td>CMH                </td><td> 74                </td><td> 483               </td><td>19                 </td><td>35                 </td><td>2013-06-15 19:00:00</td></tr>\n",
       "\t<tr><td>2013               </td><td>1                  </td><td>10                 </td><td>1121               </td><td>1635               </td><td>1126               </td><td>1239               </td><td>1810               </td><td>1109               </td><td>MQ                 </td><td>3695               </td><td>N517MQ             </td><td>EWR                </td><td>ORD                </td><td>111                </td><td> 719               </td><td>16                 </td><td>35                 </td><td>2013-01-10 16:00:00</td></tr>\n",
       "\t<tr><td>2013               </td><td>9                  </td><td>20                 </td><td>1139               </td><td>1845               </td><td>1014               </td><td>1457               </td><td>2210               </td><td>1007               </td><td>AA                 </td><td> 177               </td><td>N338AA             </td><td>JFK                </td><td>SFO                </td><td>354                </td><td>2586               </td><td>18                 </td><td>45                 </td><td>2013-09-20 18:00:00</td></tr>\n",
       "\t<tr><td>2013               </td><td>7                  </td><td>22                 </td><td> 845               </td><td>1600               </td><td>1005               </td><td>1044               </td><td>1815               </td><td> 989               </td><td>MQ                 </td><td>3075               </td><td>N665MQ             </td><td>JFK                </td><td>CVG                </td><td> 96                </td><td> 589               </td><td>16                 </td><td> 0                 </td><td>2013-07-22 16:00:00</td></tr>\n",
       "\t<tr><td>2013               </td><td>4                  </td><td>10                 </td><td>1100               </td><td>1900               </td><td> 960               </td><td>1342               </td><td>2211               </td><td> 931               </td><td>DL                 </td><td>2391               </td><td>N959DL             </td><td>JFK                </td><td>TPA                </td><td>139                </td><td>1005               </td><td>19                 </td><td> 0                 </td><td>2013-04-10 19:00:00</td></tr>\n",
       "</tbody>\n",
       "</table>\n"
      ],
      "text/latex": [
       "\\begin{tabular}{r|lllllllllllllllllll}\n",
       " year & month & day & dep\\_time & sched\\_dep\\_time & dep\\_delay & arr\\_time & sched\\_arr\\_time & arr\\_delay & carrier & flight & tailnum & origin & dest & air\\_time & distance & hour & minute & time\\_hour\\\\\n",
       "\\hline\n",
       "\t 2013                & 1                   &  9                  &  641                &  900                & 1301                & 1242                & 1530                & 1272                & HA                  &   51                & N384HA              & JFK                 & HNL                 & 640                 & 4983                &  9                  &  0                  & 2013-01-09 09:00:00\\\\\n",
       "\t 2013                & 6                   & 15                  & 1432                & 1935                & 1137                & 1607                & 2120                & 1127                & MQ                  & 3535                & N504MQ              & JFK                 & CMH                 &  74                 &  483                & 19                  & 35                  & 2013-06-15 19:00:00\\\\\n",
       "\t 2013                & 1                   & 10                  & 1121                & 1635                & 1126                & 1239                & 1810                & 1109                & MQ                  & 3695                & N517MQ              & EWR                 & ORD                 & 111                 &  719                & 16                  & 35                  & 2013-01-10 16:00:00\\\\\n",
       "\t 2013                & 9                   & 20                  & 1139                & 1845                & 1014                & 1457                & 2210                & 1007                & AA                  &  177                & N338AA              & JFK                 & SFO                 & 354                 & 2586                & 18                  & 45                  & 2013-09-20 18:00:00\\\\\n",
       "\t 2013                & 7                   & 22                  &  845                & 1600                & 1005                & 1044                & 1815                &  989                & MQ                  & 3075                & N665MQ              & JFK                 & CVG                 &  96                 &  589                & 16                  &  0                  & 2013-07-22 16:00:00\\\\\n",
       "\t 2013                & 4                   & 10                  & 1100                & 1900                &  960                & 1342                & 2211                &  931                & DL                  & 2391                & N959DL              & JFK                 & TPA                 & 139                 & 1005                & 19                  &  0                  & 2013-04-10 19:00:00\\\\\n",
       "\\end{tabular}\n"
      ],
      "text/markdown": [
       "\n",
       "| year | month | day | dep_time | sched_dep_time | dep_delay | arr_time | sched_arr_time | arr_delay | carrier | flight | tailnum | origin | dest | air_time | distance | hour | minute | time_hour |\n",
       "|---|---|---|---|---|---|---|---|---|---|---|---|---|---|---|---|---|---|---|\n",
       "| 2013                | 1                   |  9                  |  641                |  900                | 1301                | 1242                | 1530                | 1272                | HA                  |   51                | N384HA              | JFK                 | HNL                 | 640                 | 4983                |  9                  |  0                  | 2013-01-09 09:00:00 |\n",
       "| 2013                | 6                   | 15                  | 1432                | 1935                | 1137                | 1607                | 2120                | 1127                | MQ                  | 3535                | N504MQ              | JFK                 | CMH                 |  74                 |  483                | 19                  | 35                  | 2013-06-15 19:00:00 |\n",
       "| 2013                | 1                   | 10                  | 1121                | 1635                | 1126                | 1239                | 1810                | 1109                | MQ                  | 3695                | N517MQ              | EWR                 | ORD                 | 111                 |  719                | 16                  | 35                  | 2013-01-10 16:00:00 |\n",
       "| 2013                | 9                   | 20                  | 1139                | 1845                | 1014                | 1457                | 2210                | 1007                | AA                  |  177                | N338AA              | JFK                 | SFO                 | 354                 | 2586                | 18                  | 45                  | 2013-09-20 18:00:00 |\n",
       "| 2013                | 7                   | 22                  |  845                | 1600                | 1005                | 1044                | 1815                |  989                | MQ                  | 3075                | N665MQ              | JFK                 | CVG                 |  96                 |  589                | 16                  |  0                  | 2013-07-22 16:00:00 |\n",
       "| 2013                | 4                   | 10                  | 1100                | 1900                |  960                | 1342                | 2211                |  931                | DL                  | 2391                | N959DL              | JFK                 | TPA                 | 139                 | 1005                | 19                  |  0                  | 2013-04-10 19:00:00 |\n",
       "\n"
      ],
      "text/plain": [
       "  year month day dep_time sched_dep_time dep_delay arr_time sched_arr_time\n",
       "1 2013 1      9   641      900           1301      1242     1530          \n",
       "2 2013 6     15  1432     1935           1137      1607     2120          \n",
       "3 2013 1     10  1121     1635           1126      1239     1810          \n",
       "4 2013 9     20  1139     1845           1014      1457     2210          \n",
       "5 2013 7     22   845     1600           1005      1044     1815          \n",
       "6 2013 4     10  1100     1900            960      1342     2211          \n",
       "  arr_delay carrier flight tailnum origin dest air_time distance hour minute\n",
       "1 1272      HA        51   N384HA  JFK    HNL  640      4983      9    0    \n",
       "2 1127      MQ      3535   N504MQ  JFK    CMH   74       483     19   35    \n",
       "3 1109      MQ      3695   N517MQ  EWR    ORD  111       719     16   35    \n",
       "4 1007      AA       177   N338AA  JFK    SFO  354      2586     18   45    \n",
       "5  989      MQ      3075   N665MQ  JFK    CVG   96       589     16    0    \n",
       "6  931      DL      2391   N959DL  JFK    TPA  139      1005     19    0    \n",
       "  time_hour          \n",
       "1 2013-01-09 09:00:00\n",
       "2 2013-06-15 19:00:00\n",
       "3 2013-01-10 16:00:00\n",
       "4 2013-09-20 18:00:00\n",
       "5 2013-07-22 16:00:00\n",
       "6 2013-04-10 19:00:00"
      ]
     },
     "metadata": {},
     "output_type": "display_data"
    }
   ],
   "source": [
    "head(arrange(flights,desc(arr_delay)))"
   ]
  },
  {
   "cell_type": "markdown",
   "metadata": {},
   "source": [
    "### 4) select()\n",
    "\n",
    "select() allows you to select a subset of columns in a data frame"
   ]
  },
  {
   "cell_type": "code",
   "execution_count": 13,
   "metadata": {},
   "outputs": [
    {
     "data": {
      "text/html": [
       "<table>\n",
       "<thead><tr><th scope=col>year</th><th scope=col>month</th></tr></thead>\n",
       "<tbody>\n",
       "\t<tr><td>2013</td><td>1   </td></tr>\n",
       "\t<tr><td>2013</td><td>1   </td></tr>\n",
       "\t<tr><td>2013</td><td>1   </td></tr>\n",
       "\t<tr><td>2013</td><td>1   </td></tr>\n",
       "\t<tr><td>2013</td><td>1   </td></tr>\n",
       "\t<tr><td>2013</td><td>1   </td></tr>\n",
       "</tbody>\n",
       "</table>\n"
      ],
      "text/latex": [
       "\\begin{tabular}{r|ll}\n",
       " year & month\\\\\n",
       "\\hline\n",
       "\t 2013 & 1   \\\\\n",
       "\t 2013 & 1   \\\\\n",
       "\t 2013 & 1   \\\\\n",
       "\t 2013 & 1   \\\\\n",
       "\t 2013 & 1   \\\\\n",
       "\t 2013 & 1   \\\\\n",
       "\\end{tabular}\n"
      ],
      "text/markdown": [
       "\n",
       "| year | month |\n",
       "|---|---|\n",
       "| 2013 | 1    |\n",
       "| 2013 | 1    |\n",
       "| 2013 | 1    |\n",
       "| 2013 | 1    |\n",
       "| 2013 | 1    |\n",
       "| 2013 | 1    |\n",
       "\n"
      ],
      "text/plain": [
       "  year month\n",
       "1 2013 1    \n",
       "2 2013 1    \n",
       "3 2013 1    \n",
       "4 2013 1    \n",
       "5 2013 1    \n",
       "6 2013 1    "
      ]
     },
     "metadata": {},
     "output_type": "display_data"
    }
   ],
   "source": [
    "head(select(flights,year,month))"
   ]
  },
  {
   "cell_type": "markdown",
   "metadata": {},
   "source": [
    "### 5) rename()\n",
    "\n",
    "rename columns"
   ]
  },
  {
   "cell_type": "code",
   "execution_count": 14,
   "metadata": {},
   "outputs": [
    {
     "data": {
      "text/html": [
       "<table>\n",
       "<thead><tr><th scope=col>year</th><th scope=col>month</th><th scope=col>day</th><th scope=col>dep_time</th><th scope=col>sched_dep_time</th><th scope=col>dep_delay</th><th scope=col>arr_time</th><th scope=col>sched_arr_time</th><th scope=col>arr_delay</th><th scope=col>carrier</th><th scope=col>flight</th><th scope=col>tail_num</th><th scope=col>origin</th><th scope=col>dest</th><th scope=col>air_time</th><th scope=col>distance</th><th scope=col>hour</th><th scope=col>minute</th><th scope=col>time_hour</th></tr></thead>\n",
       "<tbody>\n",
       "\t<tr><td>2013               </td><td>1                  </td><td>1                  </td><td>517                </td><td>515                </td><td> 2                 </td><td> 830               </td><td> 819               </td><td> 11                </td><td>UA                 </td><td>1545               </td><td>N14228             </td><td>EWR                </td><td>IAH                </td><td>227                </td><td>1400               </td><td>5                  </td><td>15                 </td><td>2013-01-01 05:00:00</td></tr>\n",
       "\t<tr><td>2013               </td><td>1                  </td><td>1                  </td><td>533                </td><td>529                </td><td> 4                 </td><td> 850               </td><td> 830               </td><td> 20                </td><td>UA                 </td><td>1714               </td><td>N24211             </td><td>LGA                </td><td>IAH                </td><td>227                </td><td>1416               </td><td>5                  </td><td>29                 </td><td>2013-01-01 05:00:00</td></tr>\n",
       "\t<tr><td>2013               </td><td>1                  </td><td>1                  </td><td>542                </td><td>540                </td><td> 2                 </td><td> 923               </td><td> 850               </td><td> 33                </td><td>AA                 </td><td>1141               </td><td>N619AA             </td><td>JFK                </td><td>MIA                </td><td>160                </td><td>1089               </td><td>5                  </td><td>40                 </td><td>2013-01-01 05:00:00</td></tr>\n",
       "\t<tr><td>2013               </td><td>1                  </td><td>1                  </td><td>544                </td><td>545                </td><td>-1                 </td><td>1004               </td><td>1022               </td><td>-18                </td><td>B6                 </td><td> 725               </td><td>N804JB             </td><td>JFK                </td><td>BQN                </td><td>183                </td><td>1576               </td><td>5                  </td><td>45                 </td><td>2013-01-01 05:00:00</td></tr>\n",
       "\t<tr><td>2013               </td><td>1                  </td><td>1                  </td><td>554                </td><td>600                </td><td>-6                 </td><td> 812               </td><td> 837               </td><td>-25                </td><td>DL                 </td><td> 461               </td><td>N668DN             </td><td>LGA                </td><td>ATL                </td><td>116                </td><td> 762               </td><td>6                  </td><td> 0                 </td><td>2013-01-01 06:00:00</td></tr>\n",
       "\t<tr><td>2013               </td><td>1                  </td><td>1                  </td><td>554                </td><td>558                </td><td>-4                 </td><td> 740               </td><td> 728               </td><td> 12                </td><td>UA                 </td><td>1696               </td><td>N39463             </td><td>EWR                </td><td>ORD                </td><td>150                </td><td> 719               </td><td>5                  </td><td>58                 </td><td>2013-01-01 05:00:00</td></tr>\n",
       "</tbody>\n",
       "</table>\n"
      ],
      "text/latex": [
       "\\begin{tabular}{r|lllllllllllllllllll}\n",
       " year & month & day & dep\\_time & sched\\_dep\\_time & dep\\_delay & arr\\_time & sched\\_arr\\_time & arr\\_delay & carrier & flight & tail\\_num & origin & dest & air\\_time & distance & hour & minute & time\\_hour\\\\\n",
       "\\hline\n",
       "\t 2013                & 1                   & 1                   & 517                 & 515                 &  2                  &  830                &  819                &  11                 & UA                  & 1545                & N14228              & EWR                 & IAH                 & 227                 & 1400                & 5                   & 15                  & 2013-01-01 05:00:00\\\\\n",
       "\t 2013                & 1                   & 1                   & 533                 & 529                 &  4                  &  850                &  830                &  20                 & UA                  & 1714                & N24211              & LGA                 & IAH                 & 227                 & 1416                & 5                   & 29                  & 2013-01-01 05:00:00\\\\\n",
       "\t 2013                & 1                   & 1                   & 542                 & 540                 &  2                  &  923                &  850                &  33                 & AA                  & 1141                & N619AA              & JFK                 & MIA                 & 160                 & 1089                & 5                   & 40                  & 2013-01-01 05:00:00\\\\\n",
       "\t 2013                & 1                   & 1                   & 544                 & 545                 & -1                  & 1004                & 1022                & -18                 & B6                  &  725                & N804JB              & JFK                 & BQN                 & 183                 & 1576                & 5                   & 45                  & 2013-01-01 05:00:00\\\\\n",
       "\t 2013                & 1                   & 1                   & 554                 & 600                 & -6                  &  812                &  837                & -25                 & DL                  &  461                & N668DN              & LGA                 & ATL                 & 116                 &  762                & 6                   &  0                  & 2013-01-01 06:00:00\\\\\n",
       "\t 2013                & 1                   & 1                   & 554                 & 558                 & -4                  &  740                &  728                &  12                 & UA                  & 1696                & N39463              & EWR                 & ORD                 & 150                 &  719                & 5                   & 58                  & 2013-01-01 05:00:00\\\\\n",
       "\\end{tabular}\n"
      ],
      "text/markdown": [
       "\n",
       "| year | month | day | dep_time | sched_dep_time | dep_delay | arr_time | sched_arr_time | arr_delay | carrier | flight | tail_num | origin | dest | air_time | distance | hour | minute | time_hour |\n",
       "|---|---|---|---|---|---|---|---|---|---|---|---|---|---|---|---|---|---|---|\n",
       "| 2013                | 1                   | 1                   | 517                 | 515                 |  2                  |  830                |  819                |  11                 | UA                  | 1545                | N14228              | EWR                 | IAH                 | 227                 | 1400                | 5                   | 15                  | 2013-01-01 05:00:00 |\n",
       "| 2013                | 1                   | 1                   | 533                 | 529                 |  4                  |  850                |  830                |  20                 | UA                  | 1714                | N24211              | LGA                 | IAH                 | 227                 | 1416                | 5                   | 29                  | 2013-01-01 05:00:00 |\n",
       "| 2013                | 1                   | 1                   | 542                 | 540                 |  2                  |  923                |  850                |  33                 | AA                  | 1141                | N619AA              | JFK                 | MIA                 | 160                 | 1089                | 5                   | 40                  | 2013-01-01 05:00:00 |\n",
       "| 2013                | 1                   | 1                   | 544                 | 545                 | -1                  | 1004                | 1022                | -18                 | B6                  |  725                | N804JB              | JFK                 | BQN                 | 183                 | 1576                | 5                   | 45                  | 2013-01-01 05:00:00 |\n",
       "| 2013                | 1                   | 1                   | 554                 | 600                 | -6                  |  812                |  837                | -25                 | DL                  |  461                | N668DN              | LGA                 | ATL                 | 116                 |  762                | 6                   |  0                  | 2013-01-01 06:00:00 |\n",
       "| 2013                | 1                   | 1                   | 554                 | 558                 | -4                  |  740                |  728                |  12                 | UA                  | 1696                | N39463              | EWR                 | ORD                 | 150                 |  719                | 5                   | 58                  | 2013-01-01 05:00:00 |\n",
       "\n"
      ],
      "text/plain": [
       "  year month day dep_time sched_dep_time dep_delay arr_time sched_arr_time\n",
       "1 2013 1     1   517      515             2         830      819          \n",
       "2 2013 1     1   533      529             4         850      830          \n",
       "3 2013 1     1   542      540             2         923      850          \n",
       "4 2013 1     1   544      545            -1        1004     1022          \n",
       "5 2013 1     1   554      600            -6         812      837          \n",
       "6 2013 1     1   554      558            -4         740      728          \n",
       "  arr_delay carrier flight tail_num origin dest air_time distance hour minute\n",
       "1  11       UA      1545   N14228   EWR    IAH  227      1400     5    15    \n",
       "2  20       UA      1714   N24211   LGA    IAH  227      1416     5    29    \n",
       "3  33       AA      1141   N619AA   JFK    MIA  160      1089     5    40    \n",
       "4 -18       B6       725   N804JB   JFK    BQN  183      1576     5    45    \n",
       "5 -25       DL       461   N668DN   LGA    ATL  116       762     6     0    \n",
       "6  12       UA      1696   N39463   EWR    ORD  150       719     5    58    \n",
       "  time_hour          \n",
       "1 2013-01-01 05:00:00\n",
       "2 2013-01-01 05:00:00\n",
       "3 2013-01-01 05:00:00\n",
       "4 2013-01-01 05:00:00\n",
       "5 2013-01-01 06:00:00\n",
       "6 2013-01-01 05:00:00"
      ]
     },
     "metadata": {},
     "output_type": "display_data"
    }
   ],
   "source": [
    "head(rename(flights,tail_num=tailnum))"
   ]
  },
  {
   "cell_type": "markdown",
   "metadata": {},
   "source": [
    "### 6) distinct\n",
    "\n",
    "returns unique values"
   ]
  },
  {
   "cell_type": "code",
   "execution_count": 15,
   "metadata": {},
   "outputs": [
    {
     "data": {
      "text/html": [
       "<table>\n",
       "<thead><tr><th scope=col>carrier</th></tr></thead>\n",
       "<tbody>\n",
       "\t<tr><td>UA</td></tr>\n",
       "\t<tr><td>AA</td></tr>\n",
       "\t<tr><td>B6</td></tr>\n",
       "\t<tr><td>DL</td></tr>\n",
       "\t<tr><td>EV</td></tr>\n",
       "\t<tr><td>MQ</td></tr>\n",
       "\t<tr><td>US</td></tr>\n",
       "\t<tr><td>WN</td></tr>\n",
       "\t<tr><td>VX</td></tr>\n",
       "\t<tr><td>FL</td></tr>\n",
       "\t<tr><td>AS</td></tr>\n",
       "\t<tr><td>9E</td></tr>\n",
       "\t<tr><td>F9</td></tr>\n",
       "\t<tr><td>HA</td></tr>\n",
       "\t<tr><td>YV</td></tr>\n",
       "\t<tr><td>OO</td></tr>\n",
       "</tbody>\n",
       "</table>\n"
      ],
      "text/latex": [
       "\\begin{tabular}{r|l}\n",
       " carrier\\\\\n",
       "\\hline\n",
       "\t UA\\\\\n",
       "\t AA\\\\\n",
       "\t B6\\\\\n",
       "\t DL\\\\\n",
       "\t EV\\\\\n",
       "\t MQ\\\\\n",
       "\t US\\\\\n",
       "\t WN\\\\\n",
       "\t VX\\\\\n",
       "\t FL\\\\\n",
       "\t AS\\\\\n",
       "\t 9E\\\\\n",
       "\t F9\\\\\n",
       "\t HA\\\\\n",
       "\t YV\\\\\n",
       "\t OO\\\\\n",
       "\\end{tabular}\n"
      ],
      "text/markdown": [
       "\n",
       "| carrier |\n",
       "|---|\n",
       "| UA |\n",
       "| AA |\n",
       "| B6 |\n",
       "| DL |\n",
       "| EV |\n",
       "| MQ |\n",
       "| US |\n",
       "| WN |\n",
       "| VX |\n",
       "| FL |\n",
       "| AS |\n",
       "| 9E |\n",
       "| F9 |\n",
       "| HA |\n",
       "| YV |\n",
       "| OO |\n",
       "\n"
      ],
      "text/plain": [
       "   carrier\n",
       "1  UA     \n",
       "2  AA     \n",
       "3  B6     \n",
       "4  DL     \n",
       "5  EV     \n",
       "6  MQ     \n",
       "7  US     \n",
       "8  WN     \n",
       "9  VX     \n",
       "10 FL     \n",
       "11 AS     \n",
       "12 9E     \n",
       "13 F9     \n",
       "14 HA     \n",
       "15 YV     \n",
       "16 OO     "
      ]
     },
     "metadata": {},
     "output_type": "display_data"
    }
   ],
   "source": [
    "distinct(flights,carrier)"
   ]
  },
  {
   "cell_type": "markdown",
   "metadata": {},
   "source": [
    "### 7) mutate()\n",
    "\n",
    "adding new columns using feature engineering"
   ]
  },
  {
   "cell_type": "code",
   "execution_count": 16,
   "metadata": {},
   "outputs": [
    {
     "data": {
      "text/html": [
       "<table>\n",
       "<thead><tr><th scope=col>year</th><th scope=col>month</th><th scope=col>day</th><th scope=col>dep_time</th><th scope=col>sched_dep_time</th><th scope=col>dep_delay</th><th scope=col>arr_time</th><th scope=col>sched_arr_time</th><th scope=col>arr_delay</th><th scope=col>carrier</th><th scope=col>flight</th><th scope=col>tailnum</th><th scope=col>origin</th><th scope=col>dest</th><th scope=col>air_time</th><th scope=col>distance</th><th scope=col>hour</th><th scope=col>minute</th><th scope=col>time_hour</th><th scope=col>total_delay</th></tr></thead>\n",
       "<tbody>\n",
       "\t<tr><td>2013               </td><td>1                  </td><td>1                  </td><td>517                </td><td>515                </td><td> 2                 </td><td> 830               </td><td> 819               </td><td> 11                </td><td>UA                 </td><td>1545               </td><td>N14228             </td><td>EWR                </td><td>IAH                </td><td>227                </td><td>1400               </td><td>5                  </td><td>15                 </td><td>2013-01-01 05:00:00</td><td> 13                </td></tr>\n",
       "\t<tr><td>2013               </td><td>1                  </td><td>1                  </td><td>533                </td><td>529                </td><td> 4                 </td><td> 850               </td><td> 830               </td><td> 20                </td><td>UA                 </td><td>1714               </td><td>N24211             </td><td>LGA                </td><td>IAH                </td><td>227                </td><td>1416               </td><td>5                  </td><td>29                 </td><td>2013-01-01 05:00:00</td><td> 24                </td></tr>\n",
       "\t<tr><td>2013               </td><td>1                  </td><td>1                  </td><td>542                </td><td>540                </td><td> 2                 </td><td> 923               </td><td> 850               </td><td> 33                </td><td>AA                 </td><td>1141               </td><td>N619AA             </td><td>JFK                </td><td>MIA                </td><td>160                </td><td>1089               </td><td>5                  </td><td>40                 </td><td>2013-01-01 05:00:00</td><td> 35                </td></tr>\n",
       "\t<tr><td>2013               </td><td>1                  </td><td>1                  </td><td>544                </td><td>545                </td><td>-1                 </td><td>1004               </td><td>1022               </td><td>-18                </td><td>B6                 </td><td> 725               </td><td>N804JB             </td><td>JFK                </td><td>BQN                </td><td>183                </td><td>1576               </td><td>5                  </td><td>45                 </td><td>2013-01-01 05:00:00</td><td>-19                </td></tr>\n",
       "\t<tr><td>2013               </td><td>1                  </td><td>1                  </td><td>554                </td><td>600                </td><td>-6                 </td><td> 812               </td><td> 837               </td><td>-25                </td><td>DL                 </td><td> 461               </td><td>N668DN             </td><td>LGA                </td><td>ATL                </td><td>116                </td><td> 762               </td><td>6                  </td><td> 0                 </td><td>2013-01-01 06:00:00</td><td>-31                </td></tr>\n",
       "\t<tr><td>2013               </td><td>1                  </td><td>1                  </td><td>554                </td><td>558                </td><td>-4                 </td><td> 740               </td><td> 728               </td><td> 12                </td><td>UA                 </td><td>1696               </td><td>N39463             </td><td>EWR                </td><td>ORD                </td><td>150                </td><td> 719               </td><td>5                  </td><td>58                 </td><td>2013-01-01 05:00:00</td><td>  8                </td></tr>\n",
       "</tbody>\n",
       "</table>\n"
      ],
      "text/latex": [
       "\\begin{tabular}{r|llllllllllllllllllll}\n",
       " year & month & day & dep\\_time & sched\\_dep\\_time & dep\\_delay & arr\\_time & sched\\_arr\\_time & arr\\_delay & carrier & flight & tailnum & origin & dest & air\\_time & distance & hour & minute & time\\_hour & total\\_delay\\\\\n",
       "\\hline\n",
       "\t 2013                & 1                   & 1                   & 517                 & 515                 &  2                  &  830                &  819                &  11                 & UA                  & 1545                & N14228              & EWR                 & IAH                 & 227                 & 1400                & 5                   & 15                  & 2013-01-01 05:00:00 &  13                \\\\\n",
       "\t 2013                & 1                   & 1                   & 533                 & 529                 &  4                  &  850                &  830                &  20                 & UA                  & 1714                & N24211              & LGA                 & IAH                 & 227                 & 1416                & 5                   & 29                  & 2013-01-01 05:00:00 &  24                \\\\\n",
       "\t 2013                & 1                   & 1                   & 542                 & 540                 &  2                  &  923                &  850                &  33                 & AA                  & 1141                & N619AA              & JFK                 & MIA                 & 160                 & 1089                & 5                   & 40                  & 2013-01-01 05:00:00 &  35                \\\\\n",
       "\t 2013                & 1                   & 1                   & 544                 & 545                 & -1                  & 1004                & 1022                & -18                 & B6                  &  725                & N804JB              & JFK                 & BQN                 & 183                 & 1576                & 5                   & 45                  & 2013-01-01 05:00:00 & -19                \\\\\n",
       "\t 2013                & 1                   & 1                   & 554                 & 600                 & -6                  &  812                &  837                & -25                 & DL                  &  461                & N668DN              & LGA                 & ATL                 & 116                 &  762                & 6                   &  0                  & 2013-01-01 06:00:00 & -31                \\\\\n",
       "\t 2013                & 1                   & 1                   & 554                 & 558                 & -4                  &  740                &  728                &  12                 & UA                  & 1696                & N39463              & EWR                 & ORD                 & 150                 &  719                & 5                   & 58                  & 2013-01-01 05:00:00 &   8                \\\\\n",
       "\\end{tabular}\n"
      ],
      "text/markdown": [
       "\n",
       "| year | month | day | dep_time | sched_dep_time | dep_delay | arr_time | sched_arr_time | arr_delay | carrier | flight | tailnum | origin | dest | air_time | distance | hour | minute | time_hour | total_delay |\n",
       "|---|---|---|---|---|---|---|---|---|---|---|---|---|---|---|---|---|---|---|---|\n",
       "| 2013                | 1                   | 1                   | 517                 | 515                 |  2                  |  830                |  819                |  11                 | UA                  | 1545                | N14228              | EWR                 | IAH                 | 227                 | 1400                | 5                   | 15                  | 2013-01-01 05:00:00 |  13                 |\n",
       "| 2013                | 1                   | 1                   | 533                 | 529                 |  4                  |  850                |  830                |  20                 | UA                  | 1714                | N24211              | LGA                 | IAH                 | 227                 | 1416                | 5                   | 29                  | 2013-01-01 05:00:00 |  24                 |\n",
       "| 2013                | 1                   | 1                   | 542                 | 540                 |  2                  |  923                |  850                |  33                 | AA                  | 1141                | N619AA              | JFK                 | MIA                 | 160                 | 1089                | 5                   | 40                  | 2013-01-01 05:00:00 |  35                 |\n",
       "| 2013                | 1                   | 1                   | 544                 | 545                 | -1                  | 1004                | 1022                | -18                 | B6                  |  725                | N804JB              | JFK                 | BQN                 | 183                 | 1576                | 5                   | 45                  | 2013-01-01 05:00:00 | -19                 |\n",
       "| 2013                | 1                   | 1                   | 554                 | 600                 | -6                  |  812                |  837                | -25                 | DL                  |  461                | N668DN              | LGA                 | ATL                 | 116                 |  762                | 6                   |  0                  | 2013-01-01 06:00:00 | -31                 |\n",
       "| 2013                | 1                   | 1                   | 554                 | 558                 | -4                  |  740                |  728                |  12                 | UA                  | 1696                | N39463              | EWR                 | ORD                 | 150                 |  719                | 5                   | 58                  | 2013-01-01 05:00:00 |   8                 |\n",
       "\n"
      ],
      "text/plain": [
       "  year month day dep_time sched_dep_time dep_delay arr_time sched_arr_time\n",
       "1 2013 1     1   517      515             2         830      819          \n",
       "2 2013 1     1   533      529             4         850      830          \n",
       "3 2013 1     1   542      540             2         923      850          \n",
       "4 2013 1     1   544      545            -1        1004     1022          \n",
       "5 2013 1     1   554      600            -6         812      837          \n",
       "6 2013 1     1   554      558            -4         740      728          \n",
       "  arr_delay carrier flight tailnum origin dest air_time distance hour minute\n",
       "1  11       UA      1545   N14228  EWR    IAH  227      1400     5    15    \n",
       "2  20       UA      1714   N24211  LGA    IAH  227      1416     5    29    \n",
       "3  33       AA      1141   N619AA  JFK    MIA  160      1089     5    40    \n",
       "4 -18       B6       725   N804JB  JFK    BQN  183      1576     5    45    \n",
       "5 -25       DL       461   N668DN  LGA    ATL  116       762     6     0    \n",
       "6  12       UA      1696   N39463  EWR    ORD  150       719     5    58    \n",
       "  time_hour           total_delay\n",
       "1 2013-01-01 05:00:00  13        \n",
       "2 2013-01-01 05:00:00  24        \n",
       "3 2013-01-01 05:00:00  35        \n",
       "4 2013-01-01 05:00:00 -19        \n",
       "5 2013-01-01 06:00:00 -31        \n",
       "6 2013-01-01 05:00:00   8        "
      ]
     },
     "metadata": {},
     "output_type": "display_data"
    }
   ],
   "source": [
    "head(mutate(flights,total_delay = arr_delay + dep_delay))"
   ]
  },
  {
   "cell_type": "markdown",
   "metadata": {},
   "source": [
    "### transmute()\n",
    "\n",
    "returns only new columns"
   ]
  },
  {
   "cell_type": "code",
   "execution_count": 17,
   "metadata": {},
   "outputs": [
    {
     "data": {
      "text/html": [
       "<table>\n",
       "<thead><tr><th scope=col>total_delay</th></tr></thead>\n",
       "<tbody>\n",
       "\t<tr><td> 13</td></tr>\n",
       "\t<tr><td> 24</td></tr>\n",
       "\t<tr><td> 35</td></tr>\n",
       "\t<tr><td>-19</td></tr>\n",
       "\t<tr><td>-31</td></tr>\n",
       "\t<tr><td>  8</td></tr>\n",
       "</tbody>\n",
       "</table>\n"
      ],
      "text/latex": [
       "\\begin{tabular}{r|l}\n",
       " total\\_delay\\\\\n",
       "\\hline\n",
       "\t  13\\\\\n",
       "\t  24\\\\\n",
       "\t  35\\\\\n",
       "\t -19\\\\\n",
       "\t -31\\\\\n",
       "\t   8\\\\\n",
       "\\end{tabular}\n"
      ],
      "text/markdown": [
       "\n",
       "| total_delay |\n",
       "|---|\n",
       "|  13 |\n",
       "|  24 |\n",
       "|  35 |\n",
       "| -19 |\n",
       "| -31 |\n",
       "|   8 |\n",
       "\n"
      ],
      "text/plain": [
       "  total_delay\n",
       "1  13        \n",
       "2  24        \n",
       "3  35        \n",
       "4 -19        \n",
       "5 -31        \n",
       "6   8        "
      ]
     },
     "metadata": {},
     "output_type": "display_data"
    }
   ],
   "source": [
    "head(transmute(flights, total_delay = arr_delay+dep_delay))\n"
   ]
  },
  {
   "cell_type": "markdown",
   "metadata": {},
   "source": [
    "### 8) summarize()\n",
    "\n",
    "summarize dataframe with single value using aggregate function"
   ]
  },
  {
   "cell_type": "code",
   "execution_count": 18,
   "metadata": {},
   "outputs": [
    {
     "data": {
      "text/html": [
       "<table>\n",
       "<thead><tr><th scope=col>avg_air_time</th></tr></thead>\n",
       "<tbody>\n",
       "\t<tr><td>150.6865</td></tr>\n",
       "</tbody>\n",
       "</table>\n"
      ],
      "text/latex": [
       "\\begin{tabular}{r|l}\n",
       " avg\\_air\\_time\\\\\n",
       "\\hline\n",
       "\t 150.6865\\\\\n",
       "\\end{tabular}\n"
      ],
      "text/markdown": [
       "\n",
       "| avg_air_time |\n",
       "|---|\n",
       "| 150.6865 |\n",
       "\n"
      ],
      "text/plain": [
       "  avg_air_time\n",
       "1 150.6865    "
      ]
     },
     "metadata": {},
     "output_type": "display_data"
    }
   ],
   "source": [
    "# na.rm=TRUE for removing nan\n",
    "\n",
    "summarise(flights,avg_air_time=mean(air_time,na.rm=TRUE))"
   ]
  },
  {
   "cell_type": "markdown",
   "metadata": {},
   "source": [
    "### 9) Sampling methods\n",
    "\n",
    "select sample from dataframe"
   ]
  },
  {
   "cell_type": "markdown",
   "metadata": {},
   "source": [
    "#### sample_n()\n",
    "select random number of rows"
   ]
  },
  {
   "cell_type": "code",
   "execution_count": 19,
   "metadata": {},
   "outputs": [
    {
     "data": {
      "text/html": [
       "<table>\n",
       "<thead><tr><th scope=col>year</th><th scope=col>month</th><th scope=col>day</th><th scope=col>dep_time</th><th scope=col>sched_dep_time</th><th scope=col>dep_delay</th><th scope=col>arr_time</th><th scope=col>sched_arr_time</th><th scope=col>arr_delay</th><th scope=col>carrier</th><th scope=col>flight</th><th scope=col>tailnum</th><th scope=col>origin</th><th scope=col>dest</th><th scope=col>air_time</th><th scope=col>distance</th><th scope=col>hour</th><th scope=col>minute</th><th scope=col>time_hour</th></tr></thead>\n",
       "<tbody>\n",
       "\t<tr><td>2013               </td><td>11                 </td><td>21                 </td><td> 601               </td><td> 600               </td><td>  1                </td><td> 935               </td><td> 933               </td><td>  2                </td><td>UA                 </td><td>1668               </td><td>N76504             </td><td>EWR                </td><td>SFO                </td><td>365                </td><td>2565               </td><td> 6                 </td><td> 0                 </td><td>2013-11-21 06:00:00</td></tr>\n",
       "\t<tr><td>2013               </td><td> 5                 </td><td> 6                 </td><td>2010               </td><td>1925               </td><td> 45                </td><td>2330               </td><td>2243               </td><td> 47                </td><td>DL                 </td><td>2139               </td><td>N926DL             </td><td>LGA                </td><td>MIA                </td><td>156                </td><td>1096               </td><td>19                 </td><td>25                 </td><td>2013-05-06 19:00:00</td></tr>\n",
       "\t<tr><td>2013               </td><td> 9                 </td><td>29                 </td><td>1159               </td><td>1200               </td><td> -1                </td><td>1322               </td><td>1334               </td><td>-12                </td><td>EV                 </td><td>4188               </td><td>N14562             </td><td>EWR                </td><td>CLE                </td><td> 60                </td><td> 404               </td><td>12                 </td><td> 0                 </td><td>2013-09-29 12:00:00</td></tr>\n",
       "\t<tr><td>2013               </td><td>10                 </td><td>11                 </td><td>1931               </td><td>1655               </td><td>156                </td><td>2025               </td><td>1820               </td><td>125                </td><td>WN                 </td><td>2988               </td><td>N424WN             </td><td>LGA                </td><td>MDW                </td><td> 96                </td><td> 725               </td><td>16                 </td><td>55                 </td><td>2013-10-11 16:00:00</td></tr>\n",
       "\t<tr><td>2013               </td><td>12                 </td><td>21                 </td><td>1210               </td><td>1157               </td><td> 13                </td><td>1505               </td><td>1452               </td><td> 13                </td><td>UA                 </td><td>1129               </td><td>N24729             </td><td>EWR                </td><td>TPA                </td><td>152                </td><td> 997               </td><td>11                 </td><td>57                 </td><td>2013-12-21 11:00:00</td></tr>\n",
       "</tbody>\n",
       "</table>\n"
      ],
      "text/latex": [
       "\\begin{tabular}{r|lllllllllllllllllll}\n",
       " year & month & day & dep\\_time & sched\\_dep\\_time & dep\\_delay & arr\\_time & sched\\_arr\\_time & arr\\_delay & carrier & flight & tailnum & origin & dest & air\\_time & distance & hour & minute & time\\_hour\\\\\n",
       "\\hline\n",
       "\t 2013                & 11                  & 21                  &  601                &  600                &   1                 &  935                &  933                &   2                 & UA                  & 1668                & N76504              & EWR                 & SFO                 & 365                 & 2565                &  6                  &  0                  & 2013-11-21 06:00:00\\\\\n",
       "\t 2013                &  5                  &  6                  & 2010                & 1925                &  45                 & 2330                & 2243                &  47                 & DL                  & 2139                & N926DL              & LGA                 & MIA                 & 156                 & 1096                & 19                  & 25                  & 2013-05-06 19:00:00\\\\\n",
       "\t 2013                &  9                  & 29                  & 1159                & 1200                &  -1                 & 1322                & 1334                & -12                 & EV                  & 4188                & N14562              & EWR                 & CLE                 &  60                 &  404                & 12                  &  0                  & 2013-09-29 12:00:00\\\\\n",
       "\t 2013                & 10                  & 11                  & 1931                & 1655                & 156                 & 2025                & 1820                & 125                 & WN                  & 2988                & N424WN              & LGA                 & MDW                 &  96                 &  725                & 16                  & 55                  & 2013-10-11 16:00:00\\\\\n",
       "\t 2013                & 12                  & 21                  & 1210                & 1157                &  13                 & 1505                & 1452                &  13                 & UA                  & 1129                & N24729              & EWR                 & TPA                 & 152                 &  997                & 11                  & 57                  & 2013-12-21 11:00:00\\\\\n",
       "\\end{tabular}\n"
      ],
      "text/markdown": [
       "\n",
       "| year | month | day | dep_time | sched_dep_time | dep_delay | arr_time | sched_arr_time | arr_delay | carrier | flight | tailnum | origin | dest | air_time | distance | hour | minute | time_hour |\n",
       "|---|---|---|---|---|---|---|---|---|---|---|---|---|---|---|---|---|---|---|\n",
       "| 2013                | 11                  | 21                  |  601                |  600                |   1                 |  935                |  933                |   2                 | UA                  | 1668                | N76504              | EWR                 | SFO                 | 365                 | 2565                |  6                  |  0                  | 2013-11-21 06:00:00 |\n",
       "| 2013                |  5                  |  6                  | 2010                | 1925                |  45                 | 2330                | 2243                |  47                 | DL                  | 2139                | N926DL              | LGA                 | MIA                 | 156                 | 1096                | 19                  | 25                  | 2013-05-06 19:00:00 |\n",
       "| 2013                |  9                  | 29                  | 1159                | 1200                |  -1                 | 1322                | 1334                | -12                 | EV                  | 4188                | N14562              | EWR                 | CLE                 |  60                 |  404                | 12                  |  0                  | 2013-09-29 12:00:00 |\n",
       "| 2013                | 10                  | 11                  | 1931                | 1655                | 156                 | 2025                | 1820                | 125                 | WN                  | 2988                | N424WN              | LGA                 | MDW                 |  96                 |  725                | 16                  | 55                  | 2013-10-11 16:00:00 |\n",
       "| 2013                | 12                  | 21                  | 1210                | 1157                |  13                 | 1505                | 1452                |  13                 | UA                  | 1129                | N24729              | EWR                 | TPA                 | 152                 |  997                | 11                  | 57                  | 2013-12-21 11:00:00 |\n",
       "\n"
      ],
      "text/plain": [
       "  year month day dep_time sched_dep_time dep_delay arr_time sched_arr_time\n",
       "1 2013 11    21   601      600             1        935      933          \n",
       "2 2013  5     6  2010     1925            45       2330     2243          \n",
       "3 2013  9    29  1159     1200            -1       1322     1334          \n",
       "4 2013 10    11  1931     1655           156       2025     1820          \n",
       "5 2013 12    21  1210     1157            13       1505     1452          \n",
       "  arr_delay carrier flight tailnum origin dest air_time distance hour minute\n",
       "1   2       UA      1668   N76504  EWR    SFO  365      2565      6    0    \n",
       "2  47       DL      2139   N926DL  LGA    MIA  156      1096     19   25    \n",
       "3 -12       EV      4188   N14562  EWR    CLE   60       404     12    0    \n",
       "4 125       WN      2988   N424WN  LGA    MDW   96       725     16   55    \n",
       "5  13       UA      1129   N24729  EWR    TPA  152       997     11   57    \n",
       "  time_hour          \n",
       "1 2013-11-21 06:00:00\n",
       "2 2013-05-06 19:00:00\n",
       "3 2013-09-29 12:00:00\n",
       "4 2013-10-11 16:00:00\n",
       "5 2013-12-21 11:00:00"
      ]
     },
     "metadata": {},
     "output_type": "display_data"
    }
   ],
   "source": [
    "sample_n(flights,5)"
   ]
  },
  {
   "cell_type": "markdown",
   "metadata": {},
   "source": [
    "#### sample_frac()\n",
    "select random fraction of data"
   ]
  },
  {
   "cell_type": "code",
   "execution_count": 20,
   "metadata": {},
   "outputs": [
    {
     "data": {
      "text/html": [
       "<table>\n",
       "<thead><tr><th scope=col>year</th><th scope=col>month</th><th scope=col>day</th><th scope=col>dep_time</th><th scope=col>sched_dep_time</th><th scope=col>dep_delay</th><th scope=col>arr_time</th><th scope=col>sched_arr_time</th><th scope=col>arr_delay</th><th scope=col>carrier</th><th scope=col>flight</th><th scope=col>tailnum</th><th scope=col>origin</th><th scope=col>dest</th><th scope=col>air_time</th><th scope=col>distance</th><th scope=col>hour</th><th scope=col>minute</th><th scope=col>time_hour</th></tr></thead>\n",
       "<tbody>\n",
       "\t<tr><td>2013               </td><td> 8                 </td><td> 4                 </td><td> 753               </td><td> 800               </td><td> -7                </td><td> 945               </td><td>1005               </td><td>-20                </td><td>DL                 </td><td>2119               </td><td>N986DL             </td><td>LGA                </td><td>MSP                </td><td>156                </td><td>1020               </td><td> 8                 </td><td> 0                 </td><td>2013-08-04 08:00:00</td></tr>\n",
       "\t<tr><td>2013               </td><td>12                 </td><td>17                 </td><td> 931               </td><td> 930               </td><td>  1                </td><td>1307               </td><td>1236               </td><td> 31                </td><td>DL                 </td><td>1885               </td><td>N913DE             </td><td>LGA                </td><td>MCO                </td><td>137                </td><td> 950               </td><td> 9                 </td><td>30                 </td><td>2013-12-17 09:00:00</td></tr>\n",
       "\t<tr><td>2013               </td><td> 7                 </td><td>13                 </td><td> 651               </td><td> 655               </td><td> -4                </td><td> 809               </td><td> 906               </td><td>-57                </td><td>US                 </td><td>  71               </td><td>N659AW             </td><td>EWR                </td><td>PHX                </td><td>245                </td><td>2133               </td><td> 6                 </td><td>55                 </td><td>2013-07-13 06:00:00</td></tr>\n",
       "\t<tr><td>2013               </td><td> 1                 </td><td>26                 </td><td>1648               </td><td>1655               </td><td> -7                </td><td>2000               </td><td>2010               </td><td>-10                </td><td>B6                 </td><td> 185               </td><td>N637JB             </td><td>JFK                </td><td>SAN                </td><td>354                </td><td>2446               </td><td>16                 </td><td>55                 </td><td>2013-01-26 16:00:00</td></tr>\n",
       "\t<tr><td>2013               </td><td> 9                 </td><td>27                 </td><td>1714               </td><td>1715               </td><td> -1                </td><td>1840               </td><td>1905               </td><td>-25                </td><td>AA                 </td><td> 345               </td><td>N403AA             </td><td>LGA                </td><td>ORD                </td><td>104                </td><td> 733               </td><td>17                 </td><td>15                 </td><td>2013-09-27 17:00:00</td></tr>\n",
       "\t<tr><td>2013               </td><td> 2                 </td><td>21                 </td><td>1338               </td><td>1320               </td><td> 18                </td><td>1644               </td><td>1625               </td><td> 19                </td><td>B6                 </td><td> 377               </td><td>N648JB             </td><td>LGA                </td><td>FLL                </td><td>146                </td><td>1076               </td><td>13                 </td><td>20                 </td><td>2013-02-21 13:00:00</td></tr>\n",
       "\t<tr><td>2013               </td><td> 7                 </td><td>21                 </td><td>1507               </td><td>1510               </td><td> -3                </td><td>1630               </td><td>1635               </td><td> -5                </td><td>MQ                 </td><td>3433               </td><td>N513MQ             </td><td>JFK                </td><td>DCA                </td><td> 47                </td><td> 213               </td><td>15                 </td><td>10                 </td><td>2013-07-21 15:00:00</td></tr>\n",
       "\t<tr><td>2013               </td><td>11                 </td><td>10                 </td><td> 621               </td><td> 630               </td><td> -9                </td><td> 833               </td><td> 850               </td><td>-17                </td><td>MQ                 </td><td>3550               </td><td>N528MQ             </td><td>LGA                </td><td>ATL                </td><td>114                </td><td> 762               </td><td> 6                 </td><td>30                 </td><td>2013-11-10 06:00:00</td></tr>\n",
       "\t<tr><td>2013               </td><td> 3                 </td><td>20                 </td><td> 557               </td><td> 600               </td><td> -3                </td><td> 828               </td><td> 825               </td><td>  3                </td><td>MQ                 </td><td>4650               </td><td>N6EAMQ             </td><td>LGA                </td><td>ATL                </td><td>125                </td><td> 762               </td><td> 6                 </td><td> 0                 </td><td>2013-03-20 06:00:00</td></tr>\n",
       "\t<tr><td>2013               </td><td> 6                 </td><td>30                 </td><td>2051               </td><td>1605               </td><td>286                </td><td>2302               </td><td>1816               </td><td>286                </td><td>EV                 </td><td>4334               </td><td>N13965             </td><td>EWR                </td><td>SDF                </td><td> 99                </td><td> 642               </td><td>16                 </td><td> 5                 </td><td>2013-06-30 16:00:00</td></tr>\n",
       "\t<tr><td>2013               </td><td> 3                 </td><td> 5                 </td><td>  NA               </td><td>1940               </td><td> NA                </td><td>  NA               </td><td>2121               </td><td> NA                </td><td>EV                 </td><td>5325               </td><td>N611QX             </td><td>LGA                </td><td>CHO                </td><td> NA                </td><td> 305               </td><td>19                 </td><td>40                 </td><td>2013-03-05 19:00:00</td></tr>\n",
       "\t<tr><td>2013               </td><td> 8                 </td><td>28                 </td><td>2020               </td><td>1731               </td><td>169                </td><td>2129               </td><td>1849               </td><td>160                </td><td>B6                 </td><td>2580               </td><td>N266JB             </td><td>EWR                </td><td>BOS                </td><td> 42                </td><td> 200               </td><td>17                 </td><td>31                 </td><td>2013-08-28 17:00:00</td></tr>\n",
       "\t<tr><td>2013               </td><td> 2                 </td><td> 9                 </td><td>1801               </td><td>1745               </td><td> 16                </td><td>2144               </td><td>2117               </td><td> 27                </td><td>DL                 </td><td>1394               </td><td>N395DN             </td><td>JFK                </td><td>PDX                </td><td>340                </td><td>2454               </td><td>17                 </td><td>45                 </td><td>2013-02-09 17:00:00</td></tr>\n",
       "\t<tr><td>2013               </td><td>10                 </td><td>27                 </td><td> 629               </td><td> 635               </td><td> -6                </td><td> 917               </td><td> 929               </td><td>-12                </td><td>B6                 </td><td> 525               </td><td>N597JB             </td><td>JFK                </td><td>TPA                </td><td>142                </td><td>1005               </td><td> 6                 </td><td>35                 </td><td>2013-10-27 06:00:00</td></tr>\n",
       "\t<tr><td>2013               </td><td>12                 </td><td>18                 </td><td> 907               </td><td> 905               </td><td>  2                </td><td>1146               </td><td>1133               </td><td> 13                </td><td>FL                 </td><td> 275               </td><td>N971AT             </td><td>LGA                </td><td>ATL                </td><td>107                </td><td> 762               </td><td> 9                 </td><td> 5                 </td><td>2013-12-18 09:00:00</td></tr>\n",
       "\t<tr><td>2013               </td><td> 5                 </td><td> 5                 </td><td>2355               </td><td>2359               </td><td> -4                </td><td> 331               </td><td> 341               </td><td>-10                </td><td>B6                 </td><td> 727               </td><td>N661JB             </td><td>JFK                </td><td>BQN                </td><td>195                </td><td>1576               </td><td>23                 </td><td>59                 </td><td>2013-05-05 23:00:00</td></tr>\n",
       "\t<tr><td>2013               </td><td> 4                 </td><td>24                 </td><td>2253               </td><td>2050               </td><td>123                </td><td>   5               </td><td>2224               </td><td>101                </td><td>EV                 </td><td>3852               </td><td>N14562             </td><td>EWR                </td><td>BUF                </td><td> 53                </td><td> 282               </td><td>20                 </td><td>50                 </td><td>2013-04-24 20:00:00</td></tr>\n",
       "\t<tr><td>2013               </td><td> 4                 </td><td>24                 </td><td> 844               </td><td> 850               </td><td> -6                </td><td>1231               </td><td>1300               </td><td>-29                </td><td>AA                 </td><td>1357               </td><td>N5FMAA             </td><td>JFK                </td><td>SJU                </td><td>200                </td><td>1598               </td><td> 8                 </td><td>50                 </td><td>2013-04-24 08:00:00</td></tr>\n",
       "\t<tr><td>2013               </td><td> 1                 </td><td>24                 </td><td> 557               </td><td> 600               </td><td> -3                </td><td> 815               </td><td> 815               </td><td>  0                </td><td>FL                 </td><td> 345               </td><td>N966AT             </td><td>LGA                </td><td>ATL                </td><td>119                </td><td> 762               </td><td> 6                 </td><td> 0                 </td><td>2013-01-24 06:00:00</td></tr>\n",
       "\t<tr><td>2013               </td><td>11                 </td><td>18                 </td><td>2006               </td><td>2029               </td><td>-23                </td><td>2134               </td><td>2216               </td><td>-42                </td><td>EV                 </td><td>5956               </td><td>N29906             </td><td>LGA                </td><td>CLE                </td><td> 69                </td><td> 419               </td><td>20                 </td><td>29                 </td><td>2013-11-18 20:00:00</td></tr>\n",
       "\t<tr><td>2013               </td><td> 6                 </td><td>20                 </td><td>1156               </td><td>1200               </td><td> -4                </td><td>1402               </td><td>1358               </td><td>  4                </td><td>EV                 </td><td>4302               </td><td>N17169             </td><td>EWR                </td><td>MCI                </td><td>146                </td><td>1092               </td><td>12                 </td><td> 0                 </td><td>2013-06-20 12:00:00</td></tr>\n",
       "\t<tr><td>2013               </td><td> 9                 </td><td> 4                 </td><td> 852               </td><td> 859               </td><td> -7                </td><td>1110               </td><td>1144               </td><td>-34                </td><td>UA                 </td><td> 578               </td><td>N462UA             </td><td>EWR                </td><td>LAS                </td><td>282                </td><td>2227               </td><td> 8                 </td><td>59                 </td><td>2013-09-04 08:00:00</td></tr>\n",
       "\t<tr><td>2013               </td><td>12                 </td><td>25                 </td><td>1405               </td><td>1408               </td><td> -3                </td><td>1558               </td><td>1613               </td><td>-15                </td><td>EV                 </td><td>4100               </td><td>N16976             </td><td>EWR                </td><td>MEM                </td><td>161                </td><td> 946               </td><td>14                 </td><td> 8                 </td><td>2013-12-25 14:00:00</td></tr>\n",
       "\t<tr><td>2013               </td><td> 6                 </td><td> 8                 </td><td>1935               </td><td>1940               </td><td> -5                </td><td>2234               </td><td>2259               </td><td>-25                </td><td>UA                 </td><td> 212               </td><td>N590UA             </td><td>EWR                </td><td>SFO                </td><td>336                </td><td>2565               </td><td>19                 </td><td>40                 </td><td>2013-06-08 19:00:00</td></tr>\n",
       "\t<tr><td>2013               </td><td> 3                 </td><td>15                 </td><td>1544               </td><td>1545               </td><td> -1                </td><td>1835               </td><td>1856               </td><td>-21                </td><td>DL                 </td><td>   4               </td><td>N383DN             </td><td>JFK                </td><td>MCO                </td><td>126                </td><td> 944               </td><td>15                 </td><td>45                 </td><td>2013-03-15 15:00:00</td></tr>\n",
       "\t<tr><td>2013               </td><td> 3                 </td><td>27                 </td><td>1850               </td><td>1855               </td><td> -5                </td><td>2028               </td><td>2051               </td><td>-23                </td><td>9E                 </td><td>3374               </td><td>N922XJ             </td><td>JFK                </td><td>PIT                </td><td> 64                </td><td> 340               </td><td>18                 </td><td>55                 </td><td>2013-03-27 18:00:00</td></tr>\n",
       "\t<tr><td>2013               </td><td>12                 </td><td> 4                 </td><td>1437               </td><td>1440               </td><td> -3                </td><td>1641               </td><td>1715               </td><td>-34                </td><td>9E                 </td><td>2918               </td><td>N901XJ             </td><td>JFK                </td><td>IND                </td><td>104                </td><td> 665               </td><td>14                 </td><td>40                 </td><td>2013-12-04 14:00:00</td></tr>\n",
       "\t<tr><td>2013               </td><td> 3                 </td><td>31                 </td><td> 954               </td><td>1000               </td><td> -6                </td><td>1323               </td><td>1334               </td><td>-11                </td><td>DL                 </td><td>1765               </td><td>N624AG             </td><td>JFK                </td><td>SFO                </td><td>357                </td><td>2586               </td><td>10                 </td><td> 0                 </td><td>2013-03-31 10:00:00</td></tr>\n",
       "\t<tr><td>2013               </td><td> 9                 </td><td> 9                 </td><td> 844               </td><td> 852               </td><td> -8                </td><td>1128               </td><td>1156               </td><td>-28                </td><td>UA                 </td><td>1455               </td><td>N36469             </td><td>EWR                </td><td>LAX                </td><td>310                </td><td>2454               </td><td> 8                 </td><td>52                 </td><td>2013-09-09 08:00:00</td></tr>\n",
       "\t<tr><td>2013               </td><td> 8                 </td><td>29                 </td><td>1158               </td><td>1201               </td><td> -3                </td><td>1403               </td><td>1447               </td><td>-44                </td><td>UA                 </td><td>1461               </td><td>N14242             </td><td>EWR                </td><td>IAH                </td><td>171                </td><td>1400               </td><td>12                 </td><td> 1                 </td><td>2013-08-29 12:00:00</td></tr>\n",
       "\t<tr><td>...</td><td>...</td><td>...</td><td>...</td><td>...</td><td>...</td><td>...</td><td>...</td><td>...</td><td>...</td><td>...</td><td>...</td><td>...</td><td>...</td><td>...</td><td>...</td><td>...</td><td>...</td><td>...</td></tr>\n",
       "\t<tr><td>2013               </td><td> 7                 </td><td>10                 </td><td> 659               </td><td> 700               </td><td> -1                </td><td> 802               </td><td> 807               </td><td> -5                </td><td>US                 </td><td>2163               </td><td>N758US             </td><td>LGA                </td><td>DCA                </td><td> 45                </td><td> 214               </td><td> 7                 </td><td> 0                 </td><td>2013-07-10 07:00:00</td></tr>\n",
       "\t<tr><td>2013               </td><td>10                 </td><td>17                 </td><td>1304               </td><td>1300               </td><td>  4                </td><td>1609               </td><td>1610               </td><td> -1                </td><td>VX                 </td><td> 411               </td><td>N636VA             </td><td>JFK                </td><td>LAX                </td><td>338                </td><td>2475               </td><td>13                 </td><td> 0                 </td><td>2013-10-17 13:00:00</td></tr>\n",
       "\t<tr><td>2013               </td><td>11                 </td><td> 1                 </td><td> 744               </td><td> 747               </td><td> -3                </td><td>1123               </td><td>1139               </td><td>-16                </td><td>UA                 </td><td>1216               </td><td>N36444             </td><td>EWR                </td><td>SJU                </td><td>199                </td><td>1608               </td><td> 7                 </td><td>47                 </td><td>2013-11-01 07:00:00</td></tr>\n",
       "\t<tr><td>2013               </td><td> 6                 </td><td>17                 </td><td> 824               </td><td> 830               </td><td> -6                </td><td>1014               </td><td>1028               </td><td>-14                </td><td>EV                 </td><td>4297               </td><td>N16546             </td><td>EWR                </td><td>DTW                </td><td> 85                </td><td> 488               </td><td> 8                 </td><td>30                 </td><td>2013-06-17 08:00:00</td></tr>\n",
       "\t<tr><td>2013               </td><td> 3                 </td><td>25                 </td><td> 721               </td><td> 630               </td><td> 51                </td><td> 853               </td><td> 830               </td><td> 23                </td><td>MQ                 </td><td>4599               </td><td>N505MQ             </td><td>LGA                </td><td>MSP                </td><td>132                </td><td>1020               </td><td> 6                 </td><td>30                 </td><td>2013-03-25 06:00:00</td></tr>\n",
       "\t<tr><td>2013               </td><td> 8                 </td><td>30                 </td><td>2232               </td><td>2150               </td><td> 42                </td><td> 114               </td><td>  45               </td><td> 29                </td><td>B6                 </td><td>1201               </td><td>N658JB             </td><td>JFK                </td><td>FLL                </td><td>136                </td><td>1069               </td><td>21                 </td><td>50                 </td><td>2013-08-30 21:00:00</td></tr>\n",
       "\t<tr><td>2013               </td><td>11                 </td><td> 6                 </td><td>1154               </td><td>1200               </td><td> -6                </td><td>1306               </td><td>1315               </td><td> -9                </td><td>US                 </td><td>2179               </td><td>N764US             </td><td>LGA                </td><td>DCA                </td><td> 49                </td><td> 214               </td><td>12                 </td><td> 0                 </td><td>2013-11-06 12:00:00</td></tr>\n",
       "\t<tr><td>2013               </td><td> 2                 </td><td>18                 </td><td>2242               </td><td>2250               </td><td> -8                </td><td>2353               </td><td>   5               </td><td>-12                </td><td>B6                 </td><td>  30               </td><td>N298JB             </td><td>JFK                </td><td>ROC                </td><td> 52                </td><td> 264               </td><td>22                 </td><td>50                 </td><td>2013-02-18 22:00:00</td></tr>\n",
       "\t<tr><td>2013               </td><td>11                 </td><td>14                 </td><td> 753               </td><td> 800               </td><td> -7                </td><td>1036               </td><td>1053               </td><td>-17                </td><td>DL                 </td><td>1959               </td><td>N710TW             </td><td>JFK                </td><td>MCO                </td><td>130                </td><td> 944               </td><td> 8                 </td><td> 0                 </td><td>2013-11-14 08:00:00</td></tr>\n",
       "\t<tr><td>2013               </td><td> 7                 </td><td>22                 </td><td>1014               </td><td>1020               </td><td> -6                </td><td>1157               </td><td>1206               </td><td> -9                </td><td>US                 </td><td>1435               </td><td>N196UW             </td><td>EWR                </td><td>CLT                </td><td> 79                </td><td> 529               </td><td>10                 </td><td>20                 </td><td>2013-07-22 10:00:00</td></tr>\n",
       "\t<tr><td>2013               </td><td> 4                 </td><td> 1                 </td><td>1753               </td><td>1800               </td><td> -7                </td><td>2058               </td><td>2035               </td><td> 23                </td><td>DL                 </td><td>1047               </td><td>N617DL             </td><td>LGA                </td><td>ATL                </td><td>116                </td><td> 762               </td><td>18                 </td><td> 0                 </td><td>2013-04-01 18:00:00</td></tr>\n",
       "\t<tr><td>2013               </td><td>12                 </td><td> 7                 </td><td>1631               </td><td>1635               </td><td> -4                </td><td>1817               </td><td>1825               </td><td> -8                </td><td>AA                 </td><td> 343               </td><td>N474AA             </td><td>LGA                </td><td>ORD                </td><td>128                </td><td> 733               </td><td>16                 </td><td>35                 </td><td>2013-12-07 16:00:00</td></tr>\n",
       "\t<tr><td>2013               </td><td> 4                 </td><td>28                 </td><td>1300               </td><td>1300               </td><td>  0                </td><td>1633               </td><td>1658               </td><td>-25                </td><td>UA                 </td><td>1708               </td><td>N38458             </td><td>EWR                </td><td>SJU                </td><td>196                </td><td>1608               </td><td>13                 </td><td> 0                 </td><td>2013-04-28 13:00:00</td></tr>\n",
       "\t<tr><td>2013               </td><td> 4                 </td><td>20                 </td><td>1306               </td><td>1310               </td><td> -4                </td><td>1448               </td><td>1510               </td><td>-22                </td><td>MQ                 </td><td>4564               </td><td>N735MQ             </td><td>LGA                </td><td>DTW                </td><td> 81                </td><td> 502               </td><td>13                 </td><td>10                 </td><td>2013-04-20 13:00:00</td></tr>\n",
       "\t<tr><td>2013               </td><td> 2                 </td><td> 7                 </td><td>1024               </td><td>1006               </td><td> 18                </td><td>1143               </td><td>1121               </td><td> 22                </td><td>EV                 </td><td>5711               </td><td>N828AS             </td><td>JFK                </td><td>IAD                </td><td> 55                </td><td> 228               </td><td>10                 </td><td> 6                 </td><td>2013-02-07 10:00:00</td></tr>\n",
       "\t<tr><td>2013               </td><td> 9                 </td><td>14                 </td><td> 829               </td><td> 820               </td><td>  9                </td><td>1055               </td><td>1110               </td><td>-15                </td><td>B6                 </td><td> 281               </td><td>N274JB             </td><td>JFK                </td><td>HOU                </td><td>181                </td><td>1428               </td><td> 8                 </td><td>20                 </td><td>2013-09-14 08:00:00</td></tr>\n",
       "\t<tr><td>2013               </td><td>12                 </td><td>12                 </td><td>1400               </td><td>1355               </td><td>  5                </td><td>1537               </td><td>1525               </td><td> 12                </td><td>WN                 </td><td>   3               </td><td>N929WN             </td><td>LGA                </td><td>MDW                </td><td>125                </td><td> 725               </td><td>13                 </td><td>55                 </td><td>2013-12-12 13:00:00</td></tr>\n",
       "\t<tr><td>2013               </td><td>10                 </td><td> 3                 </td><td>1703               </td><td>1700               </td><td>  3                </td><td>2019               </td><td>2018               </td><td>  1                </td><td>DL                 </td><td>  95               </td><td>N711ZX             </td><td>JFK                </td><td>LAX                </td><td>337                </td><td>2475               </td><td>17                 </td><td> 0                 </td><td>2013-10-03 17:00:00</td></tr>\n",
       "\t<tr><td>2013               </td><td> 5                 </td><td> 8                 </td><td>1123               </td><td> 840               </td><td>163                </td><td>1300               </td><td>1038               </td><td>142                </td><td>EV                 </td><td>4297               </td><td>N13988             </td><td>EWR                </td><td>DTW                </td><td> 74                </td><td> 488               </td><td> 8                 </td><td>40                 </td><td>2013-05-08 08:00:00</td></tr>\n",
       "\t<tr><td>2013               </td><td>10                 </td><td>13                 </td><td>1529               </td><td>1529               </td><td>  0                </td><td>1701               </td><td>1649               </td><td> 12                </td><td>EV                 </td><td>4580               </td><td>N13988             </td><td>EWR                </td><td>MKE                </td><td>105                </td><td> 725               </td><td>15                 </td><td>29                 </td><td>2013-10-13 15:00:00</td></tr>\n",
       "\t<tr><td>2013               </td><td> 7                 </td><td>12                 </td><td>2115               </td><td>2057               </td><td> 18                </td><td>   6               </td><td>2359               </td><td>  7                </td><td>UA                 </td><td>1241               </td><td>N17244             </td><td>EWR                </td><td>TPA                </td><td>147                </td><td> 997               </td><td>20                 </td><td>57                 </td><td>2013-07-12 20:00:00</td></tr>\n",
       "\t<tr><td>2013               </td><td> 2                 </td><td>11                 </td><td>2230               </td><td>2042               </td><td>108                </td><td>  23               </td><td>2231               </td><td>112                </td><td>EV                 </td><td>3833               </td><td>N16911             </td><td>EWR                </td><td>STL                </td><td>153                </td><td> 872               </td><td>20                 </td><td>42                 </td><td>2013-02-11 20:00:00</td></tr>\n",
       "\t<tr><td>2013               </td><td> 9                 </td><td>10                 </td><td>1153               </td><td>1200               </td><td> -7                </td><td>1413               </td><td>1455               </td><td>-42                </td><td>AA                 </td><td>   3               </td><td>N338AA             </td><td>JFK                </td><td>LAX                </td><td>303                </td><td>2475               </td><td>12                 </td><td> 0                 </td><td>2013-09-10 12:00:00</td></tr>\n",
       "\t<tr><td>2013               </td><td> 8                 </td><td>31                 </td><td>2055               </td><td>2100               </td><td> -5                </td><td>2249               </td><td>2242               </td><td>  7                </td><td>EV                 </td><td>4348               </td><td>N12201             </td><td>EWR                </td><td>CLE                </td><td> 88                </td><td> 404               </td><td>21                 </td><td> 0                 </td><td>2013-08-31 21:00:00</td></tr>\n",
       "\t<tr><td>2013               </td><td> 9                 </td><td> 4                 </td><td>1601               </td><td>1600               </td><td>  1                </td><td>1801               </td><td>1755               </td><td>  6                </td><td>MQ                 </td><td>2793               </td><td>N677MQ             </td><td>JFK                </td><td>CMH                </td><td> 74                </td><td> 483               </td><td>16                 </td><td> 0                 </td><td>2013-09-04 16:00:00</td></tr>\n",
       "\t<tr><td>2013               </td><td> 6                 </td><td>27                 </td><td> 824               </td><td> 825               </td><td> -1                </td><td>1049               </td><td>1108               </td><td>-19                </td><td>DL                 </td><td>1959               </td><td>N3731T             </td><td>JFK                </td><td>MCO                </td><td>122                </td><td> 944               </td><td> 8                 </td><td>25                 </td><td>2013-06-27 08:00:00</td></tr>\n",
       "\t<tr><td>2013               </td><td> 2                 </td><td>10                 </td><td>1602               </td><td>1545               </td><td> 17                </td><td>1720               </td><td>1703               </td><td> 17                </td><td>9E                 </td><td>3635               </td><td>N8971A             </td><td>JFK                </td><td>BWI                </td><td> 36                </td><td> 184               </td><td>15                 </td><td>45                 </td><td>2013-02-10 15:00:00</td></tr>\n",
       "\t<tr><td>2013               </td><td>11                 </td><td>20                 </td><td>1356               </td><td>1359               </td><td> -3                </td><td>1653               </td><td>1632               </td><td> 21                </td><td>DL                 </td><td>2247               </td><td>N983DL             </td><td>LGA                </td><td>ATL                </td><td>111                </td><td> 762               </td><td>13                 </td><td>59                 </td><td>2013-11-20 13:00:00</td></tr>\n",
       "\t<tr><td>2013               </td><td> 9                 </td><td>24                 </td><td>1454               </td><td>1459               </td><td> -5                </td><td>1716               </td><td>1730               </td><td>-14                </td><td>EV                 </td><td>4377               </td><td>N16571             </td><td>EWR                </td><td>JAX                </td><td>118                </td><td> 820               </td><td>14                 </td><td>59                 </td><td>2013-09-24 14:00:00</td></tr>\n",
       "\t<tr><td>2013               </td><td> 9                 </td><td>27                 </td><td>1342               </td><td>1346               </td><td> -4                </td><td>1539               </td><td>1555               </td><td>-16                </td><td>EV                 </td><td>4395               </td><td>N14568             </td><td>EWR                </td><td>IND                </td><td> 90                </td><td> 645               </td><td>13                 </td><td>46                 </td><td>2013-09-27 13:00:00</td></tr>\n",
       "</tbody>\n",
       "</table>\n"
      ],
      "text/latex": [
       "\\begin{tabular}{r|lllllllllllllllllll}\n",
       " year & month & day & dep\\_time & sched\\_dep\\_time & dep\\_delay & arr\\_time & sched\\_arr\\_time & arr\\_delay & carrier & flight & tailnum & origin & dest & air\\_time & distance & hour & minute & time\\_hour\\\\\n",
       "\\hline\n",
       "\t 2013                &  8                  &  4                  &  753                &  800                &  -7                 &  945                & 1005                & -20                 & DL                  & 2119                & N986DL              & LGA                 & MSP                 & 156                 & 1020                &  8                  &  0                  & 2013-08-04 08:00:00\\\\\n",
       "\t 2013                & 12                  & 17                  &  931                &  930                &   1                 & 1307                & 1236                &  31                 & DL                  & 1885                & N913DE              & LGA                 & MCO                 & 137                 &  950                &  9                  & 30                  & 2013-12-17 09:00:00\\\\\n",
       "\t 2013                &  7                  & 13                  &  651                &  655                &  -4                 &  809                &  906                & -57                 & US                  &   71                & N659AW              & EWR                 & PHX                 & 245                 & 2133                &  6                  & 55                  & 2013-07-13 06:00:00\\\\\n",
       "\t 2013                &  1                  & 26                  & 1648                & 1655                &  -7                 & 2000                & 2010                & -10                 & B6                  &  185                & N637JB              & JFK                 & SAN                 & 354                 & 2446                & 16                  & 55                  & 2013-01-26 16:00:00\\\\\n",
       "\t 2013                &  9                  & 27                  & 1714                & 1715                &  -1                 & 1840                & 1905                & -25                 & AA                  &  345                & N403AA              & LGA                 & ORD                 & 104                 &  733                & 17                  & 15                  & 2013-09-27 17:00:00\\\\\n",
       "\t 2013                &  2                  & 21                  & 1338                & 1320                &  18                 & 1644                & 1625                &  19                 & B6                  &  377                & N648JB              & LGA                 & FLL                 & 146                 & 1076                & 13                  & 20                  & 2013-02-21 13:00:00\\\\\n",
       "\t 2013                &  7                  & 21                  & 1507                & 1510                &  -3                 & 1630                & 1635                &  -5                 & MQ                  & 3433                & N513MQ              & JFK                 & DCA                 &  47                 &  213                & 15                  & 10                  & 2013-07-21 15:00:00\\\\\n",
       "\t 2013                & 11                  & 10                  &  621                &  630                &  -9                 &  833                &  850                & -17                 & MQ                  & 3550                & N528MQ              & LGA                 & ATL                 & 114                 &  762                &  6                  & 30                  & 2013-11-10 06:00:00\\\\\n",
       "\t 2013                &  3                  & 20                  &  557                &  600                &  -3                 &  828                &  825                &   3                 & MQ                  & 4650                & N6EAMQ              & LGA                 & ATL                 & 125                 &  762                &  6                  &  0                  & 2013-03-20 06:00:00\\\\\n",
       "\t 2013                &  6                  & 30                  & 2051                & 1605                & 286                 & 2302                & 1816                & 286                 & EV                  & 4334                & N13965              & EWR                 & SDF                 &  99                 &  642                & 16                  &  5                  & 2013-06-30 16:00:00\\\\\n",
       "\t 2013                &  3                  &  5                  &   NA                & 1940                &  NA                 &   NA                & 2121                &  NA                 & EV                  & 5325                & N611QX              & LGA                 & CHO                 &  NA                 &  305                & 19                  & 40                  & 2013-03-05 19:00:00\\\\\n",
       "\t 2013                &  8                  & 28                  & 2020                & 1731                & 169                 & 2129                & 1849                & 160                 & B6                  & 2580                & N266JB              & EWR                 & BOS                 &  42                 &  200                & 17                  & 31                  & 2013-08-28 17:00:00\\\\\n",
       "\t 2013                &  2                  &  9                  & 1801                & 1745                &  16                 & 2144                & 2117                &  27                 & DL                  & 1394                & N395DN              & JFK                 & PDX                 & 340                 & 2454                & 17                  & 45                  & 2013-02-09 17:00:00\\\\\n",
       "\t 2013                & 10                  & 27                  &  629                &  635                &  -6                 &  917                &  929                & -12                 & B6                  &  525                & N597JB              & JFK                 & TPA                 & 142                 & 1005                &  6                  & 35                  & 2013-10-27 06:00:00\\\\\n",
       "\t 2013                & 12                  & 18                  &  907                &  905                &   2                 & 1146                & 1133                &  13                 & FL                  &  275                & N971AT              & LGA                 & ATL                 & 107                 &  762                &  9                  &  5                  & 2013-12-18 09:00:00\\\\\n",
       "\t 2013                &  5                  &  5                  & 2355                & 2359                &  -4                 &  331                &  341                & -10                 & B6                  &  727                & N661JB              & JFK                 & BQN                 & 195                 & 1576                & 23                  & 59                  & 2013-05-05 23:00:00\\\\\n",
       "\t 2013                &  4                  & 24                  & 2253                & 2050                & 123                 &    5                & 2224                & 101                 & EV                  & 3852                & N14562              & EWR                 & BUF                 &  53                 &  282                & 20                  & 50                  & 2013-04-24 20:00:00\\\\\n",
       "\t 2013                &  4                  & 24                  &  844                &  850                &  -6                 & 1231                & 1300                & -29                 & AA                  & 1357                & N5FMAA              & JFK                 & SJU                 & 200                 & 1598                &  8                  & 50                  & 2013-04-24 08:00:00\\\\\n",
       "\t 2013                &  1                  & 24                  &  557                &  600                &  -3                 &  815                &  815                &   0                 & FL                  &  345                & N966AT              & LGA                 & ATL                 & 119                 &  762                &  6                  &  0                  & 2013-01-24 06:00:00\\\\\n",
       "\t 2013                & 11                  & 18                  & 2006                & 2029                & -23                 & 2134                & 2216                & -42                 & EV                  & 5956                & N29906              & LGA                 & CLE                 &  69                 &  419                & 20                  & 29                  & 2013-11-18 20:00:00\\\\\n",
       "\t 2013                &  6                  & 20                  & 1156                & 1200                &  -4                 & 1402                & 1358                &   4                 & EV                  & 4302                & N17169              & EWR                 & MCI                 & 146                 & 1092                & 12                  &  0                  & 2013-06-20 12:00:00\\\\\n",
       "\t 2013                &  9                  &  4                  &  852                &  859                &  -7                 & 1110                & 1144                & -34                 & UA                  &  578                & N462UA              & EWR                 & LAS                 & 282                 & 2227                &  8                  & 59                  & 2013-09-04 08:00:00\\\\\n",
       "\t 2013                & 12                  & 25                  & 1405                & 1408                &  -3                 & 1558                & 1613                & -15                 & EV                  & 4100                & N16976              & EWR                 & MEM                 & 161                 &  946                & 14                  &  8                  & 2013-12-25 14:00:00\\\\\n",
       "\t 2013                &  6                  &  8                  & 1935                & 1940                &  -5                 & 2234                & 2259                & -25                 & UA                  &  212                & N590UA              & EWR                 & SFO                 & 336                 & 2565                & 19                  & 40                  & 2013-06-08 19:00:00\\\\\n",
       "\t 2013                &  3                  & 15                  & 1544                & 1545                &  -1                 & 1835                & 1856                & -21                 & DL                  &    4                & N383DN              & JFK                 & MCO                 & 126                 &  944                & 15                  & 45                  & 2013-03-15 15:00:00\\\\\n",
       "\t 2013                &  3                  & 27                  & 1850                & 1855                &  -5                 & 2028                & 2051                & -23                 & 9E                  & 3374                & N922XJ              & JFK                 & PIT                 &  64                 &  340                & 18                  & 55                  & 2013-03-27 18:00:00\\\\\n",
       "\t 2013                & 12                  &  4                  & 1437                & 1440                &  -3                 & 1641                & 1715                & -34                 & 9E                  & 2918                & N901XJ              & JFK                 & IND                 & 104                 &  665                & 14                  & 40                  & 2013-12-04 14:00:00\\\\\n",
       "\t 2013                &  3                  & 31                  &  954                & 1000                &  -6                 & 1323                & 1334                & -11                 & DL                  & 1765                & N624AG              & JFK                 & SFO                 & 357                 & 2586                & 10                  &  0                  & 2013-03-31 10:00:00\\\\\n",
       "\t 2013                &  9                  &  9                  &  844                &  852                &  -8                 & 1128                & 1156                & -28                 & UA                  & 1455                & N36469              & EWR                 & LAX                 & 310                 & 2454                &  8                  & 52                  & 2013-09-09 08:00:00\\\\\n",
       "\t 2013                &  8                  & 29                  & 1158                & 1201                &  -3                 & 1403                & 1447                & -44                 & UA                  & 1461                & N14242              & EWR                 & IAH                 & 171                 & 1400                & 12                  &  1                  & 2013-08-29 12:00:00\\\\\n",
       "\t ... & ... & ... & ... & ... & ... & ... & ... & ... & ... & ... & ... & ... & ... & ... & ... & ... & ... & ...\\\\\n",
       "\t 2013                &  7                  & 10                  &  659                &  700                &  -1                 &  802                &  807                &  -5                 & US                  & 2163                & N758US              & LGA                 & DCA                 &  45                 &  214                &  7                  &  0                  & 2013-07-10 07:00:00\\\\\n",
       "\t 2013                & 10                  & 17                  & 1304                & 1300                &   4                 & 1609                & 1610                &  -1                 & VX                  &  411                & N636VA              & JFK                 & LAX                 & 338                 & 2475                & 13                  &  0                  & 2013-10-17 13:00:00\\\\\n",
       "\t 2013                & 11                  &  1                  &  744                &  747                &  -3                 & 1123                & 1139                & -16                 & UA                  & 1216                & N36444              & EWR                 & SJU                 & 199                 & 1608                &  7                  & 47                  & 2013-11-01 07:00:00\\\\\n",
       "\t 2013                &  6                  & 17                  &  824                &  830                &  -6                 & 1014                & 1028                & -14                 & EV                  & 4297                & N16546              & EWR                 & DTW                 &  85                 &  488                &  8                  & 30                  & 2013-06-17 08:00:00\\\\\n",
       "\t 2013                &  3                  & 25                  &  721                &  630                &  51                 &  853                &  830                &  23                 & MQ                  & 4599                & N505MQ              & LGA                 & MSP                 & 132                 & 1020                &  6                  & 30                  & 2013-03-25 06:00:00\\\\\n",
       "\t 2013                &  8                  & 30                  & 2232                & 2150                &  42                 &  114                &   45                &  29                 & B6                  & 1201                & N658JB              & JFK                 & FLL                 & 136                 & 1069                & 21                  & 50                  & 2013-08-30 21:00:00\\\\\n",
       "\t 2013                & 11                  &  6                  & 1154                & 1200                &  -6                 & 1306                & 1315                &  -9                 & US                  & 2179                & N764US              & LGA                 & DCA                 &  49                 &  214                & 12                  &  0                  & 2013-11-06 12:00:00\\\\\n",
       "\t 2013                &  2                  & 18                  & 2242                & 2250                &  -8                 & 2353                &    5                & -12                 & B6                  &   30                & N298JB              & JFK                 & ROC                 &  52                 &  264                & 22                  & 50                  & 2013-02-18 22:00:00\\\\\n",
       "\t 2013                & 11                  & 14                  &  753                &  800                &  -7                 & 1036                & 1053                & -17                 & DL                  & 1959                & N710TW              & JFK                 & MCO                 & 130                 &  944                &  8                  &  0                  & 2013-11-14 08:00:00\\\\\n",
       "\t 2013                &  7                  & 22                  & 1014                & 1020                &  -6                 & 1157                & 1206                &  -9                 & US                  & 1435                & N196UW              & EWR                 & CLT                 &  79                 &  529                & 10                  & 20                  & 2013-07-22 10:00:00\\\\\n",
       "\t 2013                &  4                  &  1                  & 1753                & 1800                &  -7                 & 2058                & 2035                &  23                 & DL                  & 1047                & N617DL              & LGA                 & ATL                 & 116                 &  762                & 18                  &  0                  & 2013-04-01 18:00:00\\\\\n",
       "\t 2013                & 12                  &  7                  & 1631                & 1635                &  -4                 & 1817                & 1825                &  -8                 & AA                  &  343                & N474AA              & LGA                 & ORD                 & 128                 &  733                & 16                  & 35                  & 2013-12-07 16:00:00\\\\\n",
       "\t 2013                &  4                  & 28                  & 1300                & 1300                &   0                 & 1633                & 1658                & -25                 & UA                  & 1708                & N38458              & EWR                 & SJU                 & 196                 & 1608                & 13                  &  0                  & 2013-04-28 13:00:00\\\\\n",
       "\t 2013                &  4                  & 20                  & 1306                & 1310                &  -4                 & 1448                & 1510                & -22                 & MQ                  & 4564                & N735MQ              & LGA                 & DTW                 &  81                 &  502                & 13                  & 10                  & 2013-04-20 13:00:00\\\\\n",
       "\t 2013                &  2                  &  7                  & 1024                & 1006                &  18                 & 1143                & 1121                &  22                 & EV                  & 5711                & N828AS              & JFK                 & IAD                 &  55                 &  228                & 10                  &  6                  & 2013-02-07 10:00:00\\\\\n",
       "\t 2013                &  9                  & 14                  &  829                &  820                &   9                 & 1055                & 1110                & -15                 & B6                  &  281                & N274JB              & JFK                 & HOU                 & 181                 & 1428                &  8                  & 20                  & 2013-09-14 08:00:00\\\\\n",
       "\t 2013                & 12                  & 12                  & 1400                & 1355                &   5                 & 1537                & 1525                &  12                 & WN                  &    3                & N929WN              & LGA                 & MDW                 & 125                 &  725                & 13                  & 55                  & 2013-12-12 13:00:00\\\\\n",
       "\t 2013                & 10                  &  3                  & 1703                & 1700                &   3                 & 2019                & 2018                &   1                 & DL                  &   95                & N711ZX              & JFK                 & LAX                 & 337                 & 2475                & 17                  &  0                  & 2013-10-03 17:00:00\\\\\n",
       "\t 2013                &  5                  &  8                  & 1123                &  840                & 163                 & 1300                & 1038                & 142                 & EV                  & 4297                & N13988              & EWR                 & DTW                 &  74                 &  488                &  8                  & 40                  & 2013-05-08 08:00:00\\\\\n",
       "\t 2013                & 10                  & 13                  & 1529                & 1529                &   0                 & 1701                & 1649                &  12                 & EV                  & 4580                & N13988              & EWR                 & MKE                 & 105                 &  725                & 15                  & 29                  & 2013-10-13 15:00:00\\\\\n",
       "\t 2013                &  7                  & 12                  & 2115                & 2057                &  18                 &    6                & 2359                &   7                 & UA                  & 1241                & N17244              & EWR                 & TPA                 & 147                 &  997                & 20                  & 57                  & 2013-07-12 20:00:00\\\\\n",
       "\t 2013                &  2                  & 11                  & 2230                & 2042                & 108                 &   23                & 2231                & 112                 & EV                  & 3833                & N16911              & EWR                 & STL                 & 153                 &  872                & 20                  & 42                  & 2013-02-11 20:00:00\\\\\n",
       "\t 2013                &  9                  & 10                  & 1153                & 1200                &  -7                 & 1413                & 1455                & -42                 & AA                  &    3                & N338AA              & JFK                 & LAX                 & 303                 & 2475                & 12                  &  0                  & 2013-09-10 12:00:00\\\\\n",
       "\t 2013                &  8                  & 31                  & 2055                & 2100                &  -5                 & 2249                & 2242                &   7                 & EV                  & 4348                & N12201              & EWR                 & CLE                 &  88                 &  404                & 21                  &  0                  & 2013-08-31 21:00:00\\\\\n",
       "\t 2013                &  9                  &  4                  & 1601                & 1600                &   1                 & 1801                & 1755                &   6                 & MQ                  & 2793                & N677MQ              & JFK                 & CMH                 &  74                 &  483                & 16                  &  0                  & 2013-09-04 16:00:00\\\\\n",
       "\t 2013                &  6                  & 27                  &  824                &  825                &  -1                 & 1049                & 1108                & -19                 & DL                  & 1959                & N3731T              & JFK                 & MCO                 & 122                 &  944                &  8                  & 25                  & 2013-06-27 08:00:00\\\\\n",
       "\t 2013                &  2                  & 10                  & 1602                & 1545                &  17                 & 1720                & 1703                &  17                 & 9E                  & 3635                & N8971A              & JFK                 & BWI                 &  36                 &  184                & 15                  & 45                  & 2013-02-10 15:00:00\\\\\n",
       "\t 2013                & 11                  & 20                  & 1356                & 1359                &  -3                 & 1653                & 1632                &  21                 & DL                  & 2247                & N983DL              & LGA                 & ATL                 & 111                 &  762                & 13                  & 59                  & 2013-11-20 13:00:00\\\\\n",
       "\t 2013                &  9                  & 24                  & 1454                & 1459                &  -5                 & 1716                & 1730                & -14                 & EV                  & 4377                & N16571              & EWR                 & JAX                 & 118                 &  820                & 14                  & 59                  & 2013-09-24 14:00:00\\\\\n",
       "\t 2013                &  9                  & 27                  & 1342                & 1346                &  -4                 & 1539                & 1555                & -16                 & EV                  & 4395                & N14568              & EWR                 & IND                 &  90                 &  645                & 13                  & 46                  & 2013-09-27 13:00:00\\\\\n",
       "\\end{tabular}\n"
      ],
      "text/markdown": [
       "\n",
       "| year | month | day | dep_time | sched_dep_time | dep_delay | arr_time | sched_arr_time | arr_delay | carrier | flight | tailnum | origin | dest | air_time | distance | hour | minute | time_hour |\n",
       "|---|---|---|---|---|---|---|---|---|---|---|---|---|---|---|---|---|---|---|\n",
       "| 2013                |  8                  |  4                  |  753                |  800                |  -7                 |  945                | 1005                | -20                 | DL                  | 2119                | N986DL              | LGA                 | MSP                 | 156                 | 1020                |  8                  |  0                  | 2013-08-04 08:00:00 |\n",
       "| 2013                | 12                  | 17                  |  931                |  930                |   1                 | 1307                | 1236                |  31                 | DL                  | 1885                | N913DE              | LGA                 | MCO                 | 137                 |  950                |  9                  | 30                  | 2013-12-17 09:00:00 |\n",
       "| 2013                |  7                  | 13                  |  651                |  655                |  -4                 |  809                |  906                | -57                 | US                  |   71                | N659AW              | EWR                 | PHX                 | 245                 | 2133                |  6                  | 55                  | 2013-07-13 06:00:00 |\n",
       "| 2013                |  1                  | 26                  | 1648                | 1655                |  -7                 | 2000                | 2010                | -10                 | B6                  |  185                | N637JB              | JFK                 | SAN                 | 354                 | 2446                | 16                  | 55                  | 2013-01-26 16:00:00 |\n",
       "| 2013                |  9                  | 27                  | 1714                | 1715                |  -1                 | 1840                | 1905                | -25                 | AA                  |  345                | N403AA              | LGA                 | ORD                 | 104                 |  733                | 17                  | 15                  | 2013-09-27 17:00:00 |\n",
       "| 2013                |  2                  | 21                  | 1338                | 1320                |  18                 | 1644                | 1625                |  19                 | B6                  |  377                | N648JB              | LGA                 | FLL                 | 146                 | 1076                | 13                  | 20                  | 2013-02-21 13:00:00 |\n",
       "| 2013                |  7                  | 21                  | 1507                | 1510                |  -3                 | 1630                | 1635                |  -5                 | MQ                  | 3433                | N513MQ              | JFK                 | DCA                 |  47                 |  213                | 15                  | 10                  | 2013-07-21 15:00:00 |\n",
       "| 2013                | 11                  | 10                  |  621                |  630                |  -9                 |  833                |  850                | -17                 | MQ                  | 3550                | N528MQ              | LGA                 | ATL                 | 114                 |  762                |  6                  | 30                  | 2013-11-10 06:00:00 |\n",
       "| 2013                |  3                  | 20                  |  557                |  600                |  -3                 |  828                |  825                |   3                 | MQ                  | 4650                | N6EAMQ              | LGA                 | ATL                 | 125                 |  762                |  6                  |  0                  | 2013-03-20 06:00:00 |\n",
       "| 2013                |  6                  | 30                  | 2051                | 1605                | 286                 | 2302                | 1816                | 286                 | EV                  | 4334                | N13965              | EWR                 | SDF                 |  99                 |  642                | 16                  |  5                  | 2013-06-30 16:00:00 |\n",
       "| 2013                |  3                  |  5                  |   NA                | 1940                |  NA                 |   NA                | 2121                |  NA                 | EV                  | 5325                | N611QX              | LGA                 | CHO                 |  NA                 |  305                | 19                  | 40                  | 2013-03-05 19:00:00 |\n",
       "| 2013                |  8                  | 28                  | 2020                | 1731                | 169                 | 2129                | 1849                | 160                 | B6                  | 2580                | N266JB              | EWR                 | BOS                 |  42                 |  200                | 17                  | 31                  | 2013-08-28 17:00:00 |\n",
       "| 2013                |  2                  |  9                  | 1801                | 1745                |  16                 | 2144                | 2117                |  27                 | DL                  | 1394                | N395DN              | JFK                 | PDX                 | 340                 | 2454                | 17                  | 45                  | 2013-02-09 17:00:00 |\n",
       "| 2013                | 10                  | 27                  |  629                |  635                |  -6                 |  917                |  929                | -12                 | B6                  |  525                | N597JB              | JFK                 | TPA                 | 142                 | 1005                |  6                  | 35                  | 2013-10-27 06:00:00 |\n",
       "| 2013                | 12                  | 18                  |  907                |  905                |   2                 | 1146                | 1133                |  13                 | FL                  |  275                | N971AT              | LGA                 | ATL                 | 107                 |  762                |  9                  |  5                  | 2013-12-18 09:00:00 |\n",
       "| 2013                |  5                  |  5                  | 2355                | 2359                |  -4                 |  331                |  341                | -10                 | B6                  |  727                | N661JB              | JFK                 | BQN                 | 195                 | 1576                | 23                  | 59                  | 2013-05-05 23:00:00 |\n",
       "| 2013                |  4                  | 24                  | 2253                | 2050                | 123                 |    5                | 2224                | 101                 | EV                  | 3852                | N14562              | EWR                 | BUF                 |  53                 |  282                | 20                  | 50                  | 2013-04-24 20:00:00 |\n",
       "| 2013                |  4                  | 24                  |  844                |  850                |  -6                 | 1231                | 1300                | -29                 | AA                  | 1357                | N5FMAA              | JFK                 | SJU                 | 200                 | 1598                |  8                  | 50                  | 2013-04-24 08:00:00 |\n",
       "| 2013                |  1                  | 24                  |  557                |  600                |  -3                 |  815                |  815                |   0                 | FL                  |  345                | N966AT              | LGA                 | ATL                 | 119                 |  762                |  6                  |  0                  | 2013-01-24 06:00:00 |\n",
       "| 2013                | 11                  | 18                  | 2006                | 2029                | -23                 | 2134                | 2216                | -42                 | EV                  | 5956                | N29906              | LGA                 | CLE                 |  69                 |  419                | 20                  | 29                  | 2013-11-18 20:00:00 |\n",
       "| 2013                |  6                  | 20                  | 1156                | 1200                |  -4                 | 1402                | 1358                |   4                 | EV                  | 4302                | N17169              | EWR                 | MCI                 | 146                 | 1092                | 12                  |  0                  | 2013-06-20 12:00:00 |\n",
       "| 2013                |  9                  |  4                  |  852                |  859                |  -7                 | 1110                | 1144                | -34                 | UA                  |  578                | N462UA              | EWR                 | LAS                 | 282                 | 2227                |  8                  | 59                  | 2013-09-04 08:00:00 |\n",
       "| 2013                | 12                  | 25                  | 1405                | 1408                |  -3                 | 1558                | 1613                | -15                 | EV                  | 4100                | N16976              | EWR                 | MEM                 | 161                 |  946                | 14                  |  8                  | 2013-12-25 14:00:00 |\n",
       "| 2013                |  6                  |  8                  | 1935                | 1940                |  -5                 | 2234                | 2259                | -25                 | UA                  |  212                | N590UA              | EWR                 | SFO                 | 336                 | 2565                | 19                  | 40                  | 2013-06-08 19:00:00 |\n",
       "| 2013                |  3                  | 15                  | 1544                | 1545                |  -1                 | 1835                | 1856                | -21                 | DL                  |    4                | N383DN              | JFK                 | MCO                 | 126                 |  944                | 15                  | 45                  | 2013-03-15 15:00:00 |\n",
       "| 2013                |  3                  | 27                  | 1850                | 1855                |  -5                 | 2028                | 2051                | -23                 | 9E                  | 3374                | N922XJ              | JFK                 | PIT                 |  64                 |  340                | 18                  | 55                  | 2013-03-27 18:00:00 |\n",
       "| 2013                | 12                  |  4                  | 1437                | 1440                |  -3                 | 1641                | 1715                | -34                 | 9E                  | 2918                | N901XJ              | JFK                 | IND                 | 104                 |  665                | 14                  | 40                  | 2013-12-04 14:00:00 |\n",
       "| 2013                |  3                  | 31                  |  954                | 1000                |  -6                 | 1323                | 1334                | -11                 | DL                  | 1765                | N624AG              | JFK                 | SFO                 | 357                 | 2586                | 10                  |  0                  | 2013-03-31 10:00:00 |\n",
       "| 2013                |  9                  |  9                  |  844                |  852                |  -8                 | 1128                | 1156                | -28                 | UA                  | 1455                | N36469              | EWR                 | LAX                 | 310                 | 2454                |  8                  | 52                  | 2013-09-09 08:00:00 |\n",
       "| 2013                |  8                  | 29                  | 1158                | 1201                |  -3                 | 1403                | 1447                | -44                 | UA                  | 1461                | N14242              | EWR                 | IAH                 | 171                 | 1400                | 12                  |  1                  | 2013-08-29 12:00:00 |\n",
       "| ... | ... | ... | ... | ... | ... | ... | ... | ... | ... | ... | ... | ... | ... | ... | ... | ... | ... | ... |\n",
       "| 2013                |  7                  | 10                  |  659                |  700                |  -1                 |  802                |  807                |  -5                 | US                  | 2163                | N758US              | LGA                 | DCA                 |  45                 |  214                |  7                  |  0                  | 2013-07-10 07:00:00 |\n",
       "| 2013                | 10                  | 17                  | 1304                | 1300                |   4                 | 1609                | 1610                |  -1                 | VX                  |  411                | N636VA              | JFK                 | LAX                 | 338                 | 2475                | 13                  |  0                  | 2013-10-17 13:00:00 |\n",
       "| 2013                | 11                  |  1                  |  744                |  747                |  -3                 | 1123                | 1139                | -16                 | UA                  | 1216                | N36444              | EWR                 | SJU                 | 199                 | 1608                |  7                  | 47                  | 2013-11-01 07:00:00 |\n",
       "| 2013                |  6                  | 17                  |  824                |  830                |  -6                 | 1014                | 1028                | -14                 | EV                  | 4297                | N16546              | EWR                 | DTW                 |  85                 |  488                |  8                  | 30                  | 2013-06-17 08:00:00 |\n",
       "| 2013                |  3                  | 25                  |  721                |  630                |  51                 |  853                |  830                |  23                 | MQ                  | 4599                | N505MQ              | LGA                 | MSP                 | 132                 | 1020                |  6                  | 30                  | 2013-03-25 06:00:00 |\n",
       "| 2013                |  8                  | 30                  | 2232                | 2150                |  42                 |  114                |   45                |  29                 | B6                  | 1201                | N658JB              | JFK                 | FLL                 | 136                 | 1069                | 21                  | 50                  | 2013-08-30 21:00:00 |\n",
       "| 2013                | 11                  |  6                  | 1154                | 1200                |  -6                 | 1306                | 1315                |  -9                 | US                  | 2179                | N764US              | LGA                 | DCA                 |  49                 |  214                | 12                  |  0                  | 2013-11-06 12:00:00 |\n",
       "| 2013                |  2                  | 18                  | 2242                | 2250                |  -8                 | 2353                |    5                | -12                 | B6                  |   30                | N298JB              | JFK                 | ROC                 |  52                 |  264                | 22                  | 50                  | 2013-02-18 22:00:00 |\n",
       "| 2013                | 11                  | 14                  |  753                |  800                |  -7                 | 1036                | 1053                | -17                 | DL                  | 1959                | N710TW              | JFK                 | MCO                 | 130                 |  944                |  8                  |  0                  | 2013-11-14 08:00:00 |\n",
       "| 2013                |  7                  | 22                  | 1014                | 1020                |  -6                 | 1157                | 1206                |  -9                 | US                  | 1435                | N196UW              | EWR                 | CLT                 |  79                 |  529                | 10                  | 20                  | 2013-07-22 10:00:00 |\n",
       "| 2013                |  4                  |  1                  | 1753                | 1800                |  -7                 | 2058                | 2035                |  23                 | DL                  | 1047                | N617DL              | LGA                 | ATL                 | 116                 |  762                | 18                  |  0                  | 2013-04-01 18:00:00 |\n",
       "| 2013                | 12                  |  7                  | 1631                | 1635                |  -4                 | 1817                | 1825                |  -8                 | AA                  |  343                | N474AA              | LGA                 | ORD                 | 128                 |  733                | 16                  | 35                  | 2013-12-07 16:00:00 |\n",
       "| 2013                |  4                  | 28                  | 1300                | 1300                |   0                 | 1633                | 1658                | -25                 | UA                  | 1708                | N38458              | EWR                 | SJU                 | 196                 | 1608                | 13                  |  0                  | 2013-04-28 13:00:00 |\n",
       "| 2013                |  4                  | 20                  | 1306                | 1310                |  -4                 | 1448                | 1510                | -22                 | MQ                  | 4564                | N735MQ              | LGA                 | DTW                 |  81                 |  502                | 13                  | 10                  | 2013-04-20 13:00:00 |\n",
       "| 2013                |  2                  |  7                  | 1024                | 1006                |  18                 | 1143                | 1121                |  22                 | EV                  | 5711                | N828AS              | JFK                 | IAD                 |  55                 |  228                | 10                  |  6                  | 2013-02-07 10:00:00 |\n",
       "| 2013                |  9                  | 14                  |  829                |  820                |   9                 | 1055                | 1110                | -15                 | B6                  |  281                | N274JB              | JFK                 | HOU                 | 181                 | 1428                |  8                  | 20                  | 2013-09-14 08:00:00 |\n",
       "| 2013                | 12                  | 12                  | 1400                | 1355                |   5                 | 1537                | 1525                |  12                 | WN                  |    3                | N929WN              | LGA                 | MDW                 | 125                 |  725                | 13                  | 55                  | 2013-12-12 13:00:00 |\n",
       "| 2013                | 10                  |  3                  | 1703                | 1700                |   3                 | 2019                | 2018                |   1                 | DL                  |   95                | N711ZX              | JFK                 | LAX                 | 337                 | 2475                | 17                  |  0                  | 2013-10-03 17:00:00 |\n",
       "| 2013                |  5                  |  8                  | 1123                |  840                | 163                 | 1300                | 1038                | 142                 | EV                  | 4297                | N13988              | EWR                 | DTW                 |  74                 |  488                |  8                  | 40                  | 2013-05-08 08:00:00 |\n",
       "| 2013                | 10                  | 13                  | 1529                | 1529                |   0                 | 1701                | 1649                |  12                 | EV                  | 4580                | N13988              | EWR                 | MKE                 | 105                 |  725                | 15                  | 29                  | 2013-10-13 15:00:00 |\n",
       "| 2013                |  7                  | 12                  | 2115                | 2057                |  18                 |    6                | 2359                |   7                 | UA                  | 1241                | N17244              | EWR                 | TPA                 | 147                 |  997                | 20                  | 57                  | 2013-07-12 20:00:00 |\n",
       "| 2013                |  2                  | 11                  | 2230                | 2042                | 108                 |   23                | 2231                | 112                 | EV                  | 3833                | N16911              | EWR                 | STL                 | 153                 |  872                | 20                  | 42                  | 2013-02-11 20:00:00 |\n",
       "| 2013                |  9                  | 10                  | 1153                | 1200                |  -7                 | 1413                | 1455                | -42                 | AA                  |    3                | N338AA              | JFK                 | LAX                 | 303                 | 2475                | 12                  |  0                  | 2013-09-10 12:00:00 |\n",
       "| 2013                |  8                  | 31                  | 2055                | 2100                |  -5                 | 2249                | 2242                |   7                 | EV                  | 4348                | N12201              | EWR                 | CLE                 |  88                 |  404                | 21                  |  0                  | 2013-08-31 21:00:00 |\n",
       "| 2013                |  9                  |  4                  | 1601                | 1600                |   1                 | 1801                | 1755                |   6                 | MQ                  | 2793                | N677MQ              | JFK                 | CMH                 |  74                 |  483                | 16                  |  0                  | 2013-09-04 16:00:00 |\n",
       "| 2013                |  6                  | 27                  |  824                |  825                |  -1                 | 1049                | 1108                | -19                 | DL                  | 1959                | N3731T              | JFK                 | MCO                 | 122                 |  944                |  8                  | 25                  | 2013-06-27 08:00:00 |\n",
       "| 2013                |  2                  | 10                  | 1602                | 1545                |  17                 | 1720                | 1703                |  17                 | 9E                  | 3635                | N8971A              | JFK                 | BWI                 |  36                 |  184                | 15                  | 45                  | 2013-02-10 15:00:00 |\n",
       "| 2013                | 11                  | 20                  | 1356                | 1359                |  -3                 | 1653                | 1632                |  21                 | DL                  | 2247                | N983DL              | LGA                 | ATL                 | 111                 |  762                | 13                  | 59                  | 2013-11-20 13:00:00 |\n",
       "| 2013                |  9                  | 24                  | 1454                | 1459                |  -5                 | 1716                | 1730                | -14                 | EV                  | 4377                | N16571              | EWR                 | JAX                 | 118                 |  820                | 14                  | 59                  | 2013-09-24 14:00:00 |\n",
       "| 2013                |  9                  | 27                  | 1342                | 1346                |  -4                 | 1539                | 1555                | -16                 | EV                  | 4395                | N14568              | EWR                 | IND                 |  90                 |  645                | 13                  | 46                  | 2013-09-27 13:00:00 |\n",
       "\n"
      ],
      "text/plain": [
       "       year month day dep_time sched_dep_time dep_delay arr_time sched_arr_time\n",
       "1      2013  8     4   753      800            -7        945     1005          \n",
       "2      2013 12    17   931      930             1       1307     1236          \n",
       "3      2013  7    13   651      655            -4        809      906          \n",
       "4      2013  1    26  1648     1655            -7       2000     2010          \n",
       "5      2013  9    27  1714     1715            -1       1840     1905          \n",
       "6      2013  2    21  1338     1320            18       1644     1625          \n",
       "7      2013  7    21  1507     1510            -3       1630     1635          \n",
       "8      2013 11    10   621      630            -9        833      850          \n",
       "9      2013  3    20   557      600            -3        828      825          \n",
       "10     2013  6    30  2051     1605           286       2302     1816          \n",
       "11     2013  3     5    NA     1940            NA         NA     2121          \n",
       "12     2013  8    28  2020     1731           169       2129     1849          \n",
       "13     2013  2     9  1801     1745            16       2144     2117          \n",
       "14     2013 10    27   629      635            -6        917      929          \n",
       "15     2013 12    18   907      905             2       1146     1133          \n",
       "16     2013  5     5  2355     2359            -4        331      341          \n",
       "17     2013  4    24  2253     2050           123          5     2224          \n",
       "18     2013  4    24   844      850            -6       1231     1300          \n",
       "19     2013  1    24   557      600            -3        815      815          \n",
       "20     2013 11    18  2006     2029           -23       2134     2216          \n",
       "21     2013  6    20  1156     1200            -4       1402     1358          \n",
       "22     2013  9     4   852      859            -7       1110     1144          \n",
       "23     2013 12    25  1405     1408            -3       1558     1613          \n",
       "24     2013  6     8  1935     1940            -5       2234     2259          \n",
       "25     2013  3    15  1544     1545            -1       1835     1856          \n",
       "26     2013  3    27  1850     1855            -5       2028     2051          \n",
       "27     2013 12     4  1437     1440            -3       1641     1715          \n",
       "28     2013  3    31   954     1000            -6       1323     1334          \n",
       "29     2013  9     9   844      852            -8       1128     1156          \n",
       "30     2013  8    29  1158     1201            -3       1403     1447          \n",
       "...    ...  ...   ... ...      ...            ...       ...      ...           \n",
       "101004 2013  7    10   659      700            -1        802      807          \n",
       "101005 2013 10    17  1304     1300             4       1609     1610          \n",
       "101006 2013 11     1   744      747            -3       1123     1139          \n",
       "101007 2013  6    17   824      830            -6       1014     1028          \n",
       "101008 2013  3    25   721      630            51        853      830          \n",
       "101009 2013  8    30  2232     2150            42        114       45          \n",
       "101010 2013 11     6  1154     1200            -6       1306     1315          \n",
       "101011 2013  2    18  2242     2250            -8       2353        5          \n",
       "101012 2013 11    14   753      800            -7       1036     1053          \n",
       "101013 2013  7    22  1014     1020            -6       1157     1206          \n",
       "101014 2013  4     1  1753     1800            -7       2058     2035          \n",
       "101015 2013 12     7  1631     1635            -4       1817     1825          \n",
       "101016 2013  4    28  1300     1300             0       1633     1658          \n",
       "101017 2013  4    20  1306     1310            -4       1448     1510          \n",
       "101018 2013  2     7  1024     1006            18       1143     1121          \n",
       "101019 2013  9    14   829      820             9       1055     1110          \n",
       "101020 2013 12    12  1400     1355             5       1537     1525          \n",
       "101021 2013 10     3  1703     1700             3       2019     2018          \n",
       "101022 2013  5     8  1123      840           163       1300     1038          \n",
       "101023 2013 10    13  1529     1529             0       1701     1649          \n",
       "101024 2013  7    12  2115     2057            18          6     2359          \n",
       "101025 2013  2    11  2230     2042           108         23     2231          \n",
       "101026 2013  9    10  1153     1200            -7       1413     1455          \n",
       "101027 2013  8    31  2055     2100            -5       2249     2242          \n",
       "101028 2013  9     4  1601     1600             1       1801     1755          \n",
       "101029 2013  6    27   824      825            -1       1049     1108          \n",
       "101030 2013  2    10  1602     1545            17       1720     1703          \n",
       "101031 2013 11    20  1356     1359            -3       1653     1632          \n",
       "101032 2013  9    24  1454     1459            -5       1716     1730          \n",
       "101033 2013  9    27  1342     1346            -4       1539     1555          \n",
       "       arr_delay carrier flight tailnum origin dest air_time distance hour\n",
       "1      -20       DL      2119   N986DL  LGA    MSP  156      1020      8  \n",
       "2       31       DL      1885   N913DE  LGA    MCO  137       950      9  \n",
       "3      -57       US        71   N659AW  EWR    PHX  245      2133      6  \n",
       "4      -10       B6       185   N637JB  JFK    SAN  354      2446     16  \n",
       "5      -25       AA       345   N403AA  LGA    ORD  104       733     17  \n",
       "6       19       B6       377   N648JB  LGA    FLL  146      1076     13  \n",
       "7       -5       MQ      3433   N513MQ  JFK    DCA   47       213     15  \n",
       "8      -17       MQ      3550   N528MQ  LGA    ATL  114       762      6  \n",
       "9        3       MQ      4650   N6EAMQ  LGA    ATL  125       762      6  \n",
       "10     286       EV      4334   N13965  EWR    SDF   99       642     16  \n",
       "11      NA       EV      5325   N611QX  LGA    CHO   NA       305     19  \n",
       "12     160       B6      2580   N266JB  EWR    BOS   42       200     17  \n",
       "13      27       DL      1394   N395DN  JFK    PDX  340      2454     17  \n",
       "14     -12       B6       525   N597JB  JFK    TPA  142      1005      6  \n",
       "15      13       FL       275   N971AT  LGA    ATL  107       762      9  \n",
       "16     -10       B6       727   N661JB  JFK    BQN  195      1576     23  \n",
       "17     101       EV      3852   N14562  EWR    BUF   53       282     20  \n",
       "18     -29       AA      1357   N5FMAA  JFK    SJU  200      1598      8  \n",
       "19       0       FL       345   N966AT  LGA    ATL  119       762      6  \n",
       "20     -42       EV      5956   N29906  LGA    CLE   69       419     20  \n",
       "21       4       EV      4302   N17169  EWR    MCI  146      1092     12  \n",
       "22     -34       UA       578   N462UA  EWR    LAS  282      2227      8  \n",
       "23     -15       EV      4100   N16976  EWR    MEM  161       946     14  \n",
       "24     -25       UA       212   N590UA  EWR    SFO  336      2565     19  \n",
       "25     -21       DL         4   N383DN  JFK    MCO  126       944     15  \n",
       "26     -23       9E      3374   N922XJ  JFK    PIT   64       340     18  \n",
       "27     -34       9E      2918   N901XJ  JFK    IND  104       665     14  \n",
       "28     -11       DL      1765   N624AG  JFK    SFO  357      2586     10  \n",
       "29     -28       UA      1455   N36469  EWR    LAX  310      2454      8  \n",
       "30     -44       UA      1461   N14242  EWR    IAH  171      1400     12  \n",
       "...    ...       ...     ...    ...     ...    ...  ...      ...      ... \n",
       "101004  -5       US      2163   N758US  LGA    DCA   45       214      7  \n",
       "101005  -1       VX       411   N636VA  JFK    LAX  338      2475     13  \n",
       "101006 -16       UA      1216   N36444  EWR    SJU  199      1608      7  \n",
       "101007 -14       EV      4297   N16546  EWR    DTW   85       488      8  \n",
       "101008  23       MQ      4599   N505MQ  LGA    MSP  132      1020      6  \n",
       "101009  29       B6      1201   N658JB  JFK    FLL  136      1069     21  \n",
       "101010  -9       US      2179   N764US  LGA    DCA   49       214     12  \n",
       "101011 -12       B6        30   N298JB  JFK    ROC   52       264     22  \n",
       "101012 -17       DL      1959   N710TW  JFK    MCO  130       944      8  \n",
       "101013  -9       US      1435   N196UW  EWR    CLT   79       529     10  \n",
       "101014  23       DL      1047   N617DL  LGA    ATL  116       762     18  \n",
       "101015  -8       AA       343   N474AA  LGA    ORD  128       733     16  \n",
       "101016 -25       UA      1708   N38458  EWR    SJU  196      1608     13  \n",
       "101017 -22       MQ      4564   N735MQ  LGA    DTW   81       502     13  \n",
       "101018  22       EV      5711   N828AS  JFK    IAD   55       228     10  \n",
       "101019 -15       B6       281   N274JB  JFK    HOU  181      1428      8  \n",
       "101020  12       WN         3   N929WN  LGA    MDW  125       725     13  \n",
       "101021   1       DL        95   N711ZX  JFK    LAX  337      2475     17  \n",
       "101022 142       EV      4297   N13988  EWR    DTW   74       488      8  \n",
       "101023  12       EV      4580   N13988  EWR    MKE  105       725     15  \n",
       "101024   7       UA      1241   N17244  EWR    TPA  147       997     20  \n",
       "101025 112       EV      3833   N16911  EWR    STL  153       872     20  \n",
       "101026 -42       AA         3   N338AA  JFK    LAX  303      2475     12  \n",
       "101027   7       EV      4348   N12201  EWR    CLE   88       404     21  \n",
       "101028   6       MQ      2793   N677MQ  JFK    CMH   74       483     16  \n",
       "101029 -19       DL      1959   N3731T  JFK    MCO  122       944      8  \n",
       "101030  17       9E      3635   N8971A  JFK    BWI   36       184     15  \n",
       "101031  21       DL      2247   N983DL  LGA    ATL  111       762     13  \n",
       "101032 -14       EV      4377   N16571  EWR    JAX  118       820     14  \n",
       "101033 -16       EV      4395   N14568  EWR    IND   90       645     13  \n",
       "       minute time_hour          \n",
       "1       0     2013-08-04 08:00:00\n",
       "2      30     2013-12-17 09:00:00\n",
       "3      55     2013-07-13 06:00:00\n",
       "4      55     2013-01-26 16:00:00\n",
       "5      15     2013-09-27 17:00:00\n",
       "6      20     2013-02-21 13:00:00\n",
       "7      10     2013-07-21 15:00:00\n",
       "8      30     2013-11-10 06:00:00\n",
       "9       0     2013-03-20 06:00:00\n",
       "10      5     2013-06-30 16:00:00\n",
       "11     40     2013-03-05 19:00:00\n",
       "12     31     2013-08-28 17:00:00\n",
       "13     45     2013-02-09 17:00:00\n",
       "14     35     2013-10-27 06:00:00\n",
       "15      5     2013-12-18 09:00:00\n",
       "16     59     2013-05-05 23:00:00\n",
       "17     50     2013-04-24 20:00:00\n",
       "18     50     2013-04-24 08:00:00\n",
       "19      0     2013-01-24 06:00:00\n",
       "20     29     2013-11-18 20:00:00\n",
       "21      0     2013-06-20 12:00:00\n",
       "22     59     2013-09-04 08:00:00\n",
       "23      8     2013-12-25 14:00:00\n",
       "24     40     2013-06-08 19:00:00\n",
       "25     45     2013-03-15 15:00:00\n",
       "26     55     2013-03-27 18:00:00\n",
       "27     40     2013-12-04 14:00:00\n",
       "28      0     2013-03-31 10:00:00\n",
       "29     52     2013-09-09 08:00:00\n",
       "30      1     2013-08-29 12:00:00\n",
       "...    ...    ...                \n",
       "101004  0     2013-07-10 07:00:00\n",
       "101005  0     2013-10-17 13:00:00\n",
       "101006 47     2013-11-01 07:00:00\n",
       "101007 30     2013-06-17 08:00:00\n",
       "101008 30     2013-03-25 06:00:00\n",
       "101009 50     2013-08-30 21:00:00\n",
       "101010  0     2013-11-06 12:00:00\n",
       "101011 50     2013-02-18 22:00:00\n",
       "101012  0     2013-11-14 08:00:00\n",
       "101013 20     2013-07-22 10:00:00\n",
       "101014  0     2013-04-01 18:00:00\n",
       "101015 35     2013-12-07 16:00:00\n",
       "101016  0     2013-04-28 13:00:00\n",
       "101017 10     2013-04-20 13:00:00\n",
       "101018  6     2013-02-07 10:00:00\n",
       "101019 20     2013-09-14 08:00:00\n",
       "101020 55     2013-12-12 13:00:00\n",
       "101021  0     2013-10-03 17:00:00\n",
       "101022 40     2013-05-08 08:00:00\n",
       "101023 29     2013-10-13 15:00:00\n",
       "101024 57     2013-07-12 20:00:00\n",
       "101025 42     2013-02-11 20:00:00\n",
       "101026  0     2013-09-10 12:00:00\n",
       "101027  0     2013-08-31 21:00:00\n",
       "101028  0     2013-09-04 16:00:00\n",
       "101029 25     2013-06-27 08:00:00\n",
       "101030 45     2013-02-10 15:00:00\n",
       "101031 59     2013-11-20 13:00:00\n",
       "101032 59     2013-09-24 14:00:00\n",
       "101033 46     2013-09-27 13:00:00"
      ]
     },
     "metadata": {},
     "output_type": "display_data"
    }
   ],
   "source": [
    "sample_frac(flights,0.3) #30%"
   ]
  },
  {
   "cell_type": "markdown",
   "metadata": {},
   "source": [
    "### Pipe operator %>%"
   ]
  },
  {
   "cell_type": "code",
   "execution_count": 21,
   "metadata": {},
   "outputs": [],
   "source": [
    "df <- mtcars"
   ]
  },
  {
   "cell_type": "code",
   "execution_count": 22,
   "metadata": {},
   "outputs": [
    {
     "data": {
      "text/html": [
       "<table>\n",
       "<thead><tr><th></th><th scope=col>mpg</th><th scope=col>cyl</th><th scope=col>disp</th><th scope=col>hp</th><th scope=col>drat</th><th scope=col>wt</th><th scope=col>qsec</th><th scope=col>vs</th><th scope=col>am</th><th scope=col>gear</th><th scope=col>carb</th></tr></thead>\n",
       "<tbody>\n",
       "\t<tr><th scope=row>Mazda RX4</th><td>21.0 </td><td>6    </td><td>160.0</td><td>110  </td><td>3.90 </td><td>2.620</td><td>16.46</td><td>0    </td><td>1    </td><td>4    </td><td>4    </td></tr>\n",
       "\t<tr><th scope=row>Mazda RX4 Wag</th><td>21.0 </td><td>6    </td><td>160.0</td><td>110  </td><td>3.90 </td><td>2.875</td><td>17.02</td><td>0    </td><td>1    </td><td>4    </td><td>4    </td></tr>\n",
       "\t<tr><th scope=row>Datsun 710</th><td>22.8 </td><td>4    </td><td>108.0</td><td> 93  </td><td>3.85 </td><td>2.320</td><td>18.61</td><td>1    </td><td>1    </td><td>4    </td><td>1    </td></tr>\n",
       "\t<tr><th scope=row>Hornet 4 Drive</th><td>21.4 </td><td>6    </td><td>258.0</td><td>110  </td><td>3.08 </td><td>3.215</td><td>19.44</td><td>1    </td><td>0    </td><td>3    </td><td>1    </td></tr>\n",
       "\t<tr><th scope=row>Hornet Sportabout</th><td>18.7 </td><td>8    </td><td>360.0</td><td>175  </td><td>3.15 </td><td>3.440</td><td>17.02</td><td>0    </td><td>0    </td><td>3    </td><td>2    </td></tr>\n",
       "\t<tr><th scope=row>Valiant</th><td>18.1 </td><td>6    </td><td>225.0</td><td>105  </td><td>2.76 </td><td>3.460</td><td>20.22</td><td>1    </td><td>0    </td><td>3    </td><td>1    </td></tr>\n",
       "\t<tr><th scope=row>Duster 360</th><td>14.3 </td><td>8    </td><td>360.0</td><td>245  </td><td>3.21 </td><td>3.570</td><td>15.84</td><td>0    </td><td>0    </td><td>3    </td><td>4    </td></tr>\n",
       "\t<tr><th scope=row>Merc 240D</th><td>24.4 </td><td>4    </td><td>146.7</td><td> 62  </td><td>3.69 </td><td>3.190</td><td>20.00</td><td>1    </td><td>0    </td><td>4    </td><td>2    </td></tr>\n",
       "\t<tr><th scope=row>Merc 230</th><td>22.8 </td><td>4    </td><td>140.8</td><td> 95  </td><td>3.92 </td><td>3.150</td><td>22.90</td><td>1    </td><td>0    </td><td>4    </td><td>2    </td></tr>\n",
       "\t<tr><th scope=row>Merc 280</th><td>19.2 </td><td>6    </td><td>167.6</td><td>123  </td><td>3.92 </td><td>3.440</td><td>18.30</td><td>1    </td><td>0    </td><td>4    </td><td>4    </td></tr>\n",
       "\t<tr><th scope=row>Merc 280C</th><td>17.8 </td><td>6    </td><td>167.6</td><td>123  </td><td>3.92 </td><td>3.440</td><td>18.90</td><td>1    </td><td>0    </td><td>4    </td><td>4    </td></tr>\n",
       "\t<tr><th scope=row>Merc 450SE</th><td>16.4 </td><td>8    </td><td>275.8</td><td>180  </td><td>3.07 </td><td>4.070</td><td>17.40</td><td>0    </td><td>0    </td><td>3    </td><td>3    </td></tr>\n",
       "\t<tr><th scope=row>Merc 450SL</th><td>17.3 </td><td>8    </td><td>275.8</td><td>180  </td><td>3.07 </td><td>3.730</td><td>17.60</td><td>0    </td><td>0    </td><td>3    </td><td>3    </td></tr>\n",
       "\t<tr><th scope=row>Merc 450SLC</th><td>15.2 </td><td>8    </td><td>275.8</td><td>180  </td><td>3.07 </td><td>3.780</td><td>18.00</td><td>0    </td><td>0    </td><td>3    </td><td>3    </td></tr>\n",
       "\t<tr><th scope=row>Cadillac Fleetwood</th><td>10.4 </td><td>8    </td><td>472.0</td><td>205  </td><td>2.93 </td><td>5.250</td><td>17.98</td><td>0    </td><td>0    </td><td>3    </td><td>4    </td></tr>\n",
       "\t<tr><th scope=row>Lincoln Continental</th><td>10.4 </td><td>8    </td><td>460.0</td><td>215  </td><td>3.00 </td><td>5.424</td><td>17.82</td><td>0    </td><td>0    </td><td>3    </td><td>4    </td></tr>\n",
       "\t<tr><th scope=row>Chrysler Imperial</th><td>14.7 </td><td>8    </td><td>440.0</td><td>230  </td><td>3.23 </td><td>5.345</td><td>17.42</td><td>0    </td><td>0    </td><td>3    </td><td>4    </td></tr>\n",
       "\t<tr><th scope=row>Fiat 128</th><td>32.4 </td><td>4    </td><td> 78.7</td><td> 66  </td><td>4.08 </td><td>2.200</td><td>19.47</td><td>1    </td><td>1    </td><td>4    </td><td>1    </td></tr>\n",
       "\t<tr><th scope=row>Honda Civic</th><td>30.4 </td><td>4    </td><td> 75.7</td><td> 52  </td><td>4.93 </td><td>1.615</td><td>18.52</td><td>1    </td><td>1    </td><td>4    </td><td>2    </td></tr>\n",
       "\t<tr><th scope=row>Toyota Corolla</th><td>33.9 </td><td>4    </td><td> 71.1</td><td> 65  </td><td>4.22 </td><td>1.835</td><td>19.90</td><td>1    </td><td>1    </td><td>4    </td><td>1    </td></tr>\n",
       "\t<tr><th scope=row>Toyota Corona</th><td>21.5 </td><td>4    </td><td>120.1</td><td> 97  </td><td>3.70 </td><td>2.465</td><td>20.01</td><td>1    </td><td>0    </td><td>3    </td><td>1    </td></tr>\n",
       "\t<tr><th scope=row>Dodge Challenger</th><td>15.5 </td><td>8    </td><td>318.0</td><td>150  </td><td>2.76 </td><td>3.520</td><td>16.87</td><td>0    </td><td>0    </td><td>3    </td><td>2    </td></tr>\n",
       "\t<tr><th scope=row>AMC Javelin</th><td>15.2 </td><td>8    </td><td>304.0</td><td>150  </td><td>3.15 </td><td>3.435</td><td>17.30</td><td>0    </td><td>0    </td><td>3    </td><td>2    </td></tr>\n",
       "\t<tr><th scope=row>Camaro Z28</th><td>13.3 </td><td>8    </td><td>350.0</td><td>245  </td><td>3.73 </td><td>3.840</td><td>15.41</td><td>0    </td><td>0    </td><td>3    </td><td>4    </td></tr>\n",
       "\t<tr><th scope=row>Pontiac Firebird</th><td>19.2 </td><td>8    </td><td>400.0</td><td>175  </td><td>3.08 </td><td>3.845</td><td>17.05</td><td>0    </td><td>0    </td><td>3    </td><td>2    </td></tr>\n",
       "\t<tr><th scope=row>Fiat X1-9</th><td>27.3 </td><td>4    </td><td> 79.0</td><td> 66  </td><td>4.08 </td><td>1.935</td><td>18.90</td><td>1    </td><td>1    </td><td>4    </td><td>1    </td></tr>\n",
       "\t<tr><th scope=row>Porsche 914-2</th><td>26.0 </td><td>4    </td><td>120.3</td><td> 91  </td><td>4.43 </td><td>2.140</td><td>16.70</td><td>0    </td><td>1    </td><td>5    </td><td>2    </td></tr>\n",
       "\t<tr><th scope=row>Lotus Europa</th><td>30.4 </td><td>4    </td><td> 95.1</td><td>113  </td><td>3.77 </td><td>1.513</td><td>16.90</td><td>1    </td><td>1    </td><td>5    </td><td>2    </td></tr>\n",
       "\t<tr><th scope=row>Ford Pantera L</th><td>15.8 </td><td>8    </td><td>351.0</td><td>264  </td><td>4.22 </td><td>3.170</td><td>14.50</td><td>0    </td><td>1    </td><td>5    </td><td>4    </td></tr>\n",
       "\t<tr><th scope=row>Ferrari Dino</th><td>19.7 </td><td>6    </td><td>145.0</td><td>175  </td><td>3.62 </td><td>2.770</td><td>15.50</td><td>0    </td><td>1    </td><td>5    </td><td>6    </td></tr>\n",
       "\t<tr><th scope=row>Maserati Bora</th><td>15.0 </td><td>8    </td><td>301.0</td><td>335  </td><td>3.54 </td><td>3.570</td><td>14.60</td><td>0    </td><td>1    </td><td>5    </td><td>8    </td></tr>\n",
       "\t<tr><th scope=row>Volvo 142E</th><td>21.4 </td><td>4    </td><td>121.0</td><td>109  </td><td>4.11 </td><td>2.780</td><td>18.60</td><td>1    </td><td>1    </td><td>4    </td><td>2    </td></tr>\n",
       "</tbody>\n",
       "</table>\n"
      ],
      "text/latex": [
       "\\begin{tabular}{r|lllllllllll}\n",
       "  & mpg & cyl & disp & hp & drat & wt & qsec & vs & am & gear & carb\\\\\n",
       "\\hline\n",
       "\tMazda RX4 & 21.0  & 6     & 160.0 & 110   & 3.90  & 2.620 & 16.46 & 0     & 1     & 4     & 4    \\\\\n",
       "\tMazda RX4 Wag & 21.0  & 6     & 160.0 & 110   & 3.90  & 2.875 & 17.02 & 0     & 1     & 4     & 4    \\\\\n",
       "\tDatsun 710 & 22.8  & 4     & 108.0 &  93   & 3.85  & 2.320 & 18.61 & 1     & 1     & 4     & 1    \\\\\n",
       "\tHornet 4 Drive & 21.4  & 6     & 258.0 & 110   & 3.08  & 3.215 & 19.44 & 1     & 0     & 3     & 1    \\\\\n",
       "\tHornet Sportabout & 18.7  & 8     & 360.0 & 175   & 3.15  & 3.440 & 17.02 & 0     & 0     & 3     & 2    \\\\\n",
       "\tValiant & 18.1  & 6     & 225.0 & 105   & 2.76  & 3.460 & 20.22 & 1     & 0     & 3     & 1    \\\\\n",
       "\tDuster 360 & 14.3  & 8     & 360.0 & 245   & 3.21  & 3.570 & 15.84 & 0     & 0     & 3     & 4    \\\\\n",
       "\tMerc 240D & 24.4  & 4     & 146.7 &  62   & 3.69  & 3.190 & 20.00 & 1     & 0     & 4     & 2    \\\\\n",
       "\tMerc 230 & 22.8  & 4     & 140.8 &  95   & 3.92  & 3.150 & 22.90 & 1     & 0     & 4     & 2    \\\\\n",
       "\tMerc 280 & 19.2  & 6     & 167.6 & 123   & 3.92  & 3.440 & 18.30 & 1     & 0     & 4     & 4    \\\\\n",
       "\tMerc 280C & 17.8  & 6     & 167.6 & 123   & 3.92  & 3.440 & 18.90 & 1     & 0     & 4     & 4    \\\\\n",
       "\tMerc 450SE & 16.4  & 8     & 275.8 & 180   & 3.07  & 4.070 & 17.40 & 0     & 0     & 3     & 3    \\\\\n",
       "\tMerc 450SL & 17.3  & 8     & 275.8 & 180   & 3.07  & 3.730 & 17.60 & 0     & 0     & 3     & 3    \\\\\n",
       "\tMerc 450SLC & 15.2  & 8     & 275.8 & 180   & 3.07  & 3.780 & 18.00 & 0     & 0     & 3     & 3    \\\\\n",
       "\tCadillac Fleetwood & 10.4  & 8     & 472.0 & 205   & 2.93  & 5.250 & 17.98 & 0     & 0     & 3     & 4    \\\\\n",
       "\tLincoln Continental & 10.4  & 8     & 460.0 & 215   & 3.00  & 5.424 & 17.82 & 0     & 0     & 3     & 4    \\\\\n",
       "\tChrysler Imperial & 14.7  & 8     & 440.0 & 230   & 3.23  & 5.345 & 17.42 & 0     & 0     & 3     & 4    \\\\\n",
       "\tFiat 128 & 32.4  & 4     &  78.7 &  66   & 4.08  & 2.200 & 19.47 & 1     & 1     & 4     & 1    \\\\\n",
       "\tHonda Civic & 30.4  & 4     &  75.7 &  52   & 4.93  & 1.615 & 18.52 & 1     & 1     & 4     & 2    \\\\\n",
       "\tToyota Corolla & 33.9  & 4     &  71.1 &  65   & 4.22  & 1.835 & 19.90 & 1     & 1     & 4     & 1    \\\\\n",
       "\tToyota Corona & 21.5  & 4     & 120.1 &  97   & 3.70  & 2.465 & 20.01 & 1     & 0     & 3     & 1    \\\\\n",
       "\tDodge Challenger & 15.5  & 8     & 318.0 & 150   & 2.76  & 3.520 & 16.87 & 0     & 0     & 3     & 2    \\\\\n",
       "\tAMC Javelin & 15.2  & 8     & 304.0 & 150   & 3.15  & 3.435 & 17.30 & 0     & 0     & 3     & 2    \\\\\n",
       "\tCamaro Z28 & 13.3  & 8     & 350.0 & 245   & 3.73  & 3.840 & 15.41 & 0     & 0     & 3     & 4    \\\\\n",
       "\tPontiac Firebird & 19.2  & 8     & 400.0 & 175   & 3.08  & 3.845 & 17.05 & 0     & 0     & 3     & 2    \\\\\n",
       "\tFiat X1-9 & 27.3  & 4     &  79.0 &  66   & 4.08  & 1.935 & 18.90 & 1     & 1     & 4     & 1    \\\\\n",
       "\tPorsche 914-2 & 26.0  & 4     & 120.3 &  91   & 4.43  & 2.140 & 16.70 & 0     & 1     & 5     & 2    \\\\\n",
       "\tLotus Europa & 30.4  & 4     &  95.1 & 113   & 3.77  & 1.513 & 16.90 & 1     & 1     & 5     & 2    \\\\\n",
       "\tFord Pantera L & 15.8  & 8     & 351.0 & 264   & 4.22  & 3.170 & 14.50 & 0     & 1     & 5     & 4    \\\\\n",
       "\tFerrari Dino & 19.7  & 6     & 145.0 & 175   & 3.62  & 2.770 & 15.50 & 0     & 1     & 5     & 6    \\\\\n",
       "\tMaserati Bora & 15.0  & 8     & 301.0 & 335   & 3.54  & 3.570 & 14.60 & 0     & 1     & 5     & 8    \\\\\n",
       "\tVolvo 142E & 21.4  & 4     & 121.0 & 109   & 4.11  & 2.780 & 18.60 & 1     & 1     & 4     & 2    \\\\\n",
       "\\end{tabular}\n"
      ],
      "text/markdown": [
       "\n",
       "| <!--/--> | mpg | cyl | disp | hp | drat | wt | qsec | vs | am | gear | carb |\n",
       "|---|---|---|---|---|---|---|---|---|---|---|---|\n",
       "| Mazda RX4 | 21.0  | 6     | 160.0 | 110   | 3.90  | 2.620 | 16.46 | 0     | 1     | 4     | 4     |\n",
       "| Mazda RX4 Wag | 21.0  | 6     | 160.0 | 110   | 3.90  | 2.875 | 17.02 | 0     | 1     | 4     | 4     |\n",
       "| Datsun 710 | 22.8  | 4     | 108.0 |  93   | 3.85  | 2.320 | 18.61 | 1     | 1     | 4     | 1     |\n",
       "| Hornet 4 Drive | 21.4  | 6     | 258.0 | 110   | 3.08  | 3.215 | 19.44 | 1     | 0     | 3     | 1     |\n",
       "| Hornet Sportabout | 18.7  | 8     | 360.0 | 175   | 3.15  | 3.440 | 17.02 | 0     | 0     | 3     | 2     |\n",
       "| Valiant | 18.1  | 6     | 225.0 | 105   | 2.76  | 3.460 | 20.22 | 1     | 0     | 3     | 1     |\n",
       "| Duster 360 | 14.3  | 8     | 360.0 | 245   | 3.21  | 3.570 | 15.84 | 0     | 0     | 3     | 4     |\n",
       "| Merc 240D | 24.4  | 4     | 146.7 |  62   | 3.69  | 3.190 | 20.00 | 1     | 0     | 4     | 2     |\n",
       "| Merc 230 | 22.8  | 4     | 140.8 |  95   | 3.92  | 3.150 | 22.90 | 1     | 0     | 4     | 2     |\n",
       "| Merc 280 | 19.2  | 6     | 167.6 | 123   | 3.92  | 3.440 | 18.30 | 1     | 0     | 4     | 4     |\n",
       "| Merc 280C | 17.8  | 6     | 167.6 | 123   | 3.92  | 3.440 | 18.90 | 1     | 0     | 4     | 4     |\n",
       "| Merc 450SE | 16.4  | 8     | 275.8 | 180   | 3.07  | 4.070 | 17.40 | 0     | 0     | 3     | 3     |\n",
       "| Merc 450SL | 17.3  | 8     | 275.8 | 180   | 3.07  | 3.730 | 17.60 | 0     | 0     | 3     | 3     |\n",
       "| Merc 450SLC | 15.2  | 8     | 275.8 | 180   | 3.07  | 3.780 | 18.00 | 0     | 0     | 3     | 3     |\n",
       "| Cadillac Fleetwood | 10.4  | 8     | 472.0 | 205   | 2.93  | 5.250 | 17.98 | 0     | 0     | 3     | 4     |\n",
       "| Lincoln Continental | 10.4  | 8     | 460.0 | 215   | 3.00  | 5.424 | 17.82 | 0     | 0     | 3     | 4     |\n",
       "| Chrysler Imperial | 14.7  | 8     | 440.0 | 230   | 3.23  | 5.345 | 17.42 | 0     | 0     | 3     | 4     |\n",
       "| Fiat 128 | 32.4  | 4     |  78.7 |  66   | 4.08  | 2.200 | 19.47 | 1     | 1     | 4     | 1     |\n",
       "| Honda Civic | 30.4  | 4     |  75.7 |  52   | 4.93  | 1.615 | 18.52 | 1     | 1     | 4     | 2     |\n",
       "| Toyota Corolla | 33.9  | 4     |  71.1 |  65   | 4.22  | 1.835 | 19.90 | 1     | 1     | 4     | 1     |\n",
       "| Toyota Corona | 21.5  | 4     | 120.1 |  97   | 3.70  | 2.465 | 20.01 | 1     | 0     | 3     | 1     |\n",
       "| Dodge Challenger | 15.5  | 8     | 318.0 | 150   | 2.76  | 3.520 | 16.87 | 0     | 0     | 3     | 2     |\n",
       "| AMC Javelin | 15.2  | 8     | 304.0 | 150   | 3.15  | 3.435 | 17.30 | 0     | 0     | 3     | 2     |\n",
       "| Camaro Z28 | 13.3  | 8     | 350.0 | 245   | 3.73  | 3.840 | 15.41 | 0     | 0     | 3     | 4     |\n",
       "| Pontiac Firebird | 19.2  | 8     | 400.0 | 175   | 3.08  | 3.845 | 17.05 | 0     | 0     | 3     | 2     |\n",
       "| Fiat X1-9 | 27.3  | 4     |  79.0 |  66   | 4.08  | 1.935 | 18.90 | 1     | 1     | 4     | 1     |\n",
       "| Porsche 914-2 | 26.0  | 4     | 120.3 |  91   | 4.43  | 2.140 | 16.70 | 0     | 1     | 5     | 2     |\n",
       "| Lotus Europa | 30.4  | 4     |  95.1 | 113   | 3.77  | 1.513 | 16.90 | 1     | 1     | 5     | 2     |\n",
       "| Ford Pantera L | 15.8  | 8     | 351.0 | 264   | 4.22  | 3.170 | 14.50 | 0     | 1     | 5     | 4     |\n",
       "| Ferrari Dino | 19.7  | 6     | 145.0 | 175   | 3.62  | 2.770 | 15.50 | 0     | 1     | 5     | 6     |\n",
       "| Maserati Bora | 15.0  | 8     | 301.0 | 335   | 3.54  | 3.570 | 14.60 | 0     | 1     | 5     | 8     |\n",
       "| Volvo 142E | 21.4  | 4     | 121.0 | 109   | 4.11  | 2.780 | 18.60 | 1     | 1     | 4     | 2     |\n",
       "\n"
      ],
      "text/plain": [
       "                    mpg  cyl disp  hp  drat wt    qsec  vs am gear carb\n",
       "Mazda RX4           21.0 6   160.0 110 3.90 2.620 16.46 0  1  4    4   \n",
       "Mazda RX4 Wag       21.0 6   160.0 110 3.90 2.875 17.02 0  1  4    4   \n",
       "Datsun 710          22.8 4   108.0  93 3.85 2.320 18.61 1  1  4    1   \n",
       "Hornet 4 Drive      21.4 6   258.0 110 3.08 3.215 19.44 1  0  3    1   \n",
       "Hornet Sportabout   18.7 8   360.0 175 3.15 3.440 17.02 0  0  3    2   \n",
       "Valiant             18.1 6   225.0 105 2.76 3.460 20.22 1  0  3    1   \n",
       "Duster 360          14.3 8   360.0 245 3.21 3.570 15.84 0  0  3    4   \n",
       "Merc 240D           24.4 4   146.7  62 3.69 3.190 20.00 1  0  4    2   \n",
       "Merc 230            22.8 4   140.8  95 3.92 3.150 22.90 1  0  4    2   \n",
       "Merc 280            19.2 6   167.6 123 3.92 3.440 18.30 1  0  4    4   \n",
       "Merc 280C           17.8 6   167.6 123 3.92 3.440 18.90 1  0  4    4   \n",
       "Merc 450SE          16.4 8   275.8 180 3.07 4.070 17.40 0  0  3    3   \n",
       "Merc 450SL          17.3 8   275.8 180 3.07 3.730 17.60 0  0  3    3   \n",
       "Merc 450SLC         15.2 8   275.8 180 3.07 3.780 18.00 0  0  3    3   \n",
       "Cadillac Fleetwood  10.4 8   472.0 205 2.93 5.250 17.98 0  0  3    4   \n",
       "Lincoln Continental 10.4 8   460.0 215 3.00 5.424 17.82 0  0  3    4   \n",
       "Chrysler Imperial   14.7 8   440.0 230 3.23 5.345 17.42 0  0  3    4   \n",
       "Fiat 128            32.4 4    78.7  66 4.08 2.200 19.47 1  1  4    1   \n",
       "Honda Civic         30.4 4    75.7  52 4.93 1.615 18.52 1  1  4    2   \n",
       "Toyota Corolla      33.9 4    71.1  65 4.22 1.835 19.90 1  1  4    1   \n",
       "Toyota Corona       21.5 4   120.1  97 3.70 2.465 20.01 1  0  3    1   \n",
       "Dodge Challenger    15.5 8   318.0 150 2.76 3.520 16.87 0  0  3    2   \n",
       "AMC Javelin         15.2 8   304.0 150 3.15 3.435 17.30 0  0  3    2   \n",
       "Camaro Z28          13.3 8   350.0 245 3.73 3.840 15.41 0  0  3    4   \n",
       "Pontiac Firebird    19.2 8   400.0 175 3.08 3.845 17.05 0  0  3    2   \n",
       "Fiat X1-9           27.3 4    79.0  66 4.08 1.935 18.90 1  1  4    1   \n",
       "Porsche 914-2       26.0 4   120.3  91 4.43 2.140 16.70 0  1  5    2   \n",
       "Lotus Europa        30.4 4    95.1 113 3.77 1.513 16.90 1  1  5    2   \n",
       "Ford Pantera L      15.8 8   351.0 264 4.22 3.170 14.50 0  1  5    4   \n",
       "Ferrari Dino        19.7 6   145.0 175 3.62 2.770 15.50 0  1  5    6   \n",
       "Maserati Bora       15.0 8   301.0 335 3.54 3.570 14.60 0  1  5    8   \n",
       "Volvo 142E          21.4 4   121.0 109 4.11 2.780 18.60 1  1  4    2   "
      ]
     },
     "metadata": {},
     "output_type": "display_data"
    }
   ],
   "source": [
    "df"
   ]
  },
  {
   "cell_type": "code",
   "execution_count": 23,
   "metadata": {},
   "outputs": [
    {
     "name": "stdout",
     "output_type": "stream",
     "text": [
      "    mpg cyl  disp  hp drat    wt  qsec vs am gear carb\n",
      "1  21.0   6 160.0 110 3.90 2.620 16.46  0  1    4    4\n",
      "2  21.0   6 160.0 110 3.90 2.875 17.02  0  1    4    4\n",
      "3  22.8   4 108.0  93 3.85 2.320 18.61  1  1    4    1\n",
      "4  21.4   6 258.0 110 3.08 3.215 19.44  1  0    3    1\n",
      "5  24.4   4 146.7  62 3.69 3.190 20.00  1  0    4    2\n",
      "6  22.8   4 140.8  95 3.92 3.150 22.90  1  0    4    2\n",
      "7  32.4   4  78.7  66 4.08 2.200 19.47  1  1    4    1\n",
      "8  30.4   4  75.7  52 4.93 1.615 18.52  1  1    4    2\n",
      "9  33.9   4  71.1  65 4.22 1.835 19.90  1  1    4    1\n",
      "10 21.5   4 120.1  97 3.70 2.465 20.01  1  0    3    1\n",
      "11 27.3   4  79.0  66 4.08 1.935 18.90  1  1    4    1\n",
      "12 26.0   4 120.3  91 4.43 2.140 16.70  0  1    5    2\n",
      "13 30.4   4  95.1 113 3.77 1.513 16.90  1  1    5    2\n",
      "14 21.4   4 121.0 109 4.11 2.780 18.60  1  1    4    2\n"
     ]
    }
   ],
   "source": [
    "a <- filter(df,mpg>20)\n",
    "print(a)"
   ]
  },
  {
   "cell_type": "code",
   "execution_count": 24,
   "metadata": {},
   "outputs": [
    {
     "name": "stdout",
     "output_type": "stream",
     "text": [
      "    mpg cyl  disp  hp drat    wt  qsec vs am gear carb\n",
      "1  30.4   4  75.7  52 4.93 1.615 18.52  1  1    4    2\n",
      "2  24.4   4 146.7  62 3.69 3.190 20.00  1  0    4    2\n",
      "3  21.0   6 160.0 110 3.90 2.875 17.02  0  1    4    4\n",
      "4  22.8   4 108.0  93 3.85 2.320 18.61  1  1    4    1\n",
      "5  21.5   4 120.1  97 3.70 2.465 20.01  1  0    3    1\n",
      "6  21.4   6 258.0 110 3.08 3.215 19.44  1  0    3    1\n",
      "7  22.8   4 140.8  95 3.92 3.150 22.90  1  0    4    2\n",
      "8  21.0   6 160.0 110 3.90 2.620 16.46  0  1    4    4\n",
      "9  30.4   4  95.1 113 3.77 1.513 16.90  1  1    5    2\n",
      "10 26.0   4 120.3  91 4.43 2.140 16.70  0  1    5    2\n"
     ]
    }
   ],
   "source": [
    "b <- sample_n(a,10)\n",
    "print(b)"
   ]
  },
  {
   "cell_type": "code",
   "execution_count": 25,
   "metadata": {},
   "outputs": [],
   "source": [
    "c <- arrange(b,desc(hp))"
   ]
  },
  {
   "cell_type": "code",
   "execution_count": 26,
   "metadata": {},
   "outputs": [
    {
     "data": {
      "text/html": [
       "<table>\n",
       "<thead><tr><th scope=col>mpg</th><th scope=col>cyl</th><th scope=col>disp</th><th scope=col>hp</th><th scope=col>drat</th><th scope=col>wt</th><th scope=col>qsec</th><th scope=col>vs</th><th scope=col>am</th><th scope=col>gear</th><th scope=col>carb</th></tr></thead>\n",
       "<tbody>\n",
       "\t<tr><td>30.4 </td><td>4    </td><td> 95.1</td><td>113  </td><td>3.77 </td><td>1.513</td><td>16.90</td><td>1    </td><td>1    </td><td>5    </td><td>2    </td></tr>\n",
       "\t<tr><td>21.0 </td><td>6    </td><td>160.0</td><td>110  </td><td>3.90 </td><td>2.875</td><td>17.02</td><td>0    </td><td>1    </td><td>4    </td><td>4    </td></tr>\n",
       "\t<tr><td>21.4 </td><td>6    </td><td>258.0</td><td>110  </td><td>3.08 </td><td>3.215</td><td>19.44</td><td>1    </td><td>0    </td><td>3    </td><td>1    </td></tr>\n",
       "\t<tr><td>21.0 </td><td>6    </td><td>160.0</td><td>110  </td><td>3.90 </td><td>2.620</td><td>16.46</td><td>0    </td><td>1    </td><td>4    </td><td>4    </td></tr>\n",
       "\t<tr><td>21.5 </td><td>4    </td><td>120.1</td><td> 97  </td><td>3.70 </td><td>2.465</td><td>20.01</td><td>1    </td><td>0    </td><td>3    </td><td>1    </td></tr>\n",
       "\t<tr><td>22.8 </td><td>4    </td><td>140.8</td><td> 95  </td><td>3.92 </td><td>3.150</td><td>22.90</td><td>1    </td><td>0    </td><td>4    </td><td>2    </td></tr>\n",
       "</tbody>\n",
       "</table>\n"
      ],
      "text/latex": [
       "\\begin{tabular}{r|lllllllllll}\n",
       " mpg & cyl & disp & hp & drat & wt & qsec & vs & am & gear & carb\\\\\n",
       "\\hline\n",
       "\t 30.4  & 4     &  95.1 & 113   & 3.77  & 1.513 & 16.90 & 1     & 1     & 5     & 2    \\\\\n",
       "\t 21.0  & 6     & 160.0 & 110   & 3.90  & 2.875 & 17.02 & 0     & 1     & 4     & 4    \\\\\n",
       "\t 21.4  & 6     & 258.0 & 110   & 3.08  & 3.215 & 19.44 & 1     & 0     & 3     & 1    \\\\\n",
       "\t 21.0  & 6     & 160.0 & 110   & 3.90  & 2.620 & 16.46 & 0     & 1     & 4     & 4    \\\\\n",
       "\t 21.5  & 4     & 120.1 &  97   & 3.70  & 2.465 & 20.01 & 1     & 0     & 3     & 1    \\\\\n",
       "\t 22.8  & 4     & 140.8 &  95   & 3.92  & 3.150 & 22.90 & 1     & 0     & 4     & 2    \\\\\n",
       "\\end{tabular}\n"
      ],
      "text/markdown": [
       "\n",
       "| mpg | cyl | disp | hp | drat | wt | qsec | vs | am | gear | carb |\n",
       "|---|---|---|---|---|---|---|---|---|---|---|\n",
       "| 30.4  | 4     |  95.1 | 113   | 3.77  | 1.513 | 16.90 | 1     | 1     | 5     | 2     |\n",
       "| 21.0  | 6     | 160.0 | 110   | 3.90  | 2.875 | 17.02 | 0     | 1     | 4     | 4     |\n",
       "| 21.4  | 6     | 258.0 | 110   | 3.08  | 3.215 | 19.44 | 1     | 0     | 3     | 1     |\n",
       "| 21.0  | 6     | 160.0 | 110   | 3.90  | 2.620 | 16.46 | 0     | 1     | 4     | 4     |\n",
       "| 21.5  | 4     | 120.1 |  97   | 3.70  | 2.465 | 20.01 | 1     | 0     | 3     | 1     |\n",
       "| 22.8  | 4     | 140.8 |  95   | 3.92  | 3.150 | 22.90 | 1     | 0     | 4     | 2     |\n",
       "\n"
      ],
      "text/plain": [
       "  mpg  cyl disp  hp  drat wt    qsec  vs am gear carb\n",
       "1 30.4 4    95.1 113 3.77 1.513 16.90 1  1  5    2   \n",
       "2 21.0 6   160.0 110 3.90 2.875 17.02 0  1  4    4   \n",
       "3 21.4 6   258.0 110 3.08 3.215 19.44 1  0  3    1   \n",
       "4 21.0 6   160.0 110 3.90 2.620 16.46 0  1  4    4   \n",
       "5 21.5 4   120.1  97 3.70 2.465 20.01 1  0  3    1   \n",
       "6 22.8 4   140.8  95 3.92 3.150 22.90 1  0  4    2   "
      ]
     },
     "metadata": {},
     "output_type": "display_data"
    }
   ],
   "source": [
    "head(c)"
   ]
  },
  {
   "cell_type": "markdown",
   "metadata": {},
   "source": [
    "#### Using pipe operator"
   ]
  },
  {
   "cell_type": "code",
   "execution_count": 27,
   "metadata": {},
   "outputs": [
    {
     "data": {
      "text/html": [
       "<table>\n",
       "<thead><tr><th scope=col>mpg</th><th scope=col>cyl</th><th scope=col>disp</th><th scope=col>hp</th><th scope=col>drat</th><th scope=col>wt</th><th scope=col>qsec</th><th scope=col>vs</th><th scope=col>am</th><th scope=col>gear</th><th scope=col>carb</th></tr></thead>\n",
       "<tbody>\n",
       "\t<tr><td>32.4 </td><td>4    </td><td> 78.7</td><td> 66  </td><td>4.08 </td><td>2.200</td><td>19.47</td><td>1    </td><td>1    </td><td>4    </td><td>1    </td></tr>\n",
       "\t<tr><td>30.4 </td><td>4    </td><td> 95.1</td><td>113  </td><td>3.77 </td><td>1.513</td><td>16.90</td><td>1    </td><td>1    </td><td>5    </td><td>2    </td></tr>\n",
       "\t<tr><td>22.8 </td><td>4    </td><td>140.8</td><td> 95  </td><td>3.92 </td><td>3.150</td><td>22.90</td><td>1    </td><td>0    </td><td>4    </td><td>2    </td></tr>\n",
       "\t<tr><td>21.5 </td><td>4    </td><td>120.1</td><td> 97  </td><td>3.70 </td><td>2.465</td><td>20.01</td><td>1    </td><td>0    </td><td>3    </td><td>1    </td></tr>\n",
       "\t<tr><td>21.4 </td><td>6    </td><td>258.0</td><td>110  </td><td>3.08 </td><td>3.215</td><td>19.44</td><td>1    </td><td>0    </td><td>3    </td><td>1    </td></tr>\n",
       "</tbody>\n",
       "</table>\n"
      ],
      "text/latex": [
       "\\begin{tabular}{r|lllllllllll}\n",
       " mpg & cyl & disp & hp & drat & wt & qsec & vs & am & gear & carb\\\\\n",
       "\\hline\n",
       "\t 32.4  & 4     &  78.7 &  66   & 4.08  & 2.200 & 19.47 & 1     & 1     & 4     & 1    \\\\\n",
       "\t 30.4  & 4     &  95.1 & 113   & 3.77  & 1.513 & 16.90 & 1     & 1     & 5     & 2    \\\\\n",
       "\t 22.8  & 4     & 140.8 &  95   & 3.92  & 3.150 & 22.90 & 1     & 0     & 4     & 2    \\\\\n",
       "\t 21.5  & 4     & 120.1 &  97   & 3.70  & 2.465 & 20.01 & 1     & 0     & 3     & 1    \\\\\n",
       "\t 21.4  & 6     & 258.0 & 110   & 3.08  & 3.215 & 19.44 & 1     & 0     & 3     & 1    \\\\\n",
       "\\end{tabular}\n"
      ],
      "text/markdown": [
       "\n",
       "| mpg | cyl | disp | hp | drat | wt | qsec | vs | am | gear | carb |\n",
       "|---|---|---|---|---|---|---|---|---|---|---|\n",
       "| 32.4  | 4     |  78.7 |  66   | 4.08  | 2.200 | 19.47 | 1     | 1     | 4     | 1     |\n",
       "| 30.4  | 4     |  95.1 | 113   | 3.77  | 1.513 | 16.90 | 1     | 1     | 5     | 2     |\n",
       "| 22.8  | 4     | 140.8 |  95   | 3.92  | 3.150 | 22.90 | 1     | 0     | 4     | 2     |\n",
       "| 21.5  | 4     | 120.1 |  97   | 3.70  | 2.465 | 20.01 | 1     | 0     | 3     | 1     |\n",
       "| 21.4  | 6     | 258.0 | 110   | 3.08  | 3.215 | 19.44 | 1     | 0     | 3     | 1     |\n",
       "\n"
      ],
      "text/plain": [
       "  mpg  cyl disp  hp  drat wt    qsec  vs am gear carb\n",
       "1 32.4 4    78.7  66 4.08 2.200 19.47 1  1  4    1   \n",
       "2 30.4 4    95.1 113 3.77 1.513 16.90 1  1  5    2   \n",
       "3 22.8 4   140.8  95 3.92 3.150 22.90 1  0  4    2   \n",
       "4 21.5 4   120.1  97 3.70 2.465 20.01 1  0  3    1   \n",
       "5 21.4 6   258.0 110 3.08 3.215 19.44 1  0  3    1   "
      ]
     },
     "metadata": {},
     "output_type": "display_data"
    }
   ],
   "source": [
    "df %>% filter(mpg > 20) %>% sample_n(5) %>% arrange(desc(mpg))"
   ]
  },
  {
   "cell_type": "markdown",
   "metadata": {},
   "source": [
    "### group_by()\n",
    "\n",
    "group by specific category and perform aggregate operations"
   ]
  },
  {
   "cell_type": "code",
   "execution_count": 28,
   "metadata": {},
   "outputs": [
    {
     "data": {
      "text/html": [
       "<table>\n",
       "<thead><tr><th scope=col>gear</th><th scope=col>mean_hp</th></tr></thead>\n",
       "<tbody>\n",
       "\t<tr><td>3       </td><td>176.1333</td></tr>\n",
       "\t<tr><td>4       </td><td> 89.5000</td></tr>\n",
       "\t<tr><td>5       </td><td>195.6000</td></tr>\n",
       "</tbody>\n",
       "</table>\n"
      ],
      "text/latex": [
       "\\begin{tabular}{r|ll}\n",
       " gear & mean\\_hp\\\\\n",
       "\\hline\n",
       "\t 3        & 176.1333\\\\\n",
       "\t 4        &  89.5000\\\\\n",
       "\t 5        & 195.6000\\\\\n",
       "\\end{tabular}\n"
      ],
      "text/markdown": [
       "\n",
       "| gear | mean_hp |\n",
       "|---|---|\n",
       "| 3        | 176.1333 |\n",
       "| 4        |  89.5000 |\n",
       "| 5        | 195.6000 |\n",
       "\n"
      ],
      "text/plain": [
       "  gear mean_hp \n",
       "1 3    176.1333\n",
       "2 4     89.5000\n",
       "3 5    195.6000"
      ]
     },
     "metadata": {},
     "output_type": "display_data"
    }
   ],
   "source": [
    "df %>% group_by(gear) %>% summarize(mean_hp=mean(hp))"
   ]
  },
  {
   "cell_type": "markdown",
   "metadata": {},
   "source": [
    "### join()"
   ]
  },
  {
   "cell_type": "code",
   "execution_count": 47,
   "metadata": {},
   "outputs": [],
   "source": [
    "c1 <- c('Tendulkar','Kohli','Dhoni','Bumrah','Chahal')\n",
    "c2 <- c('Tendulkar','Shami','Umesh','Bumrah','Chahal')\n",
    "c3 <- c(10000,7100,5800,890,870)\n",
    "c4 <- c(11,200,220,370,420)"
   ]
  },
  {
   "cell_type": "code",
   "execution_count": 48,
   "metadata": {},
   "outputs": [],
   "source": [
    "runs <- data.frame(players=c1,runs=c3)\n",
    "wickets <- data.frame(players=c2,wickets=c4)"
   ]
  },
  {
   "cell_type": "code",
   "execution_count": 49,
   "metadata": {},
   "outputs": [
    {
     "data": {
      "text/html": [
       "<table>\n",
       "<thead><tr><th scope=col>players</th><th scope=col>runs</th></tr></thead>\n",
       "<tbody>\n",
       "\t<tr><td>Tendulkar</td><td>10000    </td></tr>\n",
       "\t<tr><td>Kohli    </td><td> 7100    </td></tr>\n",
       "\t<tr><td>Dhoni    </td><td> 5800    </td></tr>\n",
       "\t<tr><td>Bumrah   </td><td>  890    </td></tr>\n",
       "\t<tr><td>Chahal   </td><td>  870    </td></tr>\n",
       "</tbody>\n",
       "</table>\n"
      ],
      "text/latex": [
       "\\begin{tabular}{r|ll}\n",
       " players & runs\\\\\n",
       "\\hline\n",
       "\t Tendulkar & 10000    \\\\\n",
       "\t Kohli     &  7100    \\\\\n",
       "\t Dhoni     &  5800    \\\\\n",
       "\t Bumrah    &   890    \\\\\n",
       "\t Chahal    &   870    \\\\\n",
       "\\end{tabular}\n"
      ],
      "text/markdown": [
       "\n",
       "| players | runs |\n",
       "|---|---|\n",
       "| Tendulkar | 10000     |\n",
       "| Kohli     |  7100     |\n",
       "| Dhoni     |  5800     |\n",
       "| Bumrah    |   890     |\n",
       "| Chahal    |   870     |\n",
       "\n"
      ],
      "text/plain": [
       "  players   runs \n",
       "1 Tendulkar 10000\n",
       "2 Kohli      7100\n",
       "3 Dhoni      5800\n",
       "4 Bumrah      890\n",
       "5 Chahal      870"
      ]
     },
     "metadata": {},
     "output_type": "display_data"
    }
   ],
   "source": [
    "runs"
   ]
  },
  {
   "cell_type": "code",
   "execution_count": 50,
   "metadata": {},
   "outputs": [
    {
     "data": {
      "text/html": [
       "<table>\n",
       "<thead><tr><th scope=col>players</th><th scope=col>wickets</th></tr></thead>\n",
       "<tbody>\n",
       "\t<tr><td>Tendulkar</td><td> 11      </td></tr>\n",
       "\t<tr><td>Shami    </td><td>200      </td></tr>\n",
       "\t<tr><td>Umesh    </td><td>220      </td></tr>\n",
       "\t<tr><td>Bumrah   </td><td>370      </td></tr>\n",
       "\t<tr><td>Chahal   </td><td>420      </td></tr>\n",
       "</tbody>\n",
       "</table>\n"
      ],
      "text/latex": [
       "\\begin{tabular}{r|ll}\n",
       " players & wickets\\\\\n",
       "\\hline\n",
       "\t Tendulkar &  11      \\\\\n",
       "\t Shami     & 200      \\\\\n",
       "\t Umesh     & 220      \\\\\n",
       "\t Bumrah    & 370      \\\\\n",
       "\t Chahal    & 420      \\\\\n",
       "\\end{tabular}\n"
      ],
      "text/markdown": [
       "\n",
       "| players | wickets |\n",
       "|---|---|\n",
       "| Tendulkar |  11       |\n",
       "| Shami     | 200       |\n",
       "| Umesh     | 220       |\n",
       "| Bumrah    | 370       |\n",
       "| Chahal    | 420       |\n",
       "\n"
      ],
      "text/plain": [
       "  players   wickets\n",
       "1 Tendulkar  11    \n",
       "2 Shami     200    \n",
       "3 Umesh     220    \n",
       "4 Bumrah    370    \n",
       "5 Chahal    420    "
      ]
     },
     "metadata": {},
     "output_type": "display_data"
    }
   ],
   "source": [
    "wickets"
   ]
  },
  {
   "cell_type": "code",
   "execution_count": 51,
   "metadata": {},
   "outputs": [
    {
     "name": "stderr",
     "output_type": "stream",
     "text": [
      "Warning message:\n",
      "\"Column `players` joining factors with different levels, coercing to character vector\""
     ]
    },
    {
     "data": {
      "text/html": [
       "<table>\n",
       "<thead><tr><th scope=col>players</th><th scope=col>runs</th><th scope=col>wickets</th></tr></thead>\n",
       "<tbody>\n",
       "\t<tr><td>Tendulkar</td><td>10000    </td><td> 11      </td></tr>\n",
       "\t<tr><td>Bumrah   </td><td>  890    </td><td>370      </td></tr>\n",
       "\t<tr><td>Chahal   </td><td>  870    </td><td>420      </td></tr>\n",
       "</tbody>\n",
       "</table>\n"
      ],
      "text/latex": [
       "\\begin{tabular}{r|lll}\n",
       " players & runs & wickets\\\\\n",
       "\\hline\n",
       "\t Tendulkar & 10000     &  11      \\\\\n",
       "\t Bumrah    &   890     & 370      \\\\\n",
       "\t Chahal    &   870     & 420      \\\\\n",
       "\\end{tabular}\n"
      ],
      "text/markdown": [
       "\n",
       "| players | runs | wickets |\n",
       "|---|---|---|\n",
       "| Tendulkar | 10000     |  11       |\n",
       "| Bumrah    |   890     | 370       |\n",
       "| Chahal    |   870     | 420       |\n",
       "\n"
      ],
      "text/plain": [
       "  players   runs  wickets\n",
       "1 Tendulkar 10000  11    \n",
       "2 Bumrah      890 370    \n",
       "3 Chahal      870 420    "
      ]
     },
     "metadata": {},
     "output_type": "display_data"
    }
   ],
   "source": [
    "inner_join(runs,wickets,by=\"players\")"
   ]
  },
  {
   "cell_type": "code",
   "execution_count": 52,
   "metadata": {},
   "outputs": [
    {
     "name": "stderr",
     "output_type": "stream",
     "text": [
      "Warning message:\n",
      "\"Column `players` joining factors with different levels, coercing to character vector\""
     ]
    },
    {
     "data": {
      "text/html": [
       "<table>\n",
       "<thead><tr><th scope=col>players</th><th scope=col>runs</th><th scope=col>wickets</th></tr></thead>\n",
       "<tbody>\n",
       "\t<tr><td>Tendulkar</td><td>10000    </td><td> 11      </td></tr>\n",
       "\t<tr><td>Kohli    </td><td> 7100    </td><td> NA      </td></tr>\n",
       "\t<tr><td>Dhoni    </td><td> 5800    </td><td> NA      </td></tr>\n",
       "\t<tr><td>Bumrah   </td><td>  890    </td><td>370      </td></tr>\n",
       "\t<tr><td>Chahal   </td><td>  870    </td><td>420      </td></tr>\n",
       "\t<tr><td>Shami    </td><td>   NA    </td><td>200      </td></tr>\n",
       "\t<tr><td>Umesh    </td><td>   NA    </td><td>220      </td></tr>\n",
       "</tbody>\n",
       "</table>\n"
      ],
      "text/latex": [
       "\\begin{tabular}{r|lll}\n",
       " players & runs & wickets\\\\\n",
       "\\hline\n",
       "\t Tendulkar & 10000     &  11      \\\\\n",
       "\t Kohli     &  7100     &  NA      \\\\\n",
       "\t Dhoni     &  5800     &  NA      \\\\\n",
       "\t Bumrah    &   890     & 370      \\\\\n",
       "\t Chahal    &   870     & 420      \\\\\n",
       "\t Shami     &    NA     & 200      \\\\\n",
       "\t Umesh     &    NA     & 220      \\\\\n",
       "\\end{tabular}\n"
      ],
      "text/markdown": [
       "\n",
       "| players | runs | wickets |\n",
       "|---|---|---|\n",
       "| Tendulkar | 10000     |  11       |\n",
       "| Kohli     |  7100     |  NA       |\n",
       "| Dhoni     |  5800     |  NA       |\n",
       "| Bumrah    |   890     | 370       |\n",
       "| Chahal    |   870     | 420       |\n",
       "| Shami     |    NA     | 200       |\n",
       "| Umesh     |    NA     | 220       |\n",
       "\n"
      ],
      "text/plain": [
       "  players   runs  wickets\n",
       "1 Tendulkar 10000  11    \n",
       "2 Kohli      7100  NA    \n",
       "3 Dhoni      5800  NA    \n",
       "4 Bumrah      890 370    \n",
       "5 Chahal      870 420    \n",
       "6 Shami        NA 200    \n",
       "7 Umesh        NA 220    "
      ]
     },
     "metadata": {},
     "output_type": "display_data"
    }
   ],
   "source": [
    "full_join(runs,wickets,by=\"players\")"
   ]
  },
  {
   "cell_type": "code",
   "execution_count": null,
   "metadata": {},
   "outputs": [],
   "source": []
  }
 ],
 "metadata": {
  "kernelspec": {
   "display_name": "R",
   "language": "R",
   "name": "ir"
  },
  "language_info": {
   "codemirror_mode": "r",
   "file_extension": ".r",
   "mimetype": "text/x-r-source",
   "name": "R",
   "pygments_lexer": "r",
   "version": "3.6.0"
  }
 },
 "nbformat": 4,
 "nbformat_minor": 2
}
