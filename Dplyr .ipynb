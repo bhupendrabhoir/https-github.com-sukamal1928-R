{
 "cells": [
  {
   "cell_type": "markdown",
   "metadata": {},
   "source": [
    "# Dplyr"
   ]
  },
  {
   "cell_type": "markdown",
   "metadata": {},
   "source": [
    "Dplyr library is used for data manipulation"
   ]
  },
  {
   "cell_type": "markdown",
   "metadata": {},
   "source": [
    "### Installation"
   ]
  },
  {
   "cell_type": "code",
   "execution_count": 1,
   "metadata": {},
   "outputs": [
    {
     "name": "stderr",
     "output_type": "stream",
     "text": [
      "Installing package into 'C:/Users/itvedant-le1/Documents/R/win-library/3.6'\n",
      "(as 'lib' is unspecified)\n"
     ]
    },
    {
     "name": "stdout",
     "output_type": "stream",
     "text": [
      "package 'dplyr' successfully unpacked and MD5 sums checked\n",
      "\n",
      "The downloaded binary packages are in\n",
      "\tC:\\Users\\itvedant-le1\\AppData\\Local\\Temp\\RtmpAtSA9S\\downloaded_packages\n"
     ]
    }
   ],
   "source": [
    "install.packages(\"dplyr\")"
   ]
  },
  {
   "cell_type": "code",
   "execution_count": 2,
   "metadata": {},
   "outputs": [
    {
     "name": "stderr",
     "output_type": "stream",
     "text": [
      "Warning message:\n",
      "\"package 'dplyr' was built under R version 3.6.1\"\n",
      "Attaching package: 'dplyr'\n",
      "\n",
      "The following objects are masked from 'package:stats':\n",
      "\n",
      "    filter, lag\n",
      "\n",
      "The following objects are masked from 'package:base':\n",
      "\n",
      "    intersect, setdiff, setequal, union\n",
      "\n"
     ]
    }
   ],
   "source": [
    "library(\"dplyr\")"
   ]
  },
  {
   "cell_type": "markdown",
   "metadata": {},
   "source": [
    "### Installation of nyc flights data"
   ]
  },
  {
   "cell_type": "code",
   "execution_count": 3,
   "metadata": {},
   "outputs": [
    {
     "name": "stderr",
     "output_type": "stream",
     "text": [
      "Installing package into 'C:/Users/itvedant-le1/Documents/R/win-library/3.6'\n",
      "(as 'lib' is unspecified)\n"
     ]
    },
    {
     "name": "stdout",
     "output_type": "stream",
     "text": [
      "package 'nycflights13' successfully unpacked and MD5 sums checked\n",
      "\n",
      "The downloaded binary packages are in\n",
      "\tC:\\Users\\itvedant-le1\\AppData\\Local\\Temp\\RtmpAtSA9S\\downloaded_packages\n"
     ]
    }
   ],
   "source": [
    "install.packages('nycflights13')"
   ]
  },
  {
   "cell_type": "code",
   "execution_count": 4,
   "metadata": {},
   "outputs": [
    {
     "name": "stderr",
     "output_type": "stream",
     "text": [
      "Warning message:\n",
      "\"package 'nycflights13' was built under R version 3.6.1\""
     ]
    }
   ],
   "source": [
    "library(nycflights13)"
   ]
  },
  {
   "cell_type": "code",
   "execution_count": 7,
   "metadata": {},
   "outputs": [
    {
     "data": {
      "text/html": [
       "<table>\n",
       "<thead><tr><th scope=col>year</th><th scope=col>month</th><th scope=col>day</th><th scope=col>dep_time</th><th scope=col>sched_dep_time</th><th scope=col>dep_delay</th><th scope=col>arr_time</th><th scope=col>sched_arr_time</th><th scope=col>arr_delay</th><th scope=col>carrier</th><th scope=col>flight</th><th scope=col>tailnum</th><th scope=col>origin</th><th scope=col>dest</th><th scope=col>air_time</th><th scope=col>distance</th><th scope=col>hour</th><th scope=col>minute</th><th scope=col>time_hour</th></tr></thead>\n",
       "<tbody>\n",
       "\t<tr><td>2013               </td><td>1                  </td><td>1                  </td><td>517                </td><td>515                </td><td> 2                 </td><td> 830               </td><td> 819               </td><td> 11                </td><td>UA                 </td><td>1545               </td><td>N14228             </td><td>EWR                </td><td>IAH                </td><td>227                </td><td>1400               </td><td>5                  </td><td>15                 </td><td>2013-01-01 05:00:00</td></tr>\n",
       "\t<tr><td>2013               </td><td>1                  </td><td>1                  </td><td>533                </td><td>529                </td><td> 4                 </td><td> 850               </td><td> 830               </td><td> 20                </td><td>UA                 </td><td>1714               </td><td>N24211             </td><td>LGA                </td><td>IAH                </td><td>227                </td><td>1416               </td><td>5                  </td><td>29                 </td><td>2013-01-01 05:00:00</td></tr>\n",
       "\t<tr><td>2013               </td><td>1                  </td><td>1                  </td><td>542                </td><td>540                </td><td> 2                 </td><td> 923               </td><td> 850               </td><td> 33                </td><td>AA                 </td><td>1141               </td><td>N619AA             </td><td>JFK                </td><td>MIA                </td><td>160                </td><td>1089               </td><td>5                  </td><td>40                 </td><td>2013-01-01 05:00:00</td></tr>\n",
       "\t<tr><td>2013               </td><td>1                  </td><td>1                  </td><td>544                </td><td>545                </td><td>-1                 </td><td>1004               </td><td>1022               </td><td>-18                </td><td>B6                 </td><td> 725               </td><td>N804JB             </td><td>JFK                </td><td>BQN                </td><td>183                </td><td>1576               </td><td>5                  </td><td>45                 </td><td>2013-01-01 05:00:00</td></tr>\n",
       "\t<tr><td>2013               </td><td>1                  </td><td>1                  </td><td>554                </td><td>600                </td><td>-6                 </td><td> 812               </td><td> 837               </td><td>-25                </td><td>DL                 </td><td> 461               </td><td>N668DN             </td><td>LGA                </td><td>ATL                </td><td>116                </td><td> 762               </td><td>6                  </td><td> 0                 </td><td>2013-01-01 06:00:00</td></tr>\n",
       "\t<tr><td>2013               </td><td>1                  </td><td>1                  </td><td>554                </td><td>558                </td><td>-4                 </td><td> 740               </td><td> 728               </td><td> 12                </td><td>UA                 </td><td>1696               </td><td>N39463             </td><td>EWR                </td><td>ORD                </td><td>150                </td><td> 719               </td><td>5                  </td><td>58                 </td><td>2013-01-01 05:00:00</td></tr>\n",
       "</tbody>\n",
       "</table>\n"
      ],
      "text/latex": [
       "\\begin{tabular}{r|lllllllllllllllllll}\n",
       " year & month & day & dep\\_time & sched\\_dep\\_time & dep\\_delay & arr\\_time & sched\\_arr\\_time & arr\\_delay & carrier & flight & tailnum & origin & dest & air\\_time & distance & hour & minute & time\\_hour\\\\\n",
       "\\hline\n",
       "\t 2013                & 1                   & 1                   & 517                 & 515                 &  2                  &  830                &  819                &  11                 & UA                  & 1545                & N14228              & EWR                 & IAH                 & 227                 & 1400                & 5                   & 15                  & 2013-01-01 05:00:00\\\\\n",
       "\t 2013                & 1                   & 1                   & 533                 & 529                 &  4                  &  850                &  830                &  20                 & UA                  & 1714                & N24211              & LGA                 & IAH                 & 227                 & 1416                & 5                   & 29                  & 2013-01-01 05:00:00\\\\\n",
       "\t 2013                & 1                   & 1                   & 542                 & 540                 &  2                  &  923                &  850                &  33                 & AA                  & 1141                & N619AA              & JFK                 & MIA                 & 160                 & 1089                & 5                   & 40                  & 2013-01-01 05:00:00\\\\\n",
       "\t 2013                & 1                   & 1                   & 544                 & 545                 & -1                  & 1004                & 1022                & -18                 & B6                  &  725                & N804JB              & JFK                 & BQN                 & 183                 & 1576                & 5                   & 45                  & 2013-01-01 05:00:00\\\\\n",
       "\t 2013                & 1                   & 1                   & 554                 & 600                 & -6                  &  812                &  837                & -25                 & DL                  &  461                & N668DN              & LGA                 & ATL                 & 116                 &  762                & 6                   &  0                  & 2013-01-01 06:00:00\\\\\n",
       "\t 2013                & 1                   & 1                   & 554                 & 558                 & -4                  &  740                &  728                &  12                 & UA                  & 1696                & N39463              & EWR                 & ORD                 & 150                 &  719                & 5                   & 58                  & 2013-01-01 05:00:00\\\\\n",
       "\\end{tabular}\n"
      ],
      "text/markdown": [
       "\n",
       "| year | month | day | dep_time | sched_dep_time | dep_delay | arr_time | sched_arr_time | arr_delay | carrier | flight | tailnum | origin | dest | air_time | distance | hour | minute | time_hour |\n",
       "|---|---|---|---|---|---|---|---|---|---|---|---|---|---|---|---|---|---|---|\n",
       "| 2013                | 1                   | 1                   | 517                 | 515                 |  2                  |  830                |  819                |  11                 | UA                  | 1545                | N14228              | EWR                 | IAH                 | 227                 | 1400                | 5                   | 15                  | 2013-01-01 05:00:00 |\n",
       "| 2013                | 1                   | 1                   | 533                 | 529                 |  4                  |  850                |  830                |  20                 | UA                  | 1714                | N24211              | LGA                 | IAH                 | 227                 | 1416                | 5                   | 29                  | 2013-01-01 05:00:00 |\n",
       "| 2013                | 1                   | 1                   | 542                 | 540                 |  2                  |  923                |  850                |  33                 | AA                  | 1141                | N619AA              | JFK                 | MIA                 | 160                 | 1089                | 5                   | 40                  | 2013-01-01 05:00:00 |\n",
       "| 2013                | 1                   | 1                   | 544                 | 545                 | -1                  | 1004                | 1022                | -18                 | B6                  |  725                | N804JB              | JFK                 | BQN                 | 183                 | 1576                | 5                   | 45                  | 2013-01-01 05:00:00 |\n",
       "| 2013                | 1                   | 1                   | 554                 | 600                 | -6                  |  812                |  837                | -25                 | DL                  |  461                | N668DN              | LGA                 | ATL                 | 116                 |  762                | 6                   |  0                  | 2013-01-01 06:00:00 |\n",
       "| 2013                | 1                   | 1                   | 554                 | 558                 | -4                  |  740                |  728                |  12                 | UA                  | 1696                | N39463              | EWR                 | ORD                 | 150                 |  719                | 5                   | 58                  | 2013-01-01 05:00:00 |\n",
       "\n"
      ],
      "text/plain": [
       "  year month day dep_time sched_dep_time dep_delay arr_time sched_arr_time\n",
       "1 2013 1     1   517      515             2         830      819          \n",
       "2 2013 1     1   533      529             4         850      830          \n",
       "3 2013 1     1   542      540             2         923      850          \n",
       "4 2013 1     1   544      545            -1        1004     1022          \n",
       "5 2013 1     1   554      600            -6         812      837          \n",
       "6 2013 1     1   554      558            -4         740      728          \n",
       "  arr_delay carrier flight tailnum origin dest air_time distance hour minute\n",
       "1  11       UA      1545   N14228  EWR    IAH  227      1400     5    15    \n",
       "2  20       UA      1714   N24211  LGA    IAH  227      1416     5    29    \n",
       "3  33       AA      1141   N619AA  JFK    MIA  160      1089     5    40    \n",
       "4 -18       B6       725   N804JB  JFK    BQN  183      1576     5    45    \n",
       "5 -25       DL       461   N668DN  LGA    ATL  116       762     6     0    \n",
       "6  12       UA      1696   N39463  EWR    ORD  150       719     5    58    \n",
       "  time_hour          \n",
       "1 2013-01-01 05:00:00\n",
       "2 2013-01-01 05:00:00\n",
       "3 2013-01-01 05:00:00\n",
       "4 2013-01-01 05:00:00\n",
       "5 2013-01-01 06:00:00\n",
       "6 2013-01-01 05:00:00"
      ]
     },
     "metadata": {},
     "output_type": "display_data"
    }
   ],
   "source": [
    "head(flights)"
   ]
  },
  {
   "cell_type": "code",
   "execution_count": 5,
   "metadata": {},
   "outputs": [
    {
     "data": {
      "text/plain": [
       "      year          month             day           dep_time    sched_dep_time\n",
       " Min.   :2013   Min.   : 1.000   Min.   : 1.00   Min.   :   1   Min.   : 106  \n",
       " 1st Qu.:2013   1st Qu.: 4.000   1st Qu.: 8.00   1st Qu.: 907   1st Qu.: 906  \n",
       " Median :2013   Median : 7.000   Median :16.00   Median :1401   Median :1359  \n",
       " Mean   :2013   Mean   : 6.549   Mean   :15.71   Mean   :1349   Mean   :1344  \n",
       " 3rd Qu.:2013   3rd Qu.:10.000   3rd Qu.:23.00   3rd Qu.:1744   3rd Qu.:1729  \n",
       " Max.   :2013   Max.   :12.000   Max.   :31.00   Max.   :2400   Max.   :2359  \n",
       "                                                 NA's   :8255                 \n",
       "   dep_delay          arr_time    sched_arr_time   arr_delay       \n",
       " Min.   : -43.00   Min.   :   1   Min.   :   1   Min.   : -86.000  \n",
       " 1st Qu.:  -5.00   1st Qu.:1104   1st Qu.:1124   1st Qu.: -17.000  \n",
       " Median :  -2.00   Median :1535   Median :1556   Median :  -5.000  \n",
       " Mean   :  12.64   Mean   :1502   Mean   :1536   Mean   :   6.895  \n",
       " 3rd Qu.:  11.00   3rd Qu.:1940   3rd Qu.:1945   3rd Qu.:  14.000  \n",
       " Max.   :1301.00   Max.   :2400   Max.   :2359   Max.   :1272.000  \n",
       " NA's   :8255      NA's   :8713                  NA's   :9430      \n",
       "   carrier              flight       tailnum             origin         \n",
       " Length:336776      Min.   :   1   Length:336776      Length:336776     \n",
       " Class :character   1st Qu.: 553   Class :character   Class :character  \n",
       " Mode  :character   Median :1496   Mode  :character   Mode  :character  \n",
       "                    Mean   :1972                                        \n",
       "                    3rd Qu.:3465                                        \n",
       "                    Max.   :8500                                        \n",
       "                                                                        \n",
       "     dest              air_time        distance         hour      \n",
       " Length:336776      Min.   : 20.0   Min.   :  17   Min.   : 1.00  \n",
       " Class :character   1st Qu.: 82.0   1st Qu.: 502   1st Qu.: 9.00  \n",
       " Mode  :character   Median :129.0   Median : 872   Median :13.00  \n",
       "                    Mean   :150.7   Mean   :1040   Mean   :13.18  \n",
       "                    3rd Qu.:192.0   3rd Qu.:1389   3rd Qu.:17.00  \n",
       "                    Max.   :695.0   Max.   :4983   Max.   :23.00  \n",
       "                    NA's   :9430                                  \n",
       "     minute        time_hour                  \n",
       " Min.   : 0.00   Min.   :2013-01-01 05:00:00  \n",
       " 1st Qu.: 8.00   1st Qu.:2013-04-04 13:00:00  \n",
       " Median :29.00   Median :2013-07-03 10:00:00  \n",
       " Mean   :26.23   Mean   :2013-07-03 05:22:54  \n",
       " 3rd Qu.:44.00   3rd Qu.:2013-10-01 07:00:00  \n",
       " Max.   :59.00   Max.   :2013-12-31 23:00:00  \n",
       "                                              "
      ]
     },
     "metadata": {},
     "output_type": "display_data"
    }
   ],
   "source": [
    "summary(flights)"
   ]
  },
  {
   "cell_type": "code",
   "execution_count": 6,
   "metadata": {},
   "outputs": [
    {
     "data": {
      "text/html": [
       "<ol class=list-inline>\n",
       "\t<li>336776</li>\n",
       "\t<li>19</li>\n",
       "</ol>\n"
      ],
      "text/latex": [
       "\\begin{enumerate*}\n",
       "\\item 336776\n",
       "\\item 19\n",
       "\\end{enumerate*}\n"
      ],
      "text/markdown": [
       "1. 336776\n",
       "2. 19\n",
       "\n",
       "\n"
      ],
      "text/plain": [
       "[1] 336776     19"
      ]
     },
     "metadata": {},
     "output_type": "display_data"
    }
   ],
   "source": [
    "dim(flights)"
   ]
  },
  {
   "cell_type": "markdown",
   "metadata": {},
   "source": [
    "### 1) filter \n",
    "\n",
    "filter() allows you to select a subset of rows in a data frame"
   ]
  },
  {
   "cell_type": "code",
   "execution_count": 11,
   "metadata": {},
   "outputs": [
    {
     "data": {
      "text/html": [
       "<table>\n",
       "<thead><tr><th scope=col>year</th><th scope=col>month</th><th scope=col>day</th><th scope=col>dep_time</th><th scope=col>sched_dep_time</th><th scope=col>dep_delay</th><th scope=col>arr_time</th><th scope=col>sched_arr_time</th><th scope=col>arr_delay</th><th scope=col>carrier</th><th scope=col>flight</th><th scope=col>tailnum</th><th scope=col>origin</th><th scope=col>dest</th><th scope=col>air_time</th><th scope=col>distance</th><th scope=col>hour</th><th scope=col>minute</th><th scope=col>time_hour</th></tr></thead>\n",
       "<tbody>\n",
       "\t<tr><td>2013               </td><td>11                 </td><td>3                  </td><td>538                </td><td>545                </td><td>-7                 </td><td>824                </td><td>855                </td><td>-31                </td><td>AA                 </td><td>2243               </td><td>N5DWAA             </td><td>JFK                </td><td>MIA                </td><td>144                </td><td>1089               </td><td>5                  </td><td>45                 </td><td>2013-11-03 05:00:00</td></tr>\n",
       "\t<tr><td>2013               </td><td>11                 </td><td>3                  </td><td>556                </td><td>600                </td><td>-4                 </td><td>900                </td><td>905                </td><td> -5                </td><td>AA                 </td><td>1175               </td><td>N3CSAA             </td><td>LGA                </td><td>MIA                </td><td>148                </td><td>1096               </td><td>6                  </td><td> 0                 </td><td>2013-11-03 06:00:00</td></tr>\n",
       "\t<tr><td>2013               </td><td>11                 </td><td>3                  </td><td>604                </td><td>610                </td><td>-6                 </td><td>844                </td><td>855                </td><td>-11                </td><td>AA                 </td><td>1103               </td><td>N3KDAA             </td><td>LGA                </td><td>DFW                </td><td>192                </td><td>1389               </td><td>6                  </td><td>10                 </td><td>2013-11-03 06:00:00</td></tr>\n",
       "\t<tr><td>2013               </td><td>11                 </td><td>3                  </td><td>624                </td><td>629                </td><td>-5                 </td><td>907                </td><td>929                </td><td>-22                </td><td>AA                 </td><td>1205               </td><td>N3EJAA             </td><td>EWR                </td><td>MIA                </td><td>141                </td><td>1085               </td><td>6                  </td><td>29                 </td><td>2013-11-03 06:00:00</td></tr>\n",
       "\t<tr><td>2013               </td><td>11                 </td><td>3                  </td><td>625                </td><td>630                </td><td>-5                 </td><td>736                </td><td>805                </td><td>-29                </td><td>AA                 </td><td> 303               </td><td>N4WJAA             </td><td>LGA                </td><td>ORD                </td><td>113                </td><td> 733               </td><td>6                  </td><td>30                 </td><td>2013-11-03 06:00:00</td></tr>\n",
       "\t<tr><td>2013               </td><td>11                 </td><td>3                  </td><td>653                </td><td>655                </td><td>-2                 </td><td>925                </td><td>920                </td><td>  5                </td><td>AA                 </td><td>1263               </td><td>N634AA             </td><td>JFK                </td><td>LAS                </td><td>306                </td><td>2248               </td><td>6                  </td><td>55                 </td><td>2013-11-03 06:00:00</td></tr>\n",
       "</tbody>\n",
       "</table>\n"
      ],
      "text/latex": [
       "\\begin{tabular}{r|lllllllllllllllllll}\n",
       " year & month & day & dep\\_time & sched\\_dep\\_time & dep\\_delay & arr\\_time & sched\\_arr\\_time & arr\\_delay & carrier & flight & tailnum & origin & dest & air\\_time & distance & hour & minute & time\\_hour\\\\\n",
       "\\hline\n",
       "\t 2013                & 11                  & 3                   & 538                 & 545                 & -7                  & 824                 & 855                 & -31                 & AA                  & 2243                & N5DWAA              & JFK                 & MIA                 & 144                 & 1089                & 5                   & 45                  & 2013-11-03 05:00:00\\\\\n",
       "\t 2013                & 11                  & 3                   & 556                 & 600                 & -4                  & 900                 & 905                 &  -5                 & AA                  & 1175                & N3CSAA              & LGA                 & MIA                 & 148                 & 1096                & 6                   &  0                  & 2013-11-03 06:00:00\\\\\n",
       "\t 2013                & 11                  & 3                   & 604                 & 610                 & -6                  & 844                 & 855                 & -11                 & AA                  & 1103                & N3KDAA              & LGA                 & DFW                 & 192                 & 1389                & 6                   & 10                  & 2013-11-03 06:00:00\\\\\n",
       "\t 2013                & 11                  & 3                   & 624                 & 629                 & -5                  & 907                 & 929                 & -22                 & AA                  & 1205                & N3EJAA              & EWR                 & MIA                 & 141                 & 1085                & 6                   & 29                  & 2013-11-03 06:00:00\\\\\n",
       "\t 2013                & 11                  & 3                   & 625                 & 630                 & -5                  & 736                 & 805                 & -29                 & AA                  &  303                & N4WJAA              & LGA                 & ORD                 & 113                 &  733                & 6                   & 30                  & 2013-11-03 06:00:00\\\\\n",
       "\t 2013                & 11                  & 3                   & 653                 & 655                 & -2                  & 925                 & 920                 &   5                 & AA                  & 1263                & N634AA              & JFK                 & LAS                 & 306                 & 2248                & 6                   & 55                  & 2013-11-03 06:00:00\\\\\n",
       "\\end{tabular}\n"
      ],
      "text/markdown": [
       "\n",
       "| year | month | day | dep_time | sched_dep_time | dep_delay | arr_time | sched_arr_time | arr_delay | carrier | flight | tailnum | origin | dest | air_time | distance | hour | minute | time_hour |\n",
       "|---|---|---|---|---|---|---|---|---|---|---|---|---|---|---|---|---|---|---|\n",
       "| 2013                | 11                  | 3                   | 538                 | 545                 | -7                  | 824                 | 855                 | -31                 | AA                  | 2243                | N5DWAA              | JFK                 | MIA                 | 144                 | 1089                | 5                   | 45                  | 2013-11-03 05:00:00 |\n",
       "| 2013                | 11                  | 3                   | 556                 | 600                 | -4                  | 900                 | 905                 |  -5                 | AA                  | 1175                | N3CSAA              | LGA                 | MIA                 | 148                 | 1096                | 6                   |  0                  | 2013-11-03 06:00:00 |\n",
       "| 2013                | 11                  | 3                   | 604                 | 610                 | -6                  | 844                 | 855                 | -11                 | AA                  | 1103                | N3KDAA              | LGA                 | DFW                 | 192                 | 1389                | 6                   | 10                  | 2013-11-03 06:00:00 |\n",
       "| 2013                | 11                  | 3                   | 624                 | 629                 | -5                  | 907                 | 929                 | -22                 | AA                  | 1205                | N3EJAA              | EWR                 | MIA                 | 141                 | 1085                | 6                   | 29                  | 2013-11-03 06:00:00 |\n",
       "| 2013                | 11                  | 3                   | 625                 | 630                 | -5                  | 736                 | 805                 | -29                 | AA                  |  303                | N4WJAA              | LGA                 | ORD                 | 113                 |  733                | 6                   | 30                  | 2013-11-03 06:00:00 |\n",
       "| 2013                | 11                  | 3                   | 653                 | 655                 | -2                  | 925                 | 920                 |   5                 | AA                  | 1263                | N634AA              | JFK                 | LAS                 | 306                 | 2248                | 6                   | 55                  | 2013-11-03 06:00:00 |\n",
       "\n"
      ],
      "text/plain": [
       "  year month day dep_time sched_dep_time dep_delay arr_time sched_arr_time\n",
       "1 2013 11    3   538      545            -7        824      855           \n",
       "2 2013 11    3   556      600            -4        900      905           \n",
       "3 2013 11    3   604      610            -6        844      855           \n",
       "4 2013 11    3   624      629            -5        907      929           \n",
       "5 2013 11    3   625      630            -5        736      805           \n",
       "6 2013 11    3   653      655            -2        925      920           \n",
       "  arr_delay carrier flight tailnum origin dest air_time distance hour minute\n",
       "1 -31       AA      2243   N5DWAA  JFK    MIA  144      1089     5    45    \n",
       "2  -5       AA      1175   N3CSAA  LGA    MIA  148      1096     6     0    \n",
       "3 -11       AA      1103   N3KDAA  LGA    DFW  192      1389     6    10    \n",
       "4 -22       AA      1205   N3EJAA  EWR    MIA  141      1085     6    29    \n",
       "5 -29       AA       303   N4WJAA  LGA    ORD  113       733     6    30    \n",
       "6   5       AA      1263   N634AA  JFK    LAS  306      2248     6    55    \n",
       "  time_hour          \n",
       "1 2013-11-03 05:00:00\n",
       "2 2013-11-03 06:00:00\n",
       "3 2013-11-03 06:00:00\n",
       "4 2013-11-03 06:00:00\n",
       "5 2013-11-03 06:00:00\n",
       "6 2013-11-03 06:00:00"
      ]
     },
     "metadata": {},
     "output_type": "display_data"
    }
   ],
   "source": [
    "head(filter(flights,month==11,day==3,carrier=='AA'))"
   ]
  },
  {
   "cell_type": "code",
   "execution_count": 17,
   "metadata": {},
   "outputs": [
    {
     "data": {
      "text/html": [
       "<table>\n",
       "<thead><tr><th scope=col>year</th><th scope=col>month</th><th scope=col>day</th><th scope=col>dep_time</th><th scope=col>sched_dep_time</th><th scope=col>dep_delay</th><th scope=col>arr_time</th><th scope=col>sched_arr_time</th><th scope=col>arr_delay</th><th scope=col>carrier</th><th scope=col>flight</th><th scope=col>tailnum</th><th scope=col>origin</th><th scope=col>dest</th><th scope=col>air_time</th><th scope=col>distance</th><th scope=col>hour</th><th scope=col>minute</th><th scope=col>time_hour</th></tr></thead>\n",
       "<tbody>\n",
       "\t<tr><td>2013               </td><td>11                 </td><td>3                  </td><td>538                </td><td>545                </td><td>-7                 </td><td>824                </td><td>855                </td><td>-31                </td><td>AA                 </td><td>2243               </td><td>N5DWAA             </td><td>JFK                </td><td>MIA                </td><td>144                </td><td>1089               </td><td>5                  </td><td>45                 </td><td>2013-11-03 05:00:00</td></tr>\n",
       "\t<tr><td>2013               </td><td>11                 </td><td>3                  </td><td>556                </td><td>600                </td><td>-4                 </td><td>900                </td><td>905                </td><td> -5                </td><td>AA                 </td><td>1175               </td><td>N3CSAA             </td><td>LGA                </td><td>MIA                </td><td>148                </td><td>1096               </td><td>6                  </td><td> 0                 </td><td>2013-11-03 06:00:00</td></tr>\n",
       "\t<tr><td>2013               </td><td>11                 </td><td>3                  </td><td>604                </td><td>610                </td><td>-6                 </td><td>844                </td><td>855                </td><td>-11                </td><td>AA                 </td><td>1103               </td><td>N3KDAA             </td><td>LGA                </td><td>DFW                </td><td>192                </td><td>1389               </td><td>6                  </td><td>10                 </td><td>2013-11-03 06:00:00</td></tr>\n",
       "\t<tr><td>2013               </td><td>11                 </td><td>3                  </td><td>624                </td><td>629                </td><td>-5                 </td><td>907                </td><td>929                </td><td>-22                </td><td>AA                 </td><td>1205               </td><td>N3EJAA             </td><td>EWR                </td><td>MIA                </td><td>141                </td><td>1085               </td><td>6                  </td><td>29                 </td><td>2013-11-03 06:00:00</td></tr>\n",
       "\t<tr><td>2013               </td><td>11                 </td><td>3                  </td><td>625                </td><td>630                </td><td>-5                 </td><td>736                </td><td>805                </td><td>-29                </td><td>AA                 </td><td> 303               </td><td>N4WJAA             </td><td>LGA                </td><td>ORD                </td><td>113                </td><td> 733               </td><td>6                  </td><td>30                 </td><td>2013-11-03 06:00:00</td></tr>\n",
       "\t<tr><td>2013               </td><td>11                 </td><td>3                  </td><td>653                </td><td>655                </td><td>-2                 </td><td>925                </td><td>920                </td><td>  5                </td><td>AA                 </td><td>1263               </td><td>N634AA             </td><td>JFK                </td><td>LAS                </td><td>306                </td><td>2248               </td><td>6                  </td><td>55                 </td><td>2013-11-03 06:00:00</td></tr>\n",
       "</tbody>\n",
       "</table>\n"
      ],
      "text/latex": [
       "\\begin{tabular}{r|lllllllllllllllllll}\n",
       " year & month & day & dep\\_time & sched\\_dep\\_time & dep\\_delay & arr\\_time & sched\\_arr\\_time & arr\\_delay & carrier & flight & tailnum & origin & dest & air\\_time & distance & hour & minute & time\\_hour\\\\\n",
       "\\hline\n",
       "\t 2013                & 11                  & 3                   & 538                 & 545                 & -7                  & 824                 & 855                 & -31                 & AA                  & 2243                & N5DWAA              & JFK                 & MIA                 & 144                 & 1089                & 5                   & 45                  & 2013-11-03 05:00:00\\\\\n",
       "\t 2013                & 11                  & 3                   & 556                 & 600                 & -4                  & 900                 & 905                 &  -5                 & AA                  & 1175                & N3CSAA              & LGA                 & MIA                 & 148                 & 1096                & 6                   &  0                  & 2013-11-03 06:00:00\\\\\n",
       "\t 2013                & 11                  & 3                   & 604                 & 610                 & -6                  & 844                 & 855                 & -11                 & AA                  & 1103                & N3KDAA              & LGA                 & DFW                 & 192                 & 1389                & 6                   & 10                  & 2013-11-03 06:00:00\\\\\n",
       "\t 2013                & 11                  & 3                   & 624                 & 629                 & -5                  & 907                 & 929                 & -22                 & AA                  & 1205                & N3EJAA              & EWR                 & MIA                 & 141                 & 1085                & 6                   & 29                  & 2013-11-03 06:00:00\\\\\n",
       "\t 2013                & 11                  & 3                   & 625                 & 630                 & -5                  & 736                 & 805                 & -29                 & AA                  &  303                & N4WJAA              & LGA                 & ORD                 & 113                 &  733                & 6                   & 30                  & 2013-11-03 06:00:00\\\\\n",
       "\t 2013                & 11                  & 3                   & 653                 & 655                 & -2                  & 925                 & 920                 &   5                 & AA                  & 1263                & N634AA              & JFK                 & LAS                 & 306                 & 2248                & 6                   & 55                  & 2013-11-03 06:00:00\\\\\n",
       "\\end{tabular}\n"
      ],
      "text/markdown": [
       "\n",
       "| year | month | day | dep_time | sched_dep_time | dep_delay | arr_time | sched_arr_time | arr_delay | carrier | flight | tailnum | origin | dest | air_time | distance | hour | minute | time_hour |\n",
       "|---|---|---|---|---|---|---|---|---|---|---|---|---|---|---|---|---|---|---|\n",
       "| 2013                | 11                  | 3                   | 538                 | 545                 | -7                  | 824                 | 855                 | -31                 | AA                  | 2243                | N5DWAA              | JFK                 | MIA                 | 144                 | 1089                | 5                   | 45                  | 2013-11-03 05:00:00 |\n",
       "| 2013                | 11                  | 3                   | 556                 | 600                 | -4                  | 900                 | 905                 |  -5                 | AA                  | 1175                | N3CSAA              | LGA                 | MIA                 | 148                 | 1096                | 6                   |  0                  | 2013-11-03 06:00:00 |\n",
       "| 2013                | 11                  | 3                   | 604                 | 610                 | -6                  | 844                 | 855                 | -11                 | AA                  | 1103                | N3KDAA              | LGA                 | DFW                 | 192                 | 1389                | 6                   | 10                  | 2013-11-03 06:00:00 |\n",
       "| 2013                | 11                  | 3                   | 624                 | 629                 | -5                  | 907                 | 929                 | -22                 | AA                  | 1205                | N3EJAA              | EWR                 | MIA                 | 141                 | 1085                | 6                   | 29                  | 2013-11-03 06:00:00 |\n",
       "| 2013                | 11                  | 3                   | 625                 | 630                 | -5                  | 736                 | 805                 | -29                 | AA                  |  303                | N4WJAA              | LGA                 | ORD                 | 113                 |  733                | 6                   | 30                  | 2013-11-03 06:00:00 |\n",
       "| 2013                | 11                  | 3                   | 653                 | 655                 | -2                  | 925                 | 920                 |   5                 | AA                  | 1263                | N634AA              | JFK                 | LAS                 | 306                 | 2248                | 6                   | 55                  | 2013-11-03 06:00:00 |\n",
       "\n"
      ],
      "text/plain": [
       "  year month day dep_time sched_dep_time dep_delay arr_time sched_arr_time\n",
       "1 2013 11    3   538      545            -7        824      855           \n",
       "2 2013 11    3   556      600            -4        900      905           \n",
       "3 2013 11    3   604      610            -6        844      855           \n",
       "4 2013 11    3   624      629            -5        907      929           \n",
       "5 2013 11    3   625      630            -5        736      805           \n",
       "6 2013 11    3   653      655            -2        925      920           \n",
       "  arr_delay carrier flight tailnum origin dest air_time distance hour minute\n",
       "1 -31       AA      2243   N5DWAA  JFK    MIA  144      1089     5    45    \n",
       "2  -5       AA      1175   N3CSAA  LGA    MIA  148      1096     6     0    \n",
       "3 -11       AA      1103   N3KDAA  LGA    DFW  192      1389     6    10    \n",
       "4 -22       AA      1205   N3EJAA  EWR    MIA  141      1085     6    29    \n",
       "5 -29       AA       303   N4WJAA  LGA    ORD  113       733     6    30    \n",
       "6   5       AA      1263   N634AA  JFK    LAS  306      2248     6    55    \n",
       "  time_hour          \n",
       "1 2013-11-03 05:00:00\n",
       "2 2013-11-03 06:00:00\n",
       "3 2013-11-03 06:00:00\n",
       "4 2013-11-03 06:00:00\n",
       "5 2013-11-03 06:00:00\n",
       "6 2013-11-03 06:00:00"
      ]
     },
     "metadata": {},
     "output_type": "display_data"
    }
   ],
   "source": [
    "head(flights[flights$month == 11 & flights$day == 3 & flights$carrier == 'AA',])"
   ]
  },
  {
   "cell_type": "markdown",
   "metadata": {},
   "source": [
    "### 2) slice\n",
    "\n",
    "Select row with position"
   ]
  },
  {
   "cell_type": "code",
   "execution_count": 18,
   "metadata": {},
   "outputs": [
    {
     "data": {
      "text/html": [
       "<table>\n",
       "<thead><tr><th scope=col>year</th><th scope=col>month</th><th scope=col>day</th><th scope=col>dep_time</th><th scope=col>sched_dep_time</th><th scope=col>dep_delay</th><th scope=col>arr_time</th><th scope=col>sched_arr_time</th><th scope=col>arr_delay</th><th scope=col>carrier</th><th scope=col>flight</th><th scope=col>tailnum</th><th scope=col>origin</th><th scope=col>dest</th><th scope=col>air_time</th><th scope=col>distance</th><th scope=col>hour</th><th scope=col>minute</th><th scope=col>time_hour</th></tr></thead>\n",
       "<tbody>\n",
       "\t<tr><td>2013               </td><td>1                  </td><td>1                  </td><td>544                </td><td>545                </td><td>-1                 </td><td>1004               </td><td>1022               </td><td>-18                </td><td>B6                 </td><td> 725               </td><td>N804JB             </td><td>JFK                </td><td>BQN                </td><td>183                </td><td>1576               </td><td>5                  </td><td>45                 </td><td>2013-01-01 05:00:00</td></tr>\n",
       "\t<tr><td>2013               </td><td>1                  </td><td>1                  </td><td>554                </td><td>600                </td><td>-6                 </td><td> 812               </td><td> 837               </td><td>-25                </td><td>DL                 </td><td> 461               </td><td>N668DN             </td><td>LGA                </td><td>ATL                </td><td>116                </td><td> 762               </td><td>6                  </td><td> 0                 </td><td>2013-01-01 06:00:00</td></tr>\n",
       "\t<tr><td>2013               </td><td>1                  </td><td>1                  </td><td>554                </td><td>558                </td><td>-4                 </td><td> 740               </td><td> 728               </td><td> 12                </td><td>UA                 </td><td>1696               </td><td>N39463             </td><td>EWR                </td><td>ORD                </td><td>150                </td><td> 719               </td><td>5                  </td><td>58                 </td><td>2013-01-01 05:00:00</td></tr>\n",
       "\t<tr><td>2013               </td><td>1                  </td><td>1                  </td><td>555                </td><td>600                </td><td>-5                 </td><td> 913               </td><td> 854               </td><td> 19                </td><td>B6                 </td><td> 507               </td><td>N516JB             </td><td>EWR                </td><td>FLL                </td><td>158                </td><td>1065               </td><td>6                  </td><td> 0                 </td><td>2013-01-01 06:00:00</td></tr>\n",
       "\t<tr><td>2013               </td><td>1                  </td><td>1                  </td><td>557                </td><td>600                </td><td>-3                 </td><td> 709               </td><td> 723               </td><td>-14                </td><td>EV                 </td><td>5708               </td><td>N829AS             </td><td>LGA                </td><td>IAD                </td><td> 53                </td><td> 229               </td><td>6                  </td><td> 0                 </td><td>2013-01-01 06:00:00</td></tr>\n",
       "</tbody>\n",
       "</table>\n"
      ],
      "text/latex": [
       "\\begin{tabular}{r|lllllllllllllllllll}\n",
       " year & month & day & dep\\_time & sched\\_dep\\_time & dep\\_delay & arr\\_time & sched\\_arr\\_time & arr\\_delay & carrier & flight & tailnum & origin & dest & air\\_time & distance & hour & minute & time\\_hour\\\\\n",
       "\\hline\n",
       "\t 2013                & 1                   & 1                   & 544                 & 545                 & -1                  & 1004                & 1022                & -18                 & B6                  &  725                & N804JB              & JFK                 & BQN                 & 183                 & 1576                & 5                   & 45                  & 2013-01-01 05:00:00\\\\\n",
       "\t 2013                & 1                   & 1                   & 554                 & 600                 & -6                  &  812                &  837                & -25                 & DL                  &  461                & N668DN              & LGA                 & ATL                 & 116                 &  762                & 6                   &  0                  & 2013-01-01 06:00:00\\\\\n",
       "\t 2013                & 1                   & 1                   & 554                 & 558                 & -4                  &  740                &  728                &  12                 & UA                  & 1696                & N39463              & EWR                 & ORD                 & 150                 &  719                & 5                   & 58                  & 2013-01-01 05:00:00\\\\\n",
       "\t 2013                & 1                   & 1                   & 555                 & 600                 & -5                  &  913                &  854                &  19                 & B6                  &  507                & N516JB              & EWR                 & FLL                 & 158                 & 1065                & 6                   &  0                  & 2013-01-01 06:00:00\\\\\n",
       "\t 2013                & 1                   & 1                   & 557                 & 600                 & -3                  &  709                &  723                & -14                 & EV                  & 5708                & N829AS              & LGA                 & IAD                 &  53                 &  229                & 6                   &  0                  & 2013-01-01 06:00:00\\\\\n",
       "\\end{tabular}\n"
      ],
      "text/markdown": [
       "\n",
       "| year | month | day | dep_time | sched_dep_time | dep_delay | arr_time | sched_arr_time | arr_delay | carrier | flight | tailnum | origin | dest | air_time | distance | hour | minute | time_hour |\n",
       "|---|---|---|---|---|---|---|---|---|---|---|---|---|---|---|---|---|---|---|\n",
       "| 2013                | 1                   | 1                   | 544                 | 545                 | -1                  | 1004                | 1022                | -18                 | B6                  |  725                | N804JB              | JFK                 | BQN                 | 183                 | 1576                | 5                   | 45                  | 2013-01-01 05:00:00 |\n",
       "| 2013                | 1                   | 1                   | 554                 | 600                 | -6                  |  812                |  837                | -25                 | DL                  |  461                | N668DN              | LGA                 | ATL                 | 116                 |  762                | 6                   |  0                  | 2013-01-01 06:00:00 |\n",
       "| 2013                | 1                   | 1                   | 554                 | 558                 | -4                  |  740                |  728                |  12                 | UA                  | 1696                | N39463              | EWR                 | ORD                 | 150                 |  719                | 5                   | 58                  | 2013-01-01 05:00:00 |\n",
       "| 2013                | 1                   | 1                   | 555                 | 600                 | -5                  |  913                |  854                |  19                 | B6                  |  507                | N516JB              | EWR                 | FLL                 | 158                 | 1065                | 6                   |  0                  | 2013-01-01 06:00:00 |\n",
       "| 2013                | 1                   | 1                   | 557                 | 600                 | -3                  |  709                |  723                | -14                 | EV                  | 5708                | N829AS              | LGA                 | IAD                 |  53                 |  229                | 6                   |  0                  | 2013-01-01 06:00:00 |\n",
       "\n"
      ],
      "text/plain": [
       "  year month day dep_time sched_dep_time dep_delay arr_time sched_arr_time\n",
       "1 2013 1     1   544      545            -1        1004     1022          \n",
       "2 2013 1     1   554      600            -6         812      837          \n",
       "3 2013 1     1   554      558            -4         740      728          \n",
       "4 2013 1     1   555      600            -5         913      854          \n",
       "5 2013 1     1   557      600            -3         709      723          \n",
       "  arr_delay carrier flight tailnum origin dest air_time distance hour minute\n",
       "1 -18       B6       725   N804JB  JFK    BQN  183      1576     5    45    \n",
       "2 -25       DL       461   N668DN  LGA    ATL  116       762     6     0    \n",
       "3  12       UA      1696   N39463  EWR    ORD  150       719     5    58    \n",
       "4  19       B6       507   N516JB  EWR    FLL  158      1065     6     0    \n",
       "5 -14       EV      5708   N829AS  LGA    IAD   53       229     6     0    \n",
       "  time_hour          \n",
       "1 2013-01-01 05:00:00\n",
       "2 2013-01-01 06:00:00\n",
       "3 2013-01-01 05:00:00\n",
       "4 2013-01-01 06:00:00\n",
       "5 2013-01-01 06:00:00"
      ]
     },
     "metadata": {},
     "output_type": "display_data"
    }
   ],
   "source": [
    "slice(flights,4:8)"
   ]
  },
  {
   "cell_type": "markdown",
   "metadata": {},
   "source": [
    "### 3) arrange\n",
    "\n",
    "orders data frame as per specific columns"
   ]
  },
  {
   "cell_type": "code",
   "execution_count": 22,
   "metadata": {},
   "outputs": [
    {
     "data": {
      "text/html": [
       "<table>\n",
       "<thead><tr><th scope=col>year</th><th scope=col>month</th><th scope=col>day</th><th scope=col>dep_time</th><th scope=col>sched_dep_time</th><th scope=col>dep_delay</th><th scope=col>arr_time</th><th scope=col>sched_arr_time</th><th scope=col>arr_delay</th><th scope=col>carrier</th><th scope=col>flight</th><th scope=col>tailnum</th><th scope=col>origin</th><th scope=col>dest</th><th scope=col>air_time</th><th scope=col>distance</th><th scope=col>hour</th><th scope=col>minute</th><th scope=col>time_hour</th></tr></thead>\n",
       "<tbody>\n",
       "\t<tr><td>2013               </td><td>1                  </td><td>1                  </td><td>2302               </td><td>2200               </td><td>62                 </td><td>2342               </td><td>2253               </td><td> 49                </td><td>EV                 </td><td>4276               </td><td>N13903             </td><td>EWR                </td><td>BDL                </td><td>24                 </td><td>116                </td><td>22                 </td><td> 0                 </td><td>2013-01-01 22:00:00</td></tr>\n",
       "\t<tr><td>2013               </td><td>1                  </td><td>1                  </td><td>1318               </td><td>1322               </td><td>-4                 </td><td>1358               </td><td>1416               </td><td>-18                </td><td>EV                 </td><td>4106               </td><td>N19554             </td><td>EWR                </td><td>BDL                </td><td>25                 </td><td>116                </td><td>13                 </td><td>22                 </td><td>2013-01-01 13:00:00</td></tr>\n",
       "\t<tr><td>2013               </td><td>1                  </td><td>1                  </td><td>2116               </td><td>2110               </td><td> 6                 </td><td>2202               </td><td>2212               </td><td>-10                </td><td>EV                 </td><td>4404               </td><td>N15912             </td><td>EWR                </td><td>PVD                </td><td>28                 </td><td>160                </td><td>21                 </td><td>10                 </td><td>2013-01-01 21:00:00</td></tr>\n",
       "\t<tr><td>2013               </td><td>1                  </td><td>1                  </td><td>2000               </td><td>2000               </td><td> 0                 </td><td>2054               </td><td>2110               </td><td>-16                </td><td>9E                 </td><td>3664               </td><td>N836AY             </td><td>JFK                </td><td>PHL                </td><td>30                 </td><td> 94                </td><td>20                 </td><td> 0                 </td><td>2013-01-01 20:00:00</td></tr>\n",
       "\t<tr><td>2013               </td><td>1                  </td><td>1                  </td><td>2056               </td><td>2004               </td><td>52                 </td><td>2156               </td><td>2112               </td><td> 44                </td><td>EV                 </td><td>4170               </td><td>N12540             </td><td>EWR                </td><td>ALB                </td><td>31                 </td><td>143                </td><td>20                 </td><td> 4                 </td><td>2013-01-01 20:00:00</td></tr>\n",
       "\t<tr><td>2013               </td><td>1                  </td><td>1                  </td><td> 908               </td><td> 915               </td><td>-7                 </td><td>1004               </td><td>1033               </td><td>-29                </td><td>US                 </td><td>1467               </td><td>N959UW             </td><td>LGA                </td><td>PHL                </td><td>32                 </td><td> 96                </td><td> 9                 </td><td>15                 </td><td>2013-01-01 09:00:00</td></tr>\n",
       "</tbody>\n",
       "</table>\n"
      ],
      "text/latex": [
       "\\begin{tabular}{r|lllllllllllllllllll}\n",
       " year & month & day & dep\\_time & sched\\_dep\\_time & dep\\_delay & arr\\_time & sched\\_arr\\_time & arr\\_delay & carrier & flight & tailnum & origin & dest & air\\_time & distance & hour & minute & time\\_hour\\\\\n",
       "\\hline\n",
       "\t 2013                & 1                   & 1                   & 2302                & 2200                & 62                  & 2342                & 2253                &  49                 & EV                  & 4276                & N13903              & EWR                 & BDL                 & 24                  & 116                 & 22                  &  0                  & 2013-01-01 22:00:00\\\\\n",
       "\t 2013                & 1                   & 1                   & 1318                & 1322                & -4                  & 1358                & 1416                & -18                 & EV                  & 4106                & N19554              & EWR                 & BDL                 & 25                  & 116                 & 13                  & 22                  & 2013-01-01 13:00:00\\\\\n",
       "\t 2013                & 1                   & 1                   & 2116                & 2110                &  6                  & 2202                & 2212                & -10                 & EV                  & 4404                & N15912              & EWR                 & PVD                 & 28                  & 160                 & 21                  & 10                  & 2013-01-01 21:00:00\\\\\n",
       "\t 2013                & 1                   & 1                   & 2000                & 2000                &  0                  & 2054                & 2110                & -16                 & 9E                  & 3664                & N836AY              & JFK                 & PHL                 & 30                  &  94                 & 20                  &  0                  & 2013-01-01 20:00:00\\\\\n",
       "\t 2013                & 1                   & 1                   & 2056                & 2004                & 52                  & 2156                & 2112                &  44                 & EV                  & 4170                & N12540              & EWR                 & ALB                 & 31                  & 143                 & 20                  &  4                  & 2013-01-01 20:00:00\\\\\n",
       "\t 2013                & 1                   & 1                   &  908                &  915                & -7                  & 1004                & 1033                & -29                 & US                  & 1467                & N959UW              & LGA                 & PHL                 & 32                  &  96                 &  9                  & 15                  & 2013-01-01 09:00:00\\\\\n",
       "\\end{tabular}\n"
      ],
      "text/markdown": [
       "\n",
       "| year | month | day | dep_time | sched_dep_time | dep_delay | arr_time | sched_arr_time | arr_delay | carrier | flight | tailnum | origin | dest | air_time | distance | hour | minute | time_hour |\n",
       "|---|---|---|---|---|---|---|---|---|---|---|---|---|---|---|---|---|---|---|\n",
       "| 2013                | 1                   | 1                   | 2302                | 2200                | 62                  | 2342                | 2253                |  49                 | EV                  | 4276                | N13903              | EWR                 | BDL                 | 24                  | 116                 | 22                  |  0                  | 2013-01-01 22:00:00 |\n",
       "| 2013                | 1                   | 1                   | 1318                | 1322                | -4                  | 1358                | 1416                | -18                 | EV                  | 4106                | N19554              | EWR                 | BDL                 | 25                  | 116                 | 13                  | 22                  | 2013-01-01 13:00:00 |\n",
       "| 2013                | 1                   | 1                   | 2116                | 2110                |  6                  | 2202                | 2212                | -10                 | EV                  | 4404                | N15912              | EWR                 | PVD                 | 28                  | 160                 | 21                  | 10                  | 2013-01-01 21:00:00 |\n",
       "| 2013                | 1                   | 1                   | 2000                | 2000                |  0                  | 2054                | 2110                | -16                 | 9E                  | 3664                | N836AY              | JFK                 | PHL                 | 30                  |  94                 | 20                  |  0                  | 2013-01-01 20:00:00 |\n",
       "| 2013                | 1                   | 1                   | 2056                | 2004                | 52                  | 2156                | 2112                |  44                 | EV                  | 4170                | N12540              | EWR                 | ALB                 | 31                  | 143                 | 20                  |  4                  | 2013-01-01 20:00:00 |\n",
       "| 2013                | 1                   | 1                   |  908                |  915                | -7                  | 1004                | 1033                | -29                 | US                  | 1467                | N959UW              | LGA                 | PHL                 | 32                  |  96                 |  9                  | 15                  | 2013-01-01 09:00:00 |\n",
       "\n"
      ],
      "text/plain": [
       "  year month day dep_time sched_dep_time dep_delay arr_time sched_arr_time\n",
       "1 2013 1     1   2302     2200           62        2342     2253          \n",
       "2 2013 1     1   1318     1322           -4        1358     1416          \n",
       "3 2013 1     1   2116     2110            6        2202     2212          \n",
       "4 2013 1     1   2000     2000            0        2054     2110          \n",
       "5 2013 1     1   2056     2004           52        2156     2112          \n",
       "6 2013 1     1    908      915           -7        1004     1033          \n",
       "  arr_delay carrier flight tailnum origin dest air_time distance hour minute\n",
       "1  49       EV      4276   N13903  EWR    BDL  24       116      22    0    \n",
       "2 -18       EV      4106   N19554  EWR    BDL  25       116      13   22    \n",
       "3 -10       EV      4404   N15912  EWR    PVD  28       160      21   10    \n",
       "4 -16       9E      3664   N836AY  JFK    PHL  30        94      20    0    \n",
       "5  44       EV      4170   N12540  EWR    ALB  31       143      20    4    \n",
       "6 -29       US      1467   N959UW  LGA    PHL  32        96       9   15    \n",
       "  time_hour          \n",
       "1 2013-01-01 22:00:00\n",
       "2 2013-01-01 13:00:00\n",
       "3 2013-01-01 21:00:00\n",
       "4 2013-01-01 20:00:00\n",
       "5 2013-01-01 20:00:00\n",
       "6 2013-01-01 09:00:00"
      ]
     },
     "metadata": {},
     "output_type": "display_data"
    }
   ],
   "source": [
    "head(arrange(flights,year,month,day,air_time))"
   ]
  },
  {
   "cell_type": "markdown",
   "metadata": {},
   "source": [
    "### desc() \n",
    "To arrange in descending order"
   ]
  },
  {
   "cell_type": "code",
   "execution_count": 25,
   "metadata": {},
   "outputs": [
    {
     "data": {
      "text/html": [
       "<table>\n",
       "<thead><tr><th scope=col>year</th><th scope=col>month</th><th scope=col>day</th><th scope=col>dep_time</th><th scope=col>sched_dep_time</th><th scope=col>dep_delay</th><th scope=col>arr_time</th><th scope=col>sched_arr_time</th><th scope=col>arr_delay</th><th scope=col>carrier</th><th scope=col>flight</th><th scope=col>tailnum</th><th scope=col>origin</th><th scope=col>dest</th><th scope=col>air_time</th><th scope=col>distance</th><th scope=col>hour</th><th scope=col>minute</th><th scope=col>time_hour</th></tr></thead>\n",
       "<tbody>\n",
       "\t<tr><td>2013               </td><td>1                  </td><td> 9                 </td><td> 641               </td><td> 900               </td><td>1301               </td><td>1242               </td><td>1530               </td><td>1272               </td><td>HA                 </td><td>  51               </td><td>N384HA             </td><td>JFK                </td><td>HNL                </td><td>640                </td><td>4983               </td><td> 9                 </td><td> 0                 </td><td>2013-01-09 09:00:00</td></tr>\n",
       "\t<tr><td>2013               </td><td>6                  </td><td>15                 </td><td>1432               </td><td>1935               </td><td>1137               </td><td>1607               </td><td>2120               </td><td>1127               </td><td>MQ                 </td><td>3535               </td><td>N504MQ             </td><td>JFK                </td><td>CMH                </td><td> 74                </td><td> 483               </td><td>19                 </td><td>35                 </td><td>2013-06-15 19:00:00</td></tr>\n",
       "\t<tr><td>2013               </td><td>1                  </td><td>10                 </td><td>1121               </td><td>1635               </td><td>1126               </td><td>1239               </td><td>1810               </td><td>1109               </td><td>MQ                 </td><td>3695               </td><td>N517MQ             </td><td>EWR                </td><td>ORD                </td><td>111                </td><td> 719               </td><td>16                 </td><td>35                 </td><td>2013-01-10 16:00:00</td></tr>\n",
       "\t<tr><td>2013               </td><td>9                  </td><td>20                 </td><td>1139               </td><td>1845               </td><td>1014               </td><td>1457               </td><td>2210               </td><td>1007               </td><td>AA                 </td><td> 177               </td><td>N338AA             </td><td>JFK                </td><td>SFO                </td><td>354                </td><td>2586               </td><td>18                 </td><td>45                 </td><td>2013-09-20 18:00:00</td></tr>\n",
       "\t<tr><td>2013               </td><td>7                  </td><td>22                 </td><td> 845               </td><td>1600               </td><td>1005               </td><td>1044               </td><td>1815               </td><td> 989               </td><td>MQ                 </td><td>3075               </td><td>N665MQ             </td><td>JFK                </td><td>CVG                </td><td> 96                </td><td> 589               </td><td>16                 </td><td> 0                 </td><td>2013-07-22 16:00:00</td></tr>\n",
       "\t<tr><td>2013               </td><td>4                  </td><td>10                 </td><td>1100               </td><td>1900               </td><td> 960               </td><td>1342               </td><td>2211               </td><td> 931               </td><td>DL                 </td><td>2391               </td><td>N959DL             </td><td>JFK                </td><td>TPA                </td><td>139                </td><td>1005               </td><td>19                 </td><td> 0                 </td><td>2013-04-10 19:00:00</td></tr>\n",
       "</tbody>\n",
       "</table>\n"
      ],
      "text/latex": [
       "\\begin{tabular}{r|lllllllllllllllllll}\n",
       " year & month & day & dep\\_time & sched\\_dep\\_time & dep\\_delay & arr\\_time & sched\\_arr\\_time & arr\\_delay & carrier & flight & tailnum & origin & dest & air\\_time & distance & hour & minute & time\\_hour\\\\\n",
       "\\hline\n",
       "\t 2013                & 1                   &  9                  &  641                &  900                & 1301                & 1242                & 1530                & 1272                & HA                  &   51                & N384HA              & JFK                 & HNL                 & 640                 & 4983                &  9                  &  0                  & 2013-01-09 09:00:00\\\\\n",
       "\t 2013                & 6                   & 15                  & 1432                & 1935                & 1137                & 1607                & 2120                & 1127                & MQ                  & 3535                & N504MQ              & JFK                 & CMH                 &  74                 &  483                & 19                  & 35                  & 2013-06-15 19:00:00\\\\\n",
       "\t 2013                & 1                   & 10                  & 1121                & 1635                & 1126                & 1239                & 1810                & 1109                & MQ                  & 3695                & N517MQ              & EWR                 & ORD                 & 111                 &  719                & 16                  & 35                  & 2013-01-10 16:00:00\\\\\n",
       "\t 2013                & 9                   & 20                  & 1139                & 1845                & 1014                & 1457                & 2210                & 1007                & AA                  &  177                & N338AA              & JFK                 & SFO                 & 354                 & 2586                & 18                  & 45                  & 2013-09-20 18:00:00\\\\\n",
       "\t 2013                & 7                   & 22                  &  845                & 1600                & 1005                & 1044                & 1815                &  989                & MQ                  & 3075                & N665MQ              & JFK                 & CVG                 &  96                 &  589                & 16                  &  0                  & 2013-07-22 16:00:00\\\\\n",
       "\t 2013                & 4                   & 10                  & 1100                & 1900                &  960                & 1342                & 2211                &  931                & DL                  & 2391                & N959DL              & JFK                 & TPA                 & 139                 & 1005                & 19                  &  0                  & 2013-04-10 19:00:00\\\\\n",
       "\\end{tabular}\n"
      ],
      "text/markdown": [
       "\n",
       "| year | month | day | dep_time | sched_dep_time | dep_delay | arr_time | sched_arr_time | arr_delay | carrier | flight | tailnum | origin | dest | air_time | distance | hour | minute | time_hour |\n",
       "|---|---|---|---|---|---|---|---|---|---|---|---|---|---|---|---|---|---|---|\n",
       "| 2013                | 1                   |  9                  |  641                |  900                | 1301                | 1242                | 1530                | 1272                | HA                  |   51                | N384HA              | JFK                 | HNL                 | 640                 | 4983                |  9                  |  0                  | 2013-01-09 09:00:00 |\n",
       "| 2013                | 6                   | 15                  | 1432                | 1935                | 1137                | 1607                | 2120                | 1127                | MQ                  | 3535                | N504MQ              | JFK                 | CMH                 |  74                 |  483                | 19                  | 35                  | 2013-06-15 19:00:00 |\n",
       "| 2013                | 1                   | 10                  | 1121                | 1635                | 1126                | 1239                | 1810                | 1109                | MQ                  | 3695                | N517MQ              | EWR                 | ORD                 | 111                 |  719                | 16                  | 35                  | 2013-01-10 16:00:00 |\n",
       "| 2013                | 9                   | 20                  | 1139                | 1845                | 1014                | 1457                | 2210                | 1007                | AA                  |  177                | N338AA              | JFK                 | SFO                 | 354                 | 2586                | 18                  | 45                  | 2013-09-20 18:00:00 |\n",
       "| 2013                | 7                   | 22                  |  845                | 1600                | 1005                | 1044                | 1815                |  989                | MQ                  | 3075                | N665MQ              | JFK                 | CVG                 |  96                 |  589                | 16                  |  0                  | 2013-07-22 16:00:00 |\n",
       "| 2013                | 4                   | 10                  | 1100                | 1900                |  960                | 1342                | 2211                |  931                | DL                  | 2391                | N959DL              | JFK                 | TPA                 | 139                 | 1005                | 19                  |  0                  | 2013-04-10 19:00:00 |\n",
       "\n"
      ],
      "text/plain": [
       "  year month day dep_time sched_dep_time dep_delay arr_time sched_arr_time\n",
       "1 2013 1      9   641      900           1301      1242     1530          \n",
       "2 2013 6     15  1432     1935           1137      1607     2120          \n",
       "3 2013 1     10  1121     1635           1126      1239     1810          \n",
       "4 2013 9     20  1139     1845           1014      1457     2210          \n",
       "5 2013 7     22   845     1600           1005      1044     1815          \n",
       "6 2013 4     10  1100     1900            960      1342     2211          \n",
       "  arr_delay carrier flight tailnum origin dest air_time distance hour minute\n",
       "1 1272      HA        51   N384HA  JFK    HNL  640      4983      9    0    \n",
       "2 1127      MQ      3535   N504MQ  JFK    CMH   74       483     19   35    \n",
       "3 1109      MQ      3695   N517MQ  EWR    ORD  111       719     16   35    \n",
       "4 1007      AA       177   N338AA  JFK    SFO  354      2586     18   45    \n",
       "5  989      MQ      3075   N665MQ  JFK    CVG   96       589     16    0    \n",
       "6  931      DL      2391   N959DL  JFK    TPA  139      1005     19    0    \n",
       "  time_hour          \n",
       "1 2013-01-09 09:00:00\n",
       "2 2013-06-15 19:00:00\n",
       "3 2013-01-10 16:00:00\n",
       "4 2013-09-20 18:00:00\n",
       "5 2013-07-22 16:00:00\n",
       "6 2013-04-10 19:00:00"
      ]
     },
     "metadata": {},
     "output_type": "display_data"
    }
   ],
   "source": [
    "head(arrange(flights,desc(arr_delay)))"
   ]
  },
  {
   "cell_type": "markdown",
   "metadata": {},
   "source": [
    "### 4) select()\n",
    "\n",
    "select() allows you to select a subset of columns in a data frame"
   ]
  },
  {
   "cell_type": "code",
   "execution_count": 26,
   "metadata": {},
   "outputs": [
    {
     "data": {
      "text/html": [
       "<table>\n",
       "<thead><tr><th scope=col>year</th><th scope=col>month</th></tr></thead>\n",
       "<tbody>\n",
       "\t<tr><td>2013</td><td>1   </td></tr>\n",
       "\t<tr><td>2013</td><td>1   </td></tr>\n",
       "\t<tr><td>2013</td><td>1   </td></tr>\n",
       "\t<tr><td>2013</td><td>1   </td></tr>\n",
       "\t<tr><td>2013</td><td>1   </td></tr>\n",
       "\t<tr><td>2013</td><td>1   </td></tr>\n",
       "</tbody>\n",
       "</table>\n"
      ],
      "text/latex": [
       "\\begin{tabular}{r|ll}\n",
       " year & month\\\\\n",
       "\\hline\n",
       "\t 2013 & 1   \\\\\n",
       "\t 2013 & 1   \\\\\n",
       "\t 2013 & 1   \\\\\n",
       "\t 2013 & 1   \\\\\n",
       "\t 2013 & 1   \\\\\n",
       "\t 2013 & 1   \\\\\n",
       "\\end{tabular}\n"
      ],
      "text/markdown": [
       "\n",
       "| year | month |\n",
       "|---|---|\n",
       "| 2013 | 1    |\n",
       "| 2013 | 1    |\n",
       "| 2013 | 1    |\n",
       "| 2013 | 1    |\n",
       "| 2013 | 1    |\n",
       "| 2013 | 1    |\n",
       "\n"
      ],
      "text/plain": [
       "  year month\n",
       "1 2013 1    \n",
       "2 2013 1    \n",
       "3 2013 1    \n",
       "4 2013 1    \n",
       "5 2013 1    \n",
       "6 2013 1    "
      ]
     },
     "metadata": {},
     "output_type": "display_data"
    }
   ],
   "source": [
    "head(select(flights,year,month))"
   ]
  },
  {
   "cell_type": "markdown",
   "metadata": {},
   "source": [
    "### 5) rename()\n",
    "\n",
    "rename columns"
   ]
  },
  {
   "cell_type": "code",
   "execution_count": 28,
   "metadata": {},
   "outputs": [
    {
     "data": {
      "text/html": [
       "<table>\n",
       "<thead><tr><th scope=col>year</th><th scope=col>month</th><th scope=col>day</th><th scope=col>dep_time</th><th scope=col>sched_dep_time</th><th scope=col>dep_delay</th><th scope=col>arr_time</th><th scope=col>sched_arr_time</th><th scope=col>arr_delay</th><th scope=col>carrier</th><th scope=col>flight</th><th scope=col>tail_num</th><th scope=col>origin</th><th scope=col>dest</th><th scope=col>air_time</th><th scope=col>distance</th><th scope=col>hour</th><th scope=col>minute</th><th scope=col>time_hour</th></tr></thead>\n",
       "<tbody>\n",
       "\t<tr><td>2013               </td><td>1                  </td><td>1                  </td><td>517                </td><td>515                </td><td> 2                 </td><td> 830               </td><td> 819               </td><td> 11                </td><td>UA                 </td><td>1545               </td><td>N14228             </td><td>EWR                </td><td>IAH                </td><td>227                </td><td>1400               </td><td>5                  </td><td>15                 </td><td>2013-01-01 05:00:00</td></tr>\n",
       "\t<tr><td>2013               </td><td>1                  </td><td>1                  </td><td>533                </td><td>529                </td><td> 4                 </td><td> 850               </td><td> 830               </td><td> 20                </td><td>UA                 </td><td>1714               </td><td>N24211             </td><td>LGA                </td><td>IAH                </td><td>227                </td><td>1416               </td><td>5                  </td><td>29                 </td><td>2013-01-01 05:00:00</td></tr>\n",
       "\t<tr><td>2013               </td><td>1                  </td><td>1                  </td><td>542                </td><td>540                </td><td> 2                 </td><td> 923               </td><td> 850               </td><td> 33                </td><td>AA                 </td><td>1141               </td><td>N619AA             </td><td>JFK                </td><td>MIA                </td><td>160                </td><td>1089               </td><td>5                  </td><td>40                 </td><td>2013-01-01 05:00:00</td></tr>\n",
       "\t<tr><td>2013               </td><td>1                  </td><td>1                  </td><td>544                </td><td>545                </td><td>-1                 </td><td>1004               </td><td>1022               </td><td>-18                </td><td>B6                 </td><td> 725               </td><td>N804JB             </td><td>JFK                </td><td>BQN                </td><td>183                </td><td>1576               </td><td>5                  </td><td>45                 </td><td>2013-01-01 05:00:00</td></tr>\n",
       "\t<tr><td>2013               </td><td>1                  </td><td>1                  </td><td>554                </td><td>600                </td><td>-6                 </td><td> 812               </td><td> 837               </td><td>-25                </td><td>DL                 </td><td> 461               </td><td>N668DN             </td><td>LGA                </td><td>ATL                </td><td>116                </td><td> 762               </td><td>6                  </td><td> 0                 </td><td>2013-01-01 06:00:00</td></tr>\n",
       "\t<tr><td>2013               </td><td>1                  </td><td>1                  </td><td>554                </td><td>558                </td><td>-4                 </td><td> 740               </td><td> 728               </td><td> 12                </td><td>UA                 </td><td>1696               </td><td>N39463             </td><td>EWR                </td><td>ORD                </td><td>150                </td><td> 719               </td><td>5                  </td><td>58                 </td><td>2013-01-01 05:00:00</td></tr>\n",
       "</tbody>\n",
       "</table>\n"
      ],
      "text/latex": [
       "\\begin{tabular}{r|lllllllllllllllllll}\n",
       " year & month & day & dep\\_time & sched\\_dep\\_time & dep\\_delay & arr\\_time & sched\\_arr\\_time & arr\\_delay & carrier & flight & tail\\_num & origin & dest & air\\_time & distance & hour & minute & time\\_hour\\\\\n",
       "\\hline\n",
       "\t 2013                & 1                   & 1                   & 517                 & 515                 &  2                  &  830                &  819                &  11                 & UA                  & 1545                & N14228              & EWR                 & IAH                 & 227                 & 1400                & 5                   & 15                  & 2013-01-01 05:00:00\\\\\n",
       "\t 2013                & 1                   & 1                   & 533                 & 529                 &  4                  &  850                &  830                &  20                 & UA                  & 1714                & N24211              & LGA                 & IAH                 & 227                 & 1416                & 5                   & 29                  & 2013-01-01 05:00:00\\\\\n",
       "\t 2013                & 1                   & 1                   & 542                 & 540                 &  2                  &  923                &  850                &  33                 & AA                  & 1141                & N619AA              & JFK                 & MIA                 & 160                 & 1089                & 5                   & 40                  & 2013-01-01 05:00:00\\\\\n",
       "\t 2013                & 1                   & 1                   & 544                 & 545                 & -1                  & 1004                & 1022                & -18                 & B6                  &  725                & N804JB              & JFK                 & BQN                 & 183                 & 1576                & 5                   & 45                  & 2013-01-01 05:00:00\\\\\n",
       "\t 2013                & 1                   & 1                   & 554                 & 600                 & -6                  &  812                &  837                & -25                 & DL                  &  461                & N668DN              & LGA                 & ATL                 & 116                 &  762                & 6                   &  0                  & 2013-01-01 06:00:00\\\\\n",
       "\t 2013                & 1                   & 1                   & 554                 & 558                 & -4                  &  740                &  728                &  12                 & UA                  & 1696                & N39463              & EWR                 & ORD                 & 150                 &  719                & 5                   & 58                  & 2013-01-01 05:00:00\\\\\n",
       "\\end{tabular}\n"
      ],
      "text/markdown": [
       "\n",
       "| year | month | day | dep_time | sched_dep_time | dep_delay | arr_time | sched_arr_time | arr_delay | carrier | flight | tail_num | origin | dest | air_time | distance | hour | minute | time_hour |\n",
       "|---|---|---|---|---|---|---|---|---|---|---|---|---|---|---|---|---|---|---|\n",
       "| 2013                | 1                   | 1                   | 517                 | 515                 |  2                  |  830                |  819                |  11                 | UA                  | 1545                | N14228              | EWR                 | IAH                 | 227                 | 1400                | 5                   | 15                  | 2013-01-01 05:00:00 |\n",
       "| 2013                | 1                   | 1                   | 533                 | 529                 |  4                  |  850                |  830                |  20                 | UA                  | 1714                | N24211              | LGA                 | IAH                 | 227                 | 1416                | 5                   | 29                  | 2013-01-01 05:00:00 |\n",
       "| 2013                | 1                   | 1                   | 542                 | 540                 |  2                  |  923                |  850                |  33                 | AA                  | 1141                | N619AA              | JFK                 | MIA                 | 160                 | 1089                | 5                   | 40                  | 2013-01-01 05:00:00 |\n",
       "| 2013                | 1                   | 1                   | 544                 | 545                 | -1                  | 1004                | 1022                | -18                 | B6                  |  725                | N804JB              | JFK                 | BQN                 | 183                 | 1576                | 5                   | 45                  | 2013-01-01 05:00:00 |\n",
       "| 2013                | 1                   | 1                   | 554                 | 600                 | -6                  |  812                |  837                | -25                 | DL                  |  461                | N668DN              | LGA                 | ATL                 | 116                 |  762                | 6                   |  0                  | 2013-01-01 06:00:00 |\n",
       "| 2013                | 1                   | 1                   | 554                 | 558                 | -4                  |  740                |  728                |  12                 | UA                  | 1696                | N39463              | EWR                 | ORD                 | 150                 |  719                | 5                   | 58                  | 2013-01-01 05:00:00 |\n",
       "\n"
      ],
      "text/plain": [
       "  year month day dep_time sched_dep_time dep_delay arr_time sched_arr_time\n",
       "1 2013 1     1   517      515             2         830      819          \n",
       "2 2013 1     1   533      529             4         850      830          \n",
       "3 2013 1     1   542      540             2         923      850          \n",
       "4 2013 1     1   544      545            -1        1004     1022          \n",
       "5 2013 1     1   554      600            -6         812      837          \n",
       "6 2013 1     1   554      558            -4         740      728          \n",
       "  arr_delay carrier flight tail_num origin dest air_time distance hour minute\n",
       "1  11       UA      1545   N14228   EWR    IAH  227      1400     5    15    \n",
       "2  20       UA      1714   N24211   LGA    IAH  227      1416     5    29    \n",
       "3  33       AA      1141   N619AA   JFK    MIA  160      1089     5    40    \n",
       "4 -18       B6       725   N804JB   JFK    BQN  183      1576     5    45    \n",
       "5 -25       DL       461   N668DN   LGA    ATL  116       762     6     0    \n",
       "6  12       UA      1696   N39463   EWR    ORD  150       719     5    58    \n",
       "  time_hour          \n",
       "1 2013-01-01 05:00:00\n",
       "2 2013-01-01 05:00:00\n",
       "3 2013-01-01 05:00:00\n",
       "4 2013-01-01 05:00:00\n",
       "5 2013-01-01 06:00:00\n",
       "6 2013-01-01 05:00:00"
      ]
     },
     "metadata": {},
     "output_type": "display_data"
    }
   ],
   "source": [
    "head(rename(flights,tail_num=tailnum))"
   ]
  },
  {
   "cell_type": "markdown",
   "metadata": {},
   "source": [
    "### 6) distinct\n",
    "\n",
    "returns unique values"
   ]
  },
  {
   "cell_type": "code",
   "execution_count": 77,
   "metadata": {},
   "outputs": [
    {
     "data": {
      "text/html": [
       "<table>\n",
       "<thead><tr><th scope=col>carrier</th></tr></thead>\n",
       "<tbody>\n",
       "\t<tr><td>UA</td></tr>\n",
       "\t<tr><td>AA</td></tr>\n",
       "\t<tr><td>B6</td></tr>\n",
       "\t<tr><td>DL</td></tr>\n",
       "\t<tr><td>EV</td></tr>\n",
       "\t<tr><td>MQ</td></tr>\n",
       "\t<tr><td>US</td></tr>\n",
       "\t<tr><td>WN</td></tr>\n",
       "\t<tr><td>VX</td></tr>\n",
       "\t<tr><td>FL</td></tr>\n",
       "\t<tr><td>AS</td></tr>\n",
       "\t<tr><td>9E</td></tr>\n",
       "\t<tr><td>F9</td></tr>\n",
       "\t<tr><td>HA</td></tr>\n",
       "\t<tr><td>YV</td></tr>\n",
       "\t<tr><td>OO</td></tr>\n",
       "</tbody>\n",
       "</table>\n"
      ],
      "text/latex": [
       "\\begin{tabular}{r|l}\n",
       " carrier\\\\\n",
       "\\hline\n",
       "\t UA\\\\\n",
       "\t AA\\\\\n",
       "\t B6\\\\\n",
       "\t DL\\\\\n",
       "\t EV\\\\\n",
       "\t MQ\\\\\n",
       "\t US\\\\\n",
       "\t WN\\\\\n",
       "\t VX\\\\\n",
       "\t FL\\\\\n",
       "\t AS\\\\\n",
       "\t 9E\\\\\n",
       "\t F9\\\\\n",
       "\t HA\\\\\n",
       "\t YV\\\\\n",
       "\t OO\\\\\n",
       "\\end{tabular}\n"
      ],
      "text/markdown": [
       "\n",
       "| carrier |\n",
       "|---|\n",
       "| UA |\n",
       "| AA |\n",
       "| B6 |\n",
       "| DL |\n",
       "| EV |\n",
       "| MQ |\n",
       "| US |\n",
       "| WN |\n",
       "| VX |\n",
       "| FL |\n",
       "| AS |\n",
       "| 9E |\n",
       "| F9 |\n",
       "| HA |\n",
       "| YV |\n",
       "| OO |\n",
       "\n"
      ],
      "text/plain": [
       "   carrier\n",
       "1  UA     \n",
       "2  AA     \n",
       "3  B6     \n",
       "4  DL     \n",
       "5  EV     \n",
       "6  MQ     \n",
       "7  US     \n",
       "8  WN     \n",
       "9  VX     \n",
       "10 FL     \n",
       "11 AS     \n",
       "12 9E     \n",
       "13 F9     \n",
       "14 HA     \n",
       "15 YV     \n",
       "16 OO     "
      ]
     },
     "metadata": {},
     "output_type": "display_data"
    }
   ],
   "source": [
    "distinct(flights,carrier)"
   ]
  },
  {
   "cell_type": "markdown",
   "metadata": {},
   "source": [
    "### 7) mutate()\n",
    "\n",
    "adding new columns using feature engineering"
   ]
  },
  {
   "cell_type": "code",
   "execution_count": 79,
   "metadata": {},
   "outputs": [
    {
     "data": {
      "text/html": [
       "<table>\n",
       "<thead><tr><th scope=col>year</th><th scope=col>month</th><th scope=col>day</th><th scope=col>dep_time</th><th scope=col>sched_dep_time</th><th scope=col>dep_delay</th><th scope=col>arr_time</th><th scope=col>sched_arr_time</th><th scope=col>arr_delay</th><th scope=col>carrier</th><th scope=col>flight</th><th scope=col>tailnum</th><th scope=col>origin</th><th scope=col>dest</th><th scope=col>air_time</th><th scope=col>distance</th><th scope=col>hour</th><th scope=col>minute</th><th scope=col>time_hour</th><th scope=col>total_delay</th></tr></thead>\n",
       "<tbody>\n",
       "\t<tr><td>2013               </td><td>1                  </td><td>1                  </td><td>517                </td><td>515                </td><td> 2                 </td><td> 830               </td><td> 819               </td><td> 11                </td><td>UA                 </td><td>1545               </td><td>N14228             </td><td>EWR                </td><td>IAH                </td><td>227                </td><td>1400               </td><td>5                  </td><td>15                 </td><td>2013-01-01 05:00:00</td><td> 13                </td></tr>\n",
       "\t<tr><td>2013               </td><td>1                  </td><td>1                  </td><td>533                </td><td>529                </td><td> 4                 </td><td> 850               </td><td> 830               </td><td> 20                </td><td>UA                 </td><td>1714               </td><td>N24211             </td><td>LGA                </td><td>IAH                </td><td>227                </td><td>1416               </td><td>5                  </td><td>29                 </td><td>2013-01-01 05:00:00</td><td> 24                </td></tr>\n",
       "\t<tr><td>2013               </td><td>1                  </td><td>1                  </td><td>542                </td><td>540                </td><td> 2                 </td><td> 923               </td><td> 850               </td><td> 33                </td><td>AA                 </td><td>1141               </td><td>N619AA             </td><td>JFK                </td><td>MIA                </td><td>160                </td><td>1089               </td><td>5                  </td><td>40                 </td><td>2013-01-01 05:00:00</td><td> 35                </td></tr>\n",
       "\t<tr><td>2013               </td><td>1                  </td><td>1                  </td><td>544                </td><td>545                </td><td>-1                 </td><td>1004               </td><td>1022               </td><td>-18                </td><td>B6                 </td><td> 725               </td><td>N804JB             </td><td>JFK                </td><td>BQN                </td><td>183                </td><td>1576               </td><td>5                  </td><td>45                 </td><td>2013-01-01 05:00:00</td><td>-19                </td></tr>\n",
       "\t<tr><td>2013               </td><td>1                  </td><td>1                  </td><td>554                </td><td>600                </td><td>-6                 </td><td> 812               </td><td> 837               </td><td>-25                </td><td>DL                 </td><td> 461               </td><td>N668DN             </td><td>LGA                </td><td>ATL                </td><td>116                </td><td> 762               </td><td>6                  </td><td> 0                 </td><td>2013-01-01 06:00:00</td><td>-31                </td></tr>\n",
       "\t<tr><td>2013               </td><td>1                  </td><td>1                  </td><td>554                </td><td>558                </td><td>-4                 </td><td> 740               </td><td> 728               </td><td> 12                </td><td>UA                 </td><td>1696               </td><td>N39463             </td><td>EWR                </td><td>ORD                </td><td>150                </td><td> 719               </td><td>5                  </td><td>58                 </td><td>2013-01-01 05:00:00</td><td>  8                </td></tr>\n",
       "</tbody>\n",
       "</table>\n"
      ],
      "text/latex": [
       "\\begin{tabular}{r|llllllllllllllllllll}\n",
       " year & month & day & dep\\_time & sched\\_dep\\_time & dep\\_delay & arr\\_time & sched\\_arr\\_time & arr\\_delay & carrier & flight & tailnum & origin & dest & air\\_time & distance & hour & minute & time\\_hour & total\\_delay\\\\\n",
       "\\hline\n",
       "\t 2013                & 1                   & 1                   & 517                 & 515                 &  2                  &  830                &  819                &  11                 & UA                  & 1545                & N14228              & EWR                 & IAH                 & 227                 & 1400                & 5                   & 15                  & 2013-01-01 05:00:00 &  13                \\\\\n",
       "\t 2013                & 1                   & 1                   & 533                 & 529                 &  4                  &  850                &  830                &  20                 & UA                  & 1714                & N24211              & LGA                 & IAH                 & 227                 & 1416                & 5                   & 29                  & 2013-01-01 05:00:00 &  24                \\\\\n",
       "\t 2013                & 1                   & 1                   & 542                 & 540                 &  2                  &  923                &  850                &  33                 & AA                  & 1141                & N619AA              & JFK                 & MIA                 & 160                 & 1089                & 5                   & 40                  & 2013-01-01 05:00:00 &  35                \\\\\n",
       "\t 2013                & 1                   & 1                   & 544                 & 545                 & -1                  & 1004                & 1022                & -18                 & B6                  &  725                & N804JB              & JFK                 & BQN                 & 183                 & 1576                & 5                   & 45                  & 2013-01-01 05:00:00 & -19                \\\\\n",
       "\t 2013                & 1                   & 1                   & 554                 & 600                 & -6                  &  812                &  837                & -25                 & DL                  &  461                & N668DN              & LGA                 & ATL                 & 116                 &  762                & 6                   &  0                  & 2013-01-01 06:00:00 & -31                \\\\\n",
       "\t 2013                & 1                   & 1                   & 554                 & 558                 & -4                  &  740                &  728                &  12                 & UA                  & 1696                & N39463              & EWR                 & ORD                 & 150                 &  719                & 5                   & 58                  & 2013-01-01 05:00:00 &   8                \\\\\n",
       "\\end{tabular}\n"
      ],
      "text/markdown": [
       "\n",
       "| year | month | day | dep_time | sched_dep_time | dep_delay | arr_time | sched_arr_time | arr_delay | carrier | flight | tailnum | origin | dest | air_time | distance | hour | minute | time_hour | total_delay |\n",
       "|---|---|---|---|---|---|---|---|---|---|---|---|---|---|---|---|---|---|---|---|\n",
       "| 2013                | 1                   | 1                   | 517                 | 515                 |  2                  |  830                |  819                |  11                 | UA                  | 1545                | N14228              | EWR                 | IAH                 | 227                 | 1400                | 5                   | 15                  | 2013-01-01 05:00:00 |  13                 |\n",
       "| 2013                | 1                   | 1                   | 533                 | 529                 |  4                  |  850                |  830                |  20                 | UA                  | 1714                | N24211              | LGA                 | IAH                 | 227                 | 1416                | 5                   | 29                  | 2013-01-01 05:00:00 |  24                 |\n",
       "| 2013                | 1                   | 1                   | 542                 | 540                 |  2                  |  923                |  850                |  33                 | AA                  | 1141                | N619AA              | JFK                 | MIA                 | 160                 | 1089                | 5                   | 40                  | 2013-01-01 05:00:00 |  35                 |\n",
       "| 2013                | 1                   | 1                   | 544                 | 545                 | -1                  | 1004                | 1022                | -18                 | B6                  |  725                | N804JB              | JFK                 | BQN                 | 183                 | 1576                | 5                   | 45                  | 2013-01-01 05:00:00 | -19                 |\n",
       "| 2013                | 1                   | 1                   | 554                 | 600                 | -6                  |  812                |  837                | -25                 | DL                  |  461                | N668DN              | LGA                 | ATL                 | 116                 |  762                | 6                   |  0                  | 2013-01-01 06:00:00 | -31                 |\n",
       "| 2013                | 1                   | 1                   | 554                 | 558                 | -4                  |  740                |  728                |  12                 | UA                  | 1696                | N39463              | EWR                 | ORD                 | 150                 |  719                | 5                   | 58                  | 2013-01-01 05:00:00 |   8                 |\n",
       "\n"
      ],
      "text/plain": [
       "  year month day dep_time sched_dep_time dep_delay arr_time sched_arr_time\n",
       "1 2013 1     1   517      515             2         830      819          \n",
       "2 2013 1     1   533      529             4         850      830          \n",
       "3 2013 1     1   542      540             2         923      850          \n",
       "4 2013 1     1   544      545            -1        1004     1022          \n",
       "5 2013 1     1   554      600            -6         812      837          \n",
       "6 2013 1     1   554      558            -4         740      728          \n",
       "  arr_delay carrier flight tailnum origin dest air_time distance hour minute\n",
       "1  11       UA      1545   N14228  EWR    IAH  227      1400     5    15    \n",
       "2  20       UA      1714   N24211  LGA    IAH  227      1416     5    29    \n",
       "3  33       AA      1141   N619AA  JFK    MIA  160      1089     5    40    \n",
       "4 -18       B6       725   N804JB  JFK    BQN  183      1576     5    45    \n",
       "5 -25       DL       461   N668DN  LGA    ATL  116       762     6     0    \n",
       "6  12       UA      1696   N39463  EWR    ORD  150       719     5    58    \n",
       "  time_hour           total_delay\n",
       "1 2013-01-01 05:00:00  13        \n",
       "2 2013-01-01 05:00:00  24        \n",
       "3 2013-01-01 05:00:00  35        \n",
       "4 2013-01-01 05:00:00 -19        \n",
       "5 2013-01-01 06:00:00 -31        \n",
       "6 2013-01-01 05:00:00   8        "
      ]
     },
     "metadata": {},
     "output_type": "display_data"
    }
   ],
   "source": [
    "head(mutate(flights,total_delay = arr_delay + dep_delay))"
   ]
  },
  {
   "cell_type": "markdown",
   "metadata": {},
   "source": [
    "### transmute()\n",
    "\n",
    "returns only new columns"
   ]
  },
  {
   "cell_type": "code",
   "execution_count": 39,
   "metadata": {},
   "outputs": [
    {
     "data": {
      "text/html": [
       "<table>\n",
       "<thead><tr><th scope=col>total_delay</th></tr></thead>\n",
       "<tbody>\n",
       "\t<tr><td> 13</td></tr>\n",
       "\t<tr><td> 24</td></tr>\n",
       "\t<tr><td> 35</td></tr>\n",
       "\t<tr><td>-19</td></tr>\n",
       "\t<tr><td>-31</td></tr>\n",
       "\t<tr><td>  8</td></tr>\n",
       "</tbody>\n",
       "</table>\n"
      ],
      "text/latex": [
       "\\begin{tabular}{r|l}\n",
       " total\\_delay\\\\\n",
       "\\hline\n",
       "\t  13\\\\\n",
       "\t  24\\\\\n",
       "\t  35\\\\\n",
       "\t -19\\\\\n",
       "\t -31\\\\\n",
       "\t   8\\\\\n",
       "\\end{tabular}\n"
      ],
      "text/markdown": [
       "\n",
       "| total_delay |\n",
       "|---|\n",
       "|  13 |\n",
       "|  24 |\n",
       "|  35 |\n",
       "| -19 |\n",
       "| -31 |\n",
       "|   8 |\n",
       "\n"
      ],
      "text/plain": [
       "  total_delay\n",
       "1  13        \n",
       "2  24        \n",
       "3  35        \n",
       "4 -19        \n",
       "5 -31        \n",
       "6   8        "
      ]
     },
     "metadata": {},
     "output_type": "display_data"
    }
   ],
   "source": [
    "head(transmute(flights, total_delay = arr_delay+dep_delay))\n"
   ]
  },
  {
   "cell_type": "markdown",
   "metadata": {},
   "source": [
    "### 8) summarize()\n",
    "\n",
    "summarize dataframe with single value using aggregate function"
   ]
  },
  {
   "cell_type": "code",
   "execution_count": 41,
   "metadata": {},
   "outputs": [
    {
     "data": {
      "text/html": [
       "<table>\n",
       "<thead><tr><th scope=col>avg_air_time</th></tr></thead>\n",
       "<tbody>\n",
       "\t<tr><td>150.6865</td></tr>\n",
       "</tbody>\n",
       "</table>\n"
      ],
      "text/latex": [
       "\\begin{tabular}{r|l}\n",
       " avg\\_air\\_time\\\\\n",
       "\\hline\n",
       "\t 150.6865\\\\\n",
       "\\end{tabular}\n"
      ],
      "text/markdown": [
       "\n",
       "| avg_air_time |\n",
       "|---|\n",
       "| 150.6865 |\n",
       "\n"
      ],
      "text/plain": [
       "  avg_air_time\n",
       "1 150.6865    "
      ]
     },
     "metadata": {},
     "output_type": "display_data"
    }
   ],
   "source": [
    "# na.rm=TRUE for removing nan\n",
    "\n",
    "summarise(flights,avg_air_time=mean(air_time,na.rm=TRUE))"
   ]
  },
  {
   "cell_type": "markdown",
   "metadata": {},
   "source": [
    "### 9) Sampling methods\n",
    "\n",
    "select sample from dataframe"
   ]
  },
  {
   "cell_type": "markdown",
   "metadata": {},
   "source": [
    "#### sample_n()\n",
    "select random number of rows"
   ]
  },
  {
   "cell_type": "code",
   "execution_count": 81,
   "metadata": {},
   "outputs": [
    {
     "data": {
      "text/html": [
       "<table>\n",
       "<thead><tr><th scope=col>year</th><th scope=col>month</th><th scope=col>day</th><th scope=col>dep_time</th><th scope=col>sched_dep_time</th><th scope=col>dep_delay</th><th scope=col>arr_time</th><th scope=col>sched_arr_time</th><th scope=col>arr_delay</th><th scope=col>carrier</th><th scope=col>flight</th><th scope=col>tailnum</th><th scope=col>origin</th><th scope=col>dest</th><th scope=col>air_time</th><th scope=col>distance</th><th scope=col>hour</th><th scope=col>minute</th><th scope=col>time_hour</th></tr></thead>\n",
       "<tbody>\n",
       "\t<tr><td>2013               </td><td>10                 </td><td>30                 </td><td> 739               </td><td> 745               </td><td>-6                 </td><td> 950               </td><td>1009               </td><td>-19                </td><td>DL                 </td><td> 807               </td><td>N314NB             </td><td>EWR                </td><td>ATL                </td><td>107                </td><td>746                </td><td> 7                 </td><td>45                 </td><td>2013-10-30 07:00:00</td></tr>\n",
       "\t<tr><td>2013               </td><td> 5                 </td><td>13                 </td><td>1155               </td><td>1200               </td><td>-5                 </td><td>1306               </td><td>1311               </td><td> -5                </td><td>US                 </td><td>2173               </td><td>N763US             </td><td>LGA                </td><td>DCA                </td><td> 47                </td><td>214                </td><td>12                 </td><td> 0                 </td><td>2013-05-13 12:00:00</td></tr>\n",
       "\t<tr><td>2013               </td><td> 5                 </td><td>17                 </td><td> 603               </td><td> 610               </td><td>-7                 </td><td> 709               </td><td> 723               </td><td>-14                </td><td>EV                 </td><td>4302               </td><td>N14960             </td><td>EWR                </td><td>IAD                </td><td> 47                </td><td>212                </td><td> 6                 </td><td>10                 </td><td>2013-05-17 06:00:00</td></tr>\n",
       "\t<tr><td>2013               </td><td> 2                 </td><td>13                 </td><td>1826               </td><td>1815               </td><td>11                 </td><td>1955               </td><td>1958               </td><td> -3                </td><td>9E                 </td><td>4019               </td><td>N8971A             </td><td>JFK                </td><td>RIC                </td><td> 61                </td><td>288                </td><td>18                 </td><td>15                 </td><td>2013-02-13 18:00:00</td></tr>\n",
       "\t<tr><td>2013               </td><td> 9                 </td><td>11                 </td><td>1025               </td><td>1026               </td><td>-1                 </td><td>1121               </td><td>1130               </td><td> -9                </td><td>B6                 </td><td> 518               </td><td>N236JB             </td><td>JFK                </td><td>BOS                </td><td> 40                </td><td>187                </td><td>10                 </td><td>26                 </td><td>2013-09-11 10:00:00</td></tr>\n",
       "</tbody>\n",
       "</table>\n"
      ],
      "text/latex": [
       "\\begin{tabular}{r|lllllllllllllllllll}\n",
       " year & month & day & dep\\_time & sched\\_dep\\_time & dep\\_delay & arr\\_time & sched\\_arr\\_time & arr\\_delay & carrier & flight & tailnum & origin & dest & air\\_time & distance & hour & minute & time\\_hour\\\\\n",
       "\\hline\n",
       "\t 2013                & 10                  & 30                  &  739                &  745                & -6                  &  950                & 1009                & -19                 & DL                  &  807                & N314NB              & EWR                 & ATL                 & 107                 & 746                 &  7                  & 45                  & 2013-10-30 07:00:00\\\\\n",
       "\t 2013                &  5                  & 13                  & 1155                & 1200                & -5                  & 1306                & 1311                &  -5                 & US                  & 2173                & N763US              & LGA                 & DCA                 &  47                 & 214                 & 12                  &  0                  & 2013-05-13 12:00:00\\\\\n",
       "\t 2013                &  5                  & 17                  &  603                &  610                & -7                  &  709                &  723                & -14                 & EV                  & 4302                & N14960              & EWR                 & IAD                 &  47                 & 212                 &  6                  & 10                  & 2013-05-17 06:00:00\\\\\n",
       "\t 2013                &  2                  & 13                  & 1826                & 1815                & 11                  & 1955                & 1958                &  -3                 & 9E                  & 4019                & N8971A              & JFK                 & RIC                 &  61                 & 288                 & 18                  & 15                  & 2013-02-13 18:00:00\\\\\n",
       "\t 2013                &  9                  & 11                  & 1025                & 1026                & -1                  & 1121                & 1130                &  -9                 & B6                  &  518                & N236JB              & JFK                 & BOS                 &  40                 & 187                 & 10                  & 26                  & 2013-09-11 10:00:00\\\\\n",
       "\\end{tabular}\n"
      ],
      "text/markdown": [
       "\n",
       "| year | month | day | dep_time | sched_dep_time | dep_delay | arr_time | sched_arr_time | arr_delay | carrier | flight | tailnum | origin | dest | air_time | distance | hour | minute | time_hour |\n",
       "|---|---|---|---|---|---|---|---|---|---|---|---|---|---|---|---|---|---|---|\n",
       "| 2013                | 10                  | 30                  |  739                |  745                | -6                  |  950                | 1009                | -19                 | DL                  |  807                | N314NB              | EWR                 | ATL                 | 107                 | 746                 |  7                  | 45                  | 2013-10-30 07:00:00 |\n",
       "| 2013                |  5                  | 13                  | 1155                | 1200                | -5                  | 1306                | 1311                |  -5                 | US                  | 2173                | N763US              | LGA                 | DCA                 |  47                 | 214                 | 12                  |  0                  | 2013-05-13 12:00:00 |\n",
       "| 2013                |  5                  | 17                  |  603                |  610                | -7                  |  709                |  723                | -14                 | EV                  | 4302                | N14960              | EWR                 | IAD                 |  47                 | 212                 |  6                  | 10                  | 2013-05-17 06:00:00 |\n",
       "| 2013                |  2                  | 13                  | 1826                | 1815                | 11                  | 1955                | 1958                |  -3                 | 9E                  | 4019                | N8971A              | JFK                 | RIC                 |  61                 | 288                 | 18                  | 15                  | 2013-02-13 18:00:00 |\n",
       "| 2013                |  9                  | 11                  | 1025                | 1026                | -1                  | 1121                | 1130                |  -9                 | B6                  |  518                | N236JB              | JFK                 | BOS                 |  40                 | 187                 | 10                  | 26                  | 2013-09-11 10:00:00 |\n",
       "\n"
      ],
      "text/plain": [
       "  year month day dep_time sched_dep_time dep_delay arr_time sched_arr_time\n",
       "1 2013 10    30   739      745           -6         950     1009          \n",
       "2 2013  5    13  1155     1200           -5        1306     1311          \n",
       "3 2013  5    17   603      610           -7         709      723          \n",
       "4 2013  2    13  1826     1815           11        1955     1958          \n",
       "5 2013  9    11  1025     1026           -1        1121     1130          \n",
       "  arr_delay carrier flight tailnum origin dest air_time distance hour minute\n",
       "1 -19       DL       807   N314NB  EWR    ATL  107      746       7   45    \n",
       "2  -5       US      2173   N763US  LGA    DCA   47      214      12    0    \n",
       "3 -14       EV      4302   N14960  EWR    IAD   47      212       6   10    \n",
       "4  -3       9E      4019   N8971A  JFK    RIC   61      288      18   15    \n",
       "5  -9       B6       518   N236JB  JFK    BOS   40      187      10   26    \n",
       "  time_hour          \n",
       "1 2013-10-30 07:00:00\n",
       "2 2013-05-13 12:00:00\n",
       "3 2013-05-17 06:00:00\n",
       "4 2013-02-13 18:00:00\n",
       "5 2013-09-11 10:00:00"
      ]
     },
     "metadata": {},
     "output_type": "display_data"
    }
   ],
   "source": [
    "sample_n(flights,5)"
   ]
  },
  {
   "cell_type": "markdown",
   "metadata": {},
   "source": [
    "#### sample_frac()\n",
    "select random fraction of data"
   ]
  },
  {
   "cell_type": "code",
   "execution_count": 54,
   "metadata": {},
   "outputs": [
    {
     "data": {
      "text/html": [
       "<table>\n",
       "<thead><tr><th scope=col>year</th><th scope=col>month</th><th scope=col>day</th><th scope=col>dep_time</th><th scope=col>sched_dep_time</th><th scope=col>dep_delay</th><th scope=col>arr_time</th><th scope=col>sched_arr_time</th><th scope=col>arr_delay</th><th scope=col>carrier</th><th scope=col>flight</th><th scope=col>tailnum</th><th scope=col>origin</th><th scope=col>dest</th><th scope=col>air_time</th><th scope=col>distance</th><th scope=col>hour</th><th scope=col>minute</th><th scope=col>time_hour</th></tr></thead>\n",
       "<tbody>\n",
       "\t<tr><td>2013               </td><td> 7                 </td><td> 8                 </td><td>1516               </td><td>1515               </td><td>  1                </td><td>1809               </td><td>1816               </td><td> -7                </td><td>DL                 </td><td>2181               </td><td>N942DL             </td><td>LGA                </td><td>MCO                </td><td>130                </td><td> 950               </td><td>15                 </td><td>15                 </td><td>2013-07-08 15:00:00</td></tr>\n",
       "\t<tr><td>2013               </td><td> 6                 </td><td>20                 </td><td> 800               </td><td> 800               </td><td>  0                </td><td>1048               </td><td>1104               </td><td>-16                </td><td>DL                 </td><td>2190               </td><td>N358NW             </td><td>JFK                </td><td>MIA                </td><td>147                </td><td>1089               </td><td> 8                 </td><td> 0                 </td><td>2013-06-20 08:00:00</td></tr>\n",
       "\t<tr><td>2013               </td><td> 4                 </td><td>15                 </td><td>1212               </td><td>1215               </td><td> -3                </td><td>1344               </td><td>1350               </td><td> -6                </td><td>WN                 </td><td> 529               </td><td>N502SW             </td><td>EWR                </td><td>STL                </td><td>137                </td><td> 872               </td><td>12                 </td><td>15                 </td><td>2013-04-15 12:00:00</td></tr>\n",
       "\t<tr><td>2013               </td><td> 2                 </td><td>26                 </td><td>2245               </td><td>2245               </td><td>  0                </td><td>2354               </td><td>2354               </td><td>  0                </td><td>B6                 </td><td> 608               </td><td>N228JB             </td><td>JFK                </td><td>PWM                </td><td> 43                </td><td> 273               </td><td>22                 </td><td>45                 </td><td>2013-02-26 22:00:00</td></tr>\n",
       "\t<tr><td>2013               </td><td> 9                 </td><td> 9                 </td><td>1059               </td><td>1038               </td><td> 21                </td><td>1245               </td><td>1247               </td><td> -2                </td><td>EV                 </td><td>4237               </td><td>N11150             </td><td>EWR                </td><td>OMA                </td><td>151                </td><td>1134               </td><td>10                 </td><td>38                 </td><td>2013-09-09 10:00:00</td></tr>\n",
       "\t<tr><td>2013               </td><td> 5                 </td><td>19                 </td><td> 623               </td><td> 630               </td><td> -7                </td><td> 903               </td><td> 915               </td><td>-12                </td><td>UA                 </td><td>1158               </td><td>N16701             </td><td>LGA                </td><td>IAH                </td><td>199                </td><td>1416               </td><td> 6                 </td><td>30                 </td><td>2013-05-19 06:00:00</td></tr>\n",
       "\t<tr><td>2013               </td><td> 8                 </td><td> 5                 </td><td>1949               </td><td>2000               </td><td>-11                </td><td>2251               </td><td>2315               </td><td>-24                </td><td>AA                 </td><td>1709               </td><td>N3HHAA             </td><td>LGA                </td><td>MIA                </td><td>135                </td><td>1096               </td><td>20                 </td><td> 0                 </td><td>2013-08-05 20:00:00</td></tr>\n",
       "\t<tr><td>2013               </td><td> 6                 </td><td>13                 </td><td>1636               </td><td>1629               </td><td>  7                </td><td>1919               </td><td>1922               </td><td> -3                </td><td>UA                 </td><td> 392               </td><td>N581UA             </td><td>EWR                </td><td>LAX                </td><td>324                </td><td>2454               </td><td>16                 </td><td>29                 </td><td>2013-06-13 16:00:00</td></tr>\n",
       "\t<tr><td>2013               </td><td> 3                 </td><td> 4                 </td><td> 713               </td><td> 600               </td><td> 73                </td><td> 858               </td><td> 756               </td><td> 62                </td><td>EV                 </td><td>5068               </td><td>N612QX             </td><td>EWR                </td><td>DTW                </td><td> 77                </td><td> 488               </td><td> 6                 </td><td> 0                 </td><td>2013-03-04 06:00:00</td></tr>\n",
       "\t<tr><td>2013               </td><td>11                 </td><td>16                 </td><td>1540               </td><td>1540               </td><td>  0                </td><td>1702               </td><td>1715               </td><td>-13                </td><td>UA                 </td><td> 527               </td><td>N808UA             </td><td>EWR                </td><td>CLE                </td><td> 66                </td><td> 404               </td><td>15                 </td><td>40                 </td><td>2013-11-16 15:00:00</td></tr>\n",
       "\t<tr><td>2013               </td><td> 9                 </td><td>22                 </td><td>1732               </td><td>1700               </td><td> 32                </td><td>1959               </td><td>1937               </td><td> 22                </td><td>DL                 </td><td>1499               </td><td>N969DL             </td><td>LGA                </td><td>ATL                </td><td>106                </td><td> 762               </td><td>17                 </td><td> 0                 </td><td>2013-09-22 17:00:00</td></tr>\n",
       "\t<tr><td>2013               </td><td> 7                 </td><td>18                 </td><td>1456               </td><td>1315               </td><td>101                </td><td>1642               </td><td>1455               </td><td>107                </td><td>AA                 </td><td> 331               </td><td>N493AA             </td><td>LGA                </td><td>ORD                </td><td>105                </td><td> 733               </td><td>13                 </td><td>15                 </td><td>2013-07-18 13:00:00</td></tr>\n",
       "\t<tr><td>2013               </td><td> 2                 </td><td>26                 </td><td>1135               </td><td>1140               </td><td> -5                </td><td>1513               </td><td>1459               </td><td> 14                </td><td>DL                 </td><td>1421               </td><td>N323NB             </td><td>LGA                </td><td>RSW                </td><td>176                </td><td>1080               </td><td>11                 </td><td>40                 </td><td>2013-02-26 11:00:00</td></tr>\n",
       "\t<tr><td>2013               </td><td> 6                 </td><td>10                 </td><td> 628               </td><td> 630               </td><td> -2                </td><td> 907               </td><td> 848               </td><td> 19                </td><td>DL                 </td><td> 575               </td><td>N784NC             </td><td>EWR                </td><td>ATL                </td><td>123                </td><td> 746               </td><td> 6                 </td><td>30                 </td><td>2013-06-10 06:00:00</td></tr>\n",
       "\t<tr><td>2013               </td><td> 4                 </td><td>11                 </td><td>1413               </td><td>1410               </td><td>  3                </td><td>1632               </td><td>1643               </td><td>-11                </td><td>DL                 </td><td>2043               </td><td>N360NB             </td><td>JFK                </td><td>ATL                </td><td>109                </td><td> 760               </td><td>14                 </td><td>10                 </td><td>2013-04-11 14:00:00</td></tr>\n",
       "\t<tr><td>2013               </td><td> 6                 </td><td>17                 </td><td>1602               </td><td>1600               </td><td>  2                </td><td>1750               </td><td>1733               </td><td> 17                </td><td>UA                 </td><td>1444               </td><td>N27213             </td><td>EWR                </td><td>ORD                </td><td>124                </td><td> 719               </td><td>16                 </td><td> 0                 </td><td>2013-06-17 16:00:00</td></tr>\n",
       "\t<tr><td>2013               </td><td>11                 </td><td> 5                 </td><td> 651               </td><td> 655               </td><td> -4                </td><td> 946               </td><td> 920               </td><td> 26                </td><td>AA                 </td><td>1263               </td><td>N613AA             </td><td>JFK                </td><td>LAS                </td><td>329                </td><td>2248               </td><td> 6                 </td><td>55                 </td><td>2013-11-05 06:00:00</td></tr>\n",
       "\t<tr><td>2013               </td><td>10                 </td><td>24                 </td><td> 953               </td><td> 935               </td><td> 18                </td><td>1249               </td><td>1230               </td><td> 19                </td><td>B6                 </td><td> 223               </td><td>N804JB             </td><td>JFK                </td><td>LAX                </td><td>329                </td><td>2475               </td><td> 9                 </td><td>35                 </td><td>2013-10-24 09:00:00</td></tr>\n",
       "\t<tr><td>2013               </td><td> 7                 </td><td>30                 </td><td> 653               </td><td> 700               </td><td> -7                </td><td> 817               </td><td> 833               </td><td>-16                </td><td>UA                 </td><td> 544               </td><td>N471UA             </td><td>LGA                </td><td>ORD                </td><td>113                </td><td> 733               </td><td> 7                 </td><td> 0                 </td><td>2013-07-30 07:00:00</td></tr>\n",
       "\t<tr><td>2013               </td><td>12                 </td><td>31                 </td><td> 857               </td><td> 900               </td><td> -3                </td><td>1230               </td><td>1206               </td><td> 24                </td><td>B6                 </td><td>1701               </td><td>N529JB             </td><td>JFK                </td><td>FLL                </td><td>181                </td><td>1069               </td><td> 9                 </td><td> 0                 </td><td>2013-12-31 09:00:00</td></tr>\n",
       "\t<tr><td>2013               </td><td> 5                 </td><td> 8                 </td><td>1618               </td><td>1545               </td><td> 33                </td><td>1818               </td><td>1802               </td><td> 16                </td><td>DL                 </td><td>1942               </td><td>N340NB             </td><td>EWR                </td><td>ATL                </td><td> 99                </td><td> 746               </td><td>15                 </td><td>45                 </td><td>2013-05-08 15:00:00</td></tr>\n",
       "\t<tr><td>2013               </td><td> 5                 </td><td>30                 </td><td>2028               </td><td>2028               </td><td>  0                </td><td>2325               </td><td>2336               </td><td>-11                </td><td>UA                 </td><td>1241               </td><td>N37420             </td><td>EWR                </td><td>TPA                </td><td>154                </td><td> 997               </td><td>20                 </td><td>28                 </td><td>2013-05-30 20:00:00</td></tr>\n",
       "\t<tr><td>2013               </td><td> 8                 </td><td>18                 </td><td>1345               </td><td>1345               </td><td>  0                </td><td>1605               </td><td>1617               </td><td>-12                </td><td>UA                 </td><td> 323               </td><td>N444UA             </td><td>EWR                </td><td>DFW                </td><td>178                </td><td>1372               </td><td>13                 </td><td>45                 </td><td>2013-08-18 13:00:00</td></tr>\n",
       "\t<tr><td>2013               </td><td> 3                 </td><td> 4                 </td><td> 700               </td><td> 700               </td><td>  0                </td><td> 820               </td><td> 807               </td><td> 13                </td><td>US                 </td><td>2116               </td><td>N951UW             </td><td>LGA                </td><td>BOS                </td><td> 39                </td><td> 184               </td><td> 7                 </td><td> 0                 </td><td>2013-03-04 07:00:00</td></tr>\n",
       "\t<tr><td>2013               </td><td> 8                 </td><td>18                 </td><td> 823               </td><td> 829               </td><td> -6                </td><td>1008               </td><td>1028               </td><td>-20                </td><td>DL                 </td><td>1157               </td><td>N365NB             </td><td>EWR                </td><td>MSP                </td><td>139                </td><td>1008               </td><td> 8                 </td><td>29                 </td><td>2013-08-18 08:00:00</td></tr>\n",
       "\t<tr><td>2013               </td><td> 4                 </td><td> 2                 </td><td>1205               </td><td>1208               </td><td> -3                </td><td>1500               </td><td>1504               </td><td> -4                </td><td>UA                 </td><td> 292               </td><td>N821UA             </td><td>EWR                </td><td>IAH                </td><td>216                </td><td>1400               </td><td>12                 </td><td> 8                 </td><td>2013-04-02 12:00:00</td></tr>\n",
       "\t<tr><td>2013               </td><td> 7                 </td><td>28                 </td><td> 727               </td><td> 730               </td><td> -3                </td><td>1016               </td><td>1025               </td><td> -9                </td><td>AA                 </td><td>1757               </td><td>N3FYAA             </td><td>JFK                </td><td>TPA                </td><td>148                </td><td>1005               </td><td> 7                 </td><td>30                 </td><td>2013-07-28 07:00:00</td></tr>\n",
       "\t<tr><td>2013               </td><td> 1                 </td><td>21                 </td><td>1400               </td><td>1345               </td><td> 15                </td><td>1716               </td><td>1656               </td><td> 20                </td><td>B6                 </td><td>  83               </td><td>N652JB             </td><td>JFK                </td><td>SEA                </td><td>344                </td><td>2422               </td><td>13                 </td><td>45                 </td><td>2013-01-21 13:00:00</td></tr>\n",
       "\t<tr><td>2013               </td><td> 7                 </td><td>28                 </td><td> 732               </td><td> 735               </td><td> -3                </td><td>1003               </td><td>1005               </td><td> -2                </td><td>AA                 </td><td>1949               </td><td>N3JJAA             </td><td>JFK                </td><td>LAS                </td><td>305                </td><td>2248               </td><td> 7                 </td><td>35                 </td><td>2013-07-28 07:00:00</td></tr>\n",
       "\t<tr><td>2013               </td><td> 5                 </td><td>31                 </td><td>1424               </td><td>1430               </td><td> -6                </td><td>1813               </td><td>1845               </td><td>-32                </td><td>AA                 </td><td>1635               </td><td>N5FJAA             </td><td>JFK                </td><td>SJU                </td><td>203                </td><td>1598               </td><td>14                 </td><td>30                 </td><td>2013-05-31 14:00:00</td></tr>\n",
       "\t<tr><td>...</td><td>...</td><td>...</td><td>...</td><td>...</td><td>...</td><td>...</td><td>...</td><td>...</td><td>...</td><td>...</td><td>...</td><td>...</td><td>...</td><td>...</td><td>...</td><td>...</td><td>...</td><td>...</td></tr>\n",
       "\t<tr><td>2013               </td><td> 5                 </td><td> 7                 </td><td> 751               </td><td> 755               </td><td> -4                </td><td> 909               </td><td> 910               </td><td> -1                </td><td>MQ                 </td><td>4418               </td><td>N827MQ             </td><td>JFK                </td><td>DCA                </td><td> 45                </td><td> 213               </td><td> 7                 </td><td>55                 </td><td>2013-05-07 07:00:00</td></tr>\n",
       "\t<tr><td>2013               </td><td> 2                 </td><td>22                 </td><td>2053               </td><td>1830               </td><td>143                </td><td>2255               </td><td>2044               </td><td>131                </td><td>EV                 </td><td>5203               </td><td>N166PQ             </td><td>EWR                </td><td>DTW                </td><td> 85                </td><td> 488               </td><td>18                 </td><td>30                 </td><td>2013-02-22 18:00:00</td></tr>\n",
       "\t<tr><td>2013               </td><td>11                 </td><td>28                 </td><td> 858               </td><td> 900               </td><td> -2                </td><td>1203               </td><td>1210               </td><td> -7                </td><td>B6                 </td><td> 189               </td><td>N583JB             </td><td>JFK                </td><td>SAN                </td><td>342                </td><td>2446               </td><td> 9                 </td><td> 0                 </td><td>2013-11-28 09:00:00</td></tr>\n",
       "\t<tr><td>2013               </td><td>11                 </td><td>15                 </td><td> 641               </td><td> 645               </td><td> -4                </td><td> 812               </td><td> 820               </td><td> -8                </td><td>9E                 </td><td>3496               </td><td>N923XJ             </td><td>LGA                </td><td>PIT                </td><td> 56                </td><td> 335               </td><td> 6                 </td><td>45                 </td><td>2013-11-15 06:00:00</td></tr>\n",
       "\t<tr><td>2013               </td><td> 9                 </td><td>13                 </td><td> 759               </td><td> 800               </td><td> -1                </td><td> 902               </td><td> 904               </td><td> -2                </td><td>B6                 </td><td>1491               </td><td>N247JB             </td><td>JFK                </td><td>ACK                </td><td> 44                </td><td> 199               </td><td> 8                 </td><td> 0                 </td><td>2013-09-13 08:00:00</td></tr>\n",
       "\t<tr><td>2013               </td><td> 8                 </td><td> 7                 </td><td>1253               </td><td>1300               </td><td> -7                </td><td>1349               </td><td>1409               </td><td>-20                </td><td>US                 </td><td>2148               </td><td>N950UW             </td><td>LGA                </td><td>BOS                </td><td> 33                </td><td> 184               </td><td>13                 </td><td> 0                 </td><td>2013-08-07 13:00:00</td></tr>\n",
       "\t<tr><td>2013               </td><td>12                 </td><td>27                 </td><td>1923               </td><td>1930               </td><td> -7                </td><td>2038               </td><td>2108               </td><td>-30                </td><td>9E                 </td><td>2959               </td><td>N819AY             </td><td>JFK                </td><td>SYR                </td><td> 42                </td><td> 209               </td><td>19                 </td><td>30                 </td><td>2013-12-27 19:00:00</td></tr>\n",
       "\t<tr><td>2013               </td><td> 3                 </td><td>17                 </td><td>2100               </td><td>1935               </td><td> 85                </td><td>  17               </td><td>2233               </td><td>104                </td><td>UA                 </td><td>1654               </td><td>N12221             </td><td>EWR                </td><td>SAN                </td><td>355                </td><td>2425               </td><td>19                 </td><td>35                 </td><td>2013-03-17 19:00:00</td></tr>\n",
       "\t<tr><td>2013               </td><td> 7                 </td><td>28                 </td><td>  12               </td><td>1924               </td><td>288                </td><td> 312               </td><td>2220               </td><td>292                </td><td>UA                 </td><td> 755               </td><td>N577UA             </td><td>EWR                </td><td>LAX                </td><td>338                </td><td>2454               </td><td>19                 </td><td>24                 </td><td>2013-07-28 19:00:00</td></tr>\n",
       "\t<tr><td>2013               </td><td> 8                 </td><td> 8                 </td><td> 726               </td><td> 730               </td><td> -4                </td><td>1007               </td><td>1025               </td><td>-18                </td><td>AA                 </td><td>1757               </td><td>N3DDAA             </td><td>JFK                </td><td>TPA                </td><td>133                </td><td>1005               </td><td> 7                 </td><td>30                 </td><td>2013-08-08 07:00:00</td></tr>\n",
       "\t<tr><td>2013               </td><td>11                 </td><td>16                 </td><td> 626               </td><td> 630               </td><td> -4                </td><td> 856               </td><td> 901               </td><td> -5                </td><td>DL                 </td><td> 479               </td><td>N395DN             </td><td>JFK                </td><td>ATL                </td><td>126                </td><td> 760               </td><td> 6                 </td><td>30                 </td><td>2013-11-16 06:00:00</td></tr>\n",
       "\t<tr><td>2013               </td><td> 2                 </td><td>10                 </td><td>1117               </td><td>1125               </td><td> -8                </td><td>1303               </td><td>1305               </td><td> -2                </td><td>AA                 </td><td> 327               </td><td>N3CXAA             </td><td>LGA                </td><td>ORD                </td><td>144                </td><td> 733               </td><td>11                 </td><td>25                 </td><td>2013-02-10 11:00:00</td></tr>\n",
       "\t<tr><td>2013               </td><td> 5                 </td><td> 9                 </td><td> 607               </td><td> 610               </td><td> -3                </td><td> 718               </td><td> 723               </td><td> -5                </td><td>EV                 </td><td>4302               </td><td>N14977             </td><td>EWR                </td><td>IAD                </td><td> 51                </td><td> 212               </td><td> 6                 </td><td>10                 </td><td>2013-05-09 06:00:00</td></tr>\n",
       "\t<tr><td>2013               </td><td> 2                 </td><td>26                 </td><td> 552               </td><td> 600               </td><td> -8                </td><td> 647               </td><td> 659               </td><td>-12                </td><td>US                 </td><td>2161               </td><td>N723UW             </td><td>LGA                </td><td>DCA                </td><td> 42                </td><td> 214               </td><td> 6                 </td><td> 0                 </td><td>2013-02-26 06:00:00</td></tr>\n",
       "\t<tr><td>2013               </td><td>12                 </td><td>11                 </td><td> 745               </td><td> 700               </td><td> 45                </td><td>1124               </td><td>1025               </td><td> 59                </td><td>VX                 </td><td> 399               </td><td>N626VA             </td><td>JFK                </td><td>LAX                </td><td>372                </td><td>2475               </td><td> 7                 </td><td> 0                 </td><td>2013-12-11 07:00:00</td></tr>\n",
       "\t<tr><td>2013               </td><td> 4                 </td><td>11                 </td><td> 740               </td><td> 740               </td><td>  0                </td><td>1029               </td><td>1042               </td><td>-13                </td><td>B6                 </td><td> 201               </td><td>N566JB             </td><td>JFK                </td><td>FLL                </td><td>144                </td><td>1069               </td><td> 7                 </td><td>40                 </td><td>2013-04-11 07:00:00</td></tr>\n",
       "\t<tr><td>2013               </td><td>11                 </td><td>26                 </td><td>1559               </td><td>1440               </td><td> 79                </td><td>1755               </td><td>1559               </td><td>116                </td><td>EV                 </td><td>5713               </td><td>N836AS             </td><td>LGA                </td><td>IAD                </td><td> 50                </td><td> 229               </td><td>14                 </td><td>40                 </td><td>2013-11-26 14:00:00</td></tr>\n",
       "\t<tr><td>2013               </td><td> 1                 </td><td> 6                 </td><td>2300               </td><td>2245               </td><td> 15                </td><td>  14               </td><td>2356               </td><td> 18                </td><td>B6                 </td><td> 608               </td><td>N281JB             </td><td>JFK                </td><td>PWM                </td><td> 45                </td><td> 273               </td><td>22                 </td><td>45                 </td><td>2013-01-06 22:00:00</td></tr>\n",
       "\t<tr><td>2013               </td><td> 6                 </td><td> 5                 </td><td> 554               </td><td> 600               </td><td> -6                </td><td> 710               </td><td> 723               </td><td>-13                </td><td>UA                 </td><td> 405               </td><td>N436UA             </td><td>EWR                </td><td>ORD                </td><td>108                </td><td> 719               </td><td> 6                 </td><td> 0                 </td><td>2013-06-05 06:00:00</td></tr>\n",
       "\t<tr><td>2013               </td><td>11                 </td><td>22                 </td><td>2129               </td><td>1935               </td><td>114                </td><td>2240               </td><td>2120               </td><td> 80                </td><td>9E                 </td><td>2909               </td><td>N917XJ             </td><td>JFK                </td><td>RIC                </td><td> 53                </td><td> 288               </td><td>19                 </td><td>35                 </td><td>2013-11-22 19:00:00</td></tr>\n",
       "\t<tr><td>2013               </td><td> 2                 </td><td>10                 </td><td>  NA               </td><td>1341               </td><td> NA                </td><td>  NA               </td><td>1941               </td><td> NA                </td><td>UA                 </td><td>  15               </td><td>NA                 </td><td>EWR                </td><td>HNL                </td><td> NA                </td><td>4963               </td><td>13                 </td><td>41                 </td><td>2013-02-10 13:00:00</td></tr>\n",
       "\t<tr><td>2013               </td><td> 5                 </td><td>28                 </td><td>1714               </td><td>1650               </td><td> 24                </td><td>1843               </td><td>1845               </td><td> -2                </td><td>WN                 </td><td> 197               </td><td>N916WN             </td><td>LGA                </td><td>STL                </td><td>128                </td><td> 888               </td><td>16                 </td><td>50                 </td><td>2013-05-28 16:00:00</td></tr>\n",
       "\t<tr><td>2013               </td><td> 7                 </td><td>12                 </td><td>1436               </td><td>1430               </td><td>  6                </td><td>1725               </td><td>1735               </td><td>-10                </td><td>B6                 </td><td> 301               </td><td>N505JB             </td><td>JFK                </td><td>FLL                </td><td>145                </td><td>1069               </td><td>14                 </td><td>30                 </td><td>2013-07-12 14:00:00</td></tr>\n",
       "\t<tr><td>2013               </td><td> 9                 </td><td>13                 </td><td>1259               </td><td>1300               </td><td> -1                </td><td>1522               </td><td>1450               </td><td> 32                </td><td>MQ                 </td><td>3388               </td><td>N806MQ             </td><td>LGA                </td><td>CMH                </td><td> 79                </td><td> 479               </td><td>13                 </td><td> 0                 </td><td>2013-09-13 13:00:00</td></tr>\n",
       "\t<tr><td>2013               </td><td>10                 </td><td> 7                 </td><td>1056               </td><td>1100               </td><td> -4                </td><td>1239               </td><td>1250               </td><td>-11                </td><td>WN                 </td><td>1341               </td><td>N405WN             </td><td>LGA                </td><td>BNA                </td><td>119                </td><td> 764               </td><td>11                 </td><td> 0                 </td><td>2013-10-07 11:00:00</td></tr>\n",
       "\t<tr><td>2013               </td><td> 5                 </td><td>26                 </td><td>1406               </td><td>1415               </td><td> -9                </td><td>1550               </td><td>1610               </td><td>-20                </td><td>MQ                 </td><td>4588               </td><td>N520MQ             </td><td>LGA                </td><td>MSP                </td><td>146                </td><td>1020               </td><td>14                 </td><td>15                 </td><td>2013-05-26 14:00:00</td></tr>\n",
       "\t<tr><td>2013               </td><td> 2                 </td><td>27                 </td><td> 719               </td><td> 630               </td><td> 49                </td><td> 907               </td><td> 843               </td><td> 24                </td><td>US                 </td><td>1433               </td><td>N196UW             </td><td>LGA                </td><td>CLT                </td><td> 88                </td><td> 544               </td><td> 6                 </td><td>30                 </td><td>2013-02-27 06:00:00</td></tr>\n",
       "\t<tr><td>2013               </td><td> 7                 </td><td>28                 </td><td>1552               </td><td>1600               </td><td> -8                </td><td>1858               </td><td>1844               </td><td> 14                </td><td>DL                 </td><td> 847               </td><td>N917DL             </td><td>LGA                </td><td>ATL                </td><td>123                </td><td> 762               </td><td>16                 </td><td> 0                 </td><td>2013-07-28 16:00:00</td></tr>\n",
       "\t<tr><td>2013               </td><td>11                 </td><td>17                 </td><td>1837               </td><td>1500               </td><td>217                </td><td>2127               </td><td>1733               </td><td>234                </td><td>UA                 </td><td>1279               </td><td>N24702             </td><td>LGA                </td><td>DEN                </td><td>257                </td><td>1620               </td><td>15                 </td><td> 0                 </td><td>2013-11-17 15:00:00</td></tr>\n",
       "\t<tr><td>2013               </td><td> 8                 </td><td> 4                 </td><td>1851               </td><td>1825               </td><td> 26                </td><td>2017               </td><td>2005               </td><td> 12                </td><td>MQ                 </td><td>3134               </td><td>N510MQ             </td><td>EWR                </td><td>ORD                </td><td>114                </td><td> 719               </td><td>18                 </td><td>25                 </td><td>2013-08-04 18:00:00</td></tr>\n",
       "</tbody>\n",
       "</table>\n"
      ],
      "text/latex": [
       "\\begin{tabular}{r|lllllllllllllllllll}\n",
       " year & month & day & dep\\_time & sched\\_dep\\_time & dep\\_delay & arr\\_time & sched\\_arr\\_time & arr\\_delay & carrier & flight & tailnum & origin & dest & air\\_time & distance & hour & minute & time\\_hour\\\\\n",
       "\\hline\n",
       "\t 2013                &  7                  &  8                  & 1516                & 1515                &   1                 & 1809                & 1816                &  -7                 & DL                  & 2181                & N942DL              & LGA                 & MCO                 & 130                 &  950                & 15                  & 15                  & 2013-07-08 15:00:00\\\\\n",
       "\t 2013                &  6                  & 20                  &  800                &  800                &   0                 & 1048                & 1104                & -16                 & DL                  & 2190                & N358NW              & JFK                 & MIA                 & 147                 & 1089                &  8                  &  0                  & 2013-06-20 08:00:00\\\\\n",
       "\t 2013                &  4                  & 15                  & 1212                & 1215                &  -3                 & 1344                & 1350                &  -6                 & WN                  &  529                & N502SW              & EWR                 & STL                 & 137                 &  872                & 12                  & 15                  & 2013-04-15 12:00:00\\\\\n",
       "\t 2013                &  2                  & 26                  & 2245                & 2245                &   0                 & 2354                & 2354                &   0                 & B6                  &  608                & N228JB              & JFK                 & PWM                 &  43                 &  273                & 22                  & 45                  & 2013-02-26 22:00:00\\\\\n",
       "\t 2013                &  9                  &  9                  & 1059                & 1038                &  21                 & 1245                & 1247                &  -2                 & EV                  & 4237                & N11150              & EWR                 & OMA                 & 151                 & 1134                & 10                  & 38                  & 2013-09-09 10:00:00\\\\\n",
       "\t 2013                &  5                  & 19                  &  623                &  630                &  -7                 &  903                &  915                & -12                 & UA                  & 1158                & N16701              & LGA                 & IAH                 & 199                 & 1416                &  6                  & 30                  & 2013-05-19 06:00:00\\\\\n",
       "\t 2013                &  8                  &  5                  & 1949                & 2000                & -11                 & 2251                & 2315                & -24                 & AA                  & 1709                & N3HHAA              & LGA                 & MIA                 & 135                 & 1096                & 20                  &  0                  & 2013-08-05 20:00:00\\\\\n",
       "\t 2013                &  6                  & 13                  & 1636                & 1629                &   7                 & 1919                & 1922                &  -3                 & UA                  &  392                & N581UA              & EWR                 & LAX                 & 324                 & 2454                & 16                  & 29                  & 2013-06-13 16:00:00\\\\\n",
       "\t 2013                &  3                  &  4                  &  713                &  600                &  73                 &  858                &  756                &  62                 & EV                  & 5068                & N612QX              & EWR                 & DTW                 &  77                 &  488                &  6                  &  0                  & 2013-03-04 06:00:00\\\\\n",
       "\t 2013                & 11                  & 16                  & 1540                & 1540                &   0                 & 1702                & 1715                & -13                 & UA                  &  527                & N808UA              & EWR                 & CLE                 &  66                 &  404                & 15                  & 40                  & 2013-11-16 15:00:00\\\\\n",
       "\t 2013                &  9                  & 22                  & 1732                & 1700                &  32                 & 1959                & 1937                &  22                 & DL                  & 1499                & N969DL              & LGA                 & ATL                 & 106                 &  762                & 17                  &  0                  & 2013-09-22 17:00:00\\\\\n",
       "\t 2013                &  7                  & 18                  & 1456                & 1315                & 101                 & 1642                & 1455                & 107                 & AA                  &  331                & N493AA              & LGA                 & ORD                 & 105                 &  733                & 13                  & 15                  & 2013-07-18 13:00:00\\\\\n",
       "\t 2013                &  2                  & 26                  & 1135                & 1140                &  -5                 & 1513                & 1459                &  14                 & DL                  & 1421                & N323NB              & LGA                 & RSW                 & 176                 & 1080                & 11                  & 40                  & 2013-02-26 11:00:00\\\\\n",
       "\t 2013                &  6                  & 10                  &  628                &  630                &  -2                 &  907                &  848                &  19                 & DL                  &  575                & N784NC              & EWR                 & ATL                 & 123                 &  746                &  6                  & 30                  & 2013-06-10 06:00:00\\\\\n",
       "\t 2013                &  4                  & 11                  & 1413                & 1410                &   3                 & 1632                & 1643                & -11                 & DL                  & 2043                & N360NB              & JFK                 & ATL                 & 109                 &  760                & 14                  & 10                  & 2013-04-11 14:00:00\\\\\n",
       "\t 2013                &  6                  & 17                  & 1602                & 1600                &   2                 & 1750                & 1733                &  17                 & UA                  & 1444                & N27213              & EWR                 & ORD                 & 124                 &  719                & 16                  &  0                  & 2013-06-17 16:00:00\\\\\n",
       "\t 2013                & 11                  &  5                  &  651                &  655                &  -4                 &  946                &  920                &  26                 & AA                  & 1263                & N613AA              & JFK                 & LAS                 & 329                 & 2248                &  6                  & 55                  & 2013-11-05 06:00:00\\\\\n",
       "\t 2013                & 10                  & 24                  &  953                &  935                &  18                 & 1249                & 1230                &  19                 & B6                  &  223                & N804JB              & JFK                 & LAX                 & 329                 & 2475                &  9                  & 35                  & 2013-10-24 09:00:00\\\\\n",
       "\t 2013                &  7                  & 30                  &  653                &  700                &  -7                 &  817                &  833                & -16                 & UA                  &  544                & N471UA              & LGA                 & ORD                 & 113                 &  733                &  7                  &  0                  & 2013-07-30 07:00:00\\\\\n",
       "\t 2013                & 12                  & 31                  &  857                &  900                &  -3                 & 1230                & 1206                &  24                 & B6                  & 1701                & N529JB              & JFK                 & FLL                 & 181                 & 1069                &  9                  &  0                  & 2013-12-31 09:00:00\\\\\n",
       "\t 2013                &  5                  &  8                  & 1618                & 1545                &  33                 & 1818                & 1802                &  16                 & DL                  & 1942                & N340NB              & EWR                 & ATL                 &  99                 &  746                & 15                  & 45                  & 2013-05-08 15:00:00\\\\\n",
       "\t 2013                &  5                  & 30                  & 2028                & 2028                &   0                 & 2325                & 2336                & -11                 & UA                  & 1241                & N37420              & EWR                 & TPA                 & 154                 &  997                & 20                  & 28                  & 2013-05-30 20:00:00\\\\\n",
       "\t 2013                &  8                  & 18                  & 1345                & 1345                &   0                 & 1605                & 1617                & -12                 & UA                  &  323                & N444UA              & EWR                 & DFW                 & 178                 & 1372                & 13                  & 45                  & 2013-08-18 13:00:00\\\\\n",
       "\t 2013                &  3                  &  4                  &  700                &  700                &   0                 &  820                &  807                &  13                 & US                  & 2116                & N951UW              & LGA                 & BOS                 &  39                 &  184                &  7                  &  0                  & 2013-03-04 07:00:00\\\\\n",
       "\t 2013                &  8                  & 18                  &  823                &  829                &  -6                 & 1008                & 1028                & -20                 & DL                  & 1157                & N365NB              & EWR                 & MSP                 & 139                 & 1008                &  8                  & 29                  & 2013-08-18 08:00:00\\\\\n",
       "\t 2013                &  4                  &  2                  & 1205                & 1208                &  -3                 & 1500                & 1504                &  -4                 & UA                  &  292                & N821UA              & EWR                 & IAH                 & 216                 & 1400                & 12                  &  8                  & 2013-04-02 12:00:00\\\\\n",
       "\t 2013                &  7                  & 28                  &  727                &  730                &  -3                 & 1016                & 1025                &  -9                 & AA                  & 1757                & N3FYAA              & JFK                 & TPA                 & 148                 & 1005                &  7                  & 30                  & 2013-07-28 07:00:00\\\\\n",
       "\t 2013                &  1                  & 21                  & 1400                & 1345                &  15                 & 1716                & 1656                &  20                 & B6                  &   83                & N652JB              & JFK                 & SEA                 & 344                 & 2422                & 13                  & 45                  & 2013-01-21 13:00:00\\\\\n",
       "\t 2013                &  7                  & 28                  &  732                &  735                &  -3                 & 1003                & 1005                &  -2                 & AA                  & 1949                & N3JJAA              & JFK                 & LAS                 & 305                 & 2248                &  7                  & 35                  & 2013-07-28 07:00:00\\\\\n",
       "\t 2013                &  5                  & 31                  & 1424                & 1430                &  -6                 & 1813                & 1845                & -32                 & AA                  & 1635                & N5FJAA              & JFK                 & SJU                 & 203                 & 1598                & 14                  & 30                  & 2013-05-31 14:00:00\\\\\n",
       "\t ... & ... & ... & ... & ... & ... & ... & ... & ... & ... & ... & ... & ... & ... & ... & ... & ... & ... & ...\\\\\n",
       "\t 2013                &  5                  &  7                  &  751                &  755                &  -4                 &  909                &  910                &  -1                 & MQ                  & 4418                & N827MQ              & JFK                 & DCA                 &  45                 &  213                &  7                  & 55                  & 2013-05-07 07:00:00\\\\\n",
       "\t 2013                &  2                  & 22                  & 2053                & 1830                & 143                 & 2255                & 2044                & 131                 & EV                  & 5203                & N166PQ              & EWR                 & DTW                 &  85                 &  488                & 18                  & 30                  & 2013-02-22 18:00:00\\\\\n",
       "\t 2013                & 11                  & 28                  &  858                &  900                &  -2                 & 1203                & 1210                &  -7                 & B6                  &  189                & N583JB              & JFK                 & SAN                 & 342                 & 2446                &  9                  &  0                  & 2013-11-28 09:00:00\\\\\n",
       "\t 2013                & 11                  & 15                  &  641                &  645                &  -4                 &  812                &  820                &  -8                 & 9E                  & 3496                & N923XJ              & LGA                 & PIT                 &  56                 &  335                &  6                  & 45                  & 2013-11-15 06:00:00\\\\\n",
       "\t 2013                &  9                  & 13                  &  759                &  800                &  -1                 &  902                &  904                &  -2                 & B6                  & 1491                & N247JB              & JFK                 & ACK                 &  44                 &  199                &  8                  &  0                  & 2013-09-13 08:00:00\\\\\n",
       "\t 2013                &  8                  &  7                  & 1253                & 1300                &  -7                 & 1349                & 1409                & -20                 & US                  & 2148                & N950UW              & LGA                 & BOS                 &  33                 &  184                & 13                  &  0                  & 2013-08-07 13:00:00\\\\\n",
       "\t 2013                & 12                  & 27                  & 1923                & 1930                &  -7                 & 2038                & 2108                & -30                 & 9E                  & 2959                & N819AY              & JFK                 & SYR                 &  42                 &  209                & 19                  & 30                  & 2013-12-27 19:00:00\\\\\n",
       "\t 2013                &  3                  & 17                  & 2100                & 1935                &  85                 &   17                & 2233                & 104                 & UA                  & 1654                & N12221              & EWR                 & SAN                 & 355                 & 2425                & 19                  & 35                  & 2013-03-17 19:00:00\\\\\n",
       "\t 2013                &  7                  & 28                  &   12                & 1924                & 288                 &  312                & 2220                & 292                 & UA                  &  755                & N577UA              & EWR                 & LAX                 & 338                 & 2454                & 19                  & 24                  & 2013-07-28 19:00:00\\\\\n",
       "\t 2013                &  8                  &  8                  &  726                &  730                &  -4                 & 1007                & 1025                & -18                 & AA                  & 1757                & N3DDAA              & JFK                 & TPA                 & 133                 & 1005                &  7                  & 30                  & 2013-08-08 07:00:00\\\\\n",
       "\t 2013                & 11                  & 16                  &  626                &  630                &  -4                 &  856                &  901                &  -5                 & DL                  &  479                & N395DN              & JFK                 & ATL                 & 126                 &  760                &  6                  & 30                  & 2013-11-16 06:00:00\\\\\n",
       "\t 2013                &  2                  & 10                  & 1117                & 1125                &  -8                 & 1303                & 1305                &  -2                 & AA                  &  327                & N3CXAA              & LGA                 & ORD                 & 144                 &  733                & 11                  & 25                  & 2013-02-10 11:00:00\\\\\n",
       "\t 2013                &  5                  &  9                  &  607                &  610                &  -3                 &  718                &  723                &  -5                 & EV                  & 4302                & N14977              & EWR                 & IAD                 &  51                 &  212                &  6                  & 10                  & 2013-05-09 06:00:00\\\\\n",
       "\t 2013                &  2                  & 26                  &  552                &  600                &  -8                 &  647                &  659                & -12                 & US                  & 2161                & N723UW              & LGA                 & DCA                 &  42                 &  214                &  6                  &  0                  & 2013-02-26 06:00:00\\\\\n",
       "\t 2013                & 12                  & 11                  &  745                &  700                &  45                 & 1124                & 1025                &  59                 & VX                  &  399                & N626VA              & JFK                 & LAX                 & 372                 & 2475                &  7                  &  0                  & 2013-12-11 07:00:00\\\\\n",
       "\t 2013                &  4                  & 11                  &  740                &  740                &   0                 & 1029                & 1042                & -13                 & B6                  &  201                & N566JB              & JFK                 & FLL                 & 144                 & 1069                &  7                  & 40                  & 2013-04-11 07:00:00\\\\\n",
       "\t 2013                & 11                  & 26                  & 1559                & 1440                &  79                 & 1755                & 1559                & 116                 & EV                  & 5713                & N836AS              & LGA                 & IAD                 &  50                 &  229                & 14                  & 40                  & 2013-11-26 14:00:00\\\\\n",
       "\t 2013                &  1                  &  6                  & 2300                & 2245                &  15                 &   14                & 2356                &  18                 & B6                  &  608                & N281JB              & JFK                 & PWM                 &  45                 &  273                & 22                  & 45                  & 2013-01-06 22:00:00\\\\\n",
       "\t 2013                &  6                  &  5                  &  554                &  600                &  -6                 &  710                &  723                & -13                 & UA                  &  405                & N436UA              & EWR                 & ORD                 & 108                 &  719                &  6                  &  0                  & 2013-06-05 06:00:00\\\\\n",
       "\t 2013                & 11                  & 22                  & 2129                & 1935                & 114                 & 2240                & 2120                &  80                 & 9E                  & 2909                & N917XJ              & JFK                 & RIC                 &  53                 &  288                & 19                  & 35                  & 2013-11-22 19:00:00\\\\\n",
       "\t 2013                &  2                  & 10                  &   NA                & 1341                &  NA                 &   NA                & 1941                &  NA                 & UA                  &   15                & NA                  & EWR                 & HNL                 &  NA                 & 4963                & 13                  & 41                  & 2013-02-10 13:00:00\\\\\n",
       "\t 2013                &  5                  & 28                  & 1714                & 1650                &  24                 & 1843                & 1845                &  -2                 & WN                  &  197                & N916WN              & LGA                 & STL                 & 128                 &  888                & 16                  & 50                  & 2013-05-28 16:00:00\\\\\n",
       "\t 2013                &  7                  & 12                  & 1436                & 1430                &   6                 & 1725                & 1735                & -10                 & B6                  &  301                & N505JB              & JFK                 & FLL                 & 145                 & 1069                & 14                  & 30                  & 2013-07-12 14:00:00\\\\\n",
       "\t 2013                &  9                  & 13                  & 1259                & 1300                &  -1                 & 1522                & 1450                &  32                 & MQ                  & 3388                & N806MQ              & LGA                 & CMH                 &  79                 &  479                & 13                  &  0                  & 2013-09-13 13:00:00\\\\\n",
       "\t 2013                & 10                  &  7                  & 1056                & 1100                &  -4                 & 1239                & 1250                & -11                 & WN                  & 1341                & N405WN              & LGA                 & BNA                 & 119                 &  764                & 11                  &  0                  & 2013-10-07 11:00:00\\\\\n",
       "\t 2013                &  5                  & 26                  & 1406                & 1415                &  -9                 & 1550                & 1610                & -20                 & MQ                  & 4588                & N520MQ              & LGA                 & MSP                 & 146                 & 1020                & 14                  & 15                  & 2013-05-26 14:00:00\\\\\n",
       "\t 2013                &  2                  & 27                  &  719                &  630                &  49                 &  907                &  843                &  24                 & US                  & 1433                & N196UW              & LGA                 & CLT                 &  88                 &  544                &  6                  & 30                  & 2013-02-27 06:00:00\\\\\n",
       "\t 2013                &  7                  & 28                  & 1552                & 1600                &  -8                 & 1858                & 1844                &  14                 & DL                  &  847                & N917DL              & LGA                 & ATL                 & 123                 &  762                & 16                  &  0                  & 2013-07-28 16:00:00\\\\\n",
       "\t 2013                & 11                  & 17                  & 1837                & 1500                & 217                 & 2127                & 1733                & 234                 & UA                  & 1279                & N24702              & LGA                 & DEN                 & 257                 & 1620                & 15                  &  0                  & 2013-11-17 15:00:00\\\\\n",
       "\t 2013                &  8                  &  4                  & 1851                & 1825                &  26                 & 2017                & 2005                &  12                 & MQ                  & 3134                & N510MQ              & EWR                 & ORD                 & 114                 &  719                & 18                  & 25                  & 2013-08-04 18:00:00\\\\\n",
       "\\end{tabular}\n"
      ],
      "text/markdown": [
       "\n",
       "| year | month | day | dep_time | sched_dep_time | dep_delay | arr_time | sched_arr_time | arr_delay | carrier | flight | tailnum | origin | dest | air_time | distance | hour | minute | time_hour |\n",
       "|---|---|---|---|---|---|---|---|---|---|---|---|---|---|---|---|---|---|---|\n",
       "| 2013                |  7                  |  8                  | 1516                | 1515                |   1                 | 1809                | 1816                |  -7                 | DL                  | 2181                | N942DL              | LGA                 | MCO                 | 130                 |  950                | 15                  | 15                  | 2013-07-08 15:00:00 |\n",
       "| 2013                |  6                  | 20                  |  800                |  800                |   0                 | 1048                | 1104                | -16                 | DL                  | 2190                | N358NW              | JFK                 | MIA                 | 147                 | 1089                |  8                  |  0                  | 2013-06-20 08:00:00 |\n",
       "| 2013                |  4                  | 15                  | 1212                | 1215                |  -3                 | 1344                | 1350                |  -6                 | WN                  |  529                | N502SW              | EWR                 | STL                 | 137                 |  872                | 12                  | 15                  | 2013-04-15 12:00:00 |\n",
       "| 2013                |  2                  | 26                  | 2245                | 2245                |   0                 | 2354                | 2354                |   0                 | B6                  |  608                | N228JB              | JFK                 | PWM                 |  43                 |  273                | 22                  | 45                  | 2013-02-26 22:00:00 |\n",
       "| 2013                |  9                  |  9                  | 1059                | 1038                |  21                 | 1245                | 1247                |  -2                 | EV                  | 4237                | N11150              | EWR                 | OMA                 | 151                 | 1134                | 10                  | 38                  | 2013-09-09 10:00:00 |\n",
       "| 2013                |  5                  | 19                  |  623                |  630                |  -7                 |  903                |  915                | -12                 | UA                  | 1158                | N16701              | LGA                 | IAH                 | 199                 | 1416                |  6                  | 30                  | 2013-05-19 06:00:00 |\n",
       "| 2013                |  8                  |  5                  | 1949                | 2000                | -11                 | 2251                | 2315                | -24                 | AA                  | 1709                | N3HHAA              | LGA                 | MIA                 | 135                 | 1096                | 20                  |  0                  | 2013-08-05 20:00:00 |\n",
       "| 2013                |  6                  | 13                  | 1636                | 1629                |   7                 | 1919                | 1922                |  -3                 | UA                  |  392                | N581UA              | EWR                 | LAX                 | 324                 | 2454                | 16                  | 29                  | 2013-06-13 16:00:00 |\n",
       "| 2013                |  3                  |  4                  |  713                |  600                |  73                 |  858                |  756                |  62                 | EV                  | 5068                | N612QX              | EWR                 | DTW                 |  77                 |  488                |  6                  |  0                  | 2013-03-04 06:00:00 |\n",
       "| 2013                | 11                  | 16                  | 1540                | 1540                |   0                 | 1702                | 1715                | -13                 | UA                  |  527                | N808UA              | EWR                 | CLE                 |  66                 |  404                | 15                  | 40                  | 2013-11-16 15:00:00 |\n",
       "| 2013                |  9                  | 22                  | 1732                | 1700                |  32                 | 1959                | 1937                |  22                 | DL                  | 1499                | N969DL              | LGA                 | ATL                 | 106                 |  762                | 17                  |  0                  | 2013-09-22 17:00:00 |\n",
       "| 2013                |  7                  | 18                  | 1456                | 1315                | 101                 | 1642                | 1455                | 107                 | AA                  |  331                | N493AA              | LGA                 | ORD                 | 105                 |  733                | 13                  | 15                  | 2013-07-18 13:00:00 |\n",
       "| 2013                |  2                  | 26                  | 1135                | 1140                |  -5                 | 1513                | 1459                |  14                 | DL                  | 1421                | N323NB              | LGA                 | RSW                 | 176                 | 1080                | 11                  | 40                  | 2013-02-26 11:00:00 |\n",
       "| 2013                |  6                  | 10                  |  628                |  630                |  -2                 |  907                |  848                |  19                 | DL                  |  575                | N784NC              | EWR                 | ATL                 | 123                 |  746                |  6                  | 30                  | 2013-06-10 06:00:00 |\n",
       "| 2013                |  4                  | 11                  | 1413                | 1410                |   3                 | 1632                | 1643                | -11                 | DL                  | 2043                | N360NB              | JFK                 | ATL                 | 109                 |  760                | 14                  | 10                  | 2013-04-11 14:00:00 |\n",
       "| 2013                |  6                  | 17                  | 1602                | 1600                |   2                 | 1750                | 1733                |  17                 | UA                  | 1444                | N27213              | EWR                 | ORD                 | 124                 |  719                | 16                  |  0                  | 2013-06-17 16:00:00 |\n",
       "| 2013                | 11                  |  5                  |  651                |  655                |  -4                 |  946                |  920                |  26                 | AA                  | 1263                | N613AA              | JFK                 | LAS                 | 329                 | 2248                |  6                  | 55                  | 2013-11-05 06:00:00 |\n",
       "| 2013                | 10                  | 24                  |  953                |  935                |  18                 | 1249                | 1230                |  19                 | B6                  |  223                | N804JB              | JFK                 | LAX                 | 329                 | 2475                |  9                  | 35                  | 2013-10-24 09:00:00 |\n",
       "| 2013                |  7                  | 30                  |  653                |  700                |  -7                 |  817                |  833                | -16                 | UA                  |  544                | N471UA              | LGA                 | ORD                 | 113                 |  733                |  7                  |  0                  | 2013-07-30 07:00:00 |\n",
       "| 2013                | 12                  | 31                  |  857                |  900                |  -3                 | 1230                | 1206                |  24                 | B6                  | 1701                | N529JB              | JFK                 | FLL                 | 181                 | 1069                |  9                  |  0                  | 2013-12-31 09:00:00 |\n",
       "| 2013                |  5                  |  8                  | 1618                | 1545                |  33                 | 1818                | 1802                |  16                 | DL                  | 1942                | N340NB              | EWR                 | ATL                 |  99                 |  746                | 15                  | 45                  | 2013-05-08 15:00:00 |\n",
       "| 2013                |  5                  | 30                  | 2028                | 2028                |   0                 | 2325                | 2336                | -11                 | UA                  | 1241                | N37420              | EWR                 | TPA                 | 154                 |  997                | 20                  | 28                  | 2013-05-30 20:00:00 |\n",
       "| 2013                |  8                  | 18                  | 1345                | 1345                |   0                 | 1605                | 1617                | -12                 | UA                  |  323                | N444UA              | EWR                 | DFW                 | 178                 | 1372                | 13                  | 45                  | 2013-08-18 13:00:00 |\n",
       "| 2013                |  3                  |  4                  |  700                |  700                |   0                 |  820                |  807                |  13                 | US                  | 2116                | N951UW              | LGA                 | BOS                 |  39                 |  184                |  7                  |  0                  | 2013-03-04 07:00:00 |\n",
       "| 2013                |  8                  | 18                  |  823                |  829                |  -6                 | 1008                | 1028                | -20                 | DL                  | 1157                | N365NB              | EWR                 | MSP                 | 139                 | 1008                |  8                  | 29                  | 2013-08-18 08:00:00 |\n",
       "| 2013                |  4                  |  2                  | 1205                | 1208                |  -3                 | 1500                | 1504                |  -4                 | UA                  |  292                | N821UA              | EWR                 | IAH                 | 216                 | 1400                | 12                  |  8                  | 2013-04-02 12:00:00 |\n",
       "| 2013                |  7                  | 28                  |  727                |  730                |  -3                 | 1016                | 1025                |  -9                 | AA                  | 1757                | N3FYAA              | JFK                 | TPA                 | 148                 | 1005                |  7                  | 30                  | 2013-07-28 07:00:00 |\n",
       "| 2013                |  1                  | 21                  | 1400                | 1345                |  15                 | 1716                | 1656                |  20                 | B6                  |   83                | N652JB              | JFK                 | SEA                 | 344                 | 2422                | 13                  | 45                  | 2013-01-21 13:00:00 |\n",
       "| 2013                |  7                  | 28                  |  732                |  735                |  -3                 | 1003                | 1005                |  -2                 | AA                  | 1949                | N3JJAA              | JFK                 | LAS                 | 305                 | 2248                |  7                  | 35                  | 2013-07-28 07:00:00 |\n",
       "| 2013                |  5                  | 31                  | 1424                | 1430                |  -6                 | 1813                | 1845                | -32                 | AA                  | 1635                | N5FJAA              | JFK                 | SJU                 | 203                 | 1598                | 14                  | 30                  | 2013-05-31 14:00:00 |\n",
       "| ... | ... | ... | ... | ... | ... | ... | ... | ... | ... | ... | ... | ... | ... | ... | ... | ... | ... | ... |\n",
       "| 2013                |  5                  |  7                  |  751                |  755                |  -4                 |  909                |  910                |  -1                 | MQ                  | 4418                | N827MQ              | JFK                 | DCA                 |  45                 |  213                |  7                  | 55                  | 2013-05-07 07:00:00 |\n",
       "| 2013                |  2                  | 22                  | 2053                | 1830                | 143                 | 2255                | 2044                | 131                 | EV                  | 5203                | N166PQ              | EWR                 | DTW                 |  85                 |  488                | 18                  | 30                  | 2013-02-22 18:00:00 |\n",
       "| 2013                | 11                  | 28                  |  858                |  900                |  -2                 | 1203                | 1210                |  -7                 | B6                  |  189                | N583JB              | JFK                 | SAN                 | 342                 | 2446                |  9                  |  0                  | 2013-11-28 09:00:00 |\n",
       "| 2013                | 11                  | 15                  |  641                |  645                |  -4                 |  812                |  820                |  -8                 | 9E                  | 3496                | N923XJ              | LGA                 | PIT                 |  56                 |  335                |  6                  | 45                  | 2013-11-15 06:00:00 |\n",
       "| 2013                |  9                  | 13                  |  759                |  800                |  -1                 |  902                |  904                |  -2                 | B6                  | 1491                | N247JB              | JFK                 | ACK                 |  44                 |  199                |  8                  |  0                  | 2013-09-13 08:00:00 |\n",
       "| 2013                |  8                  |  7                  | 1253                | 1300                |  -7                 | 1349                | 1409                | -20                 | US                  | 2148                | N950UW              | LGA                 | BOS                 |  33                 |  184                | 13                  |  0                  | 2013-08-07 13:00:00 |\n",
       "| 2013                | 12                  | 27                  | 1923                | 1930                |  -7                 | 2038                | 2108                | -30                 | 9E                  | 2959                | N819AY              | JFK                 | SYR                 |  42                 |  209                | 19                  | 30                  | 2013-12-27 19:00:00 |\n",
       "| 2013                |  3                  | 17                  | 2100                | 1935                |  85                 |   17                | 2233                | 104                 | UA                  | 1654                | N12221              | EWR                 | SAN                 | 355                 | 2425                | 19                  | 35                  | 2013-03-17 19:00:00 |\n",
       "| 2013                |  7                  | 28                  |   12                | 1924                | 288                 |  312                | 2220                | 292                 | UA                  |  755                | N577UA              | EWR                 | LAX                 | 338                 | 2454                | 19                  | 24                  | 2013-07-28 19:00:00 |\n",
       "| 2013                |  8                  |  8                  |  726                |  730                |  -4                 | 1007                | 1025                | -18                 | AA                  | 1757                | N3DDAA              | JFK                 | TPA                 | 133                 | 1005                |  7                  | 30                  | 2013-08-08 07:00:00 |\n",
       "| 2013                | 11                  | 16                  |  626                |  630                |  -4                 |  856                |  901                |  -5                 | DL                  |  479                | N395DN              | JFK                 | ATL                 | 126                 |  760                |  6                  | 30                  | 2013-11-16 06:00:00 |\n",
       "| 2013                |  2                  | 10                  | 1117                | 1125                |  -8                 | 1303                | 1305                |  -2                 | AA                  |  327                | N3CXAA              | LGA                 | ORD                 | 144                 |  733                | 11                  | 25                  | 2013-02-10 11:00:00 |\n",
       "| 2013                |  5                  |  9                  |  607                |  610                |  -3                 |  718                |  723                |  -5                 | EV                  | 4302                | N14977              | EWR                 | IAD                 |  51                 |  212                |  6                  | 10                  | 2013-05-09 06:00:00 |\n",
       "| 2013                |  2                  | 26                  |  552                |  600                |  -8                 |  647                |  659                | -12                 | US                  | 2161                | N723UW              | LGA                 | DCA                 |  42                 |  214                |  6                  |  0                  | 2013-02-26 06:00:00 |\n",
       "| 2013                | 12                  | 11                  |  745                |  700                |  45                 | 1124                | 1025                |  59                 | VX                  |  399                | N626VA              | JFK                 | LAX                 | 372                 | 2475                |  7                  |  0                  | 2013-12-11 07:00:00 |\n",
       "| 2013                |  4                  | 11                  |  740                |  740                |   0                 | 1029                | 1042                | -13                 | B6                  |  201                | N566JB              | JFK                 | FLL                 | 144                 | 1069                |  7                  | 40                  | 2013-04-11 07:00:00 |\n",
       "| 2013                | 11                  | 26                  | 1559                | 1440                |  79                 | 1755                | 1559                | 116                 | EV                  | 5713                | N836AS              | LGA                 | IAD                 |  50                 |  229                | 14                  | 40                  | 2013-11-26 14:00:00 |\n",
       "| 2013                |  1                  |  6                  | 2300                | 2245                |  15                 |   14                | 2356                |  18                 | B6                  |  608                | N281JB              | JFK                 | PWM                 |  45                 |  273                | 22                  | 45                  | 2013-01-06 22:00:00 |\n",
       "| 2013                |  6                  |  5                  |  554                |  600                |  -6                 |  710                |  723                | -13                 | UA                  |  405                | N436UA              | EWR                 | ORD                 | 108                 |  719                |  6                  |  0                  | 2013-06-05 06:00:00 |\n",
       "| 2013                | 11                  | 22                  | 2129                | 1935                | 114                 | 2240                | 2120                |  80                 | 9E                  | 2909                | N917XJ              | JFK                 | RIC                 |  53                 |  288                | 19                  | 35                  | 2013-11-22 19:00:00 |\n",
       "| 2013                |  2                  | 10                  |   NA                | 1341                |  NA                 |   NA                | 1941                |  NA                 | UA                  |   15                | NA                  | EWR                 | HNL                 |  NA                 | 4963                | 13                  | 41                  | 2013-02-10 13:00:00 |\n",
       "| 2013                |  5                  | 28                  | 1714                | 1650                |  24                 | 1843                | 1845                |  -2                 | WN                  |  197                | N916WN              | LGA                 | STL                 | 128                 |  888                | 16                  | 50                  | 2013-05-28 16:00:00 |\n",
       "| 2013                |  7                  | 12                  | 1436                | 1430                |   6                 | 1725                | 1735                | -10                 | B6                  |  301                | N505JB              | JFK                 | FLL                 | 145                 | 1069                | 14                  | 30                  | 2013-07-12 14:00:00 |\n",
       "| 2013                |  9                  | 13                  | 1259                | 1300                |  -1                 | 1522                | 1450                |  32                 | MQ                  | 3388                | N806MQ              | LGA                 | CMH                 |  79                 |  479                | 13                  |  0                  | 2013-09-13 13:00:00 |\n",
       "| 2013                | 10                  |  7                  | 1056                | 1100                |  -4                 | 1239                | 1250                | -11                 | WN                  | 1341                | N405WN              | LGA                 | BNA                 | 119                 |  764                | 11                  |  0                  | 2013-10-07 11:00:00 |\n",
       "| 2013                |  5                  | 26                  | 1406                | 1415                |  -9                 | 1550                | 1610                | -20                 | MQ                  | 4588                | N520MQ              | LGA                 | MSP                 | 146                 | 1020                | 14                  | 15                  | 2013-05-26 14:00:00 |\n",
       "| 2013                |  2                  | 27                  |  719                |  630                |  49                 |  907                |  843                |  24                 | US                  | 1433                | N196UW              | LGA                 | CLT                 |  88                 |  544                |  6                  | 30                  | 2013-02-27 06:00:00 |\n",
       "| 2013                |  7                  | 28                  | 1552                | 1600                |  -8                 | 1858                | 1844                |  14                 | DL                  |  847                | N917DL              | LGA                 | ATL                 | 123                 |  762                | 16                  |  0                  | 2013-07-28 16:00:00 |\n",
       "| 2013                | 11                  | 17                  | 1837                | 1500                | 217                 | 2127                | 1733                | 234                 | UA                  | 1279                | N24702              | LGA                 | DEN                 | 257                 | 1620                | 15                  |  0                  | 2013-11-17 15:00:00 |\n",
       "| 2013                |  8                  |  4                  | 1851                | 1825                |  26                 | 2017                | 2005                |  12                 | MQ                  | 3134                | N510MQ              | EWR                 | ORD                 | 114                 |  719                | 18                  | 25                  | 2013-08-04 18:00:00 |\n",
       "\n"
      ],
      "text/plain": [
       "       year month day dep_time sched_dep_time dep_delay arr_time sched_arr_time\n",
       "1      2013  7     8  1516     1515             1       1809     1816          \n",
       "2      2013  6    20   800      800             0       1048     1104          \n",
       "3      2013  4    15  1212     1215            -3       1344     1350          \n",
       "4      2013  2    26  2245     2245             0       2354     2354          \n",
       "5      2013  9     9  1059     1038            21       1245     1247          \n",
       "6      2013  5    19   623      630            -7        903      915          \n",
       "7      2013  8     5  1949     2000           -11       2251     2315          \n",
       "8      2013  6    13  1636     1629             7       1919     1922          \n",
       "9      2013  3     4   713      600            73        858      756          \n",
       "10     2013 11    16  1540     1540             0       1702     1715          \n",
       "11     2013  9    22  1732     1700            32       1959     1937          \n",
       "12     2013  7    18  1456     1315           101       1642     1455          \n",
       "13     2013  2    26  1135     1140            -5       1513     1459          \n",
       "14     2013  6    10   628      630            -2        907      848          \n",
       "15     2013  4    11  1413     1410             3       1632     1643          \n",
       "16     2013  6    17  1602     1600             2       1750     1733          \n",
       "17     2013 11     5   651      655            -4        946      920          \n",
       "18     2013 10    24   953      935            18       1249     1230          \n",
       "19     2013  7    30   653      700            -7        817      833          \n",
       "20     2013 12    31   857      900            -3       1230     1206          \n",
       "21     2013  5     8  1618     1545            33       1818     1802          \n",
       "22     2013  5    30  2028     2028             0       2325     2336          \n",
       "23     2013  8    18  1345     1345             0       1605     1617          \n",
       "24     2013  3     4   700      700             0        820      807          \n",
       "25     2013  8    18   823      829            -6       1008     1028          \n",
       "26     2013  4     2  1205     1208            -3       1500     1504          \n",
       "27     2013  7    28   727      730            -3       1016     1025          \n",
       "28     2013  1    21  1400     1345            15       1716     1656          \n",
       "29     2013  7    28   732      735            -3       1003     1005          \n",
       "30     2013  5    31  1424     1430            -6       1813     1845          \n",
       "...    ...  ...   ... ...      ...            ...       ...      ...           \n",
       "101004 2013  5     7   751      755            -4        909      910          \n",
       "101005 2013  2    22  2053     1830           143       2255     2044          \n",
       "101006 2013 11    28   858      900            -2       1203     1210          \n",
       "101007 2013 11    15   641      645            -4        812      820          \n",
       "101008 2013  9    13   759      800            -1        902      904          \n",
       "101009 2013  8     7  1253     1300            -7       1349     1409          \n",
       "101010 2013 12    27  1923     1930            -7       2038     2108          \n",
       "101011 2013  3    17  2100     1935            85         17     2233          \n",
       "101012 2013  7    28    12     1924           288        312     2220          \n",
       "101013 2013  8     8   726      730            -4       1007     1025          \n",
       "101014 2013 11    16   626      630            -4        856      901          \n",
       "101015 2013  2    10  1117     1125            -8       1303     1305          \n",
       "101016 2013  5     9   607      610            -3        718      723          \n",
       "101017 2013  2    26   552      600            -8        647      659          \n",
       "101018 2013 12    11   745      700            45       1124     1025          \n",
       "101019 2013  4    11   740      740             0       1029     1042          \n",
       "101020 2013 11    26  1559     1440            79       1755     1559          \n",
       "101021 2013  1     6  2300     2245            15         14     2356          \n",
       "101022 2013  6     5   554      600            -6        710      723          \n",
       "101023 2013 11    22  2129     1935           114       2240     2120          \n",
       "101024 2013  2    10    NA     1341            NA         NA     1941          \n",
       "101025 2013  5    28  1714     1650            24       1843     1845          \n",
       "101026 2013  7    12  1436     1430             6       1725     1735          \n",
       "101027 2013  9    13  1259     1300            -1       1522     1450          \n",
       "101028 2013 10     7  1056     1100            -4       1239     1250          \n",
       "101029 2013  5    26  1406     1415            -9       1550     1610          \n",
       "101030 2013  2    27   719      630            49        907      843          \n",
       "101031 2013  7    28  1552     1600            -8       1858     1844          \n",
       "101032 2013 11    17  1837     1500           217       2127     1733          \n",
       "101033 2013  8     4  1851     1825            26       2017     2005          \n",
       "       arr_delay carrier flight tailnum origin dest air_time distance hour\n",
       "1       -7       DL      2181   N942DL  LGA    MCO  130       950     15  \n",
       "2      -16       DL      2190   N358NW  JFK    MIA  147      1089      8  \n",
       "3       -6       WN       529   N502SW  EWR    STL  137       872     12  \n",
       "4        0       B6       608   N228JB  JFK    PWM   43       273     22  \n",
       "5       -2       EV      4237   N11150  EWR    OMA  151      1134     10  \n",
       "6      -12       UA      1158   N16701  LGA    IAH  199      1416      6  \n",
       "7      -24       AA      1709   N3HHAA  LGA    MIA  135      1096     20  \n",
       "8       -3       UA       392   N581UA  EWR    LAX  324      2454     16  \n",
       "9       62       EV      5068   N612QX  EWR    DTW   77       488      6  \n",
       "10     -13       UA       527   N808UA  EWR    CLE   66       404     15  \n",
       "11      22       DL      1499   N969DL  LGA    ATL  106       762     17  \n",
       "12     107       AA       331   N493AA  LGA    ORD  105       733     13  \n",
       "13      14       DL      1421   N323NB  LGA    RSW  176      1080     11  \n",
       "14      19       DL       575   N784NC  EWR    ATL  123       746      6  \n",
       "15     -11       DL      2043   N360NB  JFK    ATL  109       760     14  \n",
       "16      17       UA      1444   N27213  EWR    ORD  124       719     16  \n",
       "17      26       AA      1263   N613AA  JFK    LAS  329      2248      6  \n",
       "18      19       B6       223   N804JB  JFK    LAX  329      2475      9  \n",
       "19     -16       UA       544   N471UA  LGA    ORD  113       733      7  \n",
       "20      24       B6      1701   N529JB  JFK    FLL  181      1069      9  \n",
       "21      16       DL      1942   N340NB  EWR    ATL   99       746     15  \n",
       "22     -11       UA      1241   N37420  EWR    TPA  154       997     20  \n",
       "23     -12       UA       323   N444UA  EWR    DFW  178      1372     13  \n",
       "24      13       US      2116   N951UW  LGA    BOS   39       184      7  \n",
       "25     -20       DL      1157   N365NB  EWR    MSP  139      1008      8  \n",
       "26      -4       UA       292   N821UA  EWR    IAH  216      1400     12  \n",
       "27      -9       AA      1757   N3FYAA  JFK    TPA  148      1005      7  \n",
       "28      20       B6        83   N652JB  JFK    SEA  344      2422     13  \n",
       "29      -2       AA      1949   N3JJAA  JFK    LAS  305      2248      7  \n",
       "30     -32       AA      1635   N5FJAA  JFK    SJU  203      1598     14  \n",
       "...    ...       ...     ...    ...     ...    ...  ...      ...      ... \n",
       "101004  -1       MQ      4418   N827MQ  JFK    DCA   45       213      7  \n",
       "101005 131       EV      5203   N166PQ  EWR    DTW   85       488     18  \n",
       "101006  -7       B6       189   N583JB  JFK    SAN  342      2446      9  \n",
       "101007  -8       9E      3496   N923XJ  LGA    PIT   56       335      6  \n",
       "101008  -2       B6      1491   N247JB  JFK    ACK   44       199      8  \n",
       "101009 -20       US      2148   N950UW  LGA    BOS   33       184     13  \n",
       "101010 -30       9E      2959   N819AY  JFK    SYR   42       209     19  \n",
       "101011 104       UA      1654   N12221  EWR    SAN  355      2425     19  \n",
       "101012 292       UA       755   N577UA  EWR    LAX  338      2454     19  \n",
       "101013 -18       AA      1757   N3DDAA  JFK    TPA  133      1005      7  \n",
       "101014  -5       DL       479   N395DN  JFK    ATL  126       760      6  \n",
       "101015  -2       AA       327   N3CXAA  LGA    ORD  144       733     11  \n",
       "101016  -5       EV      4302   N14977  EWR    IAD   51       212      6  \n",
       "101017 -12       US      2161   N723UW  LGA    DCA   42       214      6  \n",
       "101018  59       VX       399   N626VA  JFK    LAX  372      2475      7  \n",
       "101019 -13       B6       201   N566JB  JFK    FLL  144      1069      7  \n",
       "101020 116       EV      5713   N836AS  LGA    IAD   50       229     14  \n",
       "101021  18       B6       608   N281JB  JFK    PWM   45       273     22  \n",
       "101022 -13       UA       405   N436UA  EWR    ORD  108       719      6  \n",
       "101023  80       9E      2909   N917XJ  JFK    RIC   53       288     19  \n",
       "101024  NA       UA        15   NA      EWR    HNL   NA      4963     13  \n",
       "101025  -2       WN       197   N916WN  LGA    STL  128       888     16  \n",
       "101026 -10       B6       301   N505JB  JFK    FLL  145      1069     14  \n",
       "101027  32       MQ      3388   N806MQ  LGA    CMH   79       479     13  \n",
       "101028 -11       WN      1341   N405WN  LGA    BNA  119       764     11  \n",
       "101029 -20       MQ      4588   N520MQ  LGA    MSP  146      1020     14  \n",
       "101030  24       US      1433   N196UW  LGA    CLT   88       544      6  \n",
       "101031  14       DL       847   N917DL  LGA    ATL  123       762     16  \n",
       "101032 234       UA      1279   N24702  LGA    DEN  257      1620     15  \n",
       "101033  12       MQ      3134   N510MQ  EWR    ORD  114       719     18  \n",
       "       minute time_hour          \n",
       "1      15     2013-07-08 15:00:00\n",
       "2       0     2013-06-20 08:00:00\n",
       "3      15     2013-04-15 12:00:00\n",
       "4      45     2013-02-26 22:00:00\n",
       "5      38     2013-09-09 10:00:00\n",
       "6      30     2013-05-19 06:00:00\n",
       "7       0     2013-08-05 20:00:00\n",
       "8      29     2013-06-13 16:00:00\n",
       "9       0     2013-03-04 06:00:00\n",
       "10     40     2013-11-16 15:00:00\n",
       "11      0     2013-09-22 17:00:00\n",
       "12     15     2013-07-18 13:00:00\n",
       "13     40     2013-02-26 11:00:00\n",
       "14     30     2013-06-10 06:00:00\n",
       "15     10     2013-04-11 14:00:00\n",
       "16      0     2013-06-17 16:00:00\n",
       "17     55     2013-11-05 06:00:00\n",
       "18     35     2013-10-24 09:00:00\n",
       "19      0     2013-07-30 07:00:00\n",
       "20      0     2013-12-31 09:00:00\n",
       "21     45     2013-05-08 15:00:00\n",
       "22     28     2013-05-30 20:00:00\n",
       "23     45     2013-08-18 13:00:00\n",
       "24      0     2013-03-04 07:00:00\n",
       "25     29     2013-08-18 08:00:00\n",
       "26      8     2013-04-02 12:00:00\n",
       "27     30     2013-07-28 07:00:00\n",
       "28     45     2013-01-21 13:00:00\n",
       "29     35     2013-07-28 07:00:00\n",
       "30     30     2013-05-31 14:00:00\n",
       "...    ...    ...                \n",
       "101004 55     2013-05-07 07:00:00\n",
       "101005 30     2013-02-22 18:00:00\n",
       "101006  0     2013-11-28 09:00:00\n",
       "101007 45     2013-11-15 06:00:00\n",
       "101008  0     2013-09-13 08:00:00\n",
       "101009  0     2013-08-07 13:00:00\n",
       "101010 30     2013-12-27 19:00:00\n",
       "101011 35     2013-03-17 19:00:00\n",
       "101012 24     2013-07-28 19:00:00\n",
       "101013 30     2013-08-08 07:00:00\n",
       "101014 30     2013-11-16 06:00:00\n",
       "101015 25     2013-02-10 11:00:00\n",
       "101016 10     2013-05-09 06:00:00\n",
       "101017  0     2013-02-26 06:00:00\n",
       "101018  0     2013-12-11 07:00:00\n",
       "101019 40     2013-04-11 07:00:00\n",
       "101020 40     2013-11-26 14:00:00\n",
       "101021 45     2013-01-06 22:00:00\n",
       "101022  0     2013-06-05 06:00:00\n",
       "101023 35     2013-11-22 19:00:00\n",
       "101024 41     2013-02-10 13:00:00\n",
       "101025 50     2013-05-28 16:00:00\n",
       "101026 30     2013-07-12 14:00:00\n",
       "101027  0     2013-09-13 13:00:00\n",
       "101028  0     2013-10-07 11:00:00\n",
       "101029 15     2013-05-26 14:00:00\n",
       "101030 30     2013-02-27 06:00:00\n",
       "101031  0     2013-07-28 16:00:00\n",
       "101032  0     2013-11-17 15:00:00\n",
       "101033 25     2013-08-04 18:00:00"
      ]
     },
     "metadata": {},
     "output_type": "display_data"
    }
   ],
   "source": [
    "sample_frac(flights,0.3) #30%"
   ]
  },
  {
   "cell_type": "markdown",
   "metadata": {},
   "source": [
    "### Pipe operator %>%"
   ]
  },
  {
   "cell_type": "code",
   "execution_count": 86,
   "metadata": {},
   "outputs": [],
   "source": [
    "df <- mtcars"
   ]
  },
  {
   "cell_type": "code",
   "execution_count": 87,
   "metadata": {},
   "outputs": [
    {
     "data": {
      "text/html": [
       "<table>\n",
       "<thead><tr><th></th><th scope=col>mpg</th><th scope=col>cyl</th><th scope=col>disp</th><th scope=col>hp</th><th scope=col>drat</th><th scope=col>wt</th><th scope=col>qsec</th><th scope=col>vs</th><th scope=col>am</th><th scope=col>gear</th><th scope=col>carb</th></tr></thead>\n",
       "<tbody>\n",
       "\t<tr><th scope=row>Mazda RX4</th><td>21.0 </td><td>6    </td><td>160.0</td><td>110  </td><td>3.90 </td><td>2.620</td><td>16.46</td><td>0    </td><td>1    </td><td>4    </td><td>4    </td></tr>\n",
       "\t<tr><th scope=row>Mazda RX4 Wag</th><td>21.0 </td><td>6    </td><td>160.0</td><td>110  </td><td>3.90 </td><td>2.875</td><td>17.02</td><td>0    </td><td>1    </td><td>4    </td><td>4    </td></tr>\n",
       "\t<tr><th scope=row>Datsun 710</th><td>22.8 </td><td>4    </td><td>108.0</td><td> 93  </td><td>3.85 </td><td>2.320</td><td>18.61</td><td>1    </td><td>1    </td><td>4    </td><td>1    </td></tr>\n",
       "\t<tr><th scope=row>Hornet 4 Drive</th><td>21.4 </td><td>6    </td><td>258.0</td><td>110  </td><td>3.08 </td><td>3.215</td><td>19.44</td><td>1    </td><td>0    </td><td>3    </td><td>1    </td></tr>\n",
       "\t<tr><th scope=row>Hornet Sportabout</th><td>18.7 </td><td>8    </td><td>360.0</td><td>175  </td><td>3.15 </td><td>3.440</td><td>17.02</td><td>0    </td><td>0    </td><td>3    </td><td>2    </td></tr>\n",
       "\t<tr><th scope=row>Valiant</th><td>18.1 </td><td>6    </td><td>225.0</td><td>105  </td><td>2.76 </td><td>3.460</td><td>20.22</td><td>1    </td><td>0    </td><td>3    </td><td>1    </td></tr>\n",
       "\t<tr><th scope=row>Duster 360</th><td>14.3 </td><td>8    </td><td>360.0</td><td>245  </td><td>3.21 </td><td>3.570</td><td>15.84</td><td>0    </td><td>0    </td><td>3    </td><td>4    </td></tr>\n",
       "\t<tr><th scope=row>Merc 240D</th><td>24.4 </td><td>4    </td><td>146.7</td><td> 62  </td><td>3.69 </td><td>3.190</td><td>20.00</td><td>1    </td><td>0    </td><td>4    </td><td>2    </td></tr>\n",
       "\t<tr><th scope=row>Merc 230</th><td>22.8 </td><td>4    </td><td>140.8</td><td> 95  </td><td>3.92 </td><td>3.150</td><td>22.90</td><td>1    </td><td>0    </td><td>4    </td><td>2    </td></tr>\n",
       "\t<tr><th scope=row>Merc 280</th><td>19.2 </td><td>6    </td><td>167.6</td><td>123  </td><td>3.92 </td><td>3.440</td><td>18.30</td><td>1    </td><td>0    </td><td>4    </td><td>4    </td></tr>\n",
       "\t<tr><th scope=row>Merc 280C</th><td>17.8 </td><td>6    </td><td>167.6</td><td>123  </td><td>3.92 </td><td>3.440</td><td>18.90</td><td>1    </td><td>0    </td><td>4    </td><td>4    </td></tr>\n",
       "\t<tr><th scope=row>Merc 450SE</th><td>16.4 </td><td>8    </td><td>275.8</td><td>180  </td><td>3.07 </td><td>4.070</td><td>17.40</td><td>0    </td><td>0    </td><td>3    </td><td>3    </td></tr>\n",
       "\t<tr><th scope=row>Merc 450SL</th><td>17.3 </td><td>8    </td><td>275.8</td><td>180  </td><td>3.07 </td><td>3.730</td><td>17.60</td><td>0    </td><td>0    </td><td>3    </td><td>3    </td></tr>\n",
       "\t<tr><th scope=row>Merc 450SLC</th><td>15.2 </td><td>8    </td><td>275.8</td><td>180  </td><td>3.07 </td><td>3.780</td><td>18.00</td><td>0    </td><td>0    </td><td>3    </td><td>3    </td></tr>\n",
       "\t<tr><th scope=row>Cadillac Fleetwood</th><td>10.4 </td><td>8    </td><td>472.0</td><td>205  </td><td>2.93 </td><td>5.250</td><td>17.98</td><td>0    </td><td>0    </td><td>3    </td><td>4    </td></tr>\n",
       "\t<tr><th scope=row>Lincoln Continental</th><td>10.4 </td><td>8    </td><td>460.0</td><td>215  </td><td>3.00 </td><td>5.424</td><td>17.82</td><td>0    </td><td>0    </td><td>3    </td><td>4    </td></tr>\n",
       "\t<tr><th scope=row>Chrysler Imperial</th><td>14.7 </td><td>8    </td><td>440.0</td><td>230  </td><td>3.23 </td><td>5.345</td><td>17.42</td><td>0    </td><td>0    </td><td>3    </td><td>4    </td></tr>\n",
       "\t<tr><th scope=row>Fiat 128</th><td>32.4 </td><td>4    </td><td> 78.7</td><td> 66  </td><td>4.08 </td><td>2.200</td><td>19.47</td><td>1    </td><td>1    </td><td>4    </td><td>1    </td></tr>\n",
       "\t<tr><th scope=row>Honda Civic</th><td>30.4 </td><td>4    </td><td> 75.7</td><td> 52  </td><td>4.93 </td><td>1.615</td><td>18.52</td><td>1    </td><td>1    </td><td>4    </td><td>2    </td></tr>\n",
       "\t<tr><th scope=row>Toyota Corolla</th><td>33.9 </td><td>4    </td><td> 71.1</td><td> 65  </td><td>4.22 </td><td>1.835</td><td>19.90</td><td>1    </td><td>1    </td><td>4    </td><td>1    </td></tr>\n",
       "\t<tr><th scope=row>Toyota Corona</th><td>21.5 </td><td>4    </td><td>120.1</td><td> 97  </td><td>3.70 </td><td>2.465</td><td>20.01</td><td>1    </td><td>0    </td><td>3    </td><td>1    </td></tr>\n",
       "\t<tr><th scope=row>Dodge Challenger</th><td>15.5 </td><td>8    </td><td>318.0</td><td>150  </td><td>2.76 </td><td>3.520</td><td>16.87</td><td>0    </td><td>0    </td><td>3    </td><td>2    </td></tr>\n",
       "\t<tr><th scope=row>AMC Javelin</th><td>15.2 </td><td>8    </td><td>304.0</td><td>150  </td><td>3.15 </td><td>3.435</td><td>17.30</td><td>0    </td><td>0    </td><td>3    </td><td>2    </td></tr>\n",
       "\t<tr><th scope=row>Camaro Z28</th><td>13.3 </td><td>8    </td><td>350.0</td><td>245  </td><td>3.73 </td><td>3.840</td><td>15.41</td><td>0    </td><td>0    </td><td>3    </td><td>4    </td></tr>\n",
       "\t<tr><th scope=row>Pontiac Firebird</th><td>19.2 </td><td>8    </td><td>400.0</td><td>175  </td><td>3.08 </td><td>3.845</td><td>17.05</td><td>0    </td><td>0    </td><td>3    </td><td>2    </td></tr>\n",
       "\t<tr><th scope=row>Fiat X1-9</th><td>27.3 </td><td>4    </td><td> 79.0</td><td> 66  </td><td>4.08 </td><td>1.935</td><td>18.90</td><td>1    </td><td>1    </td><td>4    </td><td>1    </td></tr>\n",
       "\t<tr><th scope=row>Porsche 914-2</th><td>26.0 </td><td>4    </td><td>120.3</td><td> 91  </td><td>4.43 </td><td>2.140</td><td>16.70</td><td>0    </td><td>1    </td><td>5    </td><td>2    </td></tr>\n",
       "\t<tr><th scope=row>Lotus Europa</th><td>30.4 </td><td>4    </td><td> 95.1</td><td>113  </td><td>3.77 </td><td>1.513</td><td>16.90</td><td>1    </td><td>1    </td><td>5    </td><td>2    </td></tr>\n",
       "\t<tr><th scope=row>Ford Pantera L</th><td>15.8 </td><td>8    </td><td>351.0</td><td>264  </td><td>4.22 </td><td>3.170</td><td>14.50</td><td>0    </td><td>1    </td><td>5    </td><td>4    </td></tr>\n",
       "\t<tr><th scope=row>Ferrari Dino</th><td>19.7 </td><td>6    </td><td>145.0</td><td>175  </td><td>3.62 </td><td>2.770</td><td>15.50</td><td>0    </td><td>1    </td><td>5    </td><td>6    </td></tr>\n",
       "\t<tr><th scope=row>Maserati Bora</th><td>15.0 </td><td>8    </td><td>301.0</td><td>335  </td><td>3.54 </td><td>3.570</td><td>14.60</td><td>0    </td><td>1    </td><td>5    </td><td>8    </td></tr>\n",
       "\t<tr><th scope=row>Volvo 142E</th><td>21.4 </td><td>4    </td><td>121.0</td><td>109  </td><td>4.11 </td><td>2.780</td><td>18.60</td><td>1    </td><td>1    </td><td>4    </td><td>2    </td></tr>\n",
       "</tbody>\n",
       "</table>\n"
      ],
      "text/latex": [
       "\\begin{tabular}{r|lllllllllll}\n",
       "  & mpg & cyl & disp & hp & drat & wt & qsec & vs & am & gear & carb\\\\\n",
       "\\hline\n",
       "\tMazda RX4 & 21.0  & 6     & 160.0 & 110   & 3.90  & 2.620 & 16.46 & 0     & 1     & 4     & 4    \\\\\n",
       "\tMazda RX4 Wag & 21.0  & 6     & 160.0 & 110   & 3.90  & 2.875 & 17.02 & 0     & 1     & 4     & 4    \\\\\n",
       "\tDatsun 710 & 22.8  & 4     & 108.0 &  93   & 3.85  & 2.320 & 18.61 & 1     & 1     & 4     & 1    \\\\\n",
       "\tHornet 4 Drive & 21.4  & 6     & 258.0 & 110   & 3.08  & 3.215 & 19.44 & 1     & 0     & 3     & 1    \\\\\n",
       "\tHornet Sportabout & 18.7  & 8     & 360.0 & 175   & 3.15  & 3.440 & 17.02 & 0     & 0     & 3     & 2    \\\\\n",
       "\tValiant & 18.1  & 6     & 225.0 & 105   & 2.76  & 3.460 & 20.22 & 1     & 0     & 3     & 1    \\\\\n",
       "\tDuster 360 & 14.3  & 8     & 360.0 & 245   & 3.21  & 3.570 & 15.84 & 0     & 0     & 3     & 4    \\\\\n",
       "\tMerc 240D & 24.4  & 4     & 146.7 &  62   & 3.69  & 3.190 & 20.00 & 1     & 0     & 4     & 2    \\\\\n",
       "\tMerc 230 & 22.8  & 4     & 140.8 &  95   & 3.92  & 3.150 & 22.90 & 1     & 0     & 4     & 2    \\\\\n",
       "\tMerc 280 & 19.2  & 6     & 167.6 & 123   & 3.92  & 3.440 & 18.30 & 1     & 0     & 4     & 4    \\\\\n",
       "\tMerc 280C & 17.8  & 6     & 167.6 & 123   & 3.92  & 3.440 & 18.90 & 1     & 0     & 4     & 4    \\\\\n",
       "\tMerc 450SE & 16.4  & 8     & 275.8 & 180   & 3.07  & 4.070 & 17.40 & 0     & 0     & 3     & 3    \\\\\n",
       "\tMerc 450SL & 17.3  & 8     & 275.8 & 180   & 3.07  & 3.730 & 17.60 & 0     & 0     & 3     & 3    \\\\\n",
       "\tMerc 450SLC & 15.2  & 8     & 275.8 & 180   & 3.07  & 3.780 & 18.00 & 0     & 0     & 3     & 3    \\\\\n",
       "\tCadillac Fleetwood & 10.4  & 8     & 472.0 & 205   & 2.93  & 5.250 & 17.98 & 0     & 0     & 3     & 4    \\\\\n",
       "\tLincoln Continental & 10.4  & 8     & 460.0 & 215   & 3.00  & 5.424 & 17.82 & 0     & 0     & 3     & 4    \\\\\n",
       "\tChrysler Imperial & 14.7  & 8     & 440.0 & 230   & 3.23  & 5.345 & 17.42 & 0     & 0     & 3     & 4    \\\\\n",
       "\tFiat 128 & 32.4  & 4     &  78.7 &  66   & 4.08  & 2.200 & 19.47 & 1     & 1     & 4     & 1    \\\\\n",
       "\tHonda Civic & 30.4  & 4     &  75.7 &  52   & 4.93  & 1.615 & 18.52 & 1     & 1     & 4     & 2    \\\\\n",
       "\tToyota Corolla & 33.9  & 4     &  71.1 &  65   & 4.22  & 1.835 & 19.90 & 1     & 1     & 4     & 1    \\\\\n",
       "\tToyota Corona & 21.5  & 4     & 120.1 &  97   & 3.70  & 2.465 & 20.01 & 1     & 0     & 3     & 1    \\\\\n",
       "\tDodge Challenger & 15.5  & 8     & 318.0 & 150   & 2.76  & 3.520 & 16.87 & 0     & 0     & 3     & 2    \\\\\n",
       "\tAMC Javelin & 15.2  & 8     & 304.0 & 150   & 3.15  & 3.435 & 17.30 & 0     & 0     & 3     & 2    \\\\\n",
       "\tCamaro Z28 & 13.3  & 8     & 350.0 & 245   & 3.73  & 3.840 & 15.41 & 0     & 0     & 3     & 4    \\\\\n",
       "\tPontiac Firebird & 19.2  & 8     & 400.0 & 175   & 3.08  & 3.845 & 17.05 & 0     & 0     & 3     & 2    \\\\\n",
       "\tFiat X1-9 & 27.3  & 4     &  79.0 &  66   & 4.08  & 1.935 & 18.90 & 1     & 1     & 4     & 1    \\\\\n",
       "\tPorsche 914-2 & 26.0  & 4     & 120.3 &  91   & 4.43  & 2.140 & 16.70 & 0     & 1     & 5     & 2    \\\\\n",
       "\tLotus Europa & 30.4  & 4     &  95.1 & 113   & 3.77  & 1.513 & 16.90 & 1     & 1     & 5     & 2    \\\\\n",
       "\tFord Pantera L & 15.8  & 8     & 351.0 & 264   & 4.22  & 3.170 & 14.50 & 0     & 1     & 5     & 4    \\\\\n",
       "\tFerrari Dino & 19.7  & 6     & 145.0 & 175   & 3.62  & 2.770 & 15.50 & 0     & 1     & 5     & 6    \\\\\n",
       "\tMaserati Bora & 15.0  & 8     & 301.0 & 335   & 3.54  & 3.570 & 14.60 & 0     & 1     & 5     & 8    \\\\\n",
       "\tVolvo 142E & 21.4  & 4     & 121.0 & 109   & 4.11  & 2.780 & 18.60 & 1     & 1     & 4     & 2    \\\\\n",
       "\\end{tabular}\n"
      ],
      "text/markdown": [
       "\n",
       "| <!--/--> | mpg | cyl | disp | hp | drat | wt | qsec | vs | am | gear | carb |\n",
       "|---|---|---|---|---|---|---|---|---|---|---|---|\n",
       "| Mazda RX4 | 21.0  | 6     | 160.0 | 110   | 3.90  | 2.620 | 16.46 | 0     | 1     | 4     | 4     |\n",
       "| Mazda RX4 Wag | 21.0  | 6     | 160.0 | 110   | 3.90  | 2.875 | 17.02 | 0     | 1     | 4     | 4     |\n",
       "| Datsun 710 | 22.8  | 4     | 108.0 |  93   | 3.85  | 2.320 | 18.61 | 1     | 1     | 4     | 1     |\n",
       "| Hornet 4 Drive | 21.4  | 6     | 258.0 | 110   | 3.08  | 3.215 | 19.44 | 1     | 0     | 3     | 1     |\n",
       "| Hornet Sportabout | 18.7  | 8     | 360.0 | 175   | 3.15  | 3.440 | 17.02 | 0     | 0     | 3     | 2     |\n",
       "| Valiant | 18.1  | 6     | 225.0 | 105   | 2.76  | 3.460 | 20.22 | 1     | 0     | 3     | 1     |\n",
       "| Duster 360 | 14.3  | 8     | 360.0 | 245   | 3.21  | 3.570 | 15.84 | 0     | 0     | 3     | 4     |\n",
       "| Merc 240D | 24.4  | 4     | 146.7 |  62   | 3.69  | 3.190 | 20.00 | 1     | 0     | 4     | 2     |\n",
       "| Merc 230 | 22.8  | 4     | 140.8 |  95   | 3.92  | 3.150 | 22.90 | 1     | 0     | 4     | 2     |\n",
       "| Merc 280 | 19.2  | 6     | 167.6 | 123   | 3.92  | 3.440 | 18.30 | 1     | 0     | 4     | 4     |\n",
       "| Merc 280C | 17.8  | 6     | 167.6 | 123   | 3.92  | 3.440 | 18.90 | 1     | 0     | 4     | 4     |\n",
       "| Merc 450SE | 16.4  | 8     | 275.8 | 180   | 3.07  | 4.070 | 17.40 | 0     | 0     | 3     | 3     |\n",
       "| Merc 450SL | 17.3  | 8     | 275.8 | 180   | 3.07  | 3.730 | 17.60 | 0     | 0     | 3     | 3     |\n",
       "| Merc 450SLC | 15.2  | 8     | 275.8 | 180   | 3.07  | 3.780 | 18.00 | 0     | 0     | 3     | 3     |\n",
       "| Cadillac Fleetwood | 10.4  | 8     | 472.0 | 205   | 2.93  | 5.250 | 17.98 | 0     | 0     | 3     | 4     |\n",
       "| Lincoln Continental | 10.4  | 8     | 460.0 | 215   | 3.00  | 5.424 | 17.82 | 0     | 0     | 3     | 4     |\n",
       "| Chrysler Imperial | 14.7  | 8     | 440.0 | 230   | 3.23  | 5.345 | 17.42 | 0     | 0     | 3     | 4     |\n",
       "| Fiat 128 | 32.4  | 4     |  78.7 |  66   | 4.08  | 2.200 | 19.47 | 1     | 1     | 4     | 1     |\n",
       "| Honda Civic | 30.4  | 4     |  75.7 |  52   | 4.93  | 1.615 | 18.52 | 1     | 1     | 4     | 2     |\n",
       "| Toyota Corolla | 33.9  | 4     |  71.1 |  65   | 4.22  | 1.835 | 19.90 | 1     | 1     | 4     | 1     |\n",
       "| Toyota Corona | 21.5  | 4     | 120.1 |  97   | 3.70  | 2.465 | 20.01 | 1     | 0     | 3     | 1     |\n",
       "| Dodge Challenger | 15.5  | 8     | 318.0 | 150   | 2.76  | 3.520 | 16.87 | 0     | 0     | 3     | 2     |\n",
       "| AMC Javelin | 15.2  | 8     | 304.0 | 150   | 3.15  | 3.435 | 17.30 | 0     | 0     | 3     | 2     |\n",
       "| Camaro Z28 | 13.3  | 8     | 350.0 | 245   | 3.73  | 3.840 | 15.41 | 0     | 0     | 3     | 4     |\n",
       "| Pontiac Firebird | 19.2  | 8     | 400.0 | 175   | 3.08  | 3.845 | 17.05 | 0     | 0     | 3     | 2     |\n",
       "| Fiat X1-9 | 27.3  | 4     |  79.0 |  66   | 4.08  | 1.935 | 18.90 | 1     | 1     | 4     | 1     |\n",
       "| Porsche 914-2 | 26.0  | 4     | 120.3 |  91   | 4.43  | 2.140 | 16.70 | 0     | 1     | 5     | 2     |\n",
       "| Lotus Europa | 30.4  | 4     |  95.1 | 113   | 3.77  | 1.513 | 16.90 | 1     | 1     | 5     | 2     |\n",
       "| Ford Pantera L | 15.8  | 8     | 351.0 | 264   | 4.22  | 3.170 | 14.50 | 0     | 1     | 5     | 4     |\n",
       "| Ferrari Dino | 19.7  | 6     | 145.0 | 175   | 3.62  | 2.770 | 15.50 | 0     | 1     | 5     | 6     |\n",
       "| Maserati Bora | 15.0  | 8     | 301.0 | 335   | 3.54  | 3.570 | 14.60 | 0     | 1     | 5     | 8     |\n",
       "| Volvo 142E | 21.4  | 4     | 121.0 | 109   | 4.11  | 2.780 | 18.60 | 1     | 1     | 4     | 2     |\n",
       "\n"
      ],
      "text/plain": [
       "                    mpg  cyl disp  hp  drat wt    qsec  vs am gear carb\n",
       "Mazda RX4           21.0 6   160.0 110 3.90 2.620 16.46 0  1  4    4   \n",
       "Mazda RX4 Wag       21.0 6   160.0 110 3.90 2.875 17.02 0  1  4    4   \n",
       "Datsun 710          22.8 4   108.0  93 3.85 2.320 18.61 1  1  4    1   \n",
       "Hornet 4 Drive      21.4 6   258.0 110 3.08 3.215 19.44 1  0  3    1   \n",
       "Hornet Sportabout   18.7 8   360.0 175 3.15 3.440 17.02 0  0  3    2   \n",
       "Valiant             18.1 6   225.0 105 2.76 3.460 20.22 1  0  3    1   \n",
       "Duster 360          14.3 8   360.0 245 3.21 3.570 15.84 0  0  3    4   \n",
       "Merc 240D           24.4 4   146.7  62 3.69 3.190 20.00 1  0  4    2   \n",
       "Merc 230            22.8 4   140.8  95 3.92 3.150 22.90 1  0  4    2   \n",
       "Merc 280            19.2 6   167.6 123 3.92 3.440 18.30 1  0  4    4   \n",
       "Merc 280C           17.8 6   167.6 123 3.92 3.440 18.90 1  0  4    4   \n",
       "Merc 450SE          16.4 8   275.8 180 3.07 4.070 17.40 0  0  3    3   \n",
       "Merc 450SL          17.3 8   275.8 180 3.07 3.730 17.60 0  0  3    3   \n",
       "Merc 450SLC         15.2 8   275.8 180 3.07 3.780 18.00 0  0  3    3   \n",
       "Cadillac Fleetwood  10.4 8   472.0 205 2.93 5.250 17.98 0  0  3    4   \n",
       "Lincoln Continental 10.4 8   460.0 215 3.00 5.424 17.82 0  0  3    4   \n",
       "Chrysler Imperial   14.7 8   440.0 230 3.23 5.345 17.42 0  0  3    4   \n",
       "Fiat 128            32.4 4    78.7  66 4.08 2.200 19.47 1  1  4    1   \n",
       "Honda Civic         30.4 4    75.7  52 4.93 1.615 18.52 1  1  4    2   \n",
       "Toyota Corolla      33.9 4    71.1  65 4.22 1.835 19.90 1  1  4    1   \n",
       "Toyota Corona       21.5 4   120.1  97 3.70 2.465 20.01 1  0  3    1   \n",
       "Dodge Challenger    15.5 8   318.0 150 2.76 3.520 16.87 0  0  3    2   \n",
       "AMC Javelin         15.2 8   304.0 150 3.15 3.435 17.30 0  0  3    2   \n",
       "Camaro Z28          13.3 8   350.0 245 3.73 3.840 15.41 0  0  3    4   \n",
       "Pontiac Firebird    19.2 8   400.0 175 3.08 3.845 17.05 0  0  3    2   \n",
       "Fiat X1-9           27.3 4    79.0  66 4.08 1.935 18.90 1  1  4    1   \n",
       "Porsche 914-2       26.0 4   120.3  91 4.43 2.140 16.70 0  1  5    2   \n",
       "Lotus Europa        30.4 4    95.1 113 3.77 1.513 16.90 1  1  5    2   \n",
       "Ford Pantera L      15.8 8   351.0 264 4.22 3.170 14.50 0  1  5    4   \n",
       "Ferrari Dino        19.7 6   145.0 175 3.62 2.770 15.50 0  1  5    6   \n",
       "Maserati Bora       15.0 8   301.0 335 3.54 3.570 14.60 0  1  5    8   \n",
       "Volvo 142E          21.4 4   121.0 109 4.11 2.780 18.60 1  1  4    2   "
      ]
     },
     "metadata": {},
     "output_type": "display_data"
    }
   ],
   "source": [
    "df"
   ]
  },
  {
   "cell_type": "code",
   "execution_count": 88,
   "metadata": {},
   "outputs": [
    {
     "name": "stdout",
     "output_type": "stream",
     "text": [
      "    mpg cyl  disp  hp drat    wt  qsec vs am gear carb\n",
      "1  21.0   6 160.0 110 3.90 2.620 16.46  0  1    4    4\n",
      "2  21.0   6 160.0 110 3.90 2.875 17.02  0  1    4    4\n",
      "3  22.8   4 108.0  93 3.85 2.320 18.61  1  1    4    1\n",
      "4  21.4   6 258.0 110 3.08 3.215 19.44  1  0    3    1\n",
      "5  24.4   4 146.7  62 3.69 3.190 20.00  1  0    4    2\n",
      "6  22.8   4 140.8  95 3.92 3.150 22.90  1  0    4    2\n",
      "7  32.4   4  78.7  66 4.08 2.200 19.47  1  1    4    1\n",
      "8  30.4   4  75.7  52 4.93 1.615 18.52  1  1    4    2\n",
      "9  33.9   4  71.1  65 4.22 1.835 19.90  1  1    4    1\n",
      "10 21.5   4 120.1  97 3.70 2.465 20.01  1  0    3    1\n",
      "11 27.3   4  79.0  66 4.08 1.935 18.90  1  1    4    1\n",
      "12 26.0   4 120.3  91 4.43 2.140 16.70  0  1    5    2\n",
      "13 30.4   4  95.1 113 3.77 1.513 16.90  1  1    5    2\n",
      "14 21.4   4 121.0 109 4.11 2.780 18.60  1  1    4    2\n"
     ]
    }
   ],
   "source": [
    "a <- filter(df,mpg>20)\n",
    "print(a)"
   ]
  },
  {
   "cell_type": "code",
   "execution_count": 89,
   "metadata": {},
   "outputs": [
    {
     "name": "stdout",
     "output_type": "stream",
     "text": [
      "    mpg cyl  disp  hp drat    wt  qsec vs am gear carb\n",
      "1  33.9   4  71.1  65 4.22 1.835 19.90  1  1    4    1\n",
      "2  21.4   6 258.0 110 3.08 3.215 19.44  1  0    3    1\n",
      "3  21.0   6 160.0 110 3.90 2.875 17.02  0  1    4    4\n",
      "4  21.0   6 160.0 110 3.90 2.620 16.46  0  1    4    4\n",
      "5  30.4   4  75.7  52 4.93 1.615 18.52  1  1    4    2\n",
      "6  30.4   4  95.1 113 3.77 1.513 16.90  1  1    5    2\n",
      "7  21.4   4 121.0 109 4.11 2.780 18.60  1  1    4    2\n",
      "8  26.0   4 120.3  91 4.43 2.140 16.70  0  1    5    2\n",
      "9  21.5   4 120.1  97 3.70 2.465 20.01  1  0    3    1\n",
      "10 24.4   4 146.7  62 3.69 3.190 20.00  1  0    4    2\n"
     ]
    }
   ],
   "source": [
    "b <- sample_n(a,10)\n",
    "print(b)"
   ]
  },
  {
   "cell_type": "code",
   "execution_count": 90,
   "metadata": {},
   "outputs": [],
   "source": [
    "c <- arrange(b,desc(hp))"
   ]
  },
  {
   "cell_type": "code",
   "execution_count": 91,
   "metadata": {},
   "outputs": [
    {
     "data": {
      "text/html": [
       "<table>\n",
       "<thead><tr><th scope=col>mpg</th><th scope=col>cyl</th><th scope=col>disp</th><th scope=col>hp</th><th scope=col>drat</th><th scope=col>wt</th><th scope=col>qsec</th><th scope=col>vs</th><th scope=col>am</th><th scope=col>gear</th><th scope=col>carb</th></tr></thead>\n",
       "<tbody>\n",
       "\t<tr><td>30.4 </td><td>4    </td><td> 95.1</td><td>113  </td><td>3.77 </td><td>1.513</td><td>16.90</td><td>1    </td><td>1    </td><td>5    </td><td>2    </td></tr>\n",
       "\t<tr><td>21.4 </td><td>6    </td><td>258.0</td><td>110  </td><td>3.08 </td><td>3.215</td><td>19.44</td><td>1    </td><td>0    </td><td>3    </td><td>1    </td></tr>\n",
       "\t<tr><td>21.0 </td><td>6    </td><td>160.0</td><td>110  </td><td>3.90 </td><td>2.875</td><td>17.02</td><td>0    </td><td>1    </td><td>4    </td><td>4    </td></tr>\n",
       "\t<tr><td>21.0 </td><td>6    </td><td>160.0</td><td>110  </td><td>3.90 </td><td>2.620</td><td>16.46</td><td>0    </td><td>1    </td><td>4    </td><td>4    </td></tr>\n",
       "\t<tr><td>21.4 </td><td>4    </td><td>121.0</td><td>109  </td><td>4.11 </td><td>2.780</td><td>18.60</td><td>1    </td><td>1    </td><td>4    </td><td>2    </td></tr>\n",
       "\t<tr><td>21.5 </td><td>4    </td><td>120.1</td><td> 97  </td><td>3.70 </td><td>2.465</td><td>20.01</td><td>1    </td><td>0    </td><td>3    </td><td>1    </td></tr>\n",
       "</tbody>\n",
       "</table>\n"
      ],
      "text/latex": [
       "\\begin{tabular}{r|lllllllllll}\n",
       " mpg & cyl & disp & hp & drat & wt & qsec & vs & am & gear & carb\\\\\n",
       "\\hline\n",
       "\t 30.4  & 4     &  95.1 & 113   & 3.77  & 1.513 & 16.90 & 1     & 1     & 5     & 2    \\\\\n",
       "\t 21.4  & 6     & 258.0 & 110   & 3.08  & 3.215 & 19.44 & 1     & 0     & 3     & 1    \\\\\n",
       "\t 21.0  & 6     & 160.0 & 110   & 3.90  & 2.875 & 17.02 & 0     & 1     & 4     & 4    \\\\\n",
       "\t 21.0  & 6     & 160.0 & 110   & 3.90  & 2.620 & 16.46 & 0     & 1     & 4     & 4    \\\\\n",
       "\t 21.4  & 4     & 121.0 & 109   & 4.11  & 2.780 & 18.60 & 1     & 1     & 4     & 2    \\\\\n",
       "\t 21.5  & 4     & 120.1 &  97   & 3.70  & 2.465 & 20.01 & 1     & 0     & 3     & 1    \\\\\n",
       "\\end{tabular}\n"
      ],
      "text/markdown": [
       "\n",
       "| mpg | cyl | disp | hp | drat | wt | qsec | vs | am | gear | carb |\n",
       "|---|---|---|---|---|---|---|---|---|---|---|\n",
       "| 30.4  | 4     |  95.1 | 113   | 3.77  | 1.513 | 16.90 | 1     | 1     | 5     | 2     |\n",
       "| 21.4  | 6     | 258.0 | 110   | 3.08  | 3.215 | 19.44 | 1     | 0     | 3     | 1     |\n",
       "| 21.0  | 6     | 160.0 | 110   | 3.90  | 2.875 | 17.02 | 0     | 1     | 4     | 4     |\n",
       "| 21.0  | 6     | 160.0 | 110   | 3.90  | 2.620 | 16.46 | 0     | 1     | 4     | 4     |\n",
       "| 21.4  | 4     | 121.0 | 109   | 4.11  | 2.780 | 18.60 | 1     | 1     | 4     | 2     |\n",
       "| 21.5  | 4     | 120.1 |  97   | 3.70  | 2.465 | 20.01 | 1     | 0     | 3     | 1     |\n",
       "\n"
      ],
      "text/plain": [
       "  mpg  cyl disp  hp  drat wt    qsec  vs am gear carb\n",
       "1 30.4 4    95.1 113 3.77 1.513 16.90 1  1  5    2   \n",
       "2 21.4 6   258.0 110 3.08 3.215 19.44 1  0  3    1   \n",
       "3 21.0 6   160.0 110 3.90 2.875 17.02 0  1  4    4   \n",
       "4 21.0 6   160.0 110 3.90 2.620 16.46 0  1  4    4   \n",
       "5 21.4 4   121.0 109 4.11 2.780 18.60 1  1  4    2   \n",
       "6 21.5 4   120.1  97 3.70 2.465 20.01 1  0  3    1   "
      ]
     },
     "metadata": {},
     "output_type": "display_data"
    }
   ],
   "source": [
    "head(c)"
   ]
  },
  {
   "cell_type": "markdown",
   "metadata": {},
   "source": [
    "#### Using pipe operator"
   ]
  },
  {
   "cell_type": "code",
   "execution_count": 75,
   "metadata": {},
   "outputs": [
    {
     "data": {
      "text/html": [
       "<table>\n",
       "<thead><tr><th scope=col>mpg</th><th scope=col>cyl</th><th scope=col>disp</th><th scope=col>hp</th><th scope=col>drat</th><th scope=col>wt</th><th scope=col>qsec</th><th scope=col>vs</th><th scope=col>am</th><th scope=col>gear</th><th scope=col>carb</th></tr></thead>\n",
       "<tbody>\n",
       "\t<tr><td>32.4 </td><td>4    </td><td> 78.7</td><td> 66  </td><td>4.08 </td><td>2.200</td><td>19.47</td><td>1    </td><td>1    </td><td>4    </td><td>1    </td></tr>\n",
       "\t<tr><td>30.4 </td><td>4    </td><td> 75.7</td><td> 52  </td><td>4.93 </td><td>1.615</td><td>18.52</td><td>1    </td><td>1    </td><td>4    </td><td>2    </td></tr>\n",
       "\t<tr><td>22.8 </td><td>4    </td><td>140.8</td><td> 95  </td><td>3.92 </td><td>3.150</td><td>22.90</td><td>1    </td><td>0    </td><td>4    </td><td>2    </td></tr>\n",
       "\t<tr><td>21.4 </td><td>4    </td><td>121.0</td><td>109  </td><td>4.11 </td><td>2.780</td><td>18.60</td><td>1    </td><td>1    </td><td>4    </td><td>2    </td></tr>\n",
       "\t<tr><td>21.0 </td><td>6    </td><td>160.0</td><td>110  </td><td>3.90 </td><td>2.620</td><td>16.46</td><td>0    </td><td>1    </td><td>4    </td><td>4    </td></tr>\n",
       "</tbody>\n",
       "</table>\n"
      ],
      "text/latex": [
       "\\begin{tabular}{r|lllllllllll}\n",
       " mpg & cyl & disp & hp & drat & wt & qsec & vs & am & gear & carb\\\\\n",
       "\\hline\n",
       "\t 32.4  & 4     &  78.7 &  66   & 4.08  & 2.200 & 19.47 & 1     & 1     & 4     & 1    \\\\\n",
       "\t 30.4  & 4     &  75.7 &  52   & 4.93  & 1.615 & 18.52 & 1     & 1     & 4     & 2    \\\\\n",
       "\t 22.8  & 4     & 140.8 &  95   & 3.92  & 3.150 & 22.90 & 1     & 0     & 4     & 2    \\\\\n",
       "\t 21.4  & 4     & 121.0 & 109   & 4.11  & 2.780 & 18.60 & 1     & 1     & 4     & 2    \\\\\n",
       "\t 21.0  & 6     & 160.0 & 110   & 3.90  & 2.620 & 16.46 & 0     & 1     & 4     & 4    \\\\\n",
       "\\end{tabular}\n"
      ],
      "text/markdown": [
       "\n",
       "| mpg | cyl | disp | hp | drat | wt | qsec | vs | am | gear | carb |\n",
       "|---|---|---|---|---|---|---|---|---|---|---|\n",
       "| 32.4  | 4     |  78.7 |  66   | 4.08  | 2.200 | 19.47 | 1     | 1     | 4     | 1     |\n",
       "| 30.4  | 4     |  75.7 |  52   | 4.93  | 1.615 | 18.52 | 1     | 1     | 4     | 2     |\n",
       "| 22.8  | 4     | 140.8 |  95   | 3.92  | 3.150 | 22.90 | 1     | 0     | 4     | 2     |\n",
       "| 21.4  | 4     | 121.0 | 109   | 4.11  | 2.780 | 18.60 | 1     | 1     | 4     | 2     |\n",
       "| 21.0  | 6     | 160.0 | 110   | 3.90  | 2.620 | 16.46 | 0     | 1     | 4     | 4     |\n",
       "\n"
      ],
      "text/plain": [
       "  mpg  cyl disp  hp  drat wt    qsec  vs am gear carb\n",
       "1 32.4 4    78.7  66 4.08 2.200 19.47 1  1  4    1   \n",
       "2 30.4 4    75.7  52 4.93 1.615 18.52 1  1  4    2   \n",
       "3 22.8 4   140.8  95 3.92 3.150 22.90 1  0  4    2   \n",
       "4 21.4 4   121.0 109 4.11 2.780 18.60 1  1  4    2   \n",
       "5 21.0 6   160.0 110 3.90 2.620 16.46 0  1  4    4   "
      ]
     },
     "metadata": {},
     "output_type": "display_data"
    }
   ],
   "source": [
    "df %>% filter(mpg > 20) %>% sample_n(5) %>% arrange(desc(mpg))"
   ]
  }
 ],
 "metadata": {
  "kernelspec": {
   "display_name": "R",
   "language": "R",
   "name": "ir"
  },
  "language_info": {
   "codemirror_mode": "r",
   "file_extension": ".r",
   "mimetype": "text/x-r-source",
   "name": "R",
   "pygments_lexer": "r",
   "version": "3.6.0"
  }
 },
 "nbformat": 4,
 "nbformat_minor": 2
}
