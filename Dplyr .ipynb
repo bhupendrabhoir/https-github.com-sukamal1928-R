{
 "cells": [
  {
   "cell_type": "markdown",
   "metadata": {},
   "source": [
    "# Dplyr"
   ]
  },
  {
   "cell_type": "markdown",
   "metadata": {},
   "source": [
    "Dplyr library is used for data manipulation"
   ]
  },
  {
   "cell_type": "markdown",
   "metadata": {},
   "source": [
    "### Installation"
   ]
  },
  {
   "cell_type": "code",
   "execution_count": 1,
   "metadata": {},
   "outputs": [
    {
     "name": "stderr",
     "output_type": "stream",
     "text": [
      "Installing package into 'C:/Users/itvedant-le1/Documents/R/win-library/3.6'\n",
      "(as 'lib' is unspecified)\n"
     ]
    },
    {
     "name": "stdout",
     "output_type": "stream",
     "text": [
      "package 'dplyr' successfully unpacked and MD5 sums checked\n"
     ]
    },
    {
     "name": "stderr",
     "output_type": "stream",
     "text": [
      "Warning message:\n",
      "\"cannot remove prior installation of package 'dplyr'\""
     ]
    },
    {
     "name": "stdout",
     "output_type": "stream",
     "text": [
      "\n",
      "The downloaded binary packages are in\n",
      "\tC:\\Users\\itvedant-le1\\AppData\\Local\\Temp\\RtmpABiS2U\\downloaded_packages\n"
     ]
    }
   ],
   "source": [
    "install.packages(\"dplyr\")"
   ]
  },
  {
   "cell_type": "code",
   "execution_count": 2,
   "metadata": {},
   "outputs": [
    {
     "name": "stderr",
     "output_type": "stream",
     "text": [
      "\n",
      "Attaching package: 'dplyr'\n",
      "\n",
      "The following objects are masked from 'package:stats':\n",
      "\n",
      "    filter, lag\n",
      "\n",
      "The following objects are masked from 'package:base':\n",
      "\n",
      "    intersect, setdiff, setequal, union\n",
      "\n"
     ]
    }
   ],
   "source": [
    "library(\"dplyr\")"
   ]
  },
  {
   "cell_type": "markdown",
   "metadata": {},
   "source": [
    "### Installation of nyc flights data"
   ]
  },
  {
   "cell_type": "code",
   "execution_count": 3,
   "metadata": {},
   "outputs": [
    {
     "name": "stderr",
     "output_type": "stream",
     "text": [
      "Installing package into 'C:/Users/itvedant-le1/Documents/R/win-library/3.6'\n",
      "(as 'lib' is unspecified)\n"
     ]
    },
    {
     "name": "stdout",
     "output_type": "stream",
     "text": [
      "package 'nycflights13' successfully unpacked and MD5 sums checked\n",
      "\n",
      "The downloaded binary packages are in\n",
      "\tC:\\Users\\itvedant-le1\\AppData\\Local\\Temp\\RtmpABiS2U\\downloaded_packages\n"
     ]
    }
   ],
   "source": [
    "install.packages('nycflights13')"
   ]
  },
  {
   "cell_type": "code",
   "execution_count": 4,
   "metadata": {},
   "outputs": [
    {
     "name": "stderr",
     "output_type": "stream",
     "text": [
      "Warning message:\n",
      "\"package 'nycflights13' was built under R version 3.6.1\""
     ]
    }
   ],
   "source": [
    "library(nycflights13)"
   ]
  },
  {
   "cell_type": "code",
   "execution_count": 5,
   "metadata": {},
   "outputs": [
    {
     "data": {
      "text/html": [
       "<table>\n",
       "<thead><tr><th scope=col>year</th><th scope=col>month</th><th scope=col>day</th><th scope=col>dep_time</th><th scope=col>sched_dep_time</th><th scope=col>dep_delay</th><th scope=col>arr_time</th><th scope=col>sched_arr_time</th><th scope=col>arr_delay</th><th scope=col>carrier</th><th scope=col>flight</th><th scope=col>tailnum</th><th scope=col>origin</th><th scope=col>dest</th><th scope=col>air_time</th><th scope=col>distance</th><th scope=col>hour</th><th scope=col>minute</th><th scope=col>time_hour</th></tr></thead>\n",
       "<tbody>\n",
       "\t<tr><td>2013               </td><td>1                  </td><td>1                  </td><td>517                </td><td>515                </td><td> 2                 </td><td> 830               </td><td> 819               </td><td> 11                </td><td>UA                 </td><td>1545               </td><td>N14228             </td><td>EWR                </td><td>IAH                </td><td>227                </td><td>1400               </td><td>5                  </td><td>15                 </td><td>2013-01-01 05:00:00</td></tr>\n",
       "\t<tr><td>2013               </td><td>1                  </td><td>1                  </td><td>533                </td><td>529                </td><td> 4                 </td><td> 850               </td><td> 830               </td><td> 20                </td><td>UA                 </td><td>1714               </td><td>N24211             </td><td>LGA                </td><td>IAH                </td><td>227                </td><td>1416               </td><td>5                  </td><td>29                 </td><td>2013-01-01 05:00:00</td></tr>\n",
       "\t<tr><td>2013               </td><td>1                  </td><td>1                  </td><td>542                </td><td>540                </td><td> 2                 </td><td> 923               </td><td> 850               </td><td> 33                </td><td>AA                 </td><td>1141               </td><td>N619AA             </td><td>JFK                </td><td>MIA                </td><td>160                </td><td>1089               </td><td>5                  </td><td>40                 </td><td>2013-01-01 05:00:00</td></tr>\n",
       "\t<tr><td>2013               </td><td>1                  </td><td>1                  </td><td>544                </td><td>545                </td><td>-1                 </td><td>1004               </td><td>1022               </td><td>-18                </td><td>B6                 </td><td> 725               </td><td>N804JB             </td><td>JFK                </td><td>BQN                </td><td>183                </td><td>1576               </td><td>5                  </td><td>45                 </td><td>2013-01-01 05:00:00</td></tr>\n",
       "\t<tr><td>2013               </td><td>1                  </td><td>1                  </td><td>554                </td><td>600                </td><td>-6                 </td><td> 812               </td><td> 837               </td><td>-25                </td><td>DL                 </td><td> 461               </td><td>N668DN             </td><td>LGA                </td><td>ATL                </td><td>116                </td><td> 762               </td><td>6                  </td><td> 0                 </td><td>2013-01-01 06:00:00</td></tr>\n",
       "\t<tr><td>2013               </td><td>1                  </td><td>1                  </td><td>554                </td><td>558                </td><td>-4                 </td><td> 740               </td><td> 728               </td><td> 12                </td><td>UA                 </td><td>1696               </td><td>N39463             </td><td>EWR                </td><td>ORD                </td><td>150                </td><td> 719               </td><td>5                  </td><td>58                 </td><td>2013-01-01 05:00:00</td></tr>\n",
       "</tbody>\n",
       "</table>\n"
      ],
      "text/latex": [
       "\\begin{tabular}{r|lllllllllllllllllll}\n",
       " year & month & day & dep\\_time & sched\\_dep\\_time & dep\\_delay & arr\\_time & sched\\_arr\\_time & arr\\_delay & carrier & flight & tailnum & origin & dest & air\\_time & distance & hour & minute & time\\_hour\\\\\n",
       "\\hline\n",
       "\t 2013                & 1                   & 1                   & 517                 & 515                 &  2                  &  830                &  819                &  11                 & UA                  & 1545                & N14228              & EWR                 & IAH                 & 227                 & 1400                & 5                   & 15                  & 2013-01-01 05:00:00\\\\\n",
       "\t 2013                & 1                   & 1                   & 533                 & 529                 &  4                  &  850                &  830                &  20                 & UA                  & 1714                & N24211              & LGA                 & IAH                 & 227                 & 1416                & 5                   & 29                  & 2013-01-01 05:00:00\\\\\n",
       "\t 2013                & 1                   & 1                   & 542                 & 540                 &  2                  &  923                &  850                &  33                 & AA                  & 1141                & N619AA              & JFK                 & MIA                 & 160                 & 1089                & 5                   & 40                  & 2013-01-01 05:00:00\\\\\n",
       "\t 2013                & 1                   & 1                   & 544                 & 545                 & -1                  & 1004                & 1022                & -18                 & B6                  &  725                & N804JB              & JFK                 & BQN                 & 183                 & 1576                & 5                   & 45                  & 2013-01-01 05:00:00\\\\\n",
       "\t 2013                & 1                   & 1                   & 554                 & 600                 & -6                  &  812                &  837                & -25                 & DL                  &  461                & N668DN              & LGA                 & ATL                 & 116                 &  762                & 6                   &  0                  & 2013-01-01 06:00:00\\\\\n",
       "\t 2013                & 1                   & 1                   & 554                 & 558                 & -4                  &  740                &  728                &  12                 & UA                  & 1696                & N39463              & EWR                 & ORD                 & 150                 &  719                & 5                   & 58                  & 2013-01-01 05:00:00\\\\\n",
       "\\end{tabular}\n"
      ],
      "text/markdown": [
       "\n",
       "| year | month | day | dep_time | sched_dep_time | dep_delay | arr_time | sched_arr_time | arr_delay | carrier | flight | tailnum | origin | dest | air_time | distance | hour | minute | time_hour |\n",
       "|---|---|---|---|---|---|---|---|---|---|---|---|---|---|---|---|---|---|---|\n",
       "| 2013                | 1                   | 1                   | 517                 | 515                 |  2                  |  830                |  819                |  11                 | UA                  | 1545                | N14228              | EWR                 | IAH                 | 227                 | 1400                | 5                   | 15                  | 2013-01-01 05:00:00 |\n",
       "| 2013                | 1                   | 1                   | 533                 | 529                 |  4                  |  850                |  830                |  20                 | UA                  | 1714                | N24211              | LGA                 | IAH                 | 227                 | 1416                | 5                   | 29                  | 2013-01-01 05:00:00 |\n",
       "| 2013                | 1                   | 1                   | 542                 | 540                 |  2                  |  923                |  850                |  33                 | AA                  | 1141                | N619AA              | JFK                 | MIA                 | 160                 | 1089                | 5                   | 40                  | 2013-01-01 05:00:00 |\n",
       "| 2013                | 1                   | 1                   | 544                 | 545                 | -1                  | 1004                | 1022                | -18                 | B6                  |  725                | N804JB              | JFK                 | BQN                 | 183                 | 1576                | 5                   | 45                  | 2013-01-01 05:00:00 |\n",
       "| 2013                | 1                   | 1                   | 554                 | 600                 | -6                  |  812                |  837                | -25                 | DL                  |  461                | N668DN              | LGA                 | ATL                 | 116                 |  762                | 6                   |  0                  | 2013-01-01 06:00:00 |\n",
       "| 2013                | 1                   | 1                   | 554                 | 558                 | -4                  |  740                |  728                |  12                 | UA                  | 1696                | N39463              | EWR                 | ORD                 | 150                 |  719                | 5                   | 58                  | 2013-01-01 05:00:00 |\n",
       "\n"
      ],
      "text/plain": [
       "  year month day dep_time sched_dep_time dep_delay arr_time sched_arr_time\n",
       "1 2013 1     1   517      515             2         830      819          \n",
       "2 2013 1     1   533      529             4         850      830          \n",
       "3 2013 1     1   542      540             2         923      850          \n",
       "4 2013 1     1   544      545            -1        1004     1022          \n",
       "5 2013 1     1   554      600            -6         812      837          \n",
       "6 2013 1     1   554      558            -4         740      728          \n",
       "  arr_delay carrier flight tailnum origin dest air_time distance hour minute\n",
       "1  11       UA      1545   N14228  EWR    IAH  227      1400     5    15    \n",
       "2  20       UA      1714   N24211  LGA    IAH  227      1416     5    29    \n",
       "3  33       AA      1141   N619AA  JFK    MIA  160      1089     5    40    \n",
       "4 -18       B6       725   N804JB  JFK    BQN  183      1576     5    45    \n",
       "5 -25       DL       461   N668DN  LGA    ATL  116       762     6     0    \n",
       "6  12       UA      1696   N39463  EWR    ORD  150       719     5    58    \n",
       "  time_hour          \n",
       "1 2013-01-01 05:00:00\n",
       "2 2013-01-01 05:00:00\n",
       "3 2013-01-01 05:00:00\n",
       "4 2013-01-01 05:00:00\n",
       "5 2013-01-01 06:00:00\n",
       "6 2013-01-01 05:00:00"
      ]
     },
     "metadata": {},
     "output_type": "display_data"
    }
   ],
   "source": [
    "head(flights)"
   ]
  },
  {
   "cell_type": "code",
   "execution_count": 6,
   "metadata": {},
   "outputs": [
    {
     "data": {
      "text/plain": [
       "      year          month             day           dep_time    sched_dep_time\n",
       " Min.   :2013   Min.   : 1.000   Min.   : 1.00   Min.   :   1   Min.   : 106  \n",
       " 1st Qu.:2013   1st Qu.: 4.000   1st Qu.: 8.00   1st Qu.: 907   1st Qu.: 906  \n",
       " Median :2013   Median : 7.000   Median :16.00   Median :1401   Median :1359  \n",
       " Mean   :2013   Mean   : 6.549   Mean   :15.71   Mean   :1349   Mean   :1344  \n",
       " 3rd Qu.:2013   3rd Qu.:10.000   3rd Qu.:23.00   3rd Qu.:1744   3rd Qu.:1729  \n",
       " Max.   :2013   Max.   :12.000   Max.   :31.00   Max.   :2400   Max.   :2359  \n",
       "                                                 NA's   :8255                 \n",
       "   dep_delay          arr_time    sched_arr_time   arr_delay       \n",
       " Min.   : -43.00   Min.   :   1   Min.   :   1   Min.   : -86.000  \n",
       " 1st Qu.:  -5.00   1st Qu.:1104   1st Qu.:1124   1st Qu.: -17.000  \n",
       " Median :  -2.00   Median :1535   Median :1556   Median :  -5.000  \n",
       " Mean   :  12.64   Mean   :1502   Mean   :1536   Mean   :   6.895  \n",
       " 3rd Qu.:  11.00   3rd Qu.:1940   3rd Qu.:1945   3rd Qu.:  14.000  \n",
       " Max.   :1301.00   Max.   :2400   Max.   :2359   Max.   :1272.000  \n",
       " NA's   :8255      NA's   :8713                  NA's   :9430      \n",
       "   carrier              flight       tailnum             origin         \n",
       " Length:336776      Min.   :   1   Length:336776      Length:336776     \n",
       " Class :character   1st Qu.: 553   Class :character   Class :character  \n",
       " Mode  :character   Median :1496   Mode  :character   Mode  :character  \n",
       "                    Mean   :1972                                        \n",
       "                    3rd Qu.:3465                                        \n",
       "                    Max.   :8500                                        \n",
       "                                                                        \n",
       "     dest              air_time        distance         hour      \n",
       " Length:336776      Min.   : 20.0   Min.   :  17   Min.   : 1.00  \n",
       " Class :character   1st Qu.: 82.0   1st Qu.: 502   1st Qu.: 9.00  \n",
       " Mode  :character   Median :129.0   Median : 872   Median :13.00  \n",
       "                    Mean   :150.7   Mean   :1040   Mean   :13.18  \n",
       "                    3rd Qu.:192.0   3rd Qu.:1389   3rd Qu.:17.00  \n",
       "                    Max.   :695.0   Max.   :4983   Max.   :23.00  \n",
       "                    NA's   :9430                                  \n",
       "     minute        time_hour                  \n",
       " Min.   : 0.00   Min.   :2013-01-01 05:00:00  \n",
       " 1st Qu.: 8.00   1st Qu.:2013-04-04 13:00:00  \n",
       " Median :29.00   Median :2013-07-03 10:00:00  \n",
       " Mean   :26.23   Mean   :2013-07-03 05:22:54  \n",
       " 3rd Qu.:44.00   3rd Qu.:2013-10-01 07:00:00  \n",
       " Max.   :59.00   Max.   :2013-12-31 23:00:00  \n",
       "                                              "
      ]
     },
     "metadata": {},
     "output_type": "display_data"
    }
   ],
   "source": [
    "summary(flights)"
   ]
  },
  {
   "cell_type": "code",
   "execution_count": 7,
   "metadata": {},
   "outputs": [
    {
     "data": {
      "text/html": [
       "<ol class=list-inline>\n",
       "\t<li>336776</li>\n",
       "\t<li>19</li>\n",
       "</ol>\n"
      ],
      "text/latex": [
       "\\begin{enumerate*}\n",
       "\\item 336776\n",
       "\\item 19\n",
       "\\end{enumerate*}\n"
      ],
      "text/markdown": [
       "1. 336776\n",
       "2. 19\n",
       "\n",
       "\n"
      ],
      "text/plain": [
       "[1] 336776     19"
      ]
     },
     "metadata": {},
     "output_type": "display_data"
    }
   ],
   "source": [
    "dim(flights)"
   ]
  },
  {
   "cell_type": "markdown",
   "metadata": {},
   "source": [
    "### 1) filter \n",
    "\n",
    "filter() allows you to select a subset of rows in a data frame"
   ]
  },
  {
   "cell_type": "code",
   "execution_count": 8,
   "metadata": {},
   "outputs": [
    {
     "data": {
      "text/html": [
       "<table>\n",
       "<thead><tr><th scope=col>year</th><th scope=col>month</th><th scope=col>day</th><th scope=col>dep_time</th><th scope=col>sched_dep_time</th><th scope=col>dep_delay</th><th scope=col>arr_time</th><th scope=col>sched_arr_time</th><th scope=col>arr_delay</th><th scope=col>carrier</th><th scope=col>flight</th><th scope=col>tailnum</th><th scope=col>origin</th><th scope=col>dest</th><th scope=col>air_time</th><th scope=col>distance</th><th scope=col>hour</th><th scope=col>minute</th><th scope=col>time_hour</th></tr></thead>\n",
       "<tbody>\n",
       "\t<tr><td>2013               </td><td>11                 </td><td>3                  </td><td>538                </td><td>545                </td><td>-7                 </td><td>824                </td><td>855                </td><td>-31                </td><td>AA                 </td><td>2243               </td><td>N5DWAA             </td><td>JFK                </td><td>MIA                </td><td>144                </td><td>1089               </td><td>5                  </td><td>45                 </td><td>2013-11-03 05:00:00</td></tr>\n",
       "\t<tr><td>2013               </td><td>11                 </td><td>3                  </td><td>556                </td><td>600                </td><td>-4                 </td><td>900                </td><td>905                </td><td> -5                </td><td>AA                 </td><td>1175               </td><td>N3CSAA             </td><td>LGA                </td><td>MIA                </td><td>148                </td><td>1096               </td><td>6                  </td><td> 0                 </td><td>2013-11-03 06:00:00</td></tr>\n",
       "\t<tr><td>2013               </td><td>11                 </td><td>3                  </td><td>604                </td><td>610                </td><td>-6                 </td><td>844                </td><td>855                </td><td>-11                </td><td>AA                 </td><td>1103               </td><td>N3KDAA             </td><td>LGA                </td><td>DFW                </td><td>192                </td><td>1389               </td><td>6                  </td><td>10                 </td><td>2013-11-03 06:00:00</td></tr>\n",
       "\t<tr><td>2013               </td><td>11                 </td><td>3                  </td><td>624                </td><td>629                </td><td>-5                 </td><td>907                </td><td>929                </td><td>-22                </td><td>AA                 </td><td>1205               </td><td>N3EJAA             </td><td>EWR                </td><td>MIA                </td><td>141                </td><td>1085               </td><td>6                  </td><td>29                 </td><td>2013-11-03 06:00:00</td></tr>\n",
       "\t<tr><td>2013               </td><td>11                 </td><td>3                  </td><td>625                </td><td>630                </td><td>-5                 </td><td>736                </td><td>805                </td><td>-29                </td><td>AA                 </td><td> 303               </td><td>N4WJAA             </td><td>LGA                </td><td>ORD                </td><td>113                </td><td> 733               </td><td>6                  </td><td>30                 </td><td>2013-11-03 06:00:00</td></tr>\n",
       "\t<tr><td>2013               </td><td>11                 </td><td>3                  </td><td>653                </td><td>655                </td><td>-2                 </td><td>925                </td><td>920                </td><td>  5                </td><td>AA                 </td><td>1263               </td><td>N634AA             </td><td>JFK                </td><td>LAS                </td><td>306                </td><td>2248               </td><td>6                  </td><td>55                 </td><td>2013-11-03 06:00:00</td></tr>\n",
       "</tbody>\n",
       "</table>\n"
      ],
      "text/latex": [
       "\\begin{tabular}{r|lllllllllllllllllll}\n",
       " year & month & day & dep\\_time & sched\\_dep\\_time & dep\\_delay & arr\\_time & sched\\_arr\\_time & arr\\_delay & carrier & flight & tailnum & origin & dest & air\\_time & distance & hour & minute & time\\_hour\\\\\n",
       "\\hline\n",
       "\t 2013                & 11                  & 3                   & 538                 & 545                 & -7                  & 824                 & 855                 & -31                 & AA                  & 2243                & N5DWAA              & JFK                 & MIA                 & 144                 & 1089                & 5                   & 45                  & 2013-11-03 05:00:00\\\\\n",
       "\t 2013                & 11                  & 3                   & 556                 & 600                 & -4                  & 900                 & 905                 &  -5                 & AA                  & 1175                & N3CSAA              & LGA                 & MIA                 & 148                 & 1096                & 6                   &  0                  & 2013-11-03 06:00:00\\\\\n",
       "\t 2013                & 11                  & 3                   & 604                 & 610                 & -6                  & 844                 & 855                 & -11                 & AA                  & 1103                & N3KDAA              & LGA                 & DFW                 & 192                 & 1389                & 6                   & 10                  & 2013-11-03 06:00:00\\\\\n",
       "\t 2013                & 11                  & 3                   & 624                 & 629                 & -5                  & 907                 & 929                 & -22                 & AA                  & 1205                & N3EJAA              & EWR                 & MIA                 & 141                 & 1085                & 6                   & 29                  & 2013-11-03 06:00:00\\\\\n",
       "\t 2013                & 11                  & 3                   & 625                 & 630                 & -5                  & 736                 & 805                 & -29                 & AA                  &  303                & N4WJAA              & LGA                 & ORD                 & 113                 &  733                & 6                   & 30                  & 2013-11-03 06:00:00\\\\\n",
       "\t 2013                & 11                  & 3                   & 653                 & 655                 & -2                  & 925                 & 920                 &   5                 & AA                  & 1263                & N634AA              & JFK                 & LAS                 & 306                 & 2248                & 6                   & 55                  & 2013-11-03 06:00:00\\\\\n",
       "\\end{tabular}\n"
      ],
      "text/markdown": [
       "\n",
       "| year | month | day | dep_time | sched_dep_time | dep_delay | arr_time | sched_arr_time | arr_delay | carrier | flight | tailnum | origin | dest | air_time | distance | hour | minute | time_hour |\n",
       "|---|---|---|---|---|---|---|---|---|---|---|---|---|---|---|---|---|---|---|\n",
       "| 2013                | 11                  | 3                   | 538                 | 545                 | -7                  | 824                 | 855                 | -31                 | AA                  | 2243                | N5DWAA              | JFK                 | MIA                 | 144                 | 1089                | 5                   | 45                  | 2013-11-03 05:00:00 |\n",
       "| 2013                | 11                  | 3                   | 556                 | 600                 | -4                  | 900                 | 905                 |  -5                 | AA                  | 1175                | N3CSAA              | LGA                 | MIA                 | 148                 | 1096                | 6                   |  0                  | 2013-11-03 06:00:00 |\n",
       "| 2013                | 11                  | 3                   | 604                 | 610                 | -6                  | 844                 | 855                 | -11                 | AA                  | 1103                | N3KDAA              | LGA                 | DFW                 | 192                 | 1389                | 6                   | 10                  | 2013-11-03 06:00:00 |\n",
       "| 2013                | 11                  | 3                   | 624                 | 629                 | -5                  | 907                 | 929                 | -22                 | AA                  | 1205                | N3EJAA              | EWR                 | MIA                 | 141                 | 1085                | 6                   | 29                  | 2013-11-03 06:00:00 |\n",
       "| 2013                | 11                  | 3                   | 625                 | 630                 | -5                  | 736                 | 805                 | -29                 | AA                  |  303                | N4WJAA              | LGA                 | ORD                 | 113                 |  733                | 6                   | 30                  | 2013-11-03 06:00:00 |\n",
       "| 2013                | 11                  | 3                   | 653                 | 655                 | -2                  | 925                 | 920                 |   5                 | AA                  | 1263                | N634AA              | JFK                 | LAS                 | 306                 | 2248                | 6                   | 55                  | 2013-11-03 06:00:00 |\n",
       "\n"
      ],
      "text/plain": [
       "  year month day dep_time sched_dep_time dep_delay arr_time sched_arr_time\n",
       "1 2013 11    3   538      545            -7        824      855           \n",
       "2 2013 11    3   556      600            -4        900      905           \n",
       "3 2013 11    3   604      610            -6        844      855           \n",
       "4 2013 11    3   624      629            -5        907      929           \n",
       "5 2013 11    3   625      630            -5        736      805           \n",
       "6 2013 11    3   653      655            -2        925      920           \n",
       "  arr_delay carrier flight tailnum origin dest air_time distance hour minute\n",
       "1 -31       AA      2243   N5DWAA  JFK    MIA  144      1089     5    45    \n",
       "2  -5       AA      1175   N3CSAA  LGA    MIA  148      1096     6     0    \n",
       "3 -11       AA      1103   N3KDAA  LGA    DFW  192      1389     6    10    \n",
       "4 -22       AA      1205   N3EJAA  EWR    MIA  141      1085     6    29    \n",
       "5 -29       AA       303   N4WJAA  LGA    ORD  113       733     6    30    \n",
       "6   5       AA      1263   N634AA  JFK    LAS  306      2248     6    55    \n",
       "  time_hour          \n",
       "1 2013-11-03 05:00:00\n",
       "2 2013-11-03 06:00:00\n",
       "3 2013-11-03 06:00:00\n",
       "4 2013-11-03 06:00:00\n",
       "5 2013-11-03 06:00:00\n",
       "6 2013-11-03 06:00:00"
      ]
     },
     "metadata": {},
     "output_type": "display_data"
    }
   ],
   "source": [
    "head(filter(flights,month==11,day==3,carrier=='AA'))"
   ]
  },
  {
   "cell_type": "code",
   "execution_count": 9,
   "metadata": {},
   "outputs": [
    {
     "data": {
      "text/html": [
       "<table>\n",
       "<thead><tr><th scope=col>year</th><th scope=col>month</th><th scope=col>day</th><th scope=col>dep_time</th><th scope=col>sched_dep_time</th><th scope=col>dep_delay</th><th scope=col>arr_time</th><th scope=col>sched_arr_time</th><th scope=col>arr_delay</th><th scope=col>carrier</th><th scope=col>flight</th><th scope=col>tailnum</th><th scope=col>origin</th><th scope=col>dest</th><th scope=col>air_time</th><th scope=col>distance</th><th scope=col>hour</th><th scope=col>minute</th><th scope=col>time_hour</th></tr></thead>\n",
       "<tbody>\n",
       "\t<tr><td>2013               </td><td>11                 </td><td>3                  </td><td>538                </td><td>545                </td><td>-7                 </td><td>824                </td><td>855                </td><td>-31                </td><td>AA                 </td><td>2243               </td><td>N5DWAA             </td><td>JFK                </td><td>MIA                </td><td>144                </td><td>1089               </td><td>5                  </td><td>45                 </td><td>2013-11-03 05:00:00</td></tr>\n",
       "\t<tr><td>2013               </td><td>11                 </td><td>3                  </td><td>556                </td><td>600                </td><td>-4                 </td><td>900                </td><td>905                </td><td> -5                </td><td>AA                 </td><td>1175               </td><td>N3CSAA             </td><td>LGA                </td><td>MIA                </td><td>148                </td><td>1096               </td><td>6                  </td><td> 0                 </td><td>2013-11-03 06:00:00</td></tr>\n",
       "\t<tr><td>2013               </td><td>11                 </td><td>3                  </td><td>604                </td><td>610                </td><td>-6                 </td><td>844                </td><td>855                </td><td>-11                </td><td>AA                 </td><td>1103               </td><td>N3KDAA             </td><td>LGA                </td><td>DFW                </td><td>192                </td><td>1389               </td><td>6                  </td><td>10                 </td><td>2013-11-03 06:00:00</td></tr>\n",
       "\t<tr><td>2013               </td><td>11                 </td><td>3                  </td><td>624                </td><td>629                </td><td>-5                 </td><td>907                </td><td>929                </td><td>-22                </td><td>AA                 </td><td>1205               </td><td>N3EJAA             </td><td>EWR                </td><td>MIA                </td><td>141                </td><td>1085               </td><td>6                  </td><td>29                 </td><td>2013-11-03 06:00:00</td></tr>\n",
       "\t<tr><td>2013               </td><td>11                 </td><td>3                  </td><td>625                </td><td>630                </td><td>-5                 </td><td>736                </td><td>805                </td><td>-29                </td><td>AA                 </td><td> 303               </td><td>N4WJAA             </td><td>LGA                </td><td>ORD                </td><td>113                </td><td> 733               </td><td>6                  </td><td>30                 </td><td>2013-11-03 06:00:00</td></tr>\n",
       "\t<tr><td>2013               </td><td>11                 </td><td>3                  </td><td>653                </td><td>655                </td><td>-2                 </td><td>925                </td><td>920                </td><td>  5                </td><td>AA                 </td><td>1263               </td><td>N634AA             </td><td>JFK                </td><td>LAS                </td><td>306                </td><td>2248               </td><td>6                  </td><td>55                 </td><td>2013-11-03 06:00:00</td></tr>\n",
       "</tbody>\n",
       "</table>\n"
      ],
      "text/latex": [
       "\\begin{tabular}{r|lllllllllllllllllll}\n",
       " year & month & day & dep\\_time & sched\\_dep\\_time & dep\\_delay & arr\\_time & sched\\_arr\\_time & arr\\_delay & carrier & flight & tailnum & origin & dest & air\\_time & distance & hour & minute & time\\_hour\\\\\n",
       "\\hline\n",
       "\t 2013                & 11                  & 3                   & 538                 & 545                 & -7                  & 824                 & 855                 & -31                 & AA                  & 2243                & N5DWAA              & JFK                 & MIA                 & 144                 & 1089                & 5                   & 45                  & 2013-11-03 05:00:00\\\\\n",
       "\t 2013                & 11                  & 3                   & 556                 & 600                 & -4                  & 900                 & 905                 &  -5                 & AA                  & 1175                & N3CSAA              & LGA                 & MIA                 & 148                 & 1096                & 6                   &  0                  & 2013-11-03 06:00:00\\\\\n",
       "\t 2013                & 11                  & 3                   & 604                 & 610                 & -6                  & 844                 & 855                 & -11                 & AA                  & 1103                & N3KDAA              & LGA                 & DFW                 & 192                 & 1389                & 6                   & 10                  & 2013-11-03 06:00:00\\\\\n",
       "\t 2013                & 11                  & 3                   & 624                 & 629                 & -5                  & 907                 & 929                 & -22                 & AA                  & 1205                & N3EJAA              & EWR                 & MIA                 & 141                 & 1085                & 6                   & 29                  & 2013-11-03 06:00:00\\\\\n",
       "\t 2013                & 11                  & 3                   & 625                 & 630                 & -5                  & 736                 & 805                 & -29                 & AA                  &  303                & N4WJAA              & LGA                 & ORD                 & 113                 &  733                & 6                   & 30                  & 2013-11-03 06:00:00\\\\\n",
       "\t 2013                & 11                  & 3                   & 653                 & 655                 & -2                  & 925                 & 920                 &   5                 & AA                  & 1263                & N634AA              & JFK                 & LAS                 & 306                 & 2248                & 6                   & 55                  & 2013-11-03 06:00:00\\\\\n",
       "\\end{tabular}\n"
      ],
      "text/markdown": [
       "\n",
       "| year | month | day | dep_time | sched_dep_time | dep_delay | arr_time | sched_arr_time | arr_delay | carrier | flight | tailnum | origin | dest | air_time | distance | hour | minute | time_hour |\n",
       "|---|---|---|---|---|---|---|---|---|---|---|---|---|---|---|---|---|---|---|\n",
       "| 2013                | 11                  | 3                   | 538                 | 545                 | -7                  | 824                 | 855                 | -31                 | AA                  | 2243                | N5DWAA              | JFK                 | MIA                 | 144                 | 1089                | 5                   | 45                  | 2013-11-03 05:00:00 |\n",
       "| 2013                | 11                  | 3                   | 556                 | 600                 | -4                  | 900                 | 905                 |  -5                 | AA                  | 1175                | N3CSAA              | LGA                 | MIA                 | 148                 | 1096                | 6                   |  0                  | 2013-11-03 06:00:00 |\n",
       "| 2013                | 11                  | 3                   | 604                 | 610                 | -6                  | 844                 | 855                 | -11                 | AA                  | 1103                | N3KDAA              | LGA                 | DFW                 | 192                 | 1389                | 6                   | 10                  | 2013-11-03 06:00:00 |\n",
       "| 2013                | 11                  | 3                   | 624                 | 629                 | -5                  | 907                 | 929                 | -22                 | AA                  | 1205                | N3EJAA              | EWR                 | MIA                 | 141                 | 1085                | 6                   | 29                  | 2013-11-03 06:00:00 |\n",
       "| 2013                | 11                  | 3                   | 625                 | 630                 | -5                  | 736                 | 805                 | -29                 | AA                  |  303                | N4WJAA              | LGA                 | ORD                 | 113                 |  733                | 6                   | 30                  | 2013-11-03 06:00:00 |\n",
       "| 2013                | 11                  | 3                   | 653                 | 655                 | -2                  | 925                 | 920                 |   5                 | AA                  | 1263                | N634AA              | JFK                 | LAS                 | 306                 | 2248                | 6                   | 55                  | 2013-11-03 06:00:00 |\n",
       "\n"
      ],
      "text/plain": [
       "  year month day dep_time sched_dep_time dep_delay arr_time sched_arr_time\n",
       "1 2013 11    3   538      545            -7        824      855           \n",
       "2 2013 11    3   556      600            -4        900      905           \n",
       "3 2013 11    3   604      610            -6        844      855           \n",
       "4 2013 11    3   624      629            -5        907      929           \n",
       "5 2013 11    3   625      630            -5        736      805           \n",
       "6 2013 11    3   653      655            -2        925      920           \n",
       "  arr_delay carrier flight tailnum origin dest air_time distance hour minute\n",
       "1 -31       AA      2243   N5DWAA  JFK    MIA  144      1089     5    45    \n",
       "2  -5       AA      1175   N3CSAA  LGA    MIA  148      1096     6     0    \n",
       "3 -11       AA      1103   N3KDAA  LGA    DFW  192      1389     6    10    \n",
       "4 -22       AA      1205   N3EJAA  EWR    MIA  141      1085     6    29    \n",
       "5 -29       AA       303   N4WJAA  LGA    ORD  113       733     6    30    \n",
       "6   5       AA      1263   N634AA  JFK    LAS  306      2248     6    55    \n",
       "  time_hour          \n",
       "1 2013-11-03 05:00:00\n",
       "2 2013-11-03 06:00:00\n",
       "3 2013-11-03 06:00:00\n",
       "4 2013-11-03 06:00:00\n",
       "5 2013-11-03 06:00:00\n",
       "6 2013-11-03 06:00:00"
      ]
     },
     "metadata": {},
     "output_type": "display_data"
    }
   ],
   "source": [
    "head(flights[flights$month == 11 & flights$day == 3 & flights$carrier == 'AA',])"
   ]
  },
  {
   "cell_type": "markdown",
   "metadata": {},
   "source": [
    "### 2) slice\n",
    "\n",
    "Select row with position"
   ]
  },
  {
   "cell_type": "code",
   "execution_count": 10,
   "metadata": {},
   "outputs": [
    {
     "data": {
      "text/html": [
       "<table>\n",
       "<thead><tr><th scope=col>year</th><th scope=col>month</th><th scope=col>day</th><th scope=col>dep_time</th><th scope=col>sched_dep_time</th><th scope=col>dep_delay</th><th scope=col>arr_time</th><th scope=col>sched_arr_time</th><th scope=col>arr_delay</th><th scope=col>carrier</th><th scope=col>flight</th><th scope=col>tailnum</th><th scope=col>origin</th><th scope=col>dest</th><th scope=col>air_time</th><th scope=col>distance</th><th scope=col>hour</th><th scope=col>minute</th><th scope=col>time_hour</th></tr></thead>\n",
       "<tbody>\n",
       "\t<tr><td>2013               </td><td>1                  </td><td>1                  </td><td>544                </td><td>545                </td><td>-1                 </td><td>1004               </td><td>1022               </td><td>-18                </td><td>B6                 </td><td> 725               </td><td>N804JB             </td><td>JFK                </td><td>BQN                </td><td>183                </td><td>1576               </td><td>5                  </td><td>45                 </td><td>2013-01-01 05:00:00</td></tr>\n",
       "\t<tr><td>2013               </td><td>1                  </td><td>1                  </td><td>554                </td><td>600                </td><td>-6                 </td><td> 812               </td><td> 837               </td><td>-25                </td><td>DL                 </td><td> 461               </td><td>N668DN             </td><td>LGA                </td><td>ATL                </td><td>116                </td><td> 762               </td><td>6                  </td><td> 0                 </td><td>2013-01-01 06:00:00</td></tr>\n",
       "\t<tr><td>2013               </td><td>1                  </td><td>1                  </td><td>554                </td><td>558                </td><td>-4                 </td><td> 740               </td><td> 728               </td><td> 12                </td><td>UA                 </td><td>1696               </td><td>N39463             </td><td>EWR                </td><td>ORD                </td><td>150                </td><td> 719               </td><td>5                  </td><td>58                 </td><td>2013-01-01 05:00:00</td></tr>\n",
       "\t<tr><td>2013               </td><td>1                  </td><td>1                  </td><td>555                </td><td>600                </td><td>-5                 </td><td> 913               </td><td> 854               </td><td> 19                </td><td>B6                 </td><td> 507               </td><td>N516JB             </td><td>EWR                </td><td>FLL                </td><td>158                </td><td>1065               </td><td>6                  </td><td> 0                 </td><td>2013-01-01 06:00:00</td></tr>\n",
       "\t<tr><td>2013               </td><td>1                  </td><td>1                  </td><td>557                </td><td>600                </td><td>-3                 </td><td> 709               </td><td> 723               </td><td>-14                </td><td>EV                 </td><td>5708               </td><td>N829AS             </td><td>LGA                </td><td>IAD                </td><td> 53                </td><td> 229               </td><td>6                  </td><td> 0                 </td><td>2013-01-01 06:00:00</td></tr>\n",
       "</tbody>\n",
       "</table>\n"
      ],
      "text/latex": [
       "\\begin{tabular}{r|lllllllllllllllllll}\n",
       " year & month & day & dep\\_time & sched\\_dep\\_time & dep\\_delay & arr\\_time & sched\\_arr\\_time & arr\\_delay & carrier & flight & tailnum & origin & dest & air\\_time & distance & hour & minute & time\\_hour\\\\\n",
       "\\hline\n",
       "\t 2013                & 1                   & 1                   & 544                 & 545                 & -1                  & 1004                & 1022                & -18                 & B6                  &  725                & N804JB              & JFK                 & BQN                 & 183                 & 1576                & 5                   & 45                  & 2013-01-01 05:00:00\\\\\n",
       "\t 2013                & 1                   & 1                   & 554                 & 600                 & -6                  &  812                &  837                & -25                 & DL                  &  461                & N668DN              & LGA                 & ATL                 & 116                 &  762                & 6                   &  0                  & 2013-01-01 06:00:00\\\\\n",
       "\t 2013                & 1                   & 1                   & 554                 & 558                 & -4                  &  740                &  728                &  12                 & UA                  & 1696                & N39463              & EWR                 & ORD                 & 150                 &  719                & 5                   & 58                  & 2013-01-01 05:00:00\\\\\n",
       "\t 2013                & 1                   & 1                   & 555                 & 600                 & -5                  &  913                &  854                &  19                 & B6                  &  507                & N516JB              & EWR                 & FLL                 & 158                 & 1065                & 6                   &  0                  & 2013-01-01 06:00:00\\\\\n",
       "\t 2013                & 1                   & 1                   & 557                 & 600                 & -3                  &  709                &  723                & -14                 & EV                  & 5708                & N829AS              & LGA                 & IAD                 &  53                 &  229                & 6                   &  0                  & 2013-01-01 06:00:00\\\\\n",
       "\\end{tabular}\n"
      ],
      "text/markdown": [
       "\n",
       "| year | month | day | dep_time | sched_dep_time | dep_delay | arr_time | sched_arr_time | arr_delay | carrier | flight | tailnum | origin | dest | air_time | distance | hour | minute | time_hour |\n",
       "|---|---|---|---|---|---|---|---|---|---|---|---|---|---|---|---|---|---|---|\n",
       "| 2013                | 1                   | 1                   | 544                 | 545                 | -1                  | 1004                | 1022                | -18                 | B6                  |  725                | N804JB              | JFK                 | BQN                 | 183                 | 1576                | 5                   | 45                  | 2013-01-01 05:00:00 |\n",
       "| 2013                | 1                   | 1                   | 554                 | 600                 | -6                  |  812                |  837                | -25                 | DL                  |  461                | N668DN              | LGA                 | ATL                 | 116                 |  762                | 6                   |  0                  | 2013-01-01 06:00:00 |\n",
       "| 2013                | 1                   | 1                   | 554                 | 558                 | -4                  |  740                |  728                |  12                 | UA                  | 1696                | N39463              | EWR                 | ORD                 | 150                 |  719                | 5                   | 58                  | 2013-01-01 05:00:00 |\n",
       "| 2013                | 1                   | 1                   | 555                 | 600                 | -5                  |  913                |  854                |  19                 | B6                  |  507                | N516JB              | EWR                 | FLL                 | 158                 | 1065                | 6                   |  0                  | 2013-01-01 06:00:00 |\n",
       "| 2013                | 1                   | 1                   | 557                 | 600                 | -3                  |  709                |  723                | -14                 | EV                  | 5708                | N829AS              | LGA                 | IAD                 |  53                 |  229                | 6                   |  0                  | 2013-01-01 06:00:00 |\n",
       "\n"
      ],
      "text/plain": [
       "  year month day dep_time sched_dep_time dep_delay arr_time sched_arr_time\n",
       "1 2013 1     1   544      545            -1        1004     1022          \n",
       "2 2013 1     1   554      600            -6         812      837          \n",
       "3 2013 1     1   554      558            -4         740      728          \n",
       "4 2013 1     1   555      600            -5         913      854          \n",
       "5 2013 1     1   557      600            -3         709      723          \n",
       "  arr_delay carrier flight tailnum origin dest air_time distance hour minute\n",
       "1 -18       B6       725   N804JB  JFK    BQN  183      1576     5    45    \n",
       "2 -25       DL       461   N668DN  LGA    ATL  116       762     6     0    \n",
       "3  12       UA      1696   N39463  EWR    ORD  150       719     5    58    \n",
       "4  19       B6       507   N516JB  EWR    FLL  158      1065     6     0    \n",
       "5 -14       EV      5708   N829AS  LGA    IAD   53       229     6     0    \n",
       "  time_hour          \n",
       "1 2013-01-01 05:00:00\n",
       "2 2013-01-01 06:00:00\n",
       "3 2013-01-01 05:00:00\n",
       "4 2013-01-01 06:00:00\n",
       "5 2013-01-01 06:00:00"
      ]
     },
     "metadata": {},
     "output_type": "display_data"
    }
   ],
   "source": [
    "slice(flights,4:8)"
   ]
  },
  {
   "cell_type": "markdown",
   "metadata": {},
   "source": [
    "### 3) arrange\n",
    "\n",
    "orders data frame as per specific columns"
   ]
  },
  {
   "cell_type": "code",
   "execution_count": 11,
   "metadata": {},
   "outputs": [
    {
     "data": {
      "text/html": [
       "<table>\n",
       "<thead><tr><th scope=col>year</th><th scope=col>month</th><th scope=col>day</th><th scope=col>dep_time</th><th scope=col>sched_dep_time</th><th scope=col>dep_delay</th><th scope=col>arr_time</th><th scope=col>sched_arr_time</th><th scope=col>arr_delay</th><th scope=col>carrier</th><th scope=col>flight</th><th scope=col>tailnum</th><th scope=col>origin</th><th scope=col>dest</th><th scope=col>air_time</th><th scope=col>distance</th><th scope=col>hour</th><th scope=col>minute</th><th scope=col>time_hour</th></tr></thead>\n",
       "<tbody>\n",
       "\t<tr><td>2013               </td><td>1                  </td><td>1                  </td><td>2302               </td><td>2200               </td><td>62                 </td><td>2342               </td><td>2253               </td><td> 49                </td><td>EV                 </td><td>4276               </td><td>N13903             </td><td>EWR                </td><td>BDL                </td><td>24                 </td><td>116                </td><td>22                 </td><td> 0                 </td><td>2013-01-01 22:00:00</td></tr>\n",
       "\t<tr><td>2013               </td><td>1                  </td><td>1                  </td><td>1318               </td><td>1322               </td><td>-4                 </td><td>1358               </td><td>1416               </td><td>-18                </td><td>EV                 </td><td>4106               </td><td>N19554             </td><td>EWR                </td><td>BDL                </td><td>25                 </td><td>116                </td><td>13                 </td><td>22                 </td><td>2013-01-01 13:00:00</td></tr>\n",
       "\t<tr><td>2013               </td><td>1                  </td><td>1                  </td><td>2116               </td><td>2110               </td><td> 6                 </td><td>2202               </td><td>2212               </td><td>-10                </td><td>EV                 </td><td>4404               </td><td>N15912             </td><td>EWR                </td><td>PVD                </td><td>28                 </td><td>160                </td><td>21                 </td><td>10                 </td><td>2013-01-01 21:00:00</td></tr>\n",
       "\t<tr><td>2013               </td><td>1                  </td><td>1                  </td><td>2000               </td><td>2000               </td><td> 0                 </td><td>2054               </td><td>2110               </td><td>-16                </td><td>9E                 </td><td>3664               </td><td>N836AY             </td><td>JFK                </td><td>PHL                </td><td>30                 </td><td> 94                </td><td>20                 </td><td> 0                 </td><td>2013-01-01 20:00:00</td></tr>\n",
       "\t<tr><td>2013               </td><td>1                  </td><td>1                  </td><td>2056               </td><td>2004               </td><td>52                 </td><td>2156               </td><td>2112               </td><td> 44                </td><td>EV                 </td><td>4170               </td><td>N12540             </td><td>EWR                </td><td>ALB                </td><td>31                 </td><td>143                </td><td>20                 </td><td> 4                 </td><td>2013-01-01 20:00:00</td></tr>\n",
       "\t<tr><td>2013               </td><td>1                  </td><td>1                  </td><td> 908               </td><td> 915               </td><td>-7                 </td><td>1004               </td><td>1033               </td><td>-29                </td><td>US                 </td><td>1467               </td><td>N959UW             </td><td>LGA                </td><td>PHL                </td><td>32                 </td><td> 96                </td><td> 9                 </td><td>15                 </td><td>2013-01-01 09:00:00</td></tr>\n",
       "</tbody>\n",
       "</table>\n"
      ],
      "text/latex": [
       "\\begin{tabular}{r|lllllllllllllllllll}\n",
       " year & month & day & dep\\_time & sched\\_dep\\_time & dep\\_delay & arr\\_time & sched\\_arr\\_time & arr\\_delay & carrier & flight & tailnum & origin & dest & air\\_time & distance & hour & minute & time\\_hour\\\\\n",
       "\\hline\n",
       "\t 2013                & 1                   & 1                   & 2302                & 2200                & 62                  & 2342                & 2253                &  49                 & EV                  & 4276                & N13903              & EWR                 & BDL                 & 24                  & 116                 & 22                  &  0                  & 2013-01-01 22:00:00\\\\\n",
       "\t 2013                & 1                   & 1                   & 1318                & 1322                & -4                  & 1358                & 1416                & -18                 & EV                  & 4106                & N19554              & EWR                 & BDL                 & 25                  & 116                 & 13                  & 22                  & 2013-01-01 13:00:00\\\\\n",
       "\t 2013                & 1                   & 1                   & 2116                & 2110                &  6                  & 2202                & 2212                & -10                 & EV                  & 4404                & N15912              & EWR                 & PVD                 & 28                  & 160                 & 21                  & 10                  & 2013-01-01 21:00:00\\\\\n",
       "\t 2013                & 1                   & 1                   & 2000                & 2000                &  0                  & 2054                & 2110                & -16                 & 9E                  & 3664                & N836AY              & JFK                 & PHL                 & 30                  &  94                 & 20                  &  0                  & 2013-01-01 20:00:00\\\\\n",
       "\t 2013                & 1                   & 1                   & 2056                & 2004                & 52                  & 2156                & 2112                &  44                 & EV                  & 4170                & N12540              & EWR                 & ALB                 & 31                  & 143                 & 20                  &  4                  & 2013-01-01 20:00:00\\\\\n",
       "\t 2013                & 1                   & 1                   &  908                &  915                & -7                  & 1004                & 1033                & -29                 & US                  & 1467                & N959UW              & LGA                 & PHL                 & 32                  &  96                 &  9                  & 15                  & 2013-01-01 09:00:00\\\\\n",
       "\\end{tabular}\n"
      ],
      "text/markdown": [
       "\n",
       "| year | month | day | dep_time | sched_dep_time | dep_delay | arr_time | sched_arr_time | arr_delay | carrier | flight | tailnum | origin | dest | air_time | distance | hour | minute | time_hour |\n",
       "|---|---|---|---|---|---|---|---|---|---|---|---|---|---|---|---|---|---|---|\n",
       "| 2013                | 1                   | 1                   | 2302                | 2200                | 62                  | 2342                | 2253                |  49                 | EV                  | 4276                | N13903              | EWR                 | BDL                 | 24                  | 116                 | 22                  |  0                  | 2013-01-01 22:00:00 |\n",
       "| 2013                | 1                   | 1                   | 1318                | 1322                | -4                  | 1358                | 1416                | -18                 | EV                  | 4106                | N19554              | EWR                 | BDL                 | 25                  | 116                 | 13                  | 22                  | 2013-01-01 13:00:00 |\n",
       "| 2013                | 1                   | 1                   | 2116                | 2110                |  6                  | 2202                | 2212                | -10                 | EV                  | 4404                | N15912              | EWR                 | PVD                 | 28                  | 160                 | 21                  | 10                  | 2013-01-01 21:00:00 |\n",
       "| 2013                | 1                   | 1                   | 2000                | 2000                |  0                  | 2054                | 2110                | -16                 | 9E                  | 3664                | N836AY              | JFK                 | PHL                 | 30                  |  94                 | 20                  |  0                  | 2013-01-01 20:00:00 |\n",
       "| 2013                | 1                   | 1                   | 2056                | 2004                | 52                  | 2156                | 2112                |  44                 | EV                  | 4170                | N12540              | EWR                 | ALB                 | 31                  | 143                 | 20                  |  4                  | 2013-01-01 20:00:00 |\n",
       "| 2013                | 1                   | 1                   |  908                |  915                | -7                  | 1004                | 1033                | -29                 | US                  | 1467                | N959UW              | LGA                 | PHL                 | 32                  |  96                 |  9                  | 15                  | 2013-01-01 09:00:00 |\n",
       "\n"
      ],
      "text/plain": [
       "  year month day dep_time sched_dep_time dep_delay arr_time sched_arr_time\n",
       "1 2013 1     1   2302     2200           62        2342     2253          \n",
       "2 2013 1     1   1318     1322           -4        1358     1416          \n",
       "3 2013 1     1   2116     2110            6        2202     2212          \n",
       "4 2013 1     1   2000     2000            0        2054     2110          \n",
       "5 2013 1     1   2056     2004           52        2156     2112          \n",
       "6 2013 1     1    908      915           -7        1004     1033          \n",
       "  arr_delay carrier flight tailnum origin dest air_time distance hour minute\n",
       "1  49       EV      4276   N13903  EWR    BDL  24       116      22    0    \n",
       "2 -18       EV      4106   N19554  EWR    BDL  25       116      13   22    \n",
       "3 -10       EV      4404   N15912  EWR    PVD  28       160      21   10    \n",
       "4 -16       9E      3664   N836AY  JFK    PHL  30        94      20    0    \n",
       "5  44       EV      4170   N12540  EWR    ALB  31       143      20    4    \n",
       "6 -29       US      1467   N959UW  LGA    PHL  32        96       9   15    \n",
       "  time_hour          \n",
       "1 2013-01-01 22:00:00\n",
       "2 2013-01-01 13:00:00\n",
       "3 2013-01-01 21:00:00\n",
       "4 2013-01-01 20:00:00\n",
       "5 2013-01-01 20:00:00\n",
       "6 2013-01-01 09:00:00"
      ]
     },
     "metadata": {},
     "output_type": "display_data"
    }
   ],
   "source": [
    "head(arrange(flights,year,month,day,air_time))"
   ]
  },
  {
   "cell_type": "markdown",
   "metadata": {},
   "source": [
    "### desc() \n",
    "To arrange in descending order"
   ]
  },
  {
   "cell_type": "code",
   "execution_count": 12,
   "metadata": {},
   "outputs": [
    {
     "data": {
      "text/html": [
       "<table>\n",
       "<thead><tr><th scope=col>year</th><th scope=col>month</th><th scope=col>day</th><th scope=col>dep_time</th><th scope=col>sched_dep_time</th><th scope=col>dep_delay</th><th scope=col>arr_time</th><th scope=col>sched_arr_time</th><th scope=col>arr_delay</th><th scope=col>carrier</th><th scope=col>flight</th><th scope=col>tailnum</th><th scope=col>origin</th><th scope=col>dest</th><th scope=col>air_time</th><th scope=col>distance</th><th scope=col>hour</th><th scope=col>minute</th><th scope=col>time_hour</th></tr></thead>\n",
       "<tbody>\n",
       "\t<tr><td>2013               </td><td>1                  </td><td> 9                 </td><td> 641               </td><td> 900               </td><td>1301               </td><td>1242               </td><td>1530               </td><td>1272               </td><td>HA                 </td><td>  51               </td><td>N384HA             </td><td>JFK                </td><td>HNL                </td><td>640                </td><td>4983               </td><td> 9                 </td><td> 0                 </td><td>2013-01-09 09:00:00</td></tr>\n",
       "\t<tr><td>2013               </td><td>6                  </td><td>15                 </td><td>1432               </td><td>1935               </td><td>1137               </td><td>1607               </td><td>2120               </td><td>1127               </td><td>MQ                 </td><td>3535               </td><td>N504MQ             </td><td>JFK                </td><td>CMH                </td><td> 74                </td><td> 483               </td><td>19                 </td><td>35                 </td><td>2013-06-15 19:00:00</td></tr>\n",
       "\t<tr><td>2013               </td><td>1                  </td><td>10                 </td><td>1121               </td><td>1635               </td><td>1126               </td><td>1239               </td><td>1810               </td><td>1109               </td><td>MQ                 </td><td>3695               </td><td>N517MQ             </td><td>EWR                </td><td>ORD                </td><td>111                </td><td> 719               </td><td>16                 </td><td>35                 </td><td>2013-01-10 16:00:00</td></tr>\n",
       "\t<tr><td>2013               </td><td>9                  </td><td>20                 </td><td>1139               </td><td>1845               </td><td>1014               </td><td>1457               </td><td>2210               </td><td>1007               </td><td>AA                 </td><td> 177               </td><td>N338AA             </td><td>JFK                </td><td>SFO                </td><td>354                </td><td>2586               </td><td>18                 </td><td>45                 </td><td>2013-09-20 18:00:00</td></tr>\n",
       "\t<tr><td>2013               </td><td>7                  </td><td>22                 </td><td> 845               </td><td>1600               </td><td>1005               </td><td>1044               </td><td>1815               </td><td> 989               </td><td>MQ                 </td><td>3075               </td><td>N665MQ             </td><td>JFK                </td><td>CVG                </td><td> 96                </td><td> 589               </td><td>16                 </td><td> 0                 </td><td>2013-07-22 16:00:00</td></tr>\n",
       "\t<tr><td>2013               </td><td>4                  </td><td>10                 </td><td>1100               </td><td>1900               </td><td> 960               </td><td>1342               </td><td>2211               </td><td> 931               </td><td>DL                 </td><td>2391               </td><td>N959DL             </td><td>JFK                </td><td>TPA                </td><td>139                </td><td>1005               </td><td>19                 </td><td> 0                 </td><td>2013-04-10 19:00:00</td></tr>\n",
       "</tbody>\n",
       "</table>\n"
      ],
      "text/latex": [
       "\\begin{tabular}{r|lllllllllllllllllll}\n",
       " year & month & day & dep\\_time & sched\\_dep\\_time & dep\\_delay & arr\\_time & sched\\_arr\\_time & arr\\_delay & carrier & flight & tailnum & origin & dest & air\\_time & distance & hour & minute & time\\_hour\\\\\n",
       "\\hline\n",
       "\t 2013                & 1                   &  9                  &  641                &  900                & 1301                & 1242                & 1530                & 1272                & HA                  &   51                & N384HA              & JFK                 & HNL                 & 640                 & 4983                &  9                  &  0                  & 2013-01-09 09:00:00\\\\\n",
       "\t 2013                & 6                   & 15                  & 1432                & 1935                & 1137                & 1607                & 2120                & 1127                & MQ                  & 3535                & N504MQ              & JFK                 & CMH                 &  74                 &  483                & 19                  & 35                  & 2013-06-15 19:00:00\\\\\n",
       "\t 2013                & 1                   & 10                  & 1121                & 1635                & 1126                & 1239                & 1810                & 1109                & MQ                  & 3695                & N517MQ              & EWR                 & ORD                 & 111                 &  719                & 16                  & 35                  & 2013-01-10 16:00:00\\\\\n",
       "\t 2013                & 9                   & 20                  & 1139                & 1845                & 1014                & 1457                & 2210                & 1007                & AA                  &  177                & N338AA              & JFK                 & SFO                 & 354                 & 2586                & 18                  & 45                  & 2013-09-20 18:00:00\\\\\n",
       "\t 2013                & 7                   & 22                  &  845                & 1600                & 1005                & 1044                & 1815                &  989                & MQ                  & 3075                & N665MQ              & JFK                 & CVG                 &  96                 &  589                & 16                  &  0                  & 2013-07-22 16:00:00\\\\\n",
       "\t 2013                & 4                   & 10                  & 1100                & 1900                &  960                & 1342                & 2211                &  931                & DL                  & 2391                & N959DL              & JFK                 & TPA                 & 139                 & 1005                & 19                  &  0                  & 2013-04-10 19:00:00\\\\\n",
       "\\end{tabular}\n"
      ],
      "text/markdown": [
       "\n",
       "| year | month | day | dep_time | sched_dep_time | dep_delay | arr_time | sched_arr_time | arr_delay | carrier | flight | tailnum | origin | dest | air_time | distance | hour | minute | time_hour |\n",
       "|---|---|---|---|---|---|---|---|---|---|---|---|---|---|---|---|---|---|---|\n",
       "| 2013                | 1                   |  9                  |  641                |  900                | 1301                | 1242                | 1530                | 1272                | HA                  |   51                | N384HA              | JFK                 | HNL                 | 640                 | 4983                |  9                  |  0                  | 2013-01-09 09:00:00 |\n",
       "| 2013                | 6                   | 15                  | 1432                | 1935                | 1137                | 1607                | 2120                | 1127                | MQ                  | 3535                | N504MQ              | JFK                 | CMH                 |  74                 |  483                | 19                  | 35                  | 2013-06-15 19:00:00 |\n",
       "| 2013                | 1                   | 10                  | 1121                | 1635                | 1126                | 1239                | 1810                | 1109                | MQ                  | 3695                | N517MQ              | EWR                 | ORD                 | 111                 |  719                | 16                  | 35                  | 2013-01-10 16:00:00 |\n",
       "| 2013                | 9                   | 20                  | 1139                | 1845                | 1014                | 1457                | 2210                | 1007                | AA                  |  177                | N338AA              | JFK                 | SFO                 | 354                 | 2586                | 18                  | 45                  | 2013-09-20 18:00:00 |\n",
       "| 2013                | 7                   | 22                  |  845                | 1600                | 1005                | 1044                | 1815                |  989                | MQ                  | 3075                | N665MQ              | JFK                 | CVG                 |  96                 |  589                | 16                  |  0                  | 2013-07-22 16:00:00 |\n",
       "| 2013                | 4                   | 10                  | 1100                | 1900                |  960                | 1342                | 2211                |  931                | DL                  | 2391                | N959DL              | JFK                 | TPA                 | 139                 | 1005                | 19                  |  0                  | 2013-04-10 19:00:00 |\n",
       "\n"
      ],
      "text/plain": [
       "  year month day dep_time sched_dep_time dep_delay arr_time sched_arr_time\n",
       "1 2013 1      9   641      900           1301      1242     1530          \n",
       "2 2013 6     15  1432     1935           1137      1607     2120          \n",
       "3 2013 1     10  1121     1635           1126      1239     1810          \n",
       "4 2013 9     20  1139     1845           1014      1457     2210          \n",
       "5 2013 7     22   845     1600           1005      1044     1815          \n",
       "6 2013 4     10  1100     1900            960      1342     2211          \n",
       "  arr_delay carrier flight tailnum origin dest air_time distance hour minute\n",
       "1 1272      HA        51   N384HA  JFK    HNL  640      4983      9    0    \n",
       "2 1127      MQ      3535   N504MQ  JFK    CMH   74       483     19   35    \n",
       "3 1109      MQ      3695   N517MQ  EWR    ORD  111       719     16   35    \n",
       "4 1007      AA       177   N338AA  JFK    SFO  354      2586     18   45    \n",
       "5  989      MQ      3075   N665MQ  JFK    CVG   96       589     16    0    \n",
       "6  931      DL      2391   N959DL  JFK    TPA  139      1005     19    0    \n",
       "  time_hour          \n",
       "1 2013-01-09 09:00:00\n",
       "2 2013-06-15 19:00:00\n",
       "3 2013-01-10 16:00:00\n",
       "4 2013-09-20 18:00:00\n",
       "5 2013-07-22 16:00:00\n",
       "6 2013-04-10 19:00:00"
      ]
     },
     "metadata": {},
     "output_type": "display_data"
    }
   ],
   "source": [
    "head(arrange(flights,desc(arr_delay)))"
   ]
  },
  {
   "cell_type": "markdown",
   "metadata": {},
   "source": [
    "### 4) select()\n",
    "\n",
    "select() allows you to select a subset of columns in a data frame"
   ]
  },
  {
   "cell_type": "code",
   "execution_count": 13,
   "metadata": {},
   "outputs": [
    {
     "data": {
      "text/html": [
       "<table>\n",
       "<thead><tr><th scope=col>year</th><th scope=col>month</th></tr></thead>\n",
       "<tbody>\n",
       "\t<tr><td>2013</td><td>1   </td></tr>\n",
       "\t<tr><td>2013</td><td>1   </td></tr>\n",
       "\t<tr><td>2013</td><td>1   </td></tr>\n",
       "\t<tr><td>2013</td><td>1   </td></tr>\n",
       "\t<tr><td>2013</td><td>1   </td></tr>\n",
       "\t<tr><td>2013</td><td>1   </td></tr>\n",
       "</tbody>\n",
       "</table>\n"
      ],
      "text/latex": [
       "\\begin{tabular}{r|ll}\n",
       " year & month\\\\\n",
       "\\hline\n",
       "\t 2013 & 1   \\\\\n",
       "\t 2013 & 1   \\\\\n",
       "\t 2013 & 1   \\\\\n",
       "\t 2013 & 1   \\\\\n",
       "\t 2013 & 1   \\\\\n",
       "\t 2013 & 1   \\\\\n",
       "\\end{tabular}\n"
      ],
      "text/markdown": [
       "\n",
       "| year | month |\n",
       "|---|---|\n",
       "| 2013 | 1    |\n",
       "| 2013 | 1    |\n",
       "| 2013 | 1    |\n",
       "| 2013 | 1    |\n",
       "| 2013 | 1    |\n",
       "| 2013 | 1    |\n",
       "\n"
      ],
      "text/plain": [
       "  year month\n",
       "1 2013 1    \n",
       "2 2013 1    \n",
       "3 2013 1    \n",
       "4 2013 1    \n",
       "5 2013 1    \n",
       "6 2013 1    "
      ]
     },
     "metadata": {},
     "output_type": "display_data"
    }
   ],
   "source": [
    "head(select(flights,year,month))"
   ]
  },
  {
   "cell_type": "markdown",
   "metadata": {},
   "source": [
    "### 5) rename()\n",
    "\n",
    "rename columns"
   ]
  },
  {
   "cell_type": "code",
   "execution_count": 14,
   "metadata": {},
   "outputs": [
    {
     "data": {
      "text/html": [
       "<table>\n",
       "<thead><tr><th scope=col>year</th><th scope=col>month</th><th scope=col>day</th><th scope=col>dep_time</th><th scope=col>sched_dep_time</th><th scope=col>dep_delay</th><th scope=col>arr_time</th><th scope=col>sched_arr_time</th><th scope=col>arr_delay</th><th scope=col>carrier</th><th scope=col>flight</th><th scope=col>tail_num</th><th scope=col>origin</th><th scope=col>dest</th><th scope=col>air_time</th><th scope=col>distance</th><th scope=col>hour</th><th scope=col>minute</th><th scope=col>time_hour</th></tr></thead>\n",
       "<tbody>\n",
       "\t<tr><td>2013               </td><td>1                  </td><td>1                  </td><td>517                </td><td>515                </td><td> 2                 </td><td> 830               </td><td> 819               </td><td> 11                </td><td>UA                 </td><td>1545               </td><td>N14228             </td><td>EWR                </td><td>IAH                </td><td>227                </td><td>1400               </td><td>5                  </td><td>15                 </td><td>2013-01-01 05:00:00</td></tr>\n",
       "\t<tr><td>2013               </td><td>1                  </td><td>1                  </td><td>533                </td><td>529                </td><td> 4                 </td><td> 850               </td><td> 830               </td><td> 20                </td><td>UA                 </td><td>1714               </td><td>N24211             </td><td>LGA                </td><td>IAH                </td><td>227                </td><td>1416               </td><td>5                  </td><td>29                 </td><td>2013-01-01 05:00:00</td></tr>\n",
       "\t<tr><td>2013               </td><td>1                  </td><td>1                  </td><td>542                </td><td>540                </td><td> 2                 </td><td> 923               </td><td> 850               </td><td> 33                </td><td>AA                 </td><td>1141               </td><td>N619AA             </td><td>JFK                </td><td>MIA                </td><td>160                </td><td>1089               </td><td>5                  </td><td>40                 </td><td>2013-01-01 05:00:00</td></tr>\n",
       "\t<tr><td>2013               </td><td>1                  </td><td>1                  </td><td>544                </td><td>545                </td><td>-1                 </td><td>1004               </td><td>1022               </td><td>-18                </td><td>B6                 </td><td> 725               </td><td>N804JB             </td><td>JFK                </td><td>BQN                </td><td>183                </td><td>1576               </td><td>5                  </td><td>45                 </td><td>2013-01-01 05:00:00</td></tr>\n",
       "\t<tr><td>2013               </td><td>1                  </td><td>1                  </td><td>554                </td><td>600                </td><td>-6                 </td><td> 812               </td><td> 837               </td><td>-25                </td><td>DL                 </td><td> 461               </td><td>N668DN             </td><td>LGA                </td><td>ATL                </td><td>116                </td><td> 762               </td><td>6                  </td><td> 0                 </td><td>2013-01-01 06:00:00</td></tr>\n",
       "\t<tr><td>2013               </td><td>1                  </td><td>1                  </td><td>554                </td><td>558                </td><td>-4                 </td><td> 740               </td><td> 728               </td><td> 12                </td><td>UA                 </td><td>1696               </td><td>N39463             </td><td>EWR                </td><td>ORD                </td><td>150                </td><td> 719               </td><td>5                  </td><td>58                 </td><td>2013-01-01 05:00:00</td></tr>\n",
       "</tbody>\n",
       "</table>\n"
      ],
      "text/latex": [
       "\\begin{tabular}{r|lllllllllllllllllll}\n",
       " year & month & day & dep\\_time & sched\\_dep\\_time & dep\\_delay & arr\\_time & sched\\_arr\\_time & arr\\_delay & carrier & flight & tail\\_num & origin & dest & air\\_time & distance & hour & minute & time\\_hour\\\\\n",
       "\\hline\n",
       "\t 2013                & 1                   & 1                   & 517                 & 515                 &  2                  &  830                &  819                &  11                 & UA                  & 1545                & N14228              & EWR                 & IAH                 & 227                 & 1400                & 5                   & 15                  & 2013-01-01 05:00:00\\\\\n",
       "\t 2013                & 1                   & 1                   & 533                 & 529                 &  4                  &  850                &  830                &  20                 & UA                  & 1714                & N24211              & LGA                 & IAH                 & 227                 & 1416                & 5                   & 29                  & 2013-01-01 05:00:00\\\\\n",
       "\t 2013                & 1                   & 1                   & 542                 & 540                 &  2                  &  923                &  850                &  33                 & AA                  & 1141                & N619AA              & JFK                 & MIA                 & 160                 & 1089                & 5                   & 40                  & 2013-01-01 05:00:00\\\\\n",
       "\t 2013                & 1                   & 1                   & 544                 & 545                 & -1                  & 1004                & 1022                & -18                 & B6                  &  725                & N804JB              & JFK                 & BQN                 & 183                 & 1576                & 5                   & 45                  & 2013-01-01 05:00:00\\\\\n",
       "\t 2013                & 1                   & 1                   & 554                 & 600                 & -6                  &  812                &  837                & -25                 & DL                  &  461                & N668DN              & LGA                 & ATL                 & 116                 &  762                & 6                   &  0                  & 2013-01-01 06:00:00\\\\\n",
       "\t 2013                & 1                   & 1                   & 554                 & 558                 & -4                  &  740                &  728                &  12                 & UA                  & 1696                & N39463              & EWR                 & ORD                 & 150                 &  719                & 5                   & 58                  & 2013-01-01 05:00:00\\\\\n",
       "\\end{tabular}\n"
      ],
      "text/markdown": [
       "\n",
       "| year | month | day | dep_time | sched_dep_time | dep_delay | arr_time | sched_arr_time | arr_delay | carrier | flight | tail_num | origin | dest | air_time | distance | hour | minute | time_hour |\n",
       "|---|---|---|---|---|---|---|---|---|---|---|---|---|---|---|---|---|---|---|\n",
       "| 2013                | 1                   | 1                   | 517                 | 515                 |  2                  |  830                |  819                |  11                 | UA                  | 1545                | N14228              | EWR                 | IAH                 | 227                 | 1400                | 5                   | 15                  | 2013-01-01 05:00:00 |\n",
       "| 2013                | 1                   | 1                   | 533                 | 529                 |  4                  |  850                |  830                |  20                 | UA                  | 1714                | N24211              | LGA                 | IAH                 | 227                 | 1416                | 5                   | 29                  | 2013-01-01 05:00:00 |\n",
       "| 2013                | 1                   | 1                   | 542                 | 540                 |  2                  |  923                |  850                |  33                 | AA                  | 1141                | N619AA              | JFK                 | MIA                 | 160                 | 1089                | 5                   | 40                  | 2013-01-01 05:00:00 |\n",
       "| 2013                | 1                   | 1                   | 544                 | 545                 | -1                  | 1004                | 1022                | -18                 | B6                  |  725                | N804JB              | JFK                 | BQN                 | 183                 | 1576                | 5                   | 45                  | 2013-01-01 05:00:00 |\n",
       "| 2013                | 1                   | 1                   | 554                 | 600                 | -6                  |  812                |  837                | -25                 | DL                  |  461                | N668DN              | LGA                 | ATL                 | 116                 |  762                | 6                   |  0                  | 2013-01-01 06:00:00 |\n",
       "| 2013                | 1                   | 1                   | 554                 | 558                 | -4                  |  740                |  728                |  12                 | UA                  | 1696                | N39463              | EWR                 | ORD                 | 150                 |  719                | 5                   | 58                  | 2013-01-01 05:00:00 |\n",
       "\n"
      ],
      "text/plain": [
       "  year month day dep_time sched_dep_time dep_delay arr_time sched_arr_time\n",
       "1 2013 1     1   517      515             2         830      819          \n",
       "2 2013 1     1   533      529             4         850      830          \n",
       "3 2013 1     1   542      540             2         923      850          \n",
       "4 2013 1     1   544      545            -1        1004     1022          \n",
       "5 2013 1     1   554      600            -6         812      837          \n",
       "6 2013 1     1   554      558            -4         740      728          \n",
       "  arr_delay carrier flight tail_num origin dest air_time distance hour minute\n",
       "1  11       UA      1545   N14228   EWR    IAH  227      1400     5    15    \n",
       "2  20       UA      1714   N24211   LGA    IAH  227      1416     5    29    \n",
       "3  33       AA      1141   N619AA   JFK    MIA  160      1089     5    40    \n",
       "4 -18       B6       725   N804JB   JFK    BQN  183      1576     5    45    \n",
       "5 -25       DL       461   N668DN   LGA    ATL  116       762     6     0    \n",
       "6  12       UA      1696   N39463   EWR    ORD  150       719     5    58    \n",
       "  time_hour          \n",
       "1 2013-01-01 05:00:00\n",
       "2 2013-01-01 05:00:00\n",
       "3 2013-01-01 05:00:00\n",
       "4 2013-01-01 05:00:00\n",
       "5 2013-01-01 06:00:00\n",
       "6 2013-01-01 05:00:00"
      ]
     },
     "metadata": {},
     "output_type": "display_data"
    }
   ],
   "source": [
    "head(rename(flights,tail_num=tailnum))"
   ]
  },
  {
   "cell_type": "markdown",
   "metadata": {},
   "source": [
    "### 6) distinct\n",
    "\n",
    "returns unique values"
   ]
  },
  {
   "cell_type": "code",
   "execution_count": 15,
   "metadata": {},
   "outputs": [
    {
     "data": {
      "text/html": [
       "<table>\n",
       "<thead><tr><th scope=col>carrier</th></tr></thead>\n",
       "<tbody>\n",
       "\t<tr><td>UA</td></tr>\n",
       "\t<tr><td>AA</td></tr>\n",
       "\t<tr><td>B6</td></tr>\n",
       "\t<tr><td>DL</td></tr>\n",
       "\t<tr><td>EV</td></tr>\n",
       "\t<tr><td>MQ</td></tr>\n",
       "\t<tr><td>US</td></tr>\n",
       "\t<tr><td>WN</td></tr>\n",
       "\t<tr><td>VX</td></tr>\n",
       "\t<tr><td>FL</td></tr>\n",
       "\t<tr><td>AS</td></tr>\n",
       "\t<tr><td>9E</td></tr>\n",
       "\t<tr><td>F9</td></tr>\n",
       "\t<tr><td>HA</td></tr>\n",
       "\t<tr><td>YV</td></tr>\n",
       "\t<tr><td>OO</td></tr>\n",
       "</tbody>\n",
       "</table>\n"
      ],
      "text/latex": [
       "\\begin{tabular}{r|l}\n",
       " carrier\\\\\n",
       "\\hline\n",
       "\t UA\\\\\n",
       "\t AA\\\\\n",
       "\t B6\\\\\n",
       "\t DL\\\\\n",
       "\t EV\\\\\n",
       "\t MQ\\\\\n",
       "\t US\\\\\n",
       "\t WN\\\\\n",
       "\t VX\\\\\n",
       "\t FL\\\\\n",
       "\t AS\\\\\n",
       "\t 9E\\\\\n",
       "\t F9\\\\\n",
       "\t HA\\\\\n",
       "\t YV\\\\\n",
       "\t OO\\\\\n",
       "\\end{tabular}\n"
      ],
      "text/markdown": [
       "\n",
       "| carrier |\n",
       "|---|\n",
       "| UA |\n",
       "| AA |\n",
       "| B6 |\n",
       "| DL |\n",
       "| EV |\n",
       "| MQ |\n",
       "| US |\n",
       "| WN |\n",
       "| VX |\n",
       "| FL |\n",
       "| AS |\n",
       "| 9E |\n",
       "| F9 |\n",
       "| HA |\n",
       "| YV |\n",
       "| OO |\n",
       "\n"
      ],
      "text/plain": [
       "   carrier\n",
       "1  UA     \n",
       "2  AA     \n",
       "3  B6     \n",
       "4  DL     \n",
       "5  EV     \n",
       "6  MQ     \n",
       "7  US     \n",
       "8  WN     \n",
       "9  VX     \n",
       "10 FL     \n",
       "11 AS     \n",
       "12 9E     \n",
       "13 F9     \n",
       "14 HA     \n",
       "15 YV     \n",
       "16 OO     "
      ]
     },
     "metadata": {},
     "output_type": "display_data"
    }
   ],
   "source": [
    "distinct(flights,carrier)"
   ]
  },
  {
   "cell_type": "markdown",
   "metadata": {},
   "source": [
    "### 7) mutate()\n",
    "\n",
    "adding new columns using feature engineering"
   ]
  },
  {
   "cell_type": "code",
   "execution_count": 16,
   "metadata": {},
   "outputs": [
    {
     "data": {
      "text/html": [
       "<table>\n",
       "<thead><tr><th scope=col>year</th><th scope=col>month</th><th scope=col>day</th><th scope=col>dep_time</th><th scope=col>sched_dep_time</th><th scope=col>dep_delay</th><th scope=col>arr_time</th><th scope=col>sched_arr_time</th><th scope=col>arr_delay</th><th scope=col>carrier</th><th scope=col>flight</th><th scope=col>tailnum</th><th scope=col>origin</th><th scope=col>dest</th><th scope=col>air_time</th><th scope=col>distance</th><th scope=col>hour</th><th scope=col>minute</th><th scope=col>time_hour</th><th scope=col>total_delay</th></tr></thead>\n",
       "<tbody>\n",
       "\t<tr><td>2013               </td><td>1                  </td><td>1                  </td><td>517                </td><td>515                </td><td> 2                 </td><td> 830               </td><td> 819               </td><td> 11                </td><td>UA                 </td><td>1545               </td><td>N14228             </td><td>EWR                </td><td>IAH                </td><td>227                </td><td>1400               </td><td>5                  </td><td>15                 </td><td>2013-01-01 05:00:00</td><td> 13                </td></tr>\n",
       "\t<tr><td>2013               </td><td>1                  </td><td>1                  </td><td>533                </td><td>529                </td><td> 4                 </td><td> 850               </td><td> 830               </td><td> 20                </td><td>UA                 </td><td>1714               </td><td>N24211             </td><td>LGA                </td><td>IAH                </td><td>227                </td><td>1416               </td><td>5                  </td><td>29                 </td><td>2013-01-01 05:00:00</td><td> 24                </td></tr>\n",
       "\t<tr><td>2013               </td><td>1                  </td><td>1                  </td><td>542                </td><td>540                </td><td> 2                 </td><td> 923               </td><td> 850               </td><td> 33                </td><td>AA                 </td><td>1141               </td><td>N619AA             </td><td>JFK                </td><td>MIA                </td><td>160                </td><td>1089               </td><td>5                  </td><td>40                 </td><td>2013-01-01 05:00:00</td><td> 35                </td></tr>\n",
       "\t<tr><td>2013               </td><td>1                  </td><td>1                  </td><td>544                </td><td>545                </td><td>-1                 </td><td>1004               </td><td>1022               </td><td>-18                </td><td>B6                 </td><td> 725               </td><td>N804JB             </td><td>JFK                </td><td>BQN                </td><td>183                </td><td>1576               </td><td>5                  </td><td>45                 </td><td>2013-01-01 05:00:00</td><td>-19                </td></tr>\n",
       "\t<tr><td>2013               </td><td>1                  </td><td>1                  </td><td>554                </td><td>600                </td><td>-6                 </td><td> 812               </td><td> 837               </td><td>-25                </td><td>DL                 </td><td> 461               </td><td>N668DN             </td><td>LGA                </td><td>ATL                </td><td>116                </td><td> 762               </td><td>6                  </td><td> 0                 </td><td>2013-01-01 06:00:00</td><td>-31                </td></tr>\n",
       "\t<tr><td>2013               </td><td>1                  </td><td>1                  </td><td>554                </td><td>558                </td><td>-4                 </td><td> 740               </td><td> 728               </td><td> 12                </td><td>UA                 </td><td>1696               </td><td>N39463             </td><td>EWR                </td><td>ORD                </td><td>150                </td><td> 719               </td><td>5                  </td><td>58                 </td><td>2013-01-01 05:00:00</td><td>  8                </td></tr>\n",
       "</tbody>\n",
       "</table>\n"
      ],
      "text/latex": [
       "\\begin{tabular}{r|llllllllllllllllllll}\n",
       " year & month & day & dep\\_time & sched\\_dep\\_time & dep\\_delay & arr\\_time & sched\\_arr\\_time & arr\\_delay & carrier & flight & tailnum & origin & dest & air\\_time & distance & hour & minute & time\\_hour & total\\_delay\\\\\n",
       "\\hline\n",
       "\t 2013                & 1                   & 1                   & 517                 & 515                 &  2                  &  830                &  819                &  11                 & UA                  & 1545                & N14228              & EWR                 & IAH                 & 227                 & 1400                & 5                   & 15                  & 2013-01-01 05:00:00 &  13                \\\\\n",
       "\t 2013                & 1                   & 1                   & 533                 & 529                 &  4                  &  850                &  830                &  20                 & UA                  & 1714                & N24211              & LGA                 & IAH                 & 227                 & 1416                & 5                   & 29                  & 2013-01-01 05:00:00 &  24                \\\\\n",
       "\t 2013                & 1                   & 1                   & 542                 & 540                 &  2                  &  923                &  850                &  33                 & AA                  & 1141                & N619AA              & JFK                 & MIA                 & 160                 & 1089                & 5                   & 40                  & 2013-01-01 05:00:00 &  35                \\\\\n",
       "\t 2013                & 1                   & 1                   & 544                 & 545                 & -1                  & 1004                & 1022                & -18                 & B6                  &  725                & N804JB              & JFK                 & BQN                 & 183                 & 1576                & 5                   & 45                  & 2013-01-01 05:00:00 & -19                \\\\\n",
       "\t 2013                & 1                   & 1                   & 554                 & 600                 & -6                  &  812                &  837                & -25                 & DL                  &  461                & N668DN              & LGA                 & ATL                 & 116                 &  762                & 6                   &  0                  & 2013-01-01 06:00:00 & -31                \\\\\n",
       "\t 2013                & 1                   & 1                   & 554                 & 558                 & -4                  &  740                &  728                &  12                 & UA                  & 1696                & N39463              & EWR                 & ORD                 & 150                 &  719                & 5                   & 58                  & 2013-01-01 05:00:00 &   8                \\\\\n",
       "\\end{tabular}\n"
      ],
      "text/markdown": [
       "\n",
       "| year | month | day | dep_time | sched_dep_time | dep_delay | arr_time | sched_arr_time | arr_delay | carrier | flight | tailnum | origin | dest | air_time | distance | hour | minute | time_hour | total_delay |\n",
       "|---|---|---|---|---|---|---|---|---|---|---|---|---|---|---|---|---|---|---|---|\n",
       "| 2013                | 1                   | 1                   | 517                 | 515                 |  2                  |  830                |  819                |  11                 | UA                  | 1545                | N14228              | EWR                 | IAH                 | 227                 | 1400                | 5                   | 15                  | 2013-01-01 05:00:00 |  13                 |\n",
       "| 2013                | 1                   | 1                   | 533                 | 529                 |  4                  |  850                |  830                |  20                 | UA                  | 1714                | N24211              | LGA                 | IAH                 | 227                 | 1416                | 5                   | 29                  | 2013-01-01 05:00:00 |  24                 |\n",
       "| 2013                | 1                   | 1                   | 542                 | 540                 |  2                  |  923                |  850                |  33                 | AA                  | 1141                | N619AA              | JFK                 | MIA                 | 160                 | 1089                | 5                   | 40                  | 2013-01-01 05:00:00 |  35                 |\n",
       "| 2013                | 1                   | 1                   | 544                 | 545                 | -1                  | 1004                | 1022                | -18                 | B6                  |  725                | N804JB              | JFK                 | BQN                 | 183                 | 1576                | 5                   | 45                  | 2013-01-01 05:00:00 | -19                 |\n",
       "| 2013                | 1                   | 1                   | 554                 | 600                 | -6                  |  812                |  837                | -25                 | DL                  |  461                | N668DN              | LGA                 | ATL                 | 116                 |  762                | 6                   |  0                  | 2013-01-01 06:00:00 | -31                 |\n",
       "| 2013                | 1                   | 1                   | 554                 | 558                 | -4                  |  740                |  728                |  12                 | UA                  | 1696                | N39463              | EWR                 | ORD                 | 150                 |  719                | 5                   | 58                  | 2013-01-01 05:00:00 |   8                 |\n",
       "\n"
      ],
      "text/plain": [
       "  year month day dep_time sched_dep_time dep_delay arr_time sched_arr_time\n",
       "1 2013 1     1   517      515             2         830      819          \n",
       "2 2013 1     1   533      529             4         850      830          \n",
       "3 2013 1     1   542      540             2         923      850          \n",
       "4 2013 1     1   544      545            -1        1004     1022          \n",
       "5 2013 1     1   554      600            -6         812      837          \n",
       "6 2013 1     1   554      558            -4         740      728          \n",
       "  arr_delay carrier flight tailnum origin dest air_time distance hour minute\n",
       "1  11       UA      1545   N14228  EWR    IAH  227      1400     5    15    \n",
       "2  20       UA      1714   N24211  LGA    IAH  227      1416     5    29    \n",
       "3  33       AA      1141   N619AA  JFK    MIA  160      1089     5    40    \n",
       "4 -18       B6       725   N804JB  JFK    BQN  183      1576     5    45    \n",
       "5 -25       DL       461   N668DN  LGA    ATL  116       762     6     0    \n",
       "6  12       UA      1696   N39463  EWR    ORD  150       719     5    58    \n",
       "  time_hour           total_delay\n",
       "1 2013-01-01 05:00:00  13        \n",
       "2 2013-01-01 05:00:00  24        \n",
       "3 2013-01-01 05:00:00  35        \n",
       "4 2013-01-01 05:00:00 -19        \n",
       "5 2013-01-01 06:00:00 -31        \n",
       "6 2013-01-01 05:00:00   8        "
      ]
     },
     "metadata": {},
     "output_type": "display_data"
    }
   ],
   "source": [
    "head(mutate(flights,total_delay = arr_delay + dep_delay))"
   ]
  },
  {
   "cell_type": "markdown",
   "metadata": {},
   "source": [
    "### transmute()\n",
    "\n",
    "returns only new columns"
   ]
  },
  {
   "cell_type": "code",
   "execution_count": 17,
   "metadata": {},
   "outputs": [
    {
     "data": {
      "text/html": [
       "<table>\n",
       "<thead><tr><th scope=col>total_delay</th></tr></thead>\n",
       "<tbody>\n",
       "\t<tr><td> 13</td></tr>\n",
       "\t<tr><td> 24</td></tr>\n",
       "\t<tr><td> 35</td></tr>\n",
       "\t<tr><td>-19</td></tr>\n",
       "\t<tr><td>-31</td></tr>\n",
       "\t<tr><td>  8</td></tr>\n",
       "</tbody>\n",
       "</table>\n"
      ],
      "text/latex": [
       "\\begin{tabular}{r|l}\n",
       " total\\_delay\\\\\n",
       "\\hline\n",
       "\t  13\\\\\n",
       "\t  24\\\\\n",
       "\t  35\\\\\n",
       "\t -19\\\\\n",
       "\t -31\\\\\n",
       "\t   8\\\\\n",
       "\\end{tabular}\n"
      ],
      "text/markdown": [
       "\n",
       "| total_delay |\n",
       "|---|\n",
       "|  13 |\n",
       "|  24 |\n",
       "|  35 |\n",
       "| -19 |\n",
       "| -31 |\n",
       "|   8 |\n",
       "\n"
      ],
      "text/plain": [
       "  total_delay\n",
       "1  13        \n",
       "2  24        \n",
       "3  35        \n",
       "4 -19        \n",
       "5 -31        \n",
       "6   8        "
      ]
     },
     "metadata": {},
     "output_type": "display_data"
    }
   ],
   "source": [
    "head(transmute(flights, total_delay = arr_delay+dep_delay))\n"
   ]
  },
  {
   "cell_type": "markdown",
   "metadata": {},
   "source": [
    "### 8) summarize()\n",
    "\n",
    "summarize dataframe with single value using aggregate function"
   ]
  },
  {
   "cell_type": "code",
   "execution_count": 18,
   "metadata": {},
   "outputs": [
    {
     "data": {
      "text/html": [
       "<table>\n",
       "<thead><tr><th scope=col>avg_air_time</th></tr></thead>\n",
       "<tbody>\n",
       "\t<tr><td>150.6865</td></tr>\n",
       "</tbody>\n",
       "</table>\n"
      ],
      "text/latex": [
       "\\begin{tabular}{r|l}\n",
       " avg\\_air\\_time\\\\\n",
       "\\hline\n",
       "\t 150.6865\\\\\n",
       "\\end{tabular}\n"
      ],
      "text/markdown": [
       "\n",
       "| avg_air_time |\n",
       "|---|\n",
       "| 150.6865 |\n",
       "\n"
      ],
      "text/plain": [
       "  avg_air_time\n",
       "1 150.6865    "
      ]
     },
     "metadata": {},
     "output_type": "display_data"
    }
   ],
   "source": [
    "# na.rm=TRUE for removing nan\n",
    "\n",
    "summarise(flights,avg_air_time=mean(air_time,na.rm=TRUE))"
   ]
  },
  {
   "cell_type": "markdown",
   "metadata": {},
   "source": [
    "### 9) Sampling methods\n",
    "\n",
    "select sample from dataframe"
   ]
  },
  {
   "cell_type": "markdown",
   "metadata": {},
   "source": [
    "#### sample_n()\n",
    "select random number of rows"
   ]
  },
  {
   "cell_type": "code",
   "execution_count": 19,
   "metadata": {},
   "outputs": [
    {
     "data": {
      "text/html": [
       "<table>\n",
       "<thead><tr><th scope=col>year</th><th scope=col>month</th><th scope=col>day</th><th scope=col>dep_time</th><th scope=col>sched_dep_time</th><th scope=col>dep_delay</th><th scope=col>arr_time</th><th scope=col>sched_arr_time</th><th scope=col>arr_delay</th><th scope=col>carrier</th><th scope=col>flight</th><th scope=col>tailnum</th><th scope=col>origin</th><th scope=col>dest</th><th scope=col>air_time</th><th scope=col>distance</th><th scope=col>hour</th><th scope=col>minute</th><th scope=col>time_hour</th></tr></thead>\n",
       "<tbody>\n",
       "\t<tr><td>2013               </td><td>8                  </td><td>19                 </td><td> 856               </td><td> 855               </td><td>  1                </td><td>1203               </td><td>1205               </td><td> -2                </td><td>AA                 </td><td> 647               </td><td>N5EUAA             </td><td>JFK                </td><td>MIA                </td><td>156                </td><td>1089               </td><td> 8                 </td><td>55                 </td><td>2013-08-19 08:00:00</td></tr>\n",
       "\t<tr><td>2013               </td><td>9                  </td><td>18                 </td><td>1505               </td><td>1508               </td><td> -3                </td><td>1654               </td><td>1706               </td><td>-12                </td><td>EV                 </td><td>4572               </td><td>N13964             </td><td>EWR                </td><td>GSP                </td><td> 85                </td><td> 594               </td><td>15                 </td><td> 8                 </td><td>2013-09-18 15:00:00</td></tr>\n",
       "\t<tr><td>2013               </td><td>5                  </td><td>15                 </td><td>1659               </td><td>1555               </td><td> 64                </td><td>1910               </td><td>1815               </td><td> 55                </td><td>WN                 </td><td>3952               </td><td>N450WN             </td><td>EWR                </td><td>DEN                </td><td>234                </td><td>1605               </td><td>15                 </td><td>55                 </td><td>2013-05-15 15:00:00</td></tr>\n",
       "\t<tr><td>2013               </td><td>3                  </td><td> 7                 </td><td>1647               </td><td>1456               </td><td>111                </td><td>1852               </td><td>1712               </td><td>100                </td><td>EV                 </td><td>4181               </td><td>N14180             </td><td>EWR                </td><td>MCI                </td><td>160                </td><td>1092               </td><td>14                 </td><td>56                 </td><td>2013-03-07 14:00:00</td></tr>\n",
       "\t<tr><td>2013               </td><td>7                  </td><td>18                 </td><td>1222               </td><td>1230               </td><td> -8                </td><td>1357               </td><td>1419               </td><td>-22                </td><td>EV                 </td><td>5796               </td><td>N13958             </td><td>EWR                </td><td>CLT                </td><td> 77                </td><td> 529               </td><td>12                 </td><td>30                 </td><td>2013-07-18 12:00:00</td></tr>\n",
       "</tbody>\n",
       "</table>\n"
      ],
      "text/latex": [
       "\\begin{tabular}{r|lllllllllllllllllll}\n",
       " year & month & day & dep\\_time & sched\\_dep\\_time & dep\\_delay & arr\\_time & sched\\_arr\\_time & arr\\_delay & carrier & flight & tailnum & origin & dest & air\\_time & distance & hour & minute & time\\_hour\\\\\n",
       "\\hline\n",
       "\t 2013                & 8                   & 19                  &  856                &  855                &   1                 & 1203                & 1205                &  -2                 & AA                  &  647                & N5EUAA              & JFK                 & MIA                 & 156                 & 1089                &  8                  & 55                  & 2013-08-19 08:00:00\\\\\n",
       "\t 2013                & 9                   & 18                  & 1505                & 1508                &  -3                 & 1654                & 1706                & -12                 & EV                  & 4572                & N13964              & EWR                 & GSP                 &  85                 &  594                & 15                  &  8                  & 2013-09-18 15:00:00\\\\\n",
       "\t 2013                & 5                   & 15                  & 1659                & 1555                &  64                 & 1910                & 1815                &  55                 & WN                  & 3952                & N450WN              & EWR                 & DEN                 & 234                 & 1605                & 15                  & 55                  & 2013-05-15 15:00:00\\\\\n",
       "\t 2013                & 3                   &  7                  & 1647                & 1456                & 111                 & 1852                & 1712                & 100                 & EV                  & 4181                & N14180              & EWR                 & MCI                 & 160                 & 1092                & 14                  & 56                  & 2013-03-07 14:00:00\\\\\n",
       "\t 2013                & 7                   & 18                  & 1222                & 1230                &  -8                 & 1357                & 1419                & -22                 & EV                  & 5796                & N13958              & EWR                 & CLT                 &  77                 &  529                & 12                  & 30                  & 2013-07-18 12:00:00\\\\\n",
       "\\end{tabular}\n"
      ],
      "text/markdown": [
       "\n",
       "| year | month | day | dep_time | sched_dep_time | dep_delay | arr_time | sched_arr_time | arr_delay | carrier | flight | tailnum | origin | dest | air_time | distance | hour | minute | time_hour |\n",
       "|---|---|---|---|---|---|---|---|---|---|---|---|---|---|---|---|---|---|---|\n",
       "| 2013                | 8                   | 19                  |  856                |  855                |   1                 | 1203                | 1205                |  -2                 | AA                  |  647                | N5EUAA              | JFK                 | MIA                 | 156                 | 1089                |  8                  | 55                  | 2013-08-19 08:00:00 |\n",
       "| 2013                | 9                   | 18                  | 1505                | 1508                |  -3                 | 1654                | 1706                | -12                 | EV                  | 4572                | N13964              | EWR                 | GSP                 |  85                 |  594                | 15                  |  8                  | 2013-09-18 15:00:00 |\n",
       "| 2013                | 5                   | 15                  | 1659                | 1555                |  64                 | 1910                | 1815                |  55                 | WN                  | 3952                | N450WN              | EWR                 | DEN                 | 234                 | 1605                | 15                  | 55                  | 2013-05-15 15:00:00 |\n",
       "| 2013                | 3                   |  7                  | 1647                | 1456                | 111                 | 1852                | 1712                | 100                 | EV                  | 4181                | N14180              | EWR                 | MCI                 | 160                 | 1092                | 14                  | 56                  | 2013-03-07 14:00:00 |\n",
       "| 2013                | 7                   | 18                  | 1222                | 1230                |  -8                 | 1357                | 1419                | -22                 | EV                  | 5796                | N13958              | EWR                 | CLT                 |  77                 |  529                | 12                  | 30                  | 2013-07-18 12:00:00 |\n",
       "\n"
      ],
      "text/plain": [
       "  year month day dep_time sched_dep_time dep_delay arr_time sched_arr_time\n",
       "1 2013 8     19   856      855             1       1203     1205          \n",
       "2 2013 9     18  1505     1508            -3       1654     1706          \n",
       "3 2013 5     15  1659     1555            64       1910     1815          \n",
       "4 2013 3      7  1647     1456           111       1852     1712          \n",
       "5 2013 7     18  1222     1230            -8       1357     1419          \n",
       "  arr_delay carrier flight tailnum origin dest air_time distance hour minute\n",
       "1  -2       AA       647   N5EUAA  JFK    MIA  156      1089      8   55    \n",
       "2 -12       EV      4572   N13964  EWR    GSP   85       594     15    8    \n",
       "3  55       WN      3952   N450WN  EWR    DEN  234      1605     15   55    \n",
       "4 100       EV      4181   N14180  EWR    MCI  160      1092     14   56    \n",
       "5 -22       EV      5796   N13958  EWR    CLT   77       529     12   30    \n",
       "  time_hour          \n",
       "1 2013-08-19 08:00:00\n",
       "2 2013-09-18 15:00:00\n",
       "3 2013-05-15 15:00:00\n",
       "4 2013-03-07 14:00:00\n",
       "5 2013-07-18 12:00:00"
      ]
     },
     "metadata": {},
     "output_type": "display_data"
    }
   ],
   "source": [
    "sample_n(flights,5)"
   ]
  },
  {
   "cell_type": "markdown",
   "metadata": {},
   "source": [
    "#### sample_frac()\n",
    "select random fraction of data"
   ]
  },
  {
   "cell_type": "code",
   "execution_count": 20,
   "metadata": {},
   "outputs": [
    {
     "data": {
      "text/html": [
       "<table>\n",
       "<thead><tr><th scope=col>year</th><th scope=col>month</th><th scope=col>day</th><th scope=col>dep_time</th><th scope=col>sched_dep_time</th><th scope=col>dep_delay</th><th scope=col>arr_time</th><th scope=col>sched_arr_time</th><th scope=col>arr_delay</th><th scope=col>carrier</th><th scope=col>flight</th><th scope=col>tailnum</th><th scope=col>origin</th><th scope=col>dest</th><th scope=col>air_time</th><th scope=col>distance</th><th scope=col>hour</th><th scope=col>minute</th><th scope=col>time_hour</th></tr></thead>\n",
       "<tbody>\n",
       "\t<tr><td>2013               </td><td> 7                 </td><td>16                 </td><td>1545               </td><td>1535               </td><td> 10                </td><td>1741               </td><td>1725               </td><td> 16                </td><td>MQ                 </td><td>3416               </td><td>N722MQ             </td><td>LGA                </td><td>RDU                </td><td> 67                </td><td> 431               </td><td>15                 </td><td>35                 </td><td>2013-07-16 15:00:00</td></tr>\n",
       "\t<tr><td>2013               </td><td> 9                 </td><td>23                 </td><td>1503               </td><td>1505               </td><td> -2                </td><td>1754               </td><td>1753               </td><td>  1                </td><td>UA                 </td><td> 350               </td><td>N594UA             </td><td>EWR                </td><td>TPA                </td><td>143                </td><td> 997               </td><td>15                 </td><td> 5                 </td><td>2013-09-23 15:00:00</td></tr>\n",
       "\t<tr><td>2013               </td><td> 8                 </td><td> 5                 </td><td>2056               </td><td>2059               </td><td> -3                </td><td>2235               </td><td>2220               </td><td> 15                </td><td>EV                 </td><td>3830               </td><td>N16918             </td><td>EWR                </td><td>RIC                </td><td> 48                </td><td> 277               </td><td>20                 </td><td>59                 </td><td>2013-08-05 20:00:00</td></tr>\n",
       "\t<tr><td>2013               </td><td> 7                 </td><td>17                 </td><td>1747               </td><td>1735               </td><td> 12                </td><td>1959               </td><td>1937               </td><td> 22                </td><td>YV                 </td><td>2751               </td><td>N928LR             </td><td>LGA                </td><td>CLT                </td><td> 82                </td><td> 544               </td><td>17                 </td><td>35                 </td><td>2013-07-17 17:00:00</td></tr>\n",
       "\t<tr><td>2013               </td><td>10                 </td><td>23                 </td><td> 829               </td><td> 834               </td><td> -5                </td><td>1142               </td><td>1156               </td><td>-14                </td><td>UA                 </td><td>1294               </td><td>N17233             </td><td>EWR                </td><td>SFO                </td><td>341                </td><td>2565               </td><td> 8                 </td><td>34                 </td><td>2013-10-23 08:00:00</td></tr>\n",
       "\t<tr><td>2013               </td><td> 3                 </td><td> 6                 </td><td>1112               </td><td>1115               </td><td> -3                </td><td>1407               </td><td>1424               </td><td>-17                </td><td>B6                 </td><td> 673               </td><td>N804JB             </td><td>JFK                </td><td>LAX                </td><td>331                </td><td>2475               </td><td>11                 </td><td>15                 </td><td>2013-03-06 11:00:00</td></tr>\n",
       "\t<tr><td>2013               </td><td>12                 </td><td> 6                 </td><td> 811               </td><td> 829               </td><td>-18                </td><td>1119               </td><td>1055               </td><td> 24                </td><td>EV                 </td><td>4419               </td><td>N12142             </td><td>EWR                </td><td>XNA                </td><td>207                </td><td>1131               </td><td> 8                 </td><td>29                 </td><td>2013-12-06 08:00:00</td></tr>\n",
       "\t<tr><td>2013               </td><td>12                 </td><td>30                 </td><td>2015               </td><td>2015               </td><td>  0                </td><td>2308               </td><td>2344               </td><td>-36                </td><td>DL                 </td><td> 427               </td><td>N193DN             </td><td>JFK                </td><td>LAX                </td><td>333                </td><td>2475               </td><td>20                 </td><td>15                 </td><td>2013-12-30 20:00:00</td></tr>\n",
       "\t<tr><td>2013               </td><td>10                 </td><td> 4                 </td><td> 856               </td><td> 900               </td><td> -4                </td><td>1104               </td><td>1127               </td><td>-23                </td><td>DL                 </td><td> 502               </td><td>N322US             </td><td>EWR                </td><td>ATL                </td><td> 99                </td><td> 746               </td><td> 9                 </td><td> 0                 </td><td>2013-10-04 09:00:00</td></tr>\n",
       "\t<tr><td>2013               </td><td> 1                 </td><td>28                 </td><td>1348               </td><td>1345               </td><td>  3                </td><td>1643               </td><td>1641               </td><td>  2                </td><td>B6                 </td><td>1783               </td><td>N612JB             </td><td>JFK                </td><td>MCO                </td><td>138                </td><td> 944               </td><td>13                 </td><td>45                 </td><td>2013-01-28 13:00:00</td></tr>\n",
       "\t<tr><td>2013               </td><td>11                 </td><td>21                 </td><td>1659               </td><td>1706               </td><td> -7                </td><td>1816               </td><td>1818               </td><td> -2                </td><td>B6                 </td><td>2580               </td><td>N324JB             </td><td>EWR                </td><td>BOS                </td><td> 47                </td><td> 200               </td><td>17                 </td><td> 6                 </td><td>2013-11-21 17:00:00</td></tr>\n",
       "\t<tr><td>2013               </td><td> 1                 </td><td> 1                 </td><td> 655               </td><td> 655               </td><td>  0                </td><td>1021               </td><td>1030               </td><td> -9                </td><td>DL                 </td><td>1415               </td><td>N3763D             </td><td>JFK                </td><td>SLC                </td><td>294                </td><td>1990               </td><td> 6                 </td><td>55                 </td><td>2013-01-01 06:00:00</td></tr>\n",
       "\t<tr><td>2013               </td><td> 5                 </td><td> 5                 </td><td>1354               </td><td>1355               </td><td> -1                </td><td>1559               </td><td>1606               </td><td> -7                </td><td>UA                 </td><td> 765               </td><td>N843UA             </td><td>EWR                </td><td>MSY                </td><td>160                </td><td>1167               </td><td>13                 </td><td>55                 </td><td>2013-05-05 13:00:00</td></tr>\n",
       "\t<tr><td>2013               </td><td> 8                 </td><td>13                 </td><td> 812               </td><td> 800               </td><td> 12                </td><td>1025               </td><td>1009               </td><td> 16                </td><td>UA                 </td><td> 561               </td><td>N529UA             </td><td>LGA                </td><td>DEN                </td><td>221                </td><td>1620               </td><td> 8                 </td><td> 0                 </td><td>2013-08-13 08:00:00</td></tr>\n",
       "\t<tr><td>2013               </td><td> 9                 </td><td>13                 </td><td>1518               </td><td>1520               </td><td> -2                </td><td>1817               </td><td>1814               </td><td>  3                </td><td>UA                 </td><td>1600               </td><td>N14107             </td><td>EWR                </td><td>LAX                </td><td>324                </td><td>2454               </td><td>15                 </td><td>20                 </td><td>2013-09-13 15:00:00</td></tr>\n",
       "\t<tr><td>2013               </td><td> 6                 </td><td> 7                 </td><td>2107               </td><td>2020               </td><td> 47                </td><td> 132               </td><td>   3               </td><td> 89                </td><td>B6                 </td><td> 649               </td><td>N568JB             </td><td>JFK                </td><td>SFO                </td><td>325                </td><td>2586               </td><td>20                 </td><td>20                 </td><td>2013-06-07 20:00:00</td></tr>\n",
       "\t<tr><td>2013               </td><td>12                 </td><td>19                 </td><td>1905               </td><td>1855               </td><td> 10                </td><td>2241               </td><td>2235               </td><td>  6                </td><td>VX                 </td><td>  29               </td><td>N627VA             </td><td>JFK                </td><td>SFO                </td><td>357                </td><td>2586               </td><td>18                 </td><td>55                 </td><td>2013-12-19 18:00:00</td></tr>\n",
       "\t<tr><td>2013               </td><td> 4                 </td><td>24                 </td><td> 754               </td><td> 755               </td><td> -1                </td><td>1000               </td><td> 920               </td><td> 40                </td><td>MQ                 </td><td>3737               </td><td>N520MQ             </td><td>EWR                </td><td>ORD                </td><td>115                </td><td> 719               </td><td> 7                 </td><td>55                 </td><td>2013-04-24 07:00:00</td></tr>\n",
       "\t<tr><td>2013               </td><td> 6                 </td><td>16                 </td><td>1829               </td><td>1825               </td><td>  4                </td><td>2202               </td><td>2145               </td><td> 17                </td><td>AS                 </td><td>   7               </td><td>N552AS             </td><td>EWR                </td><td>SEA                </td><td>342                </td><td>2402               </td><td>18                 </td><td>25                 </td><td>2013-06-16 18:00:00</td></tr>\n",
       "\t<tr><td>2013               </td><td>10                 </td><td>29                 </td><td>1941               </td><td>1830               </td><td> 71                </td><td>2249               </td><td>2157               </td><td> 52                </td><td>UA                 </td><td> 389               </td><td>N510UA             </td><td>JFK                </td><td>SFO                </td><td>341                </td><td>2586               </td><td>18                 </td><td>30                 </td><td>2013-10-29 18:00:00</td></tr>\n",
       "\t<tr><td>2013               </td><td> 3                 </td><td>12                 </td><td> 634               </td><td> 630               </td><td>  4                </td><td>1013               </td><td>1040               </td><td>-27                </td><td>AA                 </td><td> 413               </td><td>N3CYAA             </td><td>JFK                </td><td>SJU                </td><td>195                </td><td>1598               </td><td> 6                 </td><td>30                 </td><td>2013-03-12 06:00:00</td></tr>\n",
       "\t<tr><td>2013               </td><td>11                 </td><td>14                 </td><td>1843               </td><td>1845               </td><td> -2                </td><td>2133               </td><td>2152               </td><td>-19                </td><td>DL                 </td><td>2391               </td><td>N911DL             </td><td>JFK                </td><td>TPA                </td><td>144                </td><td>1005               </td><td>18                 </td><td>45                 </td><td>2013-11-14 18:00:00</td></tr>\n",
       "\t<tr><td>2013               </td><td> 5                 </td><td> 6                 </td><td> 751               </td><td> 800               </td><td> -9                </td><td> 937               </td><td> 958               </td><td>-21                </td><td>B6                 </td><td>1273               </td><td>N238JB             </td><td>JFK                </td><td>CHS                </td><td> 87                </td><td> 636               </td><td> 8                 </td><td> 0                 </td><td>2013-05-06 08:00:00</td></tr>\n",
       "\t<tr><td>2013               </td><td> 5                 </td><td>25                 </td><td>1132               </td><td>1140               </td><td> -8                </td><td>1232               </td><td>1247               </td><td>-15                </td><td>B6                 </td><td>1191               </td><td>N298JB             </td><td>JFK                </td><td>ACK                </td><td> 41                </td><td> 199               </td><td>11                 </td><td>40                 </td><td>2013-05-25 11:00:00</td></tr>\n",
       "\t<tr><td>2013               </td><td> 2                 </td><td>22                 </td><td>1451               </td><td>1500               </td><td> -9                </td><td>1801               </td><td>1825               </td><td>-24                </td><td>AA                 </td><td>1925               </td><td>N3HLAA             </td><td>LGA                </td><td>MIA                </td><td>158                </td><td>1096               </td><td>15                 </td><td> 0                 </td><td>2013-02-22 15:00:00</td></tr>\n",
       "\t<tr><td>2013               </td><td> 6                 </td><td>13                 </td><td>  NA               </td><td>1535               </td><td> NA                </td><td>  NA               </td><td>1725               </td><td> NA                </td><td>MQ                 </td><td>3416               </td><td>N735MQ             </td><td>LGA                </td><td>RDU                </td><td> NA                </td><td> 431               </td><td>15                 </td><td>35                 </td><td>2013-06-13 15:00:00</td></tr>\n",
       "\t<tr><td>2013               </td><td> 3                 </td><td> 9                 </td><td>1450               </td><td>1445               </td><td>  5                </td><td>1605               </td><td>1615               </td><td>-10                </td><td>WN                 </td><td>2663               </td><td>N962WN             </td><td>LGA                </td><td>MDW                </td><td>110                </td><td> 725               </td><td>14                 </td><td>45                 </td><td>2013-03-09 14:00:00</td></tr>\n",
       "\t<tr><td>2013               </td><td> 8                 </td><td>17                 </td><td>1257               </td><td>1300               </td><td> -3                </td><td>1451               </td><td>1505               </td><td>-14                </td><td>MQ                 </td><td>3340               </td><td>N721MQ             </td><td>LGA                </td><td>DTW                </td><td> 82                </td><td> 502               </td><td>13                 </td><td> 0                 </td><td>2013-08-17 13:00:00</td></tr>\n",
       "\t<tr><td>2013               </td><td> 9                 </td><td>11                 </td><td>2057               </td><td>2029               </td><td> 28                </td><td>2256               </td><td>2237               </td><td> 19                </td><td>EV                 </td><td>4536               </td><td>N16541             </td><td>EWR                </td><td>CVG                </td><td> 86                </td><td> 569               </td><td>20                 </td><td>29                 </td><td>2013-09-11 20:00:00</td></tr>\n",
       "\t<tr><td>2013               </td><td> 3                 </td><td>29                 </td><td>1611               </td><td>1620               </td><td> -9                </td><td>1838               </td><td>1903               </td><td>-25                </td><td>US                 </td><td>  35               </td><td>N507AY             </td><td>JFK                </td><td>PHX                </td><td>295                </td><td>2153               </td><td>16                 </td><td>20                 </td><td>2013-03-29 16:00:00</td></tr>\n",
       "\t<tr><td>...</td><td>...</td><td>...</td><td>...</td><td>...</td><td>...</td><td>...</td><td>...</td><td>...</td><td>...</td><td>...</td><td>...</td><td>...</td><td>...</td><td>...</td><td>...</td><td>...</td><td>...</td><td>...</td></tr>\n",
       "\t<tr><td>2013               </td><td> 9                 </td><td>24                 </td><td> 713               </td><td> 730               </td><td>-17                </td><td>1027               </td><td>1045               </td><td>-18                </td><td>DL                 </td><td>2003               </td><td>N333NB             </td><td>LGA                </td><td>MIA                </td><td>151                </td><td>1096               </td><td> 7                 </td><td>30                 </td><td>2013-09-24 07:00:00</td></tr>\n",
       "\t<tr><td>2013               </td><td>11                 </td><td>24                 </td><td> 550               </td><td> 600               </td><td>-10                </td><td> 638               </td><td> 705               </td><td>-27                </td><td>US                 </td><td>1739               </td><td>N959UW             </td><td>LGA                </td><td>PHL                </td><td> 31                </td><td>  96               </td><td> 6                 </td><td> 0                 </td><td>2013-11-24 06:00:00</td></tr>\n",
       "\t<tr><td>2013               </td><td> 6                 </td><td>21                 </td><td> 754               </td><td> 800               </td><td> -6                </td><td> 901               </td><td> 913               </td><td>-12                </td><td>US                 </td><td>2165               </td><td>N765US             </td><td>LGA                </td><td>DCA                </td><td> 42                </td><td> 214               </td><td> 8                 </td><td> 0                 </td><td>2013-06-21 08:00:00</td></tr>\n",
       "\t<tr><td>2013               </td><td> 9                 </td><td>20                 </td><td> 931               </td><td> 910               </td><td> 21                </td><td>1226               </td><td>1220               </td><td>  6                </td><td>AA                 </td><td>   1               </td><td>N327AA             </td><td>JFK                </td><td>LAX                </td><td>324                </td><td>2475               </td><td> 9                 </td><td>10                 </td><td>2013-09-20 09:00:00</td></tr>\n",
       "\t<tr><td>2013               </td><td> 5                 </td><td>14                 </td><td>1126               </td><td>1130               </td><td> -4                </td><td>1324               </td><td>1350               </td><td>-26                </td><td>EV                 </td><td>4990               </td><td>N708EV             </td><td>LGA                </td><td>MCI                </td><td>145                </td><td>1107               </td><td>11                 </td><td>30                 </td><td>2013-05-14 11:00:00</td></tr>\n",
       "\t<tr><td>2013               </td><td> 3                 </td><td>24                 </td><td>1746               </td><td>1730               </td><td> 16                </td><td>1855               </td><td>1849               </td><td>  6                </td><td>B6                 </td><td>  74               </td><td>N587JB             </td><td>JFK                </td><td>BTV                </td><td> 43                </td><td> 266               </td><td>17                 </td><td>30                 </td><td>2013-03-24 17:00:00</td></tr>\n",
       "\t<tr><td>2013               </td><td>12                 </td><td>21                 </td><td> 740               </td><td> 740               </td><td>  0                </td><td>1104               </td><td>1058               </td><td>  6                </td><td>DL                 </td><td> 440               </td><td>N712TW             </td><td>JFK                </td><td>SEA                </td><td>360                </td><td>2422               </td><td> 7                 </td><td>40                 </td><td>2013-12-21 07:00:00</td></tr>\n",
       "\t<tr><td>2013               </td><td> 2                 </td><td>15                 </td><td> 849               </td><td> 844               </td><td>  5                </td><td>1155               </td><td>1155               </td><td>  0                </td><td>UA                 </td><td>1162               </td><td>N76254             </td><td>EWR                </td><td>SEA                </td><td>316                </td><td>2402               </td><td> 8                 </td><td>44                 </td><td>2013-02-15 08:00:00</td></tr>\n",
       "\t<tr><td>2013               </td><td> 4                 </td><td>18                 </td><td>1531               </td><td>1457               </td><td> 34                </td><td>1700               </td><td>1634               </td><td> 26                </td><td>EV                 </td><td>4323               </td><td>N11535             </td><td>EWR                </td><td>RDU                </td><td> 67                </td><td> 416               </td><td>14                 </td><td>57                 </td><td>2013-04-18 14:00:00</td></tr>\n",
       "\t<tr><td>2013               </td><td> 1                 </td><td>18                 </td><td>1322               </td><td>1325               </td><td> -3                </td><td>1512               </td><td>1505               </td><td>  7                </td><td>MQ                 </td><td>4475               </td><td>N734MQ             </td><td>LGA                </td><td>RDU                </td><td> 71                </td><td> 431               </td><td>13                 </td><td>25                 </td><td>2013-01-18 13:00:00</td></tr>\n",
       "\t<tr><td>2013               </td><td> 9                 </td><td>13                 </td><td> 629               </td><td> 630               </td><td> -1                </td><td> 738               </td><td> 805               </td><td>-27                </td><td>AA                 </td><td> 303               </td><td>N481AA             </td><td>LGA                </td><td>ORD                </td><td>116                </td><td> 733               </td><td> 6                 </td><td>30                 </td><td>2013-09-13 06:00:00</td></tr>\n",
       "\t<tr><td>2013               </td><td> 6                 </td><td>13                 </td><td> 727               </td><td> 730               </td><td> -3                </td><td>1104               </td><td>1045               </td><td> 19                </td><td>VX                 </td><td> 183               </td><td>N628VA             </td><td>EWR                </td><td>SFO                </td><td>358                </td><td>2565               </td><td> 7                 </td><td>30                 </td><td>2013-06-13 07:00:00</td></tr>\n",
       "\t<tr><td>2013               </td><td> 7                 </td><td>18                 </td><td>1843               </td><td>1830               </td><td> 13                </td><td>2242               </td><td>2145               </td><td> 57                </td><td>AA                 </td><td> 119               </td><td>N3JAAA             </td><td>EWR                </td><td>LAX                </td><td>306                </td><td>2454               </td><td>18                 </td><td>30                 </td><td>2013-07-18 18:00:00</td></tr>\n",
       "\t<tr><td>2013               </td><td>10                 </td><td>29                 </td><td>1541               </td><td>1545               </td><td> -4                </td><td>1933               </td><td>1944               </td><td>-11                </td><td>DL                 </td><td> 689               </td><td>N3758Y             </td><td>JFK                </td><td>SJU                </td><td>202                </td><td>1598               </td><td>15                 </td><td>45                 </td><td>2013-10-29 15:00:00</td></tr>\n",
       "\t<tr><td>2013               </td><td> 4                 </td><td> 9                 </td><td>  NA               </td><td> 600               </td><td> NA                </td><td>  NA               </td><td> 852               </td><td> NA                </td><td>B6                 </td><td> 371               </td><td>N804JB             </td><td>LGA                </td><td>FLL                </td><td> NA                </td><td>1076               </td><td> 6                 </td><td> 0                 </td><td>2013-04-09 06:00:00</td></tr>\n",
       "\t<tr><td>2013               </td><td> 5                 </td><td>23                 </td><td> 937               </td><td> 945               </td><td> -8                </td><td>1243               </td><td>1240               </td><td>  3                </td><td>B6                 </td><td> 393               </td><td>N559JB             </td><td>LGA                </td><td>MCO                </td><td>131                </td><td> 950               </td><td> 9                 </td><td>45                 </td><td>2013-05-23 09:00:00</td></tr>\n",
       "\t<tr><td>2013               </td><td>11                 </td><td> 4                 </td><td>1818               </td><td>1815               </td><td>  3                </td><td>2127               </td><td>2127               </td><td>  0                </td><td>9E                 </td><td>2915               </td><td>N906XJ             </td><td>JFK                </td><td>DFW                </td><td>224                </td><td>1391               </td><td>18                 </td><td>15                 </td><td>2013-11-04 18:00:00</td></tr>\n",
       "\t<tr><td>2013               </td><td>12                 </td><td>25                 </td><td>1720               </td><td>1600               </td><td> 80                </td><td>1845               </td><td>1730               </td><td> 75                </td><td>MQ                 </td><td>3734               </td><td>N546MQ             </td><td>LGA                </td><td>BNA                </td><td>128                </td><td> 764               </td><td>16                 </td><td> 0                 </td><td>2013-12-25 16:00:00</td></tr>\n",
       "\t<tr><td>2013               </td><td>12                 </td><td>17                 </td><td>  NA               </td><td>1635               </td><td> NA                </td><td>  NA               </td><td>1755               </td><td> NA                </td><td>MQ                 </td><td>3044               </td><td>N627MQ             </td><td>JFK                </td><td>BWI                </td><td> NA                </td><td> 184               </td><td>16                 </td><td>35                 </td><td>2013-12-17 16:00:00</td></tr>\n",
       "\t<tr><td>2013               </td><td> 3                 </td><td>20                 </td><td> 926               </td><td> 900               </td><td> 26                </td><td>1032               </td><td>1020               </td><td> 12                </td><td>US                 </td><td>2120               </td><td>N951UW             </td><td>LGA                </td><td>BOS                </td><td> 44                </td><td> 184               </td><td> 9                 </td><td> 0                 </td><td>2013-03-20 09:00:00</td></tr>\n",
       "\t<tr><td>2013               </td><td> 5                 </td><td>13                 </td><td>1700               </td><td>1700               </td><td>  0                </td><td>1910               </td><td>1955               </td><td>-45                </td><td>AA                 </td><td> 257               </td><td>N3FHAA             </td><td>JFK                </td><td>LAS                </td><td>276                </td><td>2248               </td><td>17                 </td><td> 0                 </td><td>2013-05-13 17:00:00</td></tr>\n",
       "\t<tr><td>2013               </td><td> 9                 </td><td>15                 </td><td> 802               </td><td> 755               </td><td>  7                </td><td>1152               </td><td>1154               </td><td> -2                </td><td>UA                 </td><td>1216               </td><td>N24211             </td><td>EWR                </td><td>SJU                </td><td>205                </td><td>1608               </td><td> 7                 </td><td>55                 </td><td>2013-09-15 07:00:00</td></tr>\n",
       "\t<tr><td>2013               </td><td> 3                 </td><td>18                 </td><td> 759               </td><td> 745               </td><td> 14                </td><td> 946               </td><td> 930               </td><td> 16                </td><td>AA                 </td><td> 309               </td><td>N592AA             </td><td>LGA                </td><td>ORD                </td><td>123                </td><td> 733               </td><td> 7                 </td><td>45                 </td><td>2013-03-18 07:00:00</td></tr>\n",
       "\t<tr><td>2013               </td><td> 5                 </td><td>20                 </td><td>2154               </td><td>2155               </td><td> -1                </td><td>  39               </td><td>  52               </td><td>-13                </td><td>UA                 </td><td>1692               </td><td>N76516             </td><td>EWR                </td><td>MCO                </td><td>122                </td><td> 937               </td><td>21                 </td><td>55                 </td><td>2013-05-20 21:00:00</td></tr>\n",
       "\t<tr><td>2013               </td><td> 1                 </td><td>25                 </td><td> 956               </td><td> 945               </td><td> 11                </td><td>1131               </td><td>1130               </td><td>  1                </td><td>AA                 </td><td> 319               </td><td>N4XNAA             </td><td>LGA                </td><td>ORD                </td><td>129                </td><td> 733               </td><td> 9                 </td><td>45                 </td><td>2013-01-25 09:00:00</td></tr>\n",
       "\t<tr><td>2013               </td><td> 7                 </td><td>20                 </td><td> 737               </td><td> 705               </td><td> 32                </td><td>1030               </td><td> 955               </td><td> 35                </td><td>UA                 </td><td> 273               </td><td>N575UA             </td><td>EWR                </td><td>PDX                </td><td>323                </td><td>2434               </td><td> 7                 </td><td> 5                 </td><td>2013-07-20 07:00:00</td></tr>\n",
       "\t<tr><td>2013               </td><td>12                 </td><td>30                 </td><td>1654               </td><td>1659               </td><td> -5                </td><td>1934               </td><td>1947               </td><td>-13                </td><td>DL                 </td><td> 221               </td><td>N904DE             </td><td>LGA                </td><td>ATL                </td><td>124                </td><td> 762               </td><td>16                 </td><td>59                 </td><td>2013-12-30 16:00:00</td></tr>\n",
       "\t<tr><td>2013               </td><td> 3                 </td><td>16                 </td><td>1903               </td><td>1855               </td><td>  8                </td><td>2248               </td><td>2255               </td><td> -7                </td><td>AA                 </td><td>1613               </td><td>N642AA             </td><td>JFK                </td><td>SJU                </td><td>199                </td><td>1598               </td><td>18                 </td><td>55                 </td><td>2013-03-16 18:00:00</td></tr>\n",
       "\t<tr><td>2013               </td><td> 4                 </td><td>17                 </td><td> 840               </td><td> 840               </td><td>  0                </td><td>1208               </td><td>1147               </td><td> 21                </td><td>UA                 </td><td>1626               </td><td>N76529             </td><td>EWR                </td><td>SAN                </td><td>344                </td><td>2425               </td><td> 8                 </td><td>40                 </td><td>2013-04-17 08:00:00</td></tr>\n",
       "\t<tr><td>2013               </td><td>11                 </td><td>18                 </td><td> 805               </td><td> 807               </td><td> -2                </td><td>1052               </td><td>1112               </td><td>-20                </td><td>DL                 </td><td>1271               </td><td>N997DL             </td><td>JFK                </td><td>FLL                </td><td>143                </td><td>1069               </td><td> 8                 </td><td> 7                 </td><td>2013-11-18 08:00:00</td></tr>\n",
       "</tbody>\n",
       "</table>\n"
      ],
      "text/latex": [
       "\\begin{tabular}{r|lllllllllllllllllll}\n",
       " year & month & day & dep\\_time & sched\\_dep\\_time & dep\\_delay & arr\\_time & sched\\_arr\\_time & arr\\_delay & carrier & flight & tailnum & origin & dest & air\\_time & distance & hour & minute & time\\_hour\\\\\n",
       "\\hline\n",
       "\t 2013                &  7                  & 16                  & 1545                & 1535                &  10                 & 1741                & 1725                &  16                 & MQ                  & 3416                & N722MQ              & LGA                 & RDU                 &  67                 &  431                & 15                  & 35                  & 2013-07-16 15:00:00\\\\\n",
       "\t 2013                &  9                  & 23                  & 1503                & 1505                &  -2                 & 1754                & 1753                &   1                 & UA                  &  350                & N594UA              & EWR                 & TPA                 & 143                 &  997                & 15                  &  5                  & 2013-09-23 15:00:00\\\\\n",
       "\t 2013                &  8                  &  5                  & 2056                & 2059                &  -3                 & 2235                & 2220                &  15                 & EV                  & 3830                & N16918              & EWR                 & RIC                 &  48                 &  277                & 20                  & 59                  & 2013-08-05 20:00:00\\\\\n",
       "\t 2013                &  7                  & 17                  & 1747                & 1735                &  12                 & 1959                & 1937                &  22                 & YV                  & 2751                & N928LR              & LGA                 & CLT                 &  82                 &  544                & 17                  & 35                  & 2013-07-17 17:00:00\\\\\n",
       "\t 2013                & 10                  & 23                  &  829                &  834                &  -5                 & 1142                & 1156                & -14                 & UA                  & 1294                & N17233              & EWR                 & SFO                 & 341                 & 2565                &  8                  & 34                  & 2013-10-23 08:00:00\\\\\n",
       "\t 2013                &  3                  &  6                  & 1112                & 1115                &  -3                 & 1407                & 1424                & -17                 & B6                  &  673                & N804JB              & JFK                 & LAX                 & 331                 & 2475                & 11                  & 15                  & 2013-03-06 11:00:00\\\\\n",
       "\t 2013                & 12                  &  6                  &  811                &  829                & -18                 & 1119                & 1055                &  24                 & EV                  & 4419                & N12142              & EWR                 & XNA                 & 207                 & 1131                &  8                  & 29                  & 2013-12-06 08:00:00\\\\\n",
       "\t 2013                & 12                  & 30                  & 2015                & 2015                &   0                 & 2308                & 2344                & -36                 & DL                  &  427                & N193DN              & JFK                 & LAX                 & 333                 & 2475                & 20                  & 15                  & 2013-12-30 20:00:00\\\\\n",
       "\t 2013                & 10                  &  4                  &  856                &  900                &  -4                 & 1104                & 1127                & -23                 & DL                  &  502                & N322US              & EWR                 & ATL                 &  99                 &  746                &  9                  &  0                  & 2013-10-04 09:00:00\\\\\n",
       "\t 2013                &  1                  & 28                  & 1348                & 1345                &   3                 & 1643                & 1641                &   2                 & B6                  & 1783                & N612JB              & JFK                 & MCO                 & 138                 &  944                & 13                  & 45                  & 2013-01-28 13:00:00\\\\\n",
       "\t 2013                & 11                  & 21                  & 1659                & 1706                &  -7                 & 1816                & 1818                &  -2                 & B6                  & 2580                & N324JB              & EWR                 & BOS                 &  47                 &  200                & 17                  &  6                  & 2013-11-21 17:00:00\\\\\n",
       "\t 2013                &  1                  &  1                  &  655                &  655                &   0                 & 1021                & 1030                &  -9                 & DL                  & 1415                & N3763D              & JFK                 & SLC                 & 294                 & 1990                &  6                  & 55                  & 2013-01-01 06:00:00\\\\\n",
       "\t 2013                &  5                  &  5                  & 1354                & 1355                &  -1                 & 1559                & 1606                &  -7                 & UA                  &  765                & N843UA              & EWR                 & MSY                 & 160                 & 1167                & 13                  & 55                  & 2013-05-05 13:00:00\\\\\n",
       "\t 2013                &  8                  & 13                  &  812                &  800                &  12                 & 1025                & 1009                &  16                 & UA                  &  561                & N529UA              & LGA                 & DEN                 & 221                 & 1620                &  8                  &  0                  & 2013-08-13 08:00:00\\\\\n",
       "\t 2013                &  9                  & 13                  & 1518                & 1520                &  -2                 & 1817                & 1814                &   3                 & UA                  & 1600                & N14107              & EWR                 & LAX                 & 324                 & 2454                & 15                  & 20                  & 2013-09-13 15:00:00\\\\\n",
       "\t 2013                &  6                  &  7                  & 2107                & 2020                &  47                 &  132                &    3                &  89                 & B6                  &  649                & N568JB              & JFK                 & SFO                 & 325                 & 2586                & 20                  & 20                  & 2013-06-07 20:00:00\\\\\n",
       "\t 2013                & 12                  & 19                  & 1905                & 1855                &  10                 & 2241                & 2235                &   6                 & VX                  &   29                & N627VA              & JFK                 & SFO                 & 357                 & 2586                & 18                  & 55                  & 2013-12-19 18:00:00\\\\\n",
       "\t 2013                &  4                  & 24                  &  754                &  755                &  -1                 & 1000                &  920                &  40                 & MQ                  & 3737                & N520MQ              & EWR                 & ORD                 & 115                 &  719                &  7                  & 55                  & 2013-04-24 07:00:00\\\\\n",
       "\t 2013                &  6                  & 16                  & 1829                & 1825                &   4                 & 2202                & 2145                &  17                 & AS                  &    7                & N552AS              & EWR                 & SEA                 & 342                 & 2402                & 18                  & 25                  & 2013-06-16 18:00:00\\\\\n",
       "\t 2013                & 10                  & 29                  & 1941                & 1830                &  71                 & 2249                & 2157                &  52                 & UA                  &  389                & N510UA              & JFK                 & SFO                 & 341                 & 2586                & 18                  & 30                  & 2013-10-29 18:00:00\\\\\n",
       "\t 2013                &  3                  & 12                  &  634                &  630                &   4                 & 1013                & 1040                & -27                 & AA                  &  413                & N3CYAA              & JFK                 & SJU                 & 195                 & 1598                &  6                  & 30                  & 2013-03-12 06:00:00\\\\\n",
       "\t 2013                & 11                  & 14                  & 1843                & 1845                &  -2                 & 2133                & 2152                & -19                 & DL                  & 2391                & N911DL              & JFK                 & TPA                 & 144                 & 1005                & 18                  & 45                  & 2013-11-14 18:00:00\\\\\n",
       "\t 2013                &  5                  &  6                  &  751                &  800                &  -9                 &  937                &  958                & -21                 & B6                  & 1273                & N238JB              & JFK                 & CHS                 &  87                 &  636                &  8                  &  0                  & 2013-05-06 08:00:00\\\\\n",
       "\t 2013                &  5                  & 25                  & 1132                & 1140                &  -8                 & 1232                & 1247                & -15                 & B6                  & 1191                & N298JB              & JFK                 & ACK                 &  41                 &  199                & 11                  & 40                  & 2013-05-25 11:00:00\\\\\n",
       "\t 2013                &  2                  & 22                  & 1451                & 1500                &  -9                 & 1801                & 1825                & -24                 & AA                  & 1925                & N3HLAA              & LGA                 & MIA                 & 158                 & 1096                & 15                  &  0                  & 2013-02-22 15:00:00\\\\\n",
       "\t 2013                &  6                  & 13                  &   NA                & 1535                &  NA                 &   NA                & 1725                &  NA                 & MQ                  & 3416                & N735MQ              & LGA                 & RDU                 &  NA                 &  431                & 15                  & 35                  & 2013-06-13 15:00:00\\\\\n",
       "\t 2013                &  3                  &  9                  & 1450                & 1445                &   5                 & 1605                & 1615                & -10                 & WN                  & 2663                & N962WN              & LGA                 & MDW                 & 110                 &  725                & 14                  & 45                  & 2013-03-09 14:00:00\\\\\n",
       "\t 2013                &  8                  & 17                  & 1257                & 1300                &  -3                 & 1451                & 1505                & -14                 & MQ                  & 3340                & N721MQ              & LGA                 & DTW                 &  82                 &  502                & 13                  &  0                  & 2013-08-17 13:00:00\\\\\n",
       "\t 2013                &  9                  & 11                  & 2057                & 2029                &  28                 & 2256                & 2237                &  19                 & EV                  & 4536                & N16541              & EWR                 & CVG                 &  86                 &  569                & 20                  & 29                  & 2013-09-11 20:00:00\\\\\n",
       "\t 2013                &  3                  & 29                  & 1611                & 1620                &  -9                 & 1838                & 1903                & -25                 & US                  &   35                & N507AY              & JFK                 & PHX                 & 295                 & 2153                & 16                  & 20                  & 2013-03-29 16:00:00\\\\\n",
       "\t ... & ... & ... & ... & ... & ... & ... & ... & ... & ... & ... & ... & ... & ... & ... & ... & ... & ... & ...\\\\\n",
       "\t 2013                &  9                  & 24                  &  713                &  730                & -17                 & 1027                & 1045                & -18                 & DL                  & 2003                & N333NB              & LGA                 & MIA                 & 151                 & 1096                &  7                  & 30                  & 2013-09-24 07:00:00\\\\\n",
       "\t 2013                & 11                  & 24                  &  550                &  600                & -10                 &  638                &  705                & -27                 & US                  & 1739                & N959UW              & LGA                 & PHL                 &  31                 &   96                &  6                  &  0                  & 2013-11-24 06:00:00\\\\\n",
       "\t 2013                &  6                  & 21                  &  754                &  800                &  -6                 &  901                &  913                & -12                 & US                  & 2165                & N765US              & LGA                 & DCA                 &  42                 &  214                &  8                  &  0                  & 2013-06-21 08:00:00\\\\\n",
       "\t 2013                &  9                  & 20                  &  931                &  910                &  21                 & 1226                & 1220                &   6                 & AA                  &    1                & N327AA              & JFK                 & LAX                 & 324                 & 2475                &  9                  & 10                  & 2013-09-20 09:00:00\\\\\n",
       "\t 2013                &  5                  & 14                  & 1126                & 1130                &  -4                 & 1324                & 1350                & -26                 & EV                  & 4990                & N708EV              & LGA                 & MCI                 & 145                 & 1107                & 11                  & 30                  & 2013-05-14 11:00:00\\\\\n",
       "\t 2013                &  3                  & 24                  & 1746                & 1730                &  16                 & 1855                & 1849                &   6                 & B6                  &   74                & N587JB              & JFK                 & BTV                 &  43                 &  266                & 17                  & 30                  & 2013-03-24 17:00:00\\\\\n",
       "\t 2013                & 12                  & 21                  &  740                &  740                &   0                 & 1104                & 1058                &   6                 & DL                  &  440                & N712TW              & JFK                 & SEA                 & 360                 & 2422                &  7                  & 40                  & 2013-12-21 07:00:00\\\\\n",
       "\t 2013                &  2                  & 15                  &  849                &  844                &   5                 & 1155                & 1155                &   0                 & UA                  & 1162                & N76254              & EWR                 & SEA                 & 316                 & 2402                &  8                  & 44                  & 2013-02-15 08:00:00\\\\\n",
       "\t 2013                &  4                  & 18                  & 1531                & 1457                &  34                 & 1700                & 1634                &  26                 & EV                  & 4323                & N11535              & EWR                 & RDU                 &  67                 &  416                & 14                  & 57                  & 2013-04-18 14:00:00\\\\\n",
       "\t 2013                &  1                  & 18                  & 1322                & 1325                &  -3                 & 1512                & 1505                &   7                 & MQ                  & 4475                & N734MQ              & LGA                 & RDU                 &  71                 &  431                & 13                  & 25                  & 2013-01-18 13:00:00\\\\\n",
       "\t 2013                &  9                  & 13                  &  629                &  630                &  -1                 &  738                &  805                & -27                 & AA                  &  303                & N481AA              & LGA                 & ORD                 & 116                 &  733                &  6                  & 30                  & 2013-09-13 06:00:00\\\\\n",
       "\t 2013                &  6                  & 13                  &  727                &  730                &  -3                 & 1104                & 1045                &  19                 & VX                  &  183                & N628VA              & EWR                 & SFO                 & 358                 & 2565                &  7                  & 30                  & 2013-06-13 07:00:00\\\\\n",
       "\t 2013                &  7                  & 18                  & 1843                & 1830                &  13                 & 2242                & 2145                &  57                 & AA                  &  119                & N3JAAA              & EWR                 & LAX                 & 306                 & 2454                & 18                  & 30                  & 2013-07-18 18:00:00\\\\\n",
       "\t 2013                & 10                  & 29                  & 1541                & 1545                &  -4                 & 1933                & 1944                & -11                 & DL                  &  689                & N3758Y              & JFK                 & SJU                 & 202                 & 1598                & 15                  & 45                  & 2013-10-29 15:00:00\\\\\n",
       "\t 2013                &  4                  &  9                  &   NA                &  600                &  NA                 &   NA                &  852                &  NA                 & B6                  &  371                & N804JB              & LGA                 & FLL                 &  NA                 & 1076                &  6                  &  0                  & 2013-04-09 06:00:00\\\\\n",
       "\t 2013                &  5                  & 23                  &  937                &  945                &  -8                 & 1243                & 1240                &   3                 & B6                  &  393                & N559JB              & LGA                 & MCO                 & 131                 &  950                &  9                  & 45                  & 2013-05-23 09:00:00\\\\\n",
       "\t 2013                & 11                  &  4                  & 1818                & 1815                &   3                 & 2127                & 2127                &   0                 & 9E                  & 2915                & N906XJ              & JFK                 & DFW                 & 224                 & 1391                & 18                  & 15                  & 2013-11-04 18:00:00\\\\\n",
       "\t 2013                & 12                  & 25                  & 1720                & 1600                &  80                 & 1845                & 1730                &  75                 & MQ                  & 3734                & N546MQ              & LGA                 & BNA                 & 128                 &  764                & 16                  &  0                  & 2013-12-25 16:00:00\\\\\n",
       "\t 2013                & 12                  & 17                  &   NA                & 1635                &  NA                 &   NA                & 1755                &  NA                 & MQ                  & 3044                & N627MQ              & JFK                 & BWI                 &  NA                 &  184                & 16                  & 35                  & 2013-12-17 16:00:00\\\\\n",
       "\t 2013                &  3                  & 20                  &  926                &  900                &  26                 & 1032                & 1020                &  12                 & US                  & 2120                & N951UW              & LGA                 & BOS                 &  44                 &  184                &  9                  &  0                  & 2013-03-20 09:00:00\\\\\n",
       "\t 2013                &  5                  & 13                  & 1700                & 1700                &   0                 & 1910                & 1955                & -45                 & AA                  &  257                & N3FHAA              & JFK                 & LAS                 & 276                 & 2248                & 17                  &  0                  & 2013-05-13 17:00:00\\\\\n",
       "\t 2013                &  9                  & 15                  &  802                &  755                &   7                 & 1152                & 1154                &  -2                 & UA                  & 1216                & N24211              & EWR                 & SJU                 & 205                 & 1608                &  7                  & 55                  & 2013-09-15 07:00:00\\\\\n",
       "\t 2013                &  3                  & 18                  &  759                &  745                &  14                 &  946                &  930                &  16                 & AA                  &  309                & N592AA              & LGA                 & ORD                 & 123                 &  733                &  7                  & 45                  & 2013-03-18 07:00:00\\\\\n",
       "\t 2013                &  5                  & 20                  & 2154                & 2155                &  -1                 &   39                &   52                & -13                 & UA                  & 1692                & N76516              & EWR                 & MCO                 & 122                 &  937                & 21                  & 55                  & 2013-05-20 21:00:00\\\\\n",
       "\t 2013                &  1                  & 25                  &  956                &  945                &  11                 & 1131                & 1130                &   1                 & AA                  &  319                & N4XNAA              & LGA                 & ORD                 & 129                 &  733                &  9                  & 45                  & 2013-01-25 09:00:00\\\\\n",
       "\t 2013                &  7                  & 20                  &  737                &  705                &  32                 & 1030                &  955                &  35                 & UA                  &  273                & N575UA              & EWR                 & PDX                 & 323                 & 2434                &  7                  &  5                  & 2013-07-20 07:00:00\\\\\n",
       "\t 2013                & 12                  & 30                  & 1654                & 1659                &  -5                 & 1934                & 1947                & -13                 & DL                  &  221                & N904DE              & LGA                 & ATL                 & 124                 &  762                & 16                  & 59                  & 2013-12-30 16:00:00\\\\\n",
       "\t 2013                &  3                  & 16                  & 1903                & 1855                &   8                 & 2248                & 2255                &  -7                 & AA                  & 1613                & N642AA              & JFK                 & SJU                 & 199                 & 1598                & 18                  & 55                  & 2013-03-16 18:00:00\\\\\n",
       "\t 2013                &  4                  & 17                  &  840                &  840                &   0                 & 1208                & 1147                &  21                 & UA                  & 1626                & N76529              & EWR                 & SAN                 & 344                 & 2425                &  8                  & 40                  & 2013-04-17 08:00:00\\\\\n",
       "\t 2013                & 11                  & 18                  &  805                &  807                &  -2                 & 1052                & 1112                & -20                 & DL                  & 1271                & N997DL              & JFK                 & FLL                 & 143                 & 1069                &  8                  &  7                  & 2013-11-18 08:00:00\\\\\n",
       "\\end{tabular}\n"
      ],
      "text/markdown": [
       "\n",
       "| year | month | day | dep_time | sched_dep_time | dep_delay | arr_time | sched_arr_time | arr_delay | carrier | flight | tailnum | origin | dest | air_time | distance | hour | minute | time_hour |\n",
       "|---|---|---|---|---|---|---|---|---|---|---|---|---|---|---|---|---|---|---|\n",
       "| 2013                |  7                  | 16                  | 1545                | 1535                |  10                 | 1741                | 1725                |  16                 | MQ                  | 3416                | N722MQ              | LGA                 | RDU                 |  67                 |  431                | 15                  | 35                  | 2013-07-16 15:00:00 |\n",
       "| 2013                |  9                  | 23                  | 1503                | 1505                |  -2                 | 1754                | 1753                |   1                 | UA                  |  350                | N594UA              | EWR                 | TPA                 | 143                 |  997                | 15                  |  5                  | 2013-09-23 15:00:00 |\n",
       "| 2013                |  8                  |  5                  | 2056                | 2059                |  -3                 | 2235                | 2220                |  15                 | EV                  | 3830                | N16918              | EWR                 | RIC                 |  48                 |  277                | 20                  | 59                  | 2013-08-05 20:00:00 |\n",
       "| 2013                |  7                  | 17                  | 1747                | 1735                |  12                 | 1959                | 1937                |  22                 | YV                  | 2751                | N928LR              | LGA                 | CLT                 |  82                 |  544                | 17                  | 35                  | 2013-07-17 17:00:00 |\n",
       "| 2013                | 10                  | 23                  |  829                |  834                |  -5                 | 1142                | 1156                | -14                 | UA                  | 1294                | N17233              | EWR                 | SFO                 | 341                 | 2565                |  8                  | 34                  | 2013-10-23 08:00:00 |\n",
       "| 2013                |  3                  |  6                  | 1112                | 1115                |  -3                 | 1407                | 1424                | -17                 | B6                  |  673                | N804JB              | JFK                 | LAX                 | 331                 | 2475                | 11                  | 15                  | 2013-03-06 11:00:00 |\n",
       "| 2013                | 12                  |  6                  |  811                |  829                | -18                 | 1119                | 1055                |  24                 | EV                  | 4419                | N12142              | EWR                 | XNA                 | 207                 | 1131                |  8                  | 29                  | 2013-12-06 08:00:00 |\n",
       "| 2013                | 12                  | 30                  | 2015                | 2015                |   0                 | 2308                | 2344                | -36                 | DL                  |  427                | N193DN              | JFK                 | LAX                 | 333                 | 2475                | 20                  | 15                  | 2013-12-30 20:00:00 |\n",
       "| 2013                | 10                  |  4                  |  856                |  900                |  -4                 | 1104                | 1127                | -23                 | DL                  |  502                | N322US              | EWR                 | ATL                 |  99                 |  746                |  9                  |  0                  | 2013-10-04 09:00:00 |\n",
       "| 2013                |  1                  | 28                  | 1348                | 1345                |   3                 | 1643                | 1641                |   2                 | B6                  | 1783                | N612JB              | JFK                 | MCO                 | 138                 |  944                | 13                  | 45                  | 2013-01-28 13:00:00 |\n",
       "| 2013                | 11                  | 21                  | 1659                | 1706                |  -7                 | 1816                | 1818                |  -2                 | B6                  | 2580                | N324JB              | EWR                 | BOS                 |  47                 |  200                | 17                  |  6                  | 2013-11-21 17:00:00 |\n",
       "| 2013                |  1                  |  1                  |  655                |  655                |   0                 | 1021                | 1030                |  -9                 | DL                  | 1415                | N3763D              | JFK                 | SLC                 | 294                 | 1990                |  6                  | 55                  | 2013-01-01 06:00:00 |\n",
       "| 2013                |  5                  |  5                  | 1354                | 1355                |  -1                 | 1559                | 1606                |  -7                 | UA                  |  765                | N843UA              | EWR                 | MSY                 | 160                 | 1167                | 13                  | 55                  | 2013-05-05 13:00:00 |\n",
       "| 2013                |  8                  | 13                  |  812                |  800                |  12                 | 1025                | 1009                |  16                 | UA                  |  561                | N529UA              | LGA                 | DEN                 | 221                 | 1620                |  8                  |  0                  | 2013-08-13 08:00:00 |\n",
       "| 2013                |  9                  | 13                  | 1518                | 1520                |  -2                 | 1817                | 1814                |   3                 | UA                  | 1600                | N14107              | EWR                 | LAX                 | 324                 | 2454                | 15                  | 20                  | 2013-09-13 15:00:00 |\n",
       "| 2013                |  6                  |  7                  | 2107                | 2020                |  47                 |  132                |    3                |  89                 | B6                  |  649                | N568JB              | JFK                 | SFO                 | 325                 | 2586                | 20                  | 20                  | 2013-06-07 20:00:00 |\n",
       "| 2013                | 12                  | 19                  | 1905                | 1855                |  10                 | 2241                | 2235                |   6                 | VX                  |   29                | N627VA              | JFK                 | SFO                 | 357                 | 2586                | 18                  | 55                  | 2013-12-19 18:00:00 |\n",
       "| 2013                |  4                  | 24                  |  754                |  755                |  -1                 | 1000                |  920                |  40                 | MQ                  | 3737                | N520MQ              | EWR                 | ORD                 | 115                 |  719                |  7                  | 55                  | 2013-04-24 07:00:00 |\n",
       "| 2013                |  6                  | 16                  | 1829                | 1825                |   4                 | 2202                | 2145                |  17                 | AS                  |    7                | N552AS              | EWR                 | SEA                 | 342                 | 2402                | 18                  | 25                  | 2013-06-16 18:00:00 |\n",
       "| 2013                | 10                  | 29                  | 1941                | 1830                |  71                 | 2249                | 2157                |  52                 | UA                  |  389                | N510UA              | JFK                 | SFO                 | 341                 | 2586                | 18                  | 30                  | 2013-10-29 18:00:00 |\n",
       "| 2013                |  3                  | 12                  |  634                |  630                |   4                 | 1013                | 1040                | -27                 | AA                  |  413                | N3CYAA              | JFK                 | SJU                 | 195                 | 1598                |  6                  | 30                  | 2013-03-12 06:00:00 |\n",
       "| 2013                | 11                  | 14                  | 1843                | 1845                |  -2                 | 2133                | 2152                | -19                 | DL                  | 2391                | N911DL              | JFK                 | TPA                 | 144                 | 1005                | 18                  | 45                  | 2013-11-14 18:00:00 |\n",
       "| 2013                |  5                  |  6                  |  751                |  800                |  -9                 |  937                |  958                | -21                 | B6                  | 1273                | N238JB              | JFK                 | CHS                 |  87                 |  636                |  8                  |  0                  | 2013-05-06 08:00:00 |\n",
       "| 2013                |  5                  | 25                  | 1132                | 1140                |  -8                 | 1232                | 1247                | -15                 | B6                  | 1191                | N298JB              | JFK                 | ACK                 |  41                 |  199                | 11                  | 40                  | 2013-05-25 11:00:00 |\n",
       "| 2013                |  2                  | 22                  | 1451                | 1500                |  -9                 | 1801                | 1825                | -24                 | AA                  | 1925                | N3HLAA              | LGA                 | MIA                 | 158                 | 1096                | 15                  |  0                  | 2013-02-22 15:00:00 |\n",
       "| 2013                |  6                  | 13                  |   NA                | 1535                |  NA                 |   NA                | 1725                |  NA                 | MQ                  | 3416                | N735MQ              | LGA                 | RDU                 |  NA                 |  431                | 15                  | 35                  | 2013-06-13 15:00:00 |\n",
       "| 2013                |  3                  |  9                  | 1450                | 1445                |   5                 | 1605                | 1615                | -10                 | WN                  | 2663                | N962WN              | LGA                 | MDW                 | 110                 |  725                | 14                  | 45                  | 2013-03-09 14:00:00 |\n",
       "| 2013                |  8                  | 17                  | 1257                | 1300                |  -3                 | 1451                | 1505                | -14                 | MQ                  | 3340                | N721MQ              | LGA                 | DTW                 |  82                 |  502                | 13                  |  0                  | 2013-08-17 13:00:00 |\n",
       "| 2013                |  9                  | 11                  | 2057                | 2029                |  28                 | 2256                | 2237                |  19                 | EV                  | 4536                | N16541              | EWR                 | CVG                 |  86                 |  569                | 20                  | 29                  | 2013-09-11 20:00:00 |\n",
       "| 2013                |  3                  | 29                  | 1611                | 1620                |  -9                 | 1838                | 1903                | -25                 | US                  |   35                | N507AY              | JFK                 | PHX                 | 295                 | 2153                | 16                  | 20                  | 2013-03-29 16:00:00 |\n",
       "| ... | ... | ... | ... | ... | ... | ... | ... | ... | ... | ... | ... | ... | ... | ... | ... | ... | ... | ... |\n",
       "| 2013                |  9                  | 24                  |  713                |  730                | -17                 | 1027                | 1045                | -18                 | DL                  | 2003                | N333NB              | LGA                 | MIA                 | 151                 | 1096                |  7                  | 30                  | 2013-09-24 07:00:00 |\n",
       "| 2013                | 11                  | 24                  |  550                |  600                | -10                 |  638                |  705                | -27                 | US                  | 1739                | N959UW              | LGA                 | PHL                 |  31                 |   96                |  6                  |  0                  | 2013-11-24 06:00:00 |\n",
       "| 2013                |  6                  | 21                  |  754                |  800                |  -6                 |  901                |  913                | -12                 | US                  | 2165                | N765US              | LGA                 | DCA                 |  42                 |  214                |  8                  |  0                  | 2013-06-21 08:00:00 |\n",
       "| 2013                |  9                  | 20                  |  931                |  910                |  21                 | 1226                | 1220                |   6                 | AA                  |    1                | N327AA              | JFK                 | LAX                 | 324                 | 2475                |  9                  | 10                  | 2013-09-20 09:00:00 |\n",
       "| 2013                |  5                  | 14                  | 1126                | 1130                |  -4                 | 1324                | 1350                | -26                 | EV                  | 4990                | N708EV              | LGA                 | MCI                 | 145                 | 1107                | 11                  | 30                  | 2013-05-14 11:00:00 |\n",
       "| 2013                |  3                  | 24                  | 1746                | 1730                |  16                 | 1855                | 1849                |   6                 | B6                  |   74                | N587JB              | JFK                 | BTV                 |  43                 |  266                | 17                  | 30                  | 2013-03-24 17:00:00 |\n",
       "| 2013                | 12                  | 21                  |  740                |  740                |   0                 | 1104                | 1058                |   6                 | DL                  |  440                | N712TW              | JFK                 | SEA                 | 360                 | 2422                |  7                  | 40                  | 2013-12-21 07:00:00 |\n",
       "| 2013                |  2                  | 15                  |  849                |  844                |   5                 | 1155                | 1155                |   0                 | UA                  | 1162                | N76254              | EWR                 | SEA                 | 316                 | 2402                |  8                  | 44                  | 2013-02-15 08:00:00 |\n",
       "| 2013                |  4                  | 18                  | 1531                | 1457                |  34                 | 1700                | 1634                |  26                 | EV                  | 4323                | N11535              | EWR                 | RDU                 |  67                 |  416                | 14                  | 57                  | 2013-04-18 14:00:00 |\n",
       "| 2013                |  1                  | 18                  | 1322                | 1325                |  -3                 | 1512                | 1505                |   7                 | MQ                  | 4475                | N734MQ              | LGA                 | RDU                 |  71                 |  431                | 13                  | 25                  | 2013-01-18 13:00:00 |\n",
       "| 2013                |  9                  | 13                  |  629                |  630                |  -1                 |  738                |  805                | -27                 | AA                  |  303                | N481AA              | LGA                 | ORD                 | 116                 |  733                |  6                  | 30                  | 2013-09-13 06:00:00 |\n",
       "| 2013                |  6                  | 13                  |  727                |  730                |  -3                 | 1104                | 1045                |  19                 | VX                  |  183                | N628VA              | EWR                 | SFO                 | 358                 | 2565                |  7                  | 30                  | 2013-06-13 07:00:00 |\n",
       "| 2013                |  7                  | 18                  | 1843                | 1830                |  13                 | 2242                | 2145                |  57                 | AA                  |  119                | N3JAAA              | EWR                 | LAX                 | 306                 | 2454                | 18                  | 30                  | 2013-07-18 18:00:00 |\n",
       "| 2013                | 10                  | 29                  | 1541                | 1545                |  -4                 | 1933                | 1944                | -11                 | DL                  |  689                | N3758Y              | JFK                 | SJU                 | 202                 | 1598                | 15                  | 45                  | 2013-10-29 15:00:00 |\n",
       "| 2013                |  4                  |  9                  |   NA                |  600                |  NA                 |   NA                |  852                |  NA                 | B6                  |  371                | N804JB              | LGA                 | FLL                 |  NA                 | 1076                |  6                  |  0                  | 2013-04-09 06:00:00 |\n",
       "| 2013                |  5                  | 23                  |  937                |  945                |  -8                 | 1243                | 1240                |   3                 | B6                  |  393                | N559JB              | LGA                 | MCO                 | 131                 |  950                |  9                  | 45                  | 2013-05-23 09:00:00 |\n",
       "| 2013                | 11                  |  4                  | 1818                | 1815                |   3                 | 2127                | 2127                |   0                 | 9E                  | 2915                | N906XJ              | JFK                 | DFW                 | 224                 | 1391                | 18                  | 15                  | 2013-11-04 18:00:00 |\n",
       "| 2013                | 12                  | 25                  | 1720                | 1600                |  80                 | 1845                | 1730                |  75                 | MQ                  | 3734                | N546MQ              | LGA                 | BNA                 | 128                 |  764                | 16                  |  0                  | 2013-12-25 16:00:00 |\n",
       "| 2013                | 12                  | 17                  |   NA                | 1635                |  NA                 |   NA                | 1755                |  NA                 | MQ                  | 3044                | N627MQ              | JFK                 | BWI                 |  NA                 |  184                | 16                  | 35                  | 2013-12-17 16:00:00 |\n",
       "| 2013                |  3                  | 20                  |  926                |  900                |  26                 | 1032                | 1020                |  12                 | US                  | 2120                | N951UW              | LGA                 | BOS                 |  44                 |  184                |  9                  |  0                  | 2013-03-20 09:00:00 |\n",
       "| 2013                |  5                  | 13                  | 1700                | 1700                |   0                 | 1910                | 1955                | -45                 | AA                  |  257                | N3FHAA              | JFK                 | LAS                 | 276                 | 2248                | 17                  |  0                  | 2013-05-13 17:00:00 |\n",
       "| 2013                |  9                  | 15                  |  802                |  755                |   7                 | 1152                | 1154                |  -2                 | UA                  | 1216                | N24211              | EWR                 | SJU                 | 205                 | 1608                |  7                  | 55                  | 2013-09-15 07:00:00 |\n",
       "| 2013                |  3                  | 18                  |  759                |  745                |  14                 |  946                |  930                |  16                 | AA                  |  309                | N592AA              | LGA                 | ORD                 | 123                 |  733                |  7                  | 45                  | 2013-03-18 07:00:00 |\n",
       "| 2013                |  5                  | 20                  | 2154                | 2155                |  -1                 |   39                |   52                | -13                 | UA                  | 1692                | N76516              | EWR                 | MCO                 | 122                 |  937                | 21                  | 55                  | 2013-05-20 21:00:00 |\n",
       "| 2013                |  1                  | 25                  |  956                |  945                |  11                 | 1131                | 1130                |   1                 | AA                  |  319                | N4XNAA              | LGA                 | ORD                 | 129                 |  733                |  9                  | 45                  | 2013-01-25 09:00:00 |\n",
       "| 2013                |  7                  | 20                  |  737                |  705                |  32                 | 1030                |  955                |  35                 | UA                  |  273                | N575UA              | EWR                 | PDX                 | 323                 | 2434                |  7                  |  5                  | 2013-07-20 07:00:00 |\n",
       "| 2013                | 12                  | 30                  | 1654                | 1659                |  -5                 | 1934                | 1947                | -13                 | DL                  |  221                | N904DE              | LGA                 | ATL                 | 124                 |  762                | 16                  | 59                  | 2013-12-30 16:00:00 |\n",
       "| 2013                |  3                  | 16                  | 1903                | 1855                |   8                 | 2248                | 2255                |  -7                 | AA                  | 1613                | N642AA              | JFK                 | SJU                 | 199                 | 1598                | 18                  | 55                  | 2013-03-16 18:00:00 |\n",
       "| 2013                |  4                  | 17                  |  840                |  840                |   0                 | 1208                | 1147                |  21                 | UA                  | 1626                | N76529              | EWR                 | SAN                 | 344                 | 2425                |  8                  | 40                  | 2013-04-17 08:00:00 |\n",
       "| 2013                | 11                  | 18                  |  805                |  807                |  -2                 | 1052                | 1112                | -20                 | DL                  | 1271                | N997DL              | JFK                 | FLL                 | 143                 | 1069                |  8                  |  7                  | 2013-11-18 08:00:00 |\n",
       "\n"
      ],
      "text/plain": [
       "       year month day dep_time sched_dep_time dep_delay arr_time sched_arr_time\n",
       "1      2013  7    16  1545     1535            10       1741     1725          \n",
       "2      2013  9    23  1503     1505            -2       1754     1753          \n",
       "3      2013  8     5  2056     2059            -3       2235     2220          \n",
       "4      2013  7    17  1747     1735            12       1959     1937          \n",
       "5      2013 10    23   829      834            -5       1142     1156          \n",
       "6      2013  3     6  1112     1115            -3       1407     1424          \n",
       "7      2013 12     6   811      829           -18       1119     1055          \n",
       "8      2013 12    30  2015     2015             0       2308     2344          \n",
       "9      2013 10     4   856      900            -4       1104     1127          \n",
       "10     2013  1    28  1348     1345             3       1643     1641          \n",
       "11     2013 11    21  1659     1706            -7       1816     1818          \n",
       "12     2013  1     1   655      655             0       1021     1030          \n",
       "13     2013  5     5  1354     1355            -1       1559     1606          \n",
       "14     2013  8    13   812      800            12       1025     1009          \n",
       "15     2013  9    13  1518     1520            -2       1817     1814          \n",
       "16     2013  6     7  2107     2020            47        132        3          \n",
       "17     2013 12    19  1905     1855            10       2241     2235          \n",
       "18     2013  4    24   754      755            -1       1000      920          \n",
       "19     2013  6    16  1829     1825             4       2202     2145          \n",
       "20     2013 10    29  1941     1830            71       2249     2157          \n",
       "21     2013  3    12   634      630             4       1013     1040          \n",
       "22     2013 11    14  1843     1845            -2       2133     2152          \n",
       "23     2013  5     6   751      800            -9        937      958          \n",
       "24     2013  5    25  1132     1140            -8       1232     1247          \n",
       "25     2013  2    22  1451     1500            -9       1801     1825          \n",
       "26     2013  6    13    NA     1535            NA         NA     1725          \n",
       "27     2013  3     9  1450     1445             5       1605     1615          \n",
       "28     2013  8    17  1257     1300            -3       1451     1505          \n",
       "29     2013  9    11  2057     2029            28       2256     2237          \n",
       "30     2013  3    29  1611     1620            -9       1838     1903          \n",
       "...    ...  ...   ... ...      ...            ...       ...      ...           \n",
       "101004 2013  9    24   713      730           -17       1027     1045          \n",
       "101005 2013 11    24   550      600           -10        638      705          \n",
       "101006 2013  6    21   754      800            -6        901      913          \n",
       "101007 2013  9    20   931      910            21       1226     1220          \n",
       "101008 2013  5    14  1126     1130            -4       1324     1350          \n",
       "101009 2013  3    24  1746     1730            16       1855     1849          \n",
       "101010 2013 12    21   740      740             0       1104     1058          \n",
       "101011 2013  2    15   849      844             5       1155     1155          \n",
       "101012 2013  4    18  1531     1457            34       1700     1634          \n",
       "101013 2013  1    18  1322     1325            -3       1512     1505          \n",
       "101014 2013  9    13   629      630            -1        738      805          \n",
       "101015 2013  6    13   727      730            -3       1104     1045          \n",
       "101016 2013  7    18  1843     1830            13       2242     2145          \n",
       "101017 2013 10    29  1541     1545            -4       1933     1944          \n",
       "101018 2013  4     9    NA      600            NA         NA      852          \n",
       "101019 2013  5    23   937      945            -8       1243     1240          \n",
       "101020 2013 11     4  1818     1815             3       2127     2127          \n",
       "101021 2013 12    25  1720     1600            80       1845     1730          \n",
       "101022 2013 12    17    NA     1635            NA         NA     1755          \n",
       "101023 2013  3    20   926      900            26       1032     1020          \n",
       "101024 2013  5    13  1700     1700             0       1910     1955          \n",
       "101025 2013  9    15   802      755             7       1152     1154          \n",
       "101026 2013  3    18   759      745            14        946      930          \n",
       "101027 2013  5    20  2154     2155            -1         39       52          \n",
       "101028 2013  1    25   956      945            11       1131     1130          \n",
       "101029 2013  7    20   737      705            32       1030      955          \n",
       "101030 2013 12    30  1654     1659            -5       1934     1947          \n",
       "101031 2013  3    16  1903     1855             8       2248     2255          \n",
       "101032 2013  4    17   840      840             0       1208     1147          \n",
       "101033 2013 11    18   805      807            -2       1052     1112          \n",
       "       arr_delay carrier flight tailnum origin dest air_time distance hour\n",
       "1       16       MQ      3416   N722MQ  LGA    RDU   67       431     15  \n",
       "2        1       UA       350   N594UA  EWR    TPA  143       997     15  \n",
       "3       15       EV      3830   N16918  EWR    RIC   48       277     20  \n",
       "4       22       YV      2751   N928LR  LGA    CLT   82       544     17  \n",
       "5      -14       UA      1294   N17233  EWR    SFO  341      2565      8  \n",
       "6      -17       B6       673   N804JB  JFK    LAX  331      2475     11  \n",
       "7       24       EV      4419   N12142  EWR    XNA  207      1131      8  \n",
       "8      -36       DL       427   N193DN  JFK    LAX  333      2475     20  \n",
       "9      -23       DL       502   N322US  EWR    ATL   99       746      9  \n",
       "10       2       B6      1783   N612JB  JFK    MCO  138       944     13  \n",
       "11      -2       B6      2580   N324JB  EWR    BOS   47       200     17  \n",
       "12      -9       DL      1415   N3763D  JFK    SLC  294      1990      6  \n",
       "13      -7       UA       765   N843UA  EWR    MSY  160      1167     13  \n",
       "14      16       UA       561   N529UA  LGA    DEN  221      1620      8  \n",
       "15       3       UA      1600   N14107  EWR    LAX  324      2454     15  \n",
       "16      89       B6       649   N568JB  JFK    SFO  325      2586     20  \n",
       "17       6       VX        29   N627VA  JFK    SFO  357      2586     18  \n",
       "18      40       MQ      3737   N520MQ  EWR    ORD  115       719      7  \n",
       "19      17       AS         7   N552AS  EWR    SEA  342      2402     18  \n",
       "20      52       UA       389   N510UA  JFK    SFO  341      2586     18  \n",
       "21     -27       AA       413   N3CYAA  JFK    SJU  195      1598      6  \n",
       "22     -19       DL      2391   N911DL  JFK    TPA  144      1005     18  \n",
       "23     -21       B6      1273   N238JB  JFK    CHS   87       636      8  \n",
       "24     -15       B6      1191   N298JB  JFK    ACK   41       199     11  \n",
       "25     -24       AA      1925   N3HLAA  LGA    MIA  158      1096     15  \n",
       "26      NA       MQ      3416   N735MQ  LGA    RDU   NA       431     15  \n",
       "27     -10       WN      2663   N962WN  LGA    MDW  110       725     14  \n",
       "28     -14       MQ      3340   N721MQ  LGA    DTW   82       502     13  \n",
       "29      19       EV      4536   N16541  EWR    CVG   86       569     20  \n",
       "30     -25       US        35   N507AY  JFK    PHX  295      2153     16  \n",
       "...    ...       ...     ...    ...     ...    ...  ...      ...      ... \n",
       "101004 -18       DL      2003   N333NB  LGA    MIA  151      1096      7  \n",
       "101005 -27       US      1739   N959UW  LGA    PHL   31        96      6  \n",
       "101006 -12       US      2165   N765US  LGA    DCA   42       214      8  \n",
       "101007   6       AA         1   N327AA  JFK    LAX  324      2475      9  \n",
       "101008 -26       EV      4990   N708EV  LGA    MCI  145      1107     11  \n",
       "101009   6       B6        74   N587JB  JFK    BTV   43       266     17  \n",
       "101010   6       DL       440   N712TW  JFK    SEA  360      2422      7  \n",
       "101011   0       UA      1162   N76254  EWR    SEA  316      2402      8  \n",
       "101012  26       EV      4323   N11535  EWR    RDU   67       416     14  \n",
       "101013   7       MQ      4475   N734MQ  LGA    RDU   71       431     13  \n",
       "101014 -27       AA       303   N481AA  LGA    ORD  116       733      6  \n",
       "101015  19       VX       183   N628VA  EWR    SFO  358      2565      7  \n",
       "101016  57       AA       119   N3JAAA  EWR    LAX  306      2454     18  \n",
       "101017 -11       DL       689   N3758Y  JFK    SJU  202      1598     15  \n",
       "101018  NA       B6       371   N804JB  LGA    FLL   NA      1076      6  \n",
       "101019   3       B6       393   N559JB  LGA    MCO  131       950      9  \n",
       "101020   0       9E      2915   N906XJ  JFK    DFW  224      1391     18  \n",
       "101021  75       MQ      3734   N546MQ  LGA    BNA  128       764     16  \n",
       "101022  NA       MQ      3044   N627MQ  JFK    BWI   NA       184     16  \n",
       "101023  12       US      2120   N951UW  LGA    BOS   44       184      9  \n",
       "101024 -45       AA       257   N3FHAA  JFK    LAS  276      2248     17  \n",
       "101025  -2       UA      1216   N24211  EWR    SJU  205      1608      7  \n",
       "101026  16       AA       309   N592AA  LGA    ORD  123       733      7  \n",
       "101027 -13       UA      1692   N76516  EWR    MCO  122       937     21  \n",
       "101028   1       AA       319   N4XNAA  LGA    ORD  129       733      9  \n",
       "101029  35       UA       273   N575UA  EWR    PDX  323      2434      7  \n",
       "101030 -13       DL       221   N904DE  LGA    ATL  124       762     16  \n",
       "101031  -7       AA      1613   N642AA  JFK    SJU  199      1598     18  \n",
       "101032  21       UA      1626   N76529  EWR    SAN  344      2425      8  \n",
       "101033 -20       DL      1271   N997DL  JFK    FLL  143      1069      8  \n",
       "       minute time_hour          \n",
       "1      35     2013-07-16 15:00:00\n",
       "2       5     2013-09-23 15:00:00\n",
       "3      59     2013-08-05 20:00:00\n",
       "4      35     2013-07-17 17:00:00\n",
       "5      34     2013-10-23 08:00:00\n",
       "6      15     2013-03-06 11:00:00\n",
       "7      29     2013-12-06 08:00:00\n",
       "8      15     2013-12-30 20:00:00\n",
       "9       0     2013-10-04 09:00:00\n",
       "10     45     2013-01-28 13:00:00\n",
       "11      6     2013-11-21 17:00:00\n",
       "12     55     2013-01-01 06:00:00\n",
       "13     55     2013-05-05 13:00:00\n",
       "14      0     2013-08-13 08:00:00\n",
       "15     20     2013-09-13 15:00:00\n",
       "16     20     2013-06-07 20:00:00\n",
       "17     55     2013-12-19 18:00:00\n",
       "18     55     2013-04-24 07:00:00\n",
       "19     25     2013-06-16 18:00:00\n",
       "20     30     2013-10-29 18:00:00\n",
       "21     30     2013-03-12 06:00:00\n",
       "22     45     2013-11-14 18:00:00\n",
       "23      0     2013-05-06 08:00:00\n",
       "24     40     2013-05-25 11:00:00\n",
       "25      0     2013-02-22 15:00:00\n",
       "26     35     2013-06-13 15:00:00\n",
       "27     45     2013-03-09 14:00:00\n",
       "28      0     2013-08-17 13:00:00\n",
       "29     29     2013-09-11 20:00:00\n",
       "30     20     2013-03-29 16:00:00\n",
       "...    ...    ...                \n",
       "101004 30     2013-09-24 07:00:00\n",
       "101005  0     2013-11-24 06:00:00\n",
       "101006  0     2013-06-21 08:00:00\n",
       "101007 10     2013-09-20 09:00:00\n",
       "101008 30     2013-05-14 11:00:00\n",
       "101009 30     2013-03-24 17:00:00\n",
       "101010 40     2013-12-21 07:00:00\n",
       "101011 44     2013-02-15 08:00:00\n",
       "101012 57     2013-04-18 14:00:00\n",
       "101013 25     2013-01-18 13:00:00\n",
       "101014 30     2013-09-13 06:00:00\n",
       "101015 30     2013-06-13 07:00:00\n",
       "101016 30     2013-07-18 18:00:00\n",
       "101017 45     2013-10-29 15:00:00\n",
       "101018  0     2013-04-09 06:00:00\n",
       "101019 45     2013-05-23 09:00:00\n",
       "101020 15     2013-11-04 18:00:00\n",
       "101021  0     2013-12-25 16:00:00\n",
       "101022 35     2013-12-17 16:00:00\n",
       "101023  0     2013-03-20 09:00:00\n",
       "101024  0     2013-05-13 17:00:00\n",
       "101025 55     2013-09-15 07:00:00\n",
       "101026 45     2013-03-18 07:00:00\n",
       "101027 55     2013-05-20 21:00:00\n",
       "101028 45     2013-01-25 09:00:00\n",
       "101029  5     2013-07-20 07:00:00\n",
       "101030 59     2013-12-30 16:00:00\n",
       "101031 55     2013-03-16 18:00:00\n",
       "101032 40     2013-04-17 08:00:00\n",
       "101033  7     2013-11-18 08:00:00"
      ]
     },
     "metadata": {},
     "output_type": "display_data"
    }
   ],
   "source": [
    "sample_frac(flights,0.3) #30%"
   ]
  },
  {
   "cell_type": "markdown",
   "metadata": {},
   "source": [
    "### Pipe operator %>%"
   ]
  },
  {
   "cell_type": "code",
   "execution_count": 21,
   "metadata": {},
   "outputs": [],
   "source": [
    "df <- mtcars"
   ]
  },
  {
   "cell_type": "code",
   "execution_count": 22,
   "metadata": {},
   "outputs": [
    {
     "data": {
      "text/html": [
       "<table>\n",
       "<thead><tr><th></th><th scope=col>mpg</th><th scope=col>cyl</th><th scope=col>disp</th><th scope=col>hp</th><th scope=col>drat</th><th scope=col>wt</th><th scope=col>qsec</th><th scope=col>vs</th><th scope=col>am</th><th scope=col>gear</th><th scope=col>carb</th></tr></thead>\n",
       "<tbody>\n",
       "\t<tr><th scope=row>Mazda RX4</th><td>21.0 </td><td>6    </td><td>160.0</td><td>110  </td><td>3.90 </td><td>2.620</td><td>16.46</td><td>0    </td><td>1    </td><td>4    </td><td>4    </td></tr>\n",
       "\t<tr><th scope=row>Mazda RX4 Wag</th><td>21.0 </td><td>6    </td><td>160.0</td><td>110  </td><td>3.90 </td><td>2.875</td><td>17.02</td><td>0    </td><td>1    </td><td>4    </td><td>4    </td></tr>\n",
       "\t<tr><th scope=row>Datsun 710</th><td>22.8 </td><td>4    </td><td>108.0</td><td> 93  </td><td>3.85 </td><td>2.320</td><td>18.61</td><td>1    </td><td>1    </td><td>4    </td><td>1    </td></tr>\n",
       "\t<tr><th scope=row>Hornet 4 Drive</th><td>21.4 </td><td>6    </td><td>258.0</td><td>110  </td><td>3.08 </td><td>3.215</td><td>19.44</td><td>1    </td><td>0    </td><td>3    </td><td>1    </td></tr>\n",
       "\t<tr><th scope=row>Hornet Sportabout</th><td>18.7 </td><td>8    </td><td>360.0</td><td>175  </td><td>3.15 </td><td>3.440</td><td>17.02</td><td>0    </td><td>0    </td><td>3    </td><td>2    </td></tr>\n",
       "\t<tr><th scope=row>Valiant</th><td>18.1 </td><td>6    </td><td>225.0</td><td>105  </td><td>2.76 </td><td>3.460</td><td>20.22</td><td>1    </td><td>0    </td><td>3    </td><td>1    </td></tr>\n",
       "\t<tr><th scope=row>Duster 360</th><td>14.3 </td><td>8    </td><td>360.0</td><td>245  </td><td>3.21 </td><td>3.570</td><td>15.84</td><td>0    </td><td>0    </td><td>3    </td><td>4    </td></tr>\n",
       "\t<tr><th scope=row>Merc 240D</th><td>24.4 </td><td>4    </td><td>146.7</td><td> 62  </td><td>3.69 </td><td>3.190</td><td>20.00</td><td>1    </td><td>0    </td><td>4    </td><td>2    </td></tr>\n",
       "\t<tr><th scope=row>Merc 230</th><td>22.8 </td><td>4    </td><td>140.8</td><td> 95  </td><td>3.92 </td><td>3.150</td><td>22.90</td><td>1    </td><td>0    </td><td>4    </td><td>2    </td></tr>\n",
       "\t<tr><th scope=row>Merc 280</th><td>19.2 </td><td>6    </td><td>167.6</td><td>123  </td><td>3.92 </td><td>3.440</td><td>18.30</td><td>1    </td><td>0    </td><td>4    </td><td>4    </td></tr>\n",
       "\t<tr><th scope=row>Merc 280C</th><td>17.8 </td><td>6    </td><td>167.6</td><td>123  </td><td>3.92 </td><td>3.440</td><td>18.90</td><td>1    </td><td>0    </td><td>4    </td><td>4    </td></tr>\n",
       "\t<tr><th scope=row>Merc 450SE</th><td>16.4 </td><td>8    </td><td>275.8</td><td>180  </td><td>3.07 </td><td>4.070</td><td>17.40</td><td>0    </td><td>0    </td><td>3    </td><td>3    </td></tr>\n",
       "\t<tr><th scope=row>Merc 450SL</th><td>17.3 </td><td>8    </td><td>275.8</td><td>180  </td><td>3.07 </td><td>3.730</td><td>17.60</td><td>0    </td><td>0    </td><td>3    </td><td>3    </td></tr>\n",
       "\t<tr><th scope=row>Merc 450SLC</th><td>15.2 </td><td>8    </td><td>275.8</td><td>180  </td><td>3.07 </td><td>3.780</td><td>18.00</td><td>0    </td><td>0    </td><td>3    </td><td>3    </td></tr>\n",
       "\t<tr><th scope=row>Cadillac Fleetwood</th><td>10.4 </td><td>8    </td><td>472.0</td><td>205  </td><td>2.93 </td><td>5.250</td><td>17.98</td><td>0    </td><td>0    </td><td>3    </td><td>4    </td></tr>\n",
       "\t<tr><th scope=row>Lincoln Continental</th><td>10.4 </td><td>8    </td><td>460.0</td><td>215  </td><td>3.00 </td><td>5.424</td><td>17.82</td><td>0    </td><td>0    </td><td>3    </td><td>4    </td></tr>\n",
       "\t<tr><th scope=row>Chrysler Imperial</th><td>14.7 </td><td>8    </td><td>440.0</td><td>230  </td><td>3.23 </td><td>5.345</td><td>17.42</td><td>0    </td><td>0    </td><td>3    </td><td>4    </td></tr>\n",
       "\t<tr><th scope=row>Fiat 128</th><td>32.4 </td><td>4    </td><td> 78.7</td><td> 66  </td><td>4.08 </td><td>2.200</td><td>19.47</td><td>1    </td><td>1    </td><td>4    </td><td>1    </td></tr>\n",
       "\t<tr><th scope=row>Honda Civic</th><td>30.4 </td><td>4    </td><td> 75.7</td><td> 52  </td><td>4.93 </td><td>1.615</td><td>18.52</td><td>1    </td><td>1    </td><td>4    </td><td>2    </td></tr>\n",
       "\t<tr><th scope=row>Toyota Corolla</th><td>33.9 </td><td>4    </td><td> 71.1</td><td> 65  </td><td>4.22 </td><td>1.835</td><td>19.90</td><td>1    </td><td>1    </td><td>4    </td><td>1    </td></tr>\n",
       "\t<tr><th scope=row>Toyota Corona</th><td>21.5 </td><td>4    </td><td>120.1</td><td> 97  </td><td>3.70 </td><td>2.465</td><td>20.01</td><td>1    </td><td>0    </td><td>3    </td><td>1    </td></tr>\n",
       "\t<tr><th scope=row>Dodge Challenger</th><td>15.5 </td><td>8    </td><td>318.0</td><td>150  </td><td>2.76 </td><td>3.520</td><td>16.87</td><td>0    </td><td>0    </td><td>3    </td><td>2    </td></tr>\n",
       "\t<tr><th scope=row>AMC Javelin</th><td>15.2 </td><td>8    </td><td>304.0</td><td>150  </td><td>3.15 </td><td>3.435</td><td>17.30</td><td>0    </td><td>0    </td><td>3    </td><td>2    </td></tr>\n",
       "\t<tr><th scope=row>Camaro Z28</th><td>13.3 </td><td>8    </td><td>350.0</td><td>245  </td><td>3.73 </td><td>3.840</td><td>15.41</td><td>0    </td><td>0    </td><td>3    </td><td>4    </td></tr>\n",
       "\t<tr><th scope=row>Pontiac Firebird</th><td>19.2 </td><td>8    </td><td>400.0</td><td>175  </td><td>3.08 </td><td>3.845</td><td>17.05</td><td>0    </td><td>0    </td><td>3    </td><td>2    </td></tr>\n",
       "\t<tr><th scope=row>Fiat X1-9</th><td>27.3 </td><td>4    </td><td> 79.0</td><td> 66  </td><td>4.08 </td><td>1.935</td><td>18.90</td><td>1    </td><td>1    </td><td>4    </td><td>1    </td></tr>\n",
       "\t<tr><th scope=row>Porsche 914-2</th><td>26.0 </td><td>4    </td><td>120.3</td><td> 91  </td><td>4.43 </td><td>2.140</td><td>16.70</td><td>0    </td><td>1    </td><td>5    </td><td>2    </td></tr>\n",
       "\t<tr><th scope=row>Lotus Europa</th><td>30.4 </td><td>4    </td><td> 95.1</td><td>113  </td><td>3.77 </td><td>1.513</td><td>16.90</td><td>1    </td><td>1    </td><td>5    </td><td>2    </td></tr>\n",
       "\t<tr><th scope=row>Ford Pantera L</th><td>15.8 </td><td>8    </td><td>351.0</td><td>264  </td><td>4.22 </td><td>3.170</td><td>14.50</td><td>0    </td><td>1    </td><td>5    </td><td>4    </td></tr>\n",
       "\t<tr><th scope=row>Ferrari Dino</th><td>19.7 </td><td>6    </td><td>145.0</td><td>175  </td><td>3.62 </td><td>2.770</td><td>15.50</td><td>0    </td><td>1    </td><td>5    </td><td>6    </td></tr>\n",
       "\t<tr><th scope=row>Maserati Bora</th><td>15.0 </td><td>8    </td><td>301.0</td><td>335  </td><td>3.54 </td><td>3.570</td><td>14.60</td><td>0    </td><td>1    </td><td>5    </td><td>8    </td></tr>\n",
       "\t<tr><th scope=row>Volvo 142E</th><td>21.4 </td><td>4    </td><td>121.0</td><td>109  </td><td>4.11 </td><td>2.780</td><td>18.60</td><td>1    </td><td>1    </td><td>4    </td><td>2    </td></tr>\n",
       "</tbody>\n",
       "</table>\n"
      ],
      "text/latex": [
       "\\begin{tabular}{r|lllllllllll}\n",
       "  & mpg & cyl & disp & hp & drat & wt & qsec & vs & am & gear & carb\\\\\n",
       "\\hline\n",
       "\tMazda RX4 & 21.0  & 6     & 160.0 & 110   & 3.90  & 2.620 & 16.46 & 0     & 1     & 4     & 4    \\\\\n",
       "\tMazda RX4 Wag & 21.0  & 6     & 160.0 & 110   & 3.90  & 2.875 & 17.02 & 0     & 1     & 4     & 4    \\\\\n",
       "\tDatsun 710 & 22.8  & 4     & 108.0 &  93   & 3.85  & 2.320 & 18.61 & 1     & 1     & 4     & 1    \\\\\n",
       "\tHornet 4 Drive & 21.4  & 6     & 258.0 & 110   & 3.08  & 3.215 & 19.44 & 1     & 0     & 3     & 1    \\\\\n",
       "\tHornet Sportabout & 18.7  & 8     & 360.0 & 175   & 3.15  & 3.440 & 17.02 & 0     & 0     & 3     & 2    \\\\\n",
       "\tValiant & 18.1  & 6     & 225.0 & 105   & 2.76  & 3.460 & 20.22 & 1     & 0     & 3     & 1    \\\\\n",
       "\tDuster 360 & 14.3  & 8     & 360.0 & 245   & 3.21  & 3.570 & 15.84 & 0     & 0     & 3     & 4    \\\\\n",
       "\tMerc 240D & 24.4  & 4     & 146.7 &  62   & 3.69  & 3.190 & 20.00 & 1     & 0     & 4     & 2    \\\\\n",
       "\tMerc 230 & 22.8  & 4     & 140.8 &  95   & 3.92  & 3.150 & 22.90 & 1     & 0     & 4     & 2    \\\\\n",
       "\tMerc 280 & 19.2  & 6     & 167.6 & 123   & 3.92  & 3.440 & 18.30 & 1     & 0     & 4     & 4    \\\\\n",
       "\tMerc 280C & 17.8  & 6     & 167.6 & 123   & 3.92  & 3.440 & 18.90 & 1     & 0     & 4     & 4    \\\\\n",
       "\tMerc 450SE & 16.4  & 8     & 275.8 & 180   & 3.07  & 4.070 & 17.40 & 0     & 0     & 3     & 3    \\\\\n",
       "\tMerc 450SL & 17.3  & 8     & 275.8 & 180   & 3.07  & 3.730 & 17.60 & 0     & 0     & 3     & 3    \\\\\n",
       "\tMerc 450SLC & 15.2  & 8     & 275.8 & 180   & 3.07  & 3.780 & 18.00 & 0     & 0     & 3     & 3    \\\\\n",
       "\tCadillac Fleetwood & 10.4  & 8     & 472.0 & 205   & 2.93  & 5.250 & 17.98 & 0     & 0     & 3     & 4    \\\\\n",
       "\tLincoln Continental & 10.4  & 8     & 460.0 & 215   & 3.00  & 5.424 & 17.82 & 0     & 0     & 3     & 4    \\\\\n",
       "\tChrysler Imperial & 14.7  & 8     & 440.0 & 230   & 3.23  & 5.345 & 17.42 & 0     & 0     & 3     & 4    \\\\\n",
       "\tFiat 128 & 32.4  & 4     &  78.7 &  66   & 4.08  & 2.200 & 19.47 & 1     & 1     & 4     & 1    \\\\\n",
       "\tHonda Civic & 30.4  & 4     &  75.7 &  52   & 4.93  & 1.615 & 18.52 & 1     & 1     & 4     & 2    \\\\\n",
       "\tToyota Corolla & 33.9  & 4     &  71.1 &  65   & 4.22  & 1.835 & 19.90 & 1     & 1     & 4     & 1    \\\\\n",
       "\tToyota Corona & 21.5  & 4     & 120.1 &  97   & 3.70  & 2.465 & 20.01 & 1     & 0     & 3     & 1    \\\\\n",
       "\tDodge Challenger & 15.5  & 8     & 318.0 & 150   & 2.76  & 3.520 & 16.87 & 0     & 0     & 3     & 2    \\\\\n",
       "\tAMC Javelin & 15.2  & 8     & 304.0 & 150   & 3.15  & 3.435 & 17.30 & 0     & 0     & 3     & 2    \\\\\n",
       "\tCamaro Z28 & 13.3  & 8     & 350.0 & 245   & 3.73  & 3.840 & 15.41 & 0     & 0     & 3     & 4    \\\\\n",
       "\tPontiac Firebird & 19.2  & 8     & 400.0 & 175   & 3.08  & 3.845 & 17.05 & 0     & 0     & 3     & 2    \\\\\n",
       "\tFiat X1-9 & 27.3  & 4     &  79.0 &  66   & 4.08  & 1.935 & 18.90 & 1     & 1     & 4     & 1    \\\\\n",
       "\tPorsche 914-2 & 26.0  & 4     & 120.3 &  91   & 4.43  & 2.140 & 16.70 & 0     & 1     & 5     & 2    \\\\\n",
       "\tLotus Europa & 30.4  & 4     &  95.1 & 113   & 3.77  & 1.513 & 16.90 & 1     & 1     & 5     & 2    \\\\\n",
       "\tFord Pantera L & 15.8  & 8     & 351.0 & 264   & 4.22  & 3.170 & 14.50 & 0     & 1     & 5     & 4    \\\\\n",
       "\tFerrari Dino & 19.7  & 6     & 145.0 & 175   & 3.62  & 2.770 & 15.50 & 0     & 1     & 5     & 6    \\\\\n",
       "\tMaserati Bora & 15.0  & 8     & 301.0 & 335   & 3.54  & 3.570 & 14.60 & 0     & 1     & 5     & 8    \\\\\n",
       "\tVolvo 142E & 21.4  & 4     & 121.0 & 109   & 4.11  & 2.780 & 18.60 & 1     & 1     & 4     & 2    \\\\\n",
       "\\end{tabular}\n"
      ],
      "text/markdown": [
       "\n",
       "| <!--/--> | mpg | cyl | disp | hp | drat | wt | qsec | vs | am | gear | carb |\n",
       "|---|---|---|---|---|---|---|---|---|---|---|---|\n",
       "| Mazda RX4 | 21.0  | 6     | 160.0 | 110   | 3.90  | 2.620 | 16.46 | 0     | 1     | 4     | 4     |\n",
       "| Mazda RX4 Wag | 21.0  | 6     | 160.0 | 110   | 3.90  | 2.875 | 17.02 | 0     | 1     | 4     | 4     |\n",
       "| Datsun 710 | 22.8  | 4     | 108.0 |  93   | 3.85  | 2.320 | 18.61 | 1     | 1     | 4     | 1     |\n",
       "| Hornet 4 Drive | 21.4  | 6     | 258.0 | 110   | 3.08  | 3.215 | 19.44 | 1     | 0     | 3     | 1     |\n",
       "| Hornet Sportabout | 18.7  | 8     | 360.0 | 175   | 3.15  | 3.440 | 17.02 | 0     | 0     | 3     | 2     |\n",
       "| Valiant | 18.1  | 6     | 225.0 | 105   | 2.76  | 3.460 | 20.22 | 1     | 0     | 3     | 1     |\n",
       "| Duster 360 | 14.3  | 8     | 360.0 | 245   | 3.21  | 3.570 | 15.84 | 0     | 0     | 3     | 4     |\n",
       "| Merc 240D | 24.4  | 4     | 146.7 |  62   | 3.69  | 3.190 | 20.00 | 1     | 0     | 4     | 2     |\n",
       "| Merc 230 | 22.8  | 4     | 140.8 |  95   | 3.92  | 3.150 | 22.90 | 1     | 0     | 4     | 2     |\n",
       "| Merc 280 | 19.2  | 6     | 167.6 | 123   | 3.92  | 3.440 | 18.30 | 1     | 0     | 4     | 4     |\n",
       "| Merc 280C | 17.8  | 6     | 167.6 | 123   | 3.92  | 3.440 | 18.90 | 1     | 0     | 4     | 4     |\n",
       "| Merc 450SE | 16.4  | 8     | 275.8 | 180   | 3.07  | 4.070 | 17.40 | 0     | 0     | 3     | 3     |\n",
       "| Merc 450SL | 17.3  | 8     | 275.8 | 180   | 3.07  | 3.730 | 17.60 | 0     | 0     | 3     | 3     |\n",
       "| Merc 450SLC | 15.2  | 8     | 275.8 | 180   | 3.07  | 3.780 | 18.00 | 0     | 0     | 3     | 3     |\n",
       "| Cadillac Fleetwood | 10.4  | 8     | 472.0 | 205   | 2.93  | 5.250 | 17.98 | 0     | 0     | 3     | 4     |\n",
       "| Lincoln Continental | 10.4  | 8     | 460.0 | 215   | 3.00  | 5.424 | 17.82 | 0     | 0     | 3     | 4     |\n",
       "| Chrysler Imperial | 14.7  | 8     | 440.0 | 230   | 3.23  | 5.345 | 17.42 | 0     | 0     | 3     | 4     |\n",
       "| Fiat 128 | 32.4  | 4     |  78.7 |  66   | 4.08  | 2.200 | 19.47 | 1     | 1     | 4     | 1     |\n",
       "| Honda Civic | 30.4  | 4     |  75.7 |  52   | 4.93  | 1.615 | 18.52 | 1     | 1     | 4     | 2     |\n",
       "| Toyota Corolla | 33.9  | 4     |  71.1 |  65   | 4.22  | 1.835 | 19.90 | 1     | 1     | 4     | 1     |\n",
       "| Toyota Corona | 21.5  | 4     | 120.1 |  97   | 3.70  | 2.465 | 20.01 | 1     | 0     | 3     | 1     |\n",
       "| Dodge Challenger | 15.5  | 8     | 318.0 | 150   | 2.76  | 3.520 | 16.87 | 0     | 0     | 3     | 2     |\n",
       "| AMC Javelin | 15.2  | 8     | 304.0 | 150   | 3.15  | 3.435 | 17.30 | 0     | 0     | 3     | 2     |\n",
       "| Camaro Z28 | 13.3  | 8     | 350.0 | 245   | 3.73  | 3.840 | 15.41 | 0     | 0     | 3     | 4     |\n",
       "| Pontiac Firebird | 19.2  | 8     | 400.0 | 175   | 3.08  | 3.845 | 17.05 | 0     | 0     | 3     | 2     |\n",
       "| Fiat X1-9 | 27.3  | 4     |  79.0 |  66   | 4.08  | 1.935 | 18.90 | 1     | 1     | 4     | 1     |\n",
       "| Porsche 914-2 | 26.0  | 4     | 120.3 |  91   | 4.43  | 2.140 | 16.70 | 0     | 1     | 5     | 2     |\n",
       "| Lotus Europa | 30.4  | 4     |  95.1 | 113   | 3.77  | 1.513 | 16.90 | 1     | 1     | 5     | 2     |\n",
       "| Ford Pantera L | 15.8  | 8     | 351.0 | 264   | 4.22  | 3.170 | 14.50 | 0     | 1     | 5     | 4     |\n",
       "| Ferrari Dino | 19.7  | 6     | 145.0 | 175   | 3.62  | 2.770 | 15.50 | 0     | 1     | 5     | 6     |\n",
       "| Maserati Bora | 15.0  | 8     | 301.0 | 335   | 3.54  | 3.570 | 14.60 | 0     | 1     | 5     | 8     |\n",
       "| Volvo 142E | 21.4  | 4     | 121.0 | 109   | 4.11  | 2.780 | 18.60 | 1     | 1     | 4     | 2     |\n",
       "\n"
      ],
      "text/plain": [
       "                    mpg  cyl disp  hp  drat wt    qsec  vs am gear carb\n",
       "Mazda RX4           21.0 6   160.0 110 3.90 2.620 16.46 0  1  4    4   \n",
       "Mazda RX4 Wag       21.0 6   160.0 110 3.90 2.875 17.02 0  1  4    4   \n",
       "Datsun 710          22.8 4   108.0  93 3.85 2.320 18.61 1  1  4    1   \n",
       "Hornet 4 Drive      21.4 6   258.0 110 3.08 3.215 19.44 1  0  3    1   \n",
       "Hornet Sportabout   18.7 8   360.0 175 3.15 3.440 17.02 0  0  3    2   \n",
       "Valiant             18.1 6   225.0 105 2.76 3.460 20.22 1  0  3    1   \n",
       "Duster 360          14.3 8   360.0 245 3.21 3.570 15.84 0  0  3    4   \n",
       "Merc 240D           24.4 4   146.7  62 3.69 3.190 20.00 1  0  4    2   \n",
       "Merc 230            22.8 4   140.8  95 3.92 3.150 22.90 1  0  4    2   \n",
       "Merc 280            19.2 6   167.6 123 3.92 3.440 18.30 1  0  4    4   \n",
       "Merc 280C           17.8 6   167.6 123 3.92 3.440 18.90 1  0  4    4   \n",
       "Merc 450SE          16.4 8   275.8 180 3.07 4.070 17.40 0  0  3    3   \n",
       "Merc 450SL          17.3 8   275.8 180 3.07 3.730 17.60 0  0  3    3   \n",
       "Merc 450SLC         15.2 8   275.8 180 3.07 3.780 18.00 0  0  3    3   \n",
       "Cadillac Fleetwood  10.4 8   472.0 205 2.93 5.250 17.98 0  0  3    4   \n",
       "Lincoln Continental 10.4 8   460.0 215 3.00 5.424 17.82 0  0  3    4   \n",
       "Chrysler Imperial   14.7 8   440.0 230 3.23 5.345 17.42 0  0  3    4   \n",
       "Fiat 128            32.4 4    78.7  66 4.08 2.200 19.47 1  1  4    1   \n",
       "Honda Civic         30.4 4    75.7  52 4.93 1.615 18.52 1  1  4    2   \n",
       "Toyota Corolla      33.9 4    71.1  65 4.22 1.835 19.90 1  1  4    1   \n",
       "Toyota Corona       21.5 4   120.1  97 3.70 2.465 20.01 1  0  3    1   \n",
       "Dodge Challenger    15.5 8   318.0 150 2.76 3.520 16.87 0  0  3    2   \n",
       "AMC Javelin         15.2 8   304.0 150 3.15 3.435 17.30 0  0  3    2   \n",
       "Camaro Z28          13.3 8   350.0 245 3.73 3.840 15.41 0  0  3    4   \n",
       "Pontiac Firebird    19.2 8   400.0 175 3.08 3.845 17.05 0  0  3    2   \n",
       "Fiat X1-9           27.3 4    79.0  66 4.08 1.935 18.90 1  1  4    1   \n",
       "Porsche 914-2       26.0 4   120.3  91 4.43 2.140 16.70 0  1  5    2   \n",
       "Lotus Europa        30.4 4    95.1 113 3.77 1.513 16.90 1  1  5    2   \n",
       "Ford Pantera L      15.8 8   351.0 264 4.22 3.170 14.50 0  1  5    4   \n",
       "Ferrari Dino        19.7 6   145.0 175 3.62 2.770 15.50 0  1  5    6   \n",
       "Maserati Bora       15.0 8   301.0 335 3.54 3.570 14.60 0  1  5    8   \n",
       "Volvo 142E          21.4 4   121.0 109 4.11 2.780 18.60 1  1  4    2   "
      ]
     },
     "metadata": {},
     "output_type": "display_data"
    }
   ],
   "source": [
    "df"
   ]
  },
  {
   "cell_type": "code",
   "execution_count": 23,
   "metadata": {},
   "outputs": [
    {
     "name": "stdout",
     "output_type": "stream",
     "text": [
      "    mpg cyl  disp  hp drat    wt  qsec vs am gear carb\n",
      "1  21.0   6 160.0 110 3.90 2.620 16.46  0  1    4    4\n",
      "2  21.0   6 160.0 110 3.90 2.875 17.02  0  1    4    4\n",
      "3  22.8   4 108.0  93 3.85 2.320 18.61  1  1    4    1\n",
      "4  21.4   6 258.0 110 3.08 3.215 19.44  1  0    3    1\n",
      "5  24.4   4 146.7  62 3.69 3.190 20.00  1  0    4    2\n",
      "6  22.8   4 140.8  95 3.92 3.150 22.90  1  0    4    2\n",
      "7  32.4   4  78.7  66 4.08 2.200 19.47  1  1    4    1\n",
      "8  30.4   4  75.7  52 4.93 1.615 18.52  1  1    4    2\n",
      "9  33.9   4  71.1  65 4.22 1.835 19.90  1  1    4    1\n",
      "10 21.5   4 120.1  97 3.70 2.465 20.01  1  0    3    1\n",
      "11 27.3   4  79.0  66 4.08 1.935 18.90  1  1    4    1\n",
      "12 26.0   4 120.3  91 4.43 2.140 16.70  0  1    5    2\n",
      "13 30.4   4  95.1 113 3.77 1.513 16.90  1  1    5    2\n",
      "14 21.4   4 121.0 109 4.11 2.780 18.60  1  1    4    2\n"
     ]
    }
   ],
   "source": [
    "a <- filter(df,mpg>20)\n",
    "print(a)"
   ]
  },
  {
   "cell_type": "code",
   "execution_count": 24,
   "metadata": {},
   "outputs": [
    {
     "name": "stdout",
     "output_type": "stream",
     "text": [
      "    mpg cyl  disp  hp drat    wt  qsec vs am gear carb\n",
      "1  21.4   4 121.0 109 4.11 2.780 18.60  1  1    4    2\n",
      "2  21.5   4 120.1  97 3.70 2.465 20.01  1  0    3    1\n",
      "3  33.9   4  71.1  65 4.22 1.835 19.90  1  1    4    1\n",
      "4  21.0   6 160.0 110 3.90 2.620 16.46  0  1    4    4\n",
      "5  32.4   4  78.7  66 4.08 2.200 19.47  1  1    4    1\n",
      "6  26.0   4 120.3  91 4.43 2.140 16.70  0  1    5    2\n",
      "7  27.3   4  79.0  66 4.08 1.935 18.90  1  1    4    1\n",
      "8  22.8   4 108.0  93 3.85 2.320 18.61  1  1    4    1\n",
      "9  30.4   4  95.1 113 3.77 1.513 16.90  1  1    5    2\n",
      "10 21.4   6 258.0 110 3.08 3.215 19.44  1  0    3    1\n"
     ]
    }
   ],
   "source": [
    "b <- sample_n(a,10)\n",
    "print(b)"
   ]
  },
  {
   "cell_type": "code",
   "execution_count": 25,
   "metadata": {},
   "outputs": [],
   "source": [
    "c <- arrange(b,desc(hp))"
   ]
  },
  {
   "cell_type": "code",
   "execution_count": 26,
   "metadata": {},
   "outputs": [
    {
     "data": {
      "text/html": [
       "<table>\n",
       "<thead><tr><th scope=col>mpg</th><th scope=col>cyl</th><th scope=col>disp</th><th scope=col>hp</th><th scope=col>drat</th><th scope=col>wt</th><th scope=col>qsec</th><th scope=col>vs</th><th scope=col>am</th><th scope=col>gear</th><th scope=col>carb</th></tr></thead>\n",
       "<tbody>\n",
       "\t<tr><td>30.4 </td><td>4    </td><td> 95.1</td><td>113  </td><td>3.77 </td><td>1.513</td><td>16.90</td><td>1    </td><td>1    </td><td>5    </td><td>2    </td></tr>\n",
       "\t<tr><td>21.0 </td><td>6    </td><td>160.0</td><td>110  </td><td>3.90 </td><td>2.620</td><td>16.46</td><td>0    </td><td>1    </td><td>4    </td><td>4    </td></tr>\n",
       "\t<tr><td>21.4 </td><td>6    </td><td>258.0</td><td>110  </td><td>3.08 </td><td>3.215</td><td>19.44</td><td>1    </td><td>0    </td><td>3    </td><td>1    </td></tr>\n",
       "\t<tr><td>21.4 </td><td>4    </td><td>121.0</td><td>109  </td><td>4.11 </td><td>2.780</td><td>18.60</td><td>1    </td><td>1    </td><td>4    </td><td>2    </td></tr>\n",
       "\t<tr><td>21.5 </td><td>4    </td><td>120.1</td><td> 97  </td><td>3.70 </td><td>2.465</td><td>20.01</td><td>1    </td><td>0    </td><td>3    </td><td>1    </td></tr>\n",
       "\t<tr><td>22.8 </td><td>4    </td><td>108.0</td><td> 93  </td><td>3.85 </td><td>2.320</td><td>18.61</td><td>1    </td><td>1    </td><td>4    </td><td>1    </td></tr>\n",
       "</tbody>\n",
       "</table>\n"
      ],
      "text/latex": [
       "\\begin{tabular}{r|lllllllllll}\n",
       " mpg & cyl & disp & hp & drat & wt & qsec & vs & am & gear & carb\\\\\n",
       "\\hline\n",
       "\t 30.4  & 4     &  95.1 & 113   & 3.77  & 1.513 & 16.90 & 1     & 1     & 5     & 2    \\\\\n",
       "\t 21.0  & 6     & 160.0 & 110   & 3.90  & 2.620 & 16.46 & 0     & 1     & 4     & 4    \\\\\n",
       "\t 21.4  & 6     & 258.0 & 110   & 3.08  & 3.215 & 19.44 & 1     & 0     & 3     & 1    \\\\\n",
       "\t 21.4  & 4     & 121.0 & 109   & 4.11  & 2.780 & 18.60 & 1     & 1     & 4     & 2    \\\\\n",
       "\t 21.5  & 4     & 120.1 &  97   & 3.70  & 2.465 & 20.01 & 1     & 0     & 3     & 1    \\\\\n",
       "\t 22.8  & 4     & 108.0 &  93   & 3.85  & 2.320 & 18.61 & 1     & 1     & 4     & 1    \\\\\n",
       "\\end{tabular}\n"
      ],
      "text/markdown": [
       "\n",
       "| mpg | cyl | disp | hp | drat | wt | qsec | vs | am | gear | carb |\n",
       "|---|---|---|---|---|---|---|---|---|---|---|\n",
       "| 30.4  | 4     |  95.1 | 113   | 3.77  | 1.513 | 16.90 | 1     | 1     | 5     | 2     |\n",
       "| 21.0  | 6     | 160.0 | 110   | 3.90  | 2.620 | 16.46 | 0     | 1     | 4     | 4     |\n",
       "| 21.4  | 6     | 258.0 | 110   | 3.08  | 3.215 | 19.44 | 1     | 0     | 3     | 1     |\n",
       "| 21.4  | 4     | 121.0 | 109   | 4.11  | 2.780 | 18.60 | 1     | 1     | 4     | 2     |\n",
       "| 21.5  | 4     | 120.1 |  97   | 3.70  | 2.465 | 20.01 | 1     | 0     | 3     | 1     |\n",
       "| 22.8  | 4     | 108.0 |  93   | 3.85  | 2.320 | 18.61 | 1     | 1     | 4     | 1     |\n",
       "\n"
      ],
      "text/plain": [
       "  mpg  cyl disp  hp  drat wt    qsec  vs am gear carb\n",
       "1 30.4 4    95.1 113 3.77 1.513 16.90 1  1  5    2   \n",
       "2 21.0 6   160.0 110 3.90 2.620 16.46 0  1  4    4   \n",
       "3 21.4 6   258.0 110 3.08 3.215 19.44 1  0  3    1   \n",
       "4 21.4 4   121.0 109 4.11 2.780 18.60 1  1  4    2   \n",
       "5 21.5 4   120.1  97 3.70 2.465 20.01 1  0  3    1   \n",
       "6 22.8 4   108.0  93 3.85 2.320 18.61 1  1  4    1   "
      ]
     },
     "metadata": {},
     "output_type": "display_data"
    }
   ],
   "source": [
    "head(c)"
   ]
  },
  {
   "cell_type": "markdown",
   "metadata": {},
   "source": [
    "#### Using pipe operator"
   ]
  },
  {
   "cell_type": "code",
   "execution_count": 27,
   "metadata": {},
   "outputs": [
    {
     "data": {
      "text/html": [
       "<table>\n",
       "<thead><tr><th scope=col>mpg</th><th scope=col>cyl</th><th scope=col>disp</th><th scope=col>hp</th><th scope=col>drat</th><th scope=col>wt</th><th scope=col>qsec</th><th scope=col>vs</th><th scope=col>am</th><th scope=col>gear</th><th scope=col>carb</th></tr></thead>\n",
       "<tbody>\n",
       "\t<tr><td>30.4 </td><td>4    </td><td> 75.7</td><td> 52  </td><td>4.93 </td><td>1.615</td><td>18.52</td><td>1    </td><td>1    </td><td>4    </td><td>2    </td></tr>\n",
       "\t<tr><td>30.4 </td><td>4    </td><td> 95.1</td><td>113  </td><td>3.77 </td><td>1.513</td><td>16.90</td><td>1    </td><td>1    </td><td>5    </td><td>2    </td></tr>\n",
       "\t<tr><td>22.8 </td><td>4    </td><td>108.0</td><td> 93  </td><td>3.85 </td><td>2.320</td><td>18.61</td><td>1    </td><td>1    </td><td>4    </td><td>1    </td></tr>\n",
       "\t<tr><td>21.4 </td><td>6    </td><td>258.0</td><td>110  </td><td>3.08 </td><td>3.215</td><td>19.44</td><td>1    </td><td>0    </td><td>3    </td><td>1    </td></tr>\n",
       "\t<tr><td>21.4 </td><td>4    </td><td>121.0</td><td>109  </td><td>4.11 </td><td>2.780</td><td>18.60</td><td>1    </td><td>1    </td><td>4    </td><td>2    </td></tr>\n",
       "</tbody>\n",
       "</table>\n"
      ],
      "text/latex": [
       "\\begin{tabular}{r|lllllllllll}\n",
       " mpg & cyl & disp & hp & drat & wt & qsec & vs & am & gear & carb\\\\\n",
       "\\hline\n",
       "\t 30.4  & 4     &  75.7 &  52   & 4.93  & 1.615 & 18.52 & 1     & 1     & 4     & 2    \\\\\n",
       "\t 30.4  & 4     &  95.1 & 113   & 3.77  & 1.513 & 16.90 & 1     & 1     & 5     & 2    \\\\\n",
       "\t 22.8  & 4     & 108.0 &  93   & 3.85  & 2.320 & 18.61 & 1     & 1     & 4     & 1    \\\\\n",
       "\t 21.4  & 6     & 258.0 & 110   & 3.08  & 3.215 & 19.44 & 1     & 0     & 3     & 1    \\\\\n",
       "\t 21.4  & 4     & 121.0 & 109   & 4.11  & 2.780 & 18.60 & 1     & 1     & 4     & 2    \\\\\n",
       "\\end{tabular}\n"
      ],
      "text/markdown": [
       "\n",
       "| mpg | cyl | disp | hp | drat | wt | qsec | vs | am | gear | carb |\n",
       "|---|---|---|---|---|---|---|---|---|---|---|\n",
       "| 30.4  | 4     |  75.7 |  52   | 4.93  | 1.615 | 18.52 | 1     | 1     | 4     | 2     |\n",
       "| 30.4  | 4     |  95.1 | 113   | 3.77  | 1.513 | 16.90 | 1     | 1     | 5     | 2     |\n",
       "| 22.8  | 4     | 108.0 |  93   | 3.85  | 2.320 | 18.61 | 1     | 1     | 4     | 1     |\n",
       "| 21.4  | 6     | 258.0 | 110   | 3.08  | 3.215 | 19.44 | 1     | 0     | 3     | 1     |\n",
       "| 21.4  | 4     | 121.0 | 109   | 4.11  | 2.780 | 18.60 | 1     | 1     | 4     | 2     |\n",
       "\n"
      ],
      "text/plain": [
       "  mpg  cyl disp  hp  drat wt    qsec  vs am gear carb\n",
       "1 30.4 4    75.7  52 4.93 1.615 18.52 1  1  4    2   \n",
       "2 30.4 4    95.1 113 3.77 1.513 16.90 1  1  5    2   \n",
       "3 22.8 4   108.0  93 3.85 2.320 18.61 1  1  4    1   \n",
       "4 21.4 6   258.0 110 3.08 3.215 19.44 1  0  3    1   \n",
       "5 21.4 4   121.0 109 4.11 2.780 18.60 1  1  4    2   "
      ]
     },
     "metadata": {},
     "output_type": "display_data"
    }
   ],
   "source": [
    "df %>% filter(mpg > 20) %>% sample_n(5) %>% arrange(desc(mpg))"
   ]
  },
  {
   "cell_type": "markdown",
   "metadata": {},
   "source": [
    "### group_by()\n",
    "\n",
    "group by specific category and perform aggregate operations"
   ]
  },
  {
   "cell_type": "code",
   "execution_count": 28,
   "metadata": {},
   "outputs": [
    {
     "data": {
      "text/html": [
       "<table>\n",
       "<thead><tr><th scope=col>gear</th><th scope=col>mean_hp</th></tr></thead>\n",
       "<tbody>\n",
       "\t<tr><td>3       </td><td>176.1333</td></tr>\n",
       "\t<tr><td>4       </td><td> 89.5000</td></tr>\n",
       "\t<tr><td>5       </td><td>195.6000</td></tr>\n",
       "</tbody>\n",
       "</table>\n"
      ],
      "text/latex": [
       "\\begin{tabular}{r|ll}\n",
       " gear & mean\\_hp\\\\\n",
       "\\hline\n",
       "\t 3        & 176.1333\\\\\n",
       "\t 4        &  89.5000\\\\\n",
       "\t 5        & 195.6000\\\\\n",
       "\\end{tabular}\n"
      ],
      "text/markdown": [
       "\n",
       "| gear | mean_hp |\n",
       "|---|---|\n",
       "| 3        | 176.1333 |\n",
       "| 4        |  89.5000 |\n",
       "| 5        | 195.6000 |\n",
       "\n"
      ],
      "text/plain": [
       "  gear mean_hp \n",
       "1 3    176.1333\n",
       "2 4     89.5000\n",
       "3 5    195.6000"
      ]
     },
     "metadata": {},
     "output_type": "display_data"
    }
   ],
   "source": [
    "df %>% group_by(gear) %>% summarize(mean_hp=mean(hp))"
   ]
  },
  {
   "cell_type": "code",
   "execution_count": null,
   "metadata": {},
   "outputs": [],
   "source": []
  }
 ],
 "metadata": {
  "kernelspec": {
   "display_name": "R",
   "language": "R",
   "name": "ir"
  },
  "language_info": {
   "codemirror_mode": "r",
   "file_extension": ".r",
   "mimetype": "text/x-r-source",
   "name": "R",
   "pygments_lexer": "r",
   "version": "3.6.0"
  }
 },
 "nbformat": 4,
 "nbformat_minor": 2
}
