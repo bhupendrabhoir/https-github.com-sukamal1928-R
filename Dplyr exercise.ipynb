{
 "cells": [
  {
   "cell_type": "markdown",
   "metadata": {},
   "source": [
    "# Dplyr exercise"
   ]
  },
  {
   "cell_type": "code",
   "execution_count": 1,
   "metadata": {},
   "outputs": [
    {
     "name": "stderr",
     "output_type": "stream",
     "text": [
      "\n",
      "Attaching package: 'dplyr'\n",
      "\n",
      "The following objects are masked from 'package:stats':\n",
      "\n",
      "    filter, lag\n",
      "\n",
      "The following objects are masked from 'package:base':\n",
      "\n",
      "    intersect, setdiff, setequal, union\n",
      "\n"
     ]
    }
   ],
   "source": [
    "library(\"dplyr\")"
   ]
  },
  {
   "cell_type": "code",
   "execution_count": 2,
   "metadata": {},
   "outputs": [],
   "source": [
    "df <- read.csv(\"deliveries.csv\")"
   ]
  },
  {
   "cell_type": "code",
   "execution_count": 3,
   "metadata": {},
   "outputs": [
    {
     "data": {
      "text/html": [
       "<table>\n",
       "<thead><tr><th scope=col>match_id</th><th scope=col>inning</th><th scope=col>batting_team</th><th scope=col>bowling_team</th><th scope=col>over</th><th scope=col>ball</th><th scope=col>batsman</th><th scope=col>non_striker</th><th scope=col>bowler</th><th scope=col>is_super_over</th><th scope=col>...</th><th scope=col>bye_runs</th><th scope=col>legbye_runs</th><th scope=col>noball_runs</th><th scope=col>penalty_runs</th><th scope=col>batsman_runs</th><th scope=col>extra_runs</th><th scope=col>total_runs</th><th scope=col>player_dismissed</th><th scope=col>dismissal_kind</th><th scope=col>fielder</th></tr></thead>\n",
       "<tbody>\n",
       "\t<tr><td>1                          </td><td>1                          </td><td>Sunrisers Hyderabad        </td><td>Royal Challengers Bangalore</td><td>1                          </td><td>1                          </td><td>DA Warner                  </td><td>S Dhawan                   </td><td>TS Mills                   </td><td>0                          </td><td>...                        </td><td>0                          </td><td>0                          </td><td>0                          </td><td>0                          </td><td>0                          </td><td>0                          </td><td>0                          </td><td>                           </td><td>                           </td><td>                           </td></tr>\n",
       "\t<tr><td>1                          </td><td>1                          </td><td>Sunrisers Hyderabad        </td><td>Royal Challengers Bangalore</td><td>1                          </td><td>2                          </td><td>DA Warner                  </td><td>S Dhawan                   </td><td>TS Mills                   </td><td>0                          </td><td>...                        </td><td>0                          </td><td>0                          </td><td>0                          </td><td>0                          </td><td>0                          </td><td>0                          </td><td>0                          </td><td>                           </td><td>                           </td><td>                           </td></tr>\n",
       "\t<tr><td>1                          </td><td>1                          </td><td>Sunrisers Hyderabad        </td><td>Royal Challengers Bangalore</td><td>1                          </td><td>3                          </td><td>DA Warner                  </td><td>S Dhawan                   </td><td>TS Mills                   </td><td>0                          </td><td>...                        </td><td>0                          </td><td>0                          </td><td>0                          </td><td>0                          </td><td>4                          </td><td>0                          </td><td>4                          </td><td>                           </td><td>                           </td><td>                           </td></tr>\n",
       "\t<tr><td>1                          </td><td>1                          </td><td>Sunrisers Hyderabad        </td><td>Royal Challengers Bangalore</td><td>1                          </td><td>4                          </td><td>DA Warner                  </td><td>S Dhawan                   </td><td>TS Mills                   </td><td>0                          </td><td>...                        </td><td>0                          </td><td>0                          </td><td>0                          </td><td>0                          </td><td>0                          </td><td>0                          </td><td>0                          </td><td>                           </td><td>                           </td><td>                           </td></tr>\n",
       "\t<tr><td>1                          </td><td>1                          </td><td>Sunrisers Hyderabad        </td><td>Royal Challengers Bangalore</td><td>1                          </td><td>5                          </td><td>DA Warner                  </td><td>S Dhawan                   </td><td>TS Mills                   </td><td>0                          </td><td>...                        </td><td>0                          </td><td>0                          </td><td>0                          </td><td>0                          </td><td>0                          </td><td>2                          </td><td>2                          </td><td>                           </td><td>                           </td><td>                           </td></tr>\n",
       "\t<tr><td>1                          </td><td>1                          </td><td>Sunrisers Hyderabad        </td><td>Royal Challengers Bangalore</td><td>1                          </td><td>6                          </td><td>S Dhawan                   </td><td>DA Warner                  </td><td>TS Mills                   </td><td>0                          </td><td>...                        </td><td>0                          </td><td>0                          </td><td>0                          </td><td>0                          </td><td>0                          </td><td>0                          </td><td>0                          </td><td>                           </td><td>                           </td><td>                           </td></tr>\n",
       "</tbody>\n",
       "</table>\n"
      ],
      "text/latex": [
       "\\begin{tabular}{r|lllllllllllllllllllll}\n",
       " match\\_id & inning & batting\\_team & bowling\\_team & over & ball & batsman & non\\_striker & bowler & is\\_super\\_over & ... & bye\\_runs & legbye\\_runs & noball\\_runs & penalty\\_runs & batsman\\_runs & extra\\_runs & total\\_runs & player\\_dismissed & dismissal\\_kind & fielder\\\\\n",
       "\\hline\n",
       "\t 1                           & 1                           & Sunrisers Hyderabad         & Royal Challengers Bangalore & 1                           & 1                           & DA Warner                   & S Dhawan                    & TS Mills                    & 0                           & ...                         & 0                           & 0                           & 0                           & 0                           & 0                           & 0                           & 0                           &                             &                             &                            \\\\\n",
       "\t 1                           & 1                           & Sunrisers Hyderabad         & Royal Challengers Bangalore & 1                           & 2                           & DA Warner                   & S Dhawan                    & TS Mills                    & 0                           & ...                         & 0                           & 0                           & 0                           & 0                           & 0                           & 0                           & 0                           &                             &                             &                            \\\\\n",
       "\t 1                           & 1                           & Sunrisers Hyderabad         & Royal Challengers Bangalore & 1                           & 3                           & DA Warner                   & S Dhawan                    & TS Mills                    & 0                           & ...                         & 0                           & 0                           & 0                           & 0                           & 4                           & 0                           & 4                           &                             &                             &                            \\\\\n",
       "\t 1                           & 1                           & Sunrisers Hyderabad         & Royal Challengers Bangalore & 1                           & 4                           & DA Warner                   & S Dhawan                    & TS Mills                    & 0                           & ...                         & 0                           & 0                           & 0                           & 0                           & 0                           & 0                           & 0                           &                             &                             &                            \\\\\n",
       "\t 1                           & 1                           & Sunrisers Hyderabad         & Royal Challengers Bangalore & 1                           & 5                           & DA Warner                   & S Dhawan                    & TS Mills                    & 0                           & ...                         & 0                           & 0                           & 0                           & 0                           & 0                           & 2                           & 2                           &                             &                             &                            \\\\\n",
       "\t 1                           & 1                           & Sunrisers Hyderabad         & Royal Challengers Bangalore & 1                           & 6                           & S Dhawan                    & DA Warner                   & TS Mills                    & 0                           & ...                         & 0                           & 0                           & 0                           & 0                           & 0                           & 0                           & 0                           &                             &                             &                            \\\\\n",
       "\\end{tabular}\n"
      ],
      "text/markdown": [
       "\n",
       "| match_id | inning | batting_team | bowling_team | over | ball | batsman | non_striker | bowler | is_super_over | ... | bye_runs | legbye_runs | noball_runs | penalty_runs | batsman_runs | extra_runs | total_runs | player_dismissed | dismissal_kind | fielder |\n",
       "|---|---|---|---|---|---|---|---|---|---|---|---|---|---|---|---|---|---|---|---|---|\n",
       "| 1                           | 1                           | Sunrisers Hyderabad         | Royal Challengers Bangalore | 1                           | 1                           | DA Warner                   | S Dhawan                    | TS Mills                    | 0                           | ...                         | 0                           | 0                           | 0                           | 0                           | 0                           | 0                           | 0                           |                             |                             |                             |\n",
       "| 1                           | 1                           | Sunrisers Hyderabad         | Royal Challengers Bangalore | 1                           | 2                           | DA Warner                   | S Dhawan                    | TS Mills                    | 0                           | ...                         | 0                           | 0                           | 0                           | 0                           | 0                           | 0                           | 0                           |                             |                             |                             |\n",
       "| 1                           | 1                           | Sunrisers Hyderabad         | Royal Challengers Bangalore | 1                           | 3                           | DA Warner                   | S Dhawan                    | TS Mills                    | 0                           | ...                         | 0                           | 0                           | 0                           | 0                           | 4                           | 0                           | 4                           |                             |                             |                             |\n",
       "| 1                           | 1                           | Sunrisers Hyderabad         | Royal Challengers Bangalore | 1                           | 4                           | DA Warner                   | S Dhawan                    | TS Mills                    | 0                           | ...                         | 0                           | 0                           | 0                           | 0                           | 0                           | 0                           | 0                           |                             |                             |                             |\n",
       "| 1                           | 1                           | Sunrisers Hyderabad         | Royal Challengers Bangalore | 1                           | 5                           | DA Warner                   | S Dhawan                    | TS Mills                    | 0                           | ...                         | 0                           | 0                           | 0                           | 0                           | 0                           | 2                           | 2                           |                             |                             |                             |\n",
       "| 1                           | 1                           | Sunrisers Hyderabad         | Royal Challengers Bangalore | 1                           | 6                           | S Dhawan                    | DA Warner                   | TS Mills                    | 0                           | ...                         | 0                           | 0                           | 0                           | 0                           | 0                           | 0                           | 0                           |                             |                             |                             |\n",
       "\n"
      ],
      "text/plain": [
       "  match_id inning batting_team        bowling_team                over ball\n",
       "1 1        1      Sunrisers Hyderabad Royal Challengers Bangalore 1    1   \n",
       "2 1        1      Sunrisers Hyderabad Royal Challengers Bangalore 1    2   \n",
       "3 1        1      Sunrisers Hyderabad Royal Challengers Bangalore 1    3   \n",
       "4 1        1      Sunrisers Hyderabad Royal Challengers Bangalore 1    4   \n",
       "5 1        1      Sunrisers Hyderabad Royal Challengers Bangalore 1    5   \n",
       "6 1        1      Sunrisers Hyderabad Royal Challengers Bangalore 1    6   \n",
       "  batsman   non_striker bowler   is_super_over ... bye_runs legbye_runs\n",
       "1 DA Warner S Dhawan    TS Mills 0             ... 0        0          \n",
       "2 DA Warner S Dhawan    TS Mills 0             ... 0        0          \n",
       "3 DA Warner S Dhawan    TS Mills 0             ... 0        0          \n",
       "4 DA Warner S Dhawan    TS Mills 0             ... 0        0          \n",
       "5 DA Warner S Dhawan    TS Mills 0             ... 0        0          \n",
       "6 S Dhawan  DA Warner   TS Mills 0             ... 0        0          \n",
       "  noball_runs penalty_runs batsman_runs extra_runs total_runs player_dismissed\n",
       "1 0           0            0            0          0                          \n",
       "2 0           0            0            0          0                          \n",
       "3 0           0            4            0          4                          \n",
       "4 0           0            0            0          0                          \n",
       "5 0           0            0            2          2                          \n",
       "6 0           0            0            0          0                          \n",
       "  dismissal_kind fielder\n",
       "1                       \n",
       "2                       \n",
       "3                       \n",
       "4                       \n",
       "5                       \n",
       "6                       "
      ]
     },
     "metadata": {},
     "output_type": "display_data"
    }
   ],
   "source": [
    "head(df)"
   ]
  },
  {
   "cell_type": "markdown",
   "metadata": {},
   "source": [
    "### Q. Total wickets by Y Chahal"
   ]
  },
  {
   "cell_type": "code",
   "execution_count": 4,
   "metadata": {},
   "outputs": [
    {
     "data": {
      "text/html": [
       "<table>\n",
       "<thead><tr><th scope=col>bowler</th></tr></thead>\n",
       "<tbody>\n",
       "\t<tr><td>TS Mills      </td></tr>\n",
       "\t<tr><td>A Choudhary   </td></tr>\n",
       "\t<tr><td>YS Chahal     </td></tr>\n",
       "\t<tr><td>S Aravind     </td></tr>\n",
       "\t<tr><td>SR Watson     </td></tr>\n",
       "\t<tr><td>TM Head       </td></tr>\n",
       "\t<tr><td>STR Binny     </td></tr>\n",
       "\t<tr><td>A Nehra       </td></tr>\n",
       "\t<tr><td>B Kumar       </td></tr>\n",
       "\t<tr><td>BCJ Cutting   </td></tr>\n",
       "\t<tr><td>Rashid Khan   </td></tr>\n",
       "\t<tr><td>DJ Hooda      </td></tr>\n",
       "\t<tr><td>MC Henriques  </td></tr>\n",
       "\t<tr><td>Bipul Sharma  </td></tr>\n",
       "\t<tr><td>AB Dinda      </td></tr>\n",
       "\t<tr><td>DL Chahar     </td></tr>\n",
       "\t<tr><td>BA Stokes     </td></tr>\n",
       "\t<tr><td>Imran Tahir   </td></tr>\n",
       "\t<tr><td>A Zampa       </td></tr>\n",
       "\t<tr><td>R Bhatia      </td></tr>\n",
       "\t<tr><td>TG Southee    </td></tr>\n",
       "\t<tr><td>HH Pandya     </td></tr>\n",
       "\t<tr><td>MJ McClenaghan</td></tr>\n",
       "\t<tr><td>JJ Bumrah     </td></tr>\n",
       "\t<tr><td>KH Pandya     </td></tr>\n",
       "\t<tr><td>KA Pollard    </td></tr>\n",
       "\t<tr><td>TA Boult      </td></tr>\n",
       "\t<tr><td>PP Chawla     </td></tr>\n",
       "\t<tr><td>SP Narine     </td></tr>\n",
       "\t<tr><td>CR Woakes     </td></tr>\n",
       "\t<tr><td>...</td></tr>\n",
       "\t<tr><td>MG Neser       </td></tr>\n",
       "\t<tr><td>AC Gilchrist   </td></tr>\n",
       "\t<tr><td>MA Starc       </td></tr>\n",
       "\t<tr><td>JDS Neesham    </td></tr>\n",
       "\t<tr><td>M Vijay        </td></tr>\n",
       "\t<tr><td>SA Yadav       </td></tr>\n",
       "\t<tr><td>Shivam Sharma  </td></tr>\n",
       "\t<tr><td>V Shankar      </td></tr>\n",
       "\t<tr><td>LMP Simmons    </td></tr>\n",
       "\t<tr><td>K Santokie     </td></tr>\n",
       "\t<tr><td>S Gopal        </td></tr>\n",
       "\t<tr><td>BE Hendricks   </td></tr>\n",
       "\t<tr><td>JW Hastings    </td></tr>\n",
       "\t<tr><td>Karanveer Singh</td></tr>\n",
       "\t<tr><td>DJ Muthuswami  </td></tr>\n",
       "\t<tr><td>SA Abbott      </td></tr>\n",
       "\t<tr><td>J Suchith      </td></tr>\n",
       "\t<tr><td>RG More        </td></tr>\n",
       "\t<tr><td>D Wiese        </td></tr>\n",
       "\t<tr><td>GS Sandhu      </td></tr>\n",
       "\t<tr><td>Gurkeerat Singh</td></tr>\n",
       "\t<tr><td>M Ashwin       </td></tr>\n",
       "\t<tr><td>C Munro        </td></tr>\n",
       "\t<tr><td>P Sahu         </td></tr>\n",
       "\t<tr><td>KJ Abbott      </td></tr>\n",
       "\t<tr><td>T Shamsi       </td></tr>\n",
       "\t<tr><td>SM Boland      </td></tr>\n",
       "\t<tr><td>Sachin Baby    </td></tr>\n",
       "\t<tr><td>N Rana         </td></tr>\n",
       "\t<tr><td>KS Williamson  </td></tr>\n",
       "</tbody>\n",
       "</table>\n"
      ],
      "text/latex": [
       "\\begin{tabular}{r|l}\n",
       " bowler\\\\\n",
       "\\hline\n",
       "\t TS Mills      \\\\\n",
       "\t A Choudhary   \\\\\n",
       "\t YS Chahal     \\\\\n",
       "\t S Aravind     \\\\\n",
       "\t SR Watson     \\\\\n",
       "\t TM Head       \\\\\n",
       "\t STR Binny     \\\\\n",
       "\t A Nehra       \\\\\n",
       "\t B Kumar       \\\\\n",
       "\t BCJ Cutting   \\\\\n",
       "\t Rashid Khan   \\\\\n",
       "\t DJ Hooda      \\\\\n",
       "\t MC Henriques  \\\\\n",
       "\t Bipul Sharma  \\\\\n",
       "\t AB Dinda      \\\\\n",
       "\t DL Chahar     \\\\\n",
       "\t BA Stokes     \\\\\n",
       "\t Imran Tahir   \\\\\n",
       "\t A Zampa       \\\\\n",
       "\t R Bhatia      \\\\\n",
       "\t TG Southee    \\\\\n",
       "\t HH Pandya     \\\\\n",
       "\t MJ McClenaghan\\\\\n",
       "\t JJ Bumrah     \\\\\n",
       "\t KH Pandya     \\\\\n",
       "\t KA Pollard    \\\\\n",
       "\t TA Boult      \\\\\n",
       "\t PP Chawla     \\\\\n",
       "\t SP Narine     \\\\\n",
       "\t CR Woakes     \\\\\n",
       "\t ...\\\\\n",
       "\t MG Neser       \\\\\n",
       "\t AC Gilchrist   \\\\\n",
       "\t MA Starc       \\\\\n",
       "\t JDS Neesham    \\\\\n",
       "\t M Vijay        \\\\\n",
       "\t SA Yadav       \\\\\n",
       "\t Shivam Sharma  \\\\\n",
       "\t V Shankar      \\\\\n",
       "\t LMP Simmons    \\\\\n",
       "\t K Santokie     \\\\\n",
       "\t S Gopal        \\\\\n",
       "\t BE Hendricks   \\\\\n",
       "\t JW Hastings    \\\\\n",
       "\t Karanveer Singh\\\\\n",
       "\t DJ Muthuswami  \\\\\n",
       "\t SA Abbott      \\\\\n",
       "\t J Suchith      \\\\\n",
       "\t RG More        \\\\\n",
       "\t D Wiese        \\\\\n",
       "\t GS Sandhu      \\\\\n",
       "\t Gurkeerat Singh\\\\\n",
       "\t M Ashwin       \\\\\n",
       "\t C Munro        \\\\\n",
       "\t P Sahu         \\\\\n",
       "\t KJ Abbott      \\\\\n",
       "\t T Shamsi       \\\\\n",
       "\t SM Boland      \\\\\n",
       "\t Sachin Baby    \\\\\n",
       "\t N Rana         \\\\\n",
       "\t KS Williamson  \\\\\n",
       "\\end{tabular}\n"
      ],
      "text/markdown": [
       "\n",
       "| bowler |\n",
       "|---|\n",
       "| TS Mills       |\n",
       "| A Choudhary    |\n",
       "| YS Chahal      |\n",
       "| S Aravind      |\n",
       "| SR Watson      |\n",
       "| TM Head        |\n",
       "| STR Binny      |\n",
       "| A Nehra        |\n",
       "| B Kumar        |\n",
       "| BCJ Cutting    |\n",
       "| Rashid Khan    |\n",
       "| DJ Hooda       |\n",
       "| MC Henriques   |\n",
       "| Bipul Sharma   |\n",
       "| AB Dinda       |\n",
       "| DL Chahar      |\n",
       "| BA Stokes      |\n",
       "| Imran Tahir    |\n",
       "| A Zampa        |\n",
       "| R Bhatia       |\n",
       "| TG Southee     |\n",
       "| HH Pandya      |\n",
       "| MJ McClenaghan |\n",
       "| JJ Bumrah      |\n",
       "| KH Pandya      |\n",
       "| KA Pollard     |\n",
       "| TA Boult       |\n",
       "| PP Chawla      |\n",
       "| SP Narine      |\n",
       "| CR Woakes      |\n",
       "| ... |\n",
       "| MG Neser        |\n",
       "| AC Gilchrist    |\n",
       "| MA Starc        |\n",
       "| JDS Neesham     |\n",
       "| M Vijay         |\n",
       "| SA Yadav        |\n",
       "| Shivam Sharma   |\n",
       "| V Shankar       |\n",
       "| LMP Simmons     |\n",
       "| K Santokie      |\n",
       "| S Gopal         |\n",
       "| BE Hendricks    |\n",
       "| JW Hastings     |\n",
       "| Karanveer Singh |\n",
       "| DJ Muthuswami   |\n",
       "| SA Abbott       |\n",
       "| J Suchith       |\n",
       "| RG More         |\n",
       "| D Wiese         |\n",
       "| GS Sandhu       |\n",
       "| Gurkeerat Singh |\n",
       "| M Ashwin        |\n",
       "| C Munro         |\n",
       "| P Sahu          |\n",
       "| KJ Abbott       |\n",
       "| T Shamsi        |\n",
       "| SM Boland       |\n",
       "| Sachin Baby     |\n",
       "| N Rana          |\n",
       "| KS Williamson   |\n",
       "\n"
      ],
      "text/plain": [
       "    bowler         \n",
       "1   TS Mills       \n",
       "2   A Choudhary    \n",
       "3   YS Chahal      \n",
       "4   S Aravind      \n",
       "5   SR Watson      \n",
       "6   TM Head        \n",
       "7   STR Binny      \n",
       "8   A Nehra        \n",
       "9   B Kumar        \n",
       "10  BCJ Cutting    \n",
       "11  Rashid Khan    \n",
       "12  DJ Hooda       \n",
       "13  MC Henriques   \n",
       "14  Bipul Sharma   \n",
       "15  AB Dinda       \n",
       "16  DL Chahar      \n",
       "17  BA Stokes      \n",
       "18  Imran Tahir    \n",
       "19  A Zampa        \n",
       "20  R Bhatia       \n",
       "21  TG Southee     \n",
       "22  HH Pandya      \n",
       "23  MJ McClenaghan \n",
       "24  JJ Bumrah      \n",
       "25  KH Pandya      \n",
       "26  KA Pollard     \n",
       "27  TA Boult       \n",
       "28  PP Chawla      \n",
       "29  SP Narine      \n",
       "30  CR Woakes      \n",
       "... ...            \n",
       "327 MG Neser       \n",
       "328 AC Gilchrist   \n",
       "329 MA Starc       \n",
       "330 JDS Neesham    \n",
       "331 M Vijay        \n",
       "332 SA Yadav       \n",
       "333 Shivam Sharma  \n",
       "334 V Shankar      \n",
       "335 LMP Simmons    \n",
       "336 K Santokie     \n",
       "337 S Gopal        \n",
       "338 BE Hendricks   \n",
       "339 JW Hastings    \n",
       "340 Karanveer Singh\n",
       "341 DJ Muthuswami  \n",
       "342 SA Abbott      \n",
       "343 J Suchith      \n",
       "344 RG More        \n",
       "345 D Wiese        \n",
       "346 GS Sandhu      \n",
       "347 Gurkeerat Singh\n",
       "348 M Ashwin       \n",
       "349 C Munro        \n",
       "350 P Sahu         \n",
       "351 KJ Abbott      \n",
       "352 T Shamsi       \n",
       "353 SM Boland      \n",
       "354 Sachin Baby    \n",
       "355 N Rana         \n",
       "356 KS Williamson  "
      ]
     },
     "metadata": {},
     "output_type": "display_data"
    }
   ],
   "source": [
    "distinct(df,bowler)"
   ]
  },
  {
   "cell_type": "code",
   "execution_count": 5,
   "metadata": {},
   "outputs": [],
   "source": [
    "chahal <- filter(df,bowler==\"YS Chahal\")"
   ]
  },
  {
   "cell_type": "code",
   "execution_count": 6,
   "metadata": {},
   "outputs": [
    {
     "data": {
      "text/html": [
       "<table>\n",
       "<thead><tr><th scope=col>match_id</th><th scope=col>inning</th><th scope=col>batting_team</th><th scope=col>bowling_team</th><th scope=col>over</th><th scope=col>ball</th><th scope=col>batsman</th><th scope=col>non_striker</th><th scope=col>bowler</th><th scope=col>is_super_over</th><th scope=col>...</th><th scope=col>bye_runs</th><th scope=col>legbye_runs</th><th scope=col>noball_runs</th><th scope=col>penalty_runs</th><th scope=col>batsman_runs</th><th scope=col>extra_runs</th><th scope=col>total_runs</th><th scope=col>player_dismissed</th><th scope=col>dismissal_kind</th><th scope=col>fielder</th></tr></thead>\n",
       "<tbody>\n",
       "\t<tr><td>1                          </td><td>1                          </td><td>Sunrisers Hyderabad        </td><td>Royal Challengers Bangalore</td><td>4                          </td><td>1                          </td><td>MC Henriques               </td><td>S Dhawan                   </td><td>YS Chahal                  </td><td>0                          </td><td>...                        </td><td>0                          </td><td>0                          </td><td>0                          </td><td>0                          </td><td>0                          </td><td>0                          </td><td>0                          </td><td>                           </td><td>                           </td><td>                           </td></tr>\n",
       "\t<tr><td>1                          </td><td>1                          </td><td>Sunrisers Hyderabad        </td><td>Royal Challengers Bangalore</td><td>4                          </td><td>2                          </td><td>MC Henriques               </td><td>S Dhawan                   </td><td>YS Chahal                  </td><td>0                          </td><td>...                        </td><td>0                          </td><td>0                          </td><td>0                          </td><td>0                          </td><td>1                          </td><td>0                          </td><td>1                          </td><td>                           </td><td>                           </td><td>                           </td></tr>\n",
       "\t<tr><td>1                          </td><td>1                          </td><td>Sunrisers Hyderabad        </td><td>Royal Challengers Bangalore</td><td>4                          </td><td>3                          </td><td>S Dhawan                   </td><td>MC Henriques               </td><td>YS Chahal                  </td><td>0                          </td><td>...                        </td><td>0                          </td><td>0                          </td><td>0                          </td><td>0                          </td><td>0                          </td><td>0                          </td><td>0                          </td><td>                           </td><td>                           </td><td>                           </td></tr>\n",
       "\t<tr><td>1                          </td><td>1                          </td><td>Sunrisers Hyderabad        </td><td>Royal Challengers Bangalore</td><td>4                          </td><td>4                          </td><td>S Dhawan                   </td><td>MC Henriques               </td><td>YS Chahal                  </td><td>0                          </td><td>...                        </td><td>0                          </td><td>0                          </td><td>0                          </td><td>0                          </td><td>1                          </td><td>0                          </td><td>1                          </td><td>                           </td><td>                           </td><td>                           </td></tr>\n",
       "\t<tr><td>1                          </td><td>1                          </td><td>Sunrisers Hyderabad        </td><td>Royal Challengers Bangalore</td><td>4                          </td><td>5                          </td><td>MC Henriques               </td><td>S Dhawan                   </td><td>YS Chahal                  </td><td>0                          </td><td>...                        </td><td>0                          </td><td>0                          </td><td>0                          </td><td>0                          </td><td>1                          </td><td>0                          </td><td>1                          </td><td>                           </td><td>                           </td><td>                           </td></tr>\n",
       "\t<tr><td>1                          </td><td>1                          </td><td>Sunrisers Hyderabad        </td><td>Royal Challengers Bangalore</td><td>4                          </td><td>6                          </td><td>S Dhawan                   </td><td>MC Henriques               </td><td>YS Chahal                  </td><td>0                          </td><td>...                        </td><td>0                          </td><td>0                          </td><td>0                          </td><td>0                          </td><td>1                          </td><td>0                          </td><td>1                          </td><td>                           </td><td>                           </td><td>                           </td></tr>\n",
       "</tbody>\n",
       "</table>\n"
      ],
      "text/latex": [
       "\\begin{tabular}{r|lllllllllllllllllllll}\n",
       " match\\_id & inning & batting\\_team & bowling\\_team & over & ball & batsman & non\\_striker & bowler & is\\_super\\_over & ... & bye\\_runs & legbye\\_runs & noball\\_runs & penalty\\_runs & batsman\\_runs & extra\\_runs & total\\_runs & player\\_dismissed & dismissal\\_kind & fielder\\\\\n",
       "\\hline\n",
       "\t 1                           & 1                           & Sunrisers Hyderabad         & Royal Challengers Bangalore & 4                           & 1                           & MC Henriques                & S Dhawan                    & YS Chahal                   & 0                           & ...                         & 0                           & 0                           & 0                           & 0                           & 0                           & 0                           & 0                           &                             &                             &                            \\\\\n",
       "\t 1                           & 1                           & Sunrisers Hyderabad         & Royal Challengers Bangalore & 4                           & 2                           & MC Henriques                & S Dhawan                    & YS Chahal                   & 0                           & ...                         & 0                           & 0                           & 0                           & 0                           & 1                           & 0                           & 1                           &                             &                             &                            \\\\\n",
       "\t 1                           & 1                           & Sunrisers Hyderabad         & Royal Challengers Bangalore & 4                           & 3                           & S Dhawan                    & MC Henriques                & YS Chahal                   & 0                           & ...                         & 0                           & 0                           & 0                           & 0                           & 0                           & 0                           & 0                           &                             &                             &                            \\\\\n",
       "\t 1                           & 1                           & Sunrisers Hyderabad         & Royal Challengers Bangalore & 4                           & 4                           & S Dhawan                    & MC Henriques                & YS Chahal                   & 0                           & ...                         & 0                           & 0                           & 0                           & 0                           & 1                           & 0                           & 1                           &                             &                             &                            \\\\\n",
       "\t 1                           & 1                           & Sunrisers Hyderabad         & Royal Challengers Bangalore & 4                           & 5                           & MC Henriques                & S Dhawan                    & YS Chahal                   & 0                           & ...                         & 0                           & 0                           & 0                           & 0                           & 1                           & 0                           & 1                           &                             &                             &                            \\\\\n",
       "\t 1                           & 1                           & Sunrisers Hyderabad         & Royal Challengers Bangalore & 4                           & 6                           & S Dhawan                    & MC Henriques                & YS Chahal                   & 0                           & ...                         & 0                           & 0                           & 0                           & 0                           & 1                           & 0                           & 1                           &                             &                             &                            \\\\\n",
       "\\end{tabular}\n"
      ],
      "text/markdown": [
       "\n",
       "| match_id | inning | batting_team | bowling_team | over | ball | batsman | non_striker | bowler | is_super_over | ... | bye_runs | legbye_runs | noball_runs | penalty_runs | batsman_runs | extra_runs | total_runs | player_dismissed | dismissal_kind | fielder |\n",
       "|---|---|---|---|---|---|---|---|---|---|---|---|---|---|---|---|---|---|---|---|---|\n",
       "| 1                           | 1                           | Sunrisers Hyderabad         | Royal Challengers Bangalore | 4                           | 1                           | MC Henriques                | S Dhawan                    | YS Chahal                   | 0                           | ...                         | 0                           | 0                           | 0                           | 0                           | 0                           | 0                           | 0                           |                             |                             |                             |\n",
       "| 1                           | 1                           | Sunrisers Hyderabad         | Royal Challengers Bangalore | 4                           | 2                           | MC Henriques                | S Dhawan                    | YS Chahal                   | 0                           | ...                         | 0                           | 0                           | 0                           | 0                           | 1                           | 0                           | 1                           |                             |                             |                             |\n",
       "| 1                           | 1                           | Sunrisers Hyderabad         | Royal Challengers Bangalore | 4                           | 3                           | S Dhawan                    | MC Henriques                | YS Chahal                   | 0                           | ...                         | 0                           | 0                           | 0                           | 0                           | 0                           | 0                           | 0                           |                             |                             |                             |\n",
       "| 1                           | 1                           | Sunrisers Hyderabad         | Royal Challengers Bangalore | 4                           | 4                           | S Dhawan                    | MC Henriques                | YS Chahal                   | 0                           | ...                         | 0                           | 0                           | 0                           | 0                           | 1                           | 0                           | 1                           |                             |                             |                             |\n",
       "| 1                           | 1                           | Sunrisers Hyderabad         | Royal Challengers Bangalore | 4                           | 5                           | MC Henriques                | S Dhawan                    | YS Chahal                   | 0                           | ...                         | 0                           | 0                           | 0                           | 0                           | 1                           | 0                           | 1                           |                             |                             |                             |\n",
       "| 1                           | 1                           | Sunrisers Hyderabad         | Royal Challengers Bangalore | 4                           | 6                           | S Dhawan                    | MC Henriques                | YS Chahal                   | 0                           | ...                         | 0                           | 0                           | 0                           | 0                           | 1                           | 0                           | 1                           |                             |                             |                             |\n",
       "\n"
      ],
      "text/plain": [
       "  match_id inning batting_team        bowling_team                over ball\n",
       "1 1        1      Sunrisers Hyderabad Royal Challengers Bangalore 4    1   \n",
       "2 1        1      Sunrisers Hyderabad Royal Challengers Bangalore 4    2   \n",
       "3 1        1      Sunrisers Hyderabad Royal Challengers Bangalore 4    3   \n",
       "4 1        1      Sunrisers Hyderabad Royal Challengers Bangalore 4    4   \n",
       "5 1        1      Sunrisers Hyderabad Royal Challengers Bangalore 4    5   \n",
       "6 1        1      Sunrisers Hyderabad Royal Challengers Bangalore 4    6   \n",
       "  batsman      non_striker  bowler    is_super_over ... bye_runs legbye_runs\n",
       "1 MC Henriques S Dhawan     YS Chahal 0             ... 0        0          \n",
       "2 MC Henriques S Dhawan     YS Chahal 0             ... 0        0          \n",
       "3 S Dhawan     MC Henriques YS Chahal 0             ... 0        0          \n",
       "4 S Dhawan     MC Henriques YS Chahal 0             ... 0        0          \n",
       "5 MC Henriques S Dhawan     YS Chahal 0             ... 0        0          \n",
       "6 S Dhawan     MC Henriques YS Chahal 0             ... 0        0          \n",
       "  noball_runs penalty_runs batsman_runs extra_runs total_runs player_dismissed\n",
       "1 0           0            0            0          0                          \n",
       "2 0           0            1            0          1                          \n",
       "3 0           0            0            0          0                          \n",
       "4 0           0            1            0          1                          \n",
       "5 0           0            1            0          1                          \n",
       "6 0           0            1            0          1                          \n",
       "  dismissal_kind fielder\n",
       "1                       \n",
       "2                       \n",
       "3                       \n",
       "4                       \n",
       "5                       \n",
       "6                       "
      ]
     },
     "metadata": {},
     "output_type": "display_data"
    }
   ],
   "source": [
    "head(chahal)"
   ]
  },
  {
   "cell_type": "code",
   "execution_count": 7,
   "metadata": {},
   "outputs": [
    {
     "data": {
      "text/html": [
       "<table>\n",
       "<thead><tr><th scope=col>dismissal_kind</th><th scope=col>n</th></tr></thead>\n",
       "<tbody>\n",
       "\t<tr><td>                 </td><td>1147             </td></tr>\n",
       "\t<tr><td>bowled           </td><td>   9             </td></tr>\n",
       "\t<tr><td>caught           </td><td>  49             </td></tr>\n",
       "\t<tr><td>caught and bowled</td><td>   1             </td></tr>\n",
       "\t<tr><td>lbw              </td><td>   3             </td></tr>\n",
       "\t<tr><td>run out          </td><td>   2             </td></tr>\n",
       "\t<tr><td>stumped          </td><td>   8             </td></tr>\n",
       "</tbody>\n",
       "</table>\n"
      ],
      "text/latex": [
       "\\begin{tabular}{r|ll}\n",
       " dismissal\\_kind & n\\\\\n",
       "\\hline\n",
       "\t                   & 1147             \\\\\n",
       "\t bowled            &    9             \\\\\n",
       "\t caught            &   49             \\\\\n",
       "\t caught and bowled &    1             \\\\\n",
       "\t lbw               &    3             \\\\\n",
       "\t run out           &    2             \\\\\n",
       "\t stumped           &    8             \\\\\n",
       "\\end{tabular}\n"
      ],
      "text/markdown": [
       "\n",
       "| dismissal_kind | n |\n",
       "|---|---|\n",
       "|                   | 1147              |\n",
       "| bowled            |    9              |\n",
       "| caught            |   49              |\n",
       "| caught and bowled |    1              |\n",
       "| lbw               |    3              |\n",
       "| run out           |    2              |\n",
       "| stumped           |    8              |\n",
       "\n"
      ],
      "text/plain": [
       "  dismissal_kind    n   \n",
       "1                   1147\n",
       "2 bowled               9\n",
       "3 caught              49\n",
       "4 caught and bowled    1\n",
       "5 lbw                  3\n",
       "6 run out              2\n",
       "7 stumped              8"
      ]
     },
     "metadata": {},
     "output_type": "display_data"
    }
   ],
   "source": [
    "count(chahal,dismissal_kind)"
   ]
  },
  {
   "cell_type": "markdown",
   "metadata": {},
   "source": [
    "### Q. Total runs of V Kohli"
   ]
  },
  {
   "cell_type": "code",
   "execution_count": 8,
   "metadata": {},
   "outputs": [
    {
     "data": {
      "text/html": [
       "<table>\n",
       "<thead><tr><th scope=col>total_runs</th></tr></thead>\n",
       "<tbody>\n",
       "\t<tr><td>4423</td></tr>\n",
       "</tbody>\n",
       "</table>\n"
      ],
      "text/latex": [
       "\\begin{tabular}{r|l}\n",
       " total\\_runs\\\\\n",
       "\\hline\n",
       "\t 4423\\\\\n",
       "\\end{tabular}\n"
      ],
      "text/markdown": [
       "\n",
       "| total_runs |\n",
       "|---|\n",
       "| 4423 |\n",
       "\n"
      ],
      "text/plain": [
       "  total_runs\n",
       "1 4423      "
      ]
     },
     "metadata": {},
     "output_type": "display_data"
    }
   ],
   "source": [
    "df %>% filter(batsman==\"V Kohli\") %>% summarize(total_runs=sum(batsman_runs))"
   ]
  },
  {
   "cell_type": "markdown",
   "metadata": {},
   "source": [
    "### Q. Top 10 batsman (by total runs)"
   ]
  },
  {
   "cell_type": "code",
   "execution_count": 9,
   "metadata": {},
   "outputs": [
    {
     "data": {
      "text/html": [
       "<table>\n",
       "<thead><tr><th scope=col>batsman</th><th scope=col>total_runs</th></tr></thead>\n",
       "<tbody>\n",
       "\t<tr><td>SK Raina      </td><td>4548          </td></tr>\n",
       "\t<tr><td>V Kohli       </td><td>4423          </td></tr>\n",
       "\t<tr><td>RG Sharma     </td><td>4207          </td></tr>\n",
       "\t<tr><td>G Gambhir     </td><td>4132          </td></tr>\n",
       "\t<tr><td>DA Warner     </td><td>4014          </td></tr>\n",
       "\t<tr><td>RV Uthappa    </td><td>3778          </td></tr>\n",
       "\t<tr><td>CH Gayle      </td><td>3651          </td></tr>\n",
       "\t<tr><td>S Dhawan      </td><td>3561          </td></tr>\n",
       "\t<tr><td>MS Dhoni      </td><td>3560          </td></tr>\n",
       "\t<tr><td>AB de Villiers</td><td>3486          </td></tr>\n",
       "</tbody>\n",
       "</table>\n"
      ],
      "text/latex": [
       "\\begin{tabular}{r|ll}\n",
       " batsman & total\\_runs\\\\\n",
       "\\hline\n",
       "\t SK Raina       & 4548          \\\\\n",
       "\t V Kohli        & 4423          \\\\\n",
       "\t RG Sharma      & 4207          \\\\\n",
       "\t G Gambhir      & 4132          \\\\\n",
       "\t DA Warner      & 4014          \\\\\n",
       "\t RV Uthappa     & 3778          \\\\\n",
       "\t CH Gayle       & 3651          \\\\\n",
       "\t S Dhawan       & 3561          \\\\\n",
       "\t MS Dhoni       & 3560          \\\\\n",
       "\t AB de Villiers & 3486          \\\\\n",
       "\\end{tabular}\n"
      ],
      "text/markdown": [
       "\n",
       "| batsman | total_runs |\n",
       "|---|---|\n",
       "| SK Raina       | 4548           |\n",
       "| V Kohli        | 4423           |\n",
       "| RG Sharma      | 4207           |\n",
       "| G Gambhir      | 4132           |\n",
       "| DA Warner      | 4014           |\n",
       "| RV Uthappa     | 3778           |\n",
       "| CH Gayle       | 3651           |\n",
       "| S Dhawan       | 3561           |\n",
       "| MS Dhoni       | 3560           |\n",
       "| AB de Villiers | 3486           |\n",
       "\n"
      ],
      "text/plain": [
       "   batsman        total_runs\n",
       "1  SK Raina       4548      \n",
       "2  V Kohli        4423      \n",
       "3  RG Sharma      4207      \n",
       "4  G Gambhir      4132      \n",
       "5  DA Warner      4014      \n",
       "6  RV Uthappa     3778      \n",
       "7  CH Gayle       3651      \n",
       "8  S Dhawan       3561      \n",
       "9  MS Dhoni       3560      \n",
       "10 AB de Villiers 3486      "
      ]
     },
     "metadata": {},
     "output_type": "display_data"
    }
   ],
   "source": [
    "df %>% group_by(batsman) %>% summarize(total_runs=sum(batsman_runs)) %>% arrange(desc(total_runs)) %>% slice(1:10)"
   ]
  },
  {
   "cell_type": "markdown",
   "metadata": {},
   "source": [
    "### Q. Highest and Lowest score in an inning"
   ]
  },
  {
   "cell_type": "code",
   "execution_count": 11,
   "metadata": {},
   "outputs": [],
   "source": [
    "x <- df %>% group_by(match_id,inning) %>% summarize(total_runs=sum(total_runs))"
   ]
  },
  {
   "cell_type": "code",
   "execution_count": 13,
   "metadata": {},
   "outputs": [
    {
     "data": {
      "text/html": [
       "263"
      ],
      "text/latex": [
       "263"
      ],
      "text/markdown": [
       "263"
      ],
      "text/plain": [
       "[1] 263"
      ]
     },
     "metadata": {},
     "output_type": "display_data"
    }
   ],
   "source": [
    "max(x[\"total_runs\"])"
   ]
  },
  {
   "cell_type": "code",
   "execution_count": 14,
   "metadata": {},
   "outputs": [
    {
     "data": {
      "text/html": [
       "2"
      ],
      "text/latex": [
       "2"
      ],
      "text/markdown": [
       "2"
      ],
      "text/plain": [
       "[1] 2"
      ]
     },
     "metadata": {},
     "output_type": "display_data"
    }
   ],
   "source": [
    "min(x[\"total_runs\"])"
   ]
  },
  {
   "cell_type": "markdown",
   "metadata": {},
   "source": [
    "### Q. V Kohli average runs"
   ]
  },
  {
   "cell_type": "code",
   "execution_count": 17,
   "metadata": {},
   "outputs": [
    {
     "data": {
      "text/html": [
       "<table>\n",
       "<thead><tr><th scope=col>avg_runs</th></tr></thead>\n",
       "<tbody>\n",
       "\t<tr><td>31.36879</td></tr>\n",
       "</tbody>\n",
       "</table>\n"
      ],
      "text/latex": [
       "\\begin{tabular}{r|l}\n",
       " avg\\_runs\\\\\n",
       "\\hline\n",
       "\t 31.36879\\\\\n",
       "\\end{tabular}\n"
      ],
      "text/markdown": [
       "\n",
       "| avg_runs |\n",
       "|---|\n",
       "| 31.36879 |\n",
       "\n"
      ],
      "text/plain": [
       "  avg_runs\n",
       "1 31.36879"
      ]
     },
     "metadata": {},
     "output_type": "display_data"
    }
   ],
   "source": [
    "df %>% filter(batsman==\"V Kohli\") %>% group_by(match_id) %>% summarize(runs=sum(batsman_runs)) %>% summarize(avg_runs=mean(runs))"
   ]
  },
  {
   "cell_type": "code",
   "execution_count": null,
   "metadata": {},
   "outputs": [],
   "source": []
  }
 ],
 "metadata": {
  "kernelspec": {
   "display_name": "R",
   "language": "R",
   "name": "ir"
  },
  "language_info": {
   "codemirror_mode": "r",
   "file_extension": ".r",
   "mimetype": "text/x-r-source",
   "name": "R",
   "pygments_lexer": "r",
   "version": "3.6.0"
  }
 },
 "nbformat": 4,
 "nbformat_minor": 2
}
