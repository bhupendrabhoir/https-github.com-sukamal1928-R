{
 "cells": [
  {
   "cell_type": "code",
   "execution_count": 30,
   "metadata": {},
   "outputs": [],
   "source": [
    "library(ggplot2)\n",
    "library(caTools)\n",
    "library(randomForest)"
   ]
  },
  {
   "cell_type": "code",
   "execution_count": 2,
   "metadata": {},
   "outputs": [],
   "source": [
    "df <- read.csv(\"insurance.csv\")"
   ]
  },
  {
   "cell_type": "code",
   "execution_count": 3,
   "metadata": {},
   "outputs": [
    {
     "data": {
      "text/html": [
       "<table>\n",
       "<thead><tr><th scope=col>age</th><th scope=col>sex</th><th scope=col>bmi</th><th scope=col>children</th><th scope=col>smoker</th><th scope=col>region</th><th scope=col>charges</th><th scope=col>insuranceclaim</th></tr></thead>\n",
       "<tbody>\n",
       "\t<tr><td>19       </td><td>0        </td><td>27.900   </td><td>0        </td><td>1        </td><td>3        </td><td>16884.924</td><td>1        </td></tr>\n",
       "\t<tr><td>18       </td><td>1        </td><td>33.770   </td><td>1        </td><td>0        </td><td>2        </td><td> 1725.552</td><td>1        </td></tr>\n",
       "\t<tr><td>28       </td><td>1        </td><td>33.000   </td><td>3        </td><td>0        </td><td>2        </td><td> 4449.462</td><td>0        </td></tr>\n",
       "\t<tr><td>33       </td><td>1        </td><td>22.705   </td><td>0        </td><td>0        </td><td>1        </td><td>21984.471</td><td>0        </td></tr>\n",
       "\t<tr><td>32       </td><td>1        </td><td>28.880   </td><td>0        </td><td>0        </td><td>1        </td><td> 3866.855</td><td>1        </td></tr>\n",
       "\t<tr><td>31       </td><td>0        </td><td>25.740   </td><td>0        </td><td>0        </td><td>2        </td><td> 3756.622</td><td>0        </td></tr>\n",
       "</tbody>\n",
       "</table>\n"
      ],
      "text/latex": [
       "\\begin{tabular}{r|llllllll}\n",
       " age & sex & bmi & children & smoker & region & charges & insuranceclaim\\\\\n",
       "\\hline\n",
       "\t 19        & 0         & 27.900    & 0         & 1         & 3         & 16884.924 & 1        \\\\\n",
       "\t 18        & 1         & 33.770    & 1         & 0         & 2         &  1725.552 & 1        \\\\\n",
       "\t 28        & 1         & 33.000    & 3         & 0         & 2         &  4449.462 & 0        \\\\\n",
       "\t 33        & 1         & 22.705    & 0         & 0         & 1         & 21984.471 & 0        \\\\\n",
       "\t 32        & 1         & 28.880    & 0         & 0         & 1         &  3866.855 & 1        \\\\\n",
       "\t 31        & 0         & 25.740    & 0         & 0         & 2         &  3756.622 & 0        \\\\\n",
       "\\end{tabular}\n"
      ],
      "text/markdown": [
       "\n",
       "| age | sex | bmi | children | smoker | region | charges | insuranceclaim |\n",
       "|---|---|---|---|---|---|---|---|\n",
       "| 19        | 0         | 27.900    | 0         | 1         | 3         | 16884.924 | 1         |\n",
       "| 18        | 1         | 33.770    | 1         | 0         | 2         |  1725.552 | 1         |\n",
       "| 28        | 1         | 33.000    | 3         | 0         | 2         |  4449.462 | 0         |\n",
       "| 33        | 1         | 22.705    | 0         | 0         | 1         | 21984.471 | 0         |\n",
       "| 32        | 1         | 28.880    | 0         | 0         | 1         |  3866.855 | 1         |\n",
       "| 31        | 0         | 25.740    | 0         | 0         | 2         |  3756.622 | 0         |\n",
       "\n"
      ],
      "text/plain": [
       "  age sex bmi    children smoker region charges   insuranceclaim\n",
       "1 19  0   27.900 0        1      3      16884.924 1             \n",
       "2 18  1   33.770 1        0      2       1725.552 1             \n",
       "3 28  1   33.000 3        0      2       4449.462 0             \n",
       "4 33  1   22.705 0        0      1      21984.471 0             \n",
       "5 32  1   28.880 0        0      1       3866.855 1             \n",
       "6 31  0   25.740 0        0      2       3756.622 0             "
      ]
     },
     "metadata": {},
     "output_type": "display_data"
    }
   ],
   "source": [
    "head(df)"
   ]
  },
  {
   "cell_type": "code",
   "execution_count": 4,
   "metadata": {},
   "outputs": [],
   "source": [
    "df$insuranceclaim = factor(df$insuranceclaim)"
   ]
  },
  {
   "cell_type": "code",
   "execution_count": 5,
   "metadata": {},
   "outputs": [
    {
     "data": {
      "text/html": [
       "<table>\n",
       "<thead><tr><th scope=col>age</th><th scope=col>sex</th><th scope=col>bmi</th><th scope=col>children</th><th scope=col>smoker</th><th scope=col>region</th><th scope=col>charges</th><th scope=col>insuranceclaim</th></tr></thead>\n",
       "<tbody>\n",
       "\t<tr><td>19       </td><td>0        </td><td>27.900   </td><td>0        </td><td>1        </td><td>3        </td><td>16884.924</td><td>1        </td></tr>\n",
       "\t<tr><td>18       </td><td>1        </td><td>33.770   </td><td>1        </td><td>0        </td><td>2        </td><td> 1725.552</td><td>1        </td></tr>\n",
       "\t<tr><td>28       </td><td>1        </td><td>33.000   </td><td>3        </td><td>0        </td><td>2        </td><td> 4449.462</td><td>0        </td></tr>\n",
       "\t<tr><td>33       </td><td>1        </td><td>22.705   </td><td>0        </td><td>0        </td><td>1        </td><td>21984.471</td><td>0        </td></tr>\n",
       "\t<tr><td>32       </td><td>1        </td><td>28.880   </td><td>0        </td><td>0        </td><td>1        </td><td> 3866.855</td><td>1        </td></tr>\n",
       "\t<tr><td>31       </td><td>0        </td><td>25.740   </td><td>0        </td><td>0        </td><td>2        </td><td> 3756.622</td><td>0        </td></tr>\n",
       "</tbody>\n",
       "</table>\n"
      ],
      "text/latex": [
       "\\begin{tabular}{r|llllllll}\n",
       " age & sex & bmi & children & smoker & region & charges & insuranceclaim\\\\\n",
       "\\hline\n",
       "\t 19        & 0         & 27.900    & 0         & 1         & 3         & 16884.924 & 1        \\\\\n",
       "\t 18        & 1         & 33.770    & 1         & 0         & 2         &  1725.552 & 1        \\\\\n",
       "\t 28        & 1         & 33.000    & 3         & 0         & 2         &  4449.462 & 0        \\\\\n",
       "\t 33        & 1         & 22.705    & 0         & 0         & 1         & 21984.471 & 0        \\\\\n",
       "\t 32        & 1         & 28.880    & 0         & 0         & 1         &  3866.855 & 1        \\\\\n",
       "\t 31        & 0         & 25.740    & 0         & 0         & 2         &  3756.622 & 0        \\\\\n",
       "\\end{tabular}\n"
      ],
      "text/markdown": [
       "\n",
       "| age | sex | bmi | children | smoker | region | charges | insuranceclaim |\n",
       "|---|---|---|---|---|---|---|---|\n",
       "| 19        | 0         | 27.900    | 0         | 1         | 3         | 16884.924 | 1         |\n",
       "| 18        | 1         | 33.770    | 1         | 0         | 2         |  1725.552 | 1         |\n",
       "| 28        | 1         | 33.000    | 3         | 0         | 2         |  4449.462 | 0         |\n",
       "| 33        | 1         | 22.705    | 0         | 0         | 1         | 21984.471 | 0         |\n",
       "| 32        | 1         | 28.880    | 0         | 0         | 1         |  3866.855 | 1         |\n",
       "| 31        | 0         | 25.740    | 0         | 0         | 2         |  3756.622 | 0         |\n",
       "\n"
      ],
      "text/plain": [
       "  age sex bmi    children smoker region charges   insuranceclaim\n",
       "1 19  0   27.900 0        1      3      16884.924 1             \n",
       "2 18  1   33.770 1        0      2       1725.552 1             \n",
       "3 28  1   33.000 3        0      2       4449.462 0             \n",
       "4 33  1   22.705 0        0      1      21984.471 0             \n",
       "5 32  1   28.880 0        0      1       3866.855 1             \n",
       "6 31  0   25.740 0        0      2       3756.622 0             "
      ]
     },
     "metadata": {},
     "output_type": "display_data"
    }
   ],
   "source": [
    "head(df)"
   ]
  },
  {
   "cell_type": "code",
   "execution_count": 6,
   "metadata": {},
   "outputs": [],
   "source": [
    "set.seed(101)\n",
    "\n",
    "sample <- sample.split(df, SplitRatio = 0.70) # SplitRatio = percent of sample==TRUE\n",
    "\n",
    "# Training Data\n",
    "train = subset(df, sample == TRUE)\n",
    "\n",
    "# Testing Data\n",
    "test = subset(df, sample == FALSE)"
   ]
  },
  {
   "cell_type": "code",
   "execution_count": 7,
   "metadata": {},
   "outputs": [],
   "source": [
    "model <- randomForest(insuranceclaim ~ .,data=train)"
   ]
  },
  {
   "cell_type": "code",
   "execution_count": 8,
   "metadata": {},
   "outputs": [
    {
     "name": "stdout",
     "output_type": "stream",
     "text": [
      "\n",
      "Call:\n",
      " randomForest(formula = insuranceclaim ~ ., data = train) \n",
      "               Type of random forest: classification\n",
      "                     Number of trees: 500\n",
      "No. of variables tried at each split: 2\n",
      "\n",
      "        OOB estimate of  error rate: 6.09%\n",
      "Confusion matrix:\n",
      "    0   1 class.error\n",
      "0 337  20  0.05602241\n",
      "1  31 449  0.06458333\n"
     ]
    }
   ],
   "source": [
    "print(model)"
   ]
  },
  {
   "cell_type": "code",
   "execution_count": 9,
   "metadata": {},
   "outputs": [],
   "source": [
    "results <- predict(model,newdata=test,type='class')"
   ]
  },
  {
   "cell_type": "code",
   "execution_count": 10,
   "metadata": {},
   "outputs": [],
   "source": [
    "confuse.matrix <- table(test$insuranceclaim,results)"
   ]
  },
  {
   "cell_type": "code",
   "execution_count": 11,
   "metadata": {},
   "outputs": [
    {
     "data": {
      "text/plain": [
       "   results\n",
       "      0   1\n",
       "  0 189   9\n",
       "  1  23 280"
      ]
     },
     "metadata": {},
     "output_type": "display_data"
    }
   ],
   "source": [
    "confuse.matrix"
   ]
  },
  {
   "cell_type": "code",
   "execution_count": 12,
   "metadata": {},
   "outputs": [
    {
     "data": {
      "text/html": [
       "189"
      ],
      "text/latex": [
       "189"
      ],
      "text/markdown": [
       "189"
      ],
      "text/plain": [
       "[1] 189"
      ]
     },
     "metadata": {},
     "output_type": "display_data"
    }
   ],
   "source": [
    "tn <- confuse.matrix[1]\n",
    "tn"
   ]
  },
  {
   "cell_type": "code",
   "execution_count": 13,
   "metadata": {},
   "outputs": [
    {
     "data": {
      "text/html": [
       "280"
      ],
      "text/latex": [
       "280"
      ],
      "text/markdown": [
       "280"
      ],
      "text/plain": [
       "[1] 280"
      ]
     },
     "metadata": {},
     "output_type": "display_data"
    }
   ],
   "source": [
    "tp <- confuse.matrix[4]\n",
    "tp"
   ]
  },
  {
   "cell_type": "code",
   "execution_count": 14,
   "metadata": {},
   "outputs": [
    {
     "data": {
      "text/html": [
       "9"
      ],
      "text/latex": [
       "9"
      ],
      "text/markdown": [
       "9"
      ],
      "text/plain": [
       "[1] 9"
      ]
     },
     "metadata": {},
     "output_type": "display_data"
    }
   ],
   "source": [
    "fp <- confuse.matrix[3]\n",
    "fp"
   ]
  },
  {
   "cell_type": "code",
   "execution_count": 15,
   "metadata": {},
   "outputs": [
    {
     "data": {
      "text/html": [
       "23"
      ],
      "text/latex": [
       "23"
      ],
      "text/markdown": [
       "23"
      ],
      "text/plain": [
       "[1] 23"
      ]
     },
     "metadata": {},
     "output_type": "display_data"
    }
   ],
   "source": [
    "fn <- confuse.matrix[2]\n",
    "fn"
   ]
  },
  {
   "cell_type": "code",
   "execution_count": 16,
   "metadata": {},
   "outputs": [],
   "source": [
    "accuracy <- (tp+tn)/(tp+tn+fp+fn)"
   ]
  },
  {
   "cell_type": "code",
   "execution_count": 17,
   "metadata": {},
   "outputs": [
    {
     "data": {
      "text/html": [
       "0.936127744510978"
      ],
      "text/latex": [
       "0.936127744510978"
      ],
      "text/markdown": [
       "0.936127744510978"
      ],
      "text/plain": [
       "[1] 0.9361277"
      ]
     },
     "metadata": {},
     "output_type": "display_data"
    }
   ],
   "source": [
    "accuracy"
   ]
  },
  {
   "cell_type": "code",
   "execution_count": 18,
   "metadata": {},
   "outputs": [],
   "source": [
    "precision <- (tp)/(tp+fp)"
   ]
  },
  {
   "cell_type": "code",
   "execution_count": 19,
   "metadata": {},
   "outputs": [
    {
     "data": {
      "text/html": [
       "0.968858131487889"
      ],
      "text/latex": [
       "0.968858131487889"
      ],
      "text/markdown": [
       "0.968858131487889"
      ],
      "text/plain": [
       "[1] 0.9688581"
      ]
     },
     "metadata": {},
     "output_type": "display_data"
    }
   ],
   "source": [
    "precision"
   ]
  },
  {
   "cell_type": "code",
   "execution_count": 20,
   "metadata": {},
   "outputs": [],
   "source": [
    "recall <- (tp)/(tp+fn)"
   ]
  },
  {
   "cell_type": "code",
   "execution_count": 22,
   "metadata": {},
   "outputs": [
    {
     "data": {
      "text/html": [
       "0.924092409240924"
      ],
      "text/latex": [
       "0.924092409240924"
      ],
      "text/markdown": [
       "0.924092409240924"
      ],
      "text/plain": [
       "[1] 0.9240924"
      ]
     },
     "metadata": {},
     "output_type": "display_data"
    }
   ],
   "source": [
    "recall"
   ]
  },
  {
   "cell_type": "code",
   "execution_count": 24,
   "metadata": {},
   "outputs": [],
   "source": [
    "model2 <- randomForest(insuranceclaim ~ .,data=train,ntree = 1000)"
   ]
  },
  {
   "cell_type": "code",
   "execution_count": 25,
   "metadata": {},
   "outputs": [
    {
     "name": "stdout",
     "output_type": "stream",
     "text": [
      "\n",
      "Call:\n",
      " randomForest(formula = insuranceclaim ~ ., data = train, ntree = 1000) \n",
      "               Type of random forest: classification\n",
      "                     Number of trees: 1000\n",
      "No. of variables tried at each split: 2\n",
      "\n",
      "        OOB estimate of  error rate: 5.14%\n",
      "Confusion matrix:\n",
      "    0   1 class.error\n",
      "0 341  16  0.04481793\n",
      "1  27 453  0.05625000\n"
     ]
    }
   ],
   "source": [
    "print(model2)"
   ]
  },
  {
   "cell_type": "code",
   "execution_count": 26,
   "metadata": {},
   "outputs": [],
   "source": [
    "results2 <- predict(model2,newdata=test,type='class')"
   ]
  },
  {
   "cell_type": "code",
   "execution_count": 28,
   "metadata": {},
   "outputs": [],
   "source": [
    "confuse.matrix <- table(test$insuranceclaim,results2)"
   ]
  },
  {
   "cell_type": "code",
   "execution_count": 29,
   "metadata": {},
   "outputs": [
    {
     "data": {
      "text/plain": [
       "   results2\n",
       "      0   1\n",
       "  0 189   9\n",
       "  1  19 284"
      ]
     },
     "metadata": {},
     "output_type": "display_data"
    }
   ],
   "source": [
    "confuse.matrix"
   ]
  }
 ],
 "metadata": {
  "kernelspec": {
   "display_name": "R",
   "language": "R",
   "name": "ir"
  },
  "language_info": {
   "codemirror_mode": "r",
   "file_extension": ".r",
   "mimetype": "text/x-r-source",
   "name": "R",
   "pygments_lexer": "r",
   "version": "3.6.0"
  }
 },
 "nbformat": 4,
 "nbformat_minor": 2
}
