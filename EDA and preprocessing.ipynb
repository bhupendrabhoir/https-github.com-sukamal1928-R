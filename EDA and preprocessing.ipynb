{
 "cells": [
  {
   "cell_type": "markdown",
   "metadata": {},
   "source": [
    "# EDA and Preprocessing"
   ]
  },
  {
   "cell_type": "code",
   "execution_count": 216,
   "metadata": {},
   "outputs": [],
   "source": [
    "library(dplyr)\n",
    "library(ggplot2)"
   ]
  },
  {
   "cell_type": "code",
   "execution_count": 217,
   "metadata": {},
   "outputs": [],
   "source": [
    "df <- read.csv(\"cars_r.csv\")"
   ]
  },
  {
   "cell_type": "code",
   "execution_count": 218,
   "metadata": {},
   "outputs": [
    {
     "data": {
      "text/html": [
       "<table>\n",
       "<thead><tr><th scope=col>X.1</th><th scope=col>X</th><th scope=col>symboling</th><th scope=col>make</th><th scope=col>fuel.type</th><th scope=col>body.style</th><th scope=col>drive.wheels</th><th scope=col>engine.location</th><th scope=col>width</th><th scope=col>height</th><th scope=col>engine.type</th><th scope=col>engine.size</th><th scope=col>horsepower</th><th scope=col>city.mpg</th><th scope=col>highway.mpg</th><th scope=col>price</th></tr></thead>\n",
       "<tbody>\n",
       "\t<tr><td>1          </td><td>1          </td><td>3          </td><td>alfa-romero</td><td>gas        </td><td>convertible</td><td>rwd        </td><td>front      </td><td>64.1       </td><td>48.8       </td><td>dohc       </td><td>130        </td><td>111        </td><td>21         </td><td>27         </td><td>13495      </td></tr>\n",
       "\t<tr><td>2          </td><td>2          </td><td>3          </td><td>alfa-romero</td><td>gas        </td><td>convertible</td><td>rwd        </td><td>front      </td><td>64.1       </td><td>48.8       </td><td>dohc       </td><td>130        </td><td>111        </td><td>21         </td><td>27         </td><td>16500      </td></tr>\n",
       "\t<tr><td>3          </td><td>3          </td><td>1          </td><td>alfa-romero</td><td>gas        </td><td>hatchback  </td><td>rwd        </td><td>front      </td><td>65.5       </td><td>52.4       </td><td>ohcv       </td><td>152        </td><td>154        </td><td>19         </td><td>26         </td><td>16500      </td></tr>\n",
       "\t<tr><td>4          </td><td>4          </td><td>2          </td><td>audi       </td><td>gas        </td><td>sedan      </td><td>fwd        </td><td>front      </td><td>66.2       </td><td>54.3       </td><td>ohc        </td><td>109        </td><td>102        </td><td>24         </td><td>30         </td><td>13950      </td></tr>\n",
       "\t<tr><td>5          </td><td>5          </td><td>2          </td><td>audi       </td><td>gas        </td><td>sedan      </td><td>4wd        </td><td>front      </td><td>66.4       </td><td>54.3       </td><td>ohc        </td><td>136        </td><td>115        </td><td>18         </td><td>22         </td><td>17450      </td></tr>\n",
       "\t<tr><td>6          </td><td>6          </td><td>2          </td><td>audi       </td><td>gas        </td><td>sedan      </td><td>fwd        </td><td>front      </td><td>66.3       </td><td>53.1       </td><td>ohc        </td><td>136        </td><td>110        </td><td>19         </td><td>25         </td><td>15250      </td></tr>\n",
       "</tbody>\n",
       "</table>\n"
      ],
      "text/latex": [
       "\\begin{tabular}{r|llllllllllllllll}\n",
       " X.1 & X & symboling & make & fuel.type & body.style & drive.wheels & engine.location & width & height & engine.type & engine.size & horsepower & city.mpg & highway.mpg & price\\\\\n",
       "\\hline\n",
       "\t 1           & 1           & 3           & alfa-romero & gas         & convertible & rwd         & front       & 64.1        & 48.8        & dohc        & 130         & 111         & 21          & 27          & 13495      \\\\\n",
       "\t 2           & 2           & 3           & alfa-romero & gas         & convertible & rwd         & front       & 64.1        & 48.8        & dohc        & 130         & 111         & 21          & 27          & 16500      \\\\\n",
       "\t 3           & 3           & 1           & alfa-romero & gas         & hatchback   & rwd         & front       & 65.5        & 52.4        & ohcv        & 152         & 154         & 19          & 26          & 16500      \\\\\n",
       "\t 4           & 4           & 2           & audi        & gas         & sedan       & fwd         & front       & 66.2        & 54.3        & ohc         & 109         & 102         & 24          & 30          & 13950      \\\\\n",
       "\t 5           & 5           & 2           & audi        & gas         & sedan       & 4wd         & front       & 66.4        & 54.3        & ohc         & 136         & 115         & 18          & 22          & 17450      \\\\\n",
       "\t 6           & 6           & 2           & audi        & gas         & sedan       & fwd         & front       & 66.3        & 53.1        & ohc         & 136         & 110         & 19          & 25          & 15250      \\\\\n",
       "\\end{tabular}\n"
      ],
      "text/markdown": [
       "\n",
       "| X.1 | X | symboling | make | fuel.type | body.style | drive.wheels | engine.location | width | height | engine.type | engine.size | horsepower | city.mpg | highway.mpg | price |\n",
       "|---|---|---|---|---|---|---|---|---|---|---|---|---|---|---|---|\n",
       "| 1           | 1           | 3           | alfa-romero | gas         | convertible | rwd         | front       | 64.1        | 48.8        | dohc        | 130         | 111         | 21          | 27          | 13495       |\n",
       "| 2           | 2           | 3           | alfa-romero | gas         | convertible | rwd         | front       | 64.1        | 48.8        | dohc        | 130         | 111         | 21          | 27          | 16500       |\n",
       "| 3           | 3           | 1           | alfa-romero | gas         | hatchback   | rwd         | front       | 65.5        | 52.4        | ohcv        | 152         | 154         | 19          | 26          | 16500       |\n",
       "| 4           | 4           | 2           | audi        | gas         | sedan       | fwd         | front       | 66.2        | 54.3        | ohc         | 109         | 102         | 24          | 30          | 13950       |\n",
       "| 5           | 5           | 2           | audi        | gas         | sedan       | 4wd         | front       | 66.4        | 54.3        | ohc         | 136         | 115         | 18          | 22          | 17450       |\n",
       "| 6           | 6           | 2           | audi        | gas         | sedan       | fwd         | front       | 66.3        | 53.1        | ohc         | 136         | 110         | 19          | 25          | 15250       |\n",
       "\n"
      ],
      "text/plain": [
       "  X.1 X symboling make        fuel.type body.style  drive.wheels\n",
       "1 1   1 3         alfa-romero gas       convertible rwd         \n",
       "2 2   2 3         alfa-romero gas       convertible rwd         \n",
       "3 3   3 1         alfa-romero gas       hatchback   rwd         \n",
       "4 4   4 2         audi        gas       sedan       fwd         \n",
       "5 5   5 2         audi        gas       sedan       4wd         \n",
       "6 6   6 2         audi        gas       sedan       fwd         \n",
       "  engine.location width height engine.type engine.size horsepower city.mpg\n",
       "1 front           64.1  48.8   dohc        130         111        21      \n",
       "2 front           64.1  48.8   dohc        130         111        21      \n",
       "3 front           65.5  52.4   ohcv        152         154        19      \n",
       "4 front           66.2  54.3   ohc         109         102        24      \n",
       "5 front           66.4  54.3   ohc         136         115        18      \n",
       "6 front           66.3  53.1   ohc         136         110        19      \n",
       "  highway.mpg price\n",
       "1 27          13495\n",
       "2 27          16500\n",
       "3 26          16500\n",
       "4 30          13950\n",
       "5 22          17450\n",
       "6 25          15250"
      ]
     },
     "metadata": {},
     "output_type": "display_data"
    }
   ],
   "source": [
    "head(df)"
   ]
  },
  {
   "cell_type": "markdown",
   "metadata": {},
   "source": [
    "## Get rid of unwanted columns"
   ]
  },
  {
   "cell_type": "code",
   "execution_count": 219,
   "metadata": {},
   "outputs": [],
   "source": [
    "df <- select(df,-c(X.1,X))"
   ]
  },
  {
   "cell_type": "code",
   "execution_count": 220,
   "metadata": {},
   "outputs": [
    {
     "data": {
      "text/html": [
       "<table>\n",
       "<thead><tr><th scope=col>symboling</th><th scope=col>make</th><th scope=col>fuel.type</th><th scope=col>body.style</th><th scope=col>drive.wheels</th><th scope=col>engine.location</th><th scope=col>width</th><th scope=col>height</th><th scope=col>engine.type</th><th scope=col>engine.size</th><th scope=col>horsepower</th><th scope=col>city.mpg</th><th scope=col>highway.mpg</th><th scope=col>price</th></tr></thead>\n",
       "<tbody>\n",
       "\t<tr><td>3          </td><td>alfa-romero</td><td>gas        </td><td>convertible</td><td>rwd        </td><td>front      </td><td>64.1       </td><td>48.8       </td><td>dohc       </td><td>130        </td><td>111        </td><td>21         </td><td>27         </td><td>13495      </td></tr>\n",
       "\t<tr><td>3          </td><td>alfa-romero</td><td>gas        </td><td>convertible</td><td>rwd        </td><td>front      </td><td>64.1       </td><td>48.8       </td><td>dohc       </td><td>130        </td><td>111        </td><td>21         </td><td>27         </td><td>16500      </td></tr>\n",
       "\t<tr><td>1          </td><td>alfa-romero</td><td>gas        </td><td>hatchback  </td><td>rwd        </td><td>front      </td><td>65.5       </td><td>52.4       </td><td>ohcv       </td><td>152        </td><td>154        </td><td>19         </td><td>26         </td><td>16500      </td></tr>\n",
       "\t<tr><td>2          </td><td>audi       </td><td>gas        </td><td>sedan      </td><td>fwd        </td><td>front      </td><td>66.2       </td><td>54.3       </td><td>ohc        </td><td>109        </td><td>102        </td><td>24         </td><td>30         </td><td>13950      </td></tr>\n",
       "\t<tr><td>2          </td><td>audi       </td><td>gas        </td><td>sedan      </td><td>4wd        </td><td>front      </td><td>66.4       </td><td>54.3       </td><td>ohc        </td><td>136        </td><td>115        </td><td>18         </td><td>22         </td><td>17450      </td></tr>\n",
       "\t<tr><td>2          </td><td>audi       </td><td>gas        </td><td>sedan      </td><td>fwd        </td><td>front      </td><td>66.3       </td><td>53.1       </td><td>ohc        </td><td>136        </td><td>110        </td><td>19         </td><td>25         </td><td>15250      </td></tr>\n",
       "</tbody>\n",
       "</table>\n"
      ],
      "text/latex": [
       "\\begin{tabular}{r|llllllllllllll}\n",
       " symboling & make & fuel.type & body.style & drive.wheels & engine.location & width & height & engine.type & engine.size & horsepower & city.mpg & highway.mpg & price\\\\\n",
       "\\hline\n",
       "\t 3           & alfa-romero & gas         & convertible & rwd         & front       & 64.1        & 48.8        & dohc        & 130         & 111         & 21          & 27          & 13495      \\\\\n",
       "\t 3           & alfa-romero & gas         & convertible & rwd         & front       & 64.1        & 48.8        & dohc        & 130         & 111         & 21          & 27          & 16500      \\\\\n",
       "\t 1           & alfa-romero & gas         & hatchback   & rwd         & front       & 65.5        & 52.4        & ohcv        & 152         & 154         & 19          & 26          & 16500      \\\\\n",
       "\t 2           & audi        & gas         & sedan       & fwd         & front       & 66.2        & 54.3        & ohc         & 109         & 102         & 24          & 30          & 13950      \\\\\n",
       "\t 2           & audi        & gas         & sedan       & 4wd         & front       & 66.4        & 54.3        & ohc         & 136         & 115         & 18          & 22          & 17450      \\\\\n",
       "\t 2           & audi        & gas         & sedan       & fwd         & front       & 66.3        & 53.1        & ohc         & 136         & 110         & 19          & 25          & 15250      \\\\\n",
       "\\end{tabular}\n"
      ],
      "text/markdown": [
       "\n",
       "| symboling | make | fuel.type | body.style | drive.wheels | engine.location | width | height | engine.type | engine.size | horsepower | city.mpg | highway.mpg | price |\n",
       "|---|---|---|---|---|---|---|---|---|---|---|---|---|---|\n",
       "| 3           | alfa-romero | gas         | convertible | rwd         | front       | 64.1        | 48.8        | dohc        | 130         | 111         | 21          | 27          | 13495       |\n",
       "| 3           | alfa-romero | gas         | convertible | rwd         | front       | 64.1        | 48.8        | dohc        | 130         | 111         | 21          | 27          | 16500       |\n",
       "| 1           | alfa-romero | gas         | hatchback   | rwd         | front       | 65.5        | 52.4        | ohcv        | 152         | 154         | 19          | 26          | 16500       |\n",
       "| 2           | audi        | gas         | sedan       | fwd         | front       | 66.2        | 54.3        | ohc         | 109         | 102         | 24          | 30          | 13950       |\n",
       "| 2           | audi        | gas         | sedan       | 4wd         | front       | 66.4        | 54.3        | ohc         | 136         | 115         | 18          | 22          | 17450       |\n",
       "| 2           | audi        | gas         | sedan       | fwd         | front       | 66.3        | 53.1        | ohc         | 136         | 110         | 19          | 25          | 15250       |\n",
       "\n"
      ],
      "text/plain": [
       "  symboling make        fuel.type body.style  drive.wheels engine.location\n",
       "1 3         alfa-romero gas       convertible rwd          front          \n",
       "2 3         alfa-romero gas       convertible rwd          front          \n",
       "3 1         alfa-romero gas       hatchback   rwd          front          \n",
       "4 2         audi        gas       sedan       fwd          front          \n",
       "5 2         audi        gas       sedan       4wd          front          \n",
       "6 2         audi        gas       sedan       fwd          front          \n",
       "  width height engine.type engine.size horsepower city.mpg highway.mpg price\n",
       "1 64.1  48.8   dohc        130         111        21       27          13495\n",
       "2 64.1  48.8   dohc        130         111        21       27          16500\n",
       "3 65.5  52.4   ohcv        152         154        19       26          16500\n",
       "4 66.2  54.3   ohc         109         102        24       30          13950\n",
       "5 66.4  54.3   ohc         136         115        18       22          17450\n",
       "6 66.3  53.1   ohc         136         110        19       25          15250"
      ]
     },
     "metadata": {},
     "output_type": "display_data"
    }
   ],
   "source": [
    "head(df)"
   ]
  },
  {
   "cell_type": "markdown",
   "metadata": {},
   "source": [
    "## Handling missing values"
   ]
  },
  {
   "cell_type": "code",
   "execution_count": 221,
   "metadata": {},
   "outputs": [
    {
     "data": {
      "text/html": [
       "TRUE"
      ],
      "text/latex": [
       "TRUE"
      ],
      "text/markdown": [
       "TRUE"
      ],
      "text/plain": [
       "[1] TRUE"
      ]
     },
     "metadata": {},
     "output_type": "display_data"
    }
   ],
   "source": [
    "any(is.na(df))"
   ]
  },
  {
   "cell_type": "code",
   "execution_count": 222,
   "metadata": {},
   "outputs": [
    {
     "name": "stdout",
     "output_type": "stream",
     "text": [
      "[1] \"width\"\n",
      "[1] \"engine.size\"\n"
     ]
    }
   ],
   "source": [
    "for(col in colnames(df)){\n",
    "    \n",
    "    if(any(is.na(df[col]))){\n",
    "        print(col)\n",
    "    }\n",
    "}"
   ]
  },
  {
   "cell_type": "code",
   "execution_count": 223,
   "metadata": {},
   "outputs": [],
   "source": [
    "#mean(is.numeric(df$width),na.rm=T)\n",
    "width.mean <- mean(df$width,na.rm=T)"
   ]
  },
  {
   "cell_type": "code",
   "execution_count": 224,
   "metadata": {},
   "outputs": [],
   "source": [
    "df$width[is.na(df$width)] <- width.mean"
   ]
  },
  {
   "cell_type": "code",
   "execution_count": 225,
   "metadata": {},
   "outputs": [],
   "source": [
    "engine.size.mean <- mean(df$engine.size,na.rm=T)"
   ]
  },
  {
   "cell_type": "code",
   "execution_count": 226,
   "metadata": {},
   "outputs": [],
   "source": [
    "df$engine.size[is.na(df$engine.size)] <- engine.size.mean"
   ]
  },
  {
   "cell_type": "code",
   "execution_count": 227,
   "metadata": {},
   "outputs": [
    {
     "data": {
      "text/html": [
       "FALSE"
      ],
      "text/latex": [
       "FALSE"
      ],
      "text/markdown": [
       "FALSE"
      ],
      "text/plain": [
       "[1] FALSE"
      ]
     },
     "metadata": {},
     "output_type": "display_data"
    }
   ],
   "source": [
    "any(is.na(df))"
   ]
  },
  {
   "cell_type": "code",
   "execution_count": 228,
   "metadata": {},
   "outputs": [
    {
     "name": "stdout",
     "output_type": "stream",
     "text": [
      "'data.frame':\t205 obs. of  14 variables:\n",
      " $ symboling      : int  3 3 1 2 2 2 1 1 1 0 ...\n",
      " $ make           : Factor w/ 22 levels \"alfa-romero\",..: 1 1 1 2 2 2 2 2 2 2 ...\n",
      " $ fuel.type      : Factor w/ 2 levels \"diesel\",\"gas\": 2 2 2 2 2 2 2 2 2 2 ...\n",
      " $ body.style     : Factor w/ 5 levels \"convertible\",..: 1 1 3 4 4 4 4 5 4 3 ...\n",
      " $ drive.wheels   : Factor w/ 3 levels \"4wd\",\"fwd\",\"rwd\": 3 3 3 2 1 2 2 2 2 1 ...\n",
      " $ engine.location: Factor w/ 2 levels \"front\",\"rear\": 1 1 1 1 1 1 1 1 1 1 ...\n",
      " $ width          : num  64.1 64.1 65.5 66.2 66.4 66.3 71.4 71.4 71.4 67.9 ...\n",
      " $ height         : num  48.8 48.8 52.4 54.3 54.3 53.1 55.7 55.7 55.9 52 ...\n",
      " $ engine.type    : Factor w/ 7 levels \"dohc\",\"dohcv\",..: 1 1 6 4 4 4 4 4 4 4 ...\n",
      " $ engine.size    : num  130 130 152 109 136 136 136 136 131 131 ...\n",
      " $ horsepower     : Factor w/ 60 levels \"?\",\"100\",\"101\",..: 7 7 22 4 10 6 6 6 17 25 ...\n",
      " $ city.mpg       : int  21 21 19 24 18 19 19 19 17 16 ...\n",
      " $ highway.mpg    : int  27 27 26 30 22 25 25 25 20 22 ...\n",
      " $ price          : int  13495 16500 16500 13950 17450 15250 17710 18920 23875 12000 ...\n"
     ]
    }
   ],
   "source": [
    "str(df)"
   ]
  },
  {
   "cell_type": "code",
   "execution_count": 229,
   "metadata": {},
   "outputs": [
    {
     "name": "stderr",
     "output_type": "stream",
     "text": [
      "Warning message in eval(expr, envir, enclos):\n",
      "\"NAs introduced by coercion\""
     ]
    }
   ],
   "source": [
    "df$horsepower <- as.numeric(as.character(df$horsepower))"
   ]
  },
  {
   "cell_type": "code",
   "execution_count": 230,
   "metadata": {},
   "outputs": [],
   "source": [
    "horsepower.mean <- mean(df$horsepower,na.rm=T)"
   ]
  },
  {
   "cell_type": "code",
   "execution_count": 231,
   "metadata": {},
   "outputs": [],
   "source": [
    "df$horsepower[is.na(df$horsepower)] <- horsepower.mean"
   ]
  },
  {
   "cell_type": "code",
   "execution_count": 232,
   "metadata": {},
   "outputs": [
    {
     "name": "stdout",
     "output_type": "stream",
     "text": [
      "'data.frame':\t205 obs. of  14 variables:\n",
      " $ symboling      : int  3 3 1 2 2 2 1 1 1 0 ...\n",
      " $ make           : Factor w/ 22 levels \"alfa-romero\",..: 1 1 1 2 2 2 2 2 2 2 ...\n",
      " $ fuel.type      : Factor w/ 2 levels \"diesel\",\"gas\": 2 2 2 2 2 2 2 2 2 2 ...\n",
      " $ body.style     : Factor w/ 5 levels \"convertible\",..: 1 1 3 4 4 4 4 5 4 3 ...\n",
      " $ drive.wheels   : Factor w/ 3 levels \"4wd\",\"fwd\",\"rwd\": 3 3 3 2 1 2 2 2 2 1 ...\n",
      " $ engine.location: Factor w/ 2 levels \"front\",\"rear\": 1 1 1 1 1 1 1 1 1 1 ...\n",
      " $ width          : num  64.1 64.1 65.5 66.2 66.4 66.3 71.4 71.4 71.4 67.9 ...\n",
      " $ height         : num  48.8 48.8 52.4 54.3 54.3 53.1 55.7 55.7 55.9 52 ...\n",
      " $ engine.type    : Factor w/ 7 levels \"dohc\",\"dohcv\",..: 1 1 6 4 4 4 4 4 4 4 ...\n",
      " $ engine.size    : num  130 130 152 109 136 136 136 136 131 131 ...\n",
      " $ horsepower     : num  111 111 154 102 115 110 110 110 140 160 ...\n",
      " $ city.mpg       : int  21 21 19 24 18 19 19 19 17 16 ...\n",
      " $ highway.mpg    : int  27 27 26 30 22 25 25 25 20 22 ...\n",
      " $ price          : int  13495 16500 16500 13950 17450 15250 17710 18920 23875 12000 ...\n"
     ]
    }
   ],
   "source": [
    "str(df)"
   ]
  },
  {
   "cell_type": "markdown",
   "metadata": {},
   "source": [
    "## Handling outliers"
   ]
  },
  {
   "cell_type": "code",
   "execution_count": 233,
   "metadata": {},
   "outputs": [
    {
     "data": {
      "image/png": "[encoded data removed]",
      "text/plain": [
       "plot without title"
      ]
     },
     "metadata": {},
     "output_type": "display_data"
    }
   ],
   "source": [
    "pl <- ggplot(df, aes(make,price))\n",
    "\n",
    "pl + geom_boxplot() + coord_flip()"
   ]
  },
  {
   "cell_type": "code",
   "execution_count": 234,
   "metadata": {},
   "outputs": [],
   "source": [
    "df = df[!(df$make==\"isuzu\" & df$price > 15000),]"
   ]
  },
  {
   "cell_type": "code",
   "execution_count": 235,
   "metadata": {},
   "outputs": [
    {
     "data": {
      "image/png": "[encoded data removed]",
      "text/plain": [
       "plot without title"
      ]
     },
     "metadata": {},
     "output_type": "display_data"
    }
   ],
   "source": [
    "pl <- ggplot(df, aes(make,price))\n",
    "\n",
    "pl + geom_boxplot() + coord_flip()"
   ]
  },
  {
   "cell_type": "markdown",
   "metadata": {},
   "source": [
    "## Handling categorical data"
   ]
  },
  {
   "cell_type": "code",
   "execution_count": 236,
   "metadata": {},
   "outputs": [],
   "source": [
    "df.fact <- sapply(df, is.factor)"
   ]
  },
  {
   "cell_type": "code",
   "execution_count": 237,
   "metadata": {},
   "outputs": [
    {
     "data": {
      "text/html": [
       "<dl class=dl-horizontal>\n",
       "\t<dt>symboling</dt>\n",
       "\t\t<dd>FALSE</dd>\n",
       "\t<dt>make</dt>\n",
       "\t\t<dd>TRUE</dd>\n",
       "\t<dt>fuel.type</dt>\n",
       "\t\t<dd>TRUE</dd>\n",
       "\t<dt>body.style</dt>\n",
       "\t\t<dd>TRUE</dd>\n",
       "\t<dt>drive.wheels</dt>\n",
       "\t\t<dd>TRUE</dd>\n",
       "\t<dt>engine.location</dt>\n",
       "\t\t<dd>TRUE</dd>\n",
       "\t<dt>width</dt>\n",
       "\t\t<dd>FALSE</dd>\n",
       "\t<dt>height</dt>\n",
       "\t\t<dd>FALSE</dd>\n",
       "\t<dt>engine.type</dt>\n",
       "\t\t<dd>TRUE</dd>\n",
       "\t<dt>engine.size</dt>\n",
       "\t\t<dd>FALSE</dd>\n",
       "\t<dt>horsepower</dt>\n",
       "\t\t<dd>FALSE</dd>\n",
       "\t<dt>city.mpg</dt>\n",
       "\t\t<dd>FALSE</dd>\n",
       "\t<dt>highway.mpg</dt>\n",
       "\t\t<dd>FALSE</dd>\n",
       "\t<dt>price</dt>\n",
       "\t\t<dd>FALSE</dd>\n",
       "</dl>\n"
      ],
      "text/latex": [
       "\\begin{description*}\n",
       "\\item[symboling] FALSE\n",
       "\\item[make] TRUE\n",
       "\\item[fuel.type] TRUE\n",
       "\\item[body.style] TRUE\n",
       "\\item[drive.wheels] TRUE\n",
       "\\item[engine.location] TRUE\n",
       "\\item[width] FALSE\n",
       "\\item[height] FALSE\n",
       "\\item[engine.type] TRUE\n",
       "\\item[engine.size] FALSE\n",
       "\\item[horsepower] FALSE\n",
       "\\item[city.mpg] FALSE\n",
       "\\item[highway.mpg] FALSE\n",
       "\\item[price] FALSE\n",
       "\\end{description*}\n"
      ],
      "text/markdown": [
       "symboling\n",
       ":   FALSEmake\n",
       ":   TRUEfuel.type\n",
       ":   TRUEbody.style\n",
       ":   TRUEdrive.wheels\n",
       ":   TRUEengine.location\n",
       ":   TRUEwidth\n",
       ":   FALSEheight\n",
       ":   FALSEengine.type\n",
       ":   TRUEengine.size\n",
       ":   FALSEhorsepower\n",
       ":   FALSEcity.mpg\n",
       ":   FALSEhighway.mpg\n",
       ":   FALSEprice\n",
       ":   FALSE\n",
       "\n"
      ],
      "text/plain": [
       "      symboling            make       fuel.type      body.style    drive.wheels \n",
       "          FALSE            TRUE            TRUE            TRUE            TRUE \n",
       "engine.location           width          height     engine.type     engine.size \n",
       "           TRUE           FALSE           FALSE            TRUE           FALSE \n",
       "     horsepower        city.mpg     highway.mpg           price \n",
       "          FALSE           FALSE           FALSE           FALSE "
      ]
     },
     "metadata": {},
     "output_type": "display_data"
    }
   ],
   "source": [
    "df.fact"
   ]
  },
  {
   "cell_type": "code",
   "execution_count": 238,
   "metadata": {},
   "outputs": [
    {
     "data": {
      "text/html": [
       "<ol class=list-inline>\n",
       "\t<li>'make'</li>\n",
       "\t<li>'fuel.type'</li>\n",
       "\t<li>'body.style'</li>\n",
       "\t<li>'drive.wheels'</li>\n",
       "\t<li>'engine.location'</li>\n",
       "\t<li>'engine.type'</li>\n",
       "</ol>\n"
      ],
      "text/latex": [
       "\\begin{enumerate*}\n",
       "\\item 'make'\n",
       "\\item 'fuel.type'\n",
       "\\item 'body.style'\n",
       "\\item 'drive.wheels'\n",
       "\\item 'engine.location'\n",
       "\\item 'engine.type'\n",
       "\\end{enumerate*}\n"
      ],
      "text/markdown": [
       "1. 'make'\n",
       "2. 'fuel.type'\n",
       "3. 'body.style'\n",
       "4. 'drive.wheels'\n",
       "5. 'engine.location'\n",
       "6. 'engine.type'\n",
       "\n",
       "\n"
      ],
      "text/plain": [
       "[1] \"make\"            \"fuel.type\"       \"body.style\"      \"drive.wheels\"   \n",
       "[5] \"engine.location\" \"engine.type\"    "
      ]
     },
     "metadata": {},
     "output_type": "display_data"
    }
   ],
   "source": [
    "colnames(df[,df.fact])"
   ]
  },
  {
   "cell_type": "code",
   "execution_count": 239,
   "metadata": {},
   "outputs": [],
   "source": [
    "df$make = as.numeric(df$make)"
   ]
  },
  {
   "cell_type": "code",
   "execution_count": 240,
   "metadata": {},
   "outputs": [],
   "source": [
    "df$fuel.type = as.numeric(df$fuel.type)"
   ]
  },
  {
   "cell_type": "code",
   "execution_count": 243,
   "metadata": {},
   "outputs": [],
   "source": [
    "df$body.style = as.numeric(df$body.style)"
   ]
  },
  {
   "cell_type": "code",
   "execution_count": 244,
   "metadata": {},
   "outputs": [],
   "source": [
    "df$drive.wheels = as.numeric(df$drive.wheels)"
   ]
  },
  {
   "cell_type": "code",
   "execution_count": 245,
   "metadata": {},
   "outputs": [],
   "source": [
    "df$engine.location = as.numeric(df$engine.location)"
   ]
  },
  {
   "cell_type": "code",
   "execution_count": 246,
   "metadata": {},
   "outputs": [],
   "source": [
    "df$engine.type = as.numeric(df$engine.type)"
   ]
  },
  {
   "cell_type": "code",
   "execution_count": 247,
   "metadata": {},
   "outputs": [
    {
     "data": {
      "text/html": [
       "<table>\n",
       "<thead><tr><th scope=col>symboling</th><th scope=col>make</th><th scope=col>fuel.type</th><th scope=col>body.style</th><th scope=col>drive.wheels</th><th scope=col>engine.location</th><th scope=col>width</th><th scope=col>height</th><th scope=col>engine.type</th><th scope=col>engine.size</th><th scope=col>horsepower</th><th scope=col>city.mpg</th><th scope=col>highway.mpg</th><th scope=col>price</th></tr></thead>\n",
       "<tbody>\n",
       "\t<tr><td>3    </td><td>1    </td><td>2    </td><td>1    </td><td>3    </td><td>1    </td><td>64.1 </td><td>48.8 </td><td>1    </td><td>130  </td><td>111  </td><td>21   </td><td>27   </td><td>13495</td></tr>\n",
       "\t<tr><td>3    </td><td>1    </td><td>2    </td><td>1    </td><td>3    </td><td>1    </td><td>64.1 </td><td>48.8 </td><td>1    </td><td>130  </td><td>111  </td><td>21   </td><td>27   </td><td>16500</td></tr>\n",
       "\t<tr><td>1    </td><td>1    </td><td>2    </td><td>3    </td><td>3    </td><td>1    </td><td>65.5 </td><td>52.4 </td><td>6    </td><td>152  </td><td>154  </td><td>19   </td><td>26   </td><td>16500</td></tr>\n",
       "\t<tr><td>2    </td><td>2    </td><td>2    </td><td>4    </td><td>2    </td><td>1    </td><td>66.2 </td><td>54.3 </td><td>4    </td><td>109  </td><td>102  </td><td>24   </td><td>30   </td><td>13950</td></tr>\n",
       "\t<tr><td>2    </td><td>2    </td><td>2    </td><td>4    </td><td>1    </td><td>1    </td><td>66.4 </td><td>54.3 </td><td>4    </td><td>136  </td><td>115  </td><td>18   </td><td>22   </td><td>17450</td></tr>\n",
       "\t<tr><td>2    </td><td>2    </td><td>2    </td><td>4    </td><td>2    </td><td>1    </td><td>66.3 </td><td>53.1 </td><td>4    </td><td>136  </td><td>110  </td><td>19   </td><td>25   </td><td>15250</td></tr>\n",
       "</tbody>\n",
       "</table>\n"
      ],
      "text/latex": [
       "\\begin{tabular}{r|llllllllllllll}\n",
       " symboling & make & fuel.type & body.style & drive.wheels & engine.location & width & height & engine.type & engine.size & horsepower & city.mpg & highway.mpg & price\\\\\n",
       "\\hline\n",
       "\t 3     & 1     & 2     & 1     & 3     & 1     & 64.1  & 48.8  & 1     & 130   & 111   & 21    & 27    & 13495\\\\\n",
       "\t 3     & 1     & 2     & 1     & 3     & 1     & 64.1  & 48.8  & 1     & 130   & 111   & 21    & 27    & 16500\\\\\n",
       "\t 1     & 1     & 2     & 3     & 3     & 1     & 65.5  & 52.4  & 6     & 152   & 154   & 19    & 26    & 16500\\\\\n",
       "\t 2     & 2     & 2     & 4     & 2     & 1     & 66.2  & 54.3  & 4     & 109   & 102   & 24    & 30    & 13950\\\\\n",
       "\t 2     & 2     & 2     & 4     & 1     & 1     & 66.4  & 54.3  & 4     & 136   & 115   & 18    & 22    & 17450\\\\\n",
       "\t 2     & 2     & 2     & 4     & 2     & 1     & 66.3  & 53.1  & 4     & 136   & 110   & 19    & 25    & 15250\\\\\n",
       "\\end{tabular}\n"
      ],
      "text/markdown": [
       "\n",
       "| symboling | make | fuel.type | body.style | drive.wheels | engine.location | width | height | engine.type | engine.size | horsepower | city.mpg | highway.mpg | price |\n",
       "|---|---|---|---|---|---|---|---|---|---|---|---|---|---|\n",
       "| 3     | 1     | 2     | 1     | 3     | 1     | 64.1  | 48.8  | 1     | 130   | 111   | 21    | 27    | 13495 |\n",
       "| 3     | 1     | 2     | 1     | 3     | 1     | 64.1  | 48.8  | 1     | 130   | 111   | 21    | 27    | 16500 |\n",
       "| 1     | 1     | 2     | 3     | 3     | 1     | 65.5  | 52.4  | 6     | 152   | 154   | 19    | 26    | 16500 |\n",
       "| 2     | 2     | 2     | 4     | 2     | 1     | 66.2  | 54.3  | 4     | 109   | 102   | 24    | 30    | 13950 |\n",
       "| 2     | 2     | 2     | 4     | 1     | 1     | 66.4  | 54.3  | 4     | 136   | 115   | 18    | 22    | 17450 |\n",
       "| 2     | 2     | 2     | 4     | 2     | 1     | 66.3  | 53.1  | 4     | 136   | 110   | 19    | 25    | 15250 |\n",
       "\n"
      ],
      "text/plain": [
       "  symboling make fuel.type body.style drive.wheels engine.location width height\n",
       "1 3         1    2         1          3            1               64.1  48.8  \n",
       "2 3         1    2         1          3            1               64.1  48.8  \n",
       "3 1         1    2         3          3            1               65.5  52.4  \n",
       "4 2         2    2         4          2            1               66.2  54.3  \n",
       "5 2         2    2         4          1            1               66.4  54.3  \n",
       "6 2         2    2         4          2            1               66.3  53.1  \n",
       "  engine.type engine.size horsepower city.mpg highway.mpg price\n",
       "1 1           130         111        21       27          13495\n",
       "2 1           130         111        21       27          16500\n",
       "3 6           152         154        19       26          16500\n",
       "4 4           109         102        24       30          13950\n",
       "5 4           136         115        18       22          17450\n",
       "6 4           136         110        19       25          15250"
      ]
     },
     "metadata": {},
     "output_type": "display_data"
    }
   ],
   "source": [
    "head(df)"
   ]
  },
  {
   "cell_type": "markdown",
   "metadata": {},
   "source": [
    "## Scaling data"
   ]
  },
  {
   "cell_type": "code",
   "execution_count": 248,
   "metadata": {},
   "outputs": [],
   "source": [
    "for (col in colnames(df)){\n",
    "    df[col] = scale(df[col])\n",
    "}"
   ]
  },
  {
   "cell_type": "code",
   "execution_count": 249,
   "metadata": {},
   "outputs": [
    {
     "data": {
      "text/html": [
       "<table>\n",
       "<thead><tr><th scope=col>symboling</th><th scope=col>make</th><th scope=col>fuel.type</th><th scope=col>body.style</th><th scope=col>drive.wheels</th><th scope=col>engine.location</th><th scope=col>width</th><th scope=col>height</th><th scope=col>engine.type</th><th scope=col>engine.size</th><th scope=col>horsepower</th><th scope=col>city.mpg</th><th scope=col>highway.mpg</th><th scope=col>price</th></tr></thead>\n",
       "<tbody>\n",
       "\t<tr><td>1.7335862  </td><td>-1.948240  </td><td>0.3288812  </td><td>-3.0353672 </td><td> 1.2055495 </td><td>-0.1218696 </td><td>-0.8426587 </td><td>-2.0164656 </td><td>-2.85116431</td><td> 0.06943889</td><td> 0.16629776</td><td>-0.6398819 </td><td>-0.5389066 </td><td>0.03996687 </td></tr>\n",
       "\t<tr><td>1.7335862  </td><td>-1.948240  </td><td>0.3288812  </td><td>-3.0353672 </td><td> 1.2055495 </td><td>-0.1218696 </td><td>-0.8426587 </td><td>-2.0164656 </td><td>-2.85116431</td><td> 0.06943889</td><td> 0.16629776</td><td>-0.6398819 </td><td>-0.5389066 </td><td>0.42072266 </td></tr>\n",
       "\t<tr><td>0.1297241  </td><td>-1.948240  </td><td>0.3288812  </td><td>-0.7118591 </td><td> 1.2055495 </td><td>-0.1218696 </td><td>-0.1834094 </td><td>-0.5449907 </td><td> 1.87759601</td><td> 0.59751298</td><td> 1.25372034</td><td>-0.9477496 </td><td>-0.6849052 </td><td>0.42072266 </td></tr>\n",
       "\t<tr><td>0.9316552  </td><td>-1.788881  </td><td>0.3288812  </td><td> 0.4498949 </td><td>-0.5895753 </td><td>-0.1218696 </td><td> 0.1462152 </td><td> 0.2316210 </td><td>-0.01390812</td><td>-0.43463183</td><td>-0.06130231</td><td>-0.1780803 </td><td>-0.1009108 </td><td>0.09761875 </td></tr>\n",
       "\t<tr><td>0.9316552  </td><td>-1.788881  </td><td>0.3288812  </td><td> 0.4498949 </td><td>-2.3847001 </td><td>-0.1218696 </td><td> 0.2403936 </td><td> 0.2316210 </td><td>-0.01390812</td><td> 0.21345910</td><td> 0.26745335</td><td>-1.1016834 </td><td>-1.2688997 </td><td>0.54109470 </td></tr>\n",
       "\t<tr><td>0.9316552  </td><td>-1.788881  </td><td>0.3288812  </td><td> 0.4498949 </td><td>-0.5895753 </td><td>-0.1218696 </td><td> 0.1933044 </td><td>-0.2588706 </td><td>-0.01390812</td><td> 0.21345910</td><td> 0.14100887</td><td>-0.9477496 </td><td>-0.8309039 </td><td>0.26233839 </td></tr>\n",
       "</tbody>\n",
       "</table>\n"
      ],
      "text/latex": [
       "\\begin{tabular}{r|llllllllllllll}\n",
       " symboling & make & fuel.type & body.style & drive.wheels & engine.location & width & height & engine.type & engine.size & horsepower & city.mpg & highway.mpg & price\\\\\n",
       "\\hline\n",
       "\t 1.7335862   & -1.948240   & 0.3288812   & -3.0353672  &  1.2055495  & -0.1218696  & -0.8426587  & -2.0164656  & -2.85116431 &  0.06943889 &  0.16629776 & -0.6398819  & -0.5389066  & 0.03996687 \\\\\n",
       "\t 1.7335862   & -1.948240   & 0.3288812   & -3.0353672  &  1.2055495  & -0.1218696  & -0.8426587  & -2.0164656  & -2.85116431 &  0.06943889 &  0.16629776 & -0.6398819  & -0.5389066  & 0.42072266 \\\\\n",
       "\t 0.1297241   & -1.948240   & 0.3288812   & -0.7118591  &  1.2055495  & -0.1218696  & -0.1834094  & -0.5449907  &  1.87759601 &  0.59751298 &  1.25372034 & -0.9477496  & -0.6849052  & 0.42072266 \\\\\n",
       "\t 0.9316552   & -1.788881   & 0.3288812   &  0.4498949  & -0.5895753  & -0.1218696  &  0.1462152  &  0.2316210  & -0.01390812 & -0.43463183 & -0.06130231 & -0.1780803  & -0.1009108  & 0.09761875 \\\\\n",
       "\t 0.9316552   & -1.788881   & 0.3288812   &  0.4498949  & -2.3847001  & -0.1218696  &  0.2403936  &  0.2316210  & -0.01390812 &  0.21345910 &  0.26745335 & -1.1016834  & -1.2688997  & 0.54109470 \\\\\n",
       "\t 0.9316552   & -1.788881   & 0.3288812   &  0.4498949  & -0.5895753  & -0.1218696  &  0.1933044  & -0.2588706  & -0.01390812 &  0.21345910 &  0.14100887 & -0.9477496  & -0.8309039  & 0.26233839 \\\\\n",
       "\\end{tabular}\n"
      ],
      "text/markdown": [
       "\n",
       "| symboling | make | fuel.type | body.style | drive.wheels | engine.location | width | height | engine.type | engine.size | horsepower | city.mpg | highway.mpg | price |\n",
       "|---|---|---|---|---|---|---|---|---|---|---|---|---|---|\n",
       "| 1.7335862   | -1.948240   | 0.3288812   | -3.0353672  |  1.2055495  | -0.1218696  | -0.8426587  | -2.0164656  | -2.85116431 |  0.06943889 |  0.16629776 | -0.6398819  | -0.5389066  | 0.03996687  |\n",
       "| 1.7335862   | -1.948240   | 0.3288812   | -3.0353672  |  1.2055495  | -0.1218696  | -0.8426587  | -2.0164656  | -2.85116431 |  0.06943889 |  0.16629776 | -0.6398819  | -0.5389066  | 0.42072266  |\n",
       "| 0.1297241   | -1.948240   | 0.3288812   | -0.7118591  |  1.2055495  | -0.1218696  | -0.1834094  | -0.5449907  |  1.87759601 |  0.59751298 |  1.25372034 | -0.9477496  | -0.6849052  | 0.42072266  |\n",
       "| 0.9316552   | -1.788881   | 0.3288812   |  0.4498949  | -0.5895753  | -0.1218696  |  0.1462152  |  0.2316210  | -0.01390812 | -0.43463183 | -0.06130231 | -0.1780803  | -0.1009108  | 0.09761875  |\n",
       "| 0.9316552   | -1.788881   | 0.3288812   |  0.4498949  | -2.3847001  | -0.1218696  |  0.2403936  |  0.2316210  | -0.01390812 |  0.21345910 |  0.26745335 | -1.1016834  | -1.2688997  | 0.54109470  |\n",
       "| 0.9316552   | -1.788881   | 0.3288812   |  0.4498949  | -0.5895753  | -0.1218696  |  0.1933044  | -0.2588706  | -0.01390812 |  0.21345910 |  0.14100887 | -0.9477496  | -0.8309039  | 0.26233839  |\n",
       "\n"
      ],
      "text/plain": [
       "  symboling make      fuel.type body.style drive.wheels engine.location\n",
       "1 1.7335862 -1.948240 0.3288812 -3.0353672  1.2055495   -0.1218696     \n",
       "2 1.7335862 -1.948240 0.3288812 -3.0353672  1.2055495   -0.1218696     \n",
       "3 0.1297241 -1.948240 0.3288812 -0.7118591  1.2055495   -0.1218696     \n",
       "4 0.9316552 -1.788881 0.3288812  0.4498949 -0.5895753   -0.1218696     \n",
       "5 0.9316552 -1.788881 0.3288812  0.4498949 -2.3847001   -0.1218696     \n",
       "6 0.9316552 -1.788881 0.3288812  0.4498949 -0.5895753   -0.1218696     \n",
       "  width      height     engine.type engine.size horsepower  city.mpg  \n",
       "1 -0.8426587 -2.0164656 -2.85116431  0.06943889  0.16629776 -0.6398819\n",
       "2 -0.8426587 -2.0164656 -2.85116431  0.06943889  0.16629776 -0.6398819\n",
       "3 -0.1834094 -0.5449907  1.87759601  0.59751298  1.25372034 -0.9477496\n",
       "4  0.1462152  0.2316210 -0.01390812 -0.43463183 -0.06130231 -0.1780803\n",
       "5  0.2403936  0.2316210 -0.01390812  0.21345910  0.26745335 -1.1016834\n",
       "6  0.1933044 -0.2588706 -0.01390812  0.21345910  0.14100887 -0.9477496\n",
       "  highway.mpg price     \n",
       "1 -0.5389066  0.03996687\n",
       "2 -0.5389066  0.42072266\n",
       "3 -0.6849052  0.42072266\n",
       "4 -0.1009108  0.09761875\n",
       "5 -1.2688997  0.54109470\n",
       "6 -0.8309039  0.26233839"
      ]
     },
     "metadata": {},
     "output_type": "display_data"
    }
   ],
   "source": [
    "head(df)"
   ]
  },
  {
   "cell_type": "markdown",
   "metadata": {},
   "source": [
    "## Handling skewness"
   ]
  },
  {
   "cell_type": "code",
   "execution_count": 270,
   "metadata": {},
   "outputs": [],
   "source": [
    "library(e1071)"
   ]
  },
  {
   "cell_type": "code",
   "execution_count": 271,
   "metadata": {},
   "outputs": [],
   "source": [
    "df <- read.csv(\"cars_r.csv\")"
   ]
  },
  {
   "cell_type": "code",
   "execution_count": 272,
   "metadata": {},
   "outputs": [],
   "source": [
    "engine.size.mean <- mean(df$engine.size,na.rm=T)"
   ]
  },
  {
   "cell_type": "code",
   "execution_count": 273,
   "metadata": {},
   "outputs": [],
   "source": [
    "df$engine.size[is.na(df$engine.size)] <- engine.size.mean"
   ]
  },
  {
   "cell_type": "code",
   "execution_count": 274,
   "metadata": {},
   "outputs": [
    {
     "data": {
      "text/html": [
       "1.91838526059164"
      ],
      "text/latex": [
       "1.91838526059164"
      ],
      "text/markdown": [
       "1.91838526059164"
      ],
      "text/plain": [
       "[1] 1.918385"
      ]
     },
     "metadata": {},
     "output_type": "display_data"
    }
   ],
   "source": [
    "skewness(df$engine.size)"
   ]
  },
  {
   "cell_type": "code",
   "execution_count": 277,
   "metadata": {},
   "outputs": [],
   "source": [
    "df$engine.size = sqrt(df$engine.size)\n",
    "#df$engine.size = log(df$engine.size)"
   ]
  },
  {
   "cell_type": "code",
   "execution_count": 278,
   "metadata": {},
   "outputs": [
    {
     "data": {
      "text/html": [
       "1.08524342438275"
      ],
      "text/latex": [
       "1.08524342438275"
      ],
      "text/markdown": [
       "1.08524342438275"
      ],
      "text/plain": [
       "[1] 1.085243"
      ]
     },
     "metadata": {},
     "output_type": "display_data"
    }
   ],
   "source": [
    "skewness(df$engine.size)"
   ]
  }
 ],
 "metadata": {
  "kernelspec": {
   "display_name": "R",
   "language": "R",
   "name": "ir"
  },
  "language_info": {
   "codemirror_mode": "r",
   "file_extension": ".r",
   "mimetype": "text/x-r-source",
   "name": "R",
   "pygments_lexer": "r",
   "version": "3.6.0"
  }
 },
 "nbformat": 4,
 "nbformat_minor": 2
}
