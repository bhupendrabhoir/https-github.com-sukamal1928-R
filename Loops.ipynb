{
 "cells": [
  {
   "cell_type": "markdown",
   "metadata": {},
   "source": [
    "# Loops"
   ]
  },
  {
   "cell_type": "markdown",
   "metadata": {},
   "source": [
    "### While loop"
   ]
  },
  {
   "cell_type": "markdown",
   "metadata": {},
   "source": [
    "Syntax -\n",
    "\n",
    "while ( <b>condition</b> ){\n",
    "\n",
    "    #code\n",
    "    #update condition\n",
    "\n",
    "}\n",
    "\n",
    "if <b>condition</b> is TRUE, <b>code</b> executes in a loop, until condition is \n",
    "updated to <b>FALSE</b>"
   ]
  },
  {
   "cell_type": "code",
   "execution_count": 1,
   "metadata": {},
   "outputs": [
    {
     "name": "stdout",
     "output_type": "stream",
     "text": [
      "[1] \"value of n:  1\"\n",
      "[1] \"value of n:  2\"\n",
      "[1] \"value of n:  3\"\n",
      "[1] \"value of n:  4\"\n",
      "[1] \"value of n:  5\"\n"
     ]
    }
   ],
   "source": [
    "n <- 1\n",
    "\n",
    "while(n <= 5){\n",
    "    \n",
    "    print(paste(\"value of n: \",n))\n",
    "    \n",
    "    n <- n+1\n",
    "}"
   ]
  },
  {
   "cell_type": "code",
   "execution_count": 4,
   "metadata": {},
   "outputs": [
    {
     "name": "stdout",
     "output_type": "stream",
     "text": [
      "[1] 24\n"
     ]
    }
   ],
   "source": [
    "# factorial of number\n",
    "\n",
    "num <- 4\n",
    "\n",
    "fact <- 1\n",
    "\n",
    "while (num >= 1) {\n",
    "    \n",
    "    fact <- fact * num\n",
    "    \n",
    "    num <- num - 1      \n",
    "}\n",
    "\n",
    "print(fact)"
   ]
  },
  {
   "cell_type": "markdown",
   "metadata": {},
   "source": [
    "<hr>\n",
    "\n",
    "#### Break keyword"
   ]
  },
  {
   "cell_type": "code",
   "execution_count": 2,
   "metadata": {},
   "outputs": [
    {
     "name": "stdout",
     "output_type": "stream",
     "text": [
      "[1] \"Value of n:  1\"\n",
      "[1] \"Value of n:  2\"\n"
     ]
    }
   ],
   "source": [
    "n <- 1\n",
    "\n",
    "while(n <= 5){\n",
    "    \n",
    "    if(n == 3){\n",
    "        break\n",
    "    }\n",
    "    \n",
    "    print(paste(\"Value of n: \",n))\n",
    "    \n",
    "    n <- n+1\n",
    "    \n",
    "}"
   ]
  },
  {
   "cell_type": "markdown",
   "metadata": {},
   "source": [
    "<hr>\n",
    "\n",
    "### For loop"
   ]
  },
  {
   "cell_type": "markdown",
   "metadata": {},
   "source": [
    "Syntax -\n",
    "\n",
    "for ( variable_refenece <b>in</b> object ){\n",
    "    \n",
    "    #code\n",
    "}"
   ]
  },
  {
   "cell_type": "code",
   "execution_count": 4,
   "metadata": {},
   "outputs": [],
   "source": [
    "vector <- c(10,20,30,40)"
   ]
  },
  {
   "cell_type": "code",
   "execution_count": 5,
   "metadata": {},
   "outputs": [
    {
     "name": "stdout",
     "output_type": "stream",
     "text": [
      "[1] 10\n",
      "[1] 20\n",
      "[1] 30\n",
      "[1] 40\n"
     ]
    }
   ],
   "source": [
    "for(element in vector){\n",
    "    \n",
    "    print(element)\n",
    "}"
   ]
  },
  {
   "cell_type": "code",
   "execution_count": 6,
   "metadata": {},
   "outputs": [
    {
     "name": "stdout",
     "output_type": "stream",
     "text": [
      "[1] 10\n",
      "[1] 20\n",
      "[1] 30\n",
      "[1] 40\n"
     ]
    }
   ],
   "source": [
    "for(i in 1:length(vector)){\n",
    "    \n",
    "    print(vector[i])\n",
    "    \n",
    "}"
   ]
  },
  {
   "cell_type": "code",
   "execution_count": 18,
   "metadata": {},
   "outputs": [],
   "source": [
    "# iterating matrix\n",
    "\n",
    "mat <- matrix(1:15,nrow=5)"
   ]
  },
  {
   "cell_type": "code",
   "execution_count": 19,
   "metadata": {},
   "outputs": [
    {
     "name": "stdout",
     "output_type": "stream",
     "text": [
      "[1] 1\n",
      "[1] 2\n",
      "[1] 3\n",
      "[1] 4\n",
      "[1] 5\n",
      "[1] 6\n",
      "[1] 7\n",
      "[1] 8\n",
      "[1] 9\n",
      "[1] 10\n",
      "[1] 11\n",
      "[1] 12\n",
      "[1] 13\n",
      "[1] 14\n",
      "[1] 15\n"
     ]
    }
   ],
   "source": [
    "for(element in mat){\n",
    "    \n",
    "    print(element)\n",
    "}"
   ]
  },
  {
   "cell_type": "code",
   "execution_count": 22,
   "metadata": {},
   "outputs": [
    {
     "name": "stdout",
     "output_type": "stream",
     "text": [
      "[1] \"Element at  1 1 => 1\"\n",
      "[1] \"Element at  1 2 => 6\"\n",
      "[1] \"Element at  1 3 => 11\"\n",
      "[1] \"Element at  2 1 => 2\"\n",
      "[1] \"Element at  2 2 => 7\"\n",
      "[1] \"Element at  2 3 => 12\"\n",
      "[1] \"Element at  3 1 => 3\"\n",
      "[1] \"Element at  3 2 => 8\"\n",
      "[1] \"Element at  3 3 => 13\"\n",
      "[1] \"Element at  4 1 => 4\"\n",
      "[1] \"Element at  4 2 => 9\"\n",
      "[1] \"Element at  4 3 => 14\"\n",
      "[1] \"Element at  5 1 => 5\"\n",
      "[1] \"Element at  5 2 => 10\"\n",
      "[1] \"Element at  5 3 => 15\"\n"
     ]
    }
   ],
   "source": [
    "for(r in 1:nrow(mat)){\n",
    "    \n",
    "    for(c in 1:ncol(mat)){\n",
    "        \n",
    "        print(paste(\"Element at \",r,c,\"=>\",mat[r,c]))\n",
    "        \n",
    "    }\n",
    "    \n",
    "}"
   ]
  }
 ],
 "metadata": {
  "kernelspec": {
   "display_name": "R",
   "language": "R",
   "name": "ir"
  },
  "language_info": {
   "codemirror_mode": "r",
   "file_extension": ".r",
   "mimetype": "text/x-r-source",
   "name": "R",
   "pygments_lexer": "r",
   "version": "3.6.0"
  }
 },
 "nbformat": 4,
 "nbformat_minor": 2
}
