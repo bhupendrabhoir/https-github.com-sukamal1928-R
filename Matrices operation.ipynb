{
 "cells": [
  {
   "cell_type": "markdown",
   "metadata": {},
   "source": [
    "# Matrices operation"
   ]
  },
  {
   "cell_type": "markdown",
   "metadata": {},
   "source": [
    "### Arithmetic operation"
   ]
  },
  {
   "cell_type": "code",
   "execution_count": 1,
   "metadata": {},
   "outputs": [],
   "source": [
    "mat1 <- matrix(11:20,nrow=2)"
   ]
  },
  {
   "cell_type": "code",
   "execution_count": 2,
   "metadata": {},
   "outputs": [],
   "source": [
    "mat2 <- matrix(1:10,nrow=2)"
   ]
  },
  {
   "cell_type": "code",
   "execution_count": 3,
   "metadata": {},
   "outputs": [
    {
     "name": "stdout",
     "output_type": "stream",
     "text": [
      "     [,1] [,2] [,3] [,4] [,5]\n",
      "[1,]   11   13   15   17   19\n",
      "[2,]   12   14   16   18   20\n"
     ]
    }
   ],
   "source": [
    "print(mat1)"
   ]
  },
  {
   "cell_type": "code",
   "execution_count": 4,
   "metadata": {},
   "outputs": [
    {
     "name": "stdout",
     "output_type": "stream",
     "text": [
      "     [,1] [,2] [,3] [,4] [,5]\n",
      "[1,]    1    3    5    7    9\n",
      "[2,]    2    4    6    8   10\n"
     ]
    }
   ],
   "source": [
    "print(mat2)"
   ]
  },
  {
   "cell_type": "code",
   "execution_count": 5,
   "metadata": {},
   "outputs": [
    {
     "name": "stdout",
     "output_type": "stream",
     "text": [
      "     [,1] [,2] [,3] [,4] [,5]\n",
      "[1,]   12   16   20   24   28\n",
      "[2,]   14   18   22   26   30\n"
     ]
    }
   ],
   "source": [
    "# operation\n",
    "\n",
    "print(mat1 + mat2)"
   ]
  },
  {
   "cell_type": "code",
   "execution_count": 6,
   "metadata": {},
   "outputs": [
    {
     "name": "stdout",
     "output_type": "stream",
     "text": [
      "     [,1] [,2] [,3] [,4] [,5]\n",
      "[1,]   11   39   75  119  171\n",
      "[2,]   24   56   96  144  200\n"
     ]
    }
   ],
   "source": [
    "print(mat1 * mat2)"
   ]
  },
  {
   "cell_type": "markdown",
   "metadata": {},
   "source": [
    "<p> The above matrix multiplication is a simple arithmetic multiplication</p>\n",
    "\n",
    "<p> For the actual matrix multiplication use <b>%*%</b> operator </p>"
   ]
  },
  {
   "cell_type": "code",
   "execution_count": 7,
   "metadata": {},
   "outputs": [],
   "source": [
    "mat3 <- matrix(2:5,nrow=2)"
   ]
  },
  {
   "cell_type": "code",
   "execution_count": 8,
   "metadata": {},
   "outputs": [],
   "source": [
    "mat4 <- matrix(6:9,nrow=2)"
   ]
  },
  {
   "cell_type": "code",
   "execution_count": 9,
   "metadata": {},
   "outputs": [
    {
     "name": "stdout",
     "output_type": "stream",
     "text": [
      "     [,1] [,2]\n",
      "[1,]    2    4\n",
      "[2,]    3    5\n"
     ]
    }
   ],
   "source": [
    "print(mat3)"
   ]
  },
  {
   "cell_type": "code",
   "execution_count": 10,
   "metadata": {},
   "outputs": [
    {
     "name": "stdout",
     "output_type": "stream",
     "text": [
      "     [,1] [,2]\n",
      "[1,]    6    8\n",
      "[2,]    7    9\n"
     ]
    }
   ],
   "source": [
    "print(mat4)"
   ]
  },
  {
   "cell_type": "code",
   "execution_count": 11,
   "metadata": {},
   "outputs": [
    {
     "name": "stdout",
     "output_type": "stream",
     "text": [
      "     [,1] [,2]\n",
      "[1,]   40   52\n",
      "[2,]   53   69\n"
     ]
    }
   ],
   "source": [
    "print(mat3 %*% mat4)"
   ]
  },
  {
   "cell_type": "markdown",
   "metadata": {},
   "source": [
    "<hr>\n",
    "<p> Matrix and scalar operation </p>"
   ]
  },
  {
   "cell_type": "code",
   "execution_count": 12,
   "metadata": {},
   "outputs": [
    {
     "name": "stdout",
     "output_type": "stream",
     "text": [
      "     [,1] [,2] [,3] [,4] [,5]\n",
      "[1,]   44   52   60   68   76\n",
      "[2,]   48   56   64   72   80\n"
     ]
    }
   ],
   "source": [
    "print(mat1 * 4)"
   ]
  },
  {
   "cell_type": "code",
   "execution_count": 13,
   "metadata": {},
   "outputs": [
    {
     "name": "stdout",
     "output_type": "stream",
     "text": [
      "     [,1] [,2] [,3] [,4] [,5]\n",
      "[1,]  121  169  225  289  361\n",
      "[2,]  144  196  256  324  400\n"
     ]
    }
   ],
   "source": [
    "print(mat1 ^ 2)"
   ]
  },
  {
   "cell_type": "code",
   "execution_count": 14,
   "metadata": {},
   "outputs": [
    {
     "name": "stdout",
     "output_type": "stream",
     "text": [
      "           [,1]       [,2]       [,3]       [,4]       [,5]\n",
      "[1,] 0.09090909 0.07692308 0.06666667 0.05882353 0.05263158\n",
      "[2,] 0.08333333 0.07142857 0.06250000 0.05555556 0.05000000\n"
     ]
    }
   ],
   "source": [
    "print(1 / mat1)"
   ]
  },
  {
   "cell_type": "markdown",
   "metadata": {},
   "source": [
    "### Comparison operation"
   ]
  },
  {
   "cell_type": "code",
   "execution_count": 15,
   "metadata": {},
   "outputs": [
    {
     "name": "stdout",
     "output_type": "stream",
     "text": [
      "     [,1] [,2] [,3] [,4] [,5]\n",
      "[1,] TRUE TRUE TRUE TRUE TRUE\n",
      "[2,] TRUE TRUE TRUE TRUE TRUE\n"
     ]
    }
   ],
   "source": [
    "print(mat1 > mat2)"
   ]
  },
  {
   "cell_type": "code",
   "execution_count": 16,
   "metadata": {},
   "outputs": [
    {
     "name": "stdout",
     "output_type": "stream",
     "text": [
      "      [,1]  [,2]  [,3]  [,4]  [,5]\n",
      "[1,] FALSE FALSE FALSE FALSE FALSE\n",
      "[2,] FALSE FALSE FALSE FALSE FALSE\n"
     ]
    }
   ],
   "source": [
    "# With Scalar \n",
    "print(mat1 < 4)"
   ]
  },
  {
   "cell_type": "markdown",
   "metadata": {},
   "source": [
    "### Matrices functions"
   ]
  },
  {
   "cell_type": "code",
   "execution_count": 17,
   "metadata": {},
   "outputs": [],
   "source": [
    "mat <- matrix(15:20,nrow=2)"
   ]
  },
  {
   "cell_type": "code",
   "execution_count": 18,
   "metadata": {},
   "outputs": [
    {
     "name": "stdout",
     "output_type": "stream",
     "text": [
      "     [,1] [,2] [,3]\n",
      "[1,]   15   17   19\n",
      "[2,]   16   18   20\n"
     ]
    }
   ],
   "source": [
    "print(mat)"
   ]
  },
  {
   "cell_type": "code",
   "execution_count": 19,
   "metadata": {},
   "outputs": [],
   "source": [
    "rownames(mat) <- c('Jack','John')"
   ]
  },
  {
   "cell_type": "code",
   "execution_count": 20,
   "metadata": {},
   "outputs": [],
   "source": [
    "colnames(mat) <- c('Math','Science','English')"
   ]
  },
  {
   "cell_type": "code",
   "execution_count": 21,
   "metadata": {},
   "outputs": [
    {
     "name": "stdout",
     "output_type": "stream",
     "text": [
      "     Math Science English\n",
      "Jack   15      17      19\n",
      "John   16      18      20\n"
     ]
    }
   ],
   "source": [
    "print(mat)"
   ]
  },
  {
   "cell_type": "markdown",
   "metadata": {},
   "source": [
    "<hr>\n",
    "<b> rowSums() </b>"
   ]
  },
  {
   "cell_type": "code",
   "execution_count": 22,
   "metadata": {},
   "outputs": [
    {
     "data": {
      "text/html": [
       "<dl class=dl-horizontal>\n",
       "\t<dt>Jack</dt>\n",
       "\t\t<dd>51</dd>\n",
       "\t<dt>John</dt>\n",
       "\t\t<dd>54</dd>\n",
       "</dl>\n"
      ],
      "text/latex": [
       "\\begin{description*}\n",
       "\\item[Jack] 51\n",
       "\\item[John] 54\n",
       "\\end{description*}\n"
      ],
      "text/markdown": [
       "Jack\n",
       ":   51John\n",
       ":   54\n",
       "\n"
      ],
      "text/plain": [
       "Jack John \n",
       "  51   54 "
      ]
     },
     "metadata": {},
     "output_type": "display_data"
    }
   ],
   "source": [
    "rowSums(mat)"
   ]
  },
  {
   "cell_type": "markdown",
   "metadata": {},
   "source": [
    "<b>colSums()</b>"
   ]
  },
  {
   "cell_type": "code",
   "execution_count": 23,
   "metadata": {},
   "outputs": [
    {
     "data": {
      "text/html": [
       "<dl class=dl-horizontal>\n",
       "\t<dt>Math</dt>\n",
       "\t\t<dd>31</dd>\n",
       "\t<dt>Science</dt>\n",
       "\t\t<dd>35</dd>\n",
       "\t<dt>English</dt>\n",
       "\t\t<dd>39</dd>\n",
       "</dl>\n"
      ],
      "text/latex": [
       "\\begin{description*}\n",
       "\\item[Math] 31\n",
       "\\item[Science] 35\n",
       "\\item[English] 39\n",
       "\\end{description*}\n"
      ],
      "text/markdown": [
       "Math\n",
       ":   31Science\n",
       ":   35English\n",
       ":   39\n",
       "\n"
      ],
      "text/plain": [
       "   Math Science English \n",
       "     31      35      39 "
      ]
     },
     "metadata": {},
     "output_type": "display_data"
    }
   ],
   "source": [
    "colSums(mat)"
   ]
  },
  {
   "cell_type": "markdown",
   "metadata": {},
   "source": [
    "<b>rowMeans()</b>"
   ]
  },
  {
   "cell_type": "code",
   "execution_count": 24,
   "metadata": {},
   "outputs": [
    {
     "data": {
      "text/html": [
       "<dl class=dl-horizontal>\n",
       "\t<dt>Jack</dt>\n",
       "\t\t<dd>17</dd>\n",
       "\t<dt>John</dt>\n",
       "\t\t<dd>18</dd>\n",
       "</dl>\n"
      ],
      "text/latex": [
       "\\begin{description*}\n",
       "\\item[Jack] 17\n",
       "\\item[John] 18\n",
       "\\end{description*}\n"
      ],
      "text/markdown": [
       "Jack\n",
       ":   17John\n",
       ":   18\n",
       "\n"
      ],
      "text/plain": [
       "Jack John \n",
       "  17   18 "
      ]
     },
     "metadata": {},
     "output_type": "display_data"
    }
   ],
   "source": [
    "rowMeans(mat)"
   ]
  },
  {
   "cell_type": "markdown",
   "metadata": {},
   "source": [
    "<b>colMeans()</b>"
   ]
  },
  {
   "cell_type": "code",
   "execution_count": 25,
   "metadata": {},
   "outputs": [
    {
     "data": {
      "text/html": [
       "<dl class=dl-horizontal>\n",
       "\t<dt>Math</dt>\n",
       "\t\t<dd>15.5</dd>\n",
       "\t<dt>Science</dt>\n",
       "\t\t<dd>17.5</dd>\n",
       "\t<dt>English</dt>\n",
       "\t\t<dd>19.5</dd>\n",
       "</dl>\n"
      ],
      "text/latex": [
       "\\begin{description*}\n",
       "\\item[Math] 15.5\n",
       "\\item[Science] 17.5\n",
       "\\item[English] 19.5\n",
       "\\end{description*}\n"
      ],
      "text/markdown": [
       "Math\n",
       ":   15.5Science\n",
       ":   17.5English\n",
       ":   19.5\n",
       "\n"
      ],
      "text/plain": [
       "   Math Science English \n",
       "   15.5    17.5    19.5 "
      ]
     },
     "metadata": {},
     "output_type": "display_data"
    }
   ],
   "source": [
    "colMeans(mat)"
   ]
  },
  {
   "cell_type": "markdown",
   "metadata": {},
   "source": [
    "<b>rbind()</b>"
   ]
  },
  {
   "cell_type": "markdown",
   "metadata": {},
   "source": [
    "<p><b>rbind()</b> function is used to bind a new row</p> "
   ]
  },
  {
   "cell_type": "code",
   "execution_count": 26,
   "metadata": {},
   "outputs": [],
   "source": [
    "Jill <- c(21,22,23)"
   ]
  },
  {
   "cell_type": "code",
   "execution_count": 27,
   "metadata": {},
   "outputs": [],
   "source": [
    "mat <- rbind(mat,Jill)"
   ]
  },
  {
   "cell_type": "code",
   "execution_count": 28,
   "metadata": {},
   "outputs": [
    {
     "name": "stdout",
     "output_type": "stream",
     "text": [
      "     Math Science English\n",
      "Jack   15      17      19\n",
      "John   16      18      20\n",
      "Jill   21      22      23\n"
     ]
    }
   ],
   "source": [
    "print(mat)"
   ]
  },
  {
   "cell_type": "markdown",
   "metadata": {},
   "source": [
    "<b>cbind()</b>"
   ]
  },
  {
   "cell_type": "markdown",
   "metadata": {},
   "source": [
    "<p><b>cbind()</b> function is used to bind a new column</p> "
   ]
  },
  {
   "cell_type": "code",
   "execution_count": 29,
   "metadata": {},
   "outputs": [],
   "source": [
    "avg <- rowMeans(mat)"
   ]
  },
  {
   "cell_type": "code",
   "execution_count": 30,
   "metadata": {},
   "outputs": [],
   "source": [
    "mat <- cbind(mat,avg)"
   ]
  },
  {
   "cell_type": "code",
   "execution_count": 31,
   "metadata": {},
   "outputs": [
    {
     "name": "stdout",
     "output_type": "stream",
     "text": [
      "     Math Science English avg\n",
      "Jack   15      17      19  17\n",
      "John   16      18      20  18\n",
      "Jill   21      22      23  22\n"
     ]
    }
   ],
   "source": [
    "print(mat)"
   ]
  },
  {
   "cell_type": "markdown",
   "metadata": {},
   "source": [
    "### Indexing and Slicing"
   ]
  },
  {
   "cell_type": "code",
   "execution_count": 32,
   "metadata": {},
   "outputs": [],
   "source": [
    "mat <- matrix(1:50,byrow=TRUE,ncol=5)"
   ]
  },
  {
   "cell_type": "code",
   "execution_count": 33,
   "metadata": {},
   "outputs": [
    {
     "name": "stdout",
     "output_type": "stream",
     "text": [
      "      [,1] [,2] [,3] [,4] [,5]\n",
      " [1,]    1    2    3    4    5\n",
      " [2,]    6    7    8    9   10\n",
      " [3,]   11   12   13   14   15\n",
      " [4,]   16   17   18   19   20\n",
      " [5,]   21   22   23   24   25\n",
      " [6,]   26   27   28   29   30\n",
      " [7,]   31   32   33   34   35\n",
      " [8,]   36   37   38   39   40\n",
      " [9,]   41   42   43   44   45\n",
      "[10,]   46   47   48   49   50\n"
     ]
    }
   ],
   "source": [
    "print(mat)"
   ]
  },
  {
   "cell_type": "code",
   "execution_count": 34,
   "metadata": {},
   "outputs": [
    {
     "data": {
      "text/html": [
       "9"
      ],
      "text/latex": [
       "9"
      ],
      "text/markdown": [
       "9"
      ],
      "text/plain": [
       "[1] 9"
      ]
     },
     "metadata": {},
     "output_type": "display_data"
    }
   ],
   "source": [
    "# Indexing\n",
    "# mat[row,col]\n",
    "\n",
    "mat[2,4]"
   ]
  },
  {
   "cell_type": "code",
   "execution_count": 35,
   "metadata": {},
   "outputs": [
    {
     "data": {
      "text/html": [
       "<ol class=list-inline>\n",
       "\t<li>1</li>\n",
       "\t<li>2</li>\n",
       "\t<li>3</li>\n",
       "\t<li>4</li>\n",
       "\t<li>5</li>\n",
       "</ol>\n"
      ],
      "text/latex": [
       "\\begin{enumerate*}\n",
       "\\item 1\n",
       "\\item 2\n",
       "\\item 3\n",
       "\\item 4\n",
       "\\item 5\n",
       "\\end{enumerate*}\n"
      ],
      "text/markdown": [
       "1. 1\n",
       "2. 2\n",
       "3. 3\n",
       "4. 4\n",
       "5. 5\n",
       "\n",
       "\n"
      ],
      "text/plain": [
       "[1] 1 2 3 4 5"
      ]
     },
     "metadata": {},
     "output_type": "display_data"
    }
   ],
   "source": [
    "mat[1,]"
   ]
  },
  {
   "cell_type": "code",
   "execution_count": 44,
   "metadata": {},
   "outputs": [
    {
     "data": {
      "text/html": [
       "<ol class=list-inline>\n",
       "\t<li>4</li>\n",
       "\t<li>9</li>\n",
       "\t<li>14</li>\n",
       "\t<li>19</li>\n",
       "\t<li>24</li>\n",
       "\t<li>29</li>\n",
       "\t<li>34</li>\n",
       "\t<li>39</li>\n",
       "\t<li>44</li>\n",
       "\t<li>49</li>\n",
       "</ol>\n"
      ],
      "text/latex": [
       "\\begin{enumerate*}\n",
       "\\item 4\n",
       "\\item 9\n",
       "\\item 14\n",
       "\\item 19\n",
       "\\item 24\n",
       "\\item 29\n",
       "\\item 34\n",
       "\\item 39\n",
       "\\item 44\n",
       "\\item 49\n",
       "\\end{enumerate*}\n"
      ],
      "text/markdown": [
       "1. 4\n",
       "2. 9\n",
       "3. 14\n",
       "4. 19\n",
       "5. 24\n",
       "6. 29\n",
       "7. 34\n",
       "8. 39\n",
       "9. 44\n",
       "10. 49\n",
       "\n",
       "\n"
      ],
      "text/plain": [
       " [1]  4  9 14 19 24 29 34 39 44 49"
      ]
     },
     "metadata": {},
     "output_type": "display_data"
    }
   ],
   "source": [
    "mat[,4]"
   ]
  },
  {
   "cell_type": "code",
   "execution_count": 45,
   "metadata": {},
   "outputs": [
    {
     "data": {
      "text/html": [
       "<table>\n",
       "<tbody>\n",
       "\t<tr><td> 2</td><td> 3</td></tr>\n",
       "\t<tr><td>17</td><td>18</td></tr>\n",
       "</tbody>\n",
       "</table>\n"
      ],
      "text/latex": [
       "\\begin{tabular}{ll}\n",
       "\t  2 &  3\\\\\n",
       "\t 17 & 18\\\\\n",
       "\\end{tabular}\n"
      ],
      "text/markdown": [
       "\n",
       "|  2 |  3 |\n",
       "| 17 | 18 |\n",
       "\n"
      ],
      "text/plain": [
       "     [,1] [,2]\n",
       "[1,]  2    3  \n",
       "[2,] 17   18  "
      ]
     },
     "metadata": {},
     "output_type": "display_data"
    }
   ],
   "source": [
    "mat[c(1,4),c(2,3)]"
   ]
  },
  {
   "cell_type": "code",
   "execution_count": 37,
   "metadata": {},
   "outputs": [
    {
     "name": "stdout",
     "output_type": "stream",
     "text": [
      "     [,1] [,2] [,3]\n",
      "[1,]    2    3    4\n",
      "[2,]    7    8    9\n"
     ]
    }
   ],
   "source": [
    "#Slicing\n",
    "\n",
    "print(mat[1:2,2:4])"
   ]
  },
  {
   "cell_type": "code",
   "execution_count": 38,
   "metadata": {},
   "outputs": [
    {
     "name": "stdout",
     "output_type": "stream",
     "text": [
      "[1] 2 7\n"
     ]
    }
   ],
   "source": [
    "print(mat[1:2,2])"
   ]
  },
  {
   "cell_type": "code",
   "execution_count": 39,
   "metadata": {},
   "outputs": [
    {
     "name": "stdout",
     "output_type": "stream",
     "text": [
      "[1] 7 8 9\n"
     ]
    }
   ],
   "source": [
    "print(mat[2,2:4])"
   ]
  },
  {
   "cell_type": "code",
   "execution_count": 42,
   "metadata": {},
   "outputs": [
    {
     "data": {
      "text/html": [
       "<ol class=list-inline>\n",
       "\t<li>6</li>\n",
       "\t<li>16</li>\n",
       "\t<li>26</li>\n",
       "\t<li>36</li>\n",
       "\t<li>46</li>\n",
       "\t<li>2</li>\n",
       "\t<li>12</li>\n",
       "\t<li>22</li>\n",
       "\t<li>32</li>\n",
       "\t<li>42</li>\n",
       "\t<li>8</li>\n",
       "\t<li>18</li>\n",
       "\t<li>28</li>\n",
       "\t<li>38</li>\n",
       "\t<li>48</li>\n",
       "\t<li>4</li>\n",
       "\t<li>14</li>\n",
       "\t<li>24</li>\n",
       "\t<li>34</li>\n",
       "\t<li>44</li>\n",
       "\t<li>10</li>\n",
       "\t<li>20</li>\n",
       "\t<li>30</li>\n",
       "\t<li>40</li>\n",
       "\t<li>50</li>\n",
       "</ol>\n"
      ],
      "text/latex": [
       "\\begin{enumerate*}\n",
       "\\item 6\n",
       "\\item 16\n",
       "\\item 26\n",
       "\\item 36\n",
       "\\item 46\n",
       "\\item 2\n",
       "\\item 12\n",
       "\\item 22\n",
       "\\item 32\n",
       "\\item 42\n",
       "\\item 8\n",
       "\\item 18\n",
       "\\item 28\n",
       "\\item 38\n",
       "\\item 48\n",
       "\\item 4\n",
       "\\item 14\n",
       "\\item 24\n",
       "\\item 34\n",
       "\\item 44\n",
       "\\item 10\n",
       "\\item 20\n",
       "\\item 30\n",
       "\\item 40\n",
       "\\item 50\n",
       "\\end{enumerate*}\n"
      ],
      "text/markdown": [
       "1. 6\n",
       "2. 16\n",
       "3. 26\n",
       "4. 36\n",
       "5. 46\n",
       "6. 2\n",
       "7. 12\n",
       "8. 22\n",
       "9. 32\n",
       "10. 42\n",
       "11. 8\n",
       "12. 18\n",
       "13. 28\n",
       "14. 38\n",
       "15. 48\n",
       "16. 4\n",
       "17. 14\n",
       "18. 24\n",
       "19. 34\n",
       "20. 44\n",
       "21. 10\n",
       "22. 20\n",
       "23. 30\n",
       "24. 40\n",
       "25. 50\n",
       "\n",
       "\n"
      ],
      "text/plain": [
       " [1]  6 16 26 36 46  2 12 22 32 42  8 18 28 38 48  4 14 24 34 44 10 20 30 40 50"
      ]
     },
     "metadata": {},
     "output_type": "display_data"
    }
   ],
   "source": [
    "# Conditional selection\n",
    "\n",
    "mat[mat%%2==0]"
   ]
  }
 ],
 "metadata": {
  "kernelspec": {
   "display_name": "R",
   "language": "R",
   "name": "ir"
  },
  "language_info": {
   "codemirror_mode": "r",
   "file_extension": ".r",
   "mimetype": "text/x-r-source",
   "name": "R",
   "pygments_lexer": "r",
   "version": "3.6.0"
  }
 },
 "nbformat": 4,
 "nbformat_minor": 2
}
